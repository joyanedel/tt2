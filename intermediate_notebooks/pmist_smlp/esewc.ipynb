{
 "cells": [
  {
   "cell_type": "markdown",
   "metadata": {},
   "source": [
    "# Proposal 4"
   ]
  },
  {
   "cell_type": "markdown",
   "metadata": {},
   "source": [
    "$$\n",
    "REWRTIE\n",
    "$$"
   ]
  },
  {
   "cell_type": "code",
   "execution_count": null,
   "metadata": {},
   "outputs": [],
   "source": [
    "%load_ext autoreload\n",
    "%autoreload 2"
   ]
  },
  {
   "cell_type": "markdown",
   "metadata": {},
   "source": [
    "# Libraries"
   ]
  },
  {
   "cell_type": "code",
   "execution_count": null,
   "metadata": {},
   "outputs": [],
   "source": [
    "import pickle\n",
    "import pandas as pd\n",
    "import plotly.express as px\n",
    "from tqdm import tqdm"
   ]
  },
  {
   "cell_type": "code",
   "execution_count": null,
   "metadata": {},
   "outputs": [],
   "source": [
    "from avalanche.benchmarks.classic import PermutedMNIST\n",
    "from avalanche.models import SimpleMLP\n",
    "from avalanche.training.plugins import EvaluationPlugin\n",
    "from avalanche.logging import InteractiveLogger\n",
    "from avalanche.evaluation.metrics import (\n",
    "    accuracy_metrics,\n",
    "    bwt_metrics,\n",
    "    confusion_matrix_metrics,\n",
    "    forgetting_metrics,\n",
    "    timing_metrics,\n",
    "    cpu_usage_metrics,\n",
    "    gpu_usage_metrics,\n",
    "    disk_usage_metrics,\n",
    "    ram_usage_metrics,\n",
    "    loss_metrics,\n",
    "    class_accuracy_metrics,\n",
    "    accuracy_matrix_metrics\n",
    ")\n",
    "\n",
    "from torch.nn import CrossEntropyLoss\n",
    "from torch.optim import SGD"
   ]
  },
  {
   "cell_type": "markdown",
   "metadata": {},
   "source": [
    "## Custom Libraries"
   ]
  },
  {
   "cell_type": "code",
   "execution_count": null,
   "metadata": {},
   "outputs": [],
   "source": [
    "import sys\n",
    "\n",
    "sys.path.append(\"../base_code/\")\n",
    "\n",
    "from base_code.constants import DATASETS_PATH, SAVED_METRICS_PATH\n",
    "from base_code.training import ESEWC\n",
    "from base_code.plugins import WeightStoragePlugin"
   ]
  },
  {
   "cell_type": "markdown",
   "metadata": {},
   "source": [
    "# Device"
   ]
  },
  {
   "cell_type": "code",
   "execution_count": null,
   "metadata": {},
   "outputs": [],
   "source": [
    "from torch import cuda\n",
    "device = \"cuda\" if cuda.is_available() else \"cpu\""
   ]
  },
  {
   "cell_type": "markdown",
   "metadata": {},
   "source": [
    "# Dataset and definitions"
   ]
  },
  {
   "cell_type": "markdown",
   "metadata": {},
   "source": [
    "## Dataset loading\n",
    "\n",
    "We load state-of-the-art dataset Modified NIST"
   ]
  },
  {
   "cell_type": "code",
   "execution_count": null,
   "metadata": {},
   "outputs": [],
   "source": [
    "scenario = PermutedMNIST(10, seed=1234, dataset_root=DATASETS_PATH)"
   ]
  },
  {
   "cell_type": "markdown",
   "metadata": {},
   "source": [
    "## Scenario creation with train test streaming\n",
    "\n",
    "In this point, we define our scenario considering a training where in every experience of it, a new class is presented. This is, first we train with a class $a$, the following experience we train with class $b$ ($a \\neq b$)"
   ]
  },
  {
   "cell_type": "code",
   "execution_count": null,
   "metadata": {},
   "outputs": [],
   "source": [
    "train_stream = scenario.train_stream\n",
    "test_stream = scenario.test_stream"
   ]
  },
  {
   "cell_type": "markdown",
   "metadata": {},
   "source": [
    "## Evaluation metrics definition"
   ]
  },
  {
   "cell_type": "code",
   "execution_count": null,
   "metadata": {},
   "outputs": [],
   "source": [
    "eval_plugin = EvaluationPlugin(\n",
    "    accuracy_metrics(experience=True, stream=True),\n",
    "    forgetting_metrics(experience=True, stream=True),\n",
    "    bwt_metrics(experience=True, stream=True),\n",
    "    \n",
    "    loggers=[InteractiveLogger()]\n",
    ")"
   ]
  },
  {
   "cell_type": "markdown",
   "metadata": {},
   "source": [
    "## Plugin defitinitions"
   ]
  },
  {
   "cell_type": "code",
   "execution_count": null,
   "metadata": {},
   "outputs": [],
   "source": [
    "# model_plugins = [WeightStoragePlugin()]"
   ]
  },
  {
   "cell_type": "markdown",
   "metadata": {},
   "source": [
    "## Model, Optimizer, Loss function and Strategy definition\n",
    "\n",
    "* `model`: Multi Layer Perceptron\n",
    "* `Optimizer`: Adam\n",
    "* `Loss function`: Cross Entropy\n",
    "* `Strategy`: Elastic Weight Consolidation"
   ]
  },
  {
   "cell_type": "code",
   "execution_count": null,
   "metadata": {},
   "outputs": [],
   "source": [
    "model = SimpleMLP(num_classes=scenario.n_classes, input_size=28 * 28, hidden_layers=2, hidden_size=100).to(device)\n",
    "optimizer = SGD(model.parameters(), lr=1e-3)\n",
    "criterion = CrossEntropyLoss().to(device)\n",
    "strategy = ESEWC(\n",
    "    model,\n",
    "    optimizer,\n",
    "    criterion,\n",
    "    ewc_lambda=0.5,\n",
    "    train_epochs=1,\n",
    "    train_mb_size=128,\n",
    "    # plugins=model_plugins,\n",
    "    evaluator=eval_plugin,\n",
    "    eval_mb_size=128,\n",
    "    device=device,\n",
    "    model_arch={\n",
    "        \"num_classes\": scenario.n_classes,\n",
    "        \"input_size\": 28 * 28,\n",
    "        \"hidden_layers\": 2,\n",
    "        \"hidden_size\": 100\n",
    "    }\n",
    ")"
   ]
  },
  {
   "cell_type": "markdown",
   "metadata": {},
   "source": [
    "# Training and evaluation\n",
    "\n",
    "Revisar porque el entrenamiento se está comportando de forma rara"
   ]
  },
  {
   "cell_type": "code",
   "execution_count": null,
   "metadata": {},
   "outputs": [],
   "source": [
    "for experience in tqdm(train_stream):\n",
    "    strategy.train(experience)\n",
    "    strategy.eval(test_stream)"
   ]
  },
  {
   "cell_type": "markdown",
   "metadata": {},
   "source": [
    "# Get metrics"
   ]
  },
  {
   "cell_type": "code",
   "execution_count": null,
   "metadata": {},
   "outputs": [],
   "source": [
    "accuracies: dict[int, list[float]] = dict()\n",
    "forgettings: dict[int, list[float]] = dict()\n",
    "bwt: dict[int, list[float]] = dict()\n",
    "class_accuracies: dict[int, list[float]] = dict()\n",
    "losses: dict[int, list[float]] = dict()\n",
    "\n",
    "for i in range(10):\n",
    "    accuracies[f\"Task{i}\"] = eval_plugin.get_all_metrics()[\n",
    "        f\"Top1_Acc_Exp/eval_phase/test_stream/Task000/Exp00{i}\"\n",
    "    ][1]\n",
    "    forgettings[f\"Task{i}\"] = eval_plugin.get_all_metrics()[\n",
    "        f\"ExperienceForgetting/eval_phase/test_stream/Task000/Exp00{i}\"\n",
    "    ][1]\n",
    "    bwt[f\"Task{i}\"] = eval_plugin.get_all_metrics()[\n",
    "        f\"ExperienceBWT/eval_phase/test_stream/Task000/Exp00{i}\"\n",
    "    ][1]\n",
    "    # class_accuracies[f\"Task{i}\"] = eval_plugin.get_all_metrics()[\n",
    "    #     f\"Top1_ClassAcc_Stream/eval_phase/test_stream/Task000/{i}\"\n",
    "    # ][1]\n",
    "    # losses[f\"Task{i}\"] = eval_plugin.get_all_metrics()[\n",
    "    #     f\"Loss_Exp/eval_phase/test_stream/Task000/Exp00{i}\"\n",
    "    # ][1]\n",
    "        \n",
    "\n",
    "accuracies[\"Overall\"] = eval_plugin.get_all_metrics()[\n",
    "    \"Top1_Acc_Stream/eval_phase/test_stream/Task000\"\n",
    "][1]"
   ]
  },
  {
   "cell_type": "code",
   "execution_count": null,
   "metadata": {},
   "outputs": [],
   "source": [
    "# train_cpu_usage = eval_plugin.get_all_metrics()[\"CPUUsage_MB/train_phase/train_stream/Task000\"][1]\n",
    "# train_time_epoch = eval_plugin.get_all_metrics()[\"Time_Epoch/train_phase/train_stream/Task000\"][1]\n",
    "# train_running_time = eval_plugin.get_all_metrics()[\"RunningTime_Epoch/train_phase/train_stream/Task000\"][1]\n",
    "# train_loss_epoch = eval_plugin.get_all_metrics()[\"Loss_MB/train_phase/train_stream/Task000\"][1]"
   ]
  },
  {
   "cell_type": "code",
   "execution_count": null,
   "metadata": {},
   "outputs": [],
   "source": [
    "# all_loss_components = strategy.get_store_loss()"
   ]
  },
  {
   "cell_type": "code",
   "execution_count": null,
   "metadata": {},
   "outputs": [],
   "source": [
    "#weights = model_plugins[0].weights"
   ]
  },
  {
   "cell_type": "markdown",
   "metadata": {},
   "source": [
    "# Store metrics"
   ]
  },
  {
   "cell_type": "code",
   "execution_count": null,
   "metadata": {},
   "outputs": [],
   "source": [
    "pickle.dump({\n",
    "    \"accuracies\": accuracies,\n",
    "    \"forgettings\": forgettings,\n",
    "    \"bwt\": bwt,\n",
    "    # \"class_accuracies\": class_accuracies,\n",
    "    # \"losses\": losses,\n",
    "    # \"train_cpu_usage\": train_cpu_usage,\n",
    "    # \"train_time_epoch\": train_time_epoch,\n",
    "    # \"train_running_time\": train_running_time,\n",
    "    # \"train_loss_epoch\": train_loss_epoch,\n",
    "    # \"all_loss_components\": all_loss_components,\n",
    "    # \"weights\": weights\n",
    "}, open(SAVED_METRICS_PATH / \"cewc_v1.pkl\", \"wb\"))"
   ]
  },
  {
   "cell_type": "markdown",
   "metadata": {},
   "source": [
    "# Load"
   ]
  },
  {
   "cell_type": "code",
   "execution_count": null,
   "metadata": {},
   "outputs": [],
   "source": [
    "metrics = pickle.load(open(SAVED_METRICS_PATH / \"cewc_v1.pkl\", \"rb\"))"
   ]
  },
  {
   "cell_type": "markdown",
   "metadata": {},
   "source": [
    "# Plot metrics"
   ]
  },
  {
   "cell_type": "markdown",
   "metadata": {},
   "source": [
    "## Accuracy"
   ]
  },
  {
   "cell_type": "code",
   "execution_count": null,
   "metadata": {},
   "outputs": [],
   "source": [
    "fig = px.line(\n",
    "    pd.DataFrame(metrics[\"accuracies\"], index=range(1, len(metrics[\"accuracies\"][\"Overall\"]) + 1)),\n",
    "    title=\"Accuracy vs Experience\",\n",
    "    labels=dict(index=\"Experience\", value=\"Accuracy\"),\n",
    "    width=800,\n",
    "    height=600,\n",
    "    range_y=[0, 1],\n",
    "    markers=True,\n",
    ")\n",
    "fig.update_xaxes(type=\"category\")\n",
    "fig.show()"
   ]
  },
  {
   "cell_type": "markdown",
   "metadata": {},
   "source": [
    "## Forgetting"
   ]
  },
  {
   "cell_type": "code",
   "execution_count": null,
   "metadata": {},
   "outputs": [],
   "source": [
    "forgetting_processed = dict()\n",
    "for i, (key, value) in enumerate(metrics[\"forgettings\"].items()):\n",
    "    forgetting_processed[key] = [float(\"nan\")] * i + value\n",
    "\n",
    "fig = px.line(\n",
    "    pd.DataFrame(forgetting_processed),\n",
    "    title=\"Forgetting vs Task\",\n",
    "    labels=dict(index=\"Task\", value=\"Forgetting\"),\n",
    "    width=800,\n",
    "    height=600,\n",
    "    markers=True,\n",
    ")\n",
    "fig.update_xaxes(type=\"category\")\n",
    "fig.show()"
   ]
  },
  {
   "cell_type": "markdown",
   "metadata": {},
   "source": [
    "## Losses"
   ]
  },
  {
   "cell_type": "code",
   "execution_count": null,
   "metadata": {},
   "outputs": [],
   "source": [
    "fig = px.line(\n",
    "    pd.DataFrame(metrics[\"losses\"]),\n",
    "    title=\"Losses vs Task\",\n",
    "    labels=dict(index=\"Task\", value=\"Loss\"),\n",
    "    width=800,\n",
    "    height=600,\n",
    "    markers=True,\n",
    ")\n",
    "fig.update_xaxes(type=\"category\")\n",
    "fig.show()"
   ]
  },
  {
   "cell_type": "markdown",
   "metadata": {},
   "source": [
    "## CPU Usage"
   ]
  },
  {
   "cell_type": "code",
   "execution_count": null,
   "metadata": {},
   "outputs": [],
   "source": [
    "fig = px.line(\n",
    "    metrics[\"train_cpu_usage\"],\n",
    "    title=\"CPU Usage vs Batch\",\n",
    "    labels=dict(index=\"Batch\", value=\"Value\"),\n",
    "    width=800,\n",
    "    height=600,\n",
    ")\n",
    "fig.update_xaxes(type=\"category\")\n",
    "fig.show()"
   ]
  },
  {
   "cell_type": "markdown",
   "metadata": {},
   "source": [
    "## Time per epoch"
   ]
  },
  {
   "cell_type": "code",
   "execution_count": null,
   "metadata": {},
   "outputs": [],
   "source": [
    "fig = px.line(\n",
    "    metrics[\"train_time_epoch\"],\n",
    "    title=\"Time per Epoch vs Epoch\",\n",
    "    labels=dict(index=\"Epoch\", value=\"Value\"),\n",
    "    width=800,\n",
    "    height=600,\n",
    ")\n",
    "fig.update_xaxes(type=\"category\")\n",
    "fig.show()"
   ]
  },
  {
   "cell_type": "markdown",
   "metadata": {},
   "source": [
    "## Running time"
   ]
  },
  {
   "cell_type": "code",
   "execution_count": null,
   "metadata": {},
   "outputs": [],
   "source": [
    "fig = px.line(\n",
    "    metrics[\"train_running_time\"],\n",
    "    title=\"Running Time vs Batch\",\n",
    "    labels=dict(index=\"Batch\", value=\"Value\"),\n",
    "    width=800,\n",
    "    height=600,\n",
    ")\n",
    "fig.update_xaxes(type=\"category\")\n",
    "fig.show()"
   ]
  },
  {
   "cell_type": "markdown",
   "metadata": {},
   "source": [
    "## Training loss"
   ]
  },
  {
   "cell_type": "code",
   "execution_count": null,
   "metadata": {},
   "outputs": [],
   "source": [
    "fig = px.line(\n",
    "    metrics[\"train_loss_epoch\"],\n",
    "    title=\"Loss vs Batch\",\n",
    "    labels=dict(index=\"Batch\", value=\"Value\"),\n",
    "    width=800,\n",
    "    height=600,\n",
    ")\n",
    "fig.update_xaxes(type=\"category\")\n",
    "fig.show()"
   ]
  },
  {
   "cell_type": "markdown",
   "metadata": {},
   "source": [
    "## All components losses"
   ]
  },
  {
   "cell_type": "code",
   "execution_count": null,
   "metadata": {},
   "outputs": [],
   "source": [
    "fig = px.line(\n",
    "    metrics[\"all_loss_components\"],\n",
    "    title=\"Loss Components vs Batch\",\n",
    "    labels=dict(index=\"Batch\", value=\"Value\"),\n",
    "    width=800,\n",
    "    height=600,\n",
    ")\n",
    "fig.update_xaxes(type=\"category\")\n",
    "fig.show()"
   ]
  },
  {
   "cell_type": "markdown",
   "metadata": {},
   "source": [
    "## Weights used"
   ]
  },
  {
   "cell_type": "code",
   "execution_count": null,
   "metadata": {},
   "outputs": [],
   "source": [
    "used_weights = list(map(lambda x: sum((abs(x) > 1e-5)).item(), metrics[\"weights\"]))"
   ]
  },
  {
   "cell_type": "code",
   "execution_count": null,
   "metadata": {},
   "outputs": [],
   "source": [
    "fig = px.line(\n",
    "    used_weights,\n",
    "    title=\"Used Weights vs Task\",\n",
    "    labels=dict(index=\"Task\", value=\"Value\"),\n",
    "    width=800,\n",
    "    height=600,\n",
    ")\n",
    "fig.update_xaxes(type=\"category\")\n",
    "fig.show()"
   ]
  },
  {
   "cell_type": "markdown",
   "metadata": {},
   "source": [
    "# Weight distribution"
   ]
  },
  {
   "cell_type": "code",
   "execution_count": null,
   "metadata": {},
   "outputs": [],
   "source": [
    "weight_distributions = list(map(lambda x: sorted(x.flatten()), metrics[\"weights\"]))"
   ]
  },
  {
   "cell_type": "code",
   "execution_count": null,
   "metadata": {},
   "outputs": [],
   "source": [
    "for i in range(10):\n",
    "    fig = px.histogram(\n",
    "        weight_distributions[i],\n",
    "        title=f\"Weight Distribution for Task {i}\",\n",
    "        labels=dict(index=\"Weight\", value=\"Value\"),\n",
    "        width=800,\n",
    "        height=600,\n",
    "    )\n",
    "    fig.show()"
   ]
  }
 ],
 "metadata": {
  "kernelspec": {
   "display_name": "tt2",
   "language": "python",
   "name": "python3"
  },
  "language_info": {
   "codemirror_mode": {
    "name": "ipython",
    "version": 3
   },
   "file_extension": ".py",
   "mimetype": "text/x-python",
   "name": "python",
   "nbconvert_exporter": "python",
   "pygments_lexer": "ipython3",
   "version": "3.9.18"
  }
 },
 "nbformat": 4,
 "nbformat_minor": 2
}
