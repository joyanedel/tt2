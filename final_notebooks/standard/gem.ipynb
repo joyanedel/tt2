{
 "cells": [
  {
   "cell_type": "markdown",
   "metadata": {},
   "source": [
    "# GEM"
   ]
  },
  {
   "cell_type": "markdown",
   "metadata": {},
   "source": [
    "$$\n",
    "\\mathcal{L} = \n",
    "$$"
   ]
  },
  {
   "cell_type": "code",
   "execution_count": null,
   "metadata": {},
   "outputs": [],
   "source": [
    "%load_ext autoreload\n",
    "%autoreload 2"
   ]
  },
  {
   "cell_type": "markdown",
   "metadata": {},
   "source": [
    "# Libraries"
   ]
  },
  {
   "cell_type": "code",
   "execution_count": null,
   "metadata": {},
   "outputs": [],
   "source": [
    "import pickle\n",
    "from tqdm import tqdm"
   ]
  },
  {
   "cell_type": "code",
   "execution_count": null,
   "metadata": {},
   "outputs": [],
   "source": [
    "from avalanche.benchmarks.classic import PermutedMNIST\n",
    "from avalanche.models import SimpleMLP\n",
    "from avalanche.training import GEM\n",
    "from avalanche.training.plugins import EvaluationPlugin\n",
    "from avalanche.logging import InteractiveLogger\n",
    "from avalanche.evaluation.metrics import (\n",
    "    accuracy_metrics,\n",
    "    bwt_metrics,\n",
    "    confusion_matrix_metrics,\n",
    "    forgetting_metrics,\n",
    "    timing_metrics,\n",
    "    cpu_usage_metrics,\n",
    "    gpu_usage_metrics,\n",
    "    disk_usage_metrics,\n",
    "    ram_usage_metrics,\n",
    "    loss_metrics,\n",
    "    class_accuracy_metrics,\n",
    "    accuracy_matrix_metrics\n",
    ")\n",
    "\n",
    "from torch.nn import CrossEntropyLoss\n",
    "from torch.optim import SGD\n",
    "from torch import cuda"
   ]
  },
  {
   "cell_type": "markdown",
   "metadata": {},
   "source": [
    "## Custom Libraries"
   ]
  },
  {
   "cell_type": "code",
   "execution_count": null,
   "metadata": {},
   "outputs": [],
   "source": [
    "import sys\n",
    "\n",
    "sys.path.append(\"../base_code/\")\n",
    "\n",
    "from base_code.constants import DATASETS_PATH, SAVED_METRICS_PATH\n",
    "from base_code.plugins import WeightStoragePlugin"
   ]
  },
  {
   "cell_type": "markdown",
   "metadata": {},
   "source": [
    "# Constants"
   ]
  },
  {
   "cell_type": "code",
   "execution_count": null,
   "metadata": {},
   "outputs": [],
   "source": [
    "TORCH_DEVICE = \"cuda\" if cuda.is_available() else \"cpu\"\n",
    "N_EXPERIENCES = 10\n",
    "EXPERIMENT_SEED = 1234\n",
    "METRICS_SUBFOLDER = \"standard\"\n",
    "METRICS_FILENAME = f\"{METRICS_SUBFOLDER}/gem.pkl\""
   ]
  },
  {
   "cell_type": "markdown",
   "metadata": {},
   "source": [
    "# Dataset and definitions"
   ]
  },
  {
   "cell_type": "markdown",
   "metadata": {},
   "source": [
    "## Dataset loading\n",
    "\n",
    "We load state-of-the-art dataset Modified NIST"
   ]
  },
  {
   "cell_type": "code",
   "execution_count": null,
   "metadata": {},
   "outputs": [],
   "source": [
    "scenario = PermutedMNIST(N_EXPERIENCES, seed=EXPERIMENT_SEED, dataset_root=DATASETS_PATH)"
   ]
  },
  {
   "cell_type": "markdown",
   "metadata": {},
   "source": [
    "## Scenario creation with train test streaming\n",
    "\n",
    "In this point, we define our scenario considering a training where in every experience of it, a new class is presented. This is, first we train with a class $a$, the following experience we train with class $b$ ($a \\neq b$)"
   ]
  },
  {
   "cell_type": "code",
   "execution_count": null,
   "metadata": {},
   "outputs": [],
   "source": [
    "train_stream = scenario.train_stream\n",
    "test_stream = scenario.test_stream"
   ]
  },
  {
   "cell_type": "markdown",
   "metadata": {},
   "source": [
    "# Model Selection"
   ]
  },
  {
   "cell_type": "code",
   "execution_count": null,
   "metadata": {},
   "outputs": [],
   "source": [
    "from math import floor\n",
    "from itertools import product\n",
    "from typing import List\n",
    "\n",
    "# Constants\n",
    "MODEL_SELECTION_MAX_EXPERIENCES = floor(N_EXPERIENCES * 0.2)\n",
    "\n",
    "strategy_hyperparameters_grid = {\n",
    "    \"patterns_per_exp\": [1, 2, 5, 10],\n",
    "    \"memory_strength\": [0.2, 0.5, 0.7, 0.9],\n",
    "}\n",
    "\n",
    "# Create the models\n",
    "models = [\n",
    "    SimpleMLP(num_classes=scenario.n_classes, hidden_size=100, input_size=28 * 28).to(TORCH_DEVICE)\n",
    "    for _ in product(*strategy_hyperparameters_grid.values())\n",
    "]\n",
    "hyperparameters_product = list(product(*strategy_hyperparameters_grid.values()))\n",
    "\n",
    "strategies: List[GEM] = []\n",
    "for model, hyperparameters in zip(models, hyperparameters_product):\n",
    "    strategy = GEM(\n",
    "        model,\n",
    "        SGD(model.parameters(), lr=0.001, momentum=0.9, weight_decay=0.0005),\n",
    "        CrossEntropyLoss(),\n",
    "        train_mb_size=100,\n",
    "        train_epochs=1,\n",
    "        eval_mb_size=100,\n",
    "        device=TORCH_DEVICE,\n",
    "        evaluator=EvaluationPlugin(\n",
    "            accuracy_metrics(\n",
    "                stream=True\n",
    "            ),\n",
    "        ),\n",
    "        **dict(zip(strategy_hyperparameters_grid.keys(), hyperparameters)),\n",
    "    )\n",
    "    strategies.append(strategy)\n",
    "\n",
    "# train each model on the first 20% of the experiences\n",
    "for i, strategy in enumerate(strategies):\n",
    "    print(f\"Training model {i + 1}/{len(strategies)}\")\n",
    "    for experience in train_stream[:MODEL_SELECTION_MAX_EXPERIENCES]:\n",
    "        strategy.train(experience)\n",
    "    strategy.eval(train_stream[:MODEL_SELECTION_MAX_EXPERIENCES])\n"
   ]
  },
  {
   "cell_type": "code",
   "execution_count": null,
   "metadata": {},
   "outputs": [],
   "source": [
    "# Get the model with the best averaged accuracy\n",
    "best_hyperparameters_idx = -1\n",
    "best_avg_accuracy = 0\n",
    "\n",
    "for i, strategy in enumerate(strategies):\n",
    "    avg_accuracy = strategy.evaluator.get_last_metrics()[\"Top1_Acc_Stream/eval_phase/train_stream/Task000\"]\n",
    "    if avg_accuracy > best_avg_accuracy:\n",
    "        best_avg_accuracy = avg_accuracy\n",
    "        best_hyperparameters_idx = i\n",
    "\n",
    "best_hyperparameters = dict(zip(strategy_hyperparameters_grid.keys(), hyperparameters_product[best_hyperparameters_idx]))"
   ]
  },
  {
   "cell_type": "code",
   "execution_count": null,
   "metadata": {},
   "outputs": [],
   "source": [
    "best_hyperparameters"
   ]
  },
  {
   "cell_type": "markdown",
   "metadata": {},
   "source": [
    "## Evaluation metrics definition"
   ]
  },
  {
   "cell_type": "code",
   "execution_count": null,
   "metadata": {},
   "outputs": [],
   "source": [
    "eval_plugin = EvaluationPlugin(\n",
    "    accuracy_metrics(experience=True, stream=True),\n",
    "    loss_metrics(minibatch=True, experience=True, stream=True),\n",
    "    timing_metrics(epoch=True, epoch_running=True),\n",
    "    cpu_usage_metrics(minibatch=True, experience=True, stream=True),\n",
    "    gpu_usage_metrics(experience=True, stream=True, gpu_id=TORCH_DEVICE),\n",
    "    disk_usage_metrics(experience=True, stream=True),\n",
    "    ram_usage_metrics(experience=True, stream=True),\n",
    "    class_accuracy_metrics(experience=True, stream=True),\n",
    "    accuracy_matrix_metrics(),\n",
    "    forgetting_metrics(experience=True, stream=True),\n",
    "    bwt_metrics(experience=True, stream=True),\n",
    "    confusion_matrix_metrics(stream=True, num_classes=scenario.n_classes),\n",
    "    \n",
    "    loggers=[InteractiveLogger()]\n",
    ")"
   ]
  },
  {
   "cell_type": "markdown",
   "metadata": {},
   "source": [
    "## Plugin defitinitions"
   ]
  },
  {
   "cell_type": "code",
   "execution_count": null,
   "metadata": {},
   "outputs": [],
   "source": [
    "model_plugins = [WeightStoragePlugin()]"
   ]
  },
  {
   "cell_type": "markdown",
   "metadata": {},
   "source": [
    "## Model, Optimizer, Loss function and Strategy definition\n",
    "\n",
    "* `model`: Multi Layer Perceptron\n",
    "* `Optimizer`: Adam\n",
    "* `Loss function`: Cross Entropy\n",
    "* `Strategy`: Elastic Weight Consolidation"
   ]
  },
  {
   "cell_type": "code",
   "execution_count": null,
   "metadata": {},
   "outputs": [],
   "source": [
    "model = SimpleMLP(num_classes=scenario.n_classes, input_size=28 * 28, hidden_layers=2, hidden_size=100).to(TORCH_DEVICE)\n",
    "optimizer = SGD(model.parameters(), lr=1e-3, momentum=0.9, weight_decay=0.0005)\n",
    "criterion = CrossEntropyLoss().to(TORCH_DEVICE)\n",
    "strategy = GEM(\n",
    "    model,\n",
    "    optimizer,\n",
    "    criterion,\n",
    "    train_epochs=5,\n",
    "    train_mb_size=128,\n",
    "    plugins=model_plugins,\n",
    "    evaluator=eval_plugin,\n",
    "    eval_mb_size=128,\n",
    "    device=TORCH_DEVICE,\n",
    "    **best_hyperparameters\n",
    ")"
   ]
  },
  {
   "cell_type": "markdown",
   "metadata": {},
   "source": [
    "# Training and evaluation\n",
    "\n",
    "Revisar porque el entrenamiento se está comportando de forma rara"
   ]
  },
  {
   "cell_type": "code",
   "execution_count": null,
   "metadata": {},
   "outputs": [],
   "source": [
    "for experience in tqdm(train_stream):\n",
    "    strategy.train(experience)\n",
    "    strategy.eval(test_stream)"
   ]
  },
  {
   "cell_type": "markdown",
   "metadata": {},
   "source": [
    "# Get metrics"
   ]
  },
  {
   "cell_type": "code",
   "execution_count": null,
   "metadata": {},
   "outputs": [],
   "source": [
    "accuracies: dict[int, list[float]] = dict()\n",
    "forgettings: dict[int, list[float]] = dict()\n",
    "bwt: dict[int, list[float]] = dict()\n",
    "class_accuracies: dict[int, list[float]] = dict()\n",
    "losses: dict[int, list[float]] = dict()\n",
    "\n",
    "for i in range(N_EXPERIENCES):\n",
    "    filled_i = str(i).zfill(3)\n",
    "    accuracies[f\"Task{i}\"] = eval_plugin.get_all_metrics()[\n",
    "        f\"Top1_Acc_Exp/eval_phase/test_stream/Task000/Exp{filled_i}\"\n",
    "    ][1]\n",
    "    forgettings[f\"Task{i}\"] = eval_plugin.get_all_metrics()[\n",
    "        f\"ExperienceForgetting/eval_phase/test_stream/Task000/Exp{filled_i}\"\n",
    "    ][1]\n",
    "    bwt[f\"Task{i}\"] = eval_plugin.get_all_metrics()[\n",
    "        f\"ExperienceBWT/eval_phase/test_stream/Task000/Exp{filled_i}\"\n",
    "    ][1]\n",
    "    class_accuracies[f\"Task{i}\"] = eval_plugin.get_all_metrics()[\n",
    "        f\"Top1_ClassAcc_Stream/eval_phase/test_stream/Task000/{i}\"\n",
    "    ][1]\n",
    "    losses[f\"Task{i}\"] = eval_plugin.get_all_metrics()[\n",
    "        f\"Loss_Exp/eval_phase/test_stream/Task000/Exp{filled_i}\"\n",
    "    ][1]\n",
    "        \n",
    "\n",
    "accuracies[\"Overall\"] = eval_plugin.get_all_metrics()[\n",
    "    \"Top1_Acc_Stream/eval_phase/test_stream/Task000\"\n",
    "][1]"
   ]
  },
  {
   "cell_type": "code",
   "execution_count": null,
   "metadata": {},
   "outputs": [],
   "source": [
    "train_cpu_usage = eval_plugin.get_all_metrics()[\"CPUUsage_MB/train_phase/train_stream/Task000\"][1]\n",
    "train_time_epoch = eval_plugin.get_all_metrics()[\"Time_Epoch/train_phase/train_stream/Task000\"][1]\n",
    "train_running_time = eval_plugin.get_all_metrics()[\"RunningTime_Epoch/train_phase/train_stream/Task000\"][1]\n",
    "train_loss_epoch = eval_plugin.get_all_metrics()[\"Loss_MB/train_phase/train_stream/Task000\"][1]"
   ]
  },
  {
   "cell_type": "code",
   "execution_count": null,
   "metadata": {},
   "outputs": [],
   "source": [
    "weights = model_plugins[0].weights"
   ]
  },
  {
   "cell_type": "markdown",
   "metadata": {},
   "source": [
    "# Store metrics"
   ]
  },
  {
   "cell_type": "code",
   "execution_count": null,
   "metadata": {},
   "outputs": [],
   "source": [
    "pickle.dump({\n",
    "    \"accuracies\": accuracies,\n",
    "    \"forgettings\": forgettings,\n",
    "    \"bwt\": bwt,\n",
    "    \"class_accuracies\": class_accuracies,\n",
    "    \"losses\": losses,\n",
    "    \"train_cpu_usage\": train_cpu_usage,\n",
    "    \"train_time_epoch\": train_time_epoch,\n",
    "    \"train_running_time\": train_running_time,\n",
    "    \"train_loss_epoch\": train_loss_epoch,\n",
    "    \"weights\": weights\n",
    "}, open(SAVED_METRICS_PATH / METRICS_FILENAME, \"wb\"))"
   ]
  }
 ],
 "metadata": {
  "kernelspec": {
   "display_name": "tt2",
   "language": "python",
   "name": "python3"
  },
  "language_info": {
   "codemirror_mode": {
    "name": "ipython",
    "version": 3
   },
   "file_extension": ".py",
   "mimetype": "text/x-python",
   "name": "python",
   "nbconvert_exporter": "python",
   "pygments_lexer": "ipython3",
   "version": "3.9.18"
  }
 },
 "nbformat": 4,
 "nbformat_minor": 2
}
