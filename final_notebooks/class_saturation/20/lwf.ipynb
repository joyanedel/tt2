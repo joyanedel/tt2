{
 "cells": [
  {
   "cell_type": "markdown",
   "metadata": {},
   "source": [
    "# LwF"
   ]
  },
  {
   "cell_type": "markdown",
   "metadata": {},
   "source": [
    "$$\n",
    "\\mathcal{L} = \n",
    "$$"
   ]
  },
  {
   "cell_type": "code",
   "execution_count": 1,
   "metadata": {},
   "outputs": [],
   "source": [
    "%load_ext autoreload\n",
    "%autoreload 2"
   ]
  },
  {
   "cell_type": "markdown",
   "metadata": {},
   "source": [
    "# Libraries"
   ]
  },
  {
   "cell_type": "code",
   "execution_count": 2,
   "metadata": {},
   "outputs": [],
   "source": [
    "import pickle\n",
    "from tqdm import tqdm"
   ]
  },
  {
   "cell_type": "code",
   "execution_count": 3,
   "metadata": {},
   "outputs": [
    {
     "name": "stderr",
     "output_type": "stream",
     "text": [
      "/Users/jesusoyanedelespinoza/.pyenv/versions/3.9.18/envs/tt2/lib/python3.9/site-packages/tqdm/auto.py:21: TqdmWarning: IProgress not found. Please update jupyter and ipywidgets. See https://ipywidgets.readthedocs.io/en/stable/user_install.html\n",
      "  from .autonotebook import tqdm as notebook_tqdm\n"
     ]
    }
   ],
   "source": [
    "from avalanche.benchmarks.classic import PermutedMNIST\n",
    "from avalanche.models import SimpleMLP\n",
    "from avalanche.training import LwF\n",
    "from avalanche.training.plugins import EvaluationPlugin\n",
    "from avalanche.logging import InteractiveLogger\n",
    "from avalanche.evaluation.metrics import (\n",
    "    accuracy_metrics,\n",
    "    bwt_metrics,\n",
    "    forgetting_metrics,\n",
    ")\n",
    "\n",
    "from torch.nn import CrossEntropyLoss\n",
    "from torch.optim import SGD\n",
    "from torch import cuda, device"
   ]
  },
  {
   "cell_type": "markdown",
   "metadata": {},
   "source": [
    "## Custom Libraries"
   ]
  },
  {
   "cell_type": "code",
   "execution_count": 4,
   "metadata": {},
   "outputs": [],
   "source": [
    "import sys\n",
    "\n",
    "sys.path.append(\"../base_code/\")\n",
    "\n",
    "from base_code.constants import DATASETS_PATH, SAVED_METRICS_PATH\n",
    "from base_code.seed import set_seed"
   ]
  },
  {
   "cell_type": "markdown",
   "metadata": {},
   "source": [
    "# Constants"
   ]
  },
  {
   "cell_type": "code",
   "execution_count": 5,
   "metadata": {},
   "outputs": [],
   "source": [
    "TORCH_DEVICE = device(\"cuda\" if cuda.is_available() else \"cpu\")\n",
    "N_EXPERIENCES = 20\n",
    "EXPERIMENT_SEED = 1234\n",
    "METRICS_SUBFOLDER = f\"class_saturation/{N_EXPERIENCES}\"\n",
    "METRICS_FILENAME = f\"{METRICS_SUBFOLDER}/lwf.pkl\"\n",
    "set_seed(EXPERIMENT_SEED)"
   ]
  },
  {
   "cell_type": "markdown",
   "metadata": {},
   "source": [
    "# Dataset and definitions"
   ]
  },
  {
   "cell_type": "markdown",
   "metadata": {},
   "source": [
    "## Dataset loading\n",
    "\n",
    "We load state-of-the-art dataset Modified NIST"
   ]
  },
  {
   "cell_type": "code",
   "execution_count": 6,
   "metadata": {},
   "outputs": [],
   "source": [
    "scenario = PermutedMNIST(N_EXPERIENCES, seed=EXPERIMENT_SEED, dataset_root=DATASETS_PATH)"
   ]
  },
  {
   "cell_type": "markdown",
   "metadata": {},
   "source": [
    "## Scenario creation with train test streaming\n",
    "\n",
    "In this point, we define our scenario considering a training where in every experience of it, a new class is presented. This is, first we train with a class $a$, the following experience we train with class $b$ ($a \\neq b$)"
   ]
  },
  {
   "cell_type": "code",
   "execution_count": 7,
   "metadata": {},
   "outputs": [],
   "source": [
    "train_stream = scenario.train_stream\n",
    "test_stream = scenario.test_stream"
   ]
  },
  {
   "cell_type": "code",
   "execution_count": 8,
   "metadata": {},
   "outputs": [],
   "source": [
    "best_hyperparameters = {\n",
    "    'alpha': 0.7,\n",
    "    'temperature': 20,\n",
    "}"
   ]
  },
  {
   "cell_type": "markdown",
   "metadata": {},
   "source": [
    "## Evaluation metrics definition"
   ]
  },
  {
   "cell_type": "code",
   "execution_count": 9,
   "metadata": {},
   "outputs": [
    {
     "name": "stderr",
     "output_type": "stream",
     "text": [
      "/Users/jesusoyanedelespinoza/.pyenv/versions/3.9.18/envs/tt2/lib/python3.9/site-packages/avalanche/evaluation/metrics/gpu_usage.py:56: UserWarning: Your system has no GPU!\n",
      "  warnings.warn(\"Your system has no GPU!\")\n",
      "/Users/jesusoyanedelespinoza/.pyenv/versions/3.9.18/envs/tt2/lib/python3.9/site-packages/avalanche/evaluation/metrics/gpu_usage.py:56: UserWarning: Your system has no GPU!\n",
      "  warnings.warn(\"Your system has no GPU!\")\n"
     ]
    }
   ],
   "source": [
    "eval_plugin = EvaluationPlugin(\n",
    "    accuracy_metrics(experience=True, stream=True),\n",
    "    forgetting_metrics(experience=True, stream=True),\n",
    "    bwt_metrics(experience=True, stream=True),\n",
    "    \n",
    "    loggers=[InteractiveLogger()]\n",
    ")"
   ]
  },
  {
   "cell_type": "markdown",
   "metadata": {},
   "source": [
    "## Model, Optimizer, Loss function and Strategy definition\n",
    "\n",
    "* `model`: Multi Layer Perceptron\n",
    "* `Optimizer`: Adam\n",
    "* `Loss function`: Cross Entropy\n",
    "* `Strategy`: Elastic Weight Consolidation"
   ]
  },
  {
   "cell_type": "code",
   "execution_count": 11,
   "metadata": {},
   "outputs": [],
   "source": [
    "model = SimpleMLP(num_classes=scenario.n_classes, input_size=28 * 28, hidden_layers=2, hidden_size=100).to(TORCH_DEVICE)\n",
    "optimizer = SGD(model.parameters(), lr=1e-3, momentum=0.9, weight_decay=0.0005)\n",
    "criterion = CrossEntropyLoss().to(TORCH_DEVICE)\n",
    "strategy = LwF(\n",
    "    model,\n",
    "    optimizer,\n",
    "    criterion,\n",
    "    train_epochs=5,\n",
    "    train_mb_size=128,\n",
    "    evaluator=eval_plugin,\n",
    "    eval_mb_size=128,\n",
    "    device=TORCH_DEVICE,\n",
    "    **best_hyperparameters\n",
    ")"
   ]
  },
  {
   "cell_type": "markdown",
   "metadata": {},
   "source": [
    "# Training and evaluation\n",
    "\n",
    "Revisar porque el entrenamiento se está comportando de forma rara"
   ]
  },
  {
   "cell_type": "code",
   "execution_count": null,
   "metadata": {},
   "outputs": [],
   "source": [
    "for experience in tqdm(train_stream):\n",
    "    strategy.train(experience)\n",
    "    strategy.eval(test_stream)"
   ]
  },
  {
   "cell_type": "markdown",
   "metadata": {},
   "source": [
    "# Get metrics"
   ]
  },
  {
   "cell_type": "code",
   "execution_count": 13,
   "metadata": {},
   "outputs": [],
   "source": [
    "accuracies: dict[int, list[float]] = dict()\n",
    "forgettings: dict[int, list[float]] = dict()\n",
    "bwt: dict[int, list[float]] = dict()\n",
    "\n",
    "for i in range(N_EXPERIENCES):\n",
    "    filled_i = str(i).zfill(3)\n",
    "    accuracies[f\"Task{i}\"] = eval_plugin.get_all_metrics()[\n",
    "        f\"Top1_Acc_Exp/eval_phase/test_stream/Task000/Exp{filled_i}\"\n",
    "    ][1]\n",
    "    forgettings[f\"Task{i}\"] = eval_plugin.get_all_metrics()[\n",
    "        f\"ExperienceForgetting/eval_phase/test_stream/Task000/Exp{filled_i}\"\n",
    "    ][1]\n",
    "    bwt[f\"Task{i}\"] = eval_plugin.get_all_metrics()[\n",
    "        f\"ExperienceBWT/eval_phase/test_stream/Task000/Exp{filled_i}\"\n",
    "    ][1]\n",
    "        \n",
    "\n",
    "accuracies[\"Overall\"] = eval_plugin.get_all_metrics()[\n",
    "    \"Top1_Acc_Stream/eval_phase/test_stream/Task000\"\n",
    "][1]"
   ]
  },
  {
   "cell_type": "markdown",
   "metadata": {},
   "source": [
    "# Store metrics"
   ]
  },
  {
   "cell_type": "code",
   "execution_count": 16,
   "metadata": {},
   "outputs": [],
   "source": [
    "pickle.dump({\n",
    "    \"accuracies\": accuracies,\n",
    "    \"forgettings\": forgettings,\n",
    "    \"bwt\": bwt,\n",
    "}, open(SAVED_METRICS_PATH / METRICS_FILENAME, \"wb\"))"
   ]
  }
 ],
 "metadata": {
  "kernelspec": {
   "display_name": "tt2",
   "language": "python",
   "name": "python3"
  },
  "language_info": {
   "codemirror_mode": {
    "name": "ipython",
    "version": 3
   },
   "file_extension": ".py",
   "mimetype": "text/x-python",
   "name": "python",
   "nbconvert_exporter": "python",
   "pygments_lexer": "ipython3",
   "version": "3.9.18"
  }
 },
 "nbformat": 4,
 "nbformat_minor": 2
}
