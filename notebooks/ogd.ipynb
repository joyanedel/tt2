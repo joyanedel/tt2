{
 "cells": [
  {
   "attachments": {},
   "cell_type": "markdown",
   "metadata": {},
   "source": [
    "# Orthogonal Gradient Descent"
   ]
  },
  {
   "cell_type": "code",
   "execution_count": 1,
   "metadata": {},
   "outputs": [],
   "source": [
    "%load_ext autoreload\n",
    "%autoreload 2"
   ]
  },
  {
   "attachments": {},
   "cell_type": "markdown",
   "metadata": {},
   "source": [
    "# Global imports and settings"
   ]
  },
  {
   "cell_type": "code",
   "execution_count": 2,
   "metadata": {},
   "outputs": [],
   "source": [
    "from torchvision.transforms import ToTensor, Compose, Normalize"
   ]
  },
  {
   "cell_type": "code",
   "execution_count": 3,
   "metadata": {},
   "outputs": [],
   "source": [
    "from tqdm import tqdm"
   ]
  },
  {
   "cell_type": "code",
   "execution_count": 4,
   "metadata": {},
   "outputs": [
    {
     "name": "stderr",
     "output_type": "stream",
     "text": [
      "/Users/jesusoyanedelespinoza/.pyenv/versions/3.9.18/envs/tt2/lib/python3.9/site-packages/tqdm/auto.py:21: TqdmWarning: IProgress not found. Please update jupyter and ipywidgets. See https://ipywidgets.readthedocs.io/en/stable/user_install.html\n",
      "  from .autonotebook import tqdm as notebook_tqdm\n"
     ]
    }
   ],
   "source": [
    "from avalanche.benchmarks.datasets import MNIST\n",
    "from avalanche.training.plugins import EvaluationPlugin\n",
    "from avalanche.benchmarks.generators import nc_benchmark\n",
    "from avalanche.evaluation.metrics import (\n",
    "    bwt_metrics,\n",
    "    forgetting_metrics,\n",
    "    accuracy_metrics,\n",
    ")\n",
    "\n",
    "from torch.nn import CrossEntropyLoss\n",
    "from torch.optim import SGD"
   ]
  },
  {
   "cell_type": "markdown",
   "metadata": {},
   "source": [
    "## Custom libraries"
   ]
  },
  {
   "cell_type": "code",
   "execution_count": 5,
   "metadata": {},
   "outputs": [],
   "source": [
    "import sys\n",
    "\n",
    "sys.path.append(\"..\")\n",
    "\n",
    "from base_code.training.ogd import OGD\n",
    "from base_code.constants import DATASETS_PATH\n",
    "from base_code.models.mlp import MLP"
   ]
  },
  {
   "cell_type": "markdown",
   "metadata": {},
   "source": [
    "# Dataset and definitions"
   ]
  },
  {
   "cell_type": "markdown",
   "metadata": {},
   "source": [
    "## Preprocessing definitions"
   ]
  },
  {
   "cell_type": "code",
   "execution_count": 6,
   "metadata": {},
   "outputs": [],
   "source": [
    "train_transform = Compose([\n",
    "    ToTensor(),\n",
    "    Normalize((0.1307,), (0.3081,))\n",
    "])\n",
    "test_transform = Compose([\n",
    "    ToTensor(),\n",
    "    Normalize((0.1307,), (0.3081,))\n",
    "])"
   ]
  },
  {
   "cell_type": "markdown",
   "metadata": {},
   "source": [
    "## Dataset loading"
   ]
  },
  {
   "cell_type": "code",
   "execution_count": 7,
   "metadata": {},
   "outputs": [],
   "source": [
    "mnist_train = MNIST(DATASETS_PATH, train=True, transform=train_transform)\n",
    "mnist_test = MNIST(DATASETS_PATH, train=False, transform=test_transform)"
   ]
  },
  {
   "cell_type": "markdown",
   "metadata": {},
   "source": [
    "## Scenario creation with train test streams"
   ]
  },
  {
   "cell_type": "code",
   "execution_count": 8,
   "metadata": {},
   "outputs": [],
   "source": [
    "scenario = nc_benchmark(\n",
    "    mnist_train, mnist_test, len(mnist_train.classes), shuffle=True, seed=1234, task_labels=False\n",
    ")\n",
    "\n",
    "train_stream = scenario.train_stream\n",
    "test_stream = scenario.test_stream"
   ]
  },
  {
   "cell_type": "markdown",
   "metadata": {},
   "source": [
    "## Evaluation metrics definition"
   ]
  },
  {
   "cell_type": "code",
   "execution_count": 9,
   "metadata": {},
   "outputs": [
    {
     "name": "stderr",
     "output_type": "stream",
     "text": [
      "/Users/jesusoyanedelespinoza/.pyenv/versions/3.9.18/envs/tt2/lib/python3.9/site-packages/avalanche/training/plugins/evaluation.py:94: UserWarning: No loggers specified, metrics will not be logged\n",
      "  warnings.warn(\"No loggers specified, metrics will not be logged\")\n"
     ]
    }
   ],
   "source": [
    "eval_plugin = EvaluationPlugin(\n",
    "    bwt_metrics(experience=True, stream=True),\n",
    "    accuracy_metrics(experience=True, stream=True),\n",
    "    forgetting_metrics(experience=True, stream=True)\n",
    ")"
   ]
  },
  {
   "cell_type": "markdown",
   "metadata": {},
   "source": [
    "## Model, Optimizer, Loss and Strategy definitions"
   ]
  },
  {
   "cell_type": "code",
   "execution_count": 10,
   "metadata": {},
   "outputs": [],
   "source": [
    "model = MLP(n_classes=scenario.n_classes, n_channels=1, width=28, height=28)\n",
    "optimizer = SGD(model.parameters(), lr=0.001)\n",
    "criterion = CrossEntropyLoss()\n",
    "strategy = OGD(\n",
    "    model, optimizer, criterion, train_mb_size=10, train_epochs=5, evaluator=eval_plugin\n",
    ")"
   ]
  },
  {
   "cell_type": "markdown",
   "metadata": {},
   "source": [
    "# Training and evaluation"
   ]
  },
  {
   "cell_type": "code",
   "execution_count": 11,
   "metadata": {},
   "outputs": [
    {
     "name": "stderr",
     "output_type": "stream",
     "text": [
      "1it [00:22, 22.67s/it]"
     ]
    },
    {
     "name": "stdout",
     "output_type": "stream",
     "text": [
      "{'Top1_Acc_Exp/eval_phase/test_stream/Task000/Exp000': 0.0, 'StreamBWT/eval_phase/test_stream': 0.0, 'Top1_Acc_Stream/eval_phase/test_stream/Task000': 0.0, 'StreamForgetting/eval_phase/test_stream': 0.0}\n"
     ]
    },
    {
     "name": "stderr",
     "output_type": "stream",
     "text": [
      "2it [07:14, 251.45s/it]"
     ]
    },
    {
     "name": "stdout",
     "output_type": "stream",
     "text": [
      "{'Top1_Acc_Exp/eval_phase/test_stream/Task000/Exp000': 0.0, 'StreamBWT/eval_phase/test_stream': 0.0, 'Top1_Acc_Stream/eval_phase/test_stream/Task000': 0.5240128068303095, 'StreamForgetting/eval_phase/test_stream': 0.0, 'ExperienceBWT/eval_phase/test_stream/Task000/Exp000': -0.0, 'ExperienceForgetting/eval_phase/test_stream/Task000/Exp000': 0.0, 'Top1_Acc_Exp/eval_phase/test_stream/Task000/Exp001': 1.0}\n"
     ]
    },
    {
     "name": "stderr",
     "output_type": "stream",
     "text": [
      "3it [6:40:04, 10899.49s/it]"
     ]
    },
    {
     "name": "stdout",
     "output_type": "stream",
     "text": [
      "{'Top1_Acc_Exp/eval_phase/test_stream/Task000/Exp000': 0.0, 'StreamBWT/eval_phase/test_stream': -0.5, 'Top1_Acc_Stream/eval_phase/test_stream/Task000': 0.3419943820224719, 'StreamForgetting/eval_phase/test_stream': 0.5, 'ExperienceBWT/eval_phase/test_stream/Task000/Exp000': -0.0, 'ExperienceForgetting/eval_phase/test_stream/Task000/Exp000': 0.0, 'Top1_Acc_Exp/eval_phase/test_stream/Task000/Exp001': 0.0, 'ExperienceBWT/eval_phase/test_stream/Task000/Exp001': -1.0, 'ExperienceForgetting/eval_phase/test_stream/Task000/Exp001': 1.0, 'Top1_Acc_Exp/eval_phase/test_stream/Task000/Exp002': 1.0}\n"
     ]
    },
    {
     "name": "stderr",
     "output_type": "stream",
     "text": [
      "4it [7:11:40, 7345.04s/it] "
     ]
    },
    {
     "name": "stdout",
     "output_type": "stream",
     "text": [
      "{'Top1_Acc_Exp/eval_phase/test_stream/Task000/Exp000': 0.0, 'StreamBWT/eval_phase/test_stream': -0.6666666666666666, 'Top1_Acc_Stream/eval_phase/test_stream/Task000': 0.26597938144329897, 'StreamForgetting/eval_phase/test_stream': 0.6666666666666666, 'ExperienceBWT/eval_phase/test_stream/Task000/Exp000': -0.0, 'ExperienceForgetting/eval_phase/test_stream/Task000/Exp000': 0.0, 'Top1_Acc_Exp/eval_phase/test_stream/Task000/Exp001': 0.0, 'ExperienceBWT/eval_phase/test_stream/Task000/Exp001': -1.0, 'ExperienceForgetting/eval_phase/test_stream/Task000/Exp001': 1.0, 'Top1_Acc_Exp/eval_phase/test_stream/Task000/Exp002': 0.0, 'ExperienceBWT/eval_phase/test_stream/Task000/Exp002': -1.0, 'ExperienceForgetting/eval_phase/test_stream/Task000/Exp002': 1.0, 'Top1_Acc_Exp/eval_phase/test_stream/Task000/Exp003': 1.0}\n"
     ]
    },
    {
     "name": "stderr",
     "output_type": "stream",
     "text": [
      "5it [7:49:17, 5510.04s/it]"
     ]
    },
    {
     "name": "stdout",
     "output_type": "stream",
     "text": [
      "{'Top1_Acc_Exp/eval_phase/test_stream/Task000/Exp000': 0.0, 'StreamBWT/eval_phase/test_stream': -0.75, 'Top1_Acc_Stream/eval_phase/test_stream/Task000': 0.19801570897064902, 'StreamForgetting/eval_phase/test_stream': 0.75, 'ExperienceBWT/eval_phase/test_stream/Task000/Exp000': -0.0, 'ExperienceForgetting/eval_phase/test_stream/Task000/Exp000': 0.0, 'Top1_Acc_Exp/eval_phase/test_stream/Task000/Exp001': 0.0, 'ExperienceBWT/eval_phase/test_stream/Task000/Exp001': -1.0, 'ExperienceForgetting/eval_phase/test_stream/Task000/Exp001': 1.0, 'Top1_Acc_Exp/eval_phase/test_stream/Task000/Exp002': 0.0, 'ExperienceBWT/eval_phase/test_stream/Task000/Exp002': -1.0, 'ExperienceForgetting/eval_phase/test_stream/Task000/Exp002': 1.0, 'Top1_Acc_Exp/eval_phase/test_stream/Task000/Exp003': 0.0, 'ExperienceBWT/eval_phase/test_stream/Task000/Exp003': -1.0, 'ExperienceForgetting/eval_phase/test_stream/Task000/Exp003': 1.0, 'Top1_Acc_Exp/eval_phase/test_stream/Task000/Exp004': 1.0}\n"
     ]
    },
    {
     "name": "stderr",
     "output_type": "stream",
     "text": [
      "5it [9:40:42, 6968.47s/it]\n"
     ]
    },
    {
     "ename": "KeyboardInterrupt",
     "evalue": "",
     "output_type": "error",
     "traceback": [
      "\u001b[0;31m---------------------------------------------------------------------------\u001b[0m",
      "\u001b[0;31mKeyboardInterrupt\u001b[0m                         Traceback (most recent call last)",
      "\u001b[1;32m/Users/jesusoyanedelespinoza/Documents/USM/tt2/notebooks/ogd.ipynb Cell 21\u001b[0m line \u001b[0;36m4\n\u001b[1;32m      <a href='vscode-notebook-cell:/Users/jesusoyanedelespinoza/Documents/USM/tt2/notebooks/ogd.ipynb#Y134sZmlsZQ%3D%3D?line=0'>1</a>\u001b[0m results \u001b[39m=\u001b[39m []\n\u001b[1;32m      <a href='vscode-notebook-cell:/Users/jesusoyanedelespinoza/Documents/USM/tt2/notebooks/ogd.ipynb#Y134sZmlsZQ%3D%3D?line=2'>3</a>\u001b[0m \u001b[39mfor\u001b[39;00m (until, experience) \u001b[39min\u001b[39;00m tqdm(\u001b[39menumerate\u001b[39m(train_stream, start\u001b[39m=\u001b[39m\u001b[39m1\u001b[39m)):\n\u001b[0;32m----> <a href='vscode-notebook-cell:/Users/jesusoyanedelespinoza/Documents/USM/tt2/notebooks/ogd.ipynb#Y134sZmlsZQ%3D%3D?line=3'>4</a>\u001b[0m     strategy\u001b[39m.\u001b[39;49mtrain(experience, eval_streams\u001b[39m=\u001b[39;49m[])\n\u001b[1;32m      <a href='vscode-notebook-cell:/Users/jesusoyanedelespinoza/Documents/USM/tt2/notebooks/ogd.ipynb#Y134sZmlsZQ%3D%3D?line=4'>5</a>\u001b[0m     metrics \u001b[39m=\u001b[39m strategy\u001b[39m.\u001b[39meval(test_stream[:until])\n\u001b[1;32m      <a href='vscode-notebook-cell:/Users/jesusoyanedelespinoza/Documents/USM/tt2/notebooks/ogd.ipynb#Y134sZmlsZQ%3D%3D?line=5'>6</a>\u001b[0m     \u001b[39mprint\u001b[39m(metrics)\n",
      "File \u001b[0;32m~/.pyenv/versions/3.9.18/envs/tt2/lib/python3.9/site-packages/avalanche/training/templates/base_sgd.py:168\u001b[0m, in \u001b[0;36mBaseSGDTemplate.train\u001b[0;34m(self, experiences, eval_streams, **kwargs)\u001b[0m\n\u001b[1;32m    160\u001b[0m \u001b[39mdef\u001b[39;00m \u001b[39mtrain\u001b[39m(\n\u001b[1;32m    161\u001b[0m     \u001b[39mself\u001b[39m,\n\u001b[1;32m    162\u001b[0m     experiences: Union[TDatasetExperience, Iterable[TDatasetExperience]],\n\u001b[0;32m   (...)\u001b[0m\n\u001b[1;32m    166\u001b[0m     \u001b[39m*\u001b[39m\u001b[39m*\u001b[39mkwargs\n\u001b[1;32m    167\u001b[0m ):\n\u001b[0;32m--> 168\u001b[0m     \u001b[39msuper\u001b[39;49m()\u001b[39m.\u001b[39;49mtrain(experiences, eval_streams, \u001b[39m*\u001b[39;49m\u001b[39m*\u001b[39;49mkwargs)\n\u001b[1;32m    169\u001b[0m     \u001b[39mreturn\u001b[39;00m \u001b[39mself\u001b[39m\u001b[39m.\u001b[39mevaluator\u001b[39m.\u001b[39mget_last_metrics()\n",
      "File \u001b[0;32m~/.pyenv/versions/3.9.18/envs/tt2/lib/python3.9/site-packages/avalanche/training/templates/base.py:144\u001b[0m, in \u001b[0;36mBaseTemplate.train\u001b[0;34m(self, experiences, eval_streams, **kwargs)\u001b[0m\n\u001b[1;32m    142\u001b[0m \u001b[39mfor\u001b[39;00m \u001b[39mself\u001b[39m\u001b[39m.\u001b[39mexperience \u001b[39min\u001b[39;00m experiences_list:\n\u001b[1;32m    143\u001b[0m     \u001b[39mself\u001b[39m\u001b[39m.\u001b[39m_before_training_exp(\u001b[39m*\u001b[39m\u001b[39m*\u001b[39mkwargs)\n\u001b[0;32m--> 144\u001b[0m     \u001b[39mself\u001b[39;49m\u001b[39m.\u001b[39;49m_train_exp(\u001b[39mself\u001b[39;49m\u001b[39m.\u001b[39;49mexperience, eval_streams, \u001b[39m*\u001b[39;49m\u001b[39m*\u001b[39;49mkwargs)\n\u001b[1;32m    145\u001b[0m     \u001b[39mself\u001b[39m\u001b[39m.\u001b[39m_after_training_exp(\u001b[39m*\u001b[39m\u001b[39m*\u001b[39mkwargs)\n\u001b[1;32m    146\u001b[0m \u001b[39mself\u001b[39m\u001b[39m.\u001b[39m_after_training(\u001b[39m*\u001b[39m\u001b[39m*\u001b[39mkwargs)\n",
      "File \u001b[0;32m~/.pyenv/versions/3.9.18/envs/tt2/lib/python3.9/site-packages/avalanche/training/templates/base_sgd.py:294\u001b[0m, in \u001b[0;36mBaseSGDTemplate._train_exp\u001b[0;34m(self, experience, eval_streams, **kwargs)\u001b[0m\n\u001b[1;32m    291\u001b[0m     \u001b[39mself\u001b[39m\u001b[39m.\u001b[39m_stop_training \u001b[39m=\u001b[39m \u001b[39mFalse\u001b[39;00m\n\u001b[1;32m    292\u001b[0m     \u001b[39mbreak\u001b[39;00m\n\u001b[0;32m--> 294\u001b[0m \u001b[39mself\u001b[39;49m\u001b[39m.\u001b[39;49mtraining_epoch(\u001b[39m*\u001b[39;49m\u001b[39m*\u001b[39;49mkwargs)\n\u001b[1;32m    295\u001b[0m \u001b[39mself\u001b[39m\u001b[39m.\u001b[39m_after_training_epoch(\u001b[39m*\u001b[39m\u001b[39m*\u001b[39mkwargs)\n",
      "File \u001b[0;32m~/.pyenv/versions/3.9.18/envs/tt2/lib/python3.9/site-packages/avalanche/training/templates/update_type/sgd_update.py:31\u001b[0m, in \u001b[0;36mSGDUpdate.training_epoch\u001b[0;34m(self, **kwargs)\u001b[0m\n\u001b[1;32m     29\u001b[0m \u001b[39mself\u001b[39m\u001b[39m.\u001b[39m_before_backward(\u001b[39m*\u001b[39m\u001b[39m*\u001b[39mkwargs)\n\u001b[1;32m     30\u001b[0m \u001b[39mself\u001b[39m\u001b[39m.\u001b[39mbackward()\n\u001b[0;32m---> 31\u001b[0m \u001b[39mself\u001b[39;49m\u001b[39m.\u001b[39;49m_after_backward(\u001b[39m*\u001b[39;49m\u001b[39m*\u001b[39;49mkwargs)\n\u001b[1;32m     33\u001b[0m \u001b[39m# Optimization step\u001b[39;00m\n\u001b[1;32m     34\u001b[0m \u001b[39mself\u001b[39m\u001b[39m.\u001b[39m_before_update(\u001b[39m*\u001b[39m\u001b[39m*\u001b[39mkwargs)\n",
      "File \u001b[0;32m~/.pyenv/versions/3.9.18/envs/tt2/lib/python3.9/site-packages/avalanche/training/templates/base_sgd.py:482\u001b[0m, in \u001b[0;36mBaseSGDTemplate._after_backward\u001b[0;34m(self, **kwargs)\u001b[0m\n\u001b[1;32m    481\u001b[0m \u001b[39mdef\u001b[39;00m \u001b[39m_after_backward\u001b[39m(\u001b[39mself\u001b[39m, \u001b[39m*\u001b[39m\u001b[39m*\u001b[39mkwargs):\n\u001b[0;32m--> 482\u001b[0m     trigger_plugins(\u001b[39mself\u001b[39;49m, \u001b[39m\"\u001b[39;49m\u001b[39mafter_backward\u001b[39;49m\u001b[39m\"\u001b[39;49m, \u001b[39m*\u001b[39;49m\u001b[39m*\u001b[39;49mkwargs)\n",
      "File \u001b[0;32m~/.pyenv/versions/3.9.18/envs/tt2/lib/python3.9/site-packages/avalanche/training/utils.py:69\u001b[0m, in \u001b[0;36mtrigger_plugins\u001b[0;34m(strategy, event, **kwargs)\u001b[0m\n\u001b[1;32m     67\u001b[0m \u001b[39mfor\u001b[39;00m p \u001b[39min\u001b[39;00m strategy\u001b[39m.\u001b[39mplugins:\n\u001b[1;32m     68\u001b[0m     \u001b[39mif\u001b[39;00m \u001b[39mhasattr\u001b[39m(p, event):\n\u001b[0;32m---> 69\u001b[0m         \u001b[39mgetattr\u001b[39;49m(p, event)(strategy, \u001b[39m*\u001b[39;49m\u001b[39m*\u001b[39;49mkwargs)\n",
      "File \u001b[0;32m~/Documents/USM/tt2/base_code/training/ogd.py:27\u001b[0m, in \u001b[0;36mOGDPlugin.after_backward\u001b[0;34m(self, strategy, *args, **kwargs)\u001b[0m\n\u001b[1;32m     24\u001b[0m g \u001b[39m=\u001b[39m \u001b[39mself\u001b[39m\u001b[39m.\u001b[39m__flatten_grad(strategy\u001b[39m.\u001b[39mmodel)\n\u001b[1;32m     25\u001b[0m \u001b[39mself\u001b[39m\u001b[39m.\u001b[39mclass_specific_gradient_storage\u001b[39m.\u001b[39mappend(g)\n\u001b[0;32m---> 27\u001b[0m proj_g \u001b[39m=\u001b[39m \u001b[39mself\u001b[39;49m\u001b[39m.\u001b[39;49mproject_gradient_vector(g)\n\u001b[1;32m     28\u001b[0m g_tilde \u001b[39m=\u001b[39m g \u001b[39m-\u001b[39m proj_g\n\u001b[1;32m     30\u001b[0m \u001b[39m# assign g_tilde as grad\u001b[39;00m\n",
      "File \u001b[0;32m~/.pyenv/versions/3.9.18/envs/tt2/lib/python3.9/site-packages/torch/utils/_contextlib.py:115\u001b[0m, in \u001b[0;36mcontext_decorator.<locals>.decorate_context\u001b[0;34m(*args, **kwargs)\u001b[0m\n\u001b[1;32m    112\u001b[0m \u001b[39m@functools\u001b[39m\u001b[39m.\u001b[39mwraps(func)\n\u001b[1;32m    113\u001b[0m \u001b[39mdef\u001b[39;00m \u001b[39mdecorate_context\u001b[39m(\u001b[39m*\u001b[39margs, \u001b[39m*\u001b[39m\u001b[39m*\u001b[39mkwargs):\n\u001b[1;32m    114\u001b[0m     \u001b[39mwith\u001b[39;00m ctx_factory():\n\u001b[0;32m--> 115\u001b[0m         \u001b[39mreturn\u001b[39;00m func(\u001b[39m*\u001b[39;49margs, \u001b[39m*\u001b[39;49m\u001b[39m*\u001b[39;49mkwargs)\n",
      "File \u001b[0;32m~/Documents/USM/tt2/base_code/training/ogd.py:69\u001b[0m, in \u001b[0;36mOGDPlugin.project_gradient_vector\u001b[0;34m(self, g)\u001b[0m\n\u001b[1;32m     66\u001b[0m \u001b[39mif\u001b[39;00m \u001b[39mnot\u001b[39;00m \u001b[39mself\u001b[39m\u001b[39m.\u001b[39mcan_be_applied:\n\u001b[1;32m     67\u001b[0m     \u001b[39mreturn\u001b[39;00m g\n\u001b[0;32m---> 69\u001b[0m mid \u001b[39m=\u001b[39m (torch\u001b[39m.\u001b[39;49mmm(\u001b[39mself\u001b[39;49m\u001b[39m.\u001b[39;49morthonormal_basis, g\u001b[39m.\u001b[39;49mview(\u001b[39m-\u001b[39;49m\u001b[39m1\u001b[39;49m, \u001b[39m1\u001b[39;49m)))\u001b[39m.\u001b[39mT\n\u001b[1;32m     70\u001b[0m res \u001b[39m=\u001b[39m (torch\u001b[39m.\u001b[39mmm(mid, \u001b[39mself\u001b[39m\u001b[39m.\u001b[39morthonormal_basis))\u001b[39m.\u001b[39mT\n\u001b[1;32m     72\u001b[0m \u001b[39mreturn\u001b[39;00m res\u001b[39m.\u001b[39mview(\u001b[39m-\u001b[39m\u001b[39m1\u001b[39m)\n",
      "\u001b[0;31mKeyboardInterrupt\u001b[0m: "
     ]
    }
   ],
   "source": [
    "results = []\n",
    "\n",
    "for (until, experience) in tqdm(enumerate(train_stream, start=1)):\n",
    "    strategy.train(experience, eval_streams=[])\n",
    "    metrics = strategy.eval(test_stream[:until])\n",
    "    print(metrics)\n",
    "\n",
    "    results.append(metrics)"
   ]
  },
  {
   "cell_type": "code",
   "execution_count": null,
   "metadata": {},
   "outputs": [],
   "source": [
    "eval_plugin.get_last_metrics()"
   ]
  }
 ],
 "metadata": {
  "kernelspec": {
   "display_name": ".venv",
   "language": "python",
   "name": "python3"
  },
  "language_info": {
   "codemirror_mode": {
    "name": "ipython",
    "version": 3
   },
   "file_extension": ".py",
   "mimetype": "text/x-python",
   "name": "python",
   "nbconvert_exporter": "python",
   "pygments_lexer": "ipython3",
   "version": "3.9.18"
  },
  "orig_nbformat": 4
 },
 "nbformat": 4,
 "nbformat_minor": 2
}
