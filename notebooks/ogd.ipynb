{
 "cells": [
  {
   "attachments": {},
   "cell_type": "markdown",
   "metadata": {},
   "source": [
    "# Orthogonal Gradient Descent"
   ]
  },
  {
   "cell_type": "code",
   "execution_count": 1,
   "metadata": {},
   "outputs": [],
   "source": [
    "%load_ext autoreload\n",
    "%autoreload 2"
   ]
  },
  {
   "attachments": {},
   "cell_type": "markdown",
   "metadata": {},
   "source": [
    "# Global imports and settings"
   ]
  },
  {
   "cell_type": "code",
   "execution_count": 2,
   "metadata": {},
   "outputs": [],
   "source": [
    "from torchvision.transforms import ToTensor, Compose, Normalize"
   ]
  },
  {
   "cell_type": "code",
   "execution_count": 3,
   "metadata": {},
   "outputs": [],
   "source": [
    "from tqdm import tqdm"
   ]
  },
  {
   "cell_type": "code",
   "execution_count": 4,
   "metadata": {},
   "outputs": [
    {
     "name": "stderr",
     "output_type": "stream",
     "text": [
      "/Users/jesusoyanedelespinoza/.pyenv/versions/3.9.18/envs/tt2/lib/python3.9/site-packages/tqdm/auto.py:21: TqdmWarning: IProgress not found. Please update jupyter and ipywidgets. See https://ipywidgets.readthedocs.io/en/stable/user_install.html\n",
      "  from .autonotebook import tqdm as notebook_tqdm\n"
     ]
    }
   ],
   "source": [
    "from avalanche.benchmarks.datasets import MNIST\n",
    "from avalanche.training.plugins import EvaluationPlugin\n",
    "from avalanche.benchmarks.generators import nc_benchmark\n",
    "from avalanche.evaluation.metrics import (\n",
    "    bwt_metrics,\n",
    "    forgetting_metrics,\n",
    "    accuracy_metrics,\n",
    ")\n",
    "\n",
    "from torch.nn import CrossEntropyLoss\n",
    "from torch.optim import Adam"
   ]
  },
  {
   "cell_type": "markdown",
   "metadata": {},
   "source": [
    "## Custom libraries"
   ]
  },
  {
   "cell_type": "code",
   "execution_count": 5,
   "metadata": {},
   "outputs": [],
   "source": [
    "import sys\n",
    "\n",
    "sys.path.append(\"..\")\n",
    "\n",
    "from base_code.training.ogd import OGD\n",
    "from base_code.constants import DATASET_PATH\n",
    "from base_code.models.cnn import CNN2D"
   ]
  },
  {
   "cell_type": "markdown",
   "metadata": {},
   "source": [
    "# Dataset and definitions"
   ]
  },
  {
   "cell_type": "markdown",
   "metadata": {},
   "source": [
    "## Preprocessing definitions"
   ]
  },
  {
   "cell_type": "code",
   "execution_count": 6,
   "metadata": {},
   "outputs": [],
   "source": [
    "train_transform = Compose([\n",
    "    ToTensor(),\n",
    "    Normalize((0.1307,), (0.3081,))\n",
    "])\n",
    "test_transform = Compose([\n",
    "    ToTensor(),\n",
    "    Normalize((0.1307,), (0.3081,))\n",
    "])"
   ]
  },
  {
   "cell_type": "markdown",
   "metadata": {},
   "source": [
    "## Dataset loading"
   ]
  },
  {
   "cell_type": "code",
   "execution_count": 7,
   "metadata": {},
   "outputs": [],
   "source": [
    "mnist_train = MNIST(DATASET_PATH, train=True, transform=train_transform)\n",
    "mnist_test = MNIST(DATASET_PATH, train=False, transform=test_transform)"
   ]
  },
  {
   "cell_type": "markdown",
   "metadata": {},
   "source": [
    "## Scenario creation with train test streams"
   ]
  },
  {
   "cell_type": "code",
   "execution_count": 8,
   "metadata": {},
   "outputs": [],
   "source": [
    "scenario = nc_benchmark(\n",
    "    mnist_train, mnist_test, len(mnist_train.classes), shuffle=True, seed=1234, task_labels=False\n",
    ")\n",
    "\n",
    "train_stream = scenario.train_stream\n",
    "test_stream = scenario.test_stream"
   ]
  },
  {
   "cell_type": "markdown",
   "metadata": {},
   "source": [
    "## Evaluation metrics definition"
   ]
  },
  {
   "cell_type": "code",
   "execution_count": 14,
   "metadata": {},
   "outputs": [
    {
     "name": "stderr",
     "output_type": "stream",
     "text": [
      "/Users/jesusoyanedelespinoza/.pyenv/versions/3.9.18/envs/tt2/lib/python3.9/site-packages/avalanche/training/plugins/evaluation.py:94: UserWarning: No loggers specified, metrics will not be logged\n",
      "  warnings.warn(\"No loggers specified, metrics will not be logged\")\n"
     ]
    }
   ],
   "source": [
    "eval_plugin = EvaluationPlugin(\n",
    "    bwt_metrics(experience=True, stream=True),\n",
    "    accuracy_metrics(experience=True, stream=True),\n",
    "    forgetting_metrics(experience=True, stream=True)\n",
    ")"
   ]
  },
  {
   "cell_type": "markdown",
   "metadata": {},
   "source": [
    "## Model, Optimizer, Loss and Strategy definitions"
   ]
  },
  {
   "cell_type": "code",
   "execution_count": 20,
   "metadata": {},
   "outputs": [],
   "source": [
    "model = CNN2D(n_classes=scenario.n_classes, n_channels=1)\n",
    "optimizer = Adam(model.parameters(), lr=0.001)\n",
    "criterion = CrossEntropyLoss()\n",
    "strategy = OGD(\n",
    "    model, optimizer, criterion, train_mb_size=32, train_epochs=1, evaluator=eval_plugin\n",
    ")"
   ]
  },
  {
   "cell_type": "markdown",
   "metadata": {},
   "source": [
    "# Training and evaluation"
   ]
  },
  {
   "cell_type": "code",
   "execution_count": 21,
   "metadata": {},
   "outputs": [
    {
     "name": "stderr",
     "output_type": "stream",
     "text": [
      "1it [00:03,  3.99s/it]"
     ]
    },
    {
     "name": "stdout",
     "output_type": "stream",
     "text": [
      "{'Top1_Acc_Exp/eval_phase/test_stream/Task000/Exp000': 0.9674887892376681, 'StreamBWT/eval_phase/test_stream': 0.0, 'Top1_Acc_Stream/eval_phase/test_stream/Task000': 0.9674887892376681, 'StreamForgetting/eval_phase/test_stream': 0.0, 'ExperienceBWT/eval_phase/test_stream/Task000/Exp000': -1.0, 'ExperienceForgetting/eval_phase/test_stream/Task000/Exp000': 1.0, 'Top1_Acc_Exp/eval_phase/test_stream/Task000/Exp001': 1.0}\n"
     ]
    },
    {
     "name": "stderr",
     "output_type": "stream",
     "text": [
      "2it [00:12,  6.70s/it]"
     ]
    },
    {
     "name": "stdout",
     "output_type": "stream",
     "text": [
      "{'Top1_Acc_Exp/eval_phase/test_stream/Task000/Exp000': 0.0, 'StreamBWT/eval_phase/test_stream': -0.9674887892376681, 'Top1_Acc_Stream/eval_phase/test_stream/Task000': 0.5240128068303095, 'StreamForgetting/eval_phase/test_stream': 0.9674887892376681, 'ExperienceBWT/eval_phase/test_stream/Task000/Exp000': -0.9674887892376681, 'ExperienceForgetting/eval_phase/test_stream/Task000/Exp000': 0.9674887892376681, 'Top1_Acc_Exp/eval_phase/test_stream/Task000/Exp001': 1.0}\n"
     ]
    },
    {
     "name": "stderr",
     "output_type": "stream",
     "text": [
      "3it [00:26, 10.01s/it]"
     ]
    },
    {
     "name": "stdout",
     "output_type": "stream",
     "text": [
      "{'Top1_Acc_Exp/eval_phase/test_stream/Task000/Exp000': 0.0, 'StreamBWT/eval_phase/test_stream': -0.983744394618834, 'Top1_Acc_Stream/eval_phase/test_stream/Task000': 0.3419943820224719, 'StreamForgetting/eval_phase/test_stream': 0.983744394618834, 'ExperienceBWT/eval_phase/test_stream/Task000/Exp000': -0.9674887892376681, 'ExperienceForgetting/eval_phase/test_stream/Task000/Exp000': 0.9674887892376681, 'Top1_Acc_Exp/eval_phase/test_stream/Task000/Exp001': 0.0, 'ExperienceBWT/eval_phase/test_stream/Task000/Exp001': -1.0, 'ExperienceForgetting/eval_phase/test_stream/Task000/Exp001': 1.0, 'Top1_Acc_Exp/eval_phase/test_stream/Task000/Exp002': 1.0}\n"
     ]
    },
    {
     "name": "stderr",
     "output_type": "stream",
     "text": [
      "4it [00:47, 14.18s/it]"
     ]
    },
    {
     "name": "stdout",
     "output_type": "stream",
     "text": [
      "{'Top1_Acc_Exp/eval_phase/test_stream/Task000/Exp000': 0.0, 'StreamBWT/eval_phase/test_stream': -0.9891629297458894, 'Top1_Acc_Stream/eval_phase/test_stream/Task000': 0.26597938144329897, 'StreamForgetting/eval_phase/test_stream': 0.9891629297458894, 'ExperienceBWT/eval_phase/test_stream/Task000/Exp000': -0.9674887892376681, 'ExperienceForgetting/eval_phase/test_stream/Task000/Exp000': 0.9674887892376681, 'Top1_Acc_Exp/eval_phase/test_stream/Task000/Exp001': 0.0, 'ExperienceBWT/eval_phase/test_stream/Task000/Exp001': -1.0, 'ExperienceForgetting/eval_phase/test_stream/Task000/Exp001': 1.0, 'Top1_Acc_Exp/eval_phase/test_stream/Task000/Exp002': 0.0, 'ExperienceBWT/eval_phase/test_stream/Task000/Exp002': -1.0, 'ExperienceForgetting/eval_phase/test_stream/Task000/Exp002': 1.0, 'Top1_Acc_Exp/eval_phase/test_stream/Task000/Exp003': 1.0}\n"
     ]
    },
    {
     "name": "stderr",
     "output_type": "stream",
     "text": [
      "5it [01:15, 19.44s/it]"
     ]
    },
    {
     "name": "stdout",
     "output_type": "stream",
     "text": [
      "{'Top1_Acc_Exp/eval_phase/test_stream/Task000/Exp000': 0.0, 'StreamBWT/eval_phase/test_stream': -0.991872197309417, 'Top1_Acc_Stream/eval_phase/test_stream/Task000': 0.19801570897064902, 'StreamForgetting/eval_phase/test_stream': 0.991872197309417, 'ExperienceBWT/eval_phase/test_stream/Task000/Exp000': -0.9674887892376681, 'ExperienceForgetting/eval_phase/test_stream/Task000/Exp000': 0.9674887892376681, 'Top1_Acc_Exp/eval_phase/test_stream/Task000/Exp001': 0.0, 'ExperienceBWT/eval_phase/test_stream/Task000/Exp001': -1.0, 'ExperienceForgetting/eval_phase/test_stream/Task000/Exp001': 1.0, 'Top1_Acc_Exp/eval_phase/test_stream/Task000/Exp002': 0.0, 'ExperienceBWT/eval_phase/test_stream/Task000/Exp002': -1.0, 'ExperienceForgetting/eval_phase/test_stream/Task000/Exp002': 1.0, 'Top1_Acc_Exp/eval_phase/test_stream/Task000/Exp003': 0.0, 'ExperienceBWT/eval_phase/test_stream/Task000/Exp003': -1.0, 'ExperienceForgetting/eval_phase/test_stream/Task000/Exp003': 1.0, 'Top1_Acc_Exp/eval_phase/test_stream/Task000/Exp004': 1.0}\n"
     ]
    },
    {
     "name": "stderr",
     "output_type": "stream",
     "text": [
      "6it [01:56, 26.50s/it]"
     ]
    },
    {
     "name": "stdout",
     "output_type": "stream",
     "text": [
      "{'Top1_Acc_Exp/eval_phase/test_stream/Task000/Exp000': 0.0, 'StreamBWT/eval_phase/test_stream': -0.9934977578475337, 'Top1_Acc_Stream/eval_phase/test_stream/Task000': 0.17256712844193603, 'StreamForgetting/eval_phase/test_stream': 0.9934977578475337, 'ExperienceBWT/eval_phase/test_stream/Task000/Exp000': -0.9674887892376681, 'ExperienceForgetting/eval_phase/test_stream/Task000/Exp000': 0.9674887892376681, 'Top1_Acc_Exp/eval_phase/test_stream/Task000/Exp001': 0.0, 'ExperienceBWT/eval_phase/test_stream/Task000/Exp001': -1.0, 'ExperienceForgetting/eval_phase/test_stream/Task000/Exp001': 1.0, 'Top1_Acc_Exp/eval_phase/test_stream/Task000/Exp002': 0.0, 'ExperienceBWT/eval_phase/test_stream/Task000/Exp002': -1.0, 'ExperienceForgetting/eval_phase/test_stream/Task000/Exp002': 1.0, 'Top1_Acc_Exp/eval_phase/test_stream/Task000/Exp003': 0.0, 'ExperienceBWT/eval_phase/test_stream/Task000/Exp003': -1.0, 'ExperienceForgetting/eval_phase/test_stream/Task000/Exp003': 1.0, 'Top1_Acc_Exp/eval_phase/test_stream/Task000/Exp004': 0.0, 'ExperienceBWT/eval_phase/test_stream/Task000/Exp004': -1.0, 'ExperienceForgetting/eval_phase/test_stream/Task000/Exp004': 1.0, 'Top1_Acc_Exp/eval_phase/test_stream/Task000/Exp005': 1.0}\n"
     ]
    },
    {
     "name": "stderr",
     "output_type": "stream",
     "text": [
      "7it [02:55, 37.28s/it]"
     ]
    },
    {
     "name": "stdout",
     "output_type": "stream",
     "text": [
      "{'Top1_Acc_Exp/eval_phase/test_stream/Task000/Exp000': 0.0, 'StreamBWT/eval_phase/test_stream': -0.9945814648729447, 'Top1_Acc_Stream/eval_phase/test_stream/Task000': 0.16256087081065598, 'StreamForgetting/eval_phase/test_stream': 0.9945814648729447, 'ExperienceBWT/eval_phase/test_stream/Task000/Exp000': -0.9674887892376681, 'ExperienceForgetting/eval_phase/test_stream/Task000/Exp000': 0.9674887892376681, 'Top1_Acc_Exp/eval_phase/test_stream/Task000/Exp001': 0.0, 'ExperienceBWT/eval_phase/test_stream/Task000/Exp001': -1.0, 'ExperienceForgetting/eval_phase/test_stream/Task000/Exp001': 1.0, 'Top1_Acc_Exp/eval_phase/test_stream/Task000/Exp002': 0.0, 'ExperienceBWT/eval_phase/test_stream/Task000/Exp002': -1.0, 'ExperienceForgetting/eval_phase/test_stream/Task000/Exp002': 1.0, 'Top1_Acc_Exp/eval_phase/test_stream/Task000/Exp003': 0.0, 'ExperienceBWT/eval_phase/test_stream/Task000/Exp003': -1.0, 'ExperienceForgetting/eval_phase/test_stream/Task000/Exp003': 1.0, 'Top1_Acc_Exp/eval_phase/test_stream/Task000/Exp004': 0.0, 'ExperienceBWT/eval_phase/test_stream/Task000/Exp004': -1.0, 'ExperienceForgetting/eval_phase/test_stream/Task000/Exp004': 1.0, 'Top1_Acc_Exp/eval_phase/test_stream/Task000/Exp005': 0.0, 'ExperienceBWT/eval_phase/test_stream/Task000/Exp005': -1.0, 'ExperienceForgetting/eval_phase/test_stream/Task000/Exp005': 1.0, 'Top1_Acc_Exp/eval_phase/test_stream/Task000/Exp006': 1.0}\n"
     ]
    },
    {
     "name": "stderr",
     "output_type": "stream",
     "text": [
      "8it [04:13, 50.33s/it]"
     ]
    },
    {
     "name": "stdout",
     "output_type": "stream",
     "text": [
      "{'Top1_Acc_Exp/eval_phase/test_stream/Task000/Exp000': 0.0, 'StreamBWT/eval_phase/test_stream': -0.995355541319667, 'Top1_Acc_Stream/eval_phase/test_stream/Task000': 0.12833957553058678, 'StreamForgetting/eval_phase/test_stream': 0.995355541319667, 'ExperienceBWT/eval_phase/test_stream/Task000/Exp000': -0.9674887892376681, 'ExperienceForgetting/eval_phase/test_stream/Task000/Exp000': 0.9674887892376681, 'Top1_Acc_Exp/eval_phase/test_stream/Task000/Exp001': 0.0, 'ExperienceBWT/eval_phase/test_stream/Task000/Exp001': -1.0, 'ExperienceForgetting/eval_phase/test_stream/Task000/Exp001': 1.0, 'Top1_Acc_Exp/eval_phase/test_stream/Task000/Exp002': 0.0, 'ExperienceBWT/eval_phase/test_stream/Task000/Exp002': -1.0, 'ExperienceForgetting/eval_phase/test_stream/Task000/Exp002': 1.0, 'Top1_Acc_Exp/eval_phase/test_stream/Task000/Exp003': 0.0, 'ExperienceBWT/eval_phase/test_stream/Task000/Exp003': -1.0, 'ExperienceForgetting/eval_phase/test_stream/Task000/Exp003': 1.0, 'Top1_Acc_Exp/eval_phase/test_stream/Task000/Exp004': 0.0, 'ExperienceBWT/eval_phase/test_stream/Task000/Exp004': -1.0, 'ExperienceForgetting/eval_phase/test_stream/Task000/Exp004': 1.0, 'Top1_Acc_Exp/eval_phase/test_stream/Task000/Exp005': 0.0, 'ExperienceBWT/eval_phase/test_stream/Task000/Exp005': -1.0, 'ExperienceForgetting/eval_phase/test_stream/Task000/Exp005': 1.0, 'Top1_Acc_Exp/eval_phase/test_stream/Task000/Exp006': 0.0, 'ExperienceBWT/eval_phase/test_stream/Task000/Exp006': -1.0, 'ExperienceForgetting/eval_phase/test_stream/Task000/Exp006': 1.0, 'Top1_Acc_Exp/eval_phase/test_stream/Task000/Exp007': 1.0}\n"
     ]
    },
    {
     "name": "stderr",
     "output_type": "stream",
     "text": [
      "9it [05:47, 63.96s/it]"
     ]
    },
    {
     "name": "stdout",
     "output_type": "stream",
     "text": [
      "{'Top1_Acc_Exp/eval_phase/test_stream/Task000/Exp000': 0.0, 'StreamBWT/eval_phase/test_stream': -0.9959360986547086, 'Top1_Acc_Stream/eval_phase/test_stream/Task000': 0.10901001112347053, 'StreamForgetting/eval_phase/test_stream': 0.9959360986547086, 'ExperienceBWT/eval_phase/test_stream/Task000/Exp000': -0.9674887892376681, 'ExperienceForgetting/eval_phase/test_stream/Task000/Exp000': 0.9674887892376681, 'Top1_Acc_Exp/eval_phase/test_stream/Task000/Exp001': 0.0, 'ExperienceBWT/eval_phase/test_stream/Task000/Exp001': -1.0, 'ExperienceForgetting/eval_phase/test_stream/Task000/Exp001': 1.0, 'Top1_Acc_Exp/eval_phase/test_stream/Task000/Exp002': 0.0, 'ExperienceBWT/eval_phase/test_stream/Task000/Exp002': -1.0, 'ExperienceForgetting/eval_phase/test_stream/Task000/Exp002': 1.0, 'Top1_Acc_Exp/eval_phase/test_stream/Task000/Exp003': 0.0, 'ExperienceBWT/eval_phase/test_stream/Task000/Exp003': -1.0, 'ExperienceForgetting/eval_phase/test_stream/Task000/Exp003': 1.0, 'Top1_Acc_Exp/eval_phase/test_stream/Task000/Exp004': 0.0, 'ExperienceBWT/eval_phase/test_stream/Task000/Exp004': -1.0, 'ExperienceForgetting/eval_phase/test_stream/Task000/Exp004': 1.0, 'Top1_Acc_Exp/eval_phase/test_stream/Task000/Exp005': 0.0, 'ExperienceBWT/eval_phase/test_stream/Task000/Exp005': -1.0, 'ExperienceForgetting/eval_phase/test_stream/Task000/Exp005': 1.0, 'Top1_Acc_Exp/eval_phase/test_stream/Task000/Exp006': 0.0, 'ExperienceBWT/eval_phase/test_stream/Task000/Exp006': -1.0, 'ExperienceForgetting/eval_phase/test_stream/Task000/Exp006': 1.0, 'Top1_Acc_Exp/eval_phase/test_stream/Task000/Exp007': 0.0, 'ExperienceBWT/eval_phase/test_stream/Task000/Exp007': -1.0, 'ExperienceForgetting/eval_phase/test_stream/Task000/Exp007': 1.0, 'Top1_Acc_Exp/eval_phase/test_stream/Task000/Exp008': 1.0}\n"
     ]
    },
    {
     "name": "stderr",
     "output_type": "stream",
     "text": [
      "10it [07:51, 47.12s/it]"
     ]
    },
    {
     "name": "stdout",
     "output_type": "stream",
     "text": [
      "{'Top1_Acc_Exp/eval_phase/test_stream/Task000/Exp000': 0.0, 'StreamBWT/eval_phase/test_stream': -0.9963876432486298, 'Top1_Acc_Stream/eval_phase/test_stream/Task000': 0.101, 'StreamForgetting/eval_phase/test_stream': 0.9963876432486298, 'ExperienceBWT/eval_phase/test_stream/Task000/Exp000': -0.9674887892376681, 'ExperienceForgetting/eval_phase/test_stream/Task000/Exp000': 0.9674887892376681, 'Top1_Acc_Exp/eval_phase/test_stream/Task000/Exp001': 0.0, 'ExperienceBWT/eval_phase/test_stream/Task000/Exp001': -1.0, 'ExperienceForgetting/eval_phase/test_stream/Task000/Exp001': 1.0, 'Top1_Acc_Exp/eval_phase/test_stream/Task000/Exp002': 0.0, 'ExperienceBWT/eval_phase/test_stream/Task000/Exp002': -1.0, 'ExperienceForgetting/eval_phase/test_stream/Task000/Exp002': 1.0, 'Top1_Acc_Exp/eval_phase/test_stream/Task000/Exp003': 0.0, 'ExperienceBWT/eval_phase/test_stream/Task000/Exp003': -1.0, 'ExperienceForgetting/eval_phase/test_stream/Task000/Exp003': 1.0, 'Top1_Acc_Exp/eval_phase/test_stream/Task000/Exp004': 0.0, 'ExperienceBWT/eval_phase/test_stream/Task000/Exp004': -1.0, 'ExperienceForgetting/eval_phase/test_stream/Task000/Exp004': 1.0, 'Top1_Acc_Exp/eval_phase/test_stream/Task000/Exp005': 0.0, 'ExperienceBWT/eval_phase/test_stream/Task000/Exp005': -1.0, 'ExperienceForgetting/eval_phase/test_stream/Task000/Exp005': 1.0, 'Top1_Acc_Exp/eval_phase/test_stream/Task000/Exp006': 0.0, 'ExperienceBWT/eval_phase/test_stream/Task000/Exp006': -1.0, 'ExperienceForgetting/eval_phase/test_stream/Task000/Exp006': 1.0, 'Top1_Acc_Exp/eval_phase/test_stream/Task000/Exp007': 0.0, 'ExperienceBWT/eval_phase/test_stream/Task000/Exp007': -1.0, 'ExperienceForgetting/eval_phase/test_stream/Task000/Exp007': 1.0, 'Top1_Acc_Exp/eval_phase/test_stream/Task000/Exp008': 0.0, 'ExperienceBWT/eval_phase/test_stream/Task000/Exp008': -1.0, 'ExperienceForgetting/eval_phase/test_stream/Task000/Exp008': 1.0, 'Top1_Acc_Exp/eval_phase/test_stream/Task000/Exp009': 1.0}\n"
     ]
    },
    {
     "name": "stderr",
     "output_type": "stream",
     "text": [
      "\n"
     ]
    }
   ],
   "source": [
    "results = []\n",
    "\n",
    "for (until, experience) in tqdm(enumerate(train_stream, start=1)):\n",
    "    strategy.train(experience, eval_streams=[test_stream])\n",
    "    metrics = strategy.eval(test_stream[:until])\n",
    "    print(metrics)\n",
    "\n",
    "    results.append(metrics)"
   ]
  },
  {
   "cell_type": "code",
   "execution_count": 12,
   "metadata": {},
   "outputs": [
    {
     "name": "stdout",
     "output_type": "stream",
     "text": [
      "{}\n",
      "{}\n",
      "{}\n",
      "{}\n",
      "{}\n",
      "{}\n",
      "{}\n",
      "{}\n",
      "{}\n",
      "{}\n"
     ]
    }
   ],
   "source": [
    "for r in results:\n",
    "    print(r)"
   ]
  }
 ],
 "metadata": {
  "kernelspec": {
   "display_name": ".venv",
   "language": "python",
   "name": "python3"
  },
  "language_info": {
   "codemirror_mode": {
    "name": "ipython",
    "version": 3
   },
   "file_extension": ".py",
   "mimetype": "text/x-python",
   "name": "python",
   "nbconvert_exporter": "python",
   "pygments_lexer": "ipython3",
   "version": "3.9.18"
  },
  "orig_nbformat": 4
 },
 "nbformat": 4,
 "nbformat_minor": 2
}
