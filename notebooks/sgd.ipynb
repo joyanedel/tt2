{
 "cells": [
  {
   "cell_type": "markdown",
   "metadata": {},
   "source": [
    "# Orthogonal Gradient Descent"
   ]
  },
  {
   "cell_type": "code",
   "execution_count": 1,
   "metadata": {},
   "outputs": [],
   "source": [
    "%load_ext autoreload\n",
    "%autoreload 2"
   ]
  },
  {
   "cell_type": "markdown",
   "metadata": {},
   "source": [
    "# Global imports and settings"
   ]
  },
  {
   "cell_type": "code",
   "execution_count": 14,
   "metadata": {},
   "outputs": [],
   "source": [
    "import pickle\n",
    "from torchvision.transforms import ToTensor, Compose, Normalize\n",
    "import pandas as pd\n",
    "import seaborn as sns\n",
    "from tqdm import tqdm"
   ]
  },
  {
   "cell_type": "code",
   "execution_count": 3,
   "metadata": {},
   "outputs": [],
   "source": [
    "from avalanche.benchmarks.classic import PermutedMNIST\n",
    "from avalanche.models import SimpleMLP\n",
    "from avalanche.training.plugins import EvaluationPlugin\n",
    "from avalanche.training import Naive\n",
    "from avalanche.logging import InteractiveLogger\n",
    "from avalanche.evaluation.metrics import (\n",
    "    accuracy_metrics,\n",
    ")\n",
    "\n",
    "from torch.nn import CrossEntropyLoss\n",
    "from torch.optim import SGD"
   ]
  },
  {
   "cell_type": "markdown",
   "metadata": {},
   "source": [
    "## Custom libraries"
   ]
  },
  {
   "cell_type": "code",
   "execution_count": 15,
   "metadata": {},
   "outputs": [],
   "source": [
    "import sys\n",
    "\n",
    "sys.path.append(\"..\")\n",
    "\n",
    "from base_code.constants import DATASETS_PATH, SAVED_METRICS_PATH"
   ]
  },
  {
   "cell_type": "markdown",
   "metadata": {},
   "source": [
    "# Dataset and definitions"
   ]
  },
  {
   "cell_type": "markdown",
   "metadata": {},
   "source": [
    "## Preprocessing definitions"
   ]
  },
  {
   "cell_type": "code",
   "execution_count": 5,
   "metadata": {},
   "outputs": [],
   "source": [
    "train_transform = Compose([\n",
    "    ToTensor(),\n",
    "    Normalize((0.1307,), (0.3081,))\n",
    "])\n",
    "test_transform = Compose([\n",
    "    ToTensor(),\n",
    "    Normalize((0.1307,), (0.3081,))\n",
    "])"
   ]
  },
  {
   "cell_type": "markdown",
   "metadata": {},
   "source": [
    "## Dataset loading"
   ]
  },
  {
   "cell_type": "code",
   "execution_count": 6,
   "metadata": {},
   "outputs": [],
   "source": [
    "scenario = PermutedMNIST(\n",
    "    10,\n",
    "    dataset_root=DATASETS_PATH,\n",
    "    seed=1234,\n",
    ")"
   ]
  },
  {
   "cell_type": "markdown",
   "metadata": {},
   "source": [
    "## Scenario creation with train test streams"
   ]
  },
  {
   "cell_type": "code",
   "execution_count": 7,
   "metadata": {},
   "outputs": [],
   "source": [
    "train_stream = scenario.train_stream\n",
    "test_stream = scenario.test_stream"
   ]
  },
  {
   "cell_type": "markdown",
   "metadata": {},
   "source": [
    "## Evaluation metrics definition"
   ]
  },
  {
   "cell_type": "code",
   "execution_count": 8,
   "metadata": {},
   "outputs": [],
   "source": [
    "eval_plugin = EvaluationPlugin(\n",
    "    accuracy_metrics(experience=True, stream=True),\n",
    "    loggers=[InteractiveLogger()]\n",
    ")"
   ]
  },
  {
   "cell_type": "markdown",
   "metadata": {},
   "source": [
    "## Model, Optimizer, Loss and Strategy definitions"
   ]
  },
  {
   "cell_type": "code",
   "execution_count": 9,
   "metadata": {},
   "outputs": [],
   "source": [
    "model = SimpleMLP(num_classes=scenario.n_classes, input_size=28 * 28, hidden_size=100, hidden_layers=2)\n",
    "optimizer = SGD(model.parameters(), lr=0.001)\n",
    "criterion = CrossEntropyLoss()\n",
    "strategy = Naive(\n",
    "    model, optimizer, criterion, train_mb_size=256, train_epochs=5, evaluator=eval_plugin, eval_mb_size=128\n",
    ")"
   ]
  },
  {
   "cell_type": "markdown",
   "metadata": {},
   "source": [
    "# Training and evaluation"
   ]
  },
  {
   "cell_type": "code",
   "execution_count": 10,
   "metadata": {},
   "outputs": [
    {
     "name": "stderr",
     "output_type": "stream",
     "text": [
      "  0%|          | 0/10 [00:00<?, ?it/s]"
     ]
    },
    {
     "name": "stdout",
     "output_type": "stream",
     "text": [
      "-- >> Start of training phase << --\n",
      "100%|██████████| 235/235 [00:03<00:00, 71.23it/s]\n",
      "Epoch 0 ended.\n",
      "100%|██████████| 235/235 [00:03<00:00, 70.29it/s]\n",
      "Epoch 1 ended.\n",
      "100%|██████████| 235/235 [00:03<00:00, 71.80it/s]\n",
      "Epoch 2 ended.\n",
      "100%|██████████| 235/235 [00:03<00:00, 71.70it/s]\n",
      "Epoch 3 ended.\n",
      "100%|██████████| 235/235 [00:03<00:00, 68.94it/s]\n",
      "Epoch 4 ended.\n",
      "-- >> End of training phase << --\n",
      "-- >> Start of eval phase << --\n",
      "-- Starting eval on experience 0 (Task 0) from test stream --\n",
      "100%|██████████| 79/79 [00:00<00:00, 124.01it/s]\n",
      "> Eval on experience 0 (Task 0) from test stream ended.\n",
      "\tTop1_Acc_Exp/eval_phase/test_stream/Task000/Exp000 = 0.6416\n",
      "-- Starting eval on experience 1 (Task 0) from test stream --\n",
      "100%|██████████| 79/79 [00:00<00:00, 133.86it/s]\n",
      "> Eval on experience 1 (Task 0) from test stream ended.\n",
      "\tTop1_Acc_Exp/eval_phase/test_stream/Task000/Exp001 = 0.1871\n",
      "-- Starting eval on experience 2 (Task 0) from test stream --\n",
      "100%|██████████| 79/79 [00:00<00:00, 144.67it/s]\n",
      "> Eval on experience 2 (Task 0) from test stream ended.\n",
      "\tTop1_Acc_Exp/eval_phase/test_stream/Task000/Exp002 = 0.1627\n",
      "-- Starting eval on experience 3 (Task 0) from test stream --\n",
      "100%|██████████| 79/79 [00:00<00:00, 144.12it/s]\n",
      "> Eval on experience 3 (Task 0) from test stream ended.\n",
      "\tTop1_Acc_Exp/eval_phase/test_stream/Task000/Exp003 = 0.2069\n",
      "-- Starting eval on experience 4 (Task 0) from test stream --\n",
      "100%|██████████| 79/79 [00:00<00:00, 133.07it/s]\n",
      "> Eval on experience 4 (Task 0) from test stream ended.\n",
      "\tTop1_Acc_Exp/eval_phase/test_stream/Task000/Exp004 = 0.1061\n",
      "-- Starting eval on experience 5 (Task 0) from test stream --\n",
      "100%|██████████| 79/79 [00:00<00:00, 140.62it/s]\n",
      "> Eval on experience 5 (Task 0) from test stream ended.\n",
      "\tTop1_Acc_Exp/eval_phase/test_stream/Task000/Exp005 = 0.1460\n",
      "-- Starting eval on experience 6 (Task 0) from test stream --\n",
      "100%|██████████| 79/79 [00:00<00:00, 142.73it/s]\n",
      "> Eval on experience 6 (Task 0) from test stream ended.\n",
      "\tTop1_Acc_Exp/eval_phase/test_stream/Task000/Exp006 = 0.1257\n",
      "-- Starting eval on experience 7 (Task 0) from test stream --\n",
      "100%|██████████| 79/79 [00:00<00:00, 137.14it/s]\n",
      "> Eval on experience 7 (Task 0) from test stream ended.\n",
      "\tTop1_Acc_Exp/eval_phase/test_stream/Task000/Exp007 = 0.1677\n",
      "-- Starting eval on experience 8 (Task 0) from test stream --\n",
      "100%|██████████| 79/79 [00:00<00:00, 141.44it/s]\n",
      "> Eval on experience 8 (Task 0) from test stream ended.\n",
      "\tTop1_Acc_Exp/eval_phase/test_stream/Task000/Exp008 = 0.1907\n",
      "-- Starting eval on experience 9 (Task 0) from test stream --\n",
      "100%|██████████| 79/79 [00:00<00:00, 141.42it/s]"
     ]
    },
    {
     "name": "stderr",
     "output_type": "stream",
     "text": [
      " 10%|█         | 1/10 [00:22<03:21, 22.39s/it]"
     ]
    },
    {
     "name": "stdout",
     "output_type": "stream",
     "text": [
      "\n",
      "> Eval on experience 9 (Task 0) from test stream ended.\n",
      "\tTop1_Acc_Exp/eval_phase/test_stream/Task000/Exp009 = 0.1614\n",
      "-- >> End of eval phase << --\n",
      "\tTop1_Acc_Stream/eval_phase/test_stream/Task000 = 0.2096\n",
      "-- >> Start of training phase << --\n",
      "100%|██████████| 235/235 [00:03<00:00, 70.66it/s]\n",
      "Epoch 0 ended.\n",
      "100%|██████████| 235/235 [00:03<00:00, 69.71it/s]\n",
      "Epoch 1 ended.\n",
      "100%|██████████| 235/235 [00:03<00:00, 70.05it/s]\n",
      "Epoch 2 ended.\n",
      "100%|██████████| 235/235 [00:03<00:00, 71.10it/s]\n",
      "Epoch 3 ended.\n",
      "100%|██████████| 235/235 [00:03<00:00, 71.06it/s]\n",
      "Epoch 4 ended.\n",
      "-- >> End of training phase << --\n",
      "-- >> Start of eval phase << --\n",
      "-- Starting eval on experience 0 (Task 0) from test stream --\n",
      "100%|██████████| 79/79 [00:00<00:00, 137.63it/s]\n",
      "> Eval on experience 0 (Task 0) from test stream ended.\n",
      "\tTop1_Acc_Exp/eval_phase/test_stream/Task000/Exp000 = 0.6057\n",
      "-- Starting eval on experience 1 (Task 0) from test stream --\n",
      "100%|██████████| 79/79 [00:00<00:00, 141.35it/s]\n",
      "> Eval on experience 1 (Task 0) from test stream ended.\n",
      "\tTop1_Acc_Exp/eval_phase/test_stream/Task000/Exp001 = 0.7051\n",
      "-- Starting eval on experience 2 (Task 0) from test stream --\n",
      "100%|██████████| 79/79 [00:00<00:00, 141.54it/s]\n",
      "> Eval on experience 2 (Task 0) from test stream ended.\n",
      "\tTop1_Acc_Exp/eval_phase/test_stream/Task000/Exp002 = 0.2006\n",
      "-- Starting eval on experience 3 (Task 0) from test stream --\n",
      "100%|██████████| 79/79 [00:00<00:00, 141.08it/s]\n",
      "> Eval on experience 3 (Task 0) from test stream ended.\n",
      "\tTop1_Acc_Exp/eval_phase/test_stream/Task000/Exp003 = 0.2386\n",
      "-- Starting eval on experience 4 (Task 0) from test stream --\n",
      "100%|██████████| 79/79 [00:00<00:00, 134.66it/s]\n",
      "> Eval on experience 4 (Task 0) from test stream ended.\n",
      "\tTop1_Acc_Exp/eval_phase/test_stream/Task000/Exp004 = 0.1541\n",
      "-- Starting eval on experience 5 (Task 0) from test stream --\n",
      "100%|██████████| 79/79 [00:00<00:00, 131.16it/s]\n",
      "> Eval on experience 5 (Task 0) from test stream ended.\n",
      "\tTop1_Acc_Exp/eval_phase/test_stream/Task000/Exp005 = 0.1591\n",
      "-- Starting eval on experience 6 (Task 0) from test stream --\n",
      "100%|██████████| 79/79 [00:00<00:00, 98.19it/s] \n",
      "> Eval on experience 6 (Task 0) from test stream ended.\n",
      "\tTop1_Acc_Exp/eval_phase/test_stream/Task000/Exp006 = 0.2088\n",
      "-- Starting eval on experience 7 (Task 0) from test stream --\n",
      "100%|██████████| 79/79 [00:00<00:00, 109.13it/s]\n",
      "> Eval on experience 7 (Task 0) from test stream ended.\n",
      "\tTop1_Acc_Exp/eval_phase/test_stream/Task000/Exp007 = 0.1736\n",
      "-- Starting eval on experience 8 (Task 0) from test stream --\n",
      "100%|██████████| 79/79 [00:00<00:00, 121.22it/s]\n",
      "> Eval on experience 8 (Task 0) from test stream ended.\n",
      "\tTop1_Acc_Exp/eval_phase/test_stream/Task000/Exp008 = 0.1949\n",
      "-- Starting eval on experience 9 (Task 0) from test stream --\n",
      "100%|██████████| 79/79 [00:00<00:00, 133.65it/s]"
     ]
    },
    {
     "name": "stderr",
     "output_type": "stream",
     "text": [
      " 20%|██        | 2/10 [00:45<03:01, 22.70s/it]"
     ]
    },
    {
     "name": "stdout",
     "output_type": "stream",
     "text": [
      "\n",
      "> Eval on experience 9 (Task 0) from test stream ended.\n",
      "\tTop1_Acc_Exp/eval_phase/test_stream/Task000/Exp009 = 0.2039\n",
      "-- >> End of eval phase << --\n",
      "\tTop1_Acc_Stream/eval_phase/test_stream/Task000 = 0.2844\n",
      "-- >> Start of training phase << --\n",
      "100%|██████████| 235/235 [00:03<00:00, 65.79it/s]\n",
      "Epoch 0 ended.\n",
      "100%|██████████| 235/235 [00:03<00:00, 66.37it/s]\n",
      "Epoch 1 ended.\n",
      "100%|██████████| 235/235 [00:03<00:00, 64.61it/s]\n",
      "Epoch 2 ended.\n",
      "100%|██████████| 235/235 [00:03<00:00, 68.65it/s]\n",
      "Epoch 3 ended.\n",
      "100%|██████████| 235/235 [00:03<00:00, 67.39it/s]\n",
      "Epoch 4 ended.\n",
      "-- >> End of training phase << --\n",
      "-- >> Start of eval phase << --\n",
      "-- Starting eval on experience 0 (Task 0) from test stream --\n",
      "100%|██████████| 79/79 [00:00<00:00, 128.21it/s]\n",
      "> Eval on experience 0 (Task 0) from test stream ended.\n",
      "\tTop1_Acc_Exp/eval_phase/test_stream/Task000/Exp000 = 0.5712\n",
      "-- Starting eval on experience 1 (Task 0) from test stream --\n",
      "100%|██████████| 79/79 [00:00<00:00, 125.93it/s]\n",
      "> Eval on experience 1 (Task 0) from test stream ended.\n",
      "\tTop1_Acc_Exp/eval_phase/test_stream/Task000/Exp001 = 0.6693\n",
      "-- Starting eval on experience 2 (Task 0) from test stream --\n",
      "100%|██████████| 79/79 [00:00<00:00, 123.81it/s]\n",
      "> Eval on experience 2 (Task 0) from test stream ended.\n",
      "\tTop1_Acc_Exp/eval_phase/test_stream/Task000/Exp002 = 0.6995\n",
      "-- Starting eval on experience 3 (Task 0) from test stream --\n",
      "100%|██████████| 79/79 [00:00<00:00, 138.90it/s]\n",
      "> Eval on experience 3 (Task 0) from test stream ended.\n",
      "\tTop1_Acc_Exp/eval_phase/test_stream/Task000/Exp003 = 0.2152\n",
      "-- Starting eval on experience 4 (Task 0) from test stream --\n",
      "100%|██████████| 79/79 [00:00<00:00, 141.74it/s]\n",
      "> Eval on experience 4 (Task 0) from test stream ended.\n",
      "\tTop1_Acc_Exp/eval_phase/test_stream/Task000/Exp004 = 0.1619\n",
      "-- Starting eval on experience 5 (Task 0) from test stream --\n",
      "100%|██████████| 79/79 [00:00<00:00, 117.51it/s]\n",
      "> Eval on experience 5 (Task 0) from test stream ended.\n",
      "\tTop1_Acc_Exp/eval_phase/test_stream/Task000/Exp005 = 0.1587\n",
      "-- Starting eval on experience 6 (Task 0) from test stream --\n",
      "100%|██████████| 79/79 [00:00<00:00, 129.28it/s]\n",
      "> Eval on experience 6 (Task 0) from test stream ended.\n",
      "\tTop1_Acc_Exp/eval_phase/test_stream/Task000/Exp006 = 0.1956\n",
      "-- Starting eval on experience 7 (Task 0) from test stream --\n",
      "100%|██████████| 79/79 [00:00<00:00, 117.07it/s]\n",
      "> Eval on experience 7 (Task 0) from test stream ended.\n",
      "\tTop1_Acc_Exp/eval_phase/test_stream/Task000/Exp007 = 0.1900\n",
      "-- Starting eval on experience 8 (Task 0) from test stream --\n",
      "100%|██████████| 79/79 [00:00<00:00, 143.54it/s]\n",
      "> Eval on experience 8 (Task 0) from test stream ended.\n",
      "\tTop1_Acc_Exp/eval_phase/test_stream/Task000/Exp008 = 0.2107\n",
      "-- Starting eval on experience 9 (Task 0) from test stream --\n",
      "100%|██████████| 79/79 [00:00<00:00, 136.50it/s]"
     ]
    },
    {
     "name": "stderr",
     "output_type": "stream",
     "text": [
      " 30%|███       | 3/10 [01:09<02:42, 23.20s/it]"
     ]
    },
    {
     "name": "stdout",
     "output_type": "stream",
     "text": [
      "\n",
      "> Eval on experience 9 (Task 0) from test stream ended.\n",
      "\tTop1_Acc_Exp/eval_phase/test_stream/Task000/Exp009 = 0.1964\n",
      "-- >> End of eval phase << --\n",
      "\tTop1_Acc_Stream/eval_phase/test_stream/Task000 = 0.3268\n",
      "-- >> Start of training phase << --\n",
      "100%|██████████| 235/235 [00:03<00:00, 68.16it/s]\n",
      "Epoch 0 ended.\n",
      "100%|██████████| 235/235 [00:03<00:00, 68.79it/s]\n",
      "Epoch 1 ended.\n",
      "100%|██████████| 235/235 [00:03<00:00, 63.70it/s]\n",
      "Epoch 2 ended.\n",
      "100%|██████████| 235/235 [00:03<00:00, 68.83it/s]\n",
      "Epoch 3 ended.\n",
      "100%|██████████| 235/235 [00:03<00:00, 68.93it/s]\n",
      "Epoch 4 ended.\n",
      "-- >> End of training phase << --\n",
      "-- >> Start of eval phase << --\n",
      "-- Starting eval on experience 0 (Task 0) from test stream --\n",
      "100%|██████████| 79/79 [00:00<00:00, 139.07it/s]\n",
      "> Eval on experience 0 (Task 0) from test stream ended.\n",
      "\tTop1_Acc_Exp/eval_phase/test_stream/Task000/Exp000 = 0.4907\n",
      "-- Starting eval on experience 1 (Task 0) from test stream --\n",
      "100%|██████████| 79/79 [00:00<00:00, 121.37it/s]\n",
      "> Eval on experience 1 (Task 0) from test stream ended.\n",
      "\tTop1_Acc_Exp/eval_phase/test_stream/Task000/Exp001 = 0.6512\n",
      "-- Starting eval on experience 2 (Task 0) from test stream --\n",
      "100%|██████████| 79/79 [00:00<00:00, 119.60it/s]\n",
      "> Eval on experience 2 (Task 0) from test stream ended.\n",
      "\tTop1_Acc_Exp/eval_phase/test_stream/Task000/Exp002 = 0.6770\n",
      "-- Starting eval on experience 3 (Task 0) from test stream --\n",
      "100%|██████████| 79/79 [00:00<00:00, 112.10it/s]\n",
      "> Eval on experience 3 (Task 0) from test stream ended.\n",
      "\tTop1_Acc_Exp/eval_phase/test_stream/Task000/Exp003 = 0.7075\n",
      "-- Starting eval on experience 4 (Task 0) from test stream --\n",
      "100%|██████████| 79/79 [00:00<00:00, 138.73it/s]\n",
      "> Eval on experience 4 (Task 0) from test stream ended.\n",
      "\tTop1_Acc_Exp/eval_phase/test_stream/Task000/Exp004 = 0.1575\n",
      "-- Starting eval on experience 5 (Task 0) from test stream --\n",
      "100%|██████████| 79/79 [00:00<00:00, 137.04it/s]\n",
      "> Eval on experience 5 (Task 0) from test stream ended.\n",
      "\tTop1_Acc_Exp/eval_phase/test_stream/Task000/Exp005 = 0.1419\n",
      "-- Starting eval on experience 6 (Task 0) from test stream --\n",
      "100%|██████████| 79/79 [00:00<00:00, 139.14it/s]\n",
      "> Eval on experience 6 (Task 0) from test stream ended.\n",
      "\tTop1_Acc_Exp/eval_phase/test_stream/Task000/Exp006 = 0.2080\n",
      "-- Starting eval on experience 7 (Task 0) from test stream --\n",
      "100%|██████████| 79/79 [00:00<00:00, 136.44it/s]\n",
      "> Eval on experience 7 (Task 0) from test stream ended.\n",
      "\tTop1_Acc_Exp/eval_phase/test_stream/Task000/Exp007 = 0.2079\n",
      "-- Starting eval on experience 8 (Task 0) from test stream --\n",
      "100%|██████████| 79/79 [00:00<00:00, 143.45it/s]\n",
      "> Eval on experience 8 (Task 0) from test stream ended.\n",
      "\tTop1_Acc_Exp/eval_phase/test_stream/Task000/Exp008 = 0.1971\n",
      "-- Starting eval on experience 9 (Task 0) from test stream --\n",
      "100%|██████████| 79/79 [00:00<00:00, 144.10it/s]"
     ]
    },
    {
     "name": "stderr",
     "output_type": "stream",
     "text": [
      " 40%|████      | 4/10 [01:32<02:19, 23.28s/it]"
     ]
    },
    {
     "name": "stdout",
     "output_type": "stream",
     "text": [
      "\n",
      "> Eval on experience 9 (Task 0) from test stream ended.\n",
      "\tTop1_Acc_Exp/eval_phase/test_stream/Task000/Exp009 = 0.1891\n",
      "-- >> End of eval phase << --\n",
      "\tTop1_Acc_Stream/eval_phase/test_stream/Task000 = 0.3628\n",
      "-- >> Start of training phase << --\n",
      "100%|██████████| 235/235 [00:03<00:00, 69.48it/s]\n",
      "Epoch 0 ended.\n",
      "100%|██████████| 235/235 [00:03<00:00, 69.87it/s]\n",
      "Epoch 1 ended.\n",
      "100%|██████████| 235/235 [00:03<00:00, 70.06it/s]\n",
      "Epoch 2 ended.\n",
      "100%|██████████| 235/235 [00:03<00:00, 68.81it/s]\n",
      "Epoch 3 ended.\n",
      "100%|██████████| 235/235 [00:03<00:00, 69.04it/s]\n",
      "Epoch 4 ended.\n",
      "-- >> End of training phase << --\n",
      "-- >> Start of eval phase << --\n",
      "-- Starting eval on experience 0 (Task 0) from test stream --\n",
      "100%|██████████| 79/79 [00:00<00:00, 143.27it/s]\n",
      "> Eval on experience 0 (Task 0) from test stream ended.\n",
      "\tTop1_Acc_Exp/eval_phase/test_stream/Task000/Exp000 = 0.5676\n",
      "-- Starting eval on experience 1 (Task 0) from test stream --\n",
      "100%|██████████| 79/79 [00:00<00:00, 144.74it/s]\n",
      "> Eval on experience 1 (Task 0) from test stream ended.\n",
      "\tTop1_Acc_Exp/eval_phase/test_stream/Task000/Exp001 = 0.6868\n",
      "-- Starting eval on experience 2 (Task 0) from test stream --\n",
      "100%|██████████| 79/79 [00:00<00:00, 142.66it/s]\n",
      "> Eval on experience 2 (Task 0) from test stream ended.\n",
      "\tTop1_Acc_Exp/eval_phase/test_stream/Task000/Exp002 = 0.6912\n",
      "-- Starting eval on experience 3 (Task 0) from test stream --\n",
      "100%|██████████| 79/79 [00:00<00:00, 120.17it/s]\n",
      "> Eval on experience 3 (Task 0) from test stream ended.\n",
      "\tTop1_Acc_Exp/eval_phase/test_stream/Task000/Exp003 = 0.7032\n",
      "-- Starting eval on experience 4 (Task 0) from test stream --\n",
      "100%|██████████| 79/79 [00:00<00:00, 118.16it/s]\n",
      "> Eval on experience 4 (Task 0) from test stream ended.\n",
      "\tTop1_Acc_Exp/eval_phase/test_stream/Task000/Exp004 = 0.7334\n",
      "-- Starting eval on experience 5 (Task 0) from test stream --\n",
      "100%|██████████| 79/79 [00:00<00:00, 137.11it/s]\n",
      "> Eval on experience 5 (Task 0) from test stream ended.\n",
      "\tTop1_Acc_Exp/eval_phase/test_stream/Task000/Exp005 = 0.1486\n",
      "-- Starting eval on experience 6 (Task 0) from test stream --\n",
      "100%|██████████| 79/79 [00:00<00:00, 140.96it/s]\n",
      "> Eval on experience 6 (Task 0) from test stream ended.\n",
      "\tTop1_Acc_Exp/eval_phase/test_stream/Task000/Exp006 = 0.1772\n",
      "-- Starting eval on experience 7 (Task 0) from test stream --\n",
      "100%|██████████| 79/79 [00:00<00:00, 132.52it/s]\n",
      "> Eval on experience 7 (Task 0) from test stream ended.\n",
      "\tTop1_Acc_Exp/eval_phase/test_stream/Task000/Exp007 = 0.1997\n",
      "-- Starting eval on experience 8 (Task 0) from test stream --\n",
      "100%|██████████| 79/79 [00:00<00:00, 119.64it/s]\n",
      "> Eval on experience 8 (Task 0) from test stream ended.\n",
      "\tTop1_Acc_Exp/eval_phase/test_stream/Task000/Exp008 = 0.2155\n",
      "-- Starting eval on experience 9 (Task 0) from test stream --\n",
      "100%|██████████| 79/79 [00:00<00:00, 139.84it/s]"
     ]
    },
    {
     "name": "stderr",
     "output_type": "stream",
     "text": [
      " 50%|█████     | 5/10 [01:55<01:55, 23.14s/it]"
     ]
    },
    {
     "name": "stdout",
     "output_type": "stream",
     "text": [
      "\n",
      "> Eval on experience 9 (Task 0) from test stream ended.\n",
      "\tTop1_Acc_Exp/eval_phase/test_stream/Task000/Exp009 = 0.1960\n",
      "-- >> End of eval phase << --\n",
      "\tTop1_Acc_Stream/eval_phase/test_stream/Task000 = 0.4319\n",
      "-- >> Start of training phase << --\n",
      "100%|██████████| 235/235 [00:03<00:00, 71.19it/s]\n",
      "Epoch 0 ended.\n",
      "100%|██████████| 235/235 [00:03<00:00, 70.70it/s]\n",
      "Epoch 1 ended.\n",
      "100%|██████████| 235/235 [00:03<00:00, 66.23it/s]\n",
      "Epoch 2 ended.\n",
      "100%|██████████| 235/235 [00:03<00:00, 69.69it/s]\n",
      "Epoch 3 ended.\n",
      "100%|██████████| 235/235 [00:03<00:00, 65.86it/s]\n",
      "Epoch 4 ended.\n",
      "-- >> End of training phase << --\n",
      "-- >> Start of eval phase << --\n",
      "-- Starting eval on experience 0 (Task 0) from test stream --\n",
      "100%|██████████| 79/79 [00:00<00:00, 143.40it/s]\n",
      "> Eval on experience 0 (Task 0) from test stream ended.\n",
      "\tTop1_Acc_Exp/eval_phase/test_stream/Task000/Exp000 = 0.4891\n",
      "-- Starting eval on experience 1 (Task 0) from test stream --\n",
      "100%|██████████| 79/79 [00:00<00:00, 143.82it/s]\n",
      "> Eval on experience 1 (Task 0) from test stream ended.\n",
      "\tTop1_Acc_Exp/eval_phase/test_stream/Task000/Exp001 = 0.6500\n",
      "-- Starting eval on experience 2 (Task 0) from test stream --\n",
      "100%|██████████| 79/79 [00:00<00:00, 139.22it/s]\n",
      "> Eval on experience 2 (Task 0) from test stream ended.\n",
      "\tTop1_Acc_Exp/eval_phase/test_stream/Task000/Exp002 = 0.6668\n",
      "-- Starting eval on experience 3 (Task 0) from test stream --\n",
      "100%|██████████| 79/79 [00:00<00:00, 142.67it/s]\n",
      "> Eval on experience 3 (Task 0) from test stream ended.\n",
      "\tTop1_Acc_Exp/eval_phase/test_stream/Task000/Exp003 = 0.6805\n",
      "-- Starting eval on experience 4 (Task 0) from test stream --\n",
      "100%|██████████| 79/79 [00:00<00:00, 143.29it/s]\n",
      "> Eval on experience 4 (Task 0) from test stream ended.\n",
      "\tTop1_Acc_Exp/eval_phase/test_stream/Task000/Exp004 = 0.7325\n",
      "-- Starting eval on experience 5 (Task 0) from test stream --\n",
      "100%|██████████| 79/79 [00:00<00:00, 138.10it/s]\n",
      "> Eval on experience 5 (Task 0) from test stream ended.\n",
      "\tTop1_Acc_Exp/eval_phase/test_stream/Task000/Exp005 = 0.7282\n",
      "-- Starting eval on experience 6 (Task 0) from test stream --\n",
      "100%|██████████| 79/79 [00:00<00:00, 145.06it/s]\n",
      "> Eval on experience 6 (Task 0) from test stream ended.\n",
      "\tTop1_Acc_Exp/eval_phase/test_stream/Task000/Exp006 = 0.1776\n",
      "-- Starting eval on experience 7 (Task 0) from test stream --\n",
      "100%|██████████| 79/79 [00:00<00:00, 144.49it/s]\n",
      "> Eval on experience 7 (Task 0) from test stream ended.\n",
      "\tTop1_Acc_Exp/eval_phase/test_stream/Task000/Exp007 = 0.2015\n",
      "-- Starting eval on experience 8 (Task 0) from test stream --\n",
      "100%|██████████| 79/79 [00:00<00:00, 146.23it/s]\n",
      "> Eval on experience 8 (Task 0) from test stream ended.\n",
      "\tTop1_Acc_Exp/eval_phase/test_stream/Task000/Exp008 = 0.2152\n",
      "-- Starting eval on experience 9 (Task 0) from test stream --\n",
      "100%|██████████| 79/79 [00:00<00:00, 138.93it/s]"
     ]
    },
    {
     "name": "stderr",
     "output_type": "stream",
     "text": [
      " 60%|██████    | 6/10 [02:18<01:31, 22.99s/it]"
     ]
    },
    {
     "name": "stdout",
     "output_type": "stream",
     "text": [
      "\n",
      "> Eval on experience 9 (Task 0) from test stream ended.\n",
      "\tTop1_Acc_Exp/eval_phase/test_stream/Task000/Exp009 = 0.1740\n",
      "-- >> End of eval phase << --\n",
      "\tTop1_Acc_Stream/eval_phase/test_stream/Task000 = 0.4715\n",
      "-- >> Start of training phase << --\n",
      "100%|██████████| 235/235 [00:03<00:00, 71.66it/s]\n",
      "Epoch 0 ended.\n",
      "100%|██████████| 235/235 [00:03<00:00, 71.35it/s]\n",
      "Epoch 1 ended.\n",
      "100%|██████████| 235/235 [00:03<00:00, 70.52it/s]\n",
      "Epoch 2 ended.\n",
      "100%|██████████| 235/235 [00:03<00:00, 71.23it/s]\n",
      "Epoch 3 ended.\n",
      "100%|██████████| 235/235 [00:03<00:00, 70.11it/s]\n",
      "Epoch 4 ended.\n",
      "-- >> End of training phase << --\n",
      "-- >> Start of eval phase << --\n",
      "-- Starting eval on experience 0 (Task 0) from test stream --\n",
      "100%|██████████| 79/79 [00:00<00:00, 136.60it/s]\n",
      "> Eval on experience 0 (Task 0) from test stream ended.\n",
      "\tTop1_Acc_Exp/eval_phase/test_stream/Task000/Exp000 = 0.4904\n",
      "-- Starting eval on experience 1 (Task 0) from test stream --\n",
      "100%|██████████| 79/79 [00:00<00:00, 135.54it/s]\n",
      "> Eval on experience 1 (Task 0) from test stream ended.\n",
      "\tTop1_Acc_Exp/eval_phase/test_stream/Task000/Exp001 = 0.6506\n",
      "-- Starting eval on experience 2 (Task 0) from test stream --\n",
      "100%|██████████| 79/79 [00:00<00:00, 112.85it/s]\n",
      "> Eval on experience 2 (Task 0) from test stream ended.\n",
      "\tTop1_Acc_Exp/eval_phase/test_stream/Task000/Exp002 = 0.6473\n",
      "-- Starting eval on experience 3 (Task 0) from test stream --\n",
      "100%|██████████| 79/79 [00:00<00:00, 141.67it/s]\n",
      "> Eval on experience 3 (Task 0) from test stream ended.\n",
      "\tTop1_Acc_Exp/eval_phase/test_stream/Task000/Exp003 = 0.6762\n",
      "-- Starting eval on experience 4 (Task 0) from test stream --\n",
      "100%|██████████| 79/79 [00:00<00:00, 146.34it/s]\n",
      "> Eval on experience 4 (Task 0) from test stream ended.\n",
      "\tTop1_Acc_Exp/eval_phase/test_stream/Task000/Exp004 = 0.7009\n",
      "-- Starting eval on experience 5 (Task 0) from test stream --\n",
      "100%|██████████| 79/79 [00:00<00:00, 120.64it/s]\n",
      "> Eval on experience 5 (Task 0) from test stream ended.\n",
      "\tTop1_Acc_Exp/eval_phase/test_stream/Task000/Exp005 = 0.7133\n",
      "-- Starting eval on experience 6 (Task 0) from test stream --\n",
      "100%|██████████| 79/79 [00:00<00:00, 146.47it/s]\n",
      "> Eval on experience 6 (Task 0) from test stream ended.\n",
      "\tTop1_Acc_Exp/eval_phase/test_stream/Task000/Exp006 = 0.7149\n",
      "-- Starting eval on experience 7 (Task 0) from test stream --\n",
      "100%|██████████| 79/79 [00:00<00:00, 138.58it/s]\n",
      "> Eval on experience 7 (Task 0) from test stream ended.\n",
      "\tTop1_Acc_Exp/eval_phase/test_stream/Task000/Exp007 = 0.2047\n",
      "-- Starting eval on experience 8 (Task 0) from test stream --\n",
      "100%|██████████| 79/79 [00:00<00:00, 140.85it/s]\n",
      "> Eval on experience 8 (Task 0) from test stream ended.\n",
      "\tTop1_Acc_Exp/eval_phase/test_stream/Task000/Exp008 = 0.2190\n",
      "-- Starting eval on experience 9 (Task 0) from test stream --\n",
      "100%|██████████| 79/79 [00:00<00:00, 142.36it/s]"
     ]
    },
    {
     "name": "stderr",
     "output_type": "stream",
     "text": [
      " 70%|███████   | 7/10 [02:40<01:08, 22.81s/it]"
     ]
    },
    {
     "name": "stdout",
     "output_type": "stream",
     "text": [
      "\n",
      "> Eval on experience 9 (Task 0) from test stream ended.\n",
      "\tTop1_Acc_Exp/eval_phase/test_stream/Task000/Exp009 = 0.1557\n",
      "-- >> End of eval phase << --\n",
      "\tTop1_Acc_Stream/eval_phase/test_stream/Task000 = 0.5173\n",
      "-- >> Start of training phase << --\n",
      "100%|██████████| 235/235 [00:03<00:00, 67.42it/s]\n",
      "Epoch 0 ended.\n",
      "100%|██████████| 235/235 [00:03<00:00, 71.41it/s]\n",
      "Epoch 1 ended.\n",
      "100%|██████████| 235/235 [00:03<00:00, 72.93it/s]\n",
      "Epoch 2 ended.\n",
      "100%|██████████| 235/235 [00:03<00:00, 70.62it/s]\n",
      "Epoch 3 ended.\n",
      "100%|██████████| 235/235 [00:03<00:00, 70.27it/s]\n",
      "Epoch 4 ended.\n",
      "-- >> End of training phase << --\n",
      "-- >> Start of eval phase << --\n",
      "-- Starting eval on experience 0 (Task 0) from test stream --\n",
      "100%|██████████| 79/79 [00:00<00:00, 136.83it/s]\n",
      "> Eval on experience 0 (Task 0) from test stream ended.\n",
      "\tTop1_Acc_Exp/eval_phase/test_stream/Task000/Exp000 = 0.4614\n",
      "-- Starting eval on experience 1 (Task 0) from test stream --\n",
      "100%|██████████| 79/79 [00:00<00:00, 151.46it/s]\n",
      "> Eval on experience 1 (Task 0) from test stream ended.\n",
      "\tTop1_Acc_Exp/eval_phase/test_stream/Task000/Exp001 = 0.6256\n",
      "-- Starting eval on experience 2 (Task 0) from test stream --\n",
      "100%|██████████| 79/79 [00:00<00:00, 147.55it/s]\n",
      "> Eval on experience 2 (Task 0) from test stream ended.\n",
      "\tTop1_Acc_Exp/eval_phase/test_stream/Task000/Exp002 = 0.6223\n",
      "-- Starting eval on experience 3 (Task 0) from test stream --\n",
      "100%|██████████| 79/79 [00:00<00:00, 149.88it/s]\n",
      "> Eval on experience 3 (Task 0) from test stream ended.\n",
      "\tTop1_Acc_Exp/eval_phase/test_stream/Task000/Exp003 = 0.6713\n",
      "-- Starting eval on experience 4 (Task 0) from test stream --\n",
      "100%|██████████| 79/79 [00:00<00:00, 132.17it/s]\n",
      "> Eval on experience 4 (Task 0) from test stream ended.\n",
      "\tTop1_Acc_Exp/eval_phase/test_stream/Task000/Exp004 = 0.6647\n",
      "-- Starting eval on experience 5 (Task 0) from test stream --\n",
      "100%|██████████| 79/79 [00:00<00:00, 148.67it/s]\n",
      "> Eval on experience 5 (Task 0) from test stream ended.\n",
      "\tTop1_Acc_Exp/eval_phase/test_stream/Task000/Exp005 = 0.7166\n",
      "-- Starting eval on experience 6 (Task 0) from test stream --\n",
      "100%|██████████| 79/79 [00:00<00:00, 151.57it/s]\n",
      "> Eval on experience 6 (Task 0) from test stream ended.\n",
      "\tTop1_Acc_Exp/eval_phase/test_stream/Task000/Exp006 = 0.6935\n",
      "-- Starting eval on experience 7 (Task 0) from test stream --\n",
      "100%|██████████| 79/79 [00:00<00:00, 132.91it/s]\n",
      "> Eval on experience 7 (Task 0) from test stream ended.\n",
      "\tTop1_Acc_Exp/eval_phase/test_stream/Task000/Exp007 = 0.7299\n",
      "-- Starting eval on experience 8 (Task 0) from test stream --\n",
      "100%|██████████| 79/79 [00:00<00:00, 138.49it/s]\n",
      "> Eval on experience 8 (Task 0) from test stream ended.\n",
      "\tTop1_Acc_Exp/eval_phase/test_stream/Task000/Exp008 = 0.1870\n",
      "-- Starting eval on experience 9 (Task 0) from test stream --\n",
      "100%|██████████| 79/79 [00:00<00:00, 129.15it/s]"
     ]
    },
    {
     "name": "stderr",
     "output_type": "stream",
     "text": [
      " 80%|████████  | 8/10 [03:02<00:45, 22.64s/it]"
     ]
    },
    {
     "name": "stdout",
     "output_type": "stream",
     "text": [
      "\n",
      "> Eval on experience 9 (Task 0) from test stream ended.\n",
      "\tTop1_Acc_Exp/eval_phase/test_stream/Task000/Exp009 = 0.1585\n",
      "-- >> End of eval phase << --\n",
      "\tTop1_Acc_Stream/eval_phase/test_stream/Task000 = 0.5531\n",
      "-- >> Start of training phase << --\n",
      "100%|██████████| 235/235 [00:03<00:00, 68.48it/s]\n",
      "Epoch 0 ended.\n",
      "100%|██████████| 235/235 [00:03<00:00, 68.82it/s]\n",
      "Epoch 1 ended.\n",
      "100%|██████████| 235/235 [00:03<00:00, 65.06it/s]\n",
      "Epoch 2 ended.\n",
      "100%|██████████| 235/235 [00:03<00:00, 65.61it/s]\n",
      "Epoch 3 ended.\n",
      "100%|██████████| 235/235 [00:03<00:00, 69.69it/s]\n",
      "Epoch 4 ended.\n",
      "-- >> End of training phase << --\n",
      "-- >> Start of eval phase << --\n",
      "-- Starting eval on experience 0 (Task 0) from test stream --\n",
      "100%|██████████| 79/79 [00:00<00:00, 138.18it/s]\n",
      "> Eval on experience 0 (Task 0) from test stream ended.\n",
      "\tTop1_Acc_Exp/eval_phase/test_stream/Task000/Exp000 = 0.3651\n",
      "-- Starting eval on experience 1 (Task 0) from test stream --\n",
      "100%|██████████| 79/79 [00:00<00:00, 137.26it/s]\n",
      "> Eval on experience 1 (Task 0) from test stream ended.\n",
      "\tTop1_Acc_Exp/eval_phase/test_stream/Task000/Exp001 = 0.5848\n",
      "-- Starting eval on experience 2 (Task 0) from test stream --\n",
      "100%|██████████| 79/79 [00:00<00:00, 137.98it/s]\n",
      "> Eval on experience 2 (Task 0) from test stream ended.\n",
      "\tTop1_Acc_Exp/eval_phase/test_stream/Task000/Exp002 = 0.5514\n",
      "-- Starting eval on experience 3 (Task 0) from test stream --\n",
      "100%|██████████| 79/79 [00:00<00:00, 127.60it/s]\n",
      "> Eval on experience 3 (Task 0) from test stream ended.\n",
      "\tTop1_Acc_Exp/eval_phase/test_stream/Task000/Exp003 = 0.6477\n",
      "-- Starting eval on experience 4 (Task 0) from test stream --\n",
      "100%|██████████| 79/79 [00:00<00:00, 141.56it/s]\n",
      "> Eval on experience 4 (Task 0) from test stream ended.\n",
      "\tTop1_Acc_Exp/eval_phase/test_stream/Task000/Exp004 = 0.6667\n",
      "-- Starting eval on experience 5 (Task 0) from test stream --\n",
      "100%|██████████| 79/79 [00:00<00:00, 134.85it/s]\n",
      "> Eval on experience 5 (Task 0) from test stream ended.\n",
      "\tTop1_Acc_Exp/eval_phase/test_stream/Task000/Exp005 = 0.6478\n",
      "-- Starting eval on experience 6 (Task 0) from test stream --\n",
      "100%|██████████| 79/79 [00:00<00:00, 148.25it/s]\n",
      "> Eval on experience 6 (Task 0) from test stream ended.\n",
      "\tTop1_Acc_Exp/eval_phase/test_stream/Task000/Exp006 = 0.6761\n",
      "-- Starting eval on experience 7 (Task 0) from test stream --\n",
      "100%|██████████| 79/79 [00:00<00:00, 134.92it/s]\n",
      "> Eval on experience 7 (Task 0) from test stream ended.\n",
      "\tTop1_Acc_Exp/eval_phase/test_stream/Task000/Exp007 = 0.6841\n",
      "-- Starting eval on experience 8 (Task 0) from test stream --\n",
      "100%|██████████| 79/79 [00:00<00:00, 140.28it/s]\n",
      "> Eval on experience 8 (Task 0) from test stream ended.\n",
      "\tTop1_Acc_Exp/eval_phase/test_stream/Task000/Exp008 = 0.7396\n",
      "-- Starting eval on experience 9 (Task 0) from test stream --\n",
      "100%|██████████| 79/79 [00:00<00:00, 139.37it/s]"
     ]
    },
    {
     "name": "stderr",
     "output_type": "stream",
     "text": [
      " 90%|█████████ | 9/10 [03:26<00:22, 22.81s/it]"
     ]
    },
    {
     "name": "stdout",
     "output_type": "stream",
     "text": [
      "\n",
      "> Eval on experience 9 (Task 0) from test stream ended.\n",
      "\tTop1_Acc_Exp/eval_phase/test_stream/Task000/Exp009 = 0.1747\n",
      "-- >> End of eval phase << --\n",
      "\tTop1_Acc_Stream/eval_phase/test_stream/Task000 = 0.5738\n",
      "-- >> Start of training phase << --\n",
      "100%|██████████| 235/235 [00:03<00:00, 68.83it/s]\n",
      "Epoch 0 ended.\n",
      "100%|██████████| 235/235 [00:03<00:00, 66.34it/s]\n",
      "Epoch 1 ended.\n",
      "100%|██████████| 235/235 [00:03<00:00, 70.71it/s]\n",
      "Epoch 2 ended.\n",
      "100%|██████████| 235/235 [00:03<00:00, 64.56it/s]\n",
      "Epoch 3 ended.\n",
      "100%|██████████| 235/235 [00:03<00:00, 70.55it/s]\n",
      "Epoch 4 ended.\n",
      "-- >> End of training phase << --\n",
      "-- >> Start of eval phase << --\n",
      "-- Starting eval on experience 0 (Task 0) from test stream --\n",
      "100%|██████████| 79/79 [00:00<00:00, 136.54it/s]\n",
      "> Eval on experience 0 (Task 0) from test stream ended.\n",
      "\tTop1_Acc_Exp/eval_phase/test_stream/Task000/Exp000 = 0.3971\n",
      "-- Starting eval on experience 1 (Task 0) from test stream --\n",
      "100%|██████████| 79/79 [00:00<00:00, 132.15it/s]\n",
      "> Eval on experience 1 (Task 0) from test stream ended.\n",
      "\tTop1_Acc_Exp/eval_phase/test_stream/Task000/Exp001 = 0.6041\n",
      "-- Starting eval on experience 2 (Task 0) from test stream --\n",
      "100%|██████████| 79/79 [00:00<00:00, 122.24it/s]\n",
      "> Eval on experience 2 (Task 0) from test stream ended.\n",
      "\tTop1_Acc_Exp/eval_phase/test_stream/Task000/Exp002 = 0.5682\n",
      "-- Starting eval on experience 3 (Task 0) from test stream --\n",
      "100%|██████████| 79/79 [00:00<00:00, 122.86it/s]\n",
      "> Eval on experience 3 (Task 0) from test stream ended.\n",
      "\tTop1_Acc_Exp/eval_phase/test_stream/Task000/Exp003 = 0.6679\n",
      "-- Starting eval on experience 4 (Task 0) from test stream --\n",
      "100%|██████████| 79/79 [00:00<00:00, 131.71it/s]\n",
      "> Eval on experience 4 (Task 0) from test stream ended.\n",
      "\tTop1_Acc_Exp/eval_phase/test_stream/Task000/Exp004 = 0.6648\n",
      "-- Starting eval on experience 5 (Task 0) from test stream --\n",
      "100%|██████████| 79/79 [00:00<00:00, 142.74it/s]\n",
      "> Eval on experience 5 (Task 0) from test stream ended.\n",
      "\tTop1_Acc_Exp/eval_phase/test_stream/Task000/Exp005 = 0.6524\n",
      "-- Starting eval on experience 6 (Task 0) from test stream --\n",
      "100%|██████████| 79/79 [00:00<00:00, 131.35it/s]\n",
      "> Eval on experience 6 (Task 0) from test stream ended.\n",
      "\tTop1_Acc_Exp/eval_phase/test_stream/Task000/Exp006 = 0.6906\n",
      "-- Starting eval on experience 7 (Task 0) from test stream --\n",
      "100%|██████████| 79/79 [00:00<00:00, 118.59it/s]\n",
      "> Eval on experience 7 (Task 0) from test stream ended.\n",
      "\tTop1_Acc_Exp/eval_phase/test_stream/Task000/Exp007 = 0.6970\n",
      "-- Starting eval on experience 8 (Task 0) from test stream --\n",
      "100%|██████████| 79/79 [00:00<00:00, 135.07it/s]\n",
      "> Eval on experience 8 (Task 0) from test stream ended.\n",
      "\tTop1_Acc_Exp/eval_phase/test_stream/Task000/Exp008 = 0.7141\n",
      "-- Starting eval on experience 9 (Task 0) from test stream --\n",
      "100%|██████████| 79/79 [00:00<00:00, 138.78it/s]"
     ]
    },
    {
     "name": "stderr",
     "output_type": "stream",
     "text": [
      "100%|██████████| 10/10 [03:49<00:00, 22.93s/it]"
     ]
    },
    {
     "name": "stdout",
     "output_type": "stream",
     "text": [
      "\n",
      "> Eval on experience 9 (Task 0) from test stream ended.\n",
      "\tTop1_Acc_Exp/eval_phase/test_stream/Task000/Exp009 = 0.7453\n",
      "-- >> End of eval phase << --\n",
      "\tTop1_Acc_Stream/eval_phase/test_stream/Task000 = 0.6401\n"
     ]
    },
    {
     "name": "stderr",
     "output_type": "stream",
     "text": [
      "\n"
     ]
    }
   ],
   "source": [
    "results = []\n",
    "\n",
    "for experience in tqdm(train_stream):\n",
    "    strategy.train(experience)\n",
    "    metrics = strategy.eval(test_stream)\n",
    "    results.append(metrics)"
   ]
  },
  {
   "cell_type": "markdown",
   "metadata": {},
   "source": [
    "# Plotting results"
   ]
  },
  {
   "cell_type": "code",
   "execution_count": 11,
   "metadata": {},
   "outputs": [],
   "source": [
    "accuracies: dict[int, list[float]] = dict()\n",
    "\n",
    "for i in range(10):\n",
    "    accuracies[f\"Task{i}\"] = eval_plugin.get_all_metrics()[f\"Top1_Acc_Exp/eval_phase/test_stream/Task000/Exp00{i}\"][1]\n",
    "\n",
    "accuracies[\"Overall\"] = eval_plugin.get_all_metrics()[\"Top1_Acc_Stream/eval_phase/test_stream/Task000\"][1]"
   ]
  },
  {
   "cell_type": "code",
   "execution_count": 12,
   "metadata": {},
   "outputs": [],
   "source": [
    "acc_df = pd.DataFrame(accuracies)\n",
    "acc_df.index = range(10)"
   ]
  },
  {
   "cell_type": "code",
   "execution_count": 13,
   "metadata": {},
   "outputs": [
    {
     "data": {
      "text/plain": [
       "<Axes: >"
      ]
     },
     "execution_count": 13,
     "metadata": {},
     "output_type": "execute_result"
    },
    {
     "data": {
      "image/png": "[encoded data removed]",
      "text/plain": [
       "<Figure size 640x480 with 1 Axes>"
      ]
     },
     "metadata": {},
     "output_type": "display_data"
    }
   ],
   "source": [
    "sns.lineplot(data=acc_df, dashes=False, markers=True)"
   ]
  },
  {
   "cell_type": "markdown",
   "metadata": {},
   "source": [
    "# Store metrics"
   ]
  },
  {
   "cell_type": "code",
   "execution_count": 16,
   "metadata": {},
   "outputs": [],
   "source": [
    "pickle.dump(acc_df, open(SAVED_METRICS_PATH / \"sgd.pkl\", \"wb\"))"
   ]
  }
 ],
 "metadata": {
  "kernelspec": {
   "display_name": "tt2",
   "language": "python",
   "name": "python3"
  },
  "language_info": {
   "codemirror_mode": {
    "name": "ipython",
    "version": 3
   },
   "file_extension": ".py",
   "mimetype": "text/x-python",
   "name": "python",
   "nbconvert_exporter": "python",
   "pygments_lexer": "ipython3",
   "version": "3.9.18"
  }
 },
 "nbformat": 4,
 "nbformat_minor": 2
}
