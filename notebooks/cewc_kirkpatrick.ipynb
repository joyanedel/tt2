{
 "cells": [
  {
   "cell_type": "code",
   "execution_count": 1,
   "metadata": {},
   "outputs": [],
   "source": [
    "%load_ext autoreload\n",
    "%autoreload 2"
   ]
  },
  {
   "cell_type": "markdown",
   "metadata": {},
   "source": [
    "# Libraries"
   ]
  },
  {
   "cell_type": "code",
   "execution_count": 35,
   "metadata": {},
   "outputs": [],
   "source": [
    "from torchvision.transforms import Compose, ToTensor\n",
    "from torchsummary import summary\n",
    "import pickle\n",
    "import pandas as pd\n",
    "import seaborn as sns\n",
    "from tqdm import tqdm"
   ]
  },
  {
   "cell_type": "code",
   "execution_count": 3,
   "metadata": {},
   "outputs": [
    {
     "name": "stderr",
     "output_type": "stream",
     "text": [
      "/Users/jesusoyanedelespinoza/.pyenv/versions/3.9.18/envs/tt2/lib/python3.9/site-packages/tqdm/auto.py:21: TqdmWarning: IProgress not found. Please update jupyter and ipywidgets. See https://ipywidgets.readthedocs.io/en/stable/user_install.html\n",
      "  from .autonotebook import tqdm as notebook_tqdm\n"
     ]
    }
   ],
   "source": [
    "from avalanche.benchmarks.classic import PermutedMNIST\n",
    "from avalanche.training.plugins import EvaluationPlugin\n",
    "from avalanche.logging import InteractiveLogger\n",
    "from avalanche.evaluation.metrics import accuracy_metrics\n",
    "\n",
    "from torch.nn import CrossEntropyLoss\n",
    "from torch.optim import SGD"
   ]
  },
  {
   "cell_type": "markdown",
   "metadata": {},
   "source": [
    "## Custom Libraries"
   ]
  },
  {
   "cell_type": "code",
   "execution_count": 13,
   "metadata": {},
   "outputs": [],
   "source": [
    "import sys\n",
    "\n",
    "sys.path.append(\"../base_code/\")\n",
    "\n",
    "from base_code.constants import DATASETS_PATH, SAVED_METRICS_PATH\n",
    "from base_code.models.mlp_dropout import MLPDropout\n",
    "from base_code.training.cewc_v1 import CEWC"
   ]
  },
  {
   "cell_type": "markdown",
   "metadata": {},
   "source": [
    "# Dataset and definitions"
   ]
  },
  {
   "cell_type": "markdown",
   "metadata": {},
   "source": [
    "## Preprocessing definitions"
   ]
  },
  {
   "cell_type": "code",
   "execution_count": 5,
   "metadata": {},
   "outputs": [],
   "source": [
    "train_transform = Compose(\n",
    "    [\n",
    "        ToTensor(),\n",
    "    ]\n",
    ")\n",
    "\n",
    "test_transform = Compose(\n",
    "    [\n",
    "        ToTensor(),\n",
    "    ]\n",
    ")"
   ]
  },
  {
   "cell_type": "markdown",
   "metadata": {},
   "source": [
    "## Dataset loading\n",
    "\n",
    "We load state-of-the-art dataset Modified NIST"
   ]
  },
  {
   "cell_type": "code",
   "execution_count": 6,
   "metadata": {},
   "outputs": [],
   "source": [
    "# mnist_train = MNIST(DATASETS_PATH, train=True, download=True, transform=train_transform)\n",
    "# mnist_test = MNIST(DATASETS_PATH, train=False, download=True, transform=test_transform)\n",
    "\n",
    "scenario = PermutedMNIST(10, seed=1234, dataset_root=DATASETS_PATH)"
   ]
  },
  {
   "cell_type": "markdown",
   "metadata": {},
   "source": [
    "## Scenario creation with train test streaming\n",
    "\n",
    "In this point, we define our scenario considering a training where in every experience of it, a new class is presented. This is, first we train with a class $a$, the following experience we train with class $b$ ($a \\neq b$)"
   ]
  },
  {
   "cell_type": "code",
   "execution_count": 7,
   "metadata": {},
   "outputs": [],
   "source": [
    "# scenario = nc_benchmark(\n",
    "#     mnist_train, mnist_test,\n",
    "#     n_experiences=len(mnist_train.classes), shuffle=True, seed=1234, task_labels=False\n",
    "# )\n",
    "\n",
    "train_stream = scenario.train_stream\n",
    "test_stream = scenario.test_stream"
   ]
  },
  {
   "cell_type": "markdown",
   "metadata": {},
   "source": [
    "## Evaluation metrics definition"
   ]
  },
  {
   "cell_type": "code",
   "execution_count": 8,
   "metadata": {},
   "outputs": [],
   "source": [
    "eval_plugin = EvaluationPlugin(\n",
    "    accuracy_metrics(experience=True, stream=True), loggers=[InteractiveLogger()]\n",
    ")"
   ]
  },
  {
   "cell_type": "markdown",
   "metadata": {},
   "source": [
    "## Model, Optimizer, Loss function and Strategy definition\n",
    "\n",
    "* `model`: Multi Layer Perceptron\n",
    "* `Optimizer`: Adam\n",
    "* `Loss function`: Cross Entropy\n",
    "* `Strategy`: Elastic Weight Consolidation"
   ]
  },
  {
   "cell_type": "code",
   "execution_count": 43,
   "metadata": {},
   "outputs": [],
   "source": [
    "# model = MLP(n_classes=scenario.n_classes, n_channels=1, width=28, height=28)\n",
    "model = MLPDropout(n_classes=scenario.n_classes, width=28, height=28, n_channels=1)\n",
    "optimizer = SGD(model.parameters(), lr=1e-3)\n",
    "criterion = CrossEntropyLoss()\n",
    "strategy = CEWC(\n",
    "    model,\n",
    "    optimizer,\n",
    "    criterion,\n",
    "    ewc_lambda_l1=1.0,\n",
    "    ewc_lambda_l2=1.0,\n",
    "    train_epochs=5,\n",
    "    train_mb_size=128,\n",
    "    evaluator=eval_plugin,\n",
    "    eval_mb_size=128,\n",
    ")"
   ]
  },
  {
   "cell_type": "markdown",
   "metadata": {},
   "source": [
    "# Training and evaluation\n",
    "\n",
    "Revisar porque el entrenamiento se está comportando de forma rara"
   ]
  },
  {
   "cell_type": "code",
   "execution_count": 44,
   "metadata": {},
   "outputs": [
    {
     "name": "stderr",
     "output_type": "stream",
     "text": [
      "  0%|          | 0/10 [00:00<?, ?it/s]"
     ]
    },
    {
     "name": "stdout",
     "output_type": "stream",
     "text": [
      "-- >> Start of training phase << --\n",
      "Used params initialized to zero tensor([False, False, False,  ..., False, False, False])\n",
      "100%|██████████| 469/469 [00:06<00:00, 71.50it/s]\n",
      "Epoch 0 ended.\n",
      "100%|██████████| 469/469 [00:06<00:00, 70.64it/s]\n",
      "Epoch 1 ended.\n",
      "100%|██████████| 469/469 [00:06<00:00, 70.95it/s]\n",
      "Epoch 2 ended.\n",
      "100%|██████████| 469/469 [00:06<00:00, 69.87it/s]\n",
      "Epoch 3 ended.\n",
      "100%|██████████| 469/469 [00:06<00:00, 69.94it/s]\n",
      "Epoch 4 ended.\n",
      "-- >> End of training phase << --\n",
      "-- >> Start of eval phase << --\n",
      "-- Starting eval on experience 0 (Task 0) from test stream --\n",
      "100%|██████████| 79/79 [00:00<00:00, 118.22it/s]\n",
      "> Eval on experience 0 (Task 0) from test stream ended.\n",
      "\tTop1_Acc_Exp/eval_phase/test_stream/Task000/Exp000 = 0.8012\n",
      "-- Starting eval on experience 1 (Task 0) from test stream --\n",
      "100%|██████████| 79/79 [00:00<00:00, 120.79it/s]\n",
      "> Eval on experience 1 (Task 0) from test stream ended.\n",
      "\tTop1_Acc_Exp/eval_phase/test_stream/Task000/Exp001 = 0.1508\n",
      "-- Starting eval on experience 2 (Task 0) from test stream --\n",
      "100%|██████████| 79/79 [00:00<00:00, 120.48it/s]\n",
      "> Eval on experience 2 (Task 0) from test stream ended.\n",
      "\tTop1_Acc_Exp/eval_phase/test_stream/Task000/Exp002 = 0.1630\n",
      "-- Starting eval on experience 3 (Task 0) from test stream --\n",
      "100%|██████████| 79/79 [00:00<00:00, 116.89it/s]\n",
      "> Eval on experience 3 (Task 0) from test stream ended.\n",
      "\tTop1_Acc_Exp/eval_phase/test_stream/Task000/Exp003 = 0.1431\n",
      "-- Starting eval on experience 4 (Task 0) from test stream --\n",
      "100%|██████████| 79/79 [00:00<00:00, 122.17it/s]\n",
      "> Eval on experience 4 (Task 0) from test stream ended.\n",
      "\tTop1_Acc_Exp/eval_phase/test_stream/Task000/Exp004 = 0.1260\n",
      "-- Starting eval on experience 5 (Task 0) from test stream --\n",
      "100%|██████████| 79/79 [00:00<00:00, 121.22it/s]\n",
      "> Eval on experience 5 (Task 0) from test stream ended.\n",
      "\tTop1_Acc_Exp/eval_phase/test_stream/Task000/Exp005 = 0.0835\n",
      "-- Starting eval on experience 6 (Task 0) from test stream --\n",
      "100%|██████████| 79/79 [00:00<00:00, 121.88it/s]\n",
      "> Eval on experience 6 (Task 0) from test stream ended.\n",
      "\tTop1_Acc_Exp/eval_phase/test_stream/Task000/Exp006 = 0.1548\n",
      "-- Starting eval on experience 7 (Task 0) from test stream --\n",
      "100%|██████████| 79/79 [00:00<00:00, 118.94it/s]\n",
      "> Eval on experience 7 (Task 0) from test stream ended.\n",
      "\tTop1_Acc_Exp/eval_phase/test_stream/Task000/Exp007 = 0.1166\n",
      "-- Starting eval on experience 8 (Task 0) from test stream --\n",
      "100%|██████████| 79/79 [00:00<00:00, 121.99it/s]\n",
      "> Eval on experience 8 (Task 0) from test stream ended.\n",
      "\tTop1_Acc_Exp/eval_phase/test_stream/Task000/Exp008 = 0.1833\n",
      "-- Starting eval on experience 9 (Task 0) from test stream --\n",
      "100%|██████████| 79/79 [00:00<00:00, 121.98it/s]"
     ]
    },
    {
     "name": "stderr",
     "output_type": "stream",
     "text": [
      " 10%|█         | 1/10 [00:43<06:32, 43.61s/it]"
     ]
    },
    {
     "name": "stdout",
     "output_type": "stream",
     "text": [
      "\n",
      "> Eval on experience 9 (Task 0) from test stream ended.\n",
      "\tTop1_Acc_Exp/eval_phase/test_stream/Task000/Exp009 = 0.1773\n",
      "-- >> End of eval phase << --\n",
      "\tTop1_Acc_Stream/eval_phase/test_stream/Task000 = 0.2100\n",
      "-- >> Start of training phase << --\n",
      "100%|██████████| 469/469 [00:06<00:00, 69.87it/s]\n",
      "Epoch 0 ended.\n",
      "100%|██████████| 469/469 [00:06<00:00, 69.70it/s]\n",
      "Epoch 1 ended.\n",
      "100%|██████████| 469/469 [00:06<00:00, 68.27it/s]\n",
      "Epoch 2 ended.\n",
      "100%|██████████| 469/469 [00:06<00:00, 69.34it/s]\n",
      "Epoch 3 ended.\n",
      "100%|██████████| 469/469 [00:06<00:00, 69.12it/s]\n",
      "Epoch 4 ended.\n",
      "-- >> End of training phase << --\n",
      "-- >> Start of eval phase << --\n",
      "-- Starting eval on experience 0 (Task 0) from test stream --\n",
      "100%|██████████| 79/79 [00:00<00:00, 120.89it/s]\n",
      "> Eval on experience 0 (Task 0) from test stream ended.\n",
      "\tTop1_Acc_Exp/eval_phase/test_stream/Task000/Exp000 = 0.7720\n",
      "-- Starting eval on experience 1 (Task 0) from test stream --\n",
      "100%|██████████| 79/79 [00:00<00:00, 120.11it/s]\n",
      "> Eval on experience 1 (Task 0) from test stream ended.\n",
      "\tTop1_Acc_Exp/eval_phase/test_stream/Task000/Exp001 = 0.8310\n",
      "-- Starting eval on experience 2 (Task 0) from test stream --\n",
      "100%|██████████| 79/79 [00:00<00:00, 120.25it/s]\n",
      "> Eval on experience 2 (Task 0) from test stream ended.\n",
      "\tTop1_Acc_Exp/eval_phase/test_stream/Task000/Exp002 = 0.1738\n",
      "-- Starting eval on experience 3 (Task 0) from test stream --\n",
      "100%|██████████| 79/79 [00:00<00:00, 115.54it/s]\n",
      "> Eval on experience 3 (Task 0) from test stream ended.\n",
      "\tTop1_Acc_Exp/eval_phase/test_stream/Task000/Exp003 = 0.1576\n",
      "-- Starting eval on experience 4 (Task 0) from test stream --\n",
      "100%|██████████| 79/79 [00:00<00:00, 121.83it/s]\n",
      "> Eval on experience 4 (Task 0) from test stream ended.\n",
      "\tTop1_Acc_Exp/eval_phase/test_stream/Task000/Exp004 = 0.1784\n",
      "-- Starting eval on experience 5 (Task 0) from test stream --\n",
      "100%|██████████| 79/79 [00:00<00:00, 122.08it/s]\n",
      "> Eval on experience 5 (Task 0) from test stream ended.\n",
      "\tTop1_Acc_Exp/eval_phase/test_stream/Task000/Exp005 = 0.0918\n",
      "-- Starting eval on experience 6 (Task 0) from test stream --\n",
      "100%|██████████| 79/79 [00:00<00:00, 119.66it/s]\n",
      "> Eval on experience 6 (Task 0) from test stream ended.\n",
      "\tTop1_Acc_Exp/eval_phase/test_stream/Task000/Exp006 = 0.1608\n",
      "-- Starting eval on experience 7 (Task 0) from test stream --\n",
      "100%|██████████| 79/79 [00:00<00:00, 122.27it/s]\n",
      "> Eval on experience 7 (Task 0) from test stream ended.\n",
      "\tTop1_Acc_Exp/eval_phase/test_stream/Task000/Exp007 = 0.0920\n",
      "-- Starting eval on experience 8 (Task 0) from test stream --\n",
      "100%|██████████| 79/79 [00:00<00:00, 122.17it/s]\n",
      "> Eval on experience 8 (Task 0) from test stream ended.\n",
      "\tTop1_Acc_Exp/eval_phase/test_stream/Task000/Exp008 = 0.1836\n",
      "-- Starting eval on experience 9 (Task 0) from test stream --\n",
      "100%|██████████| 79/79 [00:00<00:00, 118.36it/s]"
     ]
    },
    {
     "name": "stderr",
     "output_type": "stream",
     "text": [
      " 20%|██        | 2/10 [01:28<05:52, 44.08s/it]"
     ]
    },
    {
     "name": "stdout",
     "output_type": "stream",
     "text": [
      "\n",
      "> Eval on experience 9 (Task 0) from test stream ended.\n",
      "\tTop1_Acc_Exp/eval_phase/test_stream/Task000/Exp009 = 0.2283\n",
      "-- >> End of eval phase << --\n",
      "\tTop1_Acc_Stream/eval_phase/test_stream/Task000 = 0.2869\n",
      "-- >> Start of training phase << --\n",
      "100%|██████████| 469/469 [00:06<00:00, 69.15it/s]\n",
      "Epoch 0 ended.\n",
      "100%|██████████| 469/469 [00:06<00:00, 69.67it/s]\n",
      "Epoch 1 ended.\n",
      "100%|██████████| 469/469 [00:06<00:00, 69.59it/s]\n",
      "Epoch 2 ended.\n",
      "100%|██████████| 469/469 [00:06<00:00, 69.40it/s]\n",
      "Epoch 3 ended.\n",
      "100%|██████████| 469/469 [00:06<00:00, 69.36it/s]\n",
      "Epoch 4 ended.\n",
      "-- >> End of training phase << --\n",
      "-- >> Start of eval phase << --\n",
      "-- Starting eval on experience 0 (Task 0) from test stream --\n",
      "100%|██████████| 79/79 [00:00<00:00, 125.17it/s]\n",
      "> Eval on experience 0 (Task 0) from test stream ended.\n",
      "\tTop1_Acc_Exp/eval_phase/test_stream/Task000/Exp000 = 0.7643\n",
      "-- Starting eval on experience 1 (Task 0) from test stream --\n",
      "100%|██████████| 79/79 [00:00<00:00, 120.25it/s]\n",
      "> Eval on experience 1 (Task 0) from test stream ended.\n",
      "\tTop1_Acc_Exp/eval_phase/test_stream/Task000/Exp001 = 0.8108\n",
      "-- Starting eval on experience 2 (Task 0) from test stream --\n",
      "100%|██████████| 79/79 [00:00<00:00, 124.34it/s]\n",
      "> Eval on experience 2 (Task 0) from test stream ended.\n",
      "\tTop1_Acc_Exp/eval_phase/test_stream/Task000/Exp002 = 0.8352\n",
      "-- Starting eval on experience 3 (Task 0) from test stream --\n",
      "100%|██████████| 79/79 [00:00<00:00, 122.91it/s]\n",
      "> Eval on experience 3 (Task 0) from test stream ended.\n",
      "\tTop1_Acc_Exp/eval_phase/test_stream/Task000/Exp003 = 0.1356\n",
      "-- Starting eval on experience 4 (Task 0) from test stream --\n",
      "100%|██████████| 79/79 [00:00<00:00, 122.39it/s]\n",
      "> Eval on experience 4 (Task 0) from test stream ended.\n",
      "\tTop1_Acc_Exp/eval_phase/test_stream/Task000/Exp004 = 0.1335\n",
      "-- Starting eval on experience 5 (Task 0) from test stream --\n",
      "100%|██████████| 79/79 [00:00<00:00, 121.84it/s]\n",
      "> Eval on experience 5 (Task 0) from test stream ended.\n",
      "\tTop1_Acc_Exp/eval_phase/test_stream/Task000/Exp005 = 0.0994\n",
      "-- Starting eval on experience 6 (Task 0) from test stream --\n",
      "100%|██████████| 79/79 [00:00<00:00, 122.91it/s]\n",
      "> Eval on experience 6 (Task 0) from test stream ended.\n",
      "\tTop1_Acc_Exp/eval_phase/test_stream/Task000/Exp006 = 0.1402\n",
      "-- Starting eval on experience 7 (Task 0) from test stream --\n",
      "100%|██████████| 79/79 [00:00<00:00, 122.52it/s]\n",
      "> Eval on experience 7 (Task 0) from test stream ended.\n",
      "\tTop1_Acc_Exp/eval_phase/test_stream/Task000/Exp007 = 0.1329\n",
      "-- Starting eval on experience 8 (Task 0) from test stream --\n",
      "100%|██████████| 79/79 [00:00<00:00, 119.42it/s]\n",
      "> Eval on experience 8 (Task 0) from test stream ended.\n",
      "\tTop1_Acc_Exp/eval_phase/test_stream/Task000/Exp008 = 0.1845\n",
      "-- Starting eval on experience 9 (Task 0) from test stream --\n",
      "100%|██████████| 79/79 [00:00<00:00, 119.91it/s]"
     ]
    },
    {
     "name": "stderr",
     "output_type": "stream",
     "text": [
      " 30%|███       | 3/10 [02:12<05:09, 44.16s/it]"
     ]
    },
    {
     "name": "stdout",
     "output_type": "stream",
     "text": [
      "\n",
      "> Eval on experience 9 (Task 0) from test stream ended.\n",
      "\tTop1_Acc_Exp/eval_phase/test_stream/Task000/Exp009 = 0.1667\n",
      "-- >> End of eval phase << --\n",
      "\tTop1_Acc_Stream/eval_phase/test_stream/Task000 = 0.3403\n",
      "-- >> Start of training phase << --\n",
      "100%|██████████| 469/469 [00:06<00:00, 71.29it/s]\n",
      "Epoch 0 ended.\n",
      "100%|██████████| 469/469 [00:06<00:00, 70.78it/s]\n",
      "Epoch 1 ended.\n",
      "100%|██████████| 469/469 [00:06<00:00, 71.20it/s]\n",
      "Epoch 2 ended.\n",
      "100%|██████████| 469/469 [00:06<00:00, 68.66it/s]\n",
      "Epoch 3 ended.\n",
      "100%|██████████| 469/469 [00:06<00:00, 69.18it/s]\n",
      "Epoch 4 ended.\n",
      "-- >> End of training phase << --\n",
      "-- >> Start of eval phase << --\n",
      "-- Starting eval on experience 0 (Task 0) from test stream --\n",
      "100%|██████████| 79/79 [00:00<00:00, 121.97it/s]\n",
      "> Eval on experience 0 (Task 0) from test stream ended.\n",
      "\tTop1_Acc_Exp/eval_phase/test_stream/Task000/Exp000 = 0.7019\n",
      "-- Starting eval on experience 1 (Task 0) from test stream --\n",
      "100%|██████████| 79/79 [00:00<00:00, 120.15it/s]\n",
      "> Eval on experience 1 (Task 0) from test stream ended.\n",
      "\tTop1_Acc_Exp/eval_phase/test_stream/Task000/Exp001 = 0.8120\n",
      "-- Starting eval on experience 2 (Task 0) from test stream --\n",
      "100%|██████████| 79/79 [00:00<00:00, 118.40it/s]\n",
      "> Eval on experience 2 (Task 0) from test stream ended.\n",
      "\tTop1_Acc_Exp/eval_phase/test_stream/Task000/Exp002 = 0.8258\n",
      "-- Starting eval on experience 3 (Task 0) from test stream --\n",
      "100%|██████████| 79/79 [00:00<00:00, 120.90it/s]\n",
      "> Eval on experience 3 (Task 0) from test stream ended.\n",
      "\tTop1_Acc_Exp/eval_phase/test_stream/Task000/Exp003 = 0.8493\n",
      "-- Starting eval on experience 4 (Task 0) from test stream --\n",
      "100%|██████████| 79/79 [00:00<00:00, 121.57it/s]\n",
      "> Eval on experience 4 (Task 0) from test stream ended.\n",
      "\tTop1_Acc_Exp/eval_phase/test_stream/Task000/Exp004 = 0.1197\n",
      "-- Starting eval on experience 5 (Task 0) from test stream --\n",
      "100%|██████████| 79/79 [00:00<00:00, 118.95it/s]\n",
      "> Eval on experience 5 (Task 0) from test stream ended.\n",
      "\tTop1_Acc_Exp/eval_phase/test_stream/Task000/Exp005 = 0.0731\n",
      "-- Starting eval on experience 6 (Task 0) from test stream --\n",
      "100%|██████████| 79/79 [00:00<00:00, 121.93it/s]\n",
      "> Eval on experience 6 (Task 0) from test stream ended.\n",
      "\tTop1_Acc_Exp/eval_phase/test_stream/Task000/Exp006 = 0.1393\n",
      "-- Starting eval on experience 7 (Task 0) from test stream --\n",
      "100%|██████████| 79/79 [00:00<00:00, 121.01it/s]\n",
      "> Eval on experience 7 (Task 0) from test stream ended.\n",
      "\tTop1_Acc_Exp/eval_phase/test_stream/Task000/Exp007 = 0.1448\n",
      "-- Starting eval on experience 8 (Task 0) from test stream --\n",
      "100%|██████████| 79/79 [00:00<00:00, 119.62it/s]\n",
      "> Eval on experience 8 (Task 0) from test stream ended.\n",
      "\tTop1_Acc_Exp/eval_phase/test_stream/Task000/Exp008 = 0.1704\n",
      "-- Starting eval on experience 9 (Task 0) from test stream --\n",
      "100%|██████████| 79/79 [00:00<00:00, 122.38it/s]"
     ]
    },
    {
     "name": "stderr",
     "output_type": "stream",
     "text": [
      " 40%|████      | 4/10 [02:56<04:24, 44.04s/it]"
     ]
    },
    {
     "name": "stdout",
     "output_type": "stream",
     "text": [
      "\n",
      "> Eval on experience 9 (Task 0) from test stream ended.\n",
      "\tTop1_Acc_Exp/eval_phase/test_stream/Task000/Exp009 = 0.1409\n",
      "-- >> End of eval phase << --\n",
      "\tTop1_Acc_Stream/eval_phase/test_stream/Task000 = 0.3977\n",
      "-- >> Start of training phase << --\n",
      "100%|██████████| 469/469 [00:06<00:00, 69.41it/s]\n",
      "Epoch 0 ended.\n",
      "100%|██████████| 469/469 [00:06<00:00, 69.26it/s]\n",
      "Epoch 1 ended.\n",
      "100%|██████████| 469/469 [00:06<00:00, 69.47it/s]\n",
      "Epoch 2 ended.\n",
      "100%|██████████| 469/469 [00:06<00:00, 69.64it/s]\n",
      "Epoch 3 ended.\n",
      "100%|██████████| 469/469 [00:06<00:00, 70.05it/s]\n",
      "Epoch 4 ended.\n",
      "-- >> End of training phase << --\n",
      "-- >> Start of eval phase << --\n",
      "-- Starting eval on experience 0 (Task 0) from test stream --\n",
      "100%|██████████| 79/79 [00:00<00:00, 123.71it/s]\n",
      "> Eval on experience 0 (Task 0) from test stream ended.\n",
      "\tTop1_Acc_Exp/eval_phase/test_stream/Task000/Exp000 = 0.6969\n",
      "-- Starting eval on experience 1 (Task 0) from test stream --\n",
      "100%|██████████| 79/79 [00:00<00:00, 121.76it/s]\n",
      "> Eval on experience 1 (Task 0) from test stream ended.\n",
      "\tTop1_Acc_Exp/eval_phase/test_stream/Task000/Exp001 = 0.8057\n",
      "-- Starting eval on experience 2 (Task 0) from test stream --\n",
      "100%|██████████| 79/79 [00:00<00:00, 125.41it/s]\n",
      "> Eval on experience 2 (Task 0) from test stream ended.\n",
      "\tTop1_Acc_Exp/eval_phase/test_stream/Task000/Exp002 = 0.8238\n",
      "-- Starting eval on experience 3 (Task 0) from test stream --\n",
      "100%|██████████| 79/79 [00:00<00:00, 122.36it/s]\n",
      "> Eval on experience 3 (Task 0) from test stream ended.\n",
      "\tTop1_Acc_Exp/eval_phase/test_stream/Task000/Exp003 = 0.8164\n",
      "-- Starting eval on experience 4 (Task 0) from test stream --\n",
      "100%|██████████| 79/79 [00:00<00:00, 121.34it/s]\n",
      "> Eval on experience 4 (Task 0) from test stream ended.\n",
      "\tTop1_Acc_Exp/eval_phase/test_stream/Task000/Exp004 = 0.8449\n",
      "-- Starting eval on experience 5 (Task 0) from test stream --\n",
      "100%|██████████| 79/79 [00:00<00:00, 122.98it/s]\n",
      "> Eval on experience 5 (Task 0) from test stream ended.\n",
      "\tTop1_Acc_Exp/eval_phase/test_stream/Task000/Exp005 = 0.0907\n",
      "-- Starting eval on experience 6 (Task 0) from test stream --\n",
      "100%|██████████| 79/79 [00:00<00:00, 124.28it/s]\n",
      "> Eval on experience 6 (Task 0) from test stream ended.\n",
      "\tTop1_Acc_Exp/eval_phase/test_stream/Task000/Exp006 = 0.0991\n",
      "-- Starting eval on experience 7 (Task 0) from test stream --\n",
      "100%|██████████| 79/79 [00:00<00:00, 119.46it/s]\n",
      "> Eval on experience 7 (Task 0) from test stream ended.\n",
      "\tTop1_Acc_Exp/eval_phase/test_stream/Task000/Exp007 = 0.1393\n",
      "-- Starting eval on experience 8 (Task 0) from test stream --\n",
      "100%|██████████| 79/79 [00:00<00:00, 123.62it/s]\n",
      "> Eval on experience 8 (Task 0) from test stream ended.\n",
      "\tTop1_Acc_Exp/eval_phase/test_stream/Task000/Exp008 = 0.1702\n",
      "-- Starting eval on experience 9 (Task 0) from test stream --\n",
      "100%|██████████| 79/79 [00:00<00:00, 124.11it/s]"
     ]
    },
    {
     "name": "stderr",
     "output_type": "stream",
     "text": [
      " 50%|█████     | 5/10 [03:40<03:40, 44.04s/it]"
     ]
    },
    {
     "name": "stdout",
     "output_type": "stream",
     "text": [
      "\n",
      "> Eval on experience 9 (Task 0) from test stream ended.\n",
      "\tTop1_Acc_Exp/eval_phase/test_stream/Task000/Exp009 = 0.1756\n",
      "-- >> End of eval phase << --\n",
      "\tTop1_Acc_Stream/eval_phase/test_stream/Task000 = 0.4663\n",
      "-- >> Start of training phase << --\n",
      "100%|██████████| 469/469 [00:06<00:00, 70.08it/s]\n",
      "Epoch 0 ended.\n",
      "100%|██████████| 469/469 [00:06<00:00, 70.32it/s]\n",
      "Epoch 1 ended.\n",
      "100%|██████████| 469/469 [00:06<00:00, 70.09it/s]\n",
      "Epoch 2 ended.\n",
      "100%|██████████| 469/469 [00:06<00:00, 70.26it/s]\n",
      "Epoch 3 ended.\n",
      "100%|██████████| 469/469 [00:06<00:00, 70.23it/s]\n",
      "Epoch 4 ended.\n",
      "-- >> End of training phase << --\n",
      "-- >> Start of eval phase << --\n",
      "-- Starting eval on experience 0 (Task 0) from test stream --\n",
      "100%|██████████| 79/79 [00:00<00:00, 125.12it/s]\n",
      "> Eval on experience 0 (Task 0) from test stream ended.\n",
      "\tTop1_Acc_Exp/eval_phase/test_stream/Task000/Exp000 = 0.6446\n",
      "-- Starting eval on experience 1 (Task 0) from test stream --\n",
      "100%|██████████| 79/79 [00:00<00:00, 121.49it/s]\n",
      "> Eval on experience 1 (Task 0) from test stream ended.\n",
      "\tTop1_Acc_Exp/eval_phase/test_stream/Task000/Exp001 = 0.7725\n",
      "-- Starting eval on experience 2 (Task 0) from test stream --\n",
      "100%|██████████| 79/79 [00:00<00:00, 124.25it/s]\n",
      "> Eval on experience 2 (Task 0) from test stream ended.\n",
      "\tTop1_Acc_Exp/eval_phase/test_stream/Task000/Exp002 = 0.7996\n",
      "-- Starting eval on experience 3 (Task 0) from test stream --\n",
      "100%|██████████| 79/79 [00:00<00:00, 123.49it/s]\n",
      "> Eval on experience 3 (Task 0) from test stream ended.\n",
      "\tTop1_Acc_Exp/eval_phase/test_stream/Task000/Exp003 = 0.8157\n",
      "-- Starting eval on experience 4 (Task 0) from test stream --\n",
      "100%|██████████| 79/79 [00:00<00:00, 120.09it/s]\n",
      "> Eval on experience 4 (Task 0) from test stream ended.\n",
      "\tTop1_Acc_Exp/eval_phase/test_stream/Task000/Exp004 = 0.8358\n",
      "-- Starting eval on experience 5 (Task 0) from test stream --\n",
      "100%|██████████| 79/79 [00:00<00:00, 121.11it/s]\n",
      "> Eval on experience 5 (Task 0) from test stream ended.\n",
      "\tTop1_Acc_Exp/eval_phase/test_stream/Task000/Exp005 = 0.8482\n",
      "-- Starting eval on experience 6 (Task 0) from test stream --\n",
      "100%|██████████| 79/79 [00:00<00:00, 123.56it/s]\n",
      "> Eval on experience 6 (Task 0) from test stream ended.\n",
      "\tTop1_Acc_Exp/eval_phase/test_stream/Task000/Exp006 = 0.1263\n",
      "-- Starting eval on experience 7 (Task 0) from test stream --\n",
      "100%|██████████| 79/79 [00:00<00:00, 119.66it/s]\n",
      "> Eval on experience 7 (Task 0) from test stream ended.\n",
      "\tTop1_Acc_Exp/eval_phase/test_stream/Task000/Exp007 = 0.1542\n",
      "-- Starting eval on experience 8 (Task 0) from test stream --\n",
      "100%|██████████| 79/79 [00:00<00:00, 122.53it/s]\n",
      "> Eval on experience 8 (Task 0) from test stream ended.\n",
      "\tTop1_Acc_Exp/eval_phase/test_stream/Task000/Exp008 = 0.1483\n",
      "-- Starting eval on experience 9 (Task 0) from test stream --\n",
      "100%|██████████| 79/79 [00:00<00:00, 122.37it/s]"
     ]
    },
    {
     "name": "stderr",
     "output_type": "stream",
     "text": [
      " 60%|██████    | 6/10 [04:23<02:55, 43.93s/it]"
     ]
    },
    {
     "name": "stdout",
     "output_type": "stream",
     "text": [
      "\n",
      "> Eval on experience 9 (Task 0) from test stream ended.\n",
      "\tTop1_Acc_Exp/eval_phase/test_stream/Task000/Exp009 = 0.1495\n",
      "-- >> End of eval phase << --\n",
      "\tTop1_Acc_Stream/eval_phase/test_stream/Task000 = 0.5295\n",
      "-- >> Start of training phase << --\n",
      "100%|██████████| 469/469 [00:06<00:00, 70.46it/s]\n",
      "Epoch 0 ended.\n",
      "100%|██████████| 469/469 [00:06<00:00, 70.50it/s]\n",
      "Epoch 1 ended.\n",
      "100%|██████████| 469/469 [00:06<00:00, 70.45it/s]\n",
      "Epoch 2 ended.\n",
      "100%|██████████| 469/469 [00:06<00:00, 70.38it/s]\n",
      "Epoch 3 ended.\n",
      "100%|██████████| 469/469 [00:06<00:00, 70.51it/s]\n",
      "Epoch 4 ended.\n",
      "-- >> End of training phase << --\n",
      "-- >> Start of eval phase << --\n",
      "-- Starting eval on experience 0 (Task 0) from test stream --\n",
      "100%|██████████| 79/79 [00:00<00:00, 126.09it/s]\n",
      "> Eval on experience 0 (Task 0) from test stream ended.\n",
      "\tTop1_Acc_Exp/eval_phase/test_stream/Task000/Exp000 = 0.6675\n",
      "-- Starting eval on experience 1 (Task 0) from test stream --\n",
      "100%|██████████| 79/79 [00:00<00:00, 124.45it/s]\n",
      "> Eval on experience 1 (Task 0) from test stream ended.\n",
      "\tTop1_Acc_Exp/eval_phase/test_stream/Task000/Exp001 = 0.7559\n",
      "-- Starting eval on experience 2 (Task 0) from test stream --\n",
      "100%|██████████| 79/79 [00:00<00:00, 120.81it/s]\n",
      "> Eval on experience 2 (Task 0) from test stream ended.\n",
      "\tTop1_Acc_Exp/eval_phase/test_stream/Task000/Exp002 = 0.7758\n",
      "-- Starting eval on experience 3 (Task 0) from test stream --\n",
      "100%|██████████| 79/79 [00:00<00:00, 124.35it/s]\n",
      "> Eval on experience 3 (Task 0) from test stream ended.\n",
      "\tTop1_Acc_Exp/eval_phase/test_stream/Task000/Exp003 = 0.8149\n",
      "-- Starting eval on experience 4 (Task 0) from test stream --\n",
      "100%|██████████| 79/79 [00:00<00:00, 124.76it/s]\n",
      "> Eval on experience 4 (Task 0) from test stream ended.\n",
      "\tTop1_Acc_Exp/eval_phase/test_stream/Task000/Exp004 = 0.8226\n",
      "-- Starting eval on experience 5 (Task 0) from test stream --\n",
      "100%|██████████| 79/79 [00:00<00:00, 120.92it/s]\n",
      "> Eval on experience 5 (Task 0) from test stream ended.\n",
      "\tTop1_Acc_Exp/eval_phase/test_stream/Task000/Exp005 = 0.8377\n",
      "-- Starting eval on experience 6 (Task 0) from test stream --\n",
      "100%|██████████| 79/79 [00:00<00:00, 125.76it/s]\n",
      "> Eval on experience 6 (Task 0) from test stream ended.\n",
      "\tTop1_Acc_Exp/eval_phase/test_stream/Task000/Exp006 = 0.8550\n",
      "-- Starting eval on experience 7 (Task 0) from test stream --\n",
      "100%|██████████| 79/79 [00:00<00:00, 125.61it/s]\n",
      "> Eval on experience 7 (Task 0) from test stream ended.\n",
      "\tTop1_Acc_Exp/eval_phase/test_stream/Task000/Exp007 = 0.1192\n",
      "-- Starting eval on experience 8 (Task 0) from test stream --\n",
      "100%|██████████| 79/79 [00:00<00:00, 121.80it/s]\n",
      "> Eval on experience 8 (Task 0) from test stream ended.\n",
      "\tTop1_Acc_Exp/eval_phase/test_stream/Task000/Exp008 = 0.1399\n",
      "-- Starting eval on experience 9 (Task 0) from test stream --\n",
      "100%|██████████| 79/79 [00:00<00:00, 124.42it/s]"
     ]
    },
    {
     "name": "stderr",
     "output_type": "stream",
     "text": [
      " 70%|███████   | 7/10 [05:07<02:11, 43.81s/it]"
     ]
    },
    {
     "name": "stdout",
     "output_type": "stream",
     "text": [
      "\n",
      "> Eval on experience 9 (Task 0) from test stream ended.\n",
      "\tTop1_Acc_Exp/eval_phase/test_stream/Task000/Exp009 = 0.1518\n",
      "-- >> End of eval phase << --\n",
      "\tTop1_Acc_Stream/eval_phase/test_stream/Task000 = 0.5940\n",
      "-- >> Start of training phase << --\n",
      "100%|██████████| 469/469 [00:06<00:00, 70.31it/s]\n",
      "Epoch 0 ended.\n",
      "100%|██████████| 469/469 [00:06<00:00, 70.52it/s]\n",
      "Epoch 1 ended.\n",
      "100%|██████████| 469/469 [03:45<00:00,  2.08it/s]\n",
      "Epoch 2 ended.\n",
      "100%|██████████| 469/469 [00:06<00:00, 68.69it/s]\n",
      "Epoch 3 ended.\n",
      "100%|██████████| 469/469 [00:06<00:00, 70.46it/s]\n",
      "Epoch 4 ended.\n",
      "-- >> End of training phase << --\n",
      "-- >> Start of eval phase << --\n",
      "-- Starting eval on experience 0 (Task 0) from test stream --\n",
      "100%|██████████| 79/79 [00:00<00:00, 125.59it/s]\n",
      "> Eval on experience 0 (Task 0) from test stream ended.\n",
      "\tTop1_Acc_Exp/eval_phase/test_stream/Task000/Exp000 = 0.6009\n",
      "-- Starting eval on experience 1 (Task 0) from test stream --\n",
      "100%|██████████| 79/79 [00:00<00:00, 125.35it/s]\n",
      "> Eval on experience 1 (Task 0) from test stream ended.\n",
      "\tTop1_Acc_Exp/eval_phase/test_stream/Task000/Exp001 = 0.7245\n",
      "-- Starting eval on experience 2 (Task 0) from test stream --\n",
      "100%|██████████| 79/79 [00:00<00:00, 122.96it/s]\n",
      "> Eval on experience 2 (Task 0) from test stream ended.\n",
      "\tTop1_Acc_Exp/eval_phase/test_stream/Task000/Exp002 = 0.7375\n",
      "-- Starting eval on experience 3 (Task 0) from test stream --\n",
      "100%|██████████| 79/79 [00:00<00:00, 124.24it/s]\n",
      "> Eval on experience 3 (Task 0) from test stream ended.\n",
      "\tTop1_Acc_Exp/eval_phase/test_stream/Task000/Exp003 = 0.8068\n",
      "-- Starting eval on experience 4 (Task 0) from test stream --\n",
      "100%|██████████| 79/79 [00:00<00:00, 123.38it/s]\n",
      "> Eval on experience 4 (Task 0) from test stream ended.\n",
      "\tTop1_Acc_Exp/eval_phase/test_stream/Task000/Exp004 = 0.8034\n",
      "-- Starting eval on experience 5 (Task 0) from test stream --\n",
      "100%|██████████| 79/79 [00:00<00:00, 120.52it/s]\n",
      "> Eval on experience 5 (Task 0) from test stream ended.\n",
      "\tTop1_Acc_Exp/eval_phase/test_stream/Task000/Exp005 = 0.8203\n",
      "-- Starting eval on experience 6 (Task 0) from test stream --\n",
      "100%|██████████| 79/79 [00:00<00:00, 125.81it/s]\n",
      "> Eval on experience 6 (Task 0) from test stream ended.\n",
      "\tTop1_Acc_Exp/eval_phase/test_stream/Task000/Exp006 = 0.8445\n",
      "-- Starting eval on experience 7 (Task 0) from test stream --\n",
      "100%|██████████| 79/79 [00:00<00:00, 123.95it/s]\n",
      "> Eval on experience 7 (Task 0) from test stream ended.\n",
      "\tTop1_Acc_Exp/eval_phase/test_stream/Task000/Exp007 = 0.8614\n",
      "-- Starting eval on experience 8 (Task 0) from test stream --\n",
      "100%|██████████| 79/79 [00:00<00:00, 120.78it/s]\n",
      "> Eval on experience 8 (Task 0) from test stream ended.\n",
      "\tTop1_Acc_Exp/eval_phase/test_stream/Task000/Exp008 = 0.1061\n",
      "-- Starting eval on experience 9 (Task 0) from test stream --\n",
      "100%|██████████| 79/79 [00:00<00:00, 120.55it/s]"
     ]
    },
    {
     "name": "stderr",
     "output_type": "stream",
     "text": [
      " 80%|████████  | 8/10 [09:30<03:46, 113.45s/it]"
     ]
    },
    {
     "name": "stdout",
     "output_type": "stream",
     "text": [
      "\n",
      "> Eval on experience 9 (Task 0) from test stream ended.\n",
      "\tTop1_Acc_Exp/eval_phase/test_stream/Task000/Exp009 = 0.1589\n",
      "-- >> End of eval phase << --\n",
      "\tTop1_Acc_Stream/eval_phase/test_stream/Task000 = 0.6464\n",
      "-- >> Start of training phase << --\n",
      "100%|██████████| 469/469 [00:06<00:00, 69.70it/s]\n",
      "Epoch 0 ended.\n",
      "100%|██████████| 469/469 [00:06<00:00, 69.86it/s]\n",
      "Epoch 1 ended.\n",
      "100%|██████████| 469/469 [00:06<00:00, 69.62it/s]\n",
      "Epoch 2 ended.\n",
      "100%|██████████| 469/469 [00:06<00:00, 69.67it/s]\n",
      "Epoch 3 ended.\n",
      "100%|██████████| 469/469 [00:06<00:00, 69.78it/s]\n",
      "Epoch 4 ended.\n",
      "-- >> End of training phase << --\n",
      "-- >> Start of eval phase << --\n",
      "-- Starting eval on experience 0 (Task 0) from test stream --\n",
      "100%|██████████| 79/79 [00:00<00:00, 123.81it/s]\n",
      "> Eval on experience 0 (Task 0) from test stream ended.\n",
      "\tTop1_Acc_Exp/eval_phase/test_stream/Task000/Exp000 = 0.6151\n",
      "-- Starting eval on experience 1 (Task 0) from test stream --\n",
      "100%|██████████| 79/79 [00:00<00:00, 124.06it/s]\n",
      "> Eval on experience 1 (Task 0) from test stream ended.\n",
      "\tTop1_Acc_Exp/eval_phase/test_stream/Task000/Exp001 = 0.7134\n",
      "-- Starting eval on experience 2 (Task 0) from test stream --\n",
      "100%|██████████| 79/79 [00:00<00:00, 120.39it/s]\n",
      "> Eval on experience 2 (Task 0) from test stream ended.\n",
      "\tTop1_Acc_Exp/eval_phase/test_stream/Task000/Exp002 = 0.7203\n",
      "-- Starting eval on experience 3 (Task 0) from test stream --\n",
      "100%|██████████| 79/79 [00:00<00:00, 122.92it/s]\n",
      "> Eval on experience 3 (Task 0) from test stream ended.\n",
      "\tTop1_Acc_Exp/eval_phase/test_stream/Task000/Exp003 = 0.7911\n",
      "-- Starting eval on experience 4 (Task 0) from test stream --\n",
      "100%|██████████| 79/79 [00:00<00:00, 122.88it/s]\n",
      "> Eval on experience 4 (Task 0) from test stream ended.\n",
      "\tTop1_Acc_Exp/eval_phase/test_stream/Task000/Exp004 = 0.8002\n",
      "-- Starting eval on experience 5 (Task 0) from test stream --\n",
      "100%|██████████| 79/79 [00:00<00:00, 120.84it/s]\n",
      "> Eval on experience 5 (Task 0) from test stream ended.\n",
      "\tTop1_Acc_Exp/eval_phase/test_stream/Task000/Exp005 = 0.7777\n",
      "-- Starting eval on experience 6 (Task 0) from test stream --\n",
      "100%|██████████| 79/79 [00:00<00:00, 122.81it/s]\n",
      "> Eval on experience 6 (Task 0) from test stream ended.\n",
      "\tTop1_Acc_Exp/eval_phase/test_stream/Task000/Exp006 = 0.8284\n",
      "-- Starting eval on experience 7 (Task 0) from test stream --\n",
      "100%|██████████| 79/79 [00:00<00:00, 123.88it/s]\n",
      "> Eval on experience 7 (Task 0) from test stream ended.\n",
      "\tTop1_Acc_Exp/eval_phase/test_stream/Task000/Exp007 = 0.8424\n",
      "-- Starting eval on experience 8 (Task 0) from test stream --\n",
      "100%|██████████| 79/79 [00:00<00:00, 120.31it/s]\n",
      "> Eval on experience 8 (Task 0) from test stream ended.\n",
      "\tTop1_Acc_Exp/eval_phase/test_stream/Task000/Exp008 = 0.8643\n",
      "-- Starting eval on experience 9 (Task 0) from test stream --\n",
      "100%|██████████| 79/79 [00:00<00:00, 123.82it/s]"
     ]
    },
    {
     "name": "stderr",
     "output_type": "stream",
     "text": [
      " 90%|█████████ | 9/10 [10:14<01:31, 91.74s/it] "
     ]
    },
    {
     "name": "stdout",
     "output_type": "stream",
     "text": [
      "\n",
      "> Eval on experience 9 (Task 0) from test stream ended.\n",
      "\tTop1_Acc_Exp/eval_phase/test_stream/Task000/Exp009 = 0.1649\n",
      "-- >> End of eval phase << --\n",
      "\tTop1_Acc_Stream/eval_phase/test_stream/Task000 = 0.7118\n",
      "-- >> Start of training phase << --\n",
      "100%|██████████| 469/469 [00:06<00:00, 69.67it/s]\n",
      "Epoch 0 ended.\n",
      "100%|██████████| 469/469 [00:06<00:00, 68.92it/s]\n",
      "Epoch 1 ended.\n",
      "100%|██████████| 469/469 [00:06<00:00, 69.11it/s]\n",
      "Epoch 2 ended.\n",
      "100%|██████████| 469/469 [00:06<00:00, 69.48it/s]\n",
      "Epoch 3 ended.\n",
      "100%|██████████| 469/469 [00:06<00:00, 69.47it/s]\n",
      "Epoch 4 ended.\n",
      "-- >> End of training phase << --\n",
      "-- >> Start of eval phase << --\n",
      "-- Starting eval on experience 0 (Task 0) from test stream --\n",
      "100%|██████████| 79/79 [00:00<00:00, 121.64it/s]\n",
      "> Eval on experience 0 (Task 0) from test stream ended.\n",
      "\tTop1_Acc_Exp/eval_phase/test_stream/Task000/Exp000 = 0.6061\n",
      "-- Starting eval on experience 1 (Task 0) from test stream --\n",
      "100%|██████████| 79/79 [00:00<00:00, 123.61it/s]\n",
      "> Eval on experience 1 (Task 0) from test stream ended.\n",
      "\tTop1_Acc_Exp/eval_phase/test_stream/Task000/Exp001 = 0.7027\n",
      "-- Starting eval on experience 2 (Task 0) from test stream --\n",
      "100%|██████████| 79/79 [00:00<00:00, 120.23it/s]\n",
      "> Eval on experience 2 (Task 0) from test stream ended.\n",
      "\tTop1_Acc_Exp/eval_phase/test_stream/Task000/Exp002 = 0.7031\n",
      "-- Starting eval on experience 3 (Task 0) from test stream --\n",
      "100%|██████████| 79/79 [00:00<00:00, 123.85it/s]\n",
      "> Eval on experience 3 (Task 0) from test stream ended.\n",
      "\tTop1_Acc_Exp/eval_phase/test_stream/Task000/Exp003 = 0.7829\n",
      "-- Starting eval on experience 4 (Task 0) from test stream --\n",
      "100%|██████████| 79/79 [00:00<00:00, 122.69it/s]\n",
      "> Eval on experience 4 (Task 0) from test stream ended.\n",
      "\tTop1_Acc_Exp/eval_phase/test_stream/Task000/Exp004 = 0.7851\n",
      "-- Starting eval on experience 5 (Task 0) from test stream --\n",
      "100%|██████████| 79/79 [00:00<00:00, 122.25it/s]\n",
      "> Eval on experience 5 (Task 0) from test stream ended.\n",
      "\tTop1_Acc_Exp/eval_phase/test_stream/Task000/Exp005 = 0.7486\n",
      "-- Starting eval on experience 6 (Task 0) from test stream --\n",
      "100%|██████████| 79/79 [00:00<00:00, 121.16it/s]\n",
      "> Eval on experience 6 (Task 0) from test stream ended.\n",
      "\tTop1_Acc_Exp/eval_phase/test_stream/Task000/Exp006 = 0.8268\n",
      "-- Starting eval on experience 7 (Task 0) from test stream --\n",
      "100%|██████████| 79/79 [00:00<00:00, 121.51it/s]\n",
      "> Eval on experience 7 (Task 0) from test stream ended.\n",
      "\tTop1_Acc_Exp/eval_phase/test_stream/Task000/Exp007 = 0.8384\n",
      "-- Starting eval on experience 8 (Task 0) from test stream --\n",
      "100%|██████████| 79/79 [00:00<00:00, 120.94it/s]\n",
      "> Eval on experience 8 (Task 0) from test stream ended.\n",
      "\tTop1_Acc_Exp/eval_phase/test_stream/Task000/Exp008 = 0.8387\n",
      "-- Starting eval on experience 9 (Task 0) from test stream --\n",
      "100%|██████████| 79/79 [00:00<00:00, 113.85it/s]"
     ]
    },
    {
     "name": "stderr",
     "output_type": "stream",
     "text": [
      "100%|██████████| 10/10 [10:58<00:00, 65.82s/it]"
     ]
    },
    {
     "name": "stdout",
     "output_type": "stream",
     "text": [
      "\n",
      "> Eval on experience 9 (Task 0) from test stream ended.\n",
      "\tTop1_Acc_Exp/eval_phase/test_stream/Task000/Exp009 = 0.8598\n",
      "-- >> End of eval phase << --\n",
      "\tTop1_Acc_Stream/eval_phase/test_stream/Task000 = 0.7692\n"
     ]
    },
    {
     "name": "stderr",
     "output_type": "stream",
     "text": [
      "\n"
     ]
    }
   ],
   "source": [
    "results = list()\n",
    "\n",
    "for experience in tqdm(train_stream):\n",
    "    strategy.train(experience)\n",
    "    metrics = strategy.eval(test_stream)\n",
    "    results.append(metrics)"
   ]
  },
  {
   "cell_type": "code",
   "execution_count": 45,
   "metadata": {},
   "outputs": [],
   "source": [
    "accuracies: dict[int, list[float]] = dict()\n",
    "\n",
    "for i in range(10):\n",
    "    accuracies[f\"Task{i}\"] = eval_plugin.get_all_metrics()[\n",
    "        f\"Top1_Acc_Exp/eval_phase/test_stream/Task000/Exp00{i}\"\n",
    "    ][1][-10:]\n",
    "\n",
    "accuracies[\"Overall\"] = eval_plugin.get_all_metrics()[\n",
    "    \"Top1_Acc_Stream/eval_phase/test_stream/Task000\"\n",
    "][1][-10:]"
   ]
  },
  {
   "cell_type": "code",
   "execution_count": 46,
   "metadata": {},
   "outputs": [],
   "source": [
    "acc_df = pd.DataFrame(accuracies)\n",
    "acc_df.index = range(10)"
   ]
  },
  {
   "cell_type": "code",
   "execution_count": 47,
   "metadata": {},
   "outputs": [
    {
     "data": {
      "text/plain": [
       "<Axes: >"
      ]
     },
     "execution_count": 47,
     "metadata": {},
     "output_type": "execute_result"
    },
    {
     "data": {
      "image/png": "[encoded data removed]",
      "text/plain": [
       "<Figure size 640x480 with 1 Axes>"
      ]
     },
     "metadata": {},
     "output_type": "display_data"
    }
   ],
   "source": [
    "# lineplot every task acc per training\n",
    "sns.lineplot(data=acc_df, dashes=False, markers=True)\n",
    "\n",
    "# Qué clase se entrenó en cada tarea / experiencia?"
   ]
  },
  {
   "cell_type": "markdown",
   "metadata": {},
   "source": [
    "# Store metrics"
   ]
  },
  {
   "cell_type": "code",
   "execution_count": 48,
   "metadata": {},
   "outputs": [],
   "source": [
    "pickle.dump(accuracies, open(SAVED_METRICS_PATH / \"cewc_v1_kirkpatrick.pkl\", \"wb\"))"
   ]
  }
 ],
 "metadata": {
  "kernelspec": {
   "display_name": "tt2",
   "language": "python",
   "name": "python3"
  },
  "language_info": {
   "codemirror_mode": {
    "name": "ipython",
    "version": 3
   },
   "file_extension": ".py",
   "mimetype": "text/x-python",
   "name": "python",
   "nbconvert_exporter": "python",
   "pygments_lexer": "ipython3",
   "version": "3.9.18"
  }
 },
 "nbformat": 4,
 "nbformat_minor": 2
}
