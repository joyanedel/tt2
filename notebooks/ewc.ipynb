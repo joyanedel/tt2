{
 "cells": [
  {
   "cell_type": "code",
   "execution_count": 1,
   "metadata": {},
   "outputs": [],
   "source": [
    "%load_ext autoreload\n",
    "%autoreload 2"
   ]
  },
  {
   "cell_type": "markdown",
   "metadata": {},
   "source": [
    "# Libraries"
   ]
  },
  {
   "cell_type": "code",
   "execution_count": 28,
   "metadata": {},
   "outputs": [],
   "source": [
    "import pickle\n",
    "from torchvision.transforms import Compose, ToTensor\n",
    "import pandas as pd\n",
    "import seaborn as sns\n",
    "from tqdm import tqdm"
   ]
  },
  {
   "cell_type": "code",
   "execution_count": 3,
   "metadata": {},
   "outputs": [
    {
     "name": "stderr",
     "output_type": "stream",
     "text": [
      "/Users/jesusoyanedelespinoza/.pyenv/versions/3.9.18/envs/tt2/lib/python3.9/site-packages/tqdm/auto.py:21: TqdmWarning: IProgress not found. Please update jupyter and ipywidgets. See https://ipywidgets.readthedocs.io/en/stable/user_install.html\n",
      "  from .autonotebook import tqdm as notebook_tqdm\n"
     ]
    }
   ],
   "source": [
    "from avalanche.benchmarks.classic import PermutedMNIST\n",
    "from avalanche.models import SimpleMLP\n",
    "from avalanche.training import EWC\n",
    "from avalanche.training.plugins import EvaluationPlugin\n",
    "from avalanche.logging import InteractiveLogger\n",
    "from avalanche.evaluation.metrics import (\n",
    "    accuracy_metrics\n",
    ")\n",
    "\n",
    "from torch.nn import CrossEntropyLoss\n",
    "from torch.optim import SGD"
   ]
  },
  {
   "cell_type": "markdown",
   "metadata": {},
   "source": [
    "## Custom Libraries"
   ]
  },
  {
   "cell_type": "code",
   "execution_count": 29,
   "metadata": {},
   "outputs": [],
   "source": [
    "import sys\n",
    "sys.path.append(\"../base_code/\")\n",
    "\n",
    "from base_code.constants import DATASETS_PATH, SAVED_METRICS_PATH"
   ]
  },
  {
   "cell_type": "markdown",
   "metadata": {},
   "source": [
    "# Dataset and definitions"
   ]
  },
  {
   "cell_type": "markdown",
   "metadata": {},
   "source": [
    "## Preprocessing definitions"
   ]
  },
  {
   "cell_type": "code",
   "execution_count": 7,
   "metadata": {},
   "outputs": [],
   "source": [
    "train_transform = Compose([\n",
    "    ToTensor(),\n",
    "])\n",
    "\n",
    "test_transform = Compose([\n",
    "    ToTensor(),\n",
    "])"
   ]
  },
  {
   "cell_type": "markdown",
   "metadata": {},
   "source": [
    "## Dataset loading\n",
    "\n",
    "We load state-of-the-art dataset Modified NIST"
   ]
  },
  {
   "cell_type": "code",
   "execution_count": 8,
   "metadata": {},
   "outputs": [],
   "source": [
    "# mnist_train = MNIST(DATASETS_PATH, train=True, download=True, transform=train_transform)\n",
    "# mnist_test = MNIST(DATASETS_PATH, train=False, download=True, transform=test_transform)\n",
    "\n",
    "scenario = PermutedMNIST(10, seed=1234, dataset_root=DATASETS_PATH)"
   ]
  },
  {
   "cell_type": "markdown",
   "metadata": {},
   "source": [
    "## Scenario creation with train test streaming\n",
    "\n",
    "In this point, we define our scenario considering a training where in every experience of it, a new class is presented. This is, first we train with a class $a$, the following experience we train with class $b$ ($a \\neq b$)"
   ]
  },
  {
   "cell_type": "code",
   "execution_count": 9,
   "metadata": {},
   "outputs": [],
   "source": [
    "# scenario = nc_benchmark(\n",
    "#     mnist_train, mnist_test,\n",
    "#     n_experiences=len(mnist_train.classes), shuffle=True, seed=1234, task_labels=False\n",
    "# )\n",
    "\n",
    "train_stream = scenario.train_stream\n",
    "test_stream = scenario.test_stream"
   ]
  },
  {
   "cell_type": "markdown",
   "metadata": {},
   "source": [
    "## Evaluation metrics definition"
   ]
  },
  {
   "cell_type": "code",
   "execution_count": 10,
   "metadata": {},
   "outputs": [],
   "source": [
    "eval_plugin = EvaluationPlugin(\n",
    "    accuracy_metrics(experience=True, stream=True),\n",
    "    loggers=[InteractiveLogger()]\n",
    ")"
   ]
  },
  {
   "cell_type": "markdown",
   "metadata": {},
   "source": [
    "## Model, Optimizer, Loss function and Strategy definition\n",
    "\n",
    "* `model`: Multi Layer Perceptron\n",
    "* `Optimizer`: Adam\n",
    "* `Loss function`: Cross Entropy\n",
    "* `Strategy`: Elastic Weight Consolidation"
   ]
  },
  {
   "cell_type": "code",
   "execution_count": 11,
   "metadata": {},
   "outputs": [],
   "source": [
    "# model = MLP(n_classes=scenario.n_classes, n_channels=1, width=28, height=28)\n",
    "model = SimpleMLP(num_classes=scenario.n_classes, input_size=28*28, hidden_layers=2, hidden_size=100, drop_rate=0)\n",
    "optimizer = SGD(model.parameters(), lr=1e-3)\n",
    "criterion = CrossEntropyLoss()\n",
    "strategy = EWC(\n",
    "    model, optimizer, criterion, ewc_lambda=1.0, train_epochs=5, train_mb_size=256, evaluator=eval_plugin, mode=\"separate\", eval_mb_size=128\n",
    ")"
   ]
  },
  {
   "cell_type": "markdown",
   "metadata": {},
   "source": [
    "# Training and evaluation\n",
    "\n",
    "Revisar porque el entrenamiento se está comportando de forma rara"
   ]
  },
  {
   "cell_type": "code",
   "execution_count": 12,
   "metadata": {},
   "outputs": [
    {
     "name": "stderr",
     "output_type": "stream",
     "text": [
      "  0%|          | 0/10 [00:00<?, ?it/s]"
     ]
    },
    {
     "name": "stdout",
     "output_type": "stream",
     "text": [
      "-- >> Start of training phase << --\n",
      "100%|██████████| 235/235 [00:03<00:00, 67.55it/s]\n",
      "Epoch 0 ended.\n",
      "100%|██████████| 235/235 [00:03<00:00, 72.12it/s]\n",
      "Epoch 1 ended.\n",
      "100%|██████████| 235/235 [00:03<00:00, 74.40it/s]\n",
      "Epoch 2 ended.\n",
      "100%|██████████| 235/235 [00:03<00:00, 75.44it/s]\n",
      "Epoch 3 ended.\n",
      "100%|██████████| 235/235 [00:03<00:00, 72.93it/s]\n",
      "Epoch 4 ended.\n",
      "-- >> End of training phase << --\n",
      "-- >> Start of eval phase << --\n",
      "-- Starting eval on experience 0 (Task 0) from test stream --\n",
      "100%|██████████| 79/79 [00:00<00:00, 146.79it/s]\n",
      "> Eval on experience 0 (Task 0) from test stream ended.\n",
      "\tTop1_Acc_Exp/eval_phase/test_stream/Task000/Exp000 = 0.6745\n",
      "-- Starting eval on experience 1 (Task 0) from test stream --\n",
      "100%|██████████| 79/79 [00:00<00:00, 144.64it/s]\n",
      "> Eval on experience 1 (Task 0) from test stream ended.\n",
      "\tTop1_Acc_Exp/eval_phase/test_stream/Task000/Exp001 = 0.1313\n",
      "-- Starting eval on experience 2 (Task 0) from test stream --\n",
      "100%|██████████| 79/79 [00:00<00:00, 147.70it/s]\n",
      "> Eval on experience 2 (Task 0) from test stream ended.\n",
      "\tTop1_Acc_Exp/eval_phase/test_stream/Task000/Exp002 = 0.1443\n",
      "-- Starting eval on experience 3 (Task 0) from test stream --\n",
      "100%|██████████| 79/79 [00:00<00:00, 142.62it/s]\n",
      "> Eval on experience 3 (Task 0) from test stream ended.\n",
      "\tTop1_Acc_Exp/eval_phase/test_stream/Task000/Exp003 = 0.1551\n",
      "-- Starting eval on experience 4 (Task 0) from test stream --\n",
      "100%|██████████| 79/79 [00:00<00:00, 146.40it/s]\n",
      "> Eval on experience 4 (Task 0) from test stream ended.\n",
      "\tTop1_Acc_Exp/eval_phase/test_stream/Task000/Exp004 = 0.1375\n",
      "-- Starting eval on experience 5 (Task 0) from test stream --\n",
      "100%|██████████| 79/79 [00:00<00:00, 147.63it/s]\n",
      "> Eval on experience 5 (Task 0) from test stream ended.\n",
      "\tTop1_Acc_Exp/eval_phase/test_stream/Task000/Exp005 = 0.1686\n",
      "-- Starting eval on experience 6 (Task 0) from test stream --\n",
      "100%|██████████| 79/79 [00:00<00:00, 143.21it/s]\n",
      "> Eval on experience 6 (Task 0) from test stream ended.\n",
      "\tTop1_Acc_Exp/eval_phase/test_stream/Task000/Exp006 = 0.1481\n",
      "-- Starting eval on experience 7 (Task 0) from test stream --\n",
      "100%|██████████| 79/79 [00:00<00:00, 147.19it/s]\n",
      "> Eval on experience 7 (Task 0) from test stream ended.\n",
      "\tTop1_Acc_Exp/eval_phase/test_stream/Task000/Exp007 = 0.1837\n",
      "-- Starting eval on experience 8 (Task 0) from test stream --\n",
      "100%|██████████| 79/79 [00:00<00:00, 146.67it/s]\n",
      "> Eval on experience 8 (Task 0) from test stream ended.\n",
      "\tTop1_Acc_Exp/eval_phase/test_stream/Task000/Exp008 = 0.1670\n",
      "-- Starting eval on experience 9 (Task 0) from test stream --\n",
      "100%|██████████| 79/79 [00:00<00:00, 143.11it/s]"
     ]
    },
    {
     "name": "stderr",
     "output_type": "stream",
     "text": [
      " 10%|█         | 1/10 [00:24<03:40, 24.45s/it]"
     ]
    },
    {
     "name": "stdout",
     "output_type": "stream",
     "text": [
      "\n",
      "> Eval on experience 9 (Task 0) from test stream ended.\n",
      "\tTop1_Acc_Exp/eval_phase/test_stream/Task000/Exp009 = 0.1599\n",
      "-- >> End of eval phase << --\n",
      "\tTop1_Acc_Stream/eval_phase/test_stream/Task000 = 0.2070\n",
      "-- >> Start of training phase << --\n",
      "100%|██████████| 235/235 [00:03<00:00, 71.06it/s]\n",
      "Epoch 0 ended.\n",
      "100%|██████████| 235/235 [00:03<00:00, 71.05it/s]\n",
      "Epoch 1 ended.\n",
      "100%|██████████| 235/235 [00:03<00:00, 71.43it/s]\n",
      "Epoch 2 ended.\n",
      "100%|██████████| 235/235 [00:03<00:00, 71.14it/s]\n",
      "Epoch 3 ended.\n",
      "100%|██████████| 235/235 [00:03<00:00, 69.84it/s]\n",
      "Epoch 4 ended.\n",
      "-- >> End of training phase << --\n",
      "-- >> Start of eval phase << --\n",
      "-- Starting eval on experience 0 (Task 0) from test stream --\n",
      "100%|██████████| 79/79 [00:00<00:00, 148.55it/s]\n",
      "> Eval on experience 0 (Task 0) from test stream ended.\n",
      "\tTop1_Acc_Exp/eval_phase/test_stream/Task000/Exp000 = 0.5923\n",
      "-- Starting eval on experience 1 (Task 0) from test stream --\n",
      "100%|██████████| 79/79 [00:00<00:00, 149.34it/s]\n",
      "> Eval on experience 1 (Task 0) from test stream ended.\n",
      "\tTop1_Acc_Exp/eval_phase/test_stream/Task000/Exp001 = 0.7672\n",
      "-- Starting eval on experience 2 (Task 0) from test stream --\n",
      "100%|██████████| 79/79 [00:00<00:00, 145.08it/s]\n",
      "> Eval on experience 2 (Task 0) from test stream ended.\n",
      "\tTop1_Acc_Exp/eval_phase/test_stream/Task000/Exp002 = 0.1932\n",
      "-- Starting eval on experience 3 (Task 0) from test stream --\n",
      "100%|██████████| 79/79 [00:00<00:00, 147.90it/s]\n",
      "> Eval on experience 3 (Task 0) from test stream ended.\n",
      "\tTop1_Acc_Exp/eval_phase/test_stream/Task000/Exp003 = 0.1916\n",
      "-- Starting eval on experience 4 (Task 0) from test stream --\n",
      "100%|██████████| 79/79 [00:00<00:00, 148.34it/s]\n",
      "> Eval on experience 4 (Task 0) from test stream ended.\n",
      "\tTop1_Acc_Exp/eval_phase/test_stream/Task000/Exp004 = 0.1871\n",
      "-- Starting eval on experience 5 (Task 0) from test stream --\n",
      "100%|██████████| 79/79 [00:00<00:00, 145.69it/s]\n",
      "> Eval on experience 5 (Task 0) from test stream ended.\n",
      "\tTop1_Acc_Exp/eval_phase/test_stream/Task000/Exp005 = 0.1959\n",
      "-- Starting eval on experience 6 (Task 0) from test stream --\n",
      "100%|██████████| 79/79 [00:00<00:00, 149.00it/s]\n",
      "> Eval on experience 6 (Task 0) from test stream ended.\n",
      "\tTop1_Acc_Exp/eval_phase/test_stream/Task000/Exp006 = 0.2025\n",
      "-- Starting eval on experience 7 (Task 0) from test stream --\n",
      "100%|██████████| 79/79 [00:00<00:00, 145.77it/s]\n",
      "> Eval on experience 7 (Task 0) from test stream ended.\n",
      "\tTop1_Acc_Exp/eval_phase/test_stream/Task000/Exp007 = 0.1833\n",
      "-- Starting eval on experience 8 (Task 0) from test stream --\n",
      "100%|██████████| 79/79 [00:00<00:00, 148.04it/s]\n",
      "> Eval on experience 8 (Task 0) from test stream ended.\n",
      "\tTop1_Acc_Exp/eval_phase/test_stream/Task000/Exp008 = 0.1764\n",
      "-- Starting eval on experience 9 (Task 0) from test stream --\n",
      "100%|██████████| 79/79 [00:00<00:00, 148.97it/s]"
     ]
    },
    {
     "name": "stderr",
     "output_type": "stream",
     "text": [
      " 20%|██        | 2/10 [00:49<03:16, 24.59s/it]"
     ]
    },
    {
     "name": "stdout",
     "output_type": "stream",
     "text": [
      "\n",
      "> Eval on experience 9 (Task 0) from test stream ended.\n",
      "\tTop1_Acc_Exp/eval_phase/test_stream/Task000/Exp009 = 0.1901\n",
      "-- >> End of eval phase << --\n",
      "\tTop1_Acc_Stream/eval_phase/test_stream/Task000 = 0.2880\n",
      "-- >> Start of training phase << --\n",
      "100%|██████████| 235/235 [00:03<00:00, 68.84it/s]\n",
      "Epoch 0 ended.\n",
      "100%|██████████| 235/235 [00:03<00:00, 69.57it/s]\n",
      "Epoch 1 ended.\n",
      "100%|██████████| 235/235 [00:03<00:00, 68.76it/s]\n",
      "Epoch 2 ended.\n",
      "100%|██████████| 235/235 [00:03<00:00, 69.30it/s]\n",
      "Epoch 3 ended.\n",
      "100%|██████████| 235/235 [00:03<00:00, 68.15it/s]\n",
      "Epoch 4 ended.\n",
      "-- >> End of training phase << --\n",
      "-- >> Start of eval phase << --\n",
      "-- Starting eval on experience 0 (Task 0) from test stream --\n",
      "100%|██████████| 79/79 [00:00<00:00, 147.33it/s]\n",
      "> Eval on experience 0 (Task 0) from test stream ended.\n",
      "\tTop1_Acc_Exp/eval_phase/test_stream/Task000/Exp000 = 0.6329\n",
      "-- Starting eval on experience 1 (Task 0) from test stream --\n",
      "100%|██████████| 79/79 [00:00<00:00, 147.46it/s]\n",
      "> Eval on experience 1 (Task 0) from test stream ended.\n",
      "\tTop1_Acc_Exp/eval_phase/test_stream/Task000/Exp001 = 0.7192\n",
      "-- Starting eval on experience 2 (Task 0) from test stream --\n",
      "100%|██████████| 79/79 [00:00<00:00, 143.73it/s]\n",
      "> Eval on experience 2 (Task 0) from test stream ended.\n",
      "\tTop1_Acc_Exp/eval_phase/test_stream/Task000/Exp002 = 0.7640\n",
      "-- Starting eval on experience 3 (Task 0) from test stream --\n",
      "100%|██████████| 79/79 [00:00<00:00, 147.97it/s]\n",
      "> Eval on experience 3 (Task 0) from test stream ended.\n",
      "\tTop1_Acc_Exp/eval_phase/test_stream/Task000/Exp003 = 0.1780\n",
      "-- Starting eval on experience 4 (Task 0) from test stream --\n",
      "100%|██████████| 79/79 [00:00<00:00, 143.55it/s]\n",
      "> Eval on experience 4 (Task 0) from test stream ended.\n",
      "\tTop1_Acc_Exp/eval_phase/test_stream/Task000/Exp004 = 0.1728\n",
      "-- Starting eval on experience 5 (Task 0) from test stream --\n",
      "100%|██████████| 79/79 [00:00<00:00, 148.28it/s]\n",
      "> Eval on experience 5 (Task 0) from test stream ended.\n",
      "\tTop1_Acc_Exp/eval_phase/test_stream/Task000/Exp005 = 0.2284\n",
      "-- Starting eval on experience 6 (Task 0) from test stream --\n",
      "100%|██████████| 79/79 [00:00<00:00, 148.00it/s]\n",
      "> Eval on experience 6 (Task 0) from test stream ended.\n",
      "\tTop1_Acc_Exp/eval_phase/test_stream/Task000/Exp006 = 0.2054\n",
      "-- Starting eval on experience 7 (Task 0) from test stream --\n",
      "100%|██████████| 79/79 [00:00<00:00, 143.45it/s]\n",
      "> Eval on experience 7 (Task 0) from test stream ended.\n",
      "\tTop1_Acc_Exp/eval_phase/test_stream/Task000/Exp007 = 0.2036\n",
      "-- Starting eval on experience 8 (Task 0) from test stream --\n",
      "100%|██████████| 79/79 [00:00<00:00, 147.44it/s]\n",
      "> Eval on experience 8 (Task 0) from test stream ended.\n",
      "\tTop1_Acc_Exp/eval_phase/test_stream/Task000/Exp008 = 0.1928\n",
      "-- Starting eval on experience 9 (Task 0) from test stream --\n",
      "100%|██████████| 79/79 [00:00<00:00, 144.52it/s]"
     ]
    },
    {
     "name": "stderr",
     "output_type": "stream",
     "text": [
      " 30%|███       | 3/10 [01:14<02:54, 24.93s/it]"
     ]
    },
    {
     "name": "stdout",
     "output_type": "stream",
     "text": [
      "\n",
      "> Eval on experience 9 (Task 0) from test stream ended.\n",
      "\tTop1_Acc_Exp/eval_phase/test_stream/Task000/Exp009 = 0.1986\n",
      "-- >> End of eval phase << --\n",
      "\tTop1_Acc_Stream/eval_phase/test_stream/Task000 = 0.3496\n",
      "-- >> Start of training phase << --\n",
      "100%|██████████| 235/235 [00:03<00:00, 65.74it/s]\n",
      "Epoch 0 ended.\n",
      "100%|██████████| 235/235 [00:03<00:00, 66.17it/s]\n",
      "Epoch 1 ended.\n",
      "100%|██████████| 235/235 [00:03<00:00, 65.97it/s]\n",
      "Epoch 2 ended.\n",
      "100%|██████████| 235/235 [00:03<00:00, 65.67it/s]\n",
      "Epoch 3 ended.\n",
      "100%|██████████| 235/235 [00:03<00:00, 65.89it/s]\n",
      "Epoch 4 ended.\n",
      "-- >> End of training phase << --\n",
      "-- >> Start of eval phase << --\n",
      "-- Starting eval on experience 0 (Task 0) from test stream --\n",
      "100%|██████████| 79/79 [00:00<00:00, 145.50it/s]\n",
      "> Eval on experience 0 (Task 0) from test stream ended.\n",
      "\tTop1_Acc_Exp/eval_phase/test_stream/Task000/Exp000 = 0.5192\n",
      "-- Starting eval on experience 1 (Task 0) from test stream --\n",
      "100%|██████████| 79/79 [00:00<00:00, 150.94it/s]\n",
      "> Eval on experience 1 (Task 0) from test stream ended.\n",
      "\tTop1_Acc_Exp/eval_phase/test_stream/Task000/Exp001 = 0.7133\n",
      "-- Starting eval on experience 2 (Task 0) from test stream --\n",
      "100%|██████████| 79/79 [00:00<00:00, 148.73it/s]\n",
      "> Eval on experience 2 (Task 0) from test stream ended.\n",
      "\tTop1_Acc_Exp/eval_phase/test_stream/Task000/Exp002 = 0.7326\n",
      "-- Starting eval on experience 3 (Task 0) from test stream --\n",
      "100%|██████████| 79/79 [00:00<00:00, 144.27it/s]\n",
      "> Eval on experience 3 (Task 0) from test stream ended.\n",
      "\tTop1_Acc_Exp/eval_phase/test_stream/Task000/Exp003 = 0.7719\n",
      "-- Starting eval on experience 4 (Task 0) from test stream --\n",
      "100%|██████████| 79/79 [00:00<00:00, 147.66it/s]\n",
      "> Eval on experience 4 (Task 0) from test stream ended.\n",
      "\tTop1_Acc_Exp/eval_phase/test_stream/Task000/Exp004 = 0.1610\n",
      "-- Starting eval on experience 5 (Task 0) from test stream --\n",
      "100%|██████████| 79/79 [00:00<00:00, 148.57it/s]\n",
      "> Eval on experience 5 (Task 0) from test stream ended.\n",
      "\tTop1_Acc_Exp/eval_phase/test_stream/Task000/Exp005 = 0.1926\n",
      "-- Starting eval on experience 6 (Task 0) from test stream --\n",
      "100%|██████████| 79/79 [00:00<00:00, 145.51it/s]\n",
      "> Eval on experience 6 (Task 0) from test stream ended.\n",
      "\tTop1_Acc_Exp/eval_phase/test_stream/Task000/Exp006 = 0.2141\n",
      "-- Starting eval on experience 7 (Task 0) from test stream --\n",
      "100%|██████████| 79/79 [00:00<00:00, 147.81it/s]\n",
      "> Eval on experience 7 (Task 0) from test stream ended.\n",
      "\tTop1_Acc_Exp/eval_phase/test_stream/Task000/Exp007 = 0.2137\n",
      "-- Starting eval on experience 8 (Task 0) from test stream --\n",
      "100%|██████████| 79/79 [00:00<00:00, 148.68it/s]\n",
      "> Eval on experience 8 (Task 0) from test stream ended.\n",
      "\tTop1_Acc_Exp/eval_phase/test_stream/Task000/Exp008 = 0.1778\n",
      "-- Starting eval on experience 9 (Task 0) from test stream --\n",
      "100%|██████████| 79/79 [00:00<00:00, 145.65it/s]"
     ]
    },
    {
     "name": "stderr",
     "output_type": "stream",
     "text": [
      " 40%|████      | 4/10 [01:40<02:32, 25.38s/it]"
     ]
    },
    {
     "name": "stdout",
     "output_type": "stream",
     "text": [
      "\n",
      "> Eval on experience 9 (Task 0) from test stream ended.\n",
      "\tTop1_Acc_Exp/eval_phase/test_stream/Task000/Exp009 = 0.1771\n",
      "-- >> End of eval phase << --\n",
      "\tTop1_Acc_Stream/eval_phase/test_stream/Task000 = 0.3873\n",
      "-- >> Start of training phase << --\n",
      "100%|██████████| 235/235 [00:03<00:00, 64.78it/s]\n",
      "Epoch 0 ended.\n",
      "100%|██████████| 235/235 [00:03<00:00, 64.31it/s]\n",
      "Epoch 1 ended.\n",
      "100%|██████████| 235/235 [00:03<00:00, 64.34it/s]\n",
      "Epoch 2 ended.\n",
      "100%|██████████| 235/235 [00:03<00:00, 64.30it/s]\n",
      "Epoch 3 ended.\n",
      "100%|██████████| 235/235 [00:03<00:00, 63.87it/s]\n",
      "Epoch 4 ended.\n",
      "-- >> End of training phase << --\n",
      "-- >> Start of eval phase << --\n",
      "-- Starting eval on experience 0 (Task 0) from test stream --\n",
      "100%|██████████| 79/79 [00:00<00:00, 143.59it/s]\n",
      "> Eval on experience 0 (Task 0) from test stream ended.\n",
      "\tTop1_Acc_Exp/eval_phase/test_stream/Task000/Exp000 = 0.6163\n",
      "-- Starting eval on experience 1 (Task 0) from test stream --\n",
      "100%|██████████| 79/79 [00:00<00:00, 149.44it/s]\n",
      "> Eval on experience 1 (Task 0) from test stream ended.\n",
      "\tTop1_Acc_Exp/eval_phase/test_stream/Task000/Exp001 = 0.7352\n",
      "-- Starting eval on experience 2 (Task 0) from test stream --\n",
      "100%|██████████| 79/79 [00:00<00:00, 148.12it/s]\n",
      "> Eval on experience 2 (Task 0) from test stream ended.\n",
      "\tTop1_Acc_Exp/eval_phase/test_stream/Task000/Exp002 = 0.7383\n",
      "-- Starting eval on experience 3 (Task 0) from test stream --\n",
      "100%|██████████| 79/79 [00:00<00:00, 144.93it/s]\n",
      "> Eval on experience 3 (Task 0) from test stream ended.\n",
      "\tTop1_Acc_Exp/eval_phase/test_stream/Task000/Exp003 = 0.7297\n",
      "-- Starting eval on experience 4 (Task 0) from test stream --\n",
      "100%|██████████| 79/79 [00:00<00:00, 144.60it/s]\n",
      "> Eval on experience 4 (Task 0) from test stream ended.\n",
      "\tTop1_Acc_Exp/eval_phase/test_stream/Task000/Exp004 = 0.7917\n",
      "-- Starting eval on experience 5 (Task 0) from test stream --\n",
      "100%|██████████| 79/79 [00:00<00:00, 147.55it/s]\n",
      "> Eval on experience 5 (Task 0) from test stream ended.\n",
      "\tTop1_Acc_Exp/eval_phase/test_stream/Task000/Exp005 = 0.1846\n",
      "-- Starting eval on experience 6 (Task 0) from test stream --\n",
      "100%|██████████| 79/79 [00:00<00:00, 148.68it/s]\n",
      "> Eval on experience 6 (Task 0) from test stream ended.\n",
      "\tTop1_Acc_Exp/eval_phase/test_stream/Task000/Exp006 = 0.1582\n",
      "-- Starting eval on experience 7 (Task 0) from test stream --\n",
      "100%|██████████| 79/79 [00:00<00:00, 149.27it/s]\n",
      "> Eval on experience 7 (Task 0) from test stream ended.\n",
      "\tTop1_Acc_Exp/eval_phase/test_stream/Task000/Exp007 = 0.1789\n",
      "-- Starting eval on experience 8 (Task 0) from test stream --\n",
      "100%|██████████| 79/79 [00:00<00:00, 144.39it/s]\n",
      "> Eval on experience 8 (Task 0) from test stream ended.\n",
      "\tTop1_Acc_Exp/eval_phase/test_stream/Task000/Exp008 = 0.1808\n",
      "-- Starting eval on experience 9 (Task 0) from test stream --\n",
      "100%|██████████| 79/79 [00:00<00:00, 148.64it/s]"
     ]
    },
    {
     "name": "stderr",
     "output_type": "stream",
     "text": [
      " 50%|█████     | 5/10 [02:06<02:08, 25.75s/it]"
     ]
    },
    {
     "name": "stdout",
     "output_type": "stream",
     "text": [
      "\n",
      "> Eval on experience 9 (Task 0) from test stream ended.\n",
      "\tTop1_Acc_Exp/eval_phase/test_stream/Task000/Exp009 = 0.1734\n",
      "-- >> End of eval phase << --\n",
      "\tTop1_Acc_Stream/eval_phase/test_stream/Task000 = 0.4487\n",
      "-- >> Start of training phase << --\n",
      "100%|██████████| 235/235 [00:03<00:00, 60.25it/s]\n",
      "Epoch 0 ended.\n",
      "100%|██████████| 235/235 [00:03<00:00, 59.32it/s]\n",
      "Epoch 1 ended.\n",
      "100%|██████████| 235/235 [00:03<00:00, 59.72it/s]\n",
      "Epoch 2 ended.\n",
      "100%|██████████| 235/235 [00:03<00:00, 60.07it/s]\n",
      "Epoch 3 ended.\n",
      "100%|██████████| 235/235 [00:03<00:00, 60.36it/s]\n",
      "Epoch 4 ended.\n",
      "-- >> End of training phase << --\n",
      "-- >> Start of eval phase << --\n",
      "-- Starting eval on experience 0 (Task 0) from test stream --\n",
      "100%|██████████| 79/79 [00:00<00:00, 138.45it/s]\n",
      "> Eval on experience 0 (Task 0) from test stream ended.\n",
      "\tTop1_Acc_Exp/eval_phase/test_stream/Task000/Exp000 = 0.5891\n",
      "-- Starting eval on experience 1 (Task 0) from test stream --\n",
      "100%|██████████| 79/79 [00:00<00:00, 145.88it/s]\n",
      "> Eval on experience 1 (Task 0) from test stream ended.\n",
      "\tTop1_Acc_Exp/eval_phase/test_stream/Task000/Exp001 = 0.7106\n",
      "-- Starting eval on experience 2 (Task 0) from test stream --\n",
      "100%|██████████| 79/79 [00:00<00:00, 139.74it/s]\n",
      "> Eval on experience 2 (Task 0) from test stream ended.\n",
      "\tTop1_Acc_Exp/eval_phase/test_stream/Task000/Exp002 = 0.7249\n",
      "-- Starting eval on experience 3 (Task 0) from test stream --\n",
      "100%|██████████| 79/79 [00:00<00:00, 128.57it/s]\n",
      "> Eval on experience 3 (Task 0) from test stream ended.\n",
      "\tTop1_Acc_Exp/eval_phase/test_stream/Task000/Exp003 = 0.7319\n",
      "-- Starting eval on experience 4 (Task 0) from test stream --\n",
      "100%|██████████| 79/79 [00:00<00:00, 139.84it/s]\n",
      "> Eval on experience 4 (Task 0) from test stream ended.\n",
      "\tTop1_Acc_Exp/eval_phase/test_stream/Task000/Exp004 = 0.7805\n",
      "-- Starting eval on experience 5 (Task 0) from test stream --\n",
      "100%|██████████| 79/79 [00:00<00:00, 138.40it/s]\n",
      "> Eval on experience 5 (Task 0) from test stream ended.\n",
      "\tTop1_Acc_Exp/eval_phase/test_stream/Task000/Exp005 = 0.7973\n",
      "-- Starting eval on experience 6 (Task 0) from test stream --\n",
      "100%|██████████| 79/79 [00:00<00:00, 129.88it/s]\n",
      "> Eval on experience 6 (Task 0) from test stream ended.\n",
      "\tTop1_Acc_Exp/eval_phase/test_stream/Task000/Exp006 = 0.1630\n",
      "-- Starting eval on experience 7 (Task 0) from test stream --\n",
      "100%|██████████| 79/79 [00:00<00:00, 136.33it/s]\n",
      "> Eval on experience 7 (Task 0) from test stream ended.\n",
      "\tTop1_Acc_Exp/eval_phase/test_stream/Task000/Exp007 = 0.1971\n",
      "-- Starting eval on experience 8 (Task 0) from test stream --\n",
      "100%|██████████| 79/79 [00:00<00:00, 140.71it/s]\n",
      "> Eval on experience 8 (Task 0) from test stream ended.\n",
      "\tTop1_Acc_Exp/eval_phase/test_stream/Task000/Exp008 = 0.1856\n",
      "-- Starting eval on experience 9 (Task 0) from test stream --\n",
      "100%|██████████| 79/79 [00:00<00:00, 140.49it/s]"
     ]
    },
    {
     "name": "stderr",
     "output_type": "stream",
     "text": [
      " 60%|██████    | 6/10 [02:35<01:46, 26.60s/it]"
     ]
    },
    {
     "name": "stdout",
     "output_type": "stream",
     "text": [
      "\n",
      "> Eval on experience 9 (Task 0) from test stream ended.\n",
      "\tTop1_Acc_Exp/eval_phase/test_stream/Task000/Exp009 = 0.1592\n",
      "-- >> End of eval phase << --\n",
      "\tTop1_Acc_Stream/eval_phase/test_stream/Task000 = 0.5039\n",
      "-- >> Start of training phase << --\n",
      "100%|██████████| 235/235 [00:04<00:00, 56.33it/s]\n",
      "Epoch 0 ended.\n",
      "100%|██████████| 235/235 [00:03<00:00, 59.93it/s]\n",
      "Epoch 1 ended.\n",
      "100%|██████████| 235/235 [00:04<00:00, 58.71it/s]\n",
      "Epoch 2 ended.\n",
      "100%|██████████| 235/235 [00:04<00:00, 57.81it/s]\n",
      "Epoch 3 ended.\n",
      "100%|██████████| 235/235 [00:03<00:00, 58.82it/s]\n",
      "Epoch 4 ended.\n",
      "-- >> End of training phase << --\n",
      "-- >> Start of eval phase << --\n",
      "-- Starting eval on experience 0 (Task 0) from test stream --\n",
      "100%|██████████| 79/79 [00:00<00:00, 146.83it/s]\n",
      "> Eval on experience 0 (Task 0) from test stream ended.\n",
      "\tTop1_Acc_Exp/eval_phase/test_stream/Task000/Exp000 = 0.5956\n",
      "-- Starting eval on experience 1 (Task 0) from test stream --\n",
      "100%|██████████| 79/79 [00:00<00:00, 146.57it/s]\n",
      "> Eval on experience 1 (Task 0) from test stream ended.\n",
      "\tTop1_Acc_Exp/eval_phase/test_stream/Task000/Exp001 = 0.6569\n",
      "-- Starting eval on experience 2 (Task 0) from test stream --\n",
      "100%|██████████| 79/79 [00:00<00:00, 138.55it/s]\n",
      "> Eval on experience 2 (Task 0) from test stream ended.\n",
      "\tTop1_Acc_Exp/eval_phase/test_stream/Task000/Exp002 = 0.6852\n",
      "-- Starting eval on experience 3 (Task 0) from test stream --\n",
      "100%|██████████| 79/79 [00:00<00:00, 145.54it/s]\n",
      "> Eval on experience 3 (Task 0) from test stream ended.\n",
      "\tTop1_Acc_Exp/eval_phase/test_stream/Task000/Exp003 = 0.7222\n",
      "-- Starting eval on experience 4 (Task 0) from test stream --\n",
      "100%|██████████| 79/79 [00:00<00:00, 141.96it/s]\n",
      "> Eval on experience 4 (Task 0) from test stream ended.\n",
      "\tTop1_Acc_Exp/eval_phase/test_stream/Task000/Exp004 = 0.7539\n",
      "-- Starting eval on experience 5 (Task 0) from test stream --\n",
      "100%|██████████| 79/79 [00:00<00:00, 145.75it/s]\n",
      "> Eval on experience 5 (Task 0) from test stream ended.\n",
      "\tTop1_Acc_Exp/eval_phase/test_stream/Task000/Exp005 = 0.7774\n",
      "-- Starting eval on experience 6 (Task 0) from test stream --\n",
      "100%|██████████| 79/79 [00:00<00:00, 133.80it/s]\n",
      "> Eval on experience 6 (Task 0) from test stream ended.\n",
      "\tTop1_Acc_Exp/eval_phase/test_stream/Task000/Exp006 = 0.7989\n",
      "-- Starting eval on experience 7 (Task 0) from test stream --\n",
      "100%|██████████| 79/79 [00:00<00:00, 143.46it/s]\n",
      "> Eval on experience 7 (Task 0) from test stream ended.\n",
      "\tTop1_Acc_Exp/eval_phase/test_stream/Task000/Exp007 = 0.1861\n",
      "-- Starting eval on experience 8 (Task 0) from test stream --\n",
      "100%|██████████| 79/79 [00:00<00:00, 146.61it/s]\n",
      "> Eval on experience 8 (Task 0) from test stream ended.\n",
      "\tTop1_Acc_Exp/eval_phase/test_stream/Task000/Exp008 = 0.1829\n",
      "-- Starting eval on experience 9 (Task 0) from test stream --\n",
      "100%|██████████| 79/79 [00:00<00:00, 143.88it/s]"
     ]
    },
    {
     "name": "stderr",
     "output_type": "stream",
     "text": [
      " 70%|███████   | 7/10 [03:03<01:21, 27.25s/it]"
     ]
    },
    {
     "name": "stdout",
     "output_type": "stream",
     "text": [
      "\n",
      "> Eval on experience 9 (Task 0) from test stream ended.\n",
      "\tTop1_Acc_Exp/eval_phase/test_stream/Task000/Exp009 = 0.1460\n",
      "-- >> End of eval phase << --\n",
      "\tTop1_Acc_Stream/eval_phase/test_stream/Task000 = 0.5505\n",
      "-- >> Start of training phase << --\n",
      "100%|██████████| 235/235 [00:04<00:00, 55.68it/s]\n",
      "Epoch 0 ended.\n",
      "100%|██████████| 235/235 [00:04<00:00, 57.95it/s]\n",
      "Epoch 1 ended.\n",
      "100%|██████████| 235/235 [00:04<00:00, 57.52it/s]\n",
      "Epoch 2 ended.\n",
      "100%|██████████| 235/235 [00:03<00:00, 59.37it/s]\n",
      "Epoch 3 ended.\n",
      "100%|██████████| 235/235 [00:04<00:00, 56.94it/s]\n",
      "Epoch 4 ended.\n",
      "-- >> End of training phase << --\n",
      "-- >> Start of eval phase << --\n",
      "-- Starting eval on experience 0 (Task 0) from test stream --\n",
      "100%|██████████| 79/79 [00:00<00:00, 144.33it/s]\n",
      "> Eval on experience 0 (Task 0) from test stream ended.\n",
      "\tTop1_Acc_Exp/eval_phase/test_stream/Task000/Exp000 = 0.5647\n",
      "-- Starting eval on experience 1 (Task 0) from test stream --\n",
      "100%|██████████| 79/79 [00:00<00:00, 143.01it/s]\n",
      "> Eval on experience 1 (Task 0) from test stream ended.\n",
      "\tTop1_Acc_Exp/eval_phase/test_stream/Task000/Exp001 = 0.6349\n",
      "-- Starting eval on experience 2 (Task 0) from test stream --\n",
      "100%|██████████| 79/79 [00:00<00:00, 139.27it/s]\n",
      "> Eval on experience 2 (Task 0) from test stream ended.\n",
      "\tTop1_Acc_Exp/eval_phase/test_stream/Task000/Exp002 = 0.6641\n",
      "-- Starting eval on experience 3 (Task 0) from test stream --\n",
      "100%|██████████| 79/79 [00:00<00:00, 144.62it/s]\n",
      "> Eval on experience 3 (Task 0) from test stream ended.\n",
      "\tTop1_Acc_Exp/eval_phase/test_stream/Task000/Exp003 = 0.7207\n",
      "-- Starting eval on experience 4 (Task 0) from test stream --\n",
      "100%|██████████| 79/79 [00:00<00:00, 141.93it/s]\n",
      "> Eval on experience 4 (Task 0) from test stream ended.\n",
      "\tTop1_Acc_Exp/eval_phase/test_stream/Task000/Exp004 = 0.7233\n",
      "-- Starting eval on experience 5 (Task 0) from test stream --\n",
      "100%|██████████| 79/79 [00:00<00:00, 130.38it/s]\n",
      "> Eval on experience 5 (Task 0) from test stream ended.\n",
      "\tTop1_Acc_Exp/eval_phase/test_stream/Task000/Exp005 = 0.7520\n",
      "-- Starting eval on experience 6 (Task 0) from test stream --\n",
      "100%|██████████| 79/79 [00:00<00:00, 139.18it/s]\n",
      "> Eval on experience 6 (Task 0) from test stream ended.\n",
      "\tTop1_Acc_Exp/eval_phase/test_stream/Task000/Exp006 = 0.7526\n",
      "-- Starting eval on experience 7 (Task 0) from test stream --\n",
      "100%|██████████| 79/79 [00:00<00:00, 136.13it/s]\n",
      "> Eval on experience 7 (Task 0) from test stream ended.\n",
      "\tTop1_Acc_Exp/eval_phase/test_stream/Task000/Exp007 = 0.8010\n",
      "-- Starting eval on experience 8 (Task 0) from test stream --\n",
      "100%|██████████| 79/79 [00:00<00:00, 132.24it/s]\n",
      "> Eval on experience 8 (Task 0) from test stream ended.\n",
      "\tTop1_Acc_Exp/eval_phase/test_stream/Task000/Exp008 = 0.1673\n",
      "-- Starting eval on experience 9 (Task 0) from test stream --\n",
      "100%|██████████| 79/79 [00:00<00:00, 134.12it/s]"
     ]
    },
    {
     "name": "stderr",
     "output_type": "stream",
     "text": [
      " 80%|████████  | 8/10 [03:32<00:55, 27.81s/it]"
     ]
    },
    {
     "name": "stdout",
     "output_type": "stream",
     "text": [
      "\n",
      "> Eval on experience 9 (Task 0) from test stream ended.\n",
      "\tTop1_Acc_Exp/eval_phase/test_stream/Task000/Exp009 = 0.1578\n",
      "-- >> End of eval phase << --\n",
      "\tTop1_Acc_Stream/eval_phase/test_stream/Task000 = 0.5938\n",
      "-- >> Start of training phase << --\n",
      "100%|██████████| 235/235 [00:04<00:00, 54.96it/s]\n",
      "Epoch 0 ended.\n",
      "100%|██████████| 235/235 [00:04<00:00, 53.70it/s]\n",
      "Epoch 1 ended.\n",
      "100%|██████████| 235/235 [00:04<00:00, 54.92it/s]\n",
      "Epoch 2 ended.\n",
      "100%|██████████| 235/235 [00:04<00:00, 55.07it/s]\n",
      "Epoch 3 ended.\n",
      "100%|██████████| 235/235 [00:04<00:00, 55.09it/s]\n",
      "Epoch 4 ended.\n",
      "-- >> End of training phase << --\n",
      "-- >> Start of eval phase << --\n",
      "-- Starting eval on experience 0 (Task 0) from test stream --\n",
      "100%|██████████| 79/79 [00:00<00:00, 138.96it/s]\n",
      "> Eval on experience 0 (Task 0) from test stream ended.\n",
      "\tTop1_Acc_Exp/eval_phase/test_stream/Task000/Exp000 = 0.5178\n",
      "-- Starting eval on experience 1 (Task 0) from test stream --\n",
      "100%|██████████| 79/79 [00:00<00:00, 136.54it/s]\n",
      "> Eval on experience 1 (Task 0) from test stream ended.\n",
      "\tTop1_Acc_Exp/eval_phase/test_stream/Task000/Exp001 = 0.6435\n",
      "-- Starting eval on experience 2 (Task 0) from test stream --\n",
      "100%|██████████| 79/79 [00:00<00:00, 141.05it/s]\n",
      "> Eval on experience 2 (Task 0) from test stream ended.\n",
      "\tTop1_Acc_Exp/eval_phase/test_stream/Task000/Exp002 = 0.6313\n",
      "-- Starting eval on experience 3 (Task 0) from test stream --\n",
      "100%|██████████| 79/79 [00:00<00:00, 134.44it/s]\n",
      "> Eval on experience 3 (Task 0) from test stream ended.\n",
      "\tTop1_Acc_Exp/eval_phase/test_stream/Task000/Exp003 = 0.6839\n",
      "-- Starting eval on experience 4 (Task 0) from test stream --\n",
      "100%|██████████| 79/79 [00:00<00:00, 140.50it/s]\n",
      "> Eval on experience 4 (Task 0) from test stream ended.\n",
      "\tTop1_Acc_Exp/eval_phase/test_stream/Task000/Exp004 = 0.7324\n",
      "-- Starting eval on experience 5 (Task 0) from test stream --\n",
      "100%|██████████| 79/79 [00:00<00:00, 139.38it/s]\n",
      "> Eval on experience 5 (Task 0) from test stream ended.\n",
      "\tTop1_Acc_Exp/eval_phase/test_stream/Task000/Exp005 = 0.7253\n",
      "-- Starting eval on experience 6 (Task 0) from test stream --\n",
      "100%|██████████| 79/79 [00:00<00:00, 137.27it/s]\n",
      "> Eval on experience 6 (Task 0) from test stream ended.\n",
      "\tTop1_Acc_Exp/eval_phase/test_stream/Task000/Exp006 = 0.7328\n",
      "-- Starting eval on experience 7 (Task 0) from test stream --\n",
      "100%|██████████| 79/79 [00:00<00:00, 138.86it/s]\n",
      "> Eval on experience 7 (Task 0) from test stream ended.\n",
      "\tTop1_Acc_Exp/eval_phase/test_stream/Task000/Exp007 = 0.7809\n",
      "-- Starting eval on experience 8 (Task 0) from test stream --\n",
      "100%|██████████| 79/79 [00:00<00:00, 140.02it/s]\n",
      "> Eval on experience 8 (Task 0) from test stream ended.\n",
      "\tTop1_Acc_Exp/eval_phase/test_stream/Task000/Exp008 = 0.8102\n",
      "-- Starting eval on experience 9 (Task 0) from test stream --\n",
      "100%|██████████| 79/79 [00:00<00:00, 139.07it/s]"
     ]
    },
    {
     "name": "stderr",
     "output_type": "stream",
     "text": [
      " 90%|█████████ | 9/10 [04:02<00:28, 28.50s/it]"
     ]
    },
    {
     "name": "stdout",
     "output_type": "stream",
     "text": [
      "\n",
      "> Eval on experience 9 (Task 0) from test stream ended.\n",
      "\tTop1_Acc_Exp/eval_phase/test_stream/Task000/Exp009 = 0.1710\n",
      "-- >> End of eval phase << --\n",
      "\tTop1_Acc_Stream/eval_phase/test_stream/Task000 = 0.6429\n",
      "-- >> Start of training phase << --\n",
      "100%|██████████| 235/235 [00:04<00:00, 53.93it/s]\n",
      "Epoch 0 ended.\n",
      "100%|██████████| 235/235 [00:04<00:00, 53.43it/s]\n",
      "Epoch 1 ended.\n",
      "100%|██████████| 235/235 [00:04<00:00, 53.17it/s]\n",
      "Epoch 2 ended.\n",
      "100%|██████████| 235/235 [00:04<00:00, 53.21it/s]\n",
      "Epoch 3 ended.\n",
      "100%|██████████| 235/235 [00:04<00:00, 53.82it/s]\n",
      "Epoch 4 ended.\n",
      "-- >> End of training phase << --\n",
      "-- >> Start of eval phase << --\n",
      "-- Starting eval on experience 0 (Task 0) from test stream --\n",
      "100%|██████████| 79/79 [00:00<00:00, 142.41it/s]\n",
      "> Eval on experience 0 (Task 0) from test stream ended.\n",
      "\tTop1_Acc_Exp/eval_phase/test_stream/Task000/Exp000 = 0.5519\n",
      "-- Starting eval on experience 1 (Task 0) from test stream --\n",
      "100%|██████████| 79/79 [00:00<00:00, 146.25it/s]\n",
      "> Eval on experience 1 (Task 0) from test stream ended.\n",
      "\tTop1_Acc_Exp/eval_phase/test_stream/Task000/Exp001 = 0.6449\n",
      "-- Starting eval on experience 2 (Task 0) from test stream --\n",
      "100%|██████████| 79/79 [00:00<00:00, 142.59it/s]\n",
      "> Eval on experience 2 (Task 0) from test stream ended.\n",
      "\tTop1_Acc_Exp/eval_phase/test_stream/Task000/Exp002 = 0.6275\n",
      "-- Starting eval on experience 3 (Task 0) from test stream --\n",
      "100%|██████████| 79/79 [00:00<00:00, 139.32it/s]\n",
      "> Eval on experience 3 (Task 0) from test stream ended.\n",
      "\tTop1_Acc_Exp/eval_phase/test_stream/Task000/Exp003 = 0.6837\n",
      "-- Starting eval on experience 4 (Task 0) from test stream --\n",
      "100%|██████████| 79/79 [00:00<00:00, 140.14it/s]\n",
      "> Eval on experience 4 (Task 0) from test stream ended.\n",
      "\tTop1_Acc_Exp/eval_phase/test_stream/Task000/Exp004 = 0.6856\n",
      "-- Starting eval on experience 5 (Task 0) from test stream --\n",
      "100%|██████████| 79/79 [00:00<00:00, 142.56it/s]\n",
      "> Eval on experience 5 (Task 0) from test stream ended.\n",
      "\tTop1_Acc_Exp/eval_phase/test_stream/Task000/Exp005 = 0.6880\n",
      "-- Starting eval on experience 6 (Task 0) from test stream --\n",
      "100%|██████████| 79/79 [00:00<00:00, 146.88it/s]\n",
      "> Eval on experience 6 (Task 0) from test stream ended.\n",
      "\tTop1_Acc_Exp/eval_phase/test_stream/Task000/Exp006 = 0.7188\n",
      "-- Starting eval on experience 7 (Task 0) from test stream --\n",
      "100%|██████████| 79/79 [00:00<00:00, 146.48it/s]\n",
      "> Eval on experience 7 (Task 0) from test stream ended.\n",
      "\tTop1_Acc_Exp/eval_phase/test_stream/Task000/Exp007 = 0.7767\n",
      "-- Starting eval on experience 8 (Task 0) from test stream --\n",
      "100%|██████████| 79/79 [00:00<00:00, 147.64it/s]\n",
      "> Eval on experience 8 (Task 0) from test stream ended.\n",
      "\tTop1_Acc_Exp/eval_phase/test_stream/Task000/Exp008 = 0.7567\n",
      "-- Starting eval on experience 9 (Task 0) from test stream --\n",
      "100%|██████████| 79/79 [00:00<00:00, 142.45it/s]"
     ]
    },
    {
     "name": "stderr",
     "output_type": "stream",
     "text": [
      "100%|██████████| 10/10 [04:33<00:00, 27.31s/it]"
     ]
    },
    {
     "name": "stdout",
     "output_type": "stream",
     "text": [
      "\n",
      "> Eval on experience 9 (Task 0) from test stream ended.\n",
      "\tTop1_Acc_Exp/eval_phase/test_stream/Task000/Exp009 = 0.8034\n",
      "-- >> End of eval phase << --\n",
      "\tTop1_Acc_Stream/eval_phase/test_stream/Task000 = 0.6937\n"
     ]
    },
    {
     "name": "stderr",
     "output_type": "stream",
     "text": [
      "\n"
     ]
    }
   ],
   "source": [
    "results = list()\n",
    "\n",
    "for experience in tqdm(train_stream):\n",
    "    strategy.train(experience)\n",
    "    metrics = strategy.eval(test_stream)\n",
    "    results.append(metrics)"
   ]
  },
  {
   "cell_type": "code",
   "execution_count": 24,
   "metadata": {},
   "outputs": [],
   "source": [
    "accuracies: dict[int, list[float]] = dict()\n",
    "\n",
    "for i in range(10):\n",
    "    accuracies[f\"Task{i}\"] = eval_plugin.get_all_metrics()[f\"Top1_Acc_Exp/eval_phase/test_stream/Task000/Exp00{i}\"][1]\n",
    "\n",
    "accuracies[\"Overall\"] = eval_plugin.get_all_metrics()[\"Top1_Acc_Stream/eval_phase/test_stream/Task000\"][1]"
   ]
  },
  {
   "cell_type": "code",
   "execution_count": 25,
   "metadata": {},
   "outputs": [],
   "source": [
    "acc_df = pd.DataFrame(accuracies)\n",
    "acc_df.index = range(10)"
   ]
  },
  {
   "cell_type": "code",
   "execution_count": 27,
   "metadata": {},
   "outputs": [
    {
     "data": {
      "text/plain": [
       "<Axes: >"
      ]
     },
     "execution_count": 27,
     "metadata": {},
     "output_type": "execute_result"
    },
    {
     "data": {
      "image/png": "[encoded data removed]",
      "text/plain": [
       "<Figure size 640x480 with 1 Axes>"
      ]
     },
     "metadata": {},
     "output_type": "display_data"
    }
   ],
   "source": [
    "# lineplot every task acc per training\n",
    "sns.lineplot(data=acc_df, dashes=False, markers=True)"
   ]
  },
  {
   "cell_type": "markdown",
   "metadata": {},
   "source": [
    "# Store metrics"
   ]
  },
  {
   "cell_type": "code",
   "execution_count": 30,
   "metadata": {},
   "outputs": [],
   "source": [
    "pickle.dump(acc_df, open(SAVED_METRICS_PATH / \"ewc.pkl\", \"wb\"))"
   ]
  }
 ],
 "metadata": {
  "kernelspec": {
   "display_name": "tt2",
   "language": "python",
   "name": "python3"
  },
  "language_info": {
   "codemirror_mode": {
    "name": "ipython",
    "version": 3
   },
   "file_extension": ".py",
   "mimetype": "text/x-python",
   "name": "python",
   "nbconvert_exporter": "python",
   "pygments_lexer": "ipython3",
   "version": "3.9.18"
  }
 },
 "nbformat": 4,
 "nbformat_minor": 2
}
