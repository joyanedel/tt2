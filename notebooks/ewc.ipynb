{
 "cells": [
  {
   "cell_type": "code",
   "execution_count": 11,
   "metadata": {},
   "outputs": [
    {
     "name": "stdout",
     "output_type": "stream",
     "text": [
      "The autoreload extension is already loaded. To reload it, use:\n",
      "  %reload_ext autoreload\n"
     ]
    }
   ],
   "source": [
    "%load_ext autoreload\n",
    "%autoreload 2"
   ]
  },
  {
   "cell_type": "markdown",
   "metadata": {},
   "source": [
    "# Libraries"
   ]
  },
  {
   "cell_type": "code",
   "execution_count": 12,
   "metadata": {},
   "outputs": [],
   "source": [
    "from torchvision.transforms import Compose, ToTensor\n",
    "from torchsummary import summary\n",
    "import pickle\n",
    "import pandas as pd\n",
    "import plotly.express as px\n",
    "from tqdm import tqdm"
   ]
  },
  {
   "cell_type": "code",
   "execution_count": 13,
   "metadata": {},
   "outputs": [],
   "source": [
    "from avalanche.benchmarks.classic import PermutedMNIST\n",
    "from avalanche.models import SimpleMLP\n",
    "from avalanche.training import EWC\n",
    "from avalanche.training.plugins import EvaluationPlugin\n",
    "from avalanche.logging import InteractiveLogger\n",
    "from avalanche.evaluation.metrics import accuracy_metrics, forgetting_metrics, bwt_metrics, timing_metrics, cpu_usage_metrics, ram_usage_metrics\n",
    "\n",
    "from torch.nn import CrossEntropyLoss\n",
    "from torch.optim import SGD"
   ]
  },
  {
   "cell_type": "markdown",
   "metadata": {},
   "source": [
    "## Custom Libraries"
   ]
  },
  {
   "cell_type": "code",
   "execution_count": 14,
   "metadata": {},
   "outputs": [],
   "source": [
    "import sys\n",
    "\n",
    "sys.path.append(\"../base_code/\")\n",
    "\n",
    "from base_code.constants import DATASETS_PATH, SAVED_METRICS_PATH\n",
    "from base_code.plugins import WeightStoragePlugin"
   ]
  },
  {
   "cell_type": "markdown",
   "metadata": {},
   "source": [
    "# Dataset and definitions"
   ]
  },
  {
   "cell_type": "markdown",
   "metadata": {},
   "source": [
    "## Dataset loading\n",
    "\n",
    "We load state-of-the-art dataset Modified NIST"
   ]
  },
  {
   "cell_type": "code",
   "execution_count": 15,
   "metadata": {},
   "outputs": [],
   "source": [
    "scenario = PermutedMNIST(10, seed=1234, dataset_root=DATASETS_PATH)"
   ]
  },
  {
   "cell_type": "markdown",
   "metadata": {},
   "source": [
    "## Scenario creation with train test streaming\n",
    "\n",
    "In this point, we define our scenario considering a training where in every experience of it, a new class is presented. This is, first we train with a class $a$, the following experience we train with class $b$ ($a \\neq b$)"
   ]
  },
  {
   "cell_type": "code",
   "execution_count": 16,
   "metadata": {},
   "outputs": [],
   "source": [
    "train_stream = scenario.train_stream\n",
    "test_stream = scenario.test_stream"
   ]
  },
  {
   "cell_type": "markdown",
   "metadata": {},
   "source": [
    "## Evaluation metrics definition"
   ]
  },
  {
   "cell_type": "code",
   "execution_count": 17,
   "metadata": {},
   "outputs": [],
   "source": [
    "eval_plugin = EvaluationPlugin(\n",
    "    accuracy_metrics(experience=True, stream=True, trained_experience=True),\n",
    "    forgetting_metrics(experience=True, stream=True),\n",
    "    bwt_metrics(experience=True, stream=True),\n",
    "    timing_metrics(epoch=True, epoch_running=True),\n",
    "    cpu_usage_metrics(experience=True, stream=True),\n",
    "    ram_usage_metrics(experience=True, stream=True),\n",
    "    loggers=[InteractiveLogger()]\n",
    ")"
   ]
  },
  {
   "cell_type": "markdown",
   "metadata": {},
   "source": [
    "## Plugin defitinitions"
   ]
  },
  {
   "cell_type": "code",
   "execution_count": 18,
   "metadata": {},
   "outputs": [],
   "source": [
    "model_plugins = [WeightStoragePlugin()]"
   ]
  },
  {
   "cell_type": "markdown",
   "metadata": {},
   "source": [
    "## Model, Optimizer, Loss function and Strategy definition\n",
    "\n",
    "* `model`: Multi Layer Perceptron\n",
    "* `Optimizer`: Adam\n",
    "* `Loss function`: Cross Entropy\n",
    "* `Strategy`: Elastic Weight Consolidation"
   ]
  },
  {
   "cell_type": "code",
   "execution_count": 19,
   "metadata": {},
   "outputs": [],
   "source": [
    "# model = MLP(n_classes=scenario.n_classes, n_channels=1, width=28, height=28)\n",
    "model = SimpleMLP(num_classes=scenario.n_classes, input_size=28 * 28, hidden_layers=2, hidden_size=100)\n",
    "optimizer = SGD(model.parameters(), lr=1e-3)\n",
    "criterion = CrossEntropyLoss()\n",
    "strategy = EWC(\n",
    "    model,\n",
    "    optimizer,\n",
    "    criterion,\n",
    "    ewc_lambda=1.0,\n",
    "    train_epochs=5,\n",
    "    train_mb_size=128,\n",
    "    plugins=model_plugins,\n",
    "    evaluator=eval_plugin,\n",
    "    eval_mb_size=128,\n",
    ")"
   ]
  },
  {
   "cell_type": "markdown",
   "metadata": {},
   "source": [
    "# Training and evaluation\n",
    "\n",
    "Revisar porque el entrenamiento se está comportando de forma rara"
   ]
  },
  {
   "cell_type": "code",
   "execution_count": 20,
   "metadata": {},
   "outputs": [
    {
     "name": "stderr",
     "output_type": "stream",
     "text": [
      "  0%|          | 0/10 [00:00<?, ?it/s]"
     ]
    },
    {
     "name": "stdout",
     "output_type": "stream",
     "text": [
      "-- >> Start of training phase << --\n",
      "100%|██████████| 469/469 [00:03<00:00, 126.00it/s]\n",
      "Epoch 0 ended.\n",
      "\tRunningTime_Epoch/train_phase/train_stream/Task000 = 0.0002\n",
      "\tTime_Epoch/train_phase/train_stream/Task000 = 3.7224\n",
      "100%|██████████| 469/469 [00:03<00:00, 130.95it/s]\n",
      "Epoch 1 ended.\n",
      "\tRunningTime_Epoch/train_phase/train_stream/Task000 = 0.0000\n",
      "\tTime_Epoch/train_phase/train_stream/Task000 = 3.5817\n",
      "100%|██████████| 469/469 [00:03<00:00, 131.75it/s]\n",
      "Epoch 2 ended.\n",
      "\tRunningTime_Epoch/train_phase/train_stream/Task000 = 0.0000\n",
      "\tTime_Epoch/train_phase/train_stream/Task000 = 3.5600\n",
      "100%|██████████| 469/469 [00:03<00:00, 129.81it/s]\n",
      "Epoch 3 ended.\n",
      "\tRunningTime_Epoch/train_phase/train_stream/Task000 = 0.0000\n",
      "\tTime_Epoch/train_phase/train_stream/Task000 = 3.6132\n",
      "100%|██████████| 469/469 [00:03<00:00, 130.86it/s]\n",
      "Epoch 4 ended.\n",
      "\tRunningTime_Epoch/train_phase/train_stream/Task000 = 0.0000\n",
      "\tTime_Epoch/train_phase/train_stream/Task000 = 3.5843\n",
      "-- >> End of training phase << --\n",
      "-- >> Start of eval phase << --\n",
      "-- Starting eval on experience 0 (Task 0) from train stream --\n",
      "100%|██████████| 469/469 [00:03<00:00, 136.63it/s]\n",
      "> Eval on experience 0 (Task 0) from train stream ended.\n",
      "\tCPUUsage_Exp/eval_phase/train_stream/Task000/Exp000 = 107.1866\n",
      "\tMaxRAMUsage_Experience/eval_phase/train_stream/Task000/Exp000 = 283.5781\n",
      "\tTop1_Acc_Exp/eval_phase/train_stream/Task000/Exp000 = 0.7526\n",
      "-- Starting eval on experience 1 (Task 0) from train stream --\n",
      "100%|██████████| 469/469 [00:03<00:00, 137.29it/s]\n",
      "> Eval on experience 1 (Task 0) from train stream ended.\n",
      "\tCPUUsage_Exp/eval_phase/train_stream/Task000/Exp001 = 105.8466\n",
      "\tMaxRAMUsage_Experience/eval_phase/train_stream/Task000/Exp001 = 280.6250\n",
      "\tTop1_Acc_Exp/eval_phase/train_stream/Task000/Exp001 = 0.1398\n",
      "-- Starting eval on experience 2 (Task 0) from train stream --\n",
      "100%|██████████| 469/469 [00:03<00:00, 137.86it/s]\n",
      "> Eval on experience 2 (Task 0) from train stream ended.\n",
      "\tCPUUsage_Exp/eval_phase/train_stream/Task000/Exp002 = 106.4174\n",
      "\tMaxRAMUsage_Experience/eval_phase/train_stream/Task000/Exp002 = 280.8125\n",
      "\tTop1_Acc_Exp/eval_phase/train_stream/Task000/Exp002 = 0.1440\n",
      "-- Starting eval on experience 3 (Task 0) from train stream --\n",
      "100%|██████████| 469/469 [00:03<00:00, 136.55it/s]\n",
      "> Eval on experience 3 (Task 0) from train stream ended.\n",
      "\tCPUUsage_Exp/eval_phase/train_stream/Task000/Exp003 = 105.8348\n",
      "\tMaxRAMUsage_Experience/eval_phase/train_stream/Task000/Exp003 = 256.8906\n",
      "\tTop1_Acc_Exp/eval_phase/train_stream/Task000/Exp003 = 0.1343\n",
      "-- Starting eval on experience 4 (Task 0) from train stream --\n",
      "100%|██████████| 469/469 [00:03<00:00, 132.69it/s]\n",
      "> Eval on experience 4 (Task 0) from train stream ended.\n",
      "\tCPUUsage_Exp/eval_phase/train_stream/Task000/Exp004 = 104.7939\n",
      "\tMaxRAMUsage_Experience/eval_phase/train_stream/Task000/Exp004 = 221.7031\n",
      "\tTop1_Acc_Exp/eval_phase/train_stream/Task000/Exp004 = 0.0943\n",
      "-- Starting eval on experience 5 (Task 0) from train stream --\n",
      "100%|██████████| 469/469 [00:03<00:00, 138.81it/s]\n",
      "> Eval on experience 5 (Task 0) from train stream ended.\n",
      "\tCPUUsage_Exp/eval_phase/train_stream/Task000/Exp005 = 106.3429\n",
      "\tMaxRAMUsage_Experience/eval_phase/train_stream/Task000/Exp005 = 173.6094\n",
      "\tTop1_Acc_Exp/eval_phase/train_stream/Task000/Exp005 = 0.1094\n",
      "-- Starting eval on experience 6 (Task 0) from train stream --\n",
      "100%|██████████| 469/469 [00:03<00:00, 137.61it/s]\n",
      "> Eval on experience 6 (Task 0) from train stream ended.\n",
      "\tCPUUsage_Exp/eval_phase/train_stream/Task000/Exp006 = 105.4950\n",
      "\tMaxRAMUsage_Experience/eval_phase/train_stream/Task000/Exp006 = 175.5000\n",
      "\tTop1_Acc_Exp/eval_phase/train_stream/Task000/Exp006 = 0.2449\n",
      "-- Starting eval on experience 7 (Task 0) from train stream --\n",
      "100%|██████████| 469/469 [00:03<00:00, 136.93it/s]\n",
      "> Eval on experience 7 (Task 0) from train stream ended.\n",
      "\tCPUUsage_Exp/eval_phase/train_stream/Task000/Exp007 = 106.0042\n",
      "\tMaxRAMUsage_Experience/eval_phase/train_stream/Task000/Exp007 = 155.5469\n",
      "\tTop1_Acc_Exp/eval_phase/train_stream/Task000/Exp007 = 0.1510\n",
      "-- Starting eval on experience 8 (Task 0) from train stream --\n",
      "100%|██████████| 469/469 [00:03<00:00, 137.54it/s]\n",
      "> Eval on experience 8 (Task 0) from train stream ended.\n",
      "\tCPUUsage_Exp/eval_phase/train_stream/Task000/Exp008 = 105.8688\n",
      "\tMaxRAMUsage_Experience/eval_phase/train_stream/Task000/Exp008 = 152.8125\n",
      "\tTop1_Acc_Exp/eval_phase/train_stream/Task000/Exp008 = 0.1441\n",
      "-- Starting eval on experience 9 (Task 0) from train stream --\n",
      "100%|██████████| 469/469 [00:03<00:00, 134.24it/s]\n",
      "> Eval on experience 9 (Task 0) from train stream ended.\n",
      "\tCPUUsage_Exp/eval_phase/train_stream/Task000/Exp009 = 105.1723\n",
      "\tMaxRAMUsage_Experience/eval_phase/train_stream/Task000/Exp009 = 155.1562\n",
      "\tTop1_Acc_Exp/eval_phase/train_stream/Task000/Exp009 = 0.1746\n",
      "-- >> End of eval phase << --\n",
      "\tAccuracy_On_Trained_Experiences/eval_phase/train_stream/Task000 = 0.7526\n",
      "\tCPUUsage_Stream/eval_phase/train_stream/Task000 = 105.8796\n",
      "\tMaxRAMUsage_Stream/eval_phase/train_stream/Task000 = 283.5781\n",
      "\tStreamBWT/eval_phase/train_stream = 0.0000\n",
      "\tStreamForgetting/eval_phase/train_stream = 0.0000\n",
      "\tTop1_Acc_Stream/eval_phase/train_stream/Task000 = 0.2089\n",
      "-- >> Start of eval phase << --\n",
      "-- Starting eval on experience 0 (Task 0) from test stream --\n",
      "100%|██████████| 79/79 [00:00<00:00, 132.38it/s]\n",
      "> Eval on experience 0 (Task 0) from test stream ended.\n",
      "\tCPUUsage_Exp/eval_phase/test_stream/Task000/Exp000 = 107.3728\n",
      "\tMaxRAMUsage_Experience/eval_phase/test_stream/Task000/Exp000 = 0\n",
      "\tTop1_Acc_Exp/eval_phase/test_stream/Task000/Exp000 = 0.7569\n",
      "-- Starting eval on experience 1 (Task 0) from test stream --\n",
      "100%|██████████| 79/79 [00:00<00:00, 132.32it/s]\n",
      "> Eval on experience 1 (Task 0) from test stream ended.\n",
      "\tCPUUsage_Exp/eval_phase/test_stream/Task000/Exp001 = 104.1087\n",
      "\tMaxRAMUsage_Experience/eval_phase/test_stream/Task000/Exp001 = 154.2812\n",
      "\tTop1_Acc_Exp/eval_phase/test_stream/Task000/Exp001 = 0.1446\n",
      "-- Starting eval on experience 2 (Task 0) from test stream --\n",
      "100%|██████████| 79/79 [00:00<00:00, 140.80it/s]\n",
      "> Eval on experience 2 (Task 0) from test stream ended.\n",
      "\tCPUUsage_Exp/eval_phase/test_stream/Task000/Exp002 = 107.1338\n",
      "\tMaxRAMUsage_Experience/eval_phase/test_stream/Task000/Exp002 = 0\n",
      "\tTop1_Acc_Exp/eval_phase/test_stream/Task000/Exp002 = 0.1543\n",
      "-- Starting eval on experience 3 (Task 0) from test stream --\n",
      "100%|██████████| 79/79 [00:00<00:00, 129.94it/s]\n",
      "> Eval on experience 3 (Task 0) from test stream ended.\n",
      "\tCPUUsage_Exp/eval_phase/test_stream/Task000/Exp003 = 104.0194\n",
      "\tMaxRAMUsage_Experience/eval_phase/test_stream/Task000/Exp003 = 155.1719\n",
      "\tTop1_Acc_Exp/eval_phase/test_stream/Task000/Exp003 = 0.1371\n",
      "-- Starting eval on experience 4 (Task 0) from test stream --\n",
      "100%|██████████| 79/79 [00:00<00:00, 139.82it/s]\n",
      "> Eval on experience 4 (Task 0) from test stream ended.\n",
      "\tCPUUsage_Exp/eval_phase/test_stream/Task000/Exp004 = 107.0544\n",
      "\tMaxRAMUsage_Experience/eval_phase/test_stream/Task000/Exp004 = 0\n",
      "\tTop1_Acc_Exp/eval_phase/test_stream/Task000/Exp004 = 0.0966\n",
      "-- Starting eval on experience 5 (Task 0) from test stream --\n",
      "100%|██████████| 79/79 [00:00<00:00, 139.06it/s]\n",
      "> Eval on experience 5 (Task 0) from test stream ended.\n",
      "\tCPUUsage_Exp/eval_phase/test_stream/Task000/Exp005 = 106.6556\n",
      "\tMaxRAMUsage_Experience/eval_phase/test_stream/Task000/Exp005 = 157.7812\n",
      "\tTop1_Acc_Exp/eval_phase/test_stream/Task000/Exp005 = 0.1105\n",
      "-- Starting eval on experience 6 (Task 0) from test stream --\n",
      "100%|██████████| 79/79 [00:00<00:00, 131.64it/s]\n",
      "> Eval on experience 6 (Task 0) from test stream ended.\n",
      "\tCPUUsage_Exp/eval_phase/test_stream/Task000/Exp006 = 103.5047\n",
      "\tMaxRAMUsage_Experience/eval_phase/test_stream/Task000/Exp006 = 158.5469\n",
      "\tTop1_Acc_Exp/eval_phase/test_stream/Task000/Exp006 = 0.2517\n",
      "-- Starting eval on experience 7 (Task 0) from test stream --\n",
      "100%|██████████| 79/79 [00:00<00:00, 139.25it/s]\n",
      "> Eval on experience 7 (Task 0) from test stream ended.\n",
      "\tCPUUsage_Exp/eval_phase/test_stream/Task000/Exp007 = 106.4278\n",
      "\tMaxRAMUsage_Experience/eval_phase/test_stream/Task000/Exp007 = 0\n",
      "\tTop1_Acc_Exp/eval_phase/test_stream/Task000/Exp007 = 0.1483\n",
      "-- Starting eval on experience 8 (Task 0) from test stream --\n",
      "100%|██████████| 79/79 [00:00<00:00, 133.20it/s]\n",
      "> Eval on experience 8 (Task 0) from test stream ended.\n",
      "\tCPUUsage_Exp/eval_phase/test_stream/Task000/Exp008 = 104.2432\n",
      "\tMaxRAMUsage_Experience/eval_phase/test_stream/Task000/Exp008 = 159.4062\n",
      "\tTop1_Acc_Exp/eval_phase/test_stream/Task000/Exp008 = 0.1371\n",
      "-- Starting eval on experience 9 (Task 0) from test stream --\n",
      "100%|██████████| 79/79 [00:00<00:00, 138.80it/s]\n",
      "> Eval on experience 9 (Task 0) from test stream ended.\n",
      "\tCPUUsage_Exp/eval_phase/test_stream/Task000/Exp009 = 106.6245\n",
      "\tMaxRAMUsage_Experience/eval_phase/test_stream/Task000/Exp009 = 0\n",
      "\tTop1_Acc_Exp/eval_phase/test_stream/Task000/Exp009 = 0.1749\n",
      "-- >> End of eval phase << --\n",
      "\tAccuracy_On_Trained_Experiences/eval_phase/test_stream/Task000 = 0.7569\n",
      "\tCPUUsage_Stream/eval_phase/test_stream/Task000 = 105.6621\n",
      "\tMaxRAMUsage_Stream/eval_phase/test_stream/Task000 = 159.4062\n",
      "\tStreamBWT/eval_phase/test_stream = 0.0000\n",
      "\tStreamForgetting/eval_phase/test_stream = 0.0000\n",
      "\tTop1_Acc_Stream/eval_phase/test_stream/Task000 = 0.2112\n"
     ]
    },
    {
     "name": "stderr",
     "output_type": "stream",
     "text": [
      " 10%|█         | 1/10 [01:01<09:16, 61.88s/it]"
     ]
    },
    {
     "name": "stdout",
     "output_type": "stream",
     "text": [
      "-- >> Start of training phase << --\n",
      "100%|██████████| 469/469 [00:03<00:00, 121.36it/s]\n",
      "Epoch 0 ended.\n",
      "\tRunningTime_Epoch/train_phase/train_stream/Task000 = 0.0000\n",
      "\tTime_Epoch/train_phase/train_stream/Task000 = 3.8653\n",
      "100%|██████████| 469/469 [00:03<00:00, 123.72it/s]\n",
      "Epoch 1 ended.\n",
      "\tRunningTime_Epoch/train_phase/train_stream/Task000 = 0.0000\n",
      "\tTime_Epoch/train_phase/train_stream/Task000 = 3.7912\n",
      "100%|██████████| 469/469 [00:03<00:00, 123.21it/s]\n",
      "Epoch 2 ended.\n",
      "\tRunningTime_Epoch/train_phase/train_stream/Task000 = 0.0000\n",
      "\tTime_Epoch/train_phase/train_stream/Task000 = 3.8067\n",
      "100%|██████████| 469/469 [00:03<00:00, 121.80it/s]\n",
      "Epoch 3 ended.\n",
      "\tRunningTime_Epoch/train_phase/train_stream/Task000 = 0.0000\n",
      "\tTime_Epoch/train_phase/train_stream/Task000 = 3.8509\n",
      "100%|██████████| 469/469 [00:03<00:00, 121.00it/s]\n",
      "Epoch 4 ended.\n",
      "\tRunningTime_Epoch/train_phase/train_stream/Task000 = 0.0000\n",
      "\tTime_Epoch/train_phase/train_stream/Task000 = 3.8760\n",
      "-- >> End of training phase << --\n",
      "-- >> Start of eval phase << --\n",
      "-- Starting eval on experience 0 (Task 0) from train stream --\n",
      "100%|██████████| 469/469 [00:03<00:00, 138.12it/s]\n",
      "> Eval on experience 0 (Task 0) from train stream ended.\n",
      "\tCPUUsage_Exp/eval_phase/train_stream/Task000/Exp000 = 107.0048\n",
      "\tExperienceBWT/eval_phase/train_stream/Task000/Exp000 = -0.0538\n",
      "\tExperienceForgetting/eval_phase/train_stream/Task000/Exp000 = 0.0538\n",
      "\tMaxRAMUsage_Experience/eval_phase/train_stream/Task000/Exp000 = 172.6406\n",
      "\tTop1_Acc_Exp/eval_phase/train_stream/Task000/Exp000 = 0.7031\n",
      "-- Starting eval on experience 1 (Task 0) from train stream --\n",
      "100%|██████████| 469/469 [00:03<00:00, 137.39it/s]\n",
      "> Eval on experience 1 (Task 0) from train stream ended.\n",
      "\tCPUUsage_Exp/eval_phase/train_stream/Task000/Exp001 = 106.5708\n",
      "\tMaxRAMUsage_Experience/eval_phase/train_stream/Task000/Exp001 = 172.7031\n",
      "\tTop1_Acc_Exp/eval_phase/train_stream/Task000/Exp001 = 0.7579\n",
      "-- Starting eval on experience 2 (Task 0) from train stream --\n",
      "100%|██████████| 469/469 [00:03<00:00, 137.69it/s]\n",
      "> Eval on experience 2 (Task 0) from train stream ended.\n",
      "\tCPUUsage_Exp/eval_phase/train_stream/Task000/Exp002 = 105.8584\n",
      "\tMaxRAMUsage_Experience/eval_phase/train_stream/Task000/Exp002 = 173.5625\n",
      "\tTop1_Acc_Exp/eval_phase/train_stream/Task000/Exp002 = 0.1984\n",
      "-- Starting eval on experience 3 (Task 0) from train stream --\n",
      "100%|██████████| 469/469 [00:03<00:00, 137.34it/s]\n",
      "> Eval on experience 3 (Task 0) from train stream ended.\n",
      "\tCPUUsage_Exp/eval_phase/train_stream/Task000/Exp003 = 105.7484\n",
      "\tMaxRAMUsage_Experience/eval_phase/train_stream/Task000/Exp003 = 175.4219\n",
      "\tTop1_Acc_Exp/eval_phase/train_stream/Task000/Exp003 = 0.1502\n",
      "-- Starting eval on experience 4 (Task 0) from train stream --\n",
      "100%|██████████| 469/469 [00:03<00:00, 138.83it/s]\n",
      "> Eval on experience 4 (Task 0) from train stream ended.\n",
      "\tCPUUsage_Exp/eval_phase/train_stream/Task000/Exp004 = 105.9195\n",
      "\tMaxRAMUsage_Experience/eval_phase/train_stream/Task000/Exp004 = 178.5000\n",
      "\tTop1_Acc_Exp/eval_phase/train_stream/Task000/Exp004 = 0.1485\n",
      "-- Starting eval on experience 5 (Task 0) from train stream --\n",
      "100%|██████████| 469/469 [00:03<00:00, 137.42it/s]\n",
      "> Eval on experience 5 (Task 0) from train stream ended.\n",
      "\tCPUUsage_Exp/eval_phase/train_stream/Task000/Exp005 = 105.9271\n",
      "\tMaxRAMUsage_Experience/eval_phase/train_stream/Task000/Exp005 = 178.5312\n",
      "\tTop1_Acc_Exp/eval_phase/train_stream/Task000/Exp005 = 0.1030\n",
      "-- Starting eval on experience 6 (Task 0) from train stream --\n",
      "100%|██████████| 469/469 [00:03<00:00, 137.17it/s]\n",
      "> Eval on experience 6 (Task 0) from train stream ended.\n",
      "\tCPUUsage_Exp/eval_phase/train_stream/Task000/Exp006 = 105.6360\n",
      "\tMaxRAMUsage_Experience/eval_phase/train_stream/Task000/Exp006 = 177.8594\n",
      "\tTop1_Acc_Exp/eval_phase/train_stream/Task000/Exp006 = 0.2047\n",
      "-- Starting eval on experience 7 (Task 0) from train stream --\n",
      "100%|██████████| 469/469 [00:03<00:00, 137.14it/s]\n",
      "> Eval on experience 7 (Task 0) from train stream ended.\n",
      "\tCPUUsage_Exp/eval_phase/train_stream/Task000/Exp007 = 105.7134\n",
      "\tMaxRAMUsage_Experience/eval_phase/train_stream/Task000/Exp007 = 177.0312\n",
      "\tTop1_Acc_Exp/eval_phase/train_stream/Task000/Exp007 = 0.1339\n",
      "-- Starting eval on experience 8 (Task 0) from train stream --\n",
      "100%|██████████| 469/469 [00:03<00:00, 137.82it/s]\n",
      "> Eval on experience 8 (Task 0) from train stream ended.\n",
      "\tCPUUsage_Exp/eval_phase/train_stream/Task000/Exp008 = 105.5826\n",
      "\tMaxRAMUsage_Experience/eval_phase/train_stream/Task000/Exp008 = 177.0469\n",
      "\tTop1_Acc_Exp/eval_phase/train_stream/Task000/Exp008 = 0.1374\n",
      "-- Starting eval on experience 9 (Task 0) from train stream --\n",
      "100%|██████████| 469/469 [00:03<00:00, 135.66it/s]\n",
      "> Eval on experience 9 (Task 0) from train stream ended.\n",
      "\tCPUUsage_Exp/eval_phase/train_stream/Task000/Exp009 = 105.6196\n",
      "\tMaxRAMUsage_Experience/eval_phase/train_stream/Task000/Exp009 = 172.2656\n",
      "\tTop1_Acc_Exp/eval_phase/train_stream/Task000/Exp009 = 0.2092\n",
      "-- >> End of eval phase << --\n",
      "\tAccuracy_On_Trained_Experiences/eval_phase/train_stream/Task000 = 0.7305\n",
      "\tCPUUsage_Stream/eval_phase/train_stream/Task000 = 105.9466\n",
      "\tMaxRAMUsage_Stream/eval_phase/train_stream/Task000 = 178.5312\n",
      "\tStreamBWT/eval_phase/train_stream = -0.0538\n",
      "\tStreamForgetting/eval_phase/train_stream = 0.0538\n",
      "\tTop1_Acc_Stream/eval_phase/train_stream/Task000 = 0.2746\n",
      "-- >> Start of eval phase << --\n",
      "-- Starting eval on experience 0 (Task 0) from test stream --\n",
      "100%|██████████| 79/79 [00:00<00:00, 130.01it/s]\n",
      "> Eval on experience 0 (Task 0) from test stream ended.\n",
      "\tCPUUsage_Exp/eval_phase/test_stream/Task000/Exp000 = 106.9846\n",
      "\tExperienceBWT/eval_phase/test_stream/Task000/Exp000 = -0.0469\n",
      "\tExperienceForgetting/eval_phase/test_stream/Task000/Exp000 = 0.0469\n",
      "\tMaxRAMUsage_Experience/eval_phase/test_stream/Task000/Exp000 = 0\n",
      "\tTop1_Acc_Exp/eval_phase/test_stream/Task000/Exp000 = 0.7100\n",
      "-- Starting eval on experience 1 (Task 0) from test stream --\n",
      "100%|██████████| 79/79 [00:00<00:00, 133.70it/s]\n",
      "> Eval on experience 1 (Task 0) from test stream ended.\n",
      "\tCPUUsage_Exp/eval_phase/test_stream/Task000/Exp001 = 104.8794\n",
      "\tMaxRAMUsage_Experience/eval_phase/test_stream/Task000/Exp001 = 172.1250\n",
      "\tTop1_Acc_Exp/eval_phase/test_stream/Task000/Exp001 = 0.7618\n",
      "-- Starting eval on experience 2 (Task 0) from test stream --\n",
      "100%|██████████| 79/79 [00:00<00:00, 140.43it/s]\n",
      "> Eval on experience 2 (Task 0) from test stream ended.\n",
      "\tCPUUsage_Exp/eval_phase/test_stream/Task000/Exp002 = 107.0417\n",
      "\tMaxRAMUsage_Experience/eval_phase/test_stream/Task000/Exp002 = 0\n",
      "\tTop1_Acc_Exp/eval_phase/test_stream/Task000/Exp002 = 0.2088\n",
      "-- Starting eval on experience 3 (Task 0) from test stream --\n",
      "100%|██████████| 79/79 [00:00<00:00, 141.24it/s]\n",
      "> Eval on experience 3 (Task 0) from test stream ended.\n",
      "\tCPUUsage_Exp/eval_phase/test_stream/Task000/Exp003 = 106.8782\n",
      "\tMaxRAMUsage_Experience/eval_phase/test_stream/Task000/Exp003 = 172.1250\n",
      "\tTop1_Acc_Exp/eval_phase/test_stream/Task000/Exp003 = 0.1508\n",
      "-- Starting eval on experience 4 (Task 0) from test stream --\n",
      "100%|██████████| 79/79 [00:00<00:00, 130.30it/s]\n",
      "> Eval on experience 4 (Task 0) from test stream ended.\n",
      "\tCPUUsage_Exp/eval_phase/test_stream/Task000/Exp004 = 100.3237\n",
      "\tMaxRAMUsage_Experience/eval_phase/test_stream/Task000/Exp004 = 0\n",
      "\tTop1_Acc_Exp/eval_phase/test_stream/Task000/Exp004 = 0.1509\n",
      "-- Starting eval on experience 5 (Task 0) from test stream --\n",
      "100%|██████████| 79/79 [00:00<00:00, 140.62it/s]\n",
      "> Eval on experience 5 (Task 0) from test stream ended.\n",
      "\tCPUUsage_Exp/eval_phase/test_stream/Task000/Exp005 = 107.1791\n",
      "\tMaxRAMUsage_Experience/eval_phase/test_stream/Task000/Exp005 = 172.1562\n",
      "\tTop1_Acc_Exp/eval_phase/test_stream/Task000/Exp005 = 0.1038\n",
      "-- Starting eval on experience 6 (Task 0) from test stream --\n",
      "100%|██████████| 79/79 [00:00<00:00, 135.23it/s]\n",
      "> Eval on experience 6 (Task 0) from test stream ended.\n",
      "\tCPUUsage_Exp/eval_phase/test_stream/Task000/Exp006 = 104.4363\n",
      "\tMaxRAMUsage_Experience/eval_phase/test_stream/Task000/Exp006 = 170.8594\n",
      "\tTop1_Acc_Exp/eval_phase/test_stream/Task000/Exp006 = 0.2049\n",
      "-- Starting eval on experience 7 (Task 0) from test stream --\n",
      "100%|██████████| 79/79 [00:00<00:00, 139.14it/s]\n",
      "> Eval on experience 7 (Task 0) from test stream ended.\n",
      "\tCPUUsage_Exp/eval_phase/test_stream/Task000/Exp007 = 107.5521\n",
      "\tMaxRAMUsage_Experience/eval_phase/test_stream/Task000/Exp007 = 0\n",
      "\tTop1_Acc_Exp/eval_phase/test_stream/Task000/Exp007 = 0.1383\n",
      "-- Starting eval on experience 8 (Task 0) from test stream --\n",
      "100%|██████████| 79/79 [00:00<00:00, 131.58it/s]\n",
      "> Eval on experience 8 (Task 0) from test stream ended.\n",
      "\tCPUUsage_Exp/eval_phase/test_stream/Task000/Exp008 = 102.6369\n",
      "\tMaxRAMUsage_Experience/eval_phase/test_stream/Task000/Exp008 = 169.5781\n",
      "\tTop1_Acc_Exp/eval_phase/test_stream/Task000/Exp008 = 0.1250\n",
      "-- Starting eval on experience 9 (Task 0) from test stream --\n",
      "100%|██████████| 79/79 [00:00<00:00, 141.16it/s]\n",
      "> Eval on experience 9 (Task 0) from test stream ended.\n",
      "\tCPUUsage_Exp/eval_phase/test_stream/Task000/Exp009 = 106.4814\n",
      "\tMaxRAMUsage_Experience/eval_phase/test_stream/Task000/Exp009 = 0\n",
      "\tTop1_Acc_Exp/eval_phase/test_stream/Task000/Exp009 = 0.2173\n"
     ]
    },
    {
     "name": "stderr",
     "output_type": "stream",
     "text": [
      " 20%|██        | 2/10 [02:06<08:30, 63.76s/it]"
     ]
    },
    {
     "name": "stdout",
     "output_type": "stream",
     "text": [
      "-- >> End of eval phase << --\n",
      "\tAccuracy_On_Trained_Experiences/eval_phase/test_stream/Task000 = 0.7359\n",
      "\tCPUUsage_Stream/eval_phase/test_stream/Task000 = 105.3684\n",
      "\tMaxRAMUsage_Stream/eval_phase/test_stream/Task000 = 172.1562\n",
      "\tStreamBWT/eval_phase/test_stream = -0.0469\n",
      "\tStreamForgetting/eval_phase/test_stream = 0.0469\n",
      "\tTop1_Acc_Stream/eval_phase/test_stream/Task000 = 0.2772\n",
      "-- >> Start of training phase << --\n",
      "100%|██████████| 469/469 [00:04<00:00, 113.15it/s]\n",
      "Epoch 0 ended.\n",
      "\tRunningTime_Epoch/train_phase/train_stream/Task000 = 0.0000\n",
      "\tTime_Epoch/train_phase/train_stream/Task000 = 4.1444\n",
      "100%|██████████| 469/469 [00:04<00:00, 110.52it/s]\n",
      "Epoch 1 ended.\n",
      "\tRunningTime_Epoch/train_phase/train_stream/Task000 = 0.0000\n",
      "\tTime_Epoch/train_phase/train_stream/Task000 = 4.2424\n",
      "100%|██████████| 469/469 [00:04<00:00, 113.74it/s]\n",
      "Epoch 2 ended.\n",
      "\tRunningTime_Epoch/train_phase/train_stream/Task000 = 0.0000\n",
      "\tTime_Epoch/train_phase/train_stream/Task000 = 4.1227\n",
      "100%|██████████| 469/469 [00:04<00:00, 114.21it/s]\n",
      "Epoch 3 ended.\n",
      "\tRunningTime_Epoch/train_phase/train_stream/Task000 = 0.0000\n",
      "\tTime_Epoch/train_phase/train_stream/Task000 = 4.1059\n",
      "100%|██████████| 469/469 [00:04<00:00, 114.57it/s]\n",
      "Epoch 4 ended.\n",
      "\tRunningTime_Epoch/train_phase/train_stream/Task000 = 0.0000\n",
      "\tTime_Epoch/train_phase/train_stream/Task000 = 4.0933\n",
      "-- >> End of training phase << --\n",
      "-- >> Start of eval phase << --\n",
      "-- Starting eval on experience 0 (Task 0) from train stream --\n",
      "100%|██████████| 469/469 [00:03<00:00, 133.41it/s]\n",
      "> Eval on experience 0 (Task 0) from train stream ended.\n",
      "\tCPUUsage_Exp/eval_phase/train_stream/Task000/Exp000 = 106.3635\n",
      "\tExperienceBWT/eval_phase/train_stream/Task000/Exp000 = -0.1219\n",
      "\tExperienceForgetting/eval_phase/train_stream/Task000/Exp000 = 0.1219\n",
      "\tMaxRAMUsage_Experience/eval_phase/train_stream/Task000/Exp000 = 164.1562\n",
      "\tTop1_Acc_Exp/eval_phase/train_stream/Task000/Exp000 = 0.6350\n",
      "-- Starting eval on experience 1 (Task 0) from train stream --\n",
      "100%|██████████| 469/469 [00:03<00:00, 133.49it/s]\n",
      "> Eval on experience 1 (Task 0) from train stream ended.\n",
      "\tCPUUsage_Exp/eval_phase/train_stream/Task000/Exp001 = 106.9498\n",
      "\tExperienceBWT/eval_phase/train_stream/Task000/Exp001 = -0.0110\n",
      "\tExperienceForgetting/eval_phase/train_stream/Task000/Exp001 = 0.0110\n",
      "\tMaxRAMUsage_Experience/eval_phase/train_stream/Task000/Exp001 = 166.6250\n",
      "\tTop1_Acc_Exp/eval_phase/train_stream/Task000/Exp001 = 0.7508\n",
      "-- Starting eval on experience 2 (Task 0) from train stream --\n",
      "100%|██████████| 469/469 [00:03<00:00, 131.46it/s]\n",
      "> Eval on experience 2 (Task 0) from train stream ended.\n",
      "\tCPUUsage_Exp/eval_phase/train_stream/Task000/Exp002 = 106.5199\n",
      "\tMaxRAMUsage_Experience/eval_phase/train_stream/Task000/Exp002 = 164.7344\n",
      "\tTop1_Acc_Exp/eval_phase/train_stream/Task000/Exp002 = 0.7755\n",
      "-- Starting eval on experience 3 (Task 0) from train stream --\n",
      "100%|██████████| 469/469 [00:03<00:00, 134.26it/s]\n",
      "> Eval on experience 3 (Task 0) from train stream ended.\n",
      "\tCPUUsage_Exp/eval_phase/train_stream/Task000/Exp003 = 105.9173\n",
      "\tMaxRAMUsage_Experience/eval_phase/train_stream/Task000/Exp003 = 166.5156\n",
      "\tTop1_Acc_Exp/eval_phase/train_stream/Task000/Exp003 = 0.1353\n",
      "-- Starting eval on experience 4 (Task 0) from train stream --\n",
      "100%|██████████| 469/469 [00:03<00:00, 133.50it/s]\n",
      "> Eval on experience 4 (Task 0) from train stream ended.\n",
      "\tCPUUsage_Exp/eval_phase/train_stream/Task000/Exp004 = 105.4346\n",
      "\tMaxRAMUsage_Experience/eval_phase/train_stream/Task000/Exp004 = 168.4219\n",
      "\tTop1_Acc_Exp/eval_phase/train_stream/Task000/Exp004 = 0.1277\n",
      "-- Starting eval on experience 5 (Task 0) from train stream --\n",
      "100%|██████████| 469/469 [00:03<00:00, 135.10it/s]\n",
      "> Eval on experience 5 (Task 0) from train stream ended.\n",
      "\tCPUUsage_Exp/eval_phase/train_stream/Task000/Exp005 = 106.2866\n",
      "\tMaxRAMUsage_Experience/eval_phase/train_stream/Task000/Exp005 = 166.6406\n",
      "\tTop1_Acc_Exp/eval_phase/train_stream/Task000/Exp005 = 0.1461\n",
      "-- Starting eval on experience 6 (Task 0) from train stream --\n",
      "100%|██████████| 469/469 [00:03<00:00, 134.72it/s]\n",
      "> Eval on experience 6 (Task 0) from train stream ended.\n",
      "\tCPUUsage_Exp/eval_phase/train_stream/Task000/Exp006 = 105.5769\n",
      "\tMaxRAMUsage_Experience/eval_phase/train_stream/Task000/Exp006 = 168.8906\n",
      "\tTop1_Acc_Exp/eval_phase/train_stream/Task000/Exp006 = 0.1832\n",
      "-- Starting eval on experience 7 (Task 0) from train stream --\n",
      "100%|██████████| 469/469 [00:03<00:00, 134.58it/s]\n",
      "> Eval on experience 7 (Task 0) from train stream ended.\n",
      "\tCPUUsage_Exp/eval_phase/train_stream/Task000/Exp007 = 105.5920\n",
      "\tMaxRAMUsage_Experience/eval_phase/train_stream/Task000/Exp007 = 171.3281\n",
      "\tTop1_Acc_Exp/eval_phase/train_stream/Task000/Exp007 = 0.1546\n",
      "-- Starting eval on experience 8 (Task 0) from train stream --\n",
      "100%|██████████| 469/469 [00:03<00:00, 134.22it/s]\n",
      "> Eval on experience 8 (Task 0) from train stream ended.\n",
      "\tCPUUsage_Exp/eval_phase/train_stream/Task000/Exp008 = 105.5602\n",
      "\tMaxRAMUsage_Experience/eval_phase/train_stream/Task000/Exp008 = 173.6094\n",
      "\tTop1_Acc_Exp/eval_phase/train_stream/Task000/Exp008 = 0.1532\n",
      "-- Starting eval on experience 9 (Task 0) from train stream --\n",
      "100%|██████████| 469/469 [00:03<00:00, 133.34it/s]\n",
      "> Eval on experience 9 (Task 0) from train stream ended.\n",
      "\tCPUUsage_Exp/eval_phase/train_stream/Task000/Exp009 = 105.9079\n",
      "\tMaxRAMUsage_Experience/eval_phase/train_stream/Task000/Exp009 = 176.8125\n",
      "\tTop1_Acc_Exp/eval_phase/train_stream/Task000/Exp009 = 0.1917\n",
      "-- >> End of eval phase << --\n",
      "\tAccuracy_On_Trained_Experiences/eval_phase/train_stream/Task000 = 0.7205\n",
      "\tCPUUsage_Stream/eval_phase/train_stream/Task000 = 106.0006\n",
      "\tMaxRAMUsage_Stream/eval_phase/train_stream/Task000 = 176.8125\n",
      "\tStreamBWT/eval_phase/train_stream = -0.0665\n",
      "\tStreamForgetting/eval_phase/train_stream = 0.0665\n",
      "\tTop1_Acc_Stream/eval_phase/train_stream/Task000 = 0.3253\n",
      "-- >> Start of eval phase << --\n",
      "-- Starting eval on experience 0 (Task 0) from test stream --\n",
      "100%|██████████| 79/79 [00:00<00:00, 129.32it/s]\n",
      "> Eval on experience 0 (Task 0) from test stream ended.\n",
      "\tCPUUsage_Exp/eval_phase/test_stream/Task000/Exp000 = 108.2194\n",
      "\tExperienceBWT/eval_phase/test_stream/Task000/Exp000 = -0.1137\n",
      "\tExperienceForgetting/eval_phase/test_stream/Task000/Exp000 = 0.1137\n",
      "\tMaxRAMUsage_Experience/eval_phase/test_stream/Task000/Exp000 = 0\n",
      "\tTop1_Acc_Exp/eval_phase/test_stream/Task000/Exp000 = 0.6432\n",
      "-- Starting eval on experience 1 (Task 0) from test stream --\n",
      "100%|██████████| 79/79 [00:00<00:00, 136.43it/s]\n",
      "> Eval on experience 1 (Task 0) from test stream ended.\n",
      "\tCPUUsage_Exp/eval_phase/test_stream/Task000/Exp001 = 107.6980\n",
      "\tExperienceBWT/eval_phase/test_stream/Task000/Exp001 = -0.0077\n",
      "\tExperienceForgetting/eval_phase/test_stream/Task000/Exp001 = 0.0077\n",
      "\tMaxRAMUsage_Experience/eval_phase/test_stream/Task000/Exp001 = 176.8594\n",
      "\tTop1_Acc_Exp/eval_phase/test_stream/Task000/Exp001 = 0.7541\n",
      "-- Starting eval on experience 2 (Task 0) from test stream --\n",
      "100%|██████████| 79/79 [00:00<00:00, 129.80it/s]\n",
      "> Eval on experience 2 (Task 0) from test stream ended.\n",
      "\tCPUUsage_Exp/eval_phase/test_stream/Task000/Exp002 = 104.9840\n",
      "\tMaxRAMUsage_Experience/eval_phase/test_stream/Task000/Exp002 = 0\n",
      "\tTop1_Acc_Exp/eval_phase/test_stream/Task000/Exp002 = 0.7834\n",
      "-- Starting eval on experience 3 (Task 0) from test stream --\n",
      "100%|██████████| 79/79 [00:00<00:00, 133.00it/s]\n",
      "> Eval on experience 3 (Task 0) from test stream ended.\n",
      "\tCPUUsage_Exp/eval_phase/test_stream/Task000/Exp003 = 105.8525\n",
      "\tMaxRAMUsage_Experience/eval_phase/test_stream/Task000/Exp003 = 173.5781\n",
      "\tTop1_Acc_Exp/eval_phase/test_stream/Task000/Exp003 = 0.1336\n",
      "-- Starting eval on experience 4 (Task 0) from test stream --\n",
      "100%|██████████| 79/79 [00:00<00:00, 130.68it/s]\n",
      "> Eval on experience 4 (Task 0) from test stream ended.\n",
      "\tCPUUsage_Exp/eval_phase/test_stream/Task000/Exp004 = 103.9283\n",
      "\tMaxRAMUsage_Experience/eval_phase/test_stream/Task000/Exp004 = 166.4844\n",
      "\tTop1_Acc_Exp/eval_phase/test_stream/Task000/Exp004 = 0.1309\n",
      "-- Starting eval on experience 5 (Task 0) from test stream --\n",
      "100%|██████████| 79/79 [00:00<00:00, 137.27it/s]\n",
      "> Eval on experience 5 (Task 0) from test stream ended.\n",
      "\tCPUUsage_Exp/eval_phase/test_stream/Task000/Exp005 = 106.7228\n",
      "\tMaxRAMUsage_Experience/eval_phase/test_stream/Task000/Exp005 = 0\n",
      "\tTop1_Acc_Exp/eval_phase/test_stream/Task000/Exp005 = 0.1488\n",
      "-- Starting eval on experience 6 (Task 0) from test stream --\n",
      "100%|██████████| 79/79 [00:00<00:00, 129.30it/s]\n",
      "> Eval on experience 6 (Task 0) from test stream ended.\n",
      "\tCPUUsage_Exp/eval_phase/test_stream/Task000/Exp006 = 103.5677\n",
      "\tMaxRAMUsage_Experience/eval_phase/test_stream/Task000/Exp006 = 167.3125\n",
      "\tTop1_Acc_Exp/eval_phase/test_stream/Task000/Exp006 = 0.1796\n",
      "-- Starting eval on experience 7 (Task 0) from test stream --\n",
      "100%|██████████| 79/79 [00:00<00:00, 137.22it/s]\n",
      "> Eval on experience 7 (Task 0) from test stream ended.\n",
      "\tCPUUsage_Exp/eval_phase/test_stream/Task000/Exp007 = 106.7293\n",
      "\tMaxRAMUsage_Experience/eval_phase/test_stream/Task000/Exp007 = 0\n",
      "\tTop1_Acc_Exp/eval_phase/test_stream/Task000/Exp007 = 0.1615\n",
      "-- Starting eval on experience 8 (Task 0) from test stream --\n",
      "100%|██████████| 79/79 [00:00<00:00, 131.52it/s]\n",
      "> Eval on experience 8 (Task 0) from test stream ended.\n",
      "\tCPUUsage_Exp/eval_phase/test_stream/Task000/Exp008 = 103.8585\n",
      "\tMaxRAMUsage_Experience/eval_phase/test_stream/Task000/Exp008 = 168.2969\n",
      "\tTop1_Acc_Exp/eval_phase/test_stream/Task000/Exp008 = 0.1446\n",
      "-- Starting eval on experience 9 (Task 0) from test stream --\n",
      "100%|██████████| 79/79 [00:00<00:00, 137.80it/s]\n",
      "> Eval on experience 9 (Task 0) from test stream ended.\n",
      "\tCPUUsage_Exp/eval_phase/test_stream/Task000/Exp009 = 106.9246\n",
      "\tMaxRAMUsage_Experience/eval_phase/test_stream/Task000/Exp009 = 0\n",
      "\tTop1_Acc_Exp/eval_phase/test_stream/Task000/Exp009 = 0.1924\n",
      "-- >> End of eval phase << --\n",
      "\tAccuracy_On_Trained_Experiences/eval_phase/test_stream/Task000 = 0.7269\n",
      "\tCPUUsage_Stream/eval_phase/test_stream/Task000 = 105.8042\n",
      "\tMaxRAMUsage_Stream/eval_phase/test_stream/Task000 = 176.8594\n",
      "\tStreamBWT/eval_phase/test_stream = -0.0607\n",
      "\tStreamForgetting/eval_phase/test_stream = 0.0607\n",
      "\tTop1_Acc_Stream/eval_phase/test_stream/Task000 = 0.3272\n"
     ]
    },
    {
     "name": "stderr",
     "output_type": "stream",
     "text": [
      " 30%|███       | 3/10 [03:13<07:35, 65.04s/it]"
     ]
    },
    {
     "name": "stdout",
     "output_type": "stream",
     "text": [
      "-- >> Start of training phase << --\n",
      "100%|██████████| 469/469 [00:04<00:00, 106.88it/s]\n",
      "Epoch 0 ended.\n",
      "\tRunningTime_Epoch/train_phase/train_stream/Task000 = 0.0000\n",
      "\tTime_Epoch/train_phase/train_stream/Task000 = 4.3883\n",
      "100%|██████████| 469/469 [00:04<00:00, 108.62it/s]\n",
      "Epoch 1 ended.\n",
      "\tRunningTime_Epoch/train_phase/train_stream/Task000 = 0.0000\n",
      "\tTime_Epoch/train_phase/train_stream/Task000 = 4.3180\n",
      "100%|██████████| 469/469 [00:04<00:00, 109.25it/s]\n",
      "Epoch 2 ended.\n",
      "\tRunningTime_Epoch/train_phase/train_stream/Task000 = 0.0000\n",
      "\tTime_Epoch/train_phase/train_stream/Task000 = 4.2934\n",
      "100%|██████████| 469/469 [00:04<00:00, 109.19it/s]\n",
      "Epoch 3 ended.\n",
      "\tRunningTime_Epoch/train_phase/train_stream/Task000 = 0.0000\n",
      "\tTime_Epoch/train_phase/train_stream/Task000 = 4.2953\n",
      "100%|██████████| 469/469 [00:04<00:00, 108.45it/s]\n",
      "Epoch 4 ended.\n",
      "\tRunningTime_Epoch/train_phase/train_stream/Task000 = 0.0000\n",
      "\tTime_Epoch/train_phase/train_stream/Task000 = 4.3248\n",
      "-- >> End of training phase << --\n",
      "-- >> Start of eval phase << --\n",
      "-- Starting eval on experience 0 (Task 0) from train stream --\n",
      "100%|██████████| 469/469 [00:03<00:00, 136.34it/s]\n",
      "> Eval on experience 0 (Task 0) from train stream ended.\n",
      "\tCPUUsage_Exp/eval_phase/train_stream/Task000/Exp000 = 106.9952\n",
      "\tExperienceBWT/eval_phase/train_stream/Task000/Exp000 = -0.1606\n",
      "\tExperienceForgetting/eval_phase/train_stream/Task000/Exp000 = 0.1606\n",
      "\tMaxRAMUsage_Experience/eval_phase/train_stream/Task000/Exp000 = 179.7344\n",
      "\tTop1_Acc_Exp/eval_phase/train_stream/Task000/Exp000 = 0.5963\n",
      "-- Starting eval on experience 1 (Task 0) from train stream --\n",
      "100%|██████████| 469/469 [00:03<00:00, 135.16it/s]\n",
      "> Eval on experience 1 (Task 0) from train stream ended.\n",
      "\tCPUUsage_Exp/eval_phase/train_stream/Task000/Exp001 = 106.8390\n",
      "\tExperienceBWT/eval_phase/train_stream/Task000/Exp001 = -0.0174\n",
      "\tExperienceForgetting/eval_phase/train_stream/Task000/Exp001 = 0.0174\n",
      "\tMaxRAMUsage_Experience/eval_phase/train_stream/Task000/Exp001 = 179.0312\n",
      "\tTop1_Acc_Exp/eval_phase/train_stream/Task000/Exp001 = 0.7444\n",
      "-- Starting eval on experience 2 (Task 0) from train stream --\n",
      "100%|██████████| 469/469 [00:03<00:00, 130.15it/s]\n",
      "> Eval on experience 2 (Task 0) from train stream ended.\n",
      "\tCPUUsage_Exp/eval_phase/train_stream/Task000/Exp002 = 104.0335\n",
      "\tExperienceBWT/eval_phase/train_stream/Task000/Exp002 = -0.0114\n",
      "\tExperienceForgetting/eval_phase/train_stream/Task000/Exp002 = 0.0114\n",
      "\tMaxRAMUsage_Experience/eval_phase/train_stream/Task000/Exp002 = 181.3125\n",
      "\tTop1_Acc_Exp/eval_phase/train_stream/Task000/Exp002 = 0.7720\n",
      "-- Starting eval on experience 3 (Task 0) from train stream --\n",
      "100%|██████████| 469/469 [00:03<00:00, 133.76it/s]\n",
      "> Eval on experience 3 (Task 0) from train stream ended.\n",
      "\tCPUUsage_Exp/eval_phase/train_stream/Task000/Exp003 = 106.3238\n",
      "\tMaxRAMUsage_Experience/eval_phase/train_stream/Task000/Exp003 = 161.6719\n",
      "\tTop1_Acc_Exp/eval_phase/train_stream/Task000/Exp003 = 0.7922\n",
      "-- Starting eval on experience 4 (Task 0) from train stream --\n",
      "100%|██████████| 469/469 [00:03<00:00, 136.39it/s]\n",
      "> Eval on experience 4 (Task 0) from train stream ended.\n",
      "\tCPUUsage_Exp/eval_phase/train_stream/Task000/Exp004 = 106.0089\n",
      "\tMaxRAMUsage_Experience/eval_phase/train_stream/Task000/Exp004 = 163.6875\n",
      "\tTop1_Acc_Exp/eval_phase/train_stream/Task000/Exp004 = 0.1200\n",
      "-- Starting eval on experience 5 (Task 0) from train stream --\n",
      "100%|██████████| 469/469 [00:03<00:00, 134.95it/s]\n",
      "> Eval on experience 5 (Task 0) from train stream ended.\n",
      "\tCPUUsage_Exp/eval_phase/train_stream/Task000/Exp005 = 105.1313\n",
      "\tMaxRAMUsage_Experience/eval_phase/train_stream/Task000/Exp005 = 159.4062\n",
      "\tTop1_Acc_Exp/eval_phase/train_stream/Task000/Exp005 = 0.0977\n",
      "-- Starting eval on experience 6 (Task 0) from train stream --\n",
      "100%|██████████| 469/469 [00:03<00:00, 134.75it/s]\n",
      "> Eval on experience 6 (Task 0) from train stream ended.\n",
      "\tCPUUsage_Exp/eval_phase/train_stream/Task000/Exp006 = 105.2529\n",
      "\tMaxRAMUsage_Experience/eval_phase/train_stream/Task000/Exp006 = 161.8281\n",
      "\tTop1_Acc_Exp/eval_phase/train_stream/Task000/Exp006 = 0.1958\n",
      "-- Starting eval on experience 7 (Task 0) from train stream --\n",
      "100%|██████████| 469/469 [00:03<00:00, 134.84it/s]\n",
      "> Eval on experience 7 (Task 0) from train stream ended.\n",
      "\tCPUUsage_Exp/eval_phase/train_stream/Task000/Exp007 = 105.6213\n",
      "\tMaxRAMUsage_Experience/eval_phase/train_stream/Task000/Exp007 = 163.9844\n",
      "\tTop1_Acc_Exp/eval_phase/train_stream/Task000/Exp007 = 0.1866\n",
      "-- Starting eval on experience 8 (Task 0) from train stream --\n",
      "100%|██████████| 469/469 [00:03<00:00, 133.98it/s]\n",
      "> Eval on experience 8 (Task 0) from train stream ended.\n",
      "\tCPUUsage_Exp/eval_phase/train_stream/Task000/Exp008 = 105.2311\n",
      "\tMaxRAMUsage_Experience/eval_phase/train_stream/Task000/Exp008 = 164.0938\n",
      "\tTop1_Acc_Exp/eval_phase/train_stream/Task000/Exp008 = 0.1355\n",
      "-- Starting eval on experience 9 (Task 0) from train stream --\n",
      "100%|██████████| 469/469 [00:03<00:00, 134.43it/s]\n",
      "> Eval on experience 9 (Task 0) from train stream ended.\n",
      "\tCPUUsage_Exp/eval_phase/train_stream/Task000/Exp009 = 105.8548\n",
      "\tMaxRAMUsage_Experience/eval_phase/train_stream/Task000/Exp009 = 166.1094\n",
      "\tTop1_Acc_Exp/eval_phase/train_stream/Task000/Exp009 = 0.1441\n",
      "-- >> End of eval phase << --\n",
      "\tAccuracy_On_Trained_Experiences/eval_phase/train_stream/Task000 = 0.7262\n",
      "\tCPUUsage_Stream/eval_phase/train_stream/Task000 = 105.7114\n",
      "\tMaxRAMUsage_Stream/eval_phase/train_stream/Task000 = 181.3125\n",
      "\tStreamBWT/eval_phase/train_stream = -0.0631\n",
      "\tStreamForgetting/eval_phase/train_stream = 0.0631\n",
      "\tTop1_Acc_Stream/eval_phase/train_stream/Task000 = 0.3784\n",
      "-- >> Start of eval phase << --\n",
      "-- Starting eval on experience 0 (Task 0) from test stream --\n",
      "100%|██████████| 79/79 [00:00<00:00, 125.55it/s]\n",
      "> Eval on experience 0 (Task 0) from test stream ended.\n",
      "\tCPUUsage_Exp/eval_phase/test_stream/Task000/Exp000 = 105.7872\n",
      "\tExperienceBWT/eval_phase/test_stream/Task000/Exp000 = -0.1535\n",
      "\tExperienceForgetting/eval_phase/test_stream/Task000/Exp000 = 0.1535\n",
      "\tMaxRAMUsage_Experience/eval_phase/test_stream/Task000/Exp000 = 0\n",
      "\tTop1_Acc_Exp/eval_phase/test_stream/Task000/Exp000 = 0.6034\n",
      "-- Starting eval on experience 1 (Task 0) from test stream --\n",
      "100%|██████████| 79/79 [00:00<00:00, 137.42it/s]\n",
      "> Eval on experience 1 (Task 0) from test stream ended.\n",
      "\tCPUUsage_Exp/eval_phase/test_stream/Task000/Exp001 = 107.5165\n",
      "\tExperienceBWT/eval_phase/test_stream/Task000/Exp001 = -0.0097\n",
      "\tExperienceForgetting/eval_phase/test_stream/Task000/Exp001 = 0.0097\n",
      "\tMaxRAMUsage_Experience/eval_phase/test_stream/Task000/Exp001 = 172.4219\n",
      "\tTop1_Acc_Exp/eval_phase/test_stream/Task000/Exp001 = 0.7521\n",
      "-- Starting eval on experience 2 (Task 0) from test stream --\n",
      "100%|██████████| 79/79 [00:00<00:00, 129.40it/s]\n",
      "> Eval on experience 2 (Task 0) from test stream ended.\n",
      "\tCPUUsage_Exp/eval_phase/test_stream/Task000/Exp002 = 103.1110\n",
      "\tExperienceBWT/eval_phase/test_stream/Task000/Exp002 = -0.0046\n",
      "\tExperienceForgetting/eval_phase/test_stream/Task000/Exp002 = 0.0046\n",
      "\tMaxRAMUsage_Experience/eval_phase/test_stream/Task000/Exp002 = 0\n",
      "\tTop1_Acc_Exp/eval_phase/test_stream/Task000/Exp002 = 0.7788\n",
      "-- Starting eval on experience 3 (Task 0) from test stream --\n",
      "100%|██████████| 79/79 [00:00<00:00, 137.17it/s]\n",
      "> Eval on experience 3 (Task 0) from test stream ended.\n",
      "\tCPUUsage_Exp/eval_phase/test_stream/Task000/Exp003 = 108.0098\n",
      "\tMaxRAMUsage_Experience/eval_phase/test_stream/Task000/Exp003 = 165.3438\n",
      "\tTop1_Acc_Exp/eval_phase/test_stream/Task000/Exp003 = 0.7984\n",
      "-- Starting eval on experience 4 (Task 0) from test stream --\n",
      "100%|██████████| 79/79 [00:00<00:00, 138.96it/s]\n",
      "> Eval on experience 4 (Task 0) from test stream ended.\n",
      "\tCPUUsage_Exp/eval_phase/test_stream/Task000/Exp004 = 106.5612\n",
      "\tMaxRAMUsage_Experience/eval_phase/test_stream/Task000/Exp004 = 0\n",
      "\tTop1_Acc_Exp/eval_phase/test_stream/Task000/Exp004 = 0.1172\n",
      "-- Starting eval on experience 5 (Task 0) from test stream --\n",
      "100%|██████████| 79/79 [00:00<00:00, 130.00it/s]\n",
      "> Eval on experience 5 (Task 0) from test stream ended.\n",
      "\tCPUUsage_Exp/eval_phase/test_stream/Task000/Exp005 = 101.9981\n",
      "\tMaxRAMUsage_Experience/eval_phase/test_stream/Task000/Exp005 = 164.7031\n",
      "\tTop1_Acc_Exp/eval_phase/test_stream/Task000/Exp005 = 0.0970\n",
      "-- Starting eval on experience 6 (Task 0) from test stream --\n",
      "100%|██████████| 79/79 [00:00<00:00, 138.13it/s]\n",
      "> Eval on experience 6 (Task 0) from test stream ended.\n",
      "\tCPUUsage_Exp/eval_phase/test_stream/Task000/Exp006 = 106.6173\n",
      "\tMaxRAMUsage_Experience/eval_phase/test_stream/Task000/Exp006 = 166.6875\n",
      "\tTop1_Acc_Exp/eval_phase/test_stream/Task000/Exp006 = 0.1921\n",
      "-- Starting eval on experience 7 (Task 0) from test stream --\n",
      "100%|██████████| 79/79 [00:00<00:00, 132.98it/s]\n",
      "> Eval on experience 7 (Task 0) from test stream ended.\n",
      "\tCPUUsage_Exp/eval_phase/test_stream/Task000/Exp007 = 103.8931\n",
      "\tMaxRAMUsage_Experience/eval_phase/test_stream/Task000/Exp007 = 0\n",
      "\tTop1_Acc_Exp/eval_phase/test_stream/Task000/Exp007 = 0.1938\n",
      "-- Starting eval on experience 8 (Task 0) from test stream --\n",
      "100%|██████████| 79/79 [00:00<00:00, 138.27it/s]\n",
      "> Eval on experience 8 (Task 0) from test stream ended.\n",
      "\tCPUUsage_Exp/eval_phase/test_stream/Task000/Exp008 = 106.5666\n",
      "\tMaxRAMUsage_Experience/eval_phase/test_stream/Task000/Exp008 = 167.5312\n",
      "\tTop1_Acc_Exp/eval_phase/test_stream/Task000/Exp008 = 0.1298\n",
      "-- Starting eval on experience 9 (Task 0) from test stream --\n",
      "100%|██████████| 79/79 [00:00<00:00, 131.40it/s]\n",
      "> Eval on experience 9 (Task 0) from test stream ended.\n",
      "\tCPUUsage_Exp/eval_phase/test_stream/Task000/Exp009 = 103.7136\n",
      "\tMaxRAMUsage_Experience/eval_phase/test_stream/Task000/Exp009 = 0\n",
      "\tTop1_Acc_Exp/eval_phase/test_stream/Task000/Exp009 = 0.1457\n"
     ]
    },
    {
     "name": "stderr",
     "output_type": "stream",
     "text": [
      " 40%|████      | 4/10 [04:19<06:33, 65.60s/it]"
     ]
    },
    {
     "name": "stdout",
     "output_type": "stream",
     "text": [
      "-- >> End of eval phase << --\n",
      "\tAccuracy_On_Trained_Experiences/eval_phase/test_stream/Task000 = 0.7332\n",
      "\tCPUUsage_Stream/eval_phase/test_stream/Task000 = 105.3109\n",
      "\tMaxRAMUsage_Stream/eval_phase/test_stream/Task000 = 172.4219\n",
      "\tStreamBWT/eval_phase/test_stream = -0.0559\n",
      "\tStreamForgetting/eval_phase/test_stream = 0.0559\n",
      "\tTop1_Acc_Stream/eval_phase/test_stream/Task000 = 0.3808\n",
      "-- >> Start of training phase << --\n",
      "100%|██████████| 469/469 [00:04<00:00, 104.99it/s]\n",
      "Epoch 0 ended.\n",
      "\tRunningTime_Epoch/train_phase/train_stream/Task000 = 0.0000\n",
      "\tTime_Epoch/train_phase/train_stream/Task000 = 4.4675\n",
      "100%|██████████| 469/469 [00:04<00:00, 104.29it/s]\n",
      "Epoch 1 ended.\n",
      "\tRunningTime_Epoch/train_phase/train_stream/Task000 = 0.0000\n",
      "\tTime_Epoch/train_phase/train_stream/Task000 = 4.4972\n",
      "100%|██████████| 469/469 [00:04<00:00, 104.75it/s]\n",
      "Epoch 2 ended.\n",
      "\tRunningTime_Epoch/train_phase/train_stream/Task000 = 0.0000\n",
      "\tTime_Epoch/train_phase/train_stream/Task000 = 4.4775\n",
      "100%|██████████| 469/469 [00:04<00:00, 101.16it/s]\n",
      "Epoch 3 ended.\n",
      "\tRunningTime_Epoch/train_phase/train_stream/Task000 = 0.0000\n",
      "\tTime_Epoch/train_phase/train_stream/Task000 = 4.6363\n",
      "100%|██████████| 469/469 [00:04<00:00, 104.62it/s]\n",
      "Epoch 4 ended.\n",
      "\tRunningTime_Epoch/train_phase/train_stream/Task000 = 0.0000\n",
      "\tTime_Epoch/train_phase/train_stream/Task000 = 4.4829\n",
      "-- >> End of training phase << --\n",
      "-- >> Start of eval phase << --\n",
      "-- Starting eval on experience 0 (Task 0) from train stream --\n",
      "100%|██████████| 469/469 [00:03<00:00, 136.25it/s]\n",
      "> Eval on experience 0 (Task 0) from train stream ended.\n",
      "\tCPUUsage_Exp/eval_phase/train_stream/Task000/Exp000 = 106.5649\n",
      "\tExperienceBWT/eval_phase/train_stream/Task000/Exp000 = -0.1427\n",
      "\tExperienceForgetting/eval_phase/train_stream/Task000/Exp000 = 0.1427\n",
      "\tMaxRAMUsage_Experience/eval_phase/train_stream/Task000/Exp000 = 189.4688\n",
      "\tTop1_Acc_Exp/eval_phase/train_stream/Task000/Exp000 = 0.6142\n",
      "-- Starting eval on experience 1 (Task 0) from train stream --\n",
      "100%|██████████| 469/469 [00:03<00:00, 137.54it/s]\n",
      "> Eval on experience 1 (Task 0) from train stream ended.\n",
      "\tCPUUsage_Exp/eval_phase/train_stream/Task000/Exp001 = 106.7956\n",
      "\tExperienceBWT/eval_phase/train_stream/Task000/Exp001 = -0.0243\n",
      "\tExperienceForgetting/eval_phase/train_stream/Task000/Exp001 = 0.0243\n",
      "\tMaxRAMUsage_Experience/eval_phase/train_stream/Task000/Exp001 = 189.4844\n",
      "\tTop1_Acc_Exp/eval_phase/train_stream/Task000/Exp001 = 0.7375\n",
      "-- Starting eval on experience 2 (Task 0) from train stream --\n",
      "100%|██████████| 469/469 [00:03<00:00, 133.92it/s]\n",
      "> Eval on experience 2 (Task 0) from train stream ended.\n",
      "\tCPUUsage_Exp/eval_phase/train_stream/Task000/Exp002 = 105.6531\n",
      "\tExperienceBWT/eval_phase/train_stream/Task000/Exp002 = -0.0146\n",
      "\tExperienceForgetting/eval_phase/train_stream/Task000/Exp002 = 0.0146\n",
      "\tMaxRAMUsage_Experience/eval_phase/train_stream/Task000/Exp002 = 189.0781\n",
      "\tTop1_Acc_Exp/eval_phase/train_stream/Task000/Exp002 = 0.7688\n",
      "-- Starting eval on experience 3 (Task 0) from train stream --\n",
      "100%|██████████| 469/469 [00:03<00:00, 136.60it/s]\n",
      "> Eval on experience 3 (Task 0) from train stream ended.\n",
      "\tCPUUsage_Exp/eval_phase/train_stream/Task000/Exp003 = 106.6470\n",
      "\tExperienceBWT/eval_phase/train_stream/Task000/Exp003 = -0.0226\n",
      "\tExperienceForgetting/eval_phase/train_stream/Task000/Exp003 = 0.0226\n",
      "\tMaxRAMUsage_Experience/eval_phase/train_stream/Task000/Exp003 = 177.7344\n",
      "\tTop1_Acc_Exp/eval_phase/train_stream/Task000/Exp003 = 0.7758\n",
      "-- Starting eval on experience 4 (Task 0) from train stream --\n",
      "100%|██████████| 469/469 [00:03<00:00, 137.75it/s]\n",
      "> Eval on experience 4 (Task 0) from train stream ended.\n",
      "\tCPUUsage_Exp/eval_phase/train_stream/Task000/Exp004 = 106.9840\n",
      "\tMaxRAMUsage_Experience/eval_phase/train_stream/Task000/Exp004 = 177.8438\n",
      "\tTop1_Acc_Exp/eval_phase/train_stream/Task000/Exp004 = 0.8012\n",
      "-- Starting eval on experience 5 (Task 0) from train stream --\n",
      "100%|██████████| 469/469 [00:03<00:00, 136.90it/s]\n",
      "> Eval on experience 5 (Task 0) from train stream ended.\n",
      "\tCPUUsage_Exp/eval_phase/train_stream/Task000/Exp005 = 105.8388\n",
      "\tMaxRAMUsage_Experience/eval_phase/train_stream/Task000/Exp005 = 177.8594\n",
      "\tTop1_Acc_Exp/eval_phase/train_stream/Task000/Exp005 = 0.1153\n",
      "-- Starting eval on experience 6 (Task 0) from train stream --\n",
      "100%|██████████| 469/469 [00:03<00:00, 137.88it/s]\n",
      "> Eval on experience 6 (Task 0) from train stream ended.\n",
      "\tCPUUsage_Exp/eval_phase/train_stream/Task000/Exp006 = 105.7976\n",
      "\tMaxRAMUsage_Experience/eval_phase/train_stream/Task000/Exp006 = 177.8750\n",
      "\tTop1_Acc_Exp/eval_phase/train_stream/Task000/Exp006 = 0.1524\n",
      "-- Starting eval on experience 7 (Task 0) from train stream --\n",
      "100%|██████████| 469/469 [00:03<00:00, 138.16it/s]\n",
      "> Eval on experience 7 (Task 0) from train stream ended.\n",
      "\tCPUUsage_Exp/eval_phase/train_stream/Task000/Exp007 = 105.7008\n",
      "\tMaxRAMUsage_Experience/eval_phase/train_stream/Task000/Exp007 = 178.6719\n",
      "\tTop1_Acc_Exp/eval_phase/train_stream/Task000/Exp007 = 0.1688\n",
      "-- Starting eval on experience 8 (Task 0) from train stream --\n",
      "100%|██████████| 469/469 [00:03<00:00, 136.77it/s]\n",
      "> Eval on experience 8 (Task 0) from train stream ended.\n",
      "\tCPUUsage_Exp/eval_phase/train_stream/Task000/Exp008 = 105.4864\n",
      "\tMaxRAMUsage_Experience/eval_phase/train_stream/Task000/Exp008 = 179.0938\n",
      "\tTop1_Acc_Exp/eval_phase/train_stream/Task000/Exp008 = 0.1691\n",
      "-- Starting eval on experience 9 (Task 0) from train stream --\n",
      "100%|██████████| 469/469 [00:03<00:00, 137.59it/s]\n",
      "> Eval on experience 9 (Task 0) from train stream ended.\n",
      "\tCPUUsage_Exp/eval_phase/train_stream/Task000/Exp009 = 105.9278\n",
      "\tMaxRAMUsage_Experience/eval_phase/train_stream/Task000/Exp009 = 179.0156\n",
      "\tTop1_Acc_Exp/eval_phase/train_stream/Task000/Exp009 = 0.1489\n",
      "-- >> End of eval phase << --\n",
      "\tAccuracy_On_Trained_Experiences/eval_phase/train_stream/Task000 = 0.7395\n",
      "\tCPUUsage_Stream/eval_phase/train_stream/Task000 = 106.1267\n",
      "\tMaxRAMUsage_Stream/eval_phase/train_stream/Task000 = 189.4844\n",
      "\tStreamBWT/eval_phase/train_stream = -0.0511\n",
      "\tStreamForgetting/eval_phase/train_stream = 0.0511\n",
      "\tTop1_Acc_Stream/eval_phase/train_stream/Task000 = 0.4452\n",
      "-- >> Start of eval phase << --\n",
      "-- Starting eval on experience 0 (Task 0) from test stream --\n",
      "100%|██████████| 79/79 [00:00<00:00, 133.26it/s]\n",
      "> Eval on experience 0 (Task 0) from test stream ended.\n",
      "\tCPUUsage_Exp/eval_phase/test_stream/Task000/Exp000 = 107.8416\n",
      "\tExperienceBWT/eval_phase/test_stream/Task000/Exp000 = -0.1421\n",
      "\tExperienceForgetting/eval_phase/test_stream/Task000/Exp000 = 0.1421\n",
      "\tMaxRAMUsage_Experience/eval_phase/test_stream/Task000/Exp000 = 0\n",
      "\tTop1_Acc_Exp/eval_phase/test_stream/Task000/Exp000 = 0.6148\n",
      "-- Starting eval on experience 1 (Task 0) from test stream --\n",
      "100%|██████████| 79/79 [00:00<00:00, 136.65it/s]\n",
      "> Eval on experience 1 (Task 0) from test stream ended.\n",
      "\tCPUUsage_Exp/eval_phase/test_stream/Task000/Exp001 = 106.7217\n",
      "\tExperienceBWT/eval_phase/test_stream/Task000/Exp001 = -0.0155\n",
      "\tExperienceForgetting/eval_phase/test_stream/Task000/Exp001 = 0.0155\n",
      "\tMaxRAMUsage_Experience/eval_phase/test_stream/Task000/Exp001 = 179.0781\n",
      "\tTop1_Acc_Exp/eval_phase/test_stream/Task000/Exp001 = 0.7463\n",
      "-- Starting eval on experience 2 (Task 0) from test stream --\n",
      "100%|██████████| 79/79 [00:00<00:00, 133.29it/s]\n",
      "> Eval on experience 2 (Task 0) from test stream ended.\n",
      "\tCPUUsage_Exp/eval_phase/test_stream/Task000/Exp002 = 105.1453\n",
      "\tExperienceBWT/eval_phase/test_stream/Task000/Exp002 = -0.0092\n",
      "\tExperienceForgetting/eval_phase/test_stream/Task000/Exp002 = 0.0092\n",
      "\tMaxRAMUsage_Experience/eval_phase/test_stream/Task000/Exp002 = 0\n",
      "\tTop1_Acc_Exp/eval_phase/test_stream/Task000/Exp002 = 0.7742\n",
      "-- Starting eval on experience 3 (Task 0) from test stream --\n",
      "100%|██████████| 79/79 [00:00<00:00, 139.12it/s]\n",
      "> Eval on experience 3 (Task 0) from test stream ended.\n",
      "\tCPUUsage_Exp/eval_phase/test_stream/Task000/Exp003 = 107.2624\n",
      "\tExperienceBWT/eval_phase/test_stream/Task000/Exp003 = -0.0162\n",
      "\tExperienceForgetting/eval_phase/test_stream/Task000/Exp003 = 0.0162\n",
      "\tMaxRAMUsage_Experience/eval_phase/test_stream/Task000/Exp003 = 179.0312\n",
      "\tTop1_Acc_Exp/eval_phase/test_stream/Task000/Exp003 = 0.7822\n",
      "-- Starting eval on experience 4 (Task 0) from test stream --\n",
      "100%|██████████| 79/79 [00:00<00:00, 132.93it/s]\n",
      "> Eval on experience 4 (Task 0) from test stream ended.\n",
      "\tCPUUsage_Exp/eval_phase/test_stream/Task000/Exp004 = 104.7093\n",
      "\tMaxRAMUsage_Experience/eval_phase/test_stream/Task000/Exp004 = 0\n",
      "\tTop1_Acc_Exp/eval_phase/test_stream/Task000/Exp004 = 0.8075\n",
      "-- Starting eval on experience 5 (Task 0) from test stream --\n",
      "100%|██████████| 79/79 [00:00<00:00, 137.72it/s]\n",
      "> Eval on experience 5 (Task 0) from test stream ended.\n",
      "\tCPUUsage_Exp/eval_phase/test_stream/Task000/Exp005 = 105.8356\n",
      "\tMaxRAMUsage_Experience/eval_phase/test_stream/Task000/Exp005 = 179.5000\n",
      "\tTop1_Acc_Exp/eval_phase/test_stream/Task000/Exp005 = 0.1124\n",
      "-- Starting eval on experience 6 (Task 0) from test stream --\n",
      "100%|██████████| 79/79 [00:00<00:00, 134.66it/s]\n",
      "> Eval on experience 6 (Task 0) from test stream ended.\n",
      "\tCPUUsage_Exp/eval_phase/test_stream/Task000/Exp006 = 105.0485\n",
      "\tMaxRAMUsage_Experience/eval_phase/test_stream/Task000/Exp006 = 179.6406\n",
      "\tTop1_Acc_Exp/eval_phase/test_stream/Task000/Exp006 = 0.1571\n",
      "-- Starting eval on experience 7 (Task 0) from test stream --\n",
      "100%|██████████| 79/79 [00:00<00:00, 141.59it/s]\n",
      "> Eval on experience 7 (Task 0) from test stream ended.\n",
      "\tCPUUsage_Exp/eval_phase/test_stream/Task000/Exp007 = 107.0257\n",
      "\tMaxRAMUsage_Experience/eval_phase/test_stream/Task000/Exp007 = 0\n",
      "\tTop1_Acc_Exp/eval_phase/test_stream/Task000/Exp007 = 0.1699\n",
      "-- Starting eval on experience 8 (Task 0) from test stream --\n",
      "100%|██████████| 79/79 [00:00<00:00, 132.42it/s]\n",
      "> Eval on experience 8 (Task 0) from test stream ended.\n",
      "\tCPUUsage_Exp/eval_phase/test_stream/Task000/Exp008 = 103.8459\n",
      "\tMaxRAMUsage_Experience/eval_phase/test_stream/Task000/Exp008 = 179.6406\n",
      "\tTop1_Acc_Exp/eval_phase/test_stream/Task000/Exp008 = 0.1631\n",
      "-- Starting eval on experience 9 (Task 0) from test stream --\n",
      "100%|██████████| 79/79 [00:00<00:00, 140.74it/s]\n",
      "> Eval on experience 9 (Task 0) from test stream ended.\n",
      "\tCPUUsage_Exp/eval_phase/test_stream/Task000/Exp009 = 106.8484\n",
      "\tMaxRAMUsage_Experience/eval_phase/test_stream/Task000/Exp009 = 0\n",
      "\tTop1_Acc_Exp/eval_phase/test_stream/Task000/Exp009 = 0.1507\n"
     ]
    },
    {
     "name": "stderr",
     "output_type": "stream",
     "text": [
      " 50%|█████     | 5/10 [05:26<05:29, 65.91s/it]"
     ]
    },
    {
     "name": "stdout",
     "output_type": "stream",
     "text": [
      "-- >> End of eval phase << --\n",
      "\tAccuracy_On_Trained_Experiences/eval_phase/test_stream/Task000 = 0.7450\n",
      "\tCPUUsage_Stream/eval_phase/test_stream/Task000 = 105.9853\n",
      "\tMaxRAMUsage_Stream/eval_phase/test_stream/Task000 = 179.6406\n",
      "\tStreamBWT/eval_phase/test_stream = -0.0458\n",
      "\tStreamForgetting/eval_phase/test_stream = 0.0458\n",
      "\tTop1_Acc_Stream/eval_phase/test_stream/Task000 = 0.4478\n",
      "-- >> Start of training phase << --\n",
      "100%|██████████| 469/469 [00:04<00:00, 98.67it/s] \n",
      "Epoch 0 ended.\n",
      "\tRunningTime_Epoch/train_phase/train_stream/Task000 = 0.0000\n",
      "\tTime_Epoch/train_phase/train_stream/Task000 = 4.7538\n",
      "100%|██████████| 469/469 [00:05<00:00, 92.37it/s] \n",
      "Epoch 1 ended.\n",
      "\tRunningTime_Epoch/train_phase/train_stream/Task000 = 0.0000\n",
      "\tTime_Epoch/train_phase/train_stream/Task000 = 5.0776\n",
      "100%|██████████| 469/469 [00:04<00:00, 97.32it/s]\n",
      "Epoch 2 ended.\n",
      "\tRunningTime_Epoch/train_phase/train_stream/Task000 = 0.0000\n",
      "\tTime_Epoch/train_phase/train_stream/Task000 = 4.8192\n",
      "100%|██████████| 469/469 [00:04<00:00, 97.03it/s]\n",
      "Epoch 3 ended.\n",
      "\tRunningTime_Epoch/train_phase/train_stream/Task000 = 0.0000\n",
      "\tTime_Epoch/train_phase/train_stream/Task000 = 4.8336\n",
      "100%|██████████| 469/469 [00:04<00:00, 95.28it/s]\n",
      "Epoch 4 ended.\n",
      "\tRunningTime_Epoch/train_phase/train_stream/Task000 = 0.0000\n",
      "\tTime_Epoch/train_phase/train_stream/Task000 = 4.9223\n",
      "-- >> End of training phase << --\n",
      "-- >> Start of eval phase << --\n",
      "-- Starting eval on experience 0 (Task 0) from train stream --\n",
      "100%|██████████| 469/469 [00:03<00:00, 133.86it/s]\n",
      "> Eval on experience 0 (Task 0) from train stream ended.\n",
      "\tCPUUsage_Exp/eval_phase/train_stream/Task000/Exp000 = 106.8210\n",
      "\tExperienceBWT/eval_phase/train_stream/Task000/Exp000 = -0.1884\n",
      "\tExperienceForgetting/eval_phase/train_stream/Task000/Exp000 = 0.1884\n",
      "\tMaxRAMUsage_Experience/eval_phase/train_stream/Task000/Exp000 = 155.5469\n",
      "\tTop1_Acc_Exp/eval_phase/train_stream/Task000/Exp000 = 0.5685\n",
      "-- Starting eval on experience 1 (Task 0) from train stream --\n",
      "100%|██████████| 469/469 [00:03<00:00, 133.05it/s]\n",
      "> Eval on experience 1 (Task 0) from train stream ended.\n",
      "\tCPUUsage_Exp/eval_phase/train_stream/Task000/Exp001 = 106.5288\n",
      "\tExperienceBWT/eval_phase/train_stream/Task000/Exp001 = -0.0564\n",
      "\tExperienceForgetting/eval_phase/train_stream/Task000/Exp001 = 0.0564\n",
      "\tMaxRAMUsage_Experience/eval_phase/train_stream/Task000/Exp001 = 157.2969\n",
      "\tTop1_Acc_Exp/eval_phase/train_stream/Task000/Exp001 = 0.7055\n",
      "-- Starting eval on experience 2 (Task 0) from train stream --\n",
      "100%|██████████| 469/469 [00:03<00:00, 133.19it/s]\n",
      "> Eval on experience 2 (Task 0) from train stream ended.\n",
      "\tCPUUsage_Exp/eval_phase/train_stream/Task000/Exp002 = 106.9192\n",
      "\tExperienceBWT/eval_phase/train_stream/Task000/Exp002 = -0.0235\n",
      "\tExperienceForgetting/eval_phase/train_stream/Task000/Exp002 = 0.0235\n",
      "\tMaxRAMUsage_Experience/eval_phase/train_stream/Task000/Exp002 = 157.1406\n",
      "\tTop1_Acc_Exp/eval_phase/train_stream/Task000/Exp002 = 0.7599\n",
      "-- Starting eval on experience 3 (Task 0) from train stream --\n",
      "100%|██████████| 469/469 [00:03<00:00, 133.08it/s]\n",
      "> Eval on experience 3 (Task 0) from train stream ended.\n",
      "\tCPUUsage_Exp/eval_phase/train_stream/Task000/Exp003 = 106.4834\n",
      "\tExperienceBWT/eval_phase/train_stream/Task000/Exp003 = -0.0369\n",
      "\tExperienceForgetting/eval_phase/train_stream/Task000/Exp003 = 0.0369\n",
      "\tMaxRAMUsage_Experience/eval_phase/train_stream/Task000/Exp003 = 156.0000\n",
      "\tTop1_Acc_Exp/eval_phase/train_stream/Task000/Exp003 = 0.7615\n",
      "-- Starting eval on experience 4 (Task 0) from train stream --\n",
      "100%|██████████| 469/469 [00:03<00:00, 133.21it/s]\n",
      "> Eval on experience 4 (Task 0) from train stream ended.\n",
      "\tCPUUsage_Exp/eval_phase/train_stream/Task000/Exp004 = 106.2643\n",
      "\tExperienceBWT/eval_phase/train_stream/Task000/Exp004 = -0.0167\n",
      "\tExperienceForgetting/eval_phase/train_stream/Task000/Exp004 = 0.0167\n",
      "\tMaxRAMUsage_Experience/eval_phase/train_stream/Task000/Exp004 = 156.3750\n",
      "\tTop1_Acc_Exp/eval_phase/train_stream/Task000/Exp004 = 0.7908\n",
      "-- Starting eval on experience 5 (Task 0) from train stream --\n",
      "100%|██████████| 469/469 [00:03<00:00, 133.17it/s]\n",
      "> Eval on experience 5 (Task 0) from train stream ended.\n",
      "\tCPUUsage_Exp/eval_phase/train_stream/Task000/Exp005 = 106.0319\n",
      "\tMaxRAMUsage_Experience/eval_phase/train_stream/Task000/Exp005 = 156.5156\n",
      "\tTop1_Acc_Exp/eval_phase/train_stream/Task000/Exp005 = 0.7973\n",
      "-- Starting eval on experience 6 (Task 0) from train stream --\n",
      "100%|██████████| 469/469 [00:03<00:00, 133.82it/s]\n",
      "> Eval on experience 6 (Task 0) from train stream ended.\n",
      "\tCPUUsage_Exp/eval_phase/train_stream/Task000/Exp006 = 105.2569\n",
      "\tMaxRAMUsage_Experience/eval_phase/train_stream/Task000/Exp006 = 158.4531\n",
      "\tTop1_Acc_Exp/eval_phase/train_stream/Task000/Exp006 = 0.1924\n",
      "-- Starting eval on experience 7 (Task 0) from train stream --\n",
      "100%|██████████| 469/469 [00:03<00:00, 134.54it/s]\n",
      "> Eval on experience 7 (Task 0) from train stream ended.\n",
      "\tCPUUsage_Exp/eval_phase/train_stream/Task000/Exp007 = 105.5732\n",
      "\tMaxRAMUsage_Experience/eval_phase/train_stream/Task000/Exp007 = 160.6719\n",
      "\tTop1_Acc_Exp/eval_phase/train_stream/Task000/Exp007 = 0.1857\n",
      "-- Starting eval on experience 8 (Task 0) from train stream --\n",
      "100%|██████████| 469/469 [00:03<00:00, 133.72it/s]\n",
      "> Eval on experience 8 (Task 0) from train stream ended.\n",
      "\tCPUUsage_Exp/eval_phase/train_stream/Task000/Exp008 = 105.0598\n",
      "\tMaxRAMUsage_Experience/eval_phase/train_stream/Task000/Exp008 = 162.6875\n",
      "\tTop1_Acc_Exp/eval_phase/train_stream/Task000/Exp008 = 0.1656\n",
      "-- Starting eval on experience 9 (Task 0) from train stream --\n",
      "100%|██████████| 469/469 [00:03<00:00, 134.05it/s]\n",
      "> Eval on experience 9 (Task 0) from train stream ended.\n",
      "\tCPUUsage_Exp/eval_phase/train_stream/Task000/Exp009 = 105.5641\n",
      "\tMaxRAMUsage_Experience/eval_phase/train_stream/Task000/Exp009 = 165.5469\n",
      "\tTop1_Acc_Exp/eval_phase/train_stream/Task000/Exp009 = 0.1233\n",
      "-- >> End of eval phase << --\n",
      "\tAccuracy_On_Trained_Experiences/eval_phase/train_stream/Task000 = 0.7306\n",
      "\tCPUUsage_Stream/eval_phase/train_stream/Task000 = 106.0404\n",
      "\tMaxRAMUsage_Stream/eval_phase/train_stream/Task000 = 165.5469\n",
      "\tStreamBWT/eval_phase/train_stream = -0.0644\n",
      "\tStreamForgetting/eval_phase/train_stream = 0.0644\n",
      "\tTop1_Acc_Stream/eval_phase/train_stream/Task000 = 0.5050\n",
      "-- >> Start of eval phase << --\n",
      "-- Starting eval on experience 0 (Task 0) from test stream --\n",
      "100%|██████████| 79/79 [00:00<00:00, 123.67it/s]\n",
      "> Eval on experience 0 (Task 0) from test stream ended.\n",
      "\tCPUUsage_Exp/eval_phase/test_stream/Task000/Exp000 = 105.2015\n",
      "\tExperienceBWT/eval_phase/test_stream/Task000/Exp000 = -0.1849\n",
      "\tExperienceForgetting/eval_phase/test_stream/Task000/Exp000 = 0.1849\n",
      "\tMaxRAMUsage_Experience/eval_phase/test_stream/Task000/Exp000 = 0\n",
      "\tTop1_Acc_Exp/eval_phase/test_stream/Task000/Exp000 = 0.5720\n",
      "-- Starting eval on experience 1 (Task 0) from test stream --\n",
      "100%|██████████| 79/79 [00:00<00:00, 136.36it/s]\n",
      "> Eval on experience 1 (Task 0) from test stream ended.\n",
      "\tCPUUsage_Exp/eval_phase/test_stream/Task000/Exp001 = 107.3978\n",
      "\tExperienceBWT/eval_phase/test_stream/Task000/Exp001 = -0.0413\n",
      "\tExperienceForgetting/eval_phase/test_stream/Task000/Exp001 = 0.0413\n",
      "\tMaxRAMUsage_Experience/eval_phase/test_stream/Task000/Exp001 = 174.7656\n",
      "\tTop1_Acc_Exp/eval_phase/test_stream/Task000/Exp001 = 0.7205\n",
      "-- Starting eval on experience 2 (Task 0) from test stream --\n",
      "100%|██████████| 79/79 [00:00<00:00, 133.09it/s]\n",
      "> Eval on experience 2 (Task 0) from test stream ended.\n",
      "\tCPUUsage_Exp/eval_phase/test_stream/Task000/Exp002 = 107.2114\n",
      "\tExperienceBWT/eval_phase/test_stream/Task000/Exp002 = -0.0268\n",
      "\tExperienceForgetting/eval_phase/test_stream/Task000/Exp002 = 0.0268\n",
      "\tMaxRAMUsage_Experience/eval_phase/test_stream/Task000/Exp002 = 0\n",
      "\tTop1_Acc_Exp/eval_phase/test_stream/Task000/Exp002 = 0.7566\n",
      "-- Starting eval on experience 3 (Task 0) from test stream --\n",
      "100%|██████████| 79/79 [00:00<00:00, 129.97it/s]\n",
      "> Eval on experience 3 (Task 0) from test stream ended.\n",
      "\tCPUUsage_Exp/eval_phase/test_stream/Task000/Exp003 = 103.6339\n",
      "\tExperienceBWT/eval_phase/test_stream/Task000/Exp003 = -0.0270\n",
      "\tExperienceForgetting/eval_phase/test_stream/Task000/Exp003 = 0.0270\n",
      "\tMaxRAMUsage_Experience/eval_phase/test_stream/Task000/Exp003 = 172.6094\n",
      "\tTop1_Acc_Exp/eval_phase/test_stream/Task000/Exp003 = 0.7714\n",
      "-- Starting eval on experience 4 (Task 0) from test stream --\n",
      "100%|██████████| 79/79 [00:00<00:00, 136.39it/s]\n",
      "> Eval on experience 4 (Task 0) from test stream ended.\n",
      "\tCPUUsage_Exp/eval_phase/test_stream/Task000/Exp004 = 106.7888\n",
      "\tExperienceBWT/eval_phase/test_stream/Task000/Exp004 = -0.0143\n",
      "\tExperienceForgetting/eval_phase/test_stream/Task000/Exp004 = 0.0143\n",
      "\tMaxRAMUsage_Experience/eval_phase/test_stream/Task000/Exp004 = 162.8125\n",
      "\tTop1_Acc_Exp/eval_phase/test_stream/Task000/Exp004 = 0.7932\n",
      "-- Starting eval on experience 5 (Task 0) from test stream --\n",
      "100%|██████████| 79/79 [00:00<00:00, 127.37it/s]\n",
      "> Eval on experience 5 (Task 0) from test stream ended.\n",
      "\tCPUUsage_Exp/eval_phase/test_stream/Task000/Exp005 = 98.4114\n",
      "\tMaxRAMUsage_Experience/eval_phase/test_stream/Task000/Exp005 = 0\n",
      "\tTop1_Acc_Exp/eval_phase/test_stream/Task000/Exp005 = 0.8031\n",
      "-- Starting eval on experience 6 (Task 0) from test stream --\n",
      "100%|██████████| 79/79 [00:00<00:00, 137.89it/s]\n",
      "> Eval on experience 6 (Task 0) from test stream ended.\n",
      "\tCPUUsage_Exp/eval_phase/test_stream/Task000/Exp006 = 106.7148\n",
      "\tMaxRAMUsage_Experience/eval_phase/test_stream/Task000/Exp006 = 152.1406\n",
      "\tTop1_Acc_Exp/eval_phase/test_stream/Task000/Exp006 = 0.1982\n",
      "-- Starting eval on experience 7 (Task 0) from test stream --\n",
      "100%|██████████| 79/79 [00:00<00:00, 130.79it/s]\n",
      "> Eval on experience 7 (Task 0) from test stream ended.\n",
      "\tCPUUsage_Exp/eval_phase/test_stream/Task000/Exp007 = 103.9126\n",
      "\tMaxRAMUsage_Experience/eval_phase/test_stream/Task000/Exp007 = 0\n",
      "\tTop1_Acc_Exp/eval_phase/test_stream/Task000/Exp007 = 0.1944\n",
      "-- Starting eval on experience 8 (Task 0) from test stream --\n",
      "100%|██████████| 79/79 [00:00<00:00, 135.06it/s]\n",
      "> Eval on experience 8 (Task 0) from test stream ended.\n",
      "\tCPUUsage_Exp/eval_phase/test_stream/Task000/Exp008 = 107.2109\n",
      "\tMaxRAMUsage_Experience/eval_phase/test_stream/Task000/Exp008 = 153.6562\n",
      "\tTop1_Acc_Exp/eval_phase/test_stream/Task000/Exp008 = 0.1617\n",
      "-- Starting eval on experience 9 (Task 0) from test stream --\n",
      "100%|██████████| 79/79 [00:00<00:00, 129.53it/s]\n",
      "> Eval on experience 9 (Task 0) from test stream ended.\n",
      "\tCPUUsage_Exp/eval_phase/test_stream/Task000/Exp009 = 104.4657\n",
      "\tMaxRAMUsage_Experience/eval_phase/test_stream/Task000/Exp009 = 129.3594\n",
      "\tTop1_Acc_Exp/eval_phase/test_stream/Task000/Exp009 = 0.1252\n"
     ]
    },
    {
     "name": "stderr",
     "output_type": "stream",
     "text": [
      " 60%|██████    | 6/10 [06:37<04:30, 67.73s/it]"
     ]
    },
    {
     "name": "stdout",
     "output_type": "stream",
     "text": [
      "-- >> End of eval phase << --\n",
      "\tAccuracy_On_Trained_Experiences/eval_phase/test_stream/Task000 = 0.7361\n",
      "\tCPUUsage_Stream/eval_phase/test_stream/Task000 = 105.0197\n",
      "\tMaxRAMUsage_Stream/eval_phase/test_stream/Task000 = 174.7656\n",
      "\tStreamBWT/eval_phase/test_stream = -0.0589\n",
      "\tStreamForgetting/eval_phase/test_stream = 0.0589\n",
      "\tTop1_Acc_Stream/eval_phase/test_stream/Task000 = 0.5096\n",
      "-- >> Start of training phase << --\n",
      "100%|██████████| 469/469 [00:05<00:00, 93.36it/s]\n",
      "Epoch 0 ended.\n",
      "\tRunningTime_Epoch/train_phase/train_stream/Task000 = 0.0000\n",
      "\tTime_Epoch/train_phase/train_stream/Task000 = 5.0244\n",
      "100%|██████████| 469/469 [00:04<00:00, 94.96it/s]\n",
      "Epoch 1 ended.\n",
      "\tRunningTime_Epoch/train_phase/train_stream/Task000 = 0.0000\n",
      "\tTime_Epoch/train_phase/train_stream/Task000 = 4.9394\n",
      "100%|██████████| 469/469 [00:05<00:00, 93.55it/s]\n",
      "Epoch 2 ended.\n",
      "\tRunningTime_Epoch/train_phase/train_stream/Task000 = 0.0000\n",
      "\tTime_Epoch/train_phase/train_stream/Task000 = 5.0131\n",
      "100%|██████████| 469/469 [00:04<00:00, 94.15it/s]\n",
      "Epoch 3 ended.\n",
      "\tRunningTime_Epoch/train_phase/train_stream/Task000 = 0.0000\n",
      "\tTime_Epoch/train_phase/train_stream/Task000 = 4.9816\n",
      "100%|██████████| 469/469 [00:05<00:00, 93.52it/s]\n",
      "Epoch 4 ended.\n",
      "\tRunningTime_Epoch/train_phase/train_stream/Task000 = 0.0000\n",
      "\tTime_Epoch/train_phase/train_stream/Task000 = 5.0154\n",
      "-- >> End of training phase << --\n",
      "-- >> Start of eval phase << --\n",
      "-- Starting eval on experience 0 (Task 0) from train stream --\n",
      "100%|██████████| 469/469 [00:03<00:00, 133.55it/s]\n",
      "> Eval on experience 0 (Task 0) from train stream ended.\n",
      "\tCPUUsage_Exp/eval_phase/train_stream/Task000/Exp000 = 106.6551\n",
      "\tExperienceBWT/eval_phase/train_stream/Task000/Exp000 = -0.1467\n",
      "\tExperienceForgetting/eval_phase/train_stream/Task000/Exp000 = 0.1467\n",
      "\tMaxRAMUsage_Experience/eval_phase/train_stream/Task000/Exp000 = 164.1250\n",
      "\tTop1_Acc_Exp/eval_phase/train_stream/Task000/Exp000 = 0.6102\n",
      "-- Starting eval on experience 1 (Task 0) from train stream --\n",
      "100%|██████████| 469/469 [00:03<00:00, 133.86it/s]\n",
      "> Eval on experience 1 (Task 0) from train stream ended.\n",
      "\tCPUUsage_Exp/eval_phase/train_stream/Task000/Exp001 = 106.7200\n",
      "\tExperienceBWT/eval_phase/train_stream/Task000/Exp001 = -0.0592\n",
      "\tExperienceForgetting/eval_phase/train_stream/Task000/Exp001 = 0.0592\n",
      "\tMaxRAMUsage_Experience/eval_phase/train_stream/Task000/Exp001 = 166.1562\n",
      "\tTop1_Acc_Exp/eval_phase/train_stream/Task000/Exp001 = 0.7026\n",
      "-- Starting eval on experience 2 (Task 0) from train stream --\n",
      "100%|██████████| 469/469 [00:03<00:00, 129.27it/s]\n",
      "> Eval on experience 2 (Task 0) from train stream ended.\n",
      "\tCPUUsage_Exp/eval_phase/train_stream/Task000/Exp002 = 104.1513\n",
      "\tExperienceBWT/eval_phase/train_stream/Task000/Exp002 = -0.0694\n",
      "\tExperienceForgetting/eval_phase/train_stream/Task000/Exp002 = 0.0694\n",
      "\tMaxRAMUsage_Experience/eval_phase/train_stream/Task000/Exp002 = 162.0469\n",
      "\tTop1_Acc_Exp/eval_phase/train_stream/Task000/Exp002 = 0.7140\n",
      "-- Starting eval on experience 3 (Task 0) from train stream --\n",
      "100%|██████████| 469/469 [00:03<00:00, 134.83it/s]\n",
      "> Eval on experience 3 (Task 0) from train stream ended.\n",
      "\tCPUUsage_Exp/eval_phase/train_stream/Task000/Exp003 = 106.8931\n",
      "\tExperienceBWT/eval_phase/train_stream/Task000/Exp003 = -0.0476\n",
      "\tExperienceForgetting/eval_phase/train_stream/Task000/Exp003 = 0.0476\n",
      "\tMaxRAMUsage_Experience/eval_phase/train_stream/Task000/Exp003 = 157.0938\n",
      "\tTop1_Acc_Exp/eval_phase/train_stream/Task000/Exp003 = 0.7508\n",
      "-- Starting eval on experience 4 (Task 0) from train stream --\n",
      "100%|██████████| 469/469 [00:03<00:00, 133.96it/s]\n",
      "> Eval on experience 4 (Task 0) from train stream ended.\n",
      "\tCPUUsage_Exp/eval_phase/train_stream/Task000/Exp004 = 106.3113\n",
      "\tExperienceBWT/eval_phase/train_stream/Task000/Exp004 = -0.0395\n",
      "\tExperienceForgetting/eval_phase/train_stream/Task000/Exp004 = 0.0395\n",
      "\tMaxRAMUsage_Experience/eval_phase/train_stream/Task000/Exp004 = 140.3594\n",
      "\tTop1_Acc_Exp/eval_phase/train_stream/Task000/Exp004 = 0.7680\n",
      "-- Starting eval on experience 5 (Task 0) from train stream --\n",
      "100%|██████████| 469/469 [00:03<00:00, 133.28it/s]\n",
      "> Eval on experience 5 (Task 0) from train stream ended.\n",
      "\tCPUUsage_Exp/eval_phase/train_stream/Task000/Exp005 = 106.1784\n",
      "\tExperienceBWT/eval_phase/train_stream/Task000/Exp005 = -0.0305\n",
      "\tExperienceForgetting/eval_phase/train_stream/Task000/Exp005 = 0.0305\n",
      "\tMaxRAMUsage_Experience/eval_phase/train_stream/Task000/Exp005 = 142.6875\n",
      "\tTop1_Acc_Exp/eval_phase/train_stream/Task000/Exp005 = 0.7726\n",
      "-- Starting eval on experience 6 (Task 0) from train stream --\n",
      "100%|██████████| 469/469 [00:03<00:00, 133.59it/s]\n",
      "> Eval on experience 6 (Task 0) from train stream ended.\n",
      "\tCPUUsage_Exp/eval_phase/train_stream/Task000/Exp006 = 106.3696\n",
      "\tMaxRAMUsage_Experience/eval_phase/train_stream/Task000/Exp006 = 142.9219\n",
      "\tTop1_Acc_Exp/eval_phase/train_stream/Task000/Exp006 = 0.8084\n",
      "-- Starting eval on experience 7 (Task 0) from train stream --\n",
      "100%|██████████| 469/469 [00:03<00:00, 134.99it/s]\n",
      "> Eval on experience 7 (Task 0) from train stream ended.\n",
      "\tCPUUsage_Exp/eval_phase/train_stream/Task000/Exp007 = 105.5089\n",
      "\tMaxRAMUsage_Experience/eval_phase/train_stream/Task000/Exp007 = 145.3438\n",
      "\tTop1_Acc_Exp/eval_phase/train_stream/Task000/Exp007 = 0.1688\n",
      "-- Starting eval on experience 8 (Task 0) from train stream --\n",
      "100%|██████████| 469/469 [00:03<00:00, 134.16it/s]\n",
      "> Eval on experience 8 (Task 0) from train stream ended.\n",
      "\tCPUUsage_Exp/eval_phase/train_stream/Task000/Exp008 = 105.5349\n",
      "\tMaxRAMUsage_Experience/eval_phase/train_stream/Task000/Exp008 = 147.2344\n",
      "\tTop1_Acc_Exp/eval_phase/train_stream/Task000/Exp008 = 0.1552\n",
      "-- Starting eval on experience 9 (Task 0) from train stream --\n",
      "100%|██████████| 469/469 [00:03<00:00, 134.50it/s]\n",
      "> Eval on experience 9 (Task 0) from train stream ended.\n",
      "\tCPUUsage_Exp/eval_phase/train_stream/Task000/Exp009 = 105.8065\n",
      "\tMaxRAMUsage_Experience/eval_phase/train_stream/Task000/Exp009 = 148.7969\n",
      "\tTop1_Acc_Exp/eval_phase/train_stream/Task000/Exp009 = 0.1037\n",
      "-- >> End of eval phase << --\n",
      "\tAccuracy_On_Trained_Experiences/eval_phase/train_stream/Task000 = 0.7324\n",
      "\tCPUUsage_Stream/eval_phase/train_stream/Task000 = 105.9958\n",
      "\tMaxRAMUsage_Stream/eval_phase/train_stream/Task000 = 166.1562\n",
      "\tStreamBWT/eval_phase/train_stream = -0.0655\n",
      "\tStreamForgetting/eval_phase/train_stream = 0.0655\n",
      "\tTop1_Acc_Stream/eval_phase/train_stream/Task000 = 0.5554\n",
      "-- >> Start of eval phase << --\n",
      "-- Starting eval on experience 0 (Task 0) from test stream --\n",
      "100%|██████████| 79/79 [00:00<00:00, 130.82it/s]\n",
      "> Eval on experience 0 (Task 0) from test stream ended.\n",
      "\tCPUUsage_Exp/eval_phase/test_stream/Task000/Exp000 = 107.7795\n",
      "\tExperienceBWT/eval_phase/test_stream/Task000/Exp000 = -0.1452\n",
      "\tExperienceForgetting/eval_phase/test_stream/Task000/Exp000 = 0.1452\n",
      "\tMaxRAMUsage_Experience/eval_phase/test_stream/Task000/Exp000 = 0\n",
      "\tTop1_Acc_Exp/eval_phase/test_stream/Task000/Exp000 = 0.6117\n",
      "-- Starting eval on experience 1 (Task 0) from test stream --\n",
      "100%|██████████| 79/79 [00:00<00:00, 130.54it/s]\n",
      "> Eval on experience 1 (Task 0) from test stream ended.\n",
      "\tCPUUsage_Exp/eval_phase/test_stream/Task000/Exp001 = 104.7316\n",
      "\tExperienceBWT/eval_phase/test_stream/Task000/Exp001 = -0.0505\n",
      "\tExperienceForgetting/eval_phase/test_stream/Task000/Exp001 = 0.0505\n",
      "\tMaxRAMUsage_Experience/eval_phase/test_stream/Task000/Exp001 = 157.1094\n",
      "\tTop1_Acc_Exp/eval_phase/test_stream/Task000/Exp001 = 0.7113\n",
      "-- Starting eval on experience 2 (Task 0) from test stream --\n",
      "100%|██████████| 79/79 [00:00<00:00, 136.75it/s]\n",
      "> Eval on experience 2 (Task 0) from test stream ended.\n",
      "\tCPUUsage_Exp/eval_phase/test_stream/Task000/Exp002 = 107.8076\n",
      "\tExperienceBWT/eval_phase/test_stream/Task000/Exp002 = -0.0679\n",
      "\tExperienceForgetting/eval_phase/test_stream/Task000/Exp002 = 0.0679\n",
      "\tMaxRAMUsage_Experience/eval_phase/test_stream/Task000/Exp002 = 0\n",
      "\tTop1_Acc_Exp/eval_phase/test_stream/Task000/Exp002 = 0.7155\n",
      "-- Starting eval on experience 3 (Task 0) from test stream --\n",
      "100%|██████████| 79/79 [00:00<00:00, 128.91it/s]\n",
      "> Eval on experience 3 (Task 0) from test stream ended.\n",
      "\tCPUUsage_Exp/eval_phase/test_stream/Task000/Exp003 = 104.4582\n",
      "\tExperienceBWT/eval_phase/test_stream/Task000/Exp003 = -0.0420\n",
      "\tExperienceForgetting/eval_phase/test_stream/Task000/Exp003 = 0.0420\n",
      "\tMaxRAMUsage_Experience/eval_phase/test_stream/Task000/Exp003 = 157.7031\n",
      "\tTop1_Acc_Exp/eval_phase/test_stream/Task000/Exp003 = 0.7564\n",
      "-- Starting eval on experience 4 (Task 0) from test stream --\n",
      "100%|██████████| 79/79 [00:00<00:00, 137.48it/s]\n",
      "> Eval on experience 4 (Task 0) from test stream ended.\n",
      "\tCPUUsage_Exp/eval_phase/test_stream/Task000/Exp004 = 107.4702\n",
      "\tExperienceBWT/eval_phase/test_stream/Task000/Exp004 = -0.0417\n",
      "\tExperienceForgetting/eval_phase/test_stream/Task000/Exp004 = 0.0417\n",
      "\tMaxRAMUsage_Experience/eval_phase/test_stream/Task000/Exp004 = 0\n",
      "\tTop1_Acc_Exp/eval_phase/test_stream/Task000/Exp004 = 0.7658\n",
      "-- Starting eval on experience 5 (Task 0) from test stream --\n",
      "100%|██████████| 79/79 [00:00<00:00, 130.21it/s]\n",
      "> Eval on experience 5 (Task 0) from test stream ended.\n",
      "\tCPUUsage_Exp/eval_phase/test_stream/Task000/Exp005 = 104.9525\n",
      "\tExperienceBWT/eval_phase/test_stream/Task000/Exp005 = -0.0305\n",
      "\tExperienceForgetting/eval_phase/test_stream/Task000/Exp005 = 0.0305\n",
      "\tMaxRAMUsage_Experience/eval_phase/test_stream/Task000/Exp005 = 159.3281\n",
      "\tTop1_Acc_Exp/eval_phase/test_stream/Task000/Exp005 = 0.7726\n",
      "-- Starting eval on experience 6 (Task 0) from test stream --\n",
      "100%|██████████| 79/79 [00:00<00:00, 131.50it/s]\n",
      "> Eval on experience 6 (Task 0) from test stream ended.\n",
      "\tCPUUsage_Exp/eval_phase/test_stream/Task000/Exp006 = 106.5797\n",
      "\tMaxRAMUsage_Experience/eval_phase/test_stream/Task000/Exp006 = 159.8125\n",
      "\tTop1_Acc_Exp/eval_phase/test_stream/Task000/Exp006 = 0.8135\n",
      "-- Starting eval on experience 7 (Task 0) from test stream --\n",
      "100%|██████████| 79/79 [00:00<00:00, 137.79it/s]\n",
      "> Eval on experience 7 (Task 0) from test stream ended.\n",
      "\tCPUUsage_Exp/eval_phase/test_stream/Task000/Exp007 = 106.8903\n",
      "\tMaxRAMUsage_Experience/eval_phase/test_stream/Task000/Exp007 = 0\n",
      "\tTop1_Acc_Exp/eval_phase/test_stream/Task000/Exp007 = 0.1734\n",
      "-- Starting eval on experience 8 (Task 0) from test stream --\n",
      "100%|██████████| 79/79 [00:00<00:00, 128.26it/s]\n",
      "> Eval on experience 8 (Task 0) from test stream ended.\n",
      "\tCPUUsage_Exp/eval_phase/test_stream/Task000/Exp008 = 103.8624\n",
      "\tMaxRAMUsage_Experience/eval_phase/test_stream/Task000/Exp008 = 152.0000\n",
      "\tTop1_Acc_Exp/eval_phase/test_stream/Task000/Exp008 = 0.1560\n",
      "-- Starting eval on experience 9 (Task 0) from test stream --\n",
      "100%|██████████| 79/79 [00:00<00:00, 129.58it/s]\n",
      "> Eval on experience 9 (Task 0) from test stream ended.\n",
      "\tCPUUsage_Exp/eval_phase/test_stream/Task000/Exp009 = 103.8454\n",
      "\tMaxRAMUsage_Experience/eval_phase/test_stream/Task000/Exp009 = 152.7188\n",
      "\tTop1_Acc_Exp/eval_phase/test_stream/Task000/Exp009 = 0.1031\n"
     ]
    },
    {
     "name": "stderr",
     "output_type": "stream",
     "text": [
      " 70%|███████   | 7/10 [07:50<03:28, 69.40s/it]"
     ]
    },
    {
     "name": "stdout",
     "output_type": "stream",
     "text": [
      "-- >> End of eval phase << --\n",
      "\tAccuracy_On_Trained_Experiences/eval_phase/test_stream/Task000 = 0.7353\n",
      "\tCPUUsage_Stream/eval_phase/test_stream/Task000 = 105.7840\n",
      "\tMaxRAMUsage_Stream/eval_phase/test_stream/Task000 = 159.8125\n",
      "\tStreamBWT/eval_phase/test_stream = -0.0630\n",
      "\tStreamForgetting/eval_phase/test_stream = 0.0630\n",
      "\tTop1_Acc_Stream/eval_phase/test_stream/Task000 = 0.5579\n",
      "-- >> Start of training phase << --\n",
      "100%|██████████| 469/469 [00:05<00:00, 89.90it/s]\n",
      "Epoch 0 ended.\n",
      "\tRunningTime_Epoch/train_phase/train_stream/Task000 = 0.0001\n",
      "\tTime_Epoch/train_phase/train_stream/Task000 = 5.2182\n",
      "100%|██████████| 469/469 [00:05<00:00, 90.10it/s]\n",
      "Epoch 1 ended.\n",
      "\tRunningTime_Epoch/train_phase/train_stream/Task000 = 0.0000\n",
      "\tTime_Epoch/train_phase/train_stream/Task000 = 5.2059\n",
      "100%|██████████| 469/469 [00:05<00:00, 89.62it/s]\n",
      "Epoch 2 ended.\n",
      "\tRunningTime_Epoch/train_phase/train_stream/Task000 = 0.0000\n",
      "\tTime_Epoch/train_phase/train_stream/Task000 = 5.2334\n",
      "100%|██████████| 469/469 [00:05<00:00, 90.94it/s]\n",
      "Epoch 3 ended.\n",
      "\tRunningTime_Epoch/train_phase/train_stream/Task000 = 0.0000\n",
      "\tTime_Epoch/train_phase/train_stream/Task000 = 5.1572\n",
      "100%|██████████| 469/469 [00:05<00:00, 89.55it/s]\n",
      "Epoch 4 ended.\n",
      "\tRunningTime_Epoch/train_phase/train_stream/Task000 = 0.0000\n",
      "\tTime_Epoch/train_phase/train_stream/Task000 = 5.2371\n",
      "-- >> End of training phase << --\n",
      "-- >> Start of eval phase << --\n",
      "-- Starting eval on experience 0 (Task 0) from train stream --\n",
      "100%|██████████| 469/469 [00:03<00:00, 137.20it/s]\n",
      "> Eval on experience 0 (Task 0) from train stream ended.\n",
      "\tCPUUsage_Exp/eval_phase/train_stream/Task000/Exp000 = 106.9812\n",
      "\tExperienceBWT/eval_phase/train_stream/Task000/Exp000 = -0.1925\n",
      "\tExperienceForgetting/eval_phase/train_stream/Task000/Exp000 = 0.1925\n",
      "\tMaxRAMUsage_Experience/eval_phase/train_stream/Task000/Exp000 = 160.6875\n",
      "\tTop1_Acc_Exp/eval_phase/train_stream/Task000/Exp000 = 0.5644\n",
      "-- Starting eval on experience 1 (Task 0) from train stream --\n",
      "100%|██████████| 469/469 [00:03<00:00, 135.90it/s]\n",
      "> Eval on experience 1 (Task 0) from train stream ended.\n",
      "\tCPUUsage_Exp/eval_phase/train_stream/Task000/Exp001 = 106.7043\n",
      "\tExperienceBWT/eval_phase/train_stream/Task000/Exp001 = -0.0675\n",
      "\tExperienceForgetting/eval_phase/train_stream/Task000/Exp001 = 0.0675\n",
      "\tMaxRAMUsage_Experience/eval_phase/train_stream/Task000/Exp001 = 162.7812\n",
      "\tTop1_Acc_Exp/eval_phase/train_stream/Task000/Exp001 = 0.6943\n",
      "-- Starting eval on experience 2 (Task 0) from train stream --\n",
      "100%|██████████| 469/469 [00:03<00:00, 136.91it/s]\n",
      "> Eval on experience 2 (Task 0) from train stream ended.\n",
      "\tCPUUsage_Exp/eval_phase/train_stream/Task000/Exp002 = 106.7006\n",
      "\tExperienceBWT/eval_phase/train_stream/Task000/Exp002 = -0.0827\n",
      "\tExperienceForgetting/eval_phase/train_stream/Task000/Exp002 = 0.0827\n",
      "\tMaxRAMUsage_Experience/eval_phase/train_stream/Task000/Exp002 = 164.5469\n",
      "\tTop1_Acc_Exp/eval_phase/train_stream/Task000/Exp002 = 0.7007\n",
      "-- Starting eval on experience 3 (Task 0) from train stream --\n",
      "100%|██████████| 469/469 [00:03<00:00, 136.77it/s]\n",
      "> Eval on experience 3 (Task 0) from train stream ended.\n",
      "\tCPUUsage_Exp/eval_phase/train_stream/Task000/Exp003 = 106.8079\n",
      "\tExperienceBWT/eval_phase/train_stream/Task000/Exp003 = -0.0448\n",
      "\tExperienceForgetting/eval_phase/train_stream/Task000/Exp003 = 0.0448\n",
      "\tMaxRAMUsage_Experience/eval_phase/train_stream/Task000/Exp003 = 166.8906\n",
      "\tTop1_Acc_Exp/eval_phase/train_stream/Task000/Exp003 = 0.7536\n",
      "-- Starting eval on experience 4 (Task 0) from train stream --\n",
      "100%|██████████| 469/469 [00:03<00:00, 131.20it/s]\n",
      "> Eval on experience 4 (Task 0) from train stream ended.\n",
      "\tCPUUsage_Exp/eval_phase/train_stream/Task000/Exp004 = 106.0487\n",
      "\tExperienceBWT/eval_phase/train_stream/Task000/Exp004 = -0.0605\n",
      "\tExperienceForgetting/eval_phase/train_stream/Task000/Exp004 = 0.0605\n",
      "\tMaxRAMUsage_Experience/eval_phase/train_stream/Task000/Exp004 = 168.4688\n",
      "\tTop1_Acc_Exp/eval_phase/train_stream/Task000/Exp004 = 0.7470\n",
      "-- Starting eval on experience 5 (Task 0) from train stream --\n",
      "100%|██████████| 469/469 [00:03<00:00, 135.65it/s]\n",
      "> Eval on experience 5 (Task 0) from train stream ended.\n",
      "\tCPUUsage_Exp/eval_phase/train_stream/Task000/Exp005 = 106.6674\n",
      "\tExperienceBWT/eval_phase/train_stream/Task000/Exp005 = -0.0359\n",
      "\tExperienceForgetting/eval_phase/train_stream/Task000/Exp005 = 0.0359\n",
      "\tMaxRAMUsage_Experience/eval_phase/train_stream/Task000/Exp005 = 154.9531\n",
      "\tTop1_Acc_Exp/eval_phase/train_stream/Task000/Exp005 = 0.7672\n",
      "-- Starting eval on experience 6 (Task 0) from train stream --\n",
      "100%|██████████| 469/469 [00:03<00:00, 133.26it/s]\n",
      "> Eval on experience 6 (Task 0) from train stream ended.\n",
      "\tCPUUsage_Exp/eval_phase/train_stream/Task000/Exp006 = 106.3619\n",
      "\tExperienceBWT/eval_phase/train_stream/Task000/Exp006 = -0.0221\n",
      "\tExperienceForgetting/eval_phase/train_stream/Task000/Exp006 = 0.0221\n",
      "\tMaxRAMUsage_Experience/eval_phase/train_stream/Task000/Exp006 = 156.2500\n",
      "\tTop1_Acc_Exp/eval_phase/train_stream/Task000/Exp006 = 0.7914\n",
      "-- Starting eval on experience 7 (Task 0) from train stream --\n",
      "100%|██████████| 469/469 [00:03<00:00, 136.88it/s]\n",
      "> Eval on experience 7 (Task 0) from train stream ended.\n",
      "\tCPUUsage_Exp/eval_phase/train_stream/Task000/Exp007 = 106.8276\n",
      "\tMaxRAMUsage_Experience/eval_phase/train_stream/Task000/Exp007 = 146.3438\n",
      "\tTop1_Acc_Exp/eval_phase/train_stream/Task000/Exp007 = 0.8131\n",
      "-- Starting eval on experience 8 (Task 0) from train stream --\n",
      "100%|██████████| 469/469 [00:03<00:00, 137.07it/s]\n",
      "> Eval on experience 8 (Task 0) from train stream ended.\n",
      "\tCPUUsage_Exp/eval_phase/train_stream/Task000/Exp008 = 105.9341\n",
      "\tMaxRAMUsage_Experience/eval_phase/train_stream/Task000/Exp008 = 150.1719\n",
      "\tTop1_Acc_Exp/eval_phase/train_stream/Task000/Exp008 = 0.1269\n",
      "-- Starting eval on experience 9 (Task 0) from train stream --\n",
      "100%|██████████| 469/469 [00:03<00:00, 136.28it/s]\n",
      "> Eval on experience 9 (Task 0) from train stream ended.\n",
      "\tCPUUsage_Exp/eval_phase/train_stream/Task000/Exp009 = 105.2207\n",
      "\tMaxRAMUsage_Experience/eval_phase/train_stream/Task000/Exp009 = 152.6250\n",
      "\tTop1_Acc_Exp/eval_phase/train_stream/Task000/Exp009 = 0.1161\n",
      "-- >> End of eval phase << --\n",
      "\tAccuracy_On_Trained_Experiences/eval_phase/train_stream/Task000 = 0.7290\n",
      "\tCPUUsage_Stream/eval_phase/train_stream/Task000 = 106.4120\n",
      "\tMaxRAMUsage_Stream/eval_phase/train_stream/Task000 = 168.4688\n",
      "\tStreamBWT/eval_phase/train_stream = -0.0723\n",
      "\tStreamForgetting/eval_phase/train_stream = 0.0723\n",
      "\tTop1_Acc_Stream/eval_phase/train_stream/Task000 = 0.6075\n",
      "-- >> Start of eval phase << --\n",
      "-- Starting eval on experience 0 (Task 0) from test stream --\n",
      "100%|██████████| 79/79 [00:00<00:00, 132.78it/s]\n",
      "> Eval on experience 0 (Task 0) from test stream ended.\n",
      "\tCPUUsage_Exp/eval_phase/test_stream/Task000/Exp000 = 108.0111\n",
      "\tExperienceBWT/eval_phase/test_stream/Task000/Exp000 = -0.1837\n",
      "\tExperienceForgetting/eval_phase/test_stream/Task000/Exp000 = 0.1837\n",
      "\tMaxRAMUsage_Experience/eval_phase/test_stream/Task000/Exp000 = 0\n",
      "\tTop1_Acc_Exp/eval_phase/test_stream/Task000/Exp000 = 0.5732\n",
      "-- Starting eval on experience 1 (Task 0) from test stream --\n",
      "100%|██████████| 79/79 [00:00<00:00, 130.70it/s]\n",
      "> Eval on experience 1 (Task 0) from test stream ended.\n",
      "\tCPUUsage_Exp/eval_phase/test_stream/Task000/Exp001 = 104.1723\n",
      "\tExperienceBWT/eval_phase/test_stream/Task000/Exp001 = -0.0593\n",
      "\tExperienceForgetting/eval_phase/test_stream/Task000/Exp001 = 0.0593\n",
      "\tMaxRAMUsage_Experience/eval_phase/test_stream/Task000/Exp001 = 156.5156\n",
      "\tTop1_Acc_Exp/eval_phase/test_stream/Task000/Exp001 = 0.7025\n",
      "-- Starting eval on experience 2 (Task 0) from test stream --\n",
      "100%|██████████| 79/79 [00:00<00:00, 140.40it/s]\n",
      "> Eval on experience 2 (Task 0) from test stream ended.\n",
      "\tCPUUsage_Exp/eval_phase/test_stream/Task000/Exp002 = 107.4288\n",
      "\tExperienceBWT/eval_phase/test_stream/Task000/Exp002 = -0.0864\n",
      "\tExperienceForgetting/eval_phase/test_stream/Task000/Exp002 = 0.0864\n",
      "\tMaxRAMUsage_Experience/eval_phase/test_stream/Task000/Exp002 = 0\n",
      "\tTop1_Acc_Exp/eval_phase/test_stream/Task000/Exp002 = 0.6970\n",
      "-- Starting eval on experience 3 (Task 0) from test stream --\n",
      "100%|██████████| 79/79 [00:00<00:00, 138.99it/s]\n",
      "> Eval on experience 3 (Task 0) from test stream ended.\n",
      "\tCPUUsage_Exp/eval_phase/test_stream/Task000/Exp003 = 107.4943\n",
      "\tExperienceBWT/eval_phase/test_stream/Task000/Exp003 = -0.0410\n",
      "\tExperienceForgetting/eval_phase/test_stream/Task000/Exp003 = 0.0410\n",
      "\tMaxRAMUsage_Experience/eval_phase/test_stream/Task000/Exp003 = 157.3750\n",
      "\tTop1_Acc_Exp/eval_phase/test_stream/Task000/Exp003 = 0.7574\n",
      "-- Starting eval on experience 4 (Task 0) from test stream --\n",
      "100%|██████████| 79/79 [00:00<00:00, 133.35it/s]\n",
      "> Eval on experience 4 (Task 0) from test stream ended.\n",
      "\tCPUUsage_Exp/eval_phase/test_stream/Task000/Exp004 = 104.8868\n",
      "\tExperienceBWT/eval_phase/test_stream/Task000/Exp004 = -0.0637\n",
      "\tExperienceForgetting/eval_phase/test_stream/Task000/Exp004 = 0.0637\n",
      "\tMaxRAMUsage_Experience/eval_phase/test_stream/Task000/Exp004 = 0\n",
      "\tTop1_Acc_Exp/eval_phase/test_stream/Task000/Exp004 = 0.7438\n",
      "-- Starting eval on experience 5 (Task 0) from test stream --\n",
      "100%|██████████| 79/79 [00:00<00:00, 136.60it/s]\n",
      "> Eval on experience 5 (Task 0) from test stream ended.\n",
      "\tCPUUsage_Exp/eval_phase/test_stream/Task000/Exp005 = 106.8468\n",
      "\tExperienceBWT/eval_phase/test_stream/Task000/Exp005 = -0.0329\n",
      "\tExperienceForgetting/eval_phase/test_stream/Task000/Exp005 = 0.0329\n",
      "\tMaxRAMUsage_Experience/eval_phase/test_stream/Task000/Exp005 = 158.2656\n",
      "\tTop1_Acc_Exp/eval_phase/test_stream/Task000/Exp005 = 0.7702\n",
      "-- Starting eval on experience 6 (Task 0) from test stream --\n",
      "100%|██████████| 79/79 [00:00<00:00, 132.48it/s]\n",
      "> Eval on experience 6 (Task 0) from test stream ended.\n",
      "\tCPUUsage_Exp/eval_phase/test_stream/Task000/Exp006 = 104.7654\n",
      "\tExperienceBWT/eval_phase/test_stream/Task000/Exp006 = -0.0254\n",
      "\tExperienceForgetting/eval_phase/test_stream/Task000/Exp006 = 0.0254\n",
      "\tMaxRAMUsage_Experience/eval_phase/test_stream/Task000/Exp006 = 160.5781\n",
      "\tTop1_Acc_Exp/eval_phase/test_stream/Task000/Exp006 = 0.7881\n",
      "-- Starting eval on experience 7 (Task 0) from test stream --\n",
      "100%|██████████| 79/79 [00:00<00:00, 139.83it/s]\n",
      "> Eval on experience 7 (Task 0) from test stream ended.\n",
      "\tCPUUsage_Exp/eval_phase/test_stream/Task000/Exp007 = 107.6073\n",
      "\tMaxRAMUsage_Experience/eval_phase/test_stream/Task000/Exp007 = 0\n",
      "\tTop1_Acc_Exp/eval_phase/test_stream/Task000/Exp007 = 0.8201\n",
      "-- Starting eval on experience 8 (Task 0) from test stream --\n",
      "100%|██████████| 79/79 [00:00<00:00, 130.93it/s]\n",
      "> Eval on experience 8 (Task 0) from test stream ended.\n",
      "\tCPUUsage_Exp/eval_phase/test_stream/Task000/Exp008 = 102.4656\n",
      "\tMaxRAMUsage_Experience/eval_phase/test_stream/Task000/Exp008 = 161.5000\n",
      "\tTop1_Acc_Exp/eval_phase/test_stream/Task000/Exp008 = 0.1268\n",
      "-- Starting eval on experience 9 (Task 0) from test stream --\n",
      "100%|██████████| 79/79 [00:00<00:00, 140.47it/s]\n",
      "> Eval on experience 9 (Task 0) from test stream ended.\n",
      "\tCPUUsage_Exp/eval_phase/test_stream/Task000/Exp009 = 106.6039\n",
      "\tMaxRAMUsage_Experience/eval_phase/test_stream/Task000/Exp009 = 0\n",
      "\tTop1_Acc_Exp/eval_phase/test_stream/Task000/Exp009 = 0.1137\n"
     ]
    },
    {
     "name": "stderr",
     "output_type": "stream",
     "text": [
      " 80%|████████  | 8/10 [09:01<02:19, 69.88s/it]"
     ]
    },
    {
     "name": "stdout",
     "output_type": "stream",
     "text": [
      "-- >> End of eval phase << --\n",
      "\tAccuracy_On_Trained_Experiences/eval_phase/test_stream/Task000 = 0.7315\n",
      "\tCPUUsage_Stream/eval_phase/test_stream/Task000 = 105.9690\n",
      "\tMaxRAMUsage_Stream/eval_phase/test_stream/Task000 = 161.5000\n",
      "\tStreamBWT/eval_phase/test_stream = -0.0703\n",
      "\tStreamForgetting/eval_phase/test_stream = 0.0703\n",
      "\tTop1_Acc_Stream/eval_phase/test_stream/Task000 = 0.6093\n",
      "-- >> Start of training phase << --\n",
      "100%|██████████| 469/469 [00:05<00:00, 87.80it/s]\n",
      "Epoch 0 ended.\n",
      "\tRunningTime_Epoch/train_phase/train_stream/Task000 = 0.0000\n",
      "\tTime_Epoch/train_phase/train_stream/Task000 = 5.3423\n",
      "100%|██████████| 469/469 [00:05<00:00, 88.11it/s]\n",
      "Epoch 1 ended.\n",
      "\tRunningTime_Epoch/train_phase/train_stream/Task000 = 0.0000\n",
      "\tTime_Epoch/train_phase/train_stream/Task000 = 5.3233\n",
      "100%|██████████| 469/469 [00:05<00:00, 87.03it/s]\n",
      "Epoch 2 ended.\n",
      "\tRunningTime_Epoch/train_phase/train_stream/Task000 = 0.0000\n",
      "\tTime_Epoch/train_phase/train_stream/Task000 = 5.3891\n",
      "100%|██████████| 469/469 [00:05<00:00, 87.60it/s]\n",
      "Epoch 3 ended.\n",
      "\tRunningTime_Epoch/train_phase/train_stream/Task000 = 0.0000\n",
      "\tTime_Epoch/train_phase/train_stream/Task000 = 5.3541\n",
      "100%|██████████| 469/469 [00:05<00:00, 87.90it/s]\n",
      "Epoch 4 ended.\n",
      "\tRunningTime_Epoch/train_phase/train_stream/Task000 = 0.0000\n",
      "\tTime_Epoch/train_phase/train_stream/Task000 = 5.3361\n",
      "-- >> End of training phase << --\n",
      "-- >> Start of eval phase << --\n",
      "-- Starting eval on experience 0 (Task 0) from train stream --\n",
      "100%|██████████| 469/469 [00:03<00:00, 137.18it/s]\n",
      "> Eval on experience 0 (Task 0) from train stream ended.\n",
      "\tCPUUsage_Exp/eval_phase/train_stream/Task000/Exp000 = 107.1724\n",
      "\tExperienceBWT/eval_phase/train_stream/Task000/Exp000 = -0.1698\n",
      "\tExperienceForgetting/eval_phase/train_stream/Task000/Exp000 = 0.1698\n",
      "\tMaxRAMUsage_Experience/eval_phase/train_stream/Task000/Exp000 = 182.4219\n",
      "\tTop1_Acc_Exp/eval_phase/train_stream/Task000/Exp000 = 0.5871\n",
      "-- Starting eval on experience 1 (Task 0) from train stream --\n",
      "100%|██████████| 469/469 [00:03<00:00, 135.69it/s]\n",
      "> Eval on experience 1 (Task 0) from train stream ended.\n",
      "\tCPUUsage_Exp/eval_phase/train_stream/Task000/Exp001 = 106.7170\n",
      "\tExperienceBWT/eval_phase/train_stream/Task000/Exp001 = -0.0847\n",
      "\tExperienceForgetting/eval_phase/train_stream/Task000/Exp001 = 0.0847\n",
      "\tMaxRAMUsage_Experience/eval_phase/train_stream/Task000/Exp001 = 184.6562\n",
      "\tTop1_Acc_Exp/eval_phase/train_stream/Task000/Exp001 = 0.6771\n",
      "-- Starting eval on experience 2 (Task 0) from train stream --\n",
      "100%|██████████| 469/469 [00:03<00:00, 137.73it/s]\n",
      "> Eval on experience 2 (Task 0) from train stream ended.\n",
      "\tCPUUsage_Exp/eval_phase/train_stream/Task000/Exp002 = 107.0931\n",
      "\tExperienceBWT/eval_phase/train_stream/Task000/Exp002 = -0.1249\n",
      "\tExperienceForgetting/eval_phase/train_stream/Task000/Exp002 = 0.1249\n",
      "\tMaxRAMUsage_Experience/eval_phase/train_stream/Task000/Exp002 = 181.4219\n",
      "\tTop1_Acc_Exp/eval_phase/train_stream/Task000/Exp002 = 0.6585\n",
      "-- Starting eval on experience 3 (Task 0) from train stream --\n",
      "100%|██████████| 469/469 [00:03<00:00, 136.15it/s]\n",
      "> Eval on experience 3 (Task 0) from train stream ended.\n",
      "\tCPUUsage_Exp/eval_phase/train_stream/Task000/Exp003 = 106.7521\n",
      "\tExperienceBWT/eval_phase/train_stream/Task000/Exp003 = -0.0629\n",
      "\tExperienceForgetting/eval_phase/train_stream/Task000/Exp003 = 0.0629\n",
      "\tMaxRAMUsage_Experience/eval_phase/train_stream/Task000/Exp003 = 181.1719\n",
      "\tTop1_Acc_Exp/eval_phase/train_stream/Task000/Exp003 = 0.7355\n",
      "-- Starting eval on experience 4 (Task 0) from train stream --\n",
      "100%|██████████| 469/469 [00:03<00:00, 135.32it/s]\n",
      "> Eval on experience 4 (Task 0) from train stream ended.\n",
      "\tCPUUsage_Exp/eval_phase/train_stream/Task000/Exp004 = 106.6170\n",
      "\tExperienceBWT/eval_phase/train_stream/Task000/Exp004 = -0.0523\n",
      "\tExperienceForgetting/eval_phase/train_stream/Task000/Exp004 = 0.0523\n",
      "\tMaxRAMUsage_Experience/eval_phase/train_stream/Task000/Exp004 = 182.5312\n",
      "\tTop1_Acc_Exp/eval_phase/train_stream/Task000/Exp004 = 0.7552\n",
      "-- Starting eval on experience 5 (Task 0) from train stream --\n",
      "100%|██████████| 469/469 [00:03<00:00, 136.02it/s]\n",
      "> Eval on experience 5 (Task 0) from train stream ended.\n",
      "\tCPUUsage_Exp/eval_phase/train_stream/Task000/Exp005 = 106.6923\n",
      "\tExperienceBWT/eval_phase/train_stream/Task000/Exp005 = -0.0643\n",
      "\tExperienceForgetting/eval_phase/train_stream/Task000/Exp005 = 0.0643\n",
      "\tMaxRAMUsage_Experience/eval_phase/train_stream/Task000/Exp005 = 182.6719\n",
      "\tTop1_Acc_Exp/eval_phase/train_stream/Task000/Exp005 = 0.7388\n",
      "-- Starting eval on experience 6 (Task 0) from train stream --\n",
      "100%|██████████| 469/469 [00:03<00:00, 134.09it/s]\n",
      "> Eval on experience 6 (Task 0) from train stream ended.\n",
      "\tCPUUsage_Exp/eval_phase/train_stream/Task000/Exp006 = 106.2596\n",
      "\tExperienceBWT/eval_phase/train_stream/Task000/Exp006 = -0.0362\n",
      "\tExperienceForgetting/eval_phase/train_stream/Task000/Exp006 = 0.0362\n",
      "\tMaxRAMUsage_Experience/eval_phase/train_stream/Task000/Exp006 = 184.9688\n",
      "\tTop1_Acc_Exp/eval_phase/train_stream/Task000/Exp006 = 0.7773\n",
      "-- Starting eval on experience 7 (Task 0) from train stream --\n",
      "100%|██████████| 469/469 [00:03<00:00, 136.33it/s]\n",
      "> Eval on experience 7 (Task 0) from train stream ended.\n",
      "\tCPUUsage_Exp/eval_phase/train_stream/Task000/Exp007 = 106.6285\n",
      "\tExperienceBWT/eval_phase/train_stream/Task000/Exp007 = -0.0336\n",
      "\tExperienceForgetting/eval_phase/train_stream/Task000/Exp007 = 0.0336\n",
      "\tMaxRAMUsage_Experience/eval_phase/train_stream/Task000/Exp007 = 150.9219\n",
      "\tTop1_Acc_Exp/eval_phase/train_stream/Task000/Exp007 = 0.7865\n",
      "-- Starting eval on experience 8 (Task 0) from train stream --\n",
      "100%|██████████| 469/469 [00:03<00:00, 135.89it/s]\n",
      "> Eval on experience 8 (Task 0) from train stream ended.\n",
      "\tCPUUsage_Exp/eval_phase/train_stream/Task000/Exp008 = 106.7217\n",
      "\tMaxRAMUsage_Experience/eval_phase/train_stream/Task000/Exp008 = 151.0312\n",
      "\tTop1_Acc_Exp/eval_phase/train_stream/Task000/Exp008 = 0.8219\n",
      "-- Starting eval on experience 9 (Task 0) from train stream --\n",
      "100%|██████████| 469/469 [00:03<00:00, 135.41it/s]\n",
      "> Eval on experience 9 (Task 0) from train stream ended.\n",
      "\tCPUUsage_Exp/eval_phase/train_stream/Task000/Exp009 = 105.5093\n",
      "\tMaxRAMUsage_Experience/eval_phase/train_stream/Task000/Exp009 = 154.6094\n",
      "\tTop1_Acc_Exp/eval_phase/train_stream/Task000/Exp009 = 0.1299\n",
      "-- >> End of eval phase << --\n",
      "\tAccuracy_On_Trained_Experiences/eval_phase/train_stream/Task000 = 0.7264\n",
      "\tCPUUsage_Stream/eval_phase/train_stream/Task000 = 106.6010\n",
      "\tMaxRAMUsage_Stream/eval_phase/train_stream/Task000 = 184.9688\n",
      "\tStreamBWT/eval_phase/train_stream = -0.0786\n",
      "\tStreamForgetting/eval_phase/train_stream = 0.0786\n",
      "\tTop1_Acc_Stream/eval_phase/train_stream/Task000 = 0.6668\n",
      "-- >> Start of eval phase << --\n",
      "-- Starting eval on experience 0 (Task 0) from test stream --\n",
      "100%|██████████| 79/79 [00:00<00:00, 131.66it/s]\n",
      "> Eval on experience 0 (Task 0) from test stream ended.\n",
      "\tCPUUsage_Exp/eval_phase/test_stream/Task000/Exp000 = 107.6503\n",
      "\tExperienceBWT/eval_phase/test_stream/Task000/Exp000 = -0.1599\n",
      "\tExperienceForgetting/eval_phase/test_stream/Task000/Exp000 = 0.1599\n",
      "\tMaxRAMUsage_Experience/eval_phase/test_stream/Task000/Exp000 = 0\n",
      "\tTop1_Acc_Exp/eval_phase/test_stream/Task000/Exp000 = 0.5970\n",
      "-- Starting eval on experience 1 (Task 0) from test stream --\n",
      "100%|██████████| 79/79 [00:00<00:00, 132.72it/s]\n",
      "> Eval on experience 1 (Task 0) from test stream ended.\n",
      "\tCPUUsage_Exp/eval_phase/test_stream/Task000/Exp001 = 104.7650\n",
      "\tExperienceBWT/eval_phase/test_stream/Task000/Exp001 = -0.0738\n",
      "\tExperienceForgetting/eval_phase/test_stream/Task000/Exp001 = 0.0738\n",
      "\tMaxRAMUsage_Experience/eval_phase/test_stream/Task000/Exp001 = 161.0156\n",
      "\tTop1_Acc_Exp/eval_phase/test_stream/Task000/Exp001 = 0.6880\n",
      "-- Starting eval on experience 2 (Task 0) from test stream --\n",
      "100%|██████████| 79/79 [00:00<00:00, 135.85it/s]\n",
      "> Eval on experience 2 (Task 0) from test stream ended.\n",
      "\tCPUUsage_Exp/eval_phase/test_stream/Task000/Exp002 = 106.8935\n",
      "\tExperienceBWT/eval_phase/test_stream/Task000/Exp002 = -0.1317\n",
      "\tExperienceForgetting/eval_phase/test_stream/Task000/Exp002 = 0.1317\n",
      "\tMaxRAMUsage_Experience/eval_phase/test_stream/Task000/Exp002 = 0\n",
      "\tTop1_Acc_Exp/eval_phase/test_stream/Task000/Exp002 = 0.6517\n",
      "-- Starting eval on experience 3 (Task 0) from test stream --\n",
      "100%|██████████| 79/79 [00:00<00:00, 139.06it/s]\n",
      "> Eval on experience 3 (Task 0) from test stream ended.\n",
      "\tCPUUsage_Exp/eval_phase/test_stream/Task000/Exp003 = 107.6795\n",
      "\tExperienceBWT/eval_phase/test_stream/Task000/Exp003 = -0.0563\n",
      "\tExperienceForgetting/eval_phase/test_stream/Task000/Exp003 = 0.0563\n",
      "\tMaxRAMUsage_Experience/eval_phase/test_stream/Task000/Exp003 = 161.9688\n",
      "\tTop1_Acc_Exp/eval_phase/test_stream/Task000/Exp003 = 0.7421\n",
      "-- Starting eval on experience 4 (Task 0) from test stream --\n",
      "100%|██████████| 79/79 [00:00<00:00, 133.03it/s]\n",
      "> Eval on experience 4 (Task 0) from test stream ended.\n",
      "\tCPUUsage_Exp/eval_phase/test_stream/Task000/Exp004 = 105.0166\n",
      "\tExperienceBWT/eval_phase/test_stream/Task000/Exp004 = -0.0527\n",
      "\tExperienceForgetting/eval_phase/test_stream/Task000/Exp004 = 0.0527\n",
      "\tMaxRAMUsage_Experience/eval_phase/test_stream/Task000/Exp004 = 0\n",
      "\tTop1_Acc_Exp/eval_phase/test_stream/Task000/Exp004 = 0.7548\n",
      "-- Starting eval on experience 5 (Task 0) from test stream --\n",
      "100%|██████████| 79/79 [00:00<00:00, 139.99it/s]\n",
      "> Eval on experience 5 (Task 0) from test stream ended.\n",
      "\tCPUUsage_Exp/eval_phase/test_stream/Task000/Exp005 = 107.6150\n",
      "\tExperienceBWT/eval_phase/test_stream/Task000/Exp005 = -0.0617\n",
      "\tExperienceForgetting/eval_phase/test_stream/Task000/Exp005 = 0.0617\n",
      "\tMaxRAMUsage_Experience/eval_phase/test_stream/Task000/Exp005 = 162.8125\n",
      "\tTop1_Acc_Exp/eval_phase/test_stream/Task000/Exp005 = 0.7414\n",
      "-- Starting eval on experience 6 (Task 0) from test stream --\n",
      "100%|██████████| 79/79 [00:00<00:00, 131.76it/s]\n",
      "> Eval on experience 6 (Task 0) from test stream ended.\n",
      "\tCPUUsage_Exp/eval_phase/test_stream/Task000/Exp006 = 105.3946\n",
      "\tExperienceBWT/eval_phase/test_stream/Task000/Exp006 = -0.0338\n",
      "\tExperienceForgetting/eval_phase/test_stream/Task000/Exp006 = 0.0338\n",
      "\tMaxRAMUsage_Experience/eval_phase/test_stream/Task000/Exp006 = 160.4531\n",
      "\tTop1_Acc_Exp/eval_phase/test_stream/Task000/Exp006 = 0.7797\n",
      "-- Starting eval on experience 7 (Task 0) from test stream --\n",
      "100%|██████████| 79/79 [00:00<00:00, 139.90it/s]\n",
      "> Eval on experience 7 (Task 0) from test stream ended.\n",
      "\tCPUUsage_Exp/eval_phase/test_stream/Task000/Exp007 = 107.2428\n",
      "\tExperienceBWT/eval_phase/test_stream/Task000/Exp007 = -0.0228\n",
      "\tExperienceForgetting/eval_phase/test_stream/Task000/Exp007 = 0.0228\n",
      "\tMaxRAMUsage_Experience/eval_phase/test_stream/Task000/Exp007 = 0\n",
      "\tTop1_Acc_Exp/eval_phase/test_stream/Task000/Exp007 = 0.7973\n",
      "-- Starting eval on experience 8 (Task 0) from test stream --\n",
      "100%|██████████| 79/79 [00:00<00:00, 133.24it/s]\n",
      "> Eval on experience 8 (Task 0) from test stream ended.\n",
      "\tCPUUsage_Exp/eval_phase/test_stream/Task000/Exp008 = 104.7958\n",
      "\tMaxRAMUsage_Experience/eval_phase/test_stream/Task000/Exp008 = 161.3125\n",
      "\tTop1_Acc_Exp/eval_phase/test_stream/Task000/Exp008 = 0.8255\n",
      "-- Starting eval on experience 9 (Task 0) from test stream --\n",
      "100%|██████████| 79/79 [00:00<00:00, 130.18it/s]\n",
      "> Eval on experience 9 (Task 0) from test stream ended.\n",
      "\tCPUUsage_Exp/eval_phase/test_stream/Task000/Exp009 = 103.6770\n",
      "\tMaxRAMUsage_Experience/eval_phase/test_stream/Task000/Exp009 = 0\n",
      "\tTop1_Acc_Exp/eval_phase/test_stream/Task000/Exp009 = 0.1289\n"
     ]
    },
    {
     "name": "stderr",
     "output_type": "stream",
     "text": [
      " 90%|█████████ | 9/10 [10:13<01:10, 70.41s/it]"
     ]
    },
    {
     "name": "stdout",
     "output_type": "stream",
     "text": [
      "-- >> End of eval phase << --\n",
      "\tAccuracy_On_Trained_Experiences/eval_phase/test_stream/Task000 = 0.7308\n",
      "\tCPUUsage_Stream/eval_phase/test_stream/Task000 = 106.0198\n",
      "\tMaxRAMUsage_Stream/eval_phase/test_stream/Task000 = 162.8125\n",
      "\tStreamBWT/eval_phase/test_stream = -0.0741\n",
      "\tStreamForgetting/eval_phase/test_stream = 0.0741\n",
      "\tTop1_Acc_Stream/eval_phase/test_stream/Task000 = 0.6706\n",
      "-- >> Start of training phase << --\n",
      "100%|██████████| 469/469 [00:05<00:00, 84.28it/s]\n",
      "Epoch 0 ended.\n",
      "\tRunningTime_Epoch/train_phase/train_stream/Task000 = 0.0000\n",
      "\tTime_Epoch/train_phase/train_stream/Task000 = 5.5653\n",
      "100%|██████████| 469/469 [00:05<00:00, 84.54it/s]\n",
      "Epoch 1 ended.\n",
      "\tRunningTime_Epoch/train_phase/train_stream/Task000 = 0.0000\n",
      "\tTime_Epoch/train_phase/train_stream/Task000 = 5.5481\n",
      "100%|██████████| 469/469 [00:05<00:00, 83.99it/s]\n",
      "Epoch 2 ended.\n",
      "\tRunningTime_Epoch/train_phase/train_stream/Task000 = 0.0000\n",
      "\tTime_Epoch/train_phase/train_stream/Task000 = 5.5841\n",
      "100%|██████████| 469/469 [00:05<00:00, 84.19it/s]\n",
      "Epoch 3 ended.\n",
      "\tRunningTime_Epoch/train_phase/train_stream/Task000 = 0.0000\n",
      "\tTime_Epoch/train_phase/train_stream/Task000 = 5.5712\n",
      "100%|██████████| 469/469 [00:05<00:00, 83.88it/s]\n",
      "Epoch 4 ended.\n",
      "\tRunningTime_Epoch/train_phase/train_stream/Task000 = 0.0000\n",
      "\tTime_Epoch/train_phase/train_stream/Task000 = 5.5918\n",
      "-- >> End of training phase << --\n",
      "-- >> Start of eval phase << --\n",
      "-- Starting eval on experience 0 (Task 0) from train stream --\n",
      "100%|██████████| 469/469 [00:03<00:00, 137.35it/s]\n",
      "> Eval on experience 0 (Task 0) from train stream ended.\n",
      "\tCPUUsage_Exp/eval_phase/train_stream/Task000/Exp000 = 107.0530\n",
      "\tExperienceBWT/eval_phase/train_stream/Task000/Exp000 = -0.1825\n",
      "\tExperienceForgetting/eval_phase/train_stream/Task000/Exp000 = 0.1825\n",
      "\tMaxRAMUsage_Experience/eval_phase/train_stream/Task000/Exp000 = 180.0469\n",
      "\tTop1_Acc_Exp/eval_phase/train_stream/Task000/Exp000 = 0.5744\n",
      "-- Starting eval on experience 1 (Task 0) from train stream --\n",
      "100%|██████████| 469/469 [00:03<00:00, 135.10it/s]\n",
      "> Eval on experience 1 (Task 0) from train stream ended.\n",
      "\tCPUUsage_Exp/eval_phase/train_stream/Task000/Exp001 = 105.9806\n",
      "\tExperienceBWT/eval_phase/train_stream/Task000/Exp001 = -0.1032\n",
      "\tExperienceForgetting/eval_phase/train_stream/Task000/Exp001 = 0.1032\n",
      "\tMaxRAMUsage_Experience/eval_phase/train_stream/Task000/Exp001 = 180.1094\n",
      "\tTop1_Acc_Exp/eval_phase/train_stream/Task000/Exp001 = 0.6586\n",
      "-- Starting eval on experience 2 (Task 0) from train stream --\n",
      "100%|██████████| 469/469 [00:03<00:00, 136.64it/s]\n",
      "> Eval on experience 2 (Task 0) from train stream ended.\n",
      "\tCPUUsage_Exp/eval_phase/train_stream/Task000/Exp002 = 106.7647\n",
      "\tExperienceBWT/eval_phase/train_stream/Task000/Exp002 = -0.1149\n",
      "\tExperienceForgetting/eval_phase/train_stream/Task000/Exp002 = 0.1149\n",
      "\tMaxRAMUsage_Experience/eval_phase/train_stream/Task000/Exp002 = 182.5781\n",
      "\tTop1_Acc_Exp/eval_phase/train_stream/Task000/Exp002 = 0.6684\n",
      "-- Starting eval on experience 3 (Task 0) from train stream --\n",
      "100%|██████████| 469/469 [00:03<00:00, 132.03it/s]\n",
      "> Eval on experience 3 (Task 0) from train stream ended.\n",
      "\tCPUUsage_Exp/eval_phase/train_stream/Task000/Exp003 = 106.2628\n",
      "\tExperienceBWT/eval_phase/train_stream/Task000/Exp003 = -0.0782\n",
      "\tExperienceForgetting/eval_phase/train_stream/Task000/Exp003 = 0.0782\n",
      "\tMaxRAMUsage_Experience/eval_phase/train_stream/Task000/Exp003 = 180.9844\n",
      "\tTop1_Acc_Exp/eval_phase/train_stream/Task000/Exp003 = 0.7202\n",
      "-- Starting eval on experience 4 (Task 0) from train stream --\n",
      "100%|██████████| 469/469 [00:03<00:00, 135.58it/s]\n",
      "> Eval on experience 4 (Task 0) from train stream ended.\n",
      "\tCPUUsage_Exp/eval_phase/train_stream/Task000/Exp004 = 106.3623\n",
      "\tExperienceBWT/eval_phase/train_stream/Task000/Exp004 = -0.0767\n",
      "\tExperienceForgetting/eval_phase/train_stream/Task000/Exp004 = 0.0767\n",
      "\tMaxRAMUsage_Experience/eval_phase/train_stream/Task000/Exp004 = 133.3906\n",
      "\tTop1_Acc_Exp/eval_phase/train_stream/Task000/Exp004 = 0.7308\n",
      "-- Starting eval on experience 5 (Task 0) from train stream --\n",
      "100%|██████████| 469/469 [00:03<00:00, 135.49it/s]\n",
      "> Eval on experience 5 (Task 0) from train stream ended.\n",
      "\tCPUUsage_Exp/eval_phase/train_stream/Task000/Exp005 = 106.3976\n",
      "\tExperienceBWT/eval_phase/train_stream/Task000/Exp005 = -0.0737\n",
      "\tExperienceForgetting/eval_phase/train_stream/Task000/Exp005 = 0.0737\n",
      "\tMaxRAMUsage_Experience/eval_phase/train_stream/Task000/Exp005 = 135.8281\n",
      "\tTop1_Acc_Exp/eval_phase/train_stream/Task000/Exp005 = 0.7294\n",
      "-- Starting eval on experience 6 (Task 0) from train stream --\n",
      "100%|██████████| 469/469 [00:03<00:00, 135.21it/s]\n",
      "> Eval on experience 6 (Task 0) from train stream ended.\n",
      "\tCPUUsage_Exp/eval_phase/train_stream/Task000/Exp006 = 106.6675\n",
      "\tExperienceBWT/eval_phase/train_stream/Task000/Exp006 = -0.0428\n",
      "\tExperienceForgetting/eval_phase/train_stream/Task000/Exp006 = 0.0428\n",
      "\tMaxRAMUsage_Experience/eval_phase/train_stream/Task000/Exp006 = 137.7031\n",
      "\tTop1_Acc_Exp/eval_phase/train_stream/Task000/Exp006 = 0.7707\n",
      "-- Starting eval on experience 7 (Task 0) from train stream --\n",
      "100%|██████████| 469/469 [00:03<00:00, 135.58it/s]\n",
      "> Eval on experience 7 (Task 0) from train stream ended.\n",
      "\tCPUUsage_Exp/eval_phase/train_stream/Task000/Exp007 = 106.2261\n",
      "\tExperienceBWT/eval_phase/train_stream/Task000/Exp007 = -0.0436\n",
      "\tExperienceForgetting/eval_phase/train_stream/Task000/Exp007 = 0.0436\n",
      "\tMaxRAMUsage_Experience/eval_phase/train_stream/Task000/Exp007 = 139.4844\n",
      "\tTop1_Acc_Exp/eval_phase/train_stream/Task000/Exp007 = 0.7765\n",
      "-- Starting eval on experience 8 (Task 0) from train stream --\n",
      "100%|██████████| 469/469 [00:03<00:00, 132.04it/s]\n",
      "> Eval on experience 8 (Task 0) from train stream ended.\n",
      "\tCPUUsage_Exp/eval_phase/train_stream/Task000/Exp008 = 104.5913\n",
      "\tExperienceBWT/eval_phase/train_stream/Task000/Exp008 = -0.0356\n",
      "\tExperienceForgetting/eval_phase/train_stream/Task000/Exp008 = 0.0356\n",
      "\tMaxRAMUsage_Experience/eval_phase/train_stream/Task000/Exp008 = 141.8906\n",
      "\tTop1_Acc_Exp/eval_phase/train_stream/Task000/Exp008 = 0.7899\n",
      "-- Starting eval on experience 9 (Task 0) from train stream --\n",
      "100%|██████████| 469/469 [00:03<00:00, 135.09it/s]\n",
      "> Eval on experience 9 (Task 0) from train stream ended.\n",
      "\tCPUUsage_Exp/eval_phase/train_stream/Task000/Exp009 = 106.5632\n",
      "\tMaxRAMUsage_Experience/eval_phase/train_stream/Task000/Exp009 = 138.5312\n",
      "\tTop1_Acc_Exp/eval_phase/train_stream/Task000/Exp009 = 0.8154\n",
      "-- >> End of eval phase << --\n",
      "\tAccuracy_On_Trained_Experiences/eval_phase/train_stream/Task000 = 0.7234\n",
      "\tCPUUsage_Stream/eval_phase/train_stream/Task000 = 106.2686\n",
      "\tMaxRAMUsage_Stream/eval_phase/train_stream/Task000 = 182.5781\n",
      "\tStreamBWT/eval_phase/train_stream = -0.0835\n",
      "\tStreamForgetting/eval_phase/train_stream = 0.0835\n",
      "\tTop1_Acc_Stream/eval_phase/train_stream/Task000 = 0.7234\n",
      "-- >> Start of eval phase << --\n",
      "-- Starting eval on experience 0 (Task 0) from test stream --\n",
      "100%|██████████| 79/79 [00:00<00:00, 124.38it/s]\n",
      "> Eval on experience 0 (Task 0) from test stream ended.\n",
      "\tCPUUsage_Exp/eval_phase/test_stream/Task000/Exp000 = 102.2931\n",
      "\tExperienceBWT/eval_phase/test_stream/Task000/Exp000 = -0.1755\n",
      "\tExperienceForgetting/eval_phase/test_stream/Task000/Exp000 = 0.1755\n",
      "\tMaxRAMUsage_Experience/eval_phase/test_stream/Task000/Exp000 = 0\n",
      "\tTop1_Acc_Exp/eval_phase/test_stream/Task000/Exp000 = 0.5814\n",
      "-- Starting eval on experience 1 (Task 0) from test stream --\n",
      "100%|██████████| 79/79 [00:00<00:00, 139.32it/s]\n",
      "> Eval on experience 1 (Task 0) from test stream ended.\n",
      "\tCPUUsage_Exp/eval_phase/test_stream/Task000/Exp001 = 107.3933\n",
      "\tExperienceBWT/eval_phase/test_stream/Task000/Exp001 = -0.0907\n",
      "\tExperienceForgetting/eval_phase/test_stream/Task000/Exp001 = 0.0907\n",
      "\tMaxRAMUsage_Experience/eval_phase/test_stream/Task000/Exp001 = 142.8438\n",
      "\tTop1_Acc_Exp/eval_phase/test_stream/Task000/Exp001 = 0.6711\n",
      "-- Starting eval on experience 2 (Task 0) from test stream --\n",
      "100%|██████████| 79/79 [00:00<00:00, 132.97it/s]\n",
      "> Eval on experience 2 (Task 0) from test stream ended.\n",
      "\tCPUUsage_Exp/eval_phase/test_stream/Task000/Exp002 = 104.5117\n",
      "\tExperienceBWT/eval_phase/test_stream/Task000/Exp002 = -0.1183\n",
      "\tExperienceForgetting/eval_phase/test_stream/Task000/Exp002 = 0.1183\n",
      "\tMaxRAMUsage_Experience/eval_phase/test_stream/Task000/Exp002 = 0\n",
      "\tTop1_Acc_Exp/eval_phase/test_stream/Task000/Exp002 = 0.6651\n",
      "-- Starting eval on experience 3 (Task 0) from test stream --\n",
      "100%|██████████| 79/79 [00:00<00:00, 138.84it/s]\n",
      "> Eval on experience 3 (Task 0) from test stream ended.\n",
      "\tCPUUsage_Exp/eval_phase/test_stream/Task000/Exp003 = 107.6166\n",
      "\tExperienceBWT/eval_phase/test_stream/Task000/Exp003 = -0.0754\n",
      "\tExperienceForgetting/eval_phase/test_stream/Task000/Exp003 = 0.0754\n",
      "\tMaxRAMUsage_Experience/eval_phase/test_stream/Task000/Exp003 = 143.6875\n",
      "\tTop1_Acc_Exp/eval_phase/test_stream/Task000/Exp003 = 0.7230\n",
      "-- Starting eval on experience 4 (Task 0) from test stream --\n",
      "100%|██████████| 79/79 [00:00<00:00, 129.94it/s]\n",
      "> Eval on experience 4 (Task 0) from test stream ended.\n",
      "\tCPUUsage_Exp/eval_phase/test_stream/Task000/Exp004 = 104.2986\n",
      "\tExperienceBWT/eval_phase/test_stream/Task000/Exp004 = -0.0756\n",
      "\tExperienceForgetting/eval_phase/test_stream/Task000/Exp004 = 0.0756\n",
      "\tMaxRAMUsage_Experience/eval_phase/test_stream/Task000/Exp004 = 0\n",
      "\tTop1_Acc_Exp/eval_phase/test_stream/Task000/Exp004 = 0.7319\n",
      "-- Starting eval on experience 5 (Task 0) from test stream --\n",
      "100%|██████████| 79/79 [00:00<00:00, 139.87it/s]\n",
      "> Eval on experience 5 (Task 0) from test stream ended.\n",
      "\tCPUUsage_Exp/eval_phase/test_stream/Task000/Exp005 = 107.6597\n",
      "\tExperienceBWT/eval_phase/test_stream/Task000/Exp005 = -0.0751\n",
      "\tExperienceForgetting/eval_phase/test_stream/Task000/Exp005 = 0.0751\n",
      "\tMaxRAMUsage_Experience/eval_phase/test_stream/Task000/Exp005 = 145.6875\n",
      "\tTop1_Acc_Exp/eval_phase/test_stream/Task000/Exp005 = 0.7280\n",
      "-- Starting eval on experience 6 (Task 0) from test stream --\n",
      "100%|██████████| 79/79 [00:00<00:00, 132.57it/s]\n",
      "> Eval on experience 6 (Task 0) from test stream ended.\n",
      "\tCPUUsage_Exp/eval_phase/test_stream/Task000/Exp006 = 104.8592\n",
      "\tExperienceBWT/eval_phase/test_stream/Task000/Exp006 = -0.0356\n",
      "\tExperienceForgetting/eval_phase/test_stream/Task000/Exp006 = 0.0356\n",
      "\tMaxRAMUsage_Experience/eval_phase/test_stream/Task000/Exp006 = 146.4219\n",
      "\tTop1_Acc_Exp/eval_phase/test_stream/Task000/Exp006 = 0.7779\n",
      "-- Starting eval on experience 7 (Task 0) from test stream --\n",
      "100%|██████████| 79/79 [00:00<00:00, 136.04it/s]\n",
      "> Eval on experience 7 (Task 0) from test stream ended.\n",
      "\tCPUUsage_Exp/eval_phase/test_stream/Task000/Exp007 = 106.8716\n",
      "\tExperienceBWT/eval_phase/test_stream/Task000/Exp007 = -0.0291\n",
      "\tExperienceForgetting/eval_phase/test_stream/Task000/Exp007 = 0.0291\n",
      "\tMaxRAMUsage_Experience/eval_phase/test_stream/Task000/Exp007 = 0\n",
      "\tTop1_Acc_Exp/eval_phase/test_stream/Task000/Exp007 = 0.7910\n",
      "-- Starting eval on experience 8 (Task 0) from test stream --\n",
      "100%|██████████| 79/79 [00:00<00:00, 132.12it/s]\n",
      "> Eval on experience 8 (Task 0) from test stream ended.\n",
      "\tCPUUsage_Exp/eval_phase/test_stream/Task000/Exp008 = 104.4599\n",
      "\tExperienceBWT/eval_phase/test_stream/Task000/Exp008 = -0.0292\n",
      "\tExperienceForgetting/eval_phase/test_stream/Task000/Exp008 = 0.0292\n",
      "\tMaxRAMUsage_Experience/eval_phase/test_stream/Task000/Exp008 = 147.5781\n",
      "\tTop1_Acc_Exp/eval_phase/test_stream/Task000/Exp008 = 0.7963\n",
      "-- Starting eval on experience 9 (Task 0) from test stream --\n",
      "100%|██████████| 79/79 [00:00<00:00, 139.54it/s]\n",
      "> Eval on experience 9 (Task 0) from test stream ended.\n",
      "\tCPUUsage_Exp/eval_phase/test_stream/Task000/Exp009 = 107.4374\n",
      "\tMaxRAMUsage_Experience/eval_phase/test_stream/Task000/Exp009 = 0\n",
      "\tTop1_Acc_Exp/eval_phase/test_stream/Task000/Exp009 = 0.8175\n"
     ]
    },
    {
     "name": "stderr",
     "output_type": "stream",
     "text": [
      "100%|██████████| 10/10 [11:26<00:00, 68.67s/it]"
     ]
    },
    {
     "name": "stdout",
     "output_type": "stream",
     "text": [
      "-- >> End of eval phase << --\n",
      "\tAccuracy_On_Trained_Experiences/eval_phase/test_stream/Task000 = 0.7283\n",
      "\tCPUUsage_Stream/eval_phase/test_stream/Task000 = 105.6563\n",
      "\tMaxRAMUsage_Stream/eval_phase/test_stream/Task000 = 147.6406\n",
      "\tStreamBWT/eval_phase/test_stream = -0.0783\n",
      "\tStreamForgetting/eval_phase/test_stream = 0.0783\n",
      "\tTop1_Acc_Stream/eval_phase/test_stream/Task000 = 0.7283\n"
     ]
    },
    {
     "name": "stderr",
     "output_type": "stream",
     "text": [
      "\n"
     ]
    }
   ],
   "source": [
    "results = list()\n",
    "\n",
    "for experience in tqdm(train_stream):\n",
    "    strategy.train(experience)\n",
    "\n",
    "    # eval on the whole train stream\n",
    "    metrics = strategy.eval(train_stream)\n",
    "    results.append(metrics)\n",
    "\n",
    "    # eval on test\n",
    "    metrics = strategy.eval(test_stream)\n",
    "    results.append(metrics)"
   ]
  },
  {
   "cell_type": "markdown",
   "metadata": {},
   "source": [
    "# Get metrics"
   ]
  },
  {
   "cell_type": "markdown",
   "metadata": {},
   "source": [
    "## Training Accuracies"
   ]
  },
  {
   "cell_type": "code",
   "execution_count": 21,
   "metadata": {},
   "outputs": [],
   "source": [
    "training_accuracies: dict[int, list[float]] = dict()\n",
    "\n",
    "for i in range(10):\n",
    "    training_accuracies[f\"Task{i}\"] = eval_plugin.get_all_metrics()[\n",
    "        f\"Top1_Acc_Exp/eval_phase/train_stream/Task000/Exp00{i}\"\n",
    "    ][1]\n",
    "\n",
    "training_accuracies[\"Overall\"] = eval_plugin.get_all_metrics()[\n",
    "    \"Top1_Acc_Stream/eval_phase/train_stream/Task000\"\n",
    "][1]"
   ]
  },
  {
   "cell_type": "markdown",
   "metadata": {},
   "source": [
    "## Evaluation Accuracies"
   ]
  },
  {
   "cell_type": "code",
   "execution_count": 22,
   "metadata": {},
   "outputs": [],
   "source": [
    "accuracies: dict[int, list[float]] = dict()\n",
    "\n",
    "for i in range(10):\n",
    "    accuracies[f\"Task{i}\"] = eval_plugin.get_all_metrics()[\n",
    "        f\"Top1_Acc_Exp/eval_phase/test_stream/Task000/Exp00{i}\"\n",
    "    ][1]\n",
    "\n",
    "accuracies[\"Overall\"] = eval_plugin.get_all_metrics()[\n",
    "    \"Top1_Acc_Stream/eval_phase/test_stream/Task000\"\n",
    "][1]"
   ]
  },
  {
   "cell_type": "markdown",
   "metadata": {},
   "source": [
    "## Forgetting measure"
   ]
  },
  {
   "cell_type": "code",
   "execution_count": 23,
   "metadata": {},
   "outputs": [],
   "source": [
    "forgetting_measures: dict[int, list[float]] = dict()\n",
    "\n",
    "for i in range(9):\n",
    "    forgetting_measures[f\"Task{i}\"] = eval_plugin.get_all_metrics()[\n",
    "        f\"ExperienceForgetting/eval_phase/test_stream/Task000/Exp00{i}\"\n",
    "    ][1]\n",
    "forgetting_measures[\"Overall\"] = eval_plugin.get_all_metrics()[\n",
    "    \"StreamForgetting/eval_phase/test_stream\"\n",
    "][1]"
   ]
  },
  {
   "cell_type": "markdown",
   "metadata": {},
   "source": [
    "## Backward Transfer"
   ]
  },
  {
   "cell_type": "code",
   "execution_count": 24,
   "metadata": {},
   "outputs": [],
   "source": [
    "bwts: dict[int, list[float]] = dict()\n",
    "\n",
    "for i in range(9):\n",
    "    bwts[f\"Task{i}\"] = eval_plugin.get_all_metrics()[\n",
    "        f\"ExperienceBWT/eval_phase/test_stream/Task000/Exp00{i}\"\n",
    "    ][1]\n",
    "bwts[\"Overall\"] = eval_plugin.get_all_metrics()[\n",
    "    \"StreamBWT/eval_phase/test_stream\"\n",
    "][1]"
   ]
  },
  {
   "cell_type": "markdown",
   "metadata": {},
   "source": [
    "# Plotting metrics"
   ]
  },
  {
   "cell_type": "markdown",
   "metadata": {},
   "source": [
    "## Traning accuracies"
   ]
  },
  {
   "cell_type": "code",
   "execution_count": 25,
   "metadata": {},
   "outputs": [
    {
     "data": {
      "application/vnd.plotly.v1+json": {
       "config": {
        "plotlyServerURL": "https://plot.ly"
       },
       "data": [
        {
         "hovertemplate": "variable=Task0<br>index=%{x}<br>value=%{y}<extra></extra>",
         "legendgroup": "Task0",
         "line": {
          "color": "#636efa",
          "dash": "solid"
         },
         "marker": {
          "symbol": "circle"
         },
         "mode": "lines",
         "name": "Task0",
         "orientation": "v",
         "showlegend": true,
         "type": "scatter",
         "x": [
          0,
          1,
          2,
          3,
          4,
          5,
          6,
          7,
          8,
          9
         ],
         "xaxis": "x",
         "y": [
          0.75255,
          0.7031166666666666,
          0.6349666666666667,
          0.5963333333333334,
          0.6141833333333333,
          0.5684666666666667,
          0.6102166666666666,
          0.5644,
          0.5871333333333333,
          0.5744
         ],
         "yaxis": "y"
        },
        {
         "hovertemplate": "variable=Task1<br>index=%{x}<br>value=%{y}<extra></extra>",
         "legendgroup": "Task1",
         "line": {
          "color": "#EF553B",
          "dash": "solid"
         },
         "marker": {
          "symbol": "circle"
         },
         "mode": "lines",
         "name": "Task1",
         "orientation": "v",
         "showlegend": true,
         "type": "scatter",
         "x": [
          0,
          1,
          2,
          3,
          4,
          5,
          6,
          7,
          8,
          9
         ],
         "xaxis": "x",
         "y": [
          0.13976666666666668,
          0.7578833333333334,
          0.7508333333333334,
          0.7443833333333333,
          0.7375,
          0.70545,
          0.7026166666666667,
          0.6943333333333334,
          0.6770666666666667,
          0.6586
         ],
         "yaxis": "y"
        },
        {
         "hovertemplate": "variable=Task2<br>index=%{x}<br>value=%{y}<extra></extra>",
         "legendgroup": "Task2",
         "line": {
          "color": "#00cc96",
          "dash": "solid"
         },
         "marker": {
          "symbol": "circle"
         },
         "mode": "lines",
         "name": "Task2",
         "orientation": "v",
         "showlegend": true,
         "type": "scatter",
         "x": [
          0,
          1,
          2,
          3,
          4,
          5,
          6,
          7,
          8,
          9
         ],
         "xaxis": "x",
         "y": [
          0.14401666666666665,
          0.19841666666666666,
          0.77555,
          0.7719666666666667,
          0.7687833333333334,
          0.7599333333333333,
          0.7139833333333333,
          0.7007166666666667,
          0.6584666666666666,
          0.66845
         ],
         "yaxis": "y"
        },
        {
         "hovertemplate": "variable=Task3<br>index=%{x}<br>value=%{y}<extra></extra>",
         "legendgroup": "Task3",
         "line": {
          "color": "#ab63fa",
          "dash": "solid"
         },
         "marker": {
          "symbol": "circle"
         },
         "mode": "lines",
         "name": "Task3",
         "orientation": "v",
         "showlegend": true,
         "type": "scatter",
         "x": [
          0,
          1,
          2,
          3,
          4,
          5,
          6,
          7,
          8,
          9
         ],
         "xaxis": "x",
         "y": [
          0.13425,
          0.15016666666666667,
          0.13525,
          0.7922166666666667,
          0.7757833333333334,
          0.7614666666666666,
          0.7507666666666667,
          0.7535833333333334,
          0.73545,
          0.7201833333333333
         ],
         "yaxis": "y"
        },
        {
         "hovertemplate": "variable=Task4<br>index=%{x}<br>value=%{y}<extra></extra>",
         "legendgroup": "Task4",
         "line": {
          "color": "#FFA15A",
          "dash": "solid"
         },
         "marker": {
          "symbol": "circle"
         },
         "mode": "lines",
         "name": "Task4",
         "orientation": "v",
         "showlegend": true,
         "type": "scatter",
         "x": [
          0,
          1,
          2,
          3,
          4,
          5,
          6,
          7,
          8,
          9
         ],
         "xaxis": "x",
         "y": [
          0.0943,
          0.14851666666666666,
          0.12766666666666668,
          0.11995,
          0.8012333333333334,
          0.7908333333333334,
          0.768,
          0.74695,
          0.7552166666666666,
          0.7307833333333333
         ],
         "yaxis": "y"
        },
        {
         "hovertemplate": "variable=Task5<br>index=%{x}<br>value=%{y}<extra></extra>",
         "legendgroup": "Task5",
         "line": {
          "color": "#19d3f3",
          "dash": "solid"
         },
         "marker": {
          "symbol": "circle"
         },
         "mode": "lines",
         "name": "Task5",
         "orientation": "v",
         "showlegend": true,
         "type": "scatter",
         "x": [
          0,
          1,
          2,
          3,
          4,
          5,
          6,
          7,
          8,
          9
         ],
         "xaxis": "x",
         "y": [
          0.10938333333333333,
          0.10301666666666667,
          0.14606666666666668,
          0.0977,
          0.11533333333333333,
          0.7972666666666667,
          0.7725833333333333,
          0.76725,
          0.7388166666666667,
          0.7294166666666667
         ],
         "yaxis": "y"
        },
        {
         "hovertemplate": "variable=Task6<br>index=%{x}<br>value=%{y}<extra></extra>",
         "legendgroup": "Task6",
         "line": {
          "color": "#FF6692",
          "dash": "solid"
         },
         "marker": {
          "symbol": "circle"
         },
         "mode": "lines",
         "name": "Task6",
         "orientation": "v",
         "showlegend": true,
         "type": "scatter",
         "x": [
          0,
          1,
          2,
          3,
          4,
          5,
          6,
          7,
          8,
          9
         ],
         "xaxis": "x",
         "y": [
          0.24493333333333334,
          0.20473333333333332,
          0.18318333333333334,
          0.19575,
          0.1524,
          0.19241666666666668,
          0.8083833333333333,
          0.7914333333333333,
          0.7772833333333333,
          0.7706666666666667
         ],
         "yaxis": "y"
        },
        {
         "hovertemplate": "variable=Task7<br>index=%{x}<br>value=%{y}<extra></extra>",
         "legendgroup": "Task7",
         "line": {
          "color": "#B6E880",
          "dash": "solid"
         },
         "marker": {
          "symbol": "circle"
         },
         "mode": "lines",
         "name": "Task7",
         "orientation": "v",
         "showlegend": true,
         "type": "scatter",
         "x": [
          0,
          1,
          2,
          3,
          4,
          5,
          6,
          7,
          8,
          9
         ],
         "xaxis": "x",
         "y": [
          0.15095,
          0.13393333333333332,
          0.15458333333333332,
          0.1866,
          0.1688,
          0.18565,
          0.1688,
          0.8131,
          0.7865166666666666,
          0.7764833333333333
         ],
         "yaxis": "y"
        },
        {
         "hovertemplate": "variable=Task8<br>index=%{x}<br>value=%{y}<extra></extra>",
         "legendgroup": "Task8",
         "line": {
          "color": "#FF97FF",
          "dash": "solid"
         },
         "marker": {
          "symbol": "circle"
         },
         "mode": "lines",
         "name": "Task8",
         "orientation": "v",
         "showlegend": true,
         "type": "scatter",
         "x": [
          0,
          1,
          2,
          3,
          4,
          5,
          6,
          7,
          8,
          9
         ],
         "xaxis": "x",
         "y": [
          0.14406666666666668,
          0.13743333333333332,
          0.1532,
          0.13546666666666668,
          0.1691,
          0.16555,
          0.15521666666666667,
          0.12686666666666666,
          0.8219333333333333,
          0.7899166666666667
         ],
         "yaxis": "y"
        },
        {
         "hovertemplate": "variable=Task9<br>index=%{x}<br>value=%{y}<extra></extra>",
         "legendgroup": "Task9",
         "line": {
          "color": "#FECB52",
          "dash": "solid"
         },
         "marker": {
          "symbol": "circle"
         },
         "mode": "lines",
         "name": "Task9",
         "orientation": "v",
         "showlegend": true,
         "type": "scatter",
         "x": [
          0,
          1,
          2,
          3,
          4,
          5,
          6,
          7,
          8,
          9
         ],
         "xaxis": "x",
         "y": [
          0.1746,
          0.20923333333333333,
          0.19173333333333334,
          0.14411666666666667,
          0.14888333333333334,
          0.12326666666666666,
          0.10373333333333333,
          0.11606666666666667,
          0.12991666666666668,
          0.8154166666666667
         ],
         "yaxis": "y"
        },
        {
         "hovertemplate": "variable=Overall<br>index=%{x}<br>value=%{y}<extra></extra>",
         "legendgroup": "Overall",
         "line": {
          "color": "#636efa",
          "dash": "solid"
         },
         "marker": {
          "symbol": "circle"
         },
         "mode": "lines",
         "name": "Overall",
         "orientation": "v",
         "showlegend": true,
         "type": "scatter",
         "x": [
          0,
          1,
          2,
          3,
          4,
          5,
          6,
          7,
          8,
          9
         ],
         "xaxis": "x",
         "y": [
          0.20888166666666666,
          0.274645,
          0.32530333333333333,
          0.37844833333333333,
          0.4452,
          0.50503,
          0.55543,
          0.60747,
          0.66678,
          0.7234316666666667
         ],
         "yaxis": "y"
        }
       ],
       "layout": {
        "legend": {
         "title": {
          "text": "variable"
         },
         "tracegroupgap": 0
        },
        "template": {
         "data": {
          "bar": [
           {
            "error_x": {
             "color": "#2a3f5f"
            },
            "error_y": {
             "color": "#2a3f5f"
            },
            "marker": {
             "line": {
              "color": "#E5ECF6",
              "width": 0.5
             },
             "pattern": {
              "fillmode": "overlay",
              "size": 10,
              "solidity": 0.2
             }
            },
            "type": "bar"
           }
          ],
          "barpolar": [
           {
            "marker": {
             "line": {
              "color": "#E5ECF6",
              "width": 0.5
             },
             "pattern": {
              "fillmode": "overlay",
              "size": 10,
              "solidity": 0.2
             }
            },
            "type": "barpolar"
           }
          ],
          "carpet": [
           {
            "aaxis": {
             "endlinecolor": "#2a3f5f",
             "gridcolor": "white",
             "linecolor": "white",
             "minorgridcolor": "white",
             "startlinecolor": "#2a3f5f"
            },
            "baxis": {
             "endlinecolor": "#2a3f5f",
             "gridcolor": "white",
             "linecolor": "white",
             "minorgridcolor": "white",
             "startlinecolor": "#2a3f5f"
            },
            "type": "carpet"
           }
          ],
          "choropleth": [
           {
            "colorbar": {
             "outlinewidth": 0,
             "ticks": ""
            },
            "type": "choropleth"
           }
          ],
          "contour": [
           {
            "colorbar": {
             "outlinewidth": 0,
             "ticks": ""
            },
            "colorscale": [
             [
              0,
              "#0d0887"
             ],
             [
              0.1111111111111111,
              "#46039f"
             ],
             [
              0.2222222222222222,
              "#7201a8"
             ],
             [
              0.3333333333333333,
              "#9c179e"
             ],
             [
              0.4444444444444444,
              "#bd3786"
             ],
             [
              0.5555555555555556,
              "#d8576b"
             ],
             [
              0.6666666666666666,
              "#ed7953"
             ],
             [
              0.7777777777777778,
              "#fb9f3a"
             ],
             [
              0.8888888888888888,
              "#fdca26"
             ],
             [
              1,
              "#f0f921"
             ]
            ],
            "type": "contour"
           }
          ],
          "contourcarpet": [
           {
            "colorbar": {
             "outlinewidth": 0,
             "ticks": ""
            },
            "type": "contourcarpet"
           }
          ],
          "heatmap": [
           {
            "colorbar": {
             "outlinewidth": 0,
             "ticks": ""
            },
            "colorscale": [
             [
              0,
              "#0d0887"
             ],
             [
              0.1111111111111111,
              "#46039f"
             ],
             [
              0.2222222222222222,
              "#7201a8"
             ],
             [
              0.3333333333333333,
              "#9c179e"
             ],
             [
              0.4444444444444444,
              "#bd3786"
             ],
             [
              0.5555555555555556,
              "#d8576b"
             ],
             [
              0.6666666666666666,
              "#ed7953"
             ],
             [
              0.7777777777777778,
              "#fb9f3a"
             ],
             [
              0.8888888888888888,
              "#fdca26"
             ],
             [
              1,
              "#f0f921"
             ]
            ],
            "type": "heatmap"
           }
          ],
          "heatmapgl": [
           {
            "colorbar": {
             "outlinewidth": 0,
             "ticks": ""
            },
            "colorscale": [
             [
              0,
              "#0d0887"
             ],
             [
              0.1111111111111111,
              "#46039f"
             ],
             [
              0.2222222222222222,
              "#7201a8"
             ],
             [
              0.3333333333333333,
              "#9c179e"
             ],
             [
              0.4444444444444444,
              "#bd3786"
             ],
             [
              0.5555555555555556,
              "#d8576b"
             ],
             [
              0.6666666666666666,
              "#ed7953"
             ],
             [
              0.7777777777777778,
              "#fb9f3a"
             ],
             [
              0.8888888888888888,
              "#fdca26"
             ],
             [
              1,
              "#f0f921"
             ]
            ],
            "type": "heatmapgl"
           }
          ],
          "histogram": [
           {
            "marker": {
             "pattern": {
              "fillmode": "overlay",
              "size": 10,
              "solidity": 0.2
             }
            },
            "type": "histogram"
           }
          ],
          "histogram2d": [
           {
            "colorbar": {
             "outlinewidth": 0,
             "ticks": ""
            },
            "colorscale": [
             [
              0,
              "#0d0887"
             ],
             [
              0.1111111111111111,
              "#46039f"
             ],
             [
              0.2222222222222222,
              "#7201a8"
             ],
             [
              0.3333333333333333,
              "#9c179e"
             ],
             [
              0.4444444444444444,
              "#bd3786"
             ],
             [
              0.5555555555555556,
              "#d8576b"
             ],
             [
              0.6666666666666666,
              "#ed7953"
             ],
             [
              0.7777777777777778,
              "#fb9f3a"
             ],
             [
              0.8888888888888888,
              "#fdca26"
             ],
             [
              1,
              "#f0f921"
             ]
            ],
            "type": "histogram2d"
           }
          ],
          "histogram2dcontour": [
           {
            "colorbar": {
             "outlinewidth": 0,
             "ticks": ""
            },
            "colorscale": [
             [
              0,
              "#0d0887"
             ],
             [
              0.1111111111111111,
              "#46039f"
             ],
             [
              0.2222222222222222,
              "#7201a8"
             ],
             [
              0.3333333333333333,
              "#9c179e"
             ],
             [
              0.4444444444444444,
              "#bd3786"
             ],
             [
              0.5555555555555556,
              "#d8576b"
             ],
             [
              0.6666666666666666,
              "#ed7953"
             ],
             [
              0.7777777777777778,
              "#fb9f3a"
             ],
             [
              0.8888888888888888,
              "#fdca26"
             ],
             [
              1,
              "#f0f921"
             ]
            ],
            "type": "histogram2dcontour"
           }
          ],
          "mesh3d": [
           {
            "colorbar": {
             "outlinewidth": 0,
             "ticks": ""
            },
            "type": "mesh3d"
           }
          ],
          "parcoords": [
           {
            "line": {
             "colorbar": {
              "outlinewidth": 0,
              "ticks": ""
             }
            },
            "type": "parcoords"
           }
          ],
          "pie": [
           {
            "automargin": true,
            "type": "pie"
           }
          ],
          "scatter": [
           {
            "fillpattern": {
             "fillmode": "overlay",
             "size": 10,
             "solidity": 0.2
            },
            "type": "scatter"
           }
          ],
          "scatter3d": [
           {
            "line": {
             "colorbar": {
              "outlinewidth": 0,
              "ticks": ""
             }
            },
            "marker": {
             "colorbar": {
              "outlinewidth": 0,
              "ticks": ""
             }
            },
            "type": "scatter3d"
           }
          ],
          "scattercarpet": [
           {
            "marker": {
             "colorbar": {
              "outlinewidth": 0,
              "ticks": ""
             }
            },
            "type": "scattercarpet"
           }
          ],
          "scattergeo": [
           {
            "marker": {
             "colorbar": {
              "outlinewidth": 0,
              "ticks": ""
             }
            },
            "type": "scattergeo"
           }
          ],
          "scattergl": [
           {
            "marker": {
             "colorbar": {
              "outlinewidth": 0,
              "ticks": ""
             }
            },
            "type": "scattergl"
           }
          ],
          "scattermapbox": [
           {
            "marker": {
             "colorbar": {
              "outlinewidth": 0,
              "ticks": ""
             }
            },
            "type": "scattermapbox"
           }
          ],
          "scatterpolar": [
           {
            "marker": {
             "colorbar": {
              "outlinewidth": 0,
              "ticks": ""
             }
            },
            "type": "scatterpolar"
           }
          ],
          "scatterpolargl": [
           {
            "marker": {
             "colorbar": {
              "outlinewidth": 0,
              "ticks": ""
             }
            },
            "type": "scatterpolargl"
           }
          ],
          "scatterternary": [
           {
            "marker": {
             "colorbar": {
              "outlinewidth": 0,
              "ticks": ""
             }
            },
            "type": "scatterternary"
           }
          ],
          "surface": [
           {
            "colorbar": {
             "outlinewidth": 0,
             "ticks": ""
            },
            "colorscale": [
             [
              0,
              "#0d0887"
             ],
             [
              0.1111111111111111,
              "#46039f"
             ],
             [
              0.2222222222222222,
              "#7201a8"
             ],
             [
              0.3333333333333333,
              "#9c179e"
             ],
             [
              0.4444444444444444,
              "#bd3786"
             ],
             [
              0.5555555555555556,
              "#d8576b"
             ],
             [
              0.6666666666666666,
              "#ed7953"
             ],
             [
              0.7777777777777778,
              "#fb9f3a"
             ],
             [
              0.8888888888888888,
              "#fdca26"
             ],
             [
              1,
              "#f0f921"
             ]
            ],
            "type": "surface"
           }
          ],
          "table": [
           {
            "cells": {
             "fill": {
              "color": "#EBF0F8"
             },
             "line": {
              "color": "white"
             }
            },
            "header": {
             "fill": {
              "color": "#C8D4E3"
             },
             "line": {
              "color": "white"
             }
            },
            "type": "table"
           }
          ]
         },
         "layout": {
          "annotationdefaults": {
           "arrowcolor": "#2a3f5f",
           "arrowhead": 0,
           "arrowwidth": 1
          },
          "autotypenumbers": "strict",
          "coloraxis": {
           "colorbar": {
            "outlinewidth": 0,
            "ticks": ""
           }
          },
          "colorscale": {
           "diverging": [
            [
             0,
             "#8e0152"
            ],
            [
             0.1,
             "#c51b7d"
            ],
            [
             0.2,
             "#de77ae"
            ],
            [
             0.3,
             "#f1b6da"
            ],
            [
             0.4,
             "#fde0ef"
            ],
            [
             0.5,
             "#f7f7f7"
            ],
            [
             0.6,
             "#e6f5d0"
            ],
            [
             0.7,
             "#b8e186"
            ],
            [
             0.8,
             "#7fbc41"
            ],
            [
             0.9,
             "#4d9221"
            ],
            [
             1,
             "#276419"
            ]
           ],
           "sequential": [
            [
             0,
             "#0d0887"
            ],
            [
             0.1111111111111111,
             "#46039f"
            ],
            [
             0.2222222222222222,
             "#7201a8"
            ],
            [
             0.3333333333333333,
             "#9c179e"
            ],
            [
             0.4444444444444444,
             "#bd3786"
            ],
            [
             0.5555555555555556,
             "#d8576b"
            ],
            [
             0.6666666666666666,
             "#ed7953"
            ],
            [
             0.7777777777777778,
             "#fb9f3a"
            ],
            [
             0.8888888888888888,
             "#fdca26"
            ],
            [
             1,
             "#f0f921"
            ]
           ],
           "sequentialminus": [
            [
             0,
             "#0d0887"
            ],
            [
             0.1111111111111111,
             "#46039f"
            ],
            [
             0.2222222222222222,
             "#7201a8"
            ],
            [
             0.3333333333333333,
             "#9c179e"
            ],
            [
             0.4444444444444444,
             "#bd3786"
            ],
            [
             0.5555555555555556,
             "#d8576b"
            ],
            [
             0.6666666666666666,
             "#ed7953"
            ],
            [
             0.7777777777777778,
             "#fb9f3a"
            ],
            [
             0.8888888888888888,
             "#fdca26"
            ],
            [
             1,
             "#f0f921"
            ]
           ]
          },
          "colorway": [
           "#636efa",
           "#EF553B",
           "#00cc96",
           "#ab63fa",
           "#FFA15A",
           "#19d3f3",
           "#FF6692",
           "#B6E880",
           "#FF97FF",
           "#FECB52"
          ],
          "font": {
           "color": "#2a3f5f"
          },
          "geo": {
           "bgcolor": "white",
           "lakecolor": "white",
           "landcolor": "#E5ECF6",
           "showlakes": true,
           "showland": true,
           "subunitcolor": "white"
          },
          "hoverlabel": {
           "align": "left"
          },
          "hovermode": "closest",
          "mapbox": {
           "style": "light"
          },
          "paper_bgcolor": "white",
          "plot_bgcolor": "#E5ECF6",
          "polar": {
           "angularaxis": {
            "gridcolor": "white",
            "linecolor": "white",
            "ticks": ""
           },
           "bgcolor": "#E5ECF6",
           "radialaxis": {
            "gridcolor": "white",
            "linecolor": "white",
            "ticks": ""
           }
          },
          "scene": {
           "xaxis": {
            "backgroundcolor": "#E5ECF6",
            "gridcolor": "white",
            "gridwidth": 2,
            "linecolor": "white",
            "showbackground": true,
            "ticks": "",
            "zerolinecolor": "white"
           },
           "yaxis": {
            "backgroundcolor": "#E5ECF6",
            "gridcolor": "white",
            "gridwidth": 2,
            "linecolor": "white",
            "showbackground": true,
            "ticks": "",
            "zerolinecolor": "white"
           },
           "zaxis": {
            "backgroundcolor": "#E5ECF6",
            "gridcolor": "white",
            "gridwidth": 2,
            "linecolor": "white",
            "showbackground": true,
            "ticks": "",
            "zerolinecolor": "white"
           }
          },
          "shapedefaults": {
           "line": {
            "color": "#2a3f5f"
           }
          },
          "ternary": {
           "aaxis": {
            "gridcolor": "white",
            "linecolor": "white",
            "ticks": ""
           },
           "baxis": {
            "gridcolor": "white",
            "linecolor": "white",
            "ticks": ""
           },
           "bgcolor": "#E5ECF6",
           "caxis": {
            "gridcolor": "white",
            "linecolor": "white",
            "ticks": ""
           }
          },
          "title": {
           "x": 0.05
          },
          "xaxis": {
           "automargin": true,
           "gridcolor": "white",
           "linecolor": "white",
           "ticks": "",
           "title": {
            "standoff": 15
           },
           "zerolinecolor": "white",
           "zerolinewidth": 2
          },
          "yaxis": {
           "automargin": true,
           "gridcolor": "white",
           "linecolor": "white",
           "ticks": "",
           "title": {
            "standoff": 15
           },
           "zerolinecolor": "white",
           "zerolinewidth": 2
          }
         }
        },
        "title": {
         "text": "Training Accuracy vs Task"
        },
        "xaxis": {
         "anchor": "y",
         "domain": [
          0,
          1
         ],
         "title": {
          "text": "index"
         }
        },
        "yaxis": {
         "anchor": "x",
         "domain": [
          0,
          1
         ],
         "range": [
          0,
          1
         ],
         "title": {
          "text": "value"
         }
        }
       }
      }
     },
     "metadata": {},
     "output_type": "display_data"
    }
   ],
   "source": [
    "train_df = pd.DataFrame(training_accuracies)\n",
    "train_df.index = range(10)\n",
    "\n",
    "fig = px.line(train_df, x=train_df.index, y=train_df.columns, range_y=[0, 1], title=\"Training Accuracy vs Task\")\n",
    "fig.show()"
   ]
  },
  {
   "cell_type": "markdown",
   "metadata": {},
   "source": [
    "## Evaluation accuracies per experience"
   ]
  },
  {
   "cell_type": "code",
   "execution_count": 26,
   "metadata": {},
   "outputs": [
    {
     "data": {
      "application/vnd.plotly.v1+json": {
       "config": {
        "plotlyServerURL": "https://plot.ly"
       },
       "data": [
        {
         "hovertemplate": "variable=Task0<br>index=%{x}<br>value=%{y}<extra></extra>",
         "legendgroup": "Task0",
         "line": {
          "color": "#636efa",
          "dash": "solid"
         },
         "marker": {
          "symbol": "circle"
         },
         "mode": "lines",
         "name": "Task0",
         "orientation": "v",
         "showlegend": true,
         "type": "scatter",
         "x": [
          0,
          1,
          2,
          3,
          4,
          5,
          6,
          7,
          8,
          9
         ],
         "xaxis": "x",
         "y": [
          0.7569,
          0.71,
          0.6432,
          0.6034,
          0.6148,
          0.572,
          0.6117,
          0.5732,
          0.597,
          0.5814
         ],
         "yaxis": "y"
        },
        {
         "hovertemplate": "variable=Task1<br>index=%{x}<br>value=%{y}<extra></extra>",
         "legendgroup": "Task1",
         "line": {
          "color": "#EF553B",
          "dash": "solid"
         },
         "marker": {
          "symbol": "circle"
         },
         "mode": "lines",
         "name": "Task1",
         "orientation": "v",
         "showlegend": true,
         "type": "scatter",
         "x": [
          0,
          1,
          2,
          3,
          4,
          5,
          6,
          7,
          8,
          9
         ],
         "xaxis": "x",
         "y": [
          0.1446,
          0.7618,
          0.7541,
          0.7521,
          0.7463,
          0.7205,
          0.7113,
          0.7025,
          0.688,
          0.6711
         ],
         "yaxis": "y"
        },
        {
         "hovertemplate": "variable=Task2<br>index=%{x}<br>value=%{y}<extra></extra>",
         "legendgroup": "Task2",
         "line": {
          "color": "#00cc96",
          "dash": "solid"
         },
         "marker": {
          "symbol": "circle"
         },
         "mode": "lines",
         "name": "Task2",
         "orientation": "v",
         "showlegend": true,
         "type": "scatter",
         "x": [
          0,
          1,
          2,
          3,
          4,
          5,
          6,
          7,
          8,
          9
         ],
         "xaxis": "x",
         "y": [
          0.1543,
          0.2088,
          0.7834,
          0.7788,
          0.7742,
          0.7566,
          0.7155,
          0.697,
          0.6517,
          0.6651
         ],
         "yaxis": "y"
        },
        {
         "hovertemplate": "variable=Task3<br>index=%{x}<br>value=%{y}<extra></extra>",
         "legendgroup": "Task3",
         "line": {
          "color": "#ab63fa",
          "dash": "solid"
         },
         "marker": {
          "symbol": "circle"
         },
         "mode": "lines",
         "name": "Task3",
         "orientation": "v",
         "showlegend": true,
         "type": "scatter",
         "x": [
          0,
          1,
          2,
          3,
          4,
          5,
          6,
          7,
          8,
          9
         ],
         "xaxis": "x",
         "y": [
          0.1371,
          0.1508,
          0.1336,
          0.7984,
          0.7822,
          0.7714,
          0.7564,
          0.7574,
          0.7421,
          0.723
         ],
         "yaxis": "y"
        },
        {
         "hovertemplate": "variable=Task4<br>index=%{x}<br>value=%{y}<extra></extra>",
         "legendgroup": "Task4",
         "line": {
          "color": "#FFA15A",
          "dash": "solid"
         },
         "marker": {
          "symbol": "circle"
         },
         "mode": "lines",
         "name": "Task4",
         "orientation": "v",
         "showlegend": true,
         "type": "scatter",
         "x": [
          0,
          1,
          2,
          3,
          4,
          5,
          6,
          7,
          8,
          9
         ],
         "xaxis": "x",
         "y": [
          0.0966,
          0.1509,
          0.1309,
          0.1172,
          0.8075,
          0.7932,
          0.7658,
          0.7438,
          0.7548,
          0.7319
         ],
         "yaxis": "y"
        },
        {
         "hovertemplate": "variable=Task5<br>index=%{x}<br>value=%{y}<extra></extra>",
         "legendgroup": "Task5",
         "line": {
          "color": "#19d3f3",
          "dash": "solid"
         },
         "marker": {
          "symbol": "circle"
         },
         "mode": "lines",
         "name": "Task5",
         "orientation": "v",
         "showlegend": true,
         "type": "scatter",
         "x": [
          0,
          1,
          2,
          3,
          4,
          5,
          6,
          7,
          8,
          9
         ],
         "xaxis": "x",
         "y": [
          0.1105,
          0.1038,
          0.1488,
          0.097,
          0.1124,
          0.8031,
          0.7726,
          0.7702,
          0.7414,
          0.728
         ],
         "yaxis": "y"
        },
        {
         "hovertemplate": "variable=Task6<br>index=%{x}<br>value=%{y}<extra></extra>",
         "legendgroup": "Task6",
         "line": {
          "color": "#FF6692",
          "dash": "solid"
         },
         "marker": {
          "symbol": "circle"
         },
         "mode": "lines",
         "name": "Task6",
         "orientation": "v",
         "showlegend": true,
         "type": "scatter",
         "x": [
          0,
          1,
          2,
          3,
          4,
          5,
          6,
          7,
          8,
          9
         ],
         "xaxis": "x",
         "y": [
          0.2517,
          0.2049,
          0.1796,
          0.1921,
          0.1571,
          0.1982,
          0.8135,
          0.7881,
          0.7797,
          0.7779
         ],
         "yaxis": "y"
        },
        {
         "hovertemplate": "variable=Task7<br>index=%{x}<br>value=%{y}<extra></extra>",
         "legendgroup": "Task7",
         "line": {
          "color": "#B6E880",
          "dash": "solid"
         },
         "marker": {
          "symbol": "circle"
         },
         "mode": "lines",
         "name": "Task7",
         "orientation": "v",
         "showlegend": true,
         "type": "scatter",
         "x": [
          0,
          1,
          2,
          3,
          4,
          5,
          6,
          7,
          8,
          9
         ],
         "xaxis": "x",
         "y": [
          0.1483,
          0.1383,
          0.1615,
          0.1938,
          0.1699,
          0.1944,
          0.1734,
          0.8201,
          0.7973,
          0.791
         ],
         "yaxis": "y"
        },
        {
         "hovertemplate": "variable=Task8<br>index=%{x}<br>value=%{y}<extra></extra>",
         "legendgroup": "Task8",
         "line": {
          "color": "#FF97FF",
          "dash": "solid"
         },
         "marker": {
          "symbol": "circle"
         },
         "mode": "lines",
         "name": "Task8",
         "orientation": "v",
         "showlegend": true,
         "type": "scatter",
         "x": [
          0,
          1,
          2,
          3,
          4,
          5,
          6,
          7,
          8,
          9
         ],
         "xaxis": "x",
         "y": [
          0.1371,
          0.125,
          0.1446,
          0.1298,
          0.1631,
          0.1617,
          0.156,
          0.1268,
          0.8255,
          0.7963
         ],
         "yaxis": "y"
        },
        {
         "hovertemplate": "variable=Task9<br>index=%{x}<br>value=%{y}<extra></extra>",
         "legendgroup": "Task9",
         "line": {
          "color": "#FECB52",
          "dash": "solid"
         },
         "marker": {
          "symbol": "circle"
         },
         "mode": "lines",
         "name": "Task9",
         "orientation": "v",
         "showlegend": true,
         "type": "scatter",
         "x": [
          0,
          1,
          2,
          3,
          4,
          5,
          6,
          7,
          8,
          9
         ],
         "xaxis": "x",
         "y": [
          0.1749,
          0.2173,
          0.1924,
          0.1457,
          0.1507,
          0.1252,
          0.1031,
          0.1137,
          0.1289,
          0.8175
         ],
         "yaxis": "y"
        },
        {
         "hovertemplate": "variable=Overall<br>index=%{x}<br>value=%{y}<extra></extra>",
         "legendgroup": "Overall",
         "line": {
          "color": "#636efa",
          "dash": "solid"
         },
         "marker": {
          "symbol": "circle"
         },
         "mode": "lines",
         "name": "Overall",
         "orientation": "v",
         "showlegend": true,
         "type": "scatter",
         "x": [
          0,
          1,
          2,
          3,
          4,
          5,
          6,
          7,
          8,
          9
         ],
         "xaxis": "x",
         "y": [
          0.2112,
          0.27716,
          0.32721,
          0.38083,
          0.44782,
          0.50963,
          0.55793,
          0.60928,
          0.67064,
          0.72832
         ],
         "yaxis": "y"
        }
       ],
       "layout": {
        "legend": {
         "title": {
          "text": "variable"
         },
         "tracegroupgap": 0
        },
        "template": {
         "data": {
          "bar": [
           {
            "error_x": {
             "color": "#2a3f5f"
            },
            "error_y": {
             "color": "#2a3f5f"
            },
            "marker": {
             "line": {
              "color": "#E5ECF6",
              "width": 0.5
             },
             "pattern": {
              "fillmode": "overlay",
              "size": 10,
              "solidity": 0.2
             }
            },
            "type": "bar"
           }
          ],
          "barpolar": [
           {
            "marker": {
             "line": {
              "color": "#E5ECF6",
              "width": 0.5
             },
             "pattern": {
              "fillmode": "overlay",
              "size": 10,
              "solidity": 0.2
             }
            },
            "type": "barpolar"
           }
          ],
          "carpet": [
           {
            "aaxis": {
             "endlinecolor": "#2a3f5f",
             "gridcolor": "white",
             "linecolor": "white",
             "minorgridcolor": "white",
             "startlinecolor": "#2a3f5f"
            },
            "baxis": {
             "endlinecolor": "#2a3f5f",
             "gridcolor": "white",
             "linecolor": "white",
             "minorgridcolor": "white",
             "startlinecolor": "#2a3f5f"
            },
            "type": "carpet"
           }
          ],
          "choropleth": [
           {
            "colorbar": {
             "outlinewidth": 0,
             "ticks": ""
            },
            "type": "choropleth"
           }
          ],
          "contour": [
           {
            "colorbar": {
             "outlinewidth": 0,
             "ticks": ""
            },
            "colorscale": [
             [
              0,
              "#0d0887"
             ],
             [
              0.1111111111111111,
              "#46039f"
             ],
             [
              0.2222222222222222,
              "#7201a8"
             ],
             [
              0.3333333333333333,
              "#9c179e"
             ],
             [
              0.4444444444444444,
              "#bd3786"
             ],
             [
              0.5555555555555556,
              "#d8576b"
             ],
             [
              0.6666666666666666,
              "#ed7953"
             ],
             [
              0.7777777777777778,
              "#fb9f3a"
             ],
             [
              0.8888888888888888,
              "#fdca26"
             ],
             [
              1,
              "#f0f921"
             ]
            ],
            "type": "contour"
           }
          ],
          "contourcarpet": [
           {
            "colorbar": {
             "outlinewidth": 0,
             "ticks": ""
            },
            "type": "contourcarpet"
           }
          ],
          "heatmap": [
           {
            "colorbar": {
             "outlinewidth": 0,
             "ticks": ""
            },
            "colorscale": [
             [
              0,
              "#0d0887"
             ],
             [
              0.1111111111111111,
              "#46039f"
             ],
             [
              0.2222222222222222,
              "#7201a8"
             ],
             [
              0.3333333333333333,
              "#9c179e"
             ],
             [
              0.4444444444444444,
              "#bd3786"
             ],
             [
              0.5555555555555556,
              "#d8576b"
             ],
             [
              0.6666666666666666,
              "#ed7953"
             ],
             [
              0.7777777777777778,
              "#fb9f3a"
             ],
             [
              0.8888888888888888,
              "#fdca26"
             ],
             [
              1,
              "#f0f921"
             ]
            ],
            "type": "heatmap"
           }
          ],
          "heatmapgl": [
           {
            "colorbar": {
             "outlinewidth": 0,
             "ticks": ""
            },
            "colorscale": [
             [
              0,
              "#0d0887"
             ],
             [
              0.1111111111111111,
              "#46039f"
             ],
             [
              0.2222222222222222,
              "#7201a8"
             ],
             [
              0.3333333333333333,
              "#9c179e"
             ],
             [
              0.4444444444444444,
              "#bd3786"
             ],
             [
              0.5555555555555556,
              "#d8576b"
             ],
             [
              0.6666666666666666,
              "#ed7953"
             ],
             [
              0.7777777777777778,
              "#fb9f3a"
             ],
             [
              0.8888888888888888,
              "#fdca26"
             ],
             [
              1,
              "#f0f921"
             ]
            ],
            "type": "heatmapgl"
           }
          ],
          "histogram": [
           {
            "marker": {
             "pattern": {
              "fillmode": "overlay",
              "size": 10,
              "solidity": 0.2
             }
            },
            "type": "histogram"
           }
          ],
          "histogram2d": [
           {
            "colorbar": {
             "outlinewidth": 0,
             "ticks": ""
            },
            "colorscale": [
             [
              0,
              "#0d0887"
             ],
             [
              0.1111111111111111,
              "#46039f"
             ],
             [
              0.2222222222222222,
              "#7201a8"
             ],
             [
              0.3333333333333333,
              "#9c179e"
             ],
             [
              0.4444444444444444,
              "#bd3786"
             ],
             [
              0.5555555555555556,
              "#d8576b"
             ],
             [
              0.6666666666666666,
              "#ed7953"
             ],
             [
              0.7777777777777778,
              "#fb9f3a"
             ],
             [
              0.8888888888888888,
              "#fdca26"
             ],
             [
              1,
              "#f0f921"
             ]
            ],
            "type": "histogram2d"
           }
          ],
          "histogram2dcontour": [
           {
            "colorbar": {
             "outlinewidth": 0,
             "ticks": ""
            },
            "colorscale": [
             [
              0,
              "#0d0887"
             ],
             [
              0.1111111111111111,
              "#46039f"
             ],
             [
              0.2222222222222222,
              "#7201a8"
             ],
             [
              0.3333333333333333,
              "#9c179e"
             ],
             [
              0.4444444444444444,
              "#bd3786"
             ],
             [
              0.5555555555555556,
              "#d8576b"
             ],
             [
              0.6666666666666666,
              "#ed7953"
             ],
             [
              0.7777777777777778,
              "#fb9f3a"
             ],
             [
              0.8888888888888888,
              "#fdca26"
             ],
             [
              1,
              "#f0f921"
             ]
            ],
            "type": "histogram2dcontour"
           }
          ],
          "mesh3d": [
           {
            "colorbar": {
             "outlinewidth": 0,
             "ticks": ""
            },
            "type": "mesh3d"
           }
          ],
          "parcoords": [
           {
            "line": {
             "colorbar": {
              "outlinewidth": 0,
              "ticks": ""
             }
            },
            "type": "parcoords"
           }
          ],
          "pie": [
           {
            "automargin": true,
            "type": "pie"
           }
          ],
          "scatter": [
           {
            "fillpattern": {
             "fillmode": "overlay",
             "size": 10,
             "solidity": 0.2
            },
            "type": "scatter"
           }
          ],
          "scatter3d": [
           {
            "line": {
             "colorbar": {
              "outlinewidth": 0,
              "ticks": ""
             }
            },
            "marker": {
             "colorbar": {
              "outlinewidth": 0,
              "ticks": ""
             }
            },
            "type": "scatter3d"
           }
          ],
          "scattercarpet": [
           {
            "marker": {
             "colorbar": {
              "outlinewidth": 0,
              "ticks": ""
             }
            },
            "type": "scattercarpet"
           }
          ],
          "scattergeo": [
           {
            "marker": {
             "colorbar": {
              "outlinewidth": 0,
              "ticks": ""
             }
            },
            "type": "scattergeo"
           }
          ],
          "scattergl": [
           {
            "marker": {
             "colorbar": {
              "outlinewidth": 0,
              "ticks": ""
             }
            },
            "type": "scattergl"
           }
          ],
          "scattermapbox": [
           {
            "marker": {
             "colorbar": {
              "outlinewidth": 0,
              "ticks": ""
             }
            },
            "type": "scattermapbox"
           }
          ],
          "scatterpolar": [
           {
            "marker": {
             "colorbar": {
              "outlinewidth": 0,
              "ticks": ""
             }
            },
            "type": "scatterpolar"
           }
          ],
          "scatterpolargl": [
           {
            "marker": {
             "colorbar": {
              "outlinewidth": 0,
              "ticks": ""
             }
            },
            "type": "scatterpolargl"
           }
          ],
          "scatterternary": [
           {
            "marker": {
             "colorbar": {
              "outlinewidth": 0,
              "ticks": ""
             }
            },
            "type": "scatterternary"
           }
          ],
          "surface": [
           {
            "colorbar": {
             "outlinewidth": 0,
             "ticks": ""
            },
            "colorscale": [
             [
              0,
              "#0d0887"
             ],
             [
              0.1111111111111111,
              "#46039f"
             ],
             [
              0.2222222222222222,
              "#7201a8"
             ],
             [
              0.3333333333333333,
              "#9c179e"
             ],
             [
              0.4444444444444444,
              "#bd3786"
             ],
             [
              0.5555555555555556,
              "#d8576b"
             ],
             [
              0.6666666666666666,
              "#ed7953"
             ],
             [
              0.7777777777777778,
              "#fb9f3a"
             ],
             [
              0.8888888888888888,
              "#fdca26"
             ],
             [
              1,
              "#f0f921"
             ]
            ],
            "type": "surface"
           }
          ],
          "table": [
           {
            "cells": {
             "fill": {
              "color": "#EBF0F8"
             },
             "line": {
              "color": "white"
             }
            },
            "header": {
             "fill": {
              "color": "#C8D4E3"
             },
             "line": {
              "color": "white"
             }
            },
            "type": "table"
           }
          ]
         },
         "layout": {
          "annotationdefaults": {
           "arrowcolor": "#2a3f5f",
           "arrowhead": 0,
           "arrowwidth": 1
          },
          "autotypenumbers": "strict",
          "coloraxis": {
           "colorbar": {
            "outlinewidth": 0,
            "ticks": ""
           }
          },
          "colorscale": {
           "diverging": [
            [
             0,
             "#8e0152"
            ],
            [
             0.1,
             "#c51b7d"
            ],
            [
             0.2,
             "#de77ae"
            ],
            [
             0.3,
             "#f1b6da"
            ],
            [
             0.4,
             "#fde0ef"
            ],
            [
             0.5,
             "#f7f7f7"
            ],
            [
             0.6,
             "#e6f5d0"
            ],
            [
             0.7,
             "#b8e186"
            ],
            [
             0.8,
             "#7fbc41"
            ],
            [
             0.9,
             "#4d9221"
            ],
            [
             1,
             "#276419"
            ]
           ],
           "sequential": [
            [
             0,
             "#0d0887"
            ],
            [
             0.1111111111111111,
             "#46039f"
            ],
            [
             0.2222222222222222,
             "#7201a8"
            ],
            [
             0.3333333333333333,
             "#9c179e"
            ],
            [
             0.4444444444444444,
             "#bd3786"
            ],
            [
             0.5555555555555556,
             "#d8576b"
            ],
            [
             0.6666666666666666,
             "#ed7953"
            ],
            [
             0.7777777777777778,
             "#fb9f3a"
            ],
            [
             0.8888888888888888,
             "#fdca26"
            ],
            [
             1,
             "#f0f921"
            ]
           ],
           "sequentialminus": [
            [
             0,
             "#0d0887"
            ],
            [
             0.1111111111111111,
             "#46039f"
            ],
            [
             0.2222222222222222,
             "#7201a8"
            ],
            [
             0.3333333333333333,
             "#9c179e"
            ],
            [
             0.4444444444444444,
             "#bd3786"
            ],
            [
             0.5555555555555556,
             "#d8576b"
            ],
            [
             0.6666666666666666,
             "#ed7953"
            ],
            [
             0.7777777777777778,
             "#fb9f3a"
            ],
            [
             0.8888888888888888,
             "#fdca26"
            ],
            [
             1,
             "#f0f921"
            ]
           ]
          },
          "colorway": [
           "#636efa",
           "#EF553B",
           "#00cc96",
           "#ab63fa",
           "#FFA15A",
           "#19d3f3",
           "#FF6692",
           "#B6E880",
           "#FF97FF",
           "#FECB52"
          ],
          "font": {
           "color": "#2a3f5f"
          },
          "geo": {
           "bgcolor": "white",
           "lakecolor": "white",
           "landcolor": "#E5ECF6",
           "showlakes": true,
           "showland": true,
           "subunitcolor": "white"
          },
          "hoverlabel": {
           "align": "left"
          },
          "hovermode": "closest",
          "mapbox": {
           "style": "light"
          },
          "paper_bgcolor": "white",
          "plot_bgcolor": "#E5ECF6",
          "polar": {
           "angularaxis": {
            "gridcolor": "white",
            "linecolor": "white",
            "ticks": ""
           },
           "bgcolor": "#E5ECF6",
           "radialaxis": {
            "gridcolor": "white",
            "linecolor": "white",
            "ticks": ""
           }
          },
          "scene": {
           "xaxis": {
            "backgroundcolor": "#E5ECF6",
            "gridcolor": "white",
            "gridwidth": 2,
            "linecolor": "white",
            "showbackground": true,
            "ticks": "",
            "zerolinecolor": "white"
           },
           "yaxis": {
            "backgroundcolor": "#E5ECF6",
            "gridcolor": "white",
            "gridwidth": 2,
            "linecolor": "white",
            "showbackground": true,
            "ticks": "",
            "zerolinecolor": "white"
           },
           "zaxis": {
            "backgroundcolor": "#E5ECF6",
            "gridcolor": "white",
            "gridwidth": 2,
            "linecolor": "white",
            "showbackground": true,
            "ticks": "",
            "zerolinecolor": "white"
           }
          },
          "shapedefaults": {
           "line": {
            "color": "#2a3f5f"
           }
          },
          "ternary": {
           "aaxis": {
            "gridcolor": "white",
            "linecolor": "white",
            "ticks": ""
           },
           "baxis": {
            "gridcolor": "white",
            "linecolor": "white",
            "ticks": ""
           },
           "bgcolor": "#E5ECF6",
           "caxis": {
            "gridcolor": "white",
            "linecolor": "white",
            "ticks": ""
           }
          },
          "title": {
           "x": 0.05
          },
          "xaxis": {
           "automargin": true,
           "gridcolor": "white",
           "linecolor": "white",
           "ticks": "",
           "title": {
            "standoff": 15
           },
           "zerolinecolor": "white",
           "zerolinewidth": 2
          },
          "yaxis": {
           "automargin": true,
           "gridcolor": "white",
           "linecolor": "white",
           "ticks": "",
           "title": {
            "standoff": 15
           },
           "zerolinecolor": "white",
           "zerolinewidth": 2
          }
         }
        },
        "title": {
         "text": "Test Accuracy vs Task"
        },
        "xaxis": {
         "anchor": "y",
         "domain": [
          0,
          1
         ],
         "title": {
          "text": "index"
         }
        },
        "yaxis": {
         "anchor": "x",
         "domain": [
          0,
          1
         ],
         "range": [
          0,
          1
         ],
         "title": {
          "text": "value"
         }
        }
       }
      }
     },
     "metadata": {},
     "output_type": "display_data"
    }
   ],
   "source": [
    "acc_df = pd.DataFrame(accuracies)\n",
    "acc_df.index = range(10)\n",
    "\n",
    "fig = px.line(acc_df, x=acc_df.index, y=acc_df.columns, range_y=[0, 1], title=\"Test Accuracy vs Task\")\n",
    "fig.show()"
   ]
  },
  {
   "cell_type": "markdown",
   "metadata": {},
   "source": [
    "## Forgetting measure / BWT"
   ]
  },
  {
   "cell_type": "code",
   "execution_count": 27,
   "metadata": {},
   "outputs": [
    {
     "data": {
      "application/vnd.plotly.v1+json": {
       "config": {
        "plotlyServerURL": "https://plot.ly"
       },
       "data": [
        {
         "hovertemplate": "variable=Task0<br>index=%{x}<br>value=%{y}<extra></extra>",
         "legendgroup": "Task0",
         "line": {
          "color": "#636efa",
          "dash": "solid"
         },
         "marker": {
          "symbol": "circle"
         },
         "mode": "lines",
         "name": "Task0",
         "orientation": "v",
         "showlegend": true,
         "type": "scatter",
         "x": [
          0,
          1,
          2,
          3,
          4,
          5,
          6,
          7,
          8,
          9
         ],
         "xaxis": "x",
         "y": [
          null,
          0.04690000000000005,
          0.11370000000000002,
          0.15349999999999997,
          0.1421,
          0.18490000000000006,
          0.1452,
          0.18369999999999997,
          0.15990000000000004,
          0.1755
         ],
         "yaxis": "y"
        },
        {
         "hovertemplate": "variable=Task1<br>index=%{x}<br>value=%{y}<extra></extra>",
         "legendgroup": "Task1",
         "line": {
          "color": "#EF553B",
          "dash": "solid"
         },
         "marker": {
          "symbol": "circle"
         },
         "mode": "lines",
         "name": "Task1",
         "orientation": "v",
         "showlegend": true,
         "type": "scatter",
         "x": [
          0,
          1,
          2,
          3,
          4,
          5,
          6,
          7,
          8,
          9
         ],
         "xaxis": "x",
         "y": [
          null,
          null,
          0.00770000000000004,
          0.009700000000000042,
          0.01550000000000007,
          0.0413,
          0.05049999999999999,
          0.05930000000000002,
          0.07380000000000009,
          0.0907
         ],
         "yaxis": "y"
        },
        {
         "hovertemplate": "variable=Task2<br>index=%{x}<br>value=%{y}<extra></extra>",
         "legendgroup": "Task2",
         "line": {
          "color": "#00cc96",
          "dash": "solid"
         },
         "marker": {
          "symbol": "circle"
         },
         "mode": "lines",
         "name": "Task2",
         "orientation": "v",
         "showlegend": true,
         "type": "scatter",
         "x": [
          0,
          1,
          2,
          3,
          4,
          5,
          6,
          7,
          8,
          9
         ],
         "xaxis": "x",
         "y": [
          null,
          null,
          null,
          0.0045999999999999375,
          0.009199999999999986,
          0.026799999999999935,
          0.06789999999999996,
          0.08640000000000003,
          0.13170000000000004,
          0.11829999999999996
         ],
         "yaxis": "y"
        },
        {
         "hovertemplate": "variable=Task3<br>index=%{x}<br>value=%{y}<extra></extra>",
         "legendgroup": "Task3",
         "line": {
          "color": "#ab63fa",
          "dash": "solid"
         },
         "marker": {
          "symbol": "circle"
         },
         "mode": "lines",
         "name": "Task3",
         "orientation": "v",
         "showlegend": true,
         "type": "scatter",
         "x": [
          0,
          1,
          2,
          3,
          4,
          5,
          6,
          7,
          8,
          9
         ],
         "xaxis": "x",
         "y": [
          null,
          null,
          null,
          null,
          0.016199999999999992,
          0.027000000000000024,
          0.04200000000000004,
          0.041000000000000036,
          0.05630000000000002,
          0.07540000000000002
         ],
         "yaxis": "y"
        },
        {
         "hovertemplate": "variable=Task4<br>index=%{x}<br>value=%{y}<extra></extra>",
         "legendgroup": "Task4",
         "line": {
          "color": "#FFA15A",
          "dash": "solid"
         },
         "marker": {
          "symbol": "circle"
         },
         "mode": "lines",
         "name": "Task4",
         "orientation": "v",
         "showlegend": true,
         "type": "scatter",
         "x": [
          0,
          1,
          2,
          3,
          4,
          5,
          6,
          7,
          8,
          9
         ],
         "xaxis": "x",
         "y": [
          null,
          null,
          null,
          null,
          null,
          0.01429999999999998,
          0.04169999999999996,
          0.06369999999999998,
          0.05269999999999997,
          0.0756
         ],
         "yaxis": "y"
        },
        {
         "hovertemplate": "variable=Task5<br>index=%{x}<br>value=%{y}<extra></extra>",
         "legendgroup": "Task5",
         "line": {
          "color": "#19d3f3",
          "dash": "solid"
         },
         "marker": {
          "symbol": "circle"
         },
         "mode": "lines",
         "name": "Task5",
         "orientation": "v",
         "showlegend": true,
         "type": "scatter",
         "x": [
          0,
          1,
          2,
          3,
          4,
          5,
          6,
          7,
          8,
          9
         ],
         "xaxis": "x",
         "y": [
          null,
          null,
          null,
          null,
          null,
          null,
          0.030500000000000083,
          0.03290000000000004,
          0.06170000000000009,
          0.07510000000000006
         ],
         "yaxis": "y"
        },
        {
         "hovertemplate": "variable=Task6<br>index=%{x}<br>value=%{y}<extra></extra>",
         "legendgroup": "Task6",
         "line": {
          "color": "#FF6692",
          "dash": "solid"
         },
         "marker": {
          "symbol": "circle"
         },
         "mode": "lines",
         "name": "Task6",
         "orientation": "v",
         "showlegend": true,
         "type": "scatter",
         "x": [
          0,
          1,
          2,
          3,
          4,
          5,
          6,
          7,
          8,
          9
         ],
         "xaxis": "x",
         "y": [
          null,
          null,
          null,
          null,
          null,
          null,
          null,
          0.025399999999999978,
          0.03380000000000005,
          0.035599999999999965
         ],
         "yaxis": "y"
        },
        {
         "hovertemplate": "variable=Task7<br>index=%{x}<br>value=%{y}<extra></extra>",
         "legendgroup": "Task7",
         "line": {
          "color": "#B6E880",
          "dash": "solid"
         },
         "marker": {
          "symbol": "circle"
         },
         "mode": "lines",
         "name": "Task7",
         "orientation": "v",
         "showlegend": true,
         "type": "scatter",
         "x": [
          0,
          1,
          2,
          3,
          4,
          5,
          6,
          7,
          8,
          9
         ],
         "xaxis": "x",
         "y": [
          null,
          null,
          null,
          null,
          null,
          null,
          null,
          null,
          0.022800000000000042,
          0.029100000000000015
         ],
         "yaxis": "y"
        },
        {
         "hovertemplate": "variable=Task8<br>index=%{x}<br>value=%{y}<extra></extra>",
         "legendgroup": "Task8",
         "line": {
          "color": "#FF97FF",
          "dash": "solid"
         },
         "marker": {
          "symbol": "circle"
         },
         "mode": "lines",
         "name": "Task8",
         "orientation": "v",
         "showlegend": true,
         "type": "scatter",
         "x": [
          0,
          1,
          2,
          3,
          4,
          5,
          6,
          7,
          8,
          9
         ],
         "xaxis": "x",
         "y": [
          null,
          null,
          null,
          null,
          null,
          null,
          null,
          null,
          null,
          0.029200000000000004
         ],
         "yaxis": "y"
        },
        {
         "hovertemplate": "variable=Overall<br>index=%{x}<br>value=%{y}<extra></extra>",
         "legendgroup": "Overall",
         "line": {
          "color": "#FECB52",
          "dash": "solid"
         },
         "marker": {
          "symbol": "circle"
         },
         "mode": "lines",
         "name": "Overall",
         "orientation": "v",
         "showlegend": true,
         "type": "scatter",
         "x": [
          0,
          1,
          2,
          3,
          4,
          5,
          6,
          7,
          8,
          9
         ],
         "xaxis": "x",
         "y": [
          0,
          0.04690000000000005,
          0.06070000000000003,
          0.055933333333333314,
          0.04575000000000001,
          0.05886,
          0.06296666666666667,
          0.07034285714285715,
          0.07408750000000004,
          0.07827777777777778
         ],
         "yaxis": "y"
        }
       ],
       "layout": {
        "legend": {
         "title": {
          "text": "variable"
         },
         "tracegroupgap": 0
        },
        "template": {
         "data": {
          "bar": [
           {
            "error_x": {
             "color": "#2a3f5f"
            },
            "error_y": {
             "color": "#2a3f5f"
            },
            "marker": {
             "line": {
              "color": "#E5ECF6",
              "width": 0.5
             },
             "pattern": {
              "fillmode": "overlay",
              "size": 10,
              "solidity": 0.2
             }
            },
            "type": "bar"
           }
          ],
          "barpolar": [
           {
            "marker": {
             "line": {
              "color": "#E5ECF6",
              "width": 0.5
             },
             "pattern": {
              "fillmode": "overlay",
              "size": 10,
              "solidity": 0.2
             }
            },
            "type": "barpolar"
           }
          ],
          "carpet": [
           {
            "aaxis": {
             "endlinecolor": "#2a3f5f",
             "gridcolor": "white",
             "linecolor": "white",
             "minorgridcolor": "white",
             "startlinecolor": "#2a3f5f"
            },
            "baxis": {
             "endlinecolor": "#2a3f5f",
             "gridcolor": "white",
             "linecolor": "white",
             "minorgridcolor": "white",
             "startlinecolor": "#2a3f5f"
            },
            "type": "carpet"
           }
          ],
          "choropleth": [
           {
            "colorbar": {
             "outlinewidth": 0,
             "ticks": ""
            },
            "type": "choropleth"
           }
          ],
          "contour": [
           {
            "colorbar": {
             "outlinewidth": 0,
             "ticks": ""
            },
            "colorscale": [
             [
              0,
              "#0d0887"
             ],
             [
              0.1111111111111111,
              "#46039f"
             ],
             [
              0.2222222222222222,
              "#7201a8"
             ],
             [
              0.3333333333333333,
              "#9c179e"
             ],
             [
              0.4444444444444444,
              "#bd3786"
             ],
             [
              0.5555555555555556,
              "#d8576b"
             ],
             [
              0.6666666666666666,
              "#ed7953"
             ],
             [
              0.7777777777777778,
              "#fb9f3a"
             ],
             [
              0.8888888888888888,
              "#fdca26"
             ],
             [
              1,
              "#f0f921"
             ]
            ],
            "type": "contour"
           }
          ],
          "contourcarpet": [
           {
            "colorbar": {
             "outlinewidth": 0,
             "ticks": ""
            },
            "type": "contourcarpet"
           }
          ],
          "heatmap": [
           {
            "colorbar": {
             "outlinewidth": 0,
             "ticks": ""
            },
            "colorscale": [
             [
              0,
              "#0d0887"
             ],
             [
              0.1111111111111111,
              "#46039f"
             ],
             [
              0.2222222222222222,
              "#7201a8"
             ],
             [
              0.3333333333333333,
              "#9c179e"
             ],
             [
              0.4444444444444444,
              "#bd3786"
             ],
             [
              0.5555555555555556,
              "#d8576b"
             ],
             [
              0.6666666666666666,
              "#ed7953"
             ],
             [
              0.7777777777777778,
              "#fb9f3a"
             ],
             [
              0.8888888888888888,
              "#fdca26"
             ],
             [
              1,
              "#f0f921"
             ]
            ],
            "type": "heatmap"
           }
          ],
          "heatmapgl": [
           {
            "colorbar": {
             "outlinewidth": 0,
             "ticks": ""
            },
            "colorscale": [
             [
              0,
              "#0d0887"
             ],
             [
              0.1111111111111111,
              "#46039f"
             ],
             [
              0.2222222222222222,
              "#7201a8"
             ],
             [
              0.3333333333333333,
              "#9c179e"
             ],
             [
              0.4444444444444444,
              "#bd3786"
             ],
             [
              0.5555555555555556,
              "#d8576b"
             ],
             [
              0.6666666666666666,
              "#ed7953"
             ],
             [
              0.7777777777777778,
              "#fb9f3a"
             ],
             [
              0.8888888888888888,
              "#fdca26"
             ],
             [
              1,
              "#f0f921"
             ]
            ],
            "type": "heatmapgl"
           }
          ],
          "histogram": [
           {
            "marker": {
             "pattern": {
              "fillmode": "overlay",
              "size": 10,
              "solidity": 0.2
             }
            },
            "type": "histogram"
           }
          ],
          "histogram2d": [
           {
            "colorbar": {
             "outlinewidth": 0,
             "ticks": ""
            },
            "colorscale": [
             [
              0,
              "#0d0887"
             ],
             [
              0.1111111111111111,
              "#46039f"
             ],
             [
              0.2222222222222222,
              "#7201a8"
             ],
             [
              0.3333333333333333,
              "#9c179e"
             ],
             [
              0.4444444444444444,
              "#bd3786"
             ],
             [
              0.5555555555555556,
              "#d8576b"
             ],
             [
              0.6666666666666666,
              "#ed7953"
             ],
             [
              0.7777777777777778,
              "#fb9f3a"
             ],
             [
              0.8888888888888888,
              "#fdca26"
             ],
             [
              1,
              "#f0f921"
             ]
            ],
            "type": "histogram2d"
           }
          ],
          "histogram2dcontour": [
           {
            "colorbar": {
             "outlinewidth": 0,
             "ticks": ""
            },
            "colorscale": [
             [
              0,
              "#0d0887"
             ],
             [
              0.1111111111111111,
              "#46039f"
             ],
             [
              0.2222222222222222,
              "#7201a8"
             ],
             [
              0.3333333333333333,
              "#9c179e"
             ],
             [
              0.4444444444444444,
              "#bd3786"
             ],
             [
              0.5555555555555556,
              "#d8576b"
             ],
             [
              0.6666666666666666,
              "#ed7953"
             ],
             [
              0.7777777777777778,
              "#fb9f3a"
             ],
             [
              0.8888888888888888,
              "#fdca26"
             ],
             [
              1,
              "#f0f921"
             ]
            ],
            "type": "histogram2dcontour"
           }
          ],
          "mesh3d": [
           {
            "colorbar": {
             "outlinewidth": 0,
             "ticks": ""
            },
            "type": "mesh3d"
           }
          ],
          "parcoords": [
           {
            "line": {
             "colorbar": {
              "outlinewidth": 0,
              "ticks": ""
             }
            },
            "type": "parcoords"
           }
          ],
          "pie": [
           {
            "automargin": true,
            "type": "pie"
           }
          ],
          "scatter": [
           {
            "fillpattern": {
             "fillmode": "overlay",
             "size": 10,
             "solidity": 0.2
            },
            "type": "scatter"
           }
          ],
          "scatter3d": [
           {
            "line": {
             "colorbar": {
              "outlinewidth": 0,
              "ticks": ""
             }
            },
            "marker": {
             "colorbar": {
              "outlinewidth": 0,
              "ticks": ""
             }
            },
            "type": "scatter3d"
           }
          ],
          "scattercarpet": [
           {
            "marker": {
             "colorbar": {
              "outlinewidth": 0,
              "ticks": ""
             }
            },
            "type": "scattercarpet"
           }
          ],
          "scattergeo": [
           {
            "marker": {
             "colorbar": {
              "outlinewidth": 0,
              "ticks": ""
             }
            },
            "type": "scattergeo"
           }
          ],
          "scattergl": [
           {
            "marker": {
             "colorbar": {
              "outlinewidth": 0,
              "ticks": ""
             }
            },
            "type": "scattergl"
           }
          ],
          "scattermapbox": [
           {
            "marker": {
             "colorbar": {
              "outlinewidth": 0,
              "ticks": ""
             }
            },
            "type": "scattermapbox"
           }
          ],
          "scatterpolar": [
           {
            "marker": {
             "colorbar": {
              "outlinewidth": 0,
              "ticks": ""
             }
            },
            "type": "scatterpolar"
           }
          ],
          "scatterpolargl": [
           {
            "marker": {
             "colorbar": {
              "outlinewidth": 0,
              "ticks": ""
             }
            },
            "type": "scatterpolargl"
           }
          ],
          "scatterternary": [
           {
            "marker": {
             "colorbar": {
              "outlinewidth": 0,
              "ticks": ""
             }
            },
            "type": "scatterternary"
           }
          ],
          "surface": [
           {
            "colorbar": {
             "outlinewidth": 0,
             "ticks": ""
            },
            "colorscale": [
             [
              0,
              "#0d0887"
             ],
             [
              0.1111111111111111,
              "#46039f"
             ],
             [
              0.2222222222222222,
              "#7201a8"
             ],
             [
              0.3333333333333333,
              "#9c179e"
             ],
             [
              0.4444444444444444,
              "#bd3786"
             ],
             [
              0.5555555555555556,
              "#d8576b"
             ],
             [
              0.6666666666666666,
              "#ed7953"
             ],
             [
              0.7777777777777778,
              "#fb9f3a"
             ],
             [
              0.8888888888888888,
              "#fdca26"
             ],
             [
              1,
              "#f0f921"
             ]
            ],
            "type": "surface"
           }
          ],
          "table": [
           {
            "cells": {
             "fill": {
              "color": "#EBF0F8"
             },
             "line": {
              "color": "white"
             }
            },
            "header": {
             "fill": {
              "color": "#C8D4E3"
             },
             "line": {
              "color": "white"
             }
            },
            "type": "table"
           }
          ]
         },
         "layout": {
          "annotationdefaults": {
           "arrowcolor": "#2a3f5f",
           "arrowhead": 0,
           "arrowwidth": 1
          },
          "autotypenumbers": "strict",
          "coloraxis": {
           "colorbar": {
            "outlinewidth": 0,
            "ticks": ""
           }
          },
          "colorscale": {
           "diverging": [
            [
             0,
             "#8e0152"
            ],
            [
             0.1,
             "#c51b7d"
            ],
            [
             0.2,
             "#de77ae"
            ],
            [
             0.3,
             "#f1b6da"
            ],
            [
             0.4,
             "#fde0ef"
            ],
            [
             0.5,
             "#f7f7f7"
            ],
            [
             0.6,
             "#e6f5d0"
            ],
            [
             0.7,
             "#b8e186"
            ],
            [
             0.8,
             "#7fbc41"
            ],
            [
             0.9,
             "#4d9221"
            ],
            [
             1,
             "#276419"
            ]
           ],
           "sequential": [
            [
             0,
             "#0d0887"
            ],
            [
             0.1111111111111111,
             "#46039f"
            ],
            [
             0.2222222222222222,
             "#7201a8"
            ],
            [
             0.3333333333333333,
             "#9c179e"
            ],
            [
             0.4444444444444444,
             "#bd3786"
            ],
            [
             0.5555555555555556,
             "#d8576b"
            ],
            [
             0.6666666666666666,
             "#ed7953"
            ],
            [
             0.7777777777777778,
             "#fb9f3a"
            ],
            [
             0.8888888888888888,
             "#fdca26"
            ],
            [
             1,
             "#f0f921"
            ]
           ],
           "sequentialminus": [
            [
             0,
             "#0d0887"
            ],
            [
             0.1111111111111111,
             "#46039f"
            ],
            [
             0.2222222222222222,
             "#7201a8"
            ],
            [
             0.3333333333333333,
             "#9c179e"
            ],
            [
             0.4444444444444444,
             "#bd3786"
            ],
            [
             0.5555555555555556,
             "#d8576b"
            ],
            [
             0.6666666666666666,
             "#ed7953"
            ],
            [
             0.7777777777777778,
             "#fb9f3a"
            ],
            [
             0.8888888888888888,
             "#fdca26"
            ],
            [
             1,
             "#f0f921"
            ]
           ]
          },
          "colorway": [
           "#636efa",
           "#EF553B",
           "#00cc96",
           "#ab63fa",
           "#FFA15A",
           "#19d3f3",
           "#FF6692",
           "#B6E880",
           "#FF97FF",
           "#FECB52"
          ],
          "font": {
           "color": "#2a3f5f"
          },
          "geo": {
           "bgcolor": "white",
           "lakecolor": "white",
           "landcolor": "#E5ECF6",
           "showlakes": true,
           "showland": true,
           "subunitcolor": "white"
          },
          "hoverlabel": {
           "align": "left"
          },
          "hovermode": "closest",
          "mapbox": {
           "style": "light"
          },
          "paper_bgcolor": "white",
          "plot_bgcolor": "#E5ECF6",
          "polar": {
           "angularaxis": {
            "gridcolor": "white",
            "linecolor": "white",
            "ticks": ""
           },
           "bgcolor": "#E5ECF6",
           "radialaxis": {
            "gridcolor": "white",
            "linecolor": "white",
            "ticks": ""
           }
          },
          "scene": {
           "xaxis": {
            "backgroundcolor": "#E5ECF6",
            "gridcolor": "white",
            "gridwidth": 2,
            "linecolor": "white",
            "showbackground": true,
            "ticks": "",
            "zerolinecolor": "white"
           },
           "yaxis": {
            "backgroundcolor": "#E5ECF6",
            "gridcolor": "white",
            "gridwidth": 2,
            "linecolor": "white",
            "showbackground": true,
            "ticks": "",
            "zerolinecolor": "white"
           },
           "zaxis": {
            "backgroundcolor": "#E5ECF6",
            "gridcolor": "white",
            "gridwidth": 2,
            "linecolor": "white",
            "showbackground": true,
            "ticks": "",
            "zerolinecolor": "white"
           }
          },
          "shapedefaults": {
           "line": {
            "color": "#2a3f5f"
           }
          },
          "ternary": {
           "aaxis": {
            "gridcolor": "white",
            "linecolor": "white",
            "ticks": ""
           },
           "baxis": {
            "gridcolor": "white",
            "linecolor": "white",
            "ticks": ""
           },
           "bgcolor": "#E5ECF6",
           "caxis": {
            "gridcolor": "white",
            "linecolor": "white",
            "ticks": ""
           }
          },
          "title": {
           "x": 0.05
          },
          "xaxis": {
           "automargin": true,
           "gridcolor": "white",
           "linecolor": "white",
           "ticks": "",
           "title": {
            "standoff": 15
           },
           "zerolinecolor": "white",
           "zerolinewidth": 2
          },
          "yaxis": {
           "automargin": true,
           "gridcolor": "white",
           "linecolor": "white",
           "ticks": "",
           "title": {
            "standoff": 15
           },
           "zerolinecolor": "white",
           "zerolinewidth": 2
          }
         }
        },
        "title": {
         "text": "Forgetting vs Task"
        },
        "xaxis": {
         "anchor": "y",
         "domain": [
          0,
          1
         ],
         "title": {
          "text": "index"
         }
        },
        "yaxis": {
         "anchor": "x",
         "domain": [
          0,
          1
         ],
         "title": {
          "text": "value"
         }
        }
       }
      }
     },
     "metadata": {},
     "output_type": "display_data"
    }
   ],
   "source": [
    "from copy import deepcopy\n",
    "# transform forgetting_measures dict into df\n",
    "# but first, we need to make sure that all lists have the same length\n",
    "max_len = max(map(len, forgetting_measures.values()))\n",
    "forgetting_measures_tmp = deepcopy(forgetting_measures)\n",
    "forgetting_measures_tmp = {k: [None] * (max_len - len(v)) + v for k, v in forgetting_measures_tmp.items()}\n",
    "\n",
    "forgetting_df = pd.DataFrame(forgetting_measures_tmp)\n",
    "forgetting_df.index = range(10)\n",
    "\n",
    "fig = px.line(forgetting_df, x=forgetting_df.index, y=forgetting_df.columns, title=\"Forgetting vs Task\")\n",
    "fig.show()"
   ]
  },
  {
   "cell_type": "markdown",
   "metadata": {},
   "source": [
    "# Store metrics"
   ]
  },
  {
   "cell_type": "code",
   "execution_count": 28,
   "metadata": {},
   "outputs": [],
   "source": [
    "pickle.dump(eval_plugin.get_all_metrics(), open(SAVED_METRICS_PATH / \"pmnist\" / \"ewc.pkl\", \"wb\"))"
   ]
  },
  {
   "cell_type": "markdown",
   "metadata": {},
   "source": [
    "# Store weights"
   ]
  },
  {
   "cell_type": "code",
   "execution_count": 29,
   "metadata": {},
   "outputs": [],
   "source": [
    "pickle.dump(model_plugins[0].weights, open(SAVED_METRICS_PATH / \"pmnist\" / \"ewc_weights.pkl\", \"wb\"))"
   ]
  }
 ],
 "metadata": {
  "kernelspec": {
   "display_name": "tt2",
   "language": "python",
   "name": "python3"
  },
  "language_info": {
   "codemirror_mode": {
    "name": "ipython",
    "version": 3
   },
   "file_extension": ".py",
   "mimetype": "text/x-python",
   "name": "python",
   "nbconvert_exporter": "python",
   "pygments_lexer": "ipython3",
   "version": "3.9.18"
  }
 },
 "nbformat": 4,
 "nbformat_minor": 2
}
