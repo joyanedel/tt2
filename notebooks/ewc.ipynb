{
 "cells": [
  {
   "cell_type": "code",
   "execution_count": 49,
   "metadata": {},
   "outputs": [],
   "source": [
    "%load_ext autoreload\n",
    "%autoreload 2"
   ]
  },
  {
   "cell_type": "markdown",
   "metadata": {},
   "source": [
    "# Libraries"
   ]
  },
  {
   "cell_type": "code",
   "execution_count": 3,
   "metadata": {},
   "outputs": [],
   "source": [
    "from torchvision.transforms import Compose, ToTensor, Normalize, RandomCrop, Grayscale"
   ]
  },
  {
   "cell_type": "code",
   "execution_count": 5,
   "metadata": {},
   "outputs": [],
   "source": [
    "from avalanche.benchmarks.datasets import MNIST\n",
    "from avalanche.benchmarks.classic import PermutedMNIST\n",
    "from avalanche.training import EWC, GEM, AGEM\n",
    "from avalanche.training.plugins import EvaluationPlugin\n",
    "from avalanche.benchmarks.generators import nc_benchmark\n",
    "from avalanche.evaluation.metrics import (\n",
    "    bwt_metrics,\n",
    "    forgetting_metrics,\n",
    "    accuracy_metrics,\n",
    "    Accuracy,\n",
    "    AccuracyPerTaskPluginMetric\n",
    ")\n",
    "\n",
    "from torch.nn import CrossEntropyLoss\n",
    "from torch.optim import Adam"
   ]
  },
  {
   "cell_type": "code",
   "execution_count": 6,
   "metadata": {},
   "outputs": [],
   "source": [
    "from tqdm import tqdm"
   ]
  },
  {
   "cell_type": "markdown",
   "metadata": {},
   "source": [
    "## Custom Libraries"
   ]
  },
  {
   "cell_type": "code",
   "execution_count": 7,
   "metadata": {},
   "outputs": [],
   "source": [
    "import sys\n",
    "sys.path.append(\"../base_code/\")\n",
    "\n",
    "from base_code.constants import DATASET_PATH\n",
    "from base_code.models.cnn import CNN2D"
   ]
  },
  {
   "cell_type": "markdown",
   "metadata": {},
   "source": [
    "# Dataset and definitions"
   ]
  },
  {
   "cell_type": "markdown",
   "metadata": {},
   "source": [
    "## Preprocessing definitions"
   ]
  },
  {
   "cell_type": "code",
   "execution_count": 8,
   "metadata": {},
   "outputs": [],
   "source": [
    "train_transform = Compose([\n",
    "    RandomCrop(28, padding=28),\n",
    "    ToTensor(),\n",
    "    Normalize((0.1307,), (0.3081,)),\n",
    "])\n",
    "\n",
    "test_transform = Compose([\n",
    "    ToTensor(),\n",
    "    Normalize((0.1307,), (0.3081,)),\n",
    "])"
   ]
  },
  {
   "cell_type": "markdown",
   "metadata": {},
   "source": [
    "## Dataset loading\n",
    "\n",
    "We load state-of-the-art dataset Modified NIST"
   ]
  },
  {
   "cell_type": "code",
   "execution_count": 9,
   "metadata": {},
   "outputs": [],
   "source": [
    "mnist_train = MNIST(DATASET_PATH, train=True, transform=train_transform)\n",
    "mnist_test = MNIST(DATASET_PATH, train=False, transform=test_transform)"
   ]
  },
  {
   "cell_type": "markdown",
   "metadata": {},
   "source": [
    "## Scenario creation with train test streaming\n",
    "\n",
    "In this point, we define our scenario considering a training where in every experience of it, a new class is presented. This is, first we train with a class $a$, the following experience we train with class $b$ ($a \\neq b$)"
   ]
  },
  {
   "cell_type": "code",
   "execution_count": 10,
   "metadata": {},
   "outputs": [],
   "source": [
    "scenario = nc_benchmark(\n",
    "    mnist_train, mnist_test,\n",
    "    n_experiences=len(mnist_train.classes), shuffle=True, seed=1234, task_labels=False\n",
    ")\n",
    "\n",
    "train_stream = scenario.train_stream\n",
    "test_stream = scenario.test_stream"
   ]
  },
  {
   "cell_type": "markdown",
   "metadata": {},
   "source": [
    "## Evaluation metrics definition"
   ]
  },
  {
   "cell_type": "code",
   "execution_count": 11,
   "metadata": {},
   "outputs": [
    {
     "name": "stderr",
     "output_type": "stream",
     "text": [
      "/Users/jesusoyanedelespinoza/.pyenv/versions/3.9.18/envs/tt2/lib/python3.9/site-packages/avalanche/training/plugins/evaluation.py:94: UserWarning: No loggers specified, metrics will not be logged\n",
      "  warnings.warn(\"No loggers specified, metrics will not be logged\")\n"
     ]
    }
   ],
   "source": [
    "eval_plugin = EvaluationPlugin(\n",
    "    bwt_metrics(experience=True, stream=True),\n",
    "    accuracy_metrics(experience=True, stream=True),\n",
    "    forgetting_metrics(experience=True, stream=True)\n",
    ")"
   ]
  },
  {
   "cell_type": "markdown",
   "metadata": {},
   "source": [
    "## Model, Optimizer, Loss function and Strategy definition\n",
    "\n",
    "* `model`: Multi Layer Perceptron\n",
    "* `Optimizer`: Adam\n",
    "* `Loss function`: Cross Entropy\n",
    "* `Strategy`: Elastic Weight Consolidation"
   ]
  },
  {
   "cell_type": "code",
   "execution_count": 16,
   "metadata": {},
   "outputs": [],
   "source": [
    "model = CNN2D(n_classes=scenario.n_classes, n_channels=1)\n",
    "optimizer = Adam(model.parameters(), lr=0.001)\n",
    "criterion = CrossEntropyLoss()\n",
    "strategy = EWC(\n",
    "    model, optimizer, criterion, ewc_lambda=1.0, train_epochs=5, train_mb_size=32, evaluator=eval_plugin\n",
    ")"
   ]
  },
  {
   "cell_type": "markdown",
   "metadata": {},
   "source": [
    "# Training and evaluation\n",
    "\n",
    "Revisar porque el entrenamiento se está comportando de forma rara"
   ]
  },
  {
   "cell_type": "code",
   "execution_count": 17,
   "metadata": {},
   "outputs": [
    {
     "name": "stderr",
     "output_type": "stream",
     "text": [
      "  0%|          | 0/10 [00:00<?, ?it/s]"
     ]
    },
    {
     "name": "stdout",
     "output_type": "stream",
     "text": [
      "Current class: 5\n",
      "Training completed\n",
      "Computing accuracy for whole test set\n"
     ]
    },
    {
     "name": "stderr",
     "output_type": "stream",
     "text": [
      " 10%|█         | 1/10 [00:15<02:18, 15.39s/it]"
     ]
    },
    {
     "name": "stdout",
     "output_type": "stream",
     "text": [
      "{'Top1_Acc_Exp/eval_phase/test_stream/Task000/Exp000': 1.0, 'Top1_Acc_Exp/eval_phase/test_stream/Task000/Exp001': 0.0, 'Top1_Acc_Exp/eval_phase/test_stream/Task000/Exp002': 0.0, 'Top1_Acc_Exp/eval_phase/test_stream/Task000/Exp003': 0.0, 'Top1_Acc_Exp/eval_phase/test_stream/Task000/Exp004': 0.0, 'Top1_Acc_Exp/eval_phase/test_stream/Task000/Exp005': 0.0, 'Top1_Acc_Exp/eval_phase/test_stream/Task000/Exp006': 0.0, 'Top1_Acc_Exp/eval_phase/test_stream/Task000/Exp007': 0.0, 'Top1_Acc_Exp/eval_phase/test_stream/Task000/Exp008': 0.0, 'Top1_Acc_Exp/eval_phase/test_stream/Task000/Exp009': 0.0, 'StreamBWT/eval_phase/test_stream': -1.0, 'Top1_Acc_Stream/eval_phase/test_stream/Task000': 0.0892, 'StreamForgetting/eval_phase/test_stream': 1.0, 'Top1_Acc_Exp/eval_phase/train_stream/Task000/Exp000': 1.0, 'StreamBWT/eval_phase/train_stream': 0.0, 'Top1_Acc_Stream/eval_phase/train_stream/Task000': 1.0, 'StreamForgetting/eval_phase/train_stream': 0.0, 'ExperienceBWT/eval_phase/test_stream/Task000/Exp000': -1.0, 'ExperienceForgetting/eval_phase/test_stream/Task000/Exp000': 1.0, 'Top1_Acc_Exp/eval_phase/train_stream/Task000/Exp001': 1.0, 'ExperienceBWT/eval_phase/test_stream/Task000/Exp001': -1.0, 'ExperienceForgetting/eval_phase/test_stream/Task000/Exp001': 1.0, 'Top1_Acc_Exp/eval_phase/train_stream/Task000/Exp002': 1.0, 'ExperienceBWT/eval_phase/test_stream/Task000/Exp002': -1.0, 'ExperienceForgetting/eval_phase/test_stream/Task000/Exp002': 1.0}\n",
      "Current class: 4\n",
      "Training completed\n",
      "Computing accuracy for whole test set\n"
     ]
    },
    {
     "name": "stderr",
     "output_type": "stream",
     "text": [
      " 20%|██        | 2/10 [00:33<02:15, 16.90s/it]"
     ]
    },
    {
     "name": "stdout",
     "output_type": "stream",
     "text": [
      "{'Top1_Acc_Exp/eval_phase/test_stream/Task000/Exp000': 0.0, 'Top1_Acc_Exp/eval_phase/test_stream/Task000/Exp001': 1.0, 'Top1_Acc_Exp/eval_phase/test_stream/Task000/Exp002': 0.0, 'Top1_Acc_Exp/eval_phase/test_stream/Task000/Exp003': 0.0, 'Top1_Acc_Exp/eval_phase/test_stream/Task000/Exp004': 0.0, 'Top1_Acc_Exp/eval_phase/test_stream/Task000/Exp005': 0.0, 'Top1_Acc_Exp/eval_phase/test_stream/Task000/Exp006': 0.0, 'Top1_Acc_Exp/eval_phase/test_stream/Task000/Exp007': 0.0, 'Top1_Acc_Exp/eval_phase/test_stream/Task000/Exp008': 0.0, 'Top1_Acc_Exp/eval_phase/test_stream/Task000/Exp009': 0.0, 'StreamBWT/eval_phase/test_stream': -1.0, 'Top1_Acc_Stream/eval_phase/test_stream/Task000': 0.0982, 'StreamForgetting/eval_phase/test_stream': 1.0, 'Top1_Acc_Exp/eval_phase/train_stream/Task000/Exp000': 1.0, 'StreamBWT/eval_phase/train_stream': 0.0, 'Top1_Acc_Stream/eval_phase/train_stream/Task000': 1.0, 'StreamForgetting/eval_phase/train_stream': 0.0, 'ExperienceBWT/eval_phase/test_stream/Task000/Exp000': -1.0, 'ExperienceForgetting/eval_phase/test_stream/Task000/Exp000': 1.0, 'Top1_Acc_Exp/eval_phase/train_stream/Task000/Exp001': 1.0, 'ExperienceBWT/eval_phase/test_stream/Task000/Exp001': -1.0, 'ExperienceForgetting/eval_phase/test_stream/Task000/Exp001': 1.0, 'Top1_Acc_Exp/eval_phase/train_stream/Task000/Exp002': 1.0, 'ExperienceBWT/eval_phase/test_stream/Task000/Exp002': -1.0, 'ExperienceForgetting/eval_phase/test_stream/Task000/Exp002': 1.0}\n",
      "Current class: 8\n",
      "Training completed\n",
      "Computing accuracy for whole test set\n"
     ]
    },
    {
     "name": "stderr",
     "output_type": "stream",
     "text": [
      " 30%|███       | 3/10 [00:52<02:05, 17.98s/it]"
     ]
    },
    {
     "name": "stdout",
     "output_type": "stream",
     "text": [
      "{'Top1_Acc_Exp/eval_phase/test_stream/Task000/Exp000': 0.0, 'Top1_Acc_Exp/eval_phase/test_stream/Task000/Exp001': 0.0, 'Top1_Acc_Exp/eval_phase/test_stream/Task000/Exp002': 1.0, 'Top1_Acc_Exp/eval_phase/test_stream/Task000/Exp003': 0.0, 'Top1_Acc_Exp/eval_phase/test_stream/Task000/Exp004': 0.0, 'Top1_Acc_Exp/eval_phase/test_stream/Task000/Exp005': 0.0, 'Top1_Acc_Exp/eval_phase/test_stream/Task000/Exp006': 0.0, 'Top1_Acc_Exp/eval_phase/test_stream/Task000/Exp007': 0.0, 'Top1_Acc_Exp/eval_phase/test_stream/Task000/Exp008': 0.0, 'Top1_Acc_Exp/eval_phase/test_stream/Task000/Exp009': 0.0, 'StreamBWT/eval_phase/test_stream': -1.0, 'Top1_Acc_Stream/eval_phase/test_stream/Task000': 0.0974, 'StreamForgetting/eval_phase/test_stream': 1.0, 'Top1_Acc_Exp/eval_phase/train_stream/Task000/Exp000': 1.0, 'StreamBWT/eval_phase/train_stream': 0.0, 'Top1_Acc_Stream/eval_phase/train_stream/Task000': 1.0, 'StreamForgetting/eval_phase/train_stream': 0.0, 'ExperienceBWT/eval_phase/test_stream/Task000/Exp000': -1.0, 'ExperienceForgetting/eval_phase/test_stream/Task000/Exp000': 1.0, 'Top1_Acc_Exp/eval_phase/train_stream/Task000/Exp001': 1.0, 'ExperienceBWT/eval_phase/test_stream/Task000/Exp001': -1.0, 'ExperienceForgetting/eval_phase/test_stream/Task000/Exp001': 1.0, 'Top1_Acc_Exp/eval_phase/train_stream/Task000/Exp002': 1.0, 'ExperienceBWT/eval_phase/test_stream/Task000/Exp002': -1.0, 'ExperienceForgetting/eval_phase/test_stream/Task000/Exp002': 1.0}\n",
      "Current class: 2\n",
      "Training completed\n",
      "Computing accuracy for whole test set\n"
     ]
    },
    {
     "name": "stderr",
     "output_type": "stream",
     "text": [
      " 40%|████      | 4/10 [01:13<01:54, 19.07s/it]"
     ]
    },
    {
     "name": "stdout",
     "output_type": "stream",
     "text": [
      "{'Top1_Acc_Exp/eval_phase/test_stream/Task000/Exp000': 0.0, 'Top1_Acc_Exp/eval_phase/test_stream/Task000/Exp001': 0.0, 'Top1_Acc_Exp/eval_phase/test_stream/Task000/Exp002': 0.0, 'Top1_Acc_Exp/eval_phase/test_stream/Task000/Exp003': 1.0, 'Top1_Acc_Exp/eval_phase/test_stream/Task000/Exp004': 0.0, 'Top1_Acc_Exp/eval_phase/test_stream/Task000/Exp005': 0.0, 'Top1_Acc_Exp/eval_phase/test_stream/Task000/Exp006': 0.0, 'Top1_Acc_Exp/eval_phase/test_stream/Task000/Exp007': 0.0, 'Top1_Acc_Exp/eval_phase/test_stream/Task000/Exp008': 0.0, 'Top1_Acc_Exp/eval_phase/test_stream/Task000/Exp009': 0.0, 'StreamBWT/eval_phase/test_stream': -1.0, 'Top1_Acc_Stream/eval_phase/test_stream/Task000': 0.1032, 'StreamForgetting/eval_phase/test_stream': 1.0, 'Top1_Acc_Exp/eval_phase/train_stream/Task000/Exp000': 1.0, 'StreamBWT/eval_phase/train_stream': 0.0, 'Top1_Acc_Stream/eval_phase/train_stream/Task000': 1.0, 'StreamForgetting/eval_phase/train_stream': 0.0, 'ExperienceBWT/eval_phase/test_stream/Task000/Exp000': -1.0, 'ExperienceForgetting/eval_phase/test_stream/Task000/Exp000': 1.0, 'Top1_Acc_Exp/eval_phase/train_stream/Task000/Exp001': 1.0, 'ExperienceBWT/eval_phase/test_stream/Task000/Exp001': -1.0, 'ExperienceForgetting/eval_phase/test_stream/Task000/Exp001': 1.0, 'Top1_Acc_Exp/eval_phase/train_stream/Task000/Exp002': 1.0, 'ExperienceBWT/eval_phase/test_stream/Task000/Exp002': -1.0, 'ExperienceForgetting/eval_phase/test_stream/Task000/Exp002': 1.0, 'Top1_Acc_Exp/eval_phase/train_stream/Task000/Exp003': 1.0}\n",
      "Current class: 6\n",
      "Training completed\n",
      "Computing accuracy for whole test set\n"
     ]
    },
    {
     "name": "stderr",
     "output_type": "stream",
     "text": [
      " 50%|█████     | 5/10 [01:35<01:40, 20.08s/it]"
     ]
    },
    {
     "name": "stdout",
     "output_type": "stream",
     "text": [
      "{'Top1_Acc_Exp/eval_phase/test_stream/Task000/Exp000': 0.0, 'Top1_Acc_Exp/eval_phase/test_stream/Task000/Exp001': 0.0, 'Top1_Acc_Exp/eval_phase/test_stream/Task000/Exp002': 0.0, 'Top1_Acc_Exp/eval_phase/test_stream/Task000/Exp003': 0.0, 'Top1_Acc_Exp/eval_phase/test_stream/Task000/Exp004': 1.0, 'Top1_Acc_Exp/eval_phase/test_stream/Task000/Exp005': 0.0, 'Top1_Acc_Exp/eval_phase/test_stream/Task000/Exp006': 0.0, 'Top1_Acc_Exp/eval_phase/test_stream/Task000/Exp007': 0.0, 'Top1_Acc_Exp/eval_phase/test_stream/Task000/Exp008': 0.0, 'Top1_Acc_Exp/eval_phase/test_stream/Task000/Exp009': 0.0, 'StreamBWT/eval_phase/test_stream': -1.0, 'Top1_Acc_Stream/eval_phase/test_stream/Task000': 0.0958, 'StreamForgetting/eval_phase/test_stream': 1.0, 'Top1_Acc_Exp/eval_phase/train_stream/Task000/Exp000': 1.0, 'StreamBWT/eval_phase/train_stream': 0.0, 'Top1_Acc_Stream/eval_phase/train_stream/Task000': 1.0, 'StreamForgetting/eval_phase/train_stream': 0.0, 'ExperienceBWT/eval_phase/test_stream/Task000/Exp000': -1.0, 'ExperienceForgetting/eval_phase/test_stream/Task000/Exp000': 1.0, 'Top1_Acc_Exp/eval_phase/train_stream/Task000/Exp001': 1.0, 'ExperienceBWT/eval_phase/test_stream/Task000/Exp001': -1.0, 'ExperienceForgetting/eval_phase/test_stream/Task000/Exp001': 1.0, 'Top1_Acc_Exp/eval_phase/train_stream/Task000/Exp002': 1.0, 'ExperienceBWT/eval_phase/test_stream/Task000/Exp002': -1.0, 'ExperienceForgetting/eval_phase/test_stream/Task000/Exp002': 1.0, 'Top1_Acc_Exp/eval_phase/train_stream/Task000/Exp003': 1.0, 'ExperienceBWT/eval_phase/test_stream/Task000/Exp003': -1.0, 'ExperienceForgetting/eval_phase/test_stream/Task000/Exp003': 1.0, 'Top1_Acc_Exp/eval_phase/train_stream/Task000/Exp004': 1.0}\n",
      "Current class: 9\n",
      "Training completed\n",
      "Computing accuracy for whole test set\n"
     ]
    },
    {
     "name": "stderr",
     "output_type": "stream",
     "text": [
      " 60%|██████    | 6/10 [01:59<01:25, 21.41s/it]"
     ]
    },
    {
     "name": "stdout",
     "output_type": "stream",
     "text": [
      "{'Top1_Acc_Exp/eval_phase/test_stream/Task000/Exp000': 0.0, 'Top1_Acc_Exp/eval_phase/test_stream/Task000/Exp001': 0.0, 'Top1_Acc_Exp/eval_phase/test_stream/Task000/Exp002': 0.0, 'Top1_Acc_Exp/eval_phase/test_stream/Task000/Exp003': 0.0, 'Top1_Acc_Exp/eval_phase/test_stream/Task000/Exp004': 0.0, 'Top1_Acc_Exp/eval_phase/test_stream/Task000/Exp005': 1.0, 'Top1_Acc_Exp/eval_phase/test_stream/Task000/Exp006': 0.0, 'Top1_Acc_Exp/eval_phase/test_stream/Task000/Exp007': 0.0, 'Top1_Acc_Exp/eval_phase/test_stream/Task000/Exp008': 0.0, 'Top1_Acc_Exp/eval_phase/test_stream/Task000/Exp009': 0.0, 'StreamBWT/eval_phase/test_stream': -1.0, 'Top1_Acc_Stream/eval_phase/test_stream/Task000': 0.1009, 'StreamForgetting/eval_phase/test_stream': 1.0, 'Top1_Acc_Exp/eval_phase/train_stream/Task000/Exp000': 1.0, 'StreamBWT/eval_phase/train_stream': 0.0, 'Top1_Acc_Stream/eval_phase/train_stream/Task000': 1.0, 'StreamForgetting/eval_phase/train_stream': 0.0, 'ExperienceBWT/eval_phase/test_stream/Task000/Exp000': -1.0, 'ExperienceForgetting/eval_phase/test_stream/Task000/Exp000': 1.0, 'Top1_Acc_Exp/eval_phase/train_stream/Task000/Exp001': 1.0, 'ExperienceBWT/eval_phase/test_stream/Task000/Exp001': -1.0, 'ExperienceForgetting/eval_phase/test_stream/Task000/Exp001': 1.0, 'Top1_Acc_Exp/eval_phase/train_stream/Task000/Exp002': 1.0, 'ExperienceBWT/eval_phase/test_stream/Task000/Exp002': -1.0, 'ExperienceForgetting/eval_phase/test_stream/Task000/Exp002': 1.0, 'Top1_Acc_Exp/eval_phase/train_stream/Task000/Exp003': 1.0, 'ExperienceBWT/eval_phase/test_stream/Task000/Exp003': -1.0, 'ExperienceForgetting/eval_phase/test_stream/Task000/Exp003': 1.0, 'Top1_Acc_Exp/eval_phase/train_stream/Task000/Exp004': 1.0, 'ExperienceBWT/eval_phase/test_stream/Task000/Exp004': -1.0, 'ExperienceForgetting/eval_phase/test_stream/Task000/Exp004': 1.0, 'Top1_Acc_Exp/eval_phase/train_stream/Task000/Exp005': 1.0}\n",
      "Current class: 1\n",
      "Training completed\n",
      "Computing accuracy for whole test set\n"
     ]
    },
    {
     "name": "stderr",
     "output_type": "stream",
     "text": [
      " 70%|███████   | 7/10 [02:27<01:10, 23.50s/it]"
     ]
    },
    {
     "name": "stdout",
     "output_type": "stream",
     "text": [
      "{'Top1_Acc_Exp/eval_phase/test_stream/Task000/Exp000': 0.0, 'Top1_Acc_Exp/eval_phase/test_stream/Task000/Exp001': 0.0, 'Top1_Acc_Exp/eval_phase/test_stream/Task000/Exp002': 0.0, 'Top1_Acc_Exp/eval_phase/test_stream/Task000/Exp003': 0.0, 'Top1_Acc_Exp/eval_phase/test_stream/Task000/Exp004': 0.0, 'Top1_Acc_Exp/eval_phase/test_stream/Task000/Exp005': 0.0, 'Top1_Acc_Exp/eval_phase/test_stream/Task000/Exp006': 1.0, 'Top1_Acc_Exp/eval_phase/test_stream/Task000/Exp007': 0.0, 'Top1_Acc_Exp/eval_phase/test_stream/Task000/Exp008': 0.0, 'Top1_Acc_Exp/eval_phase/test_stream/Task000/Exp009': 0.0, 'StreamBWT/eval_phase/test_stream': -1.0, 'Top1_Acc_Stream/eval_phase/test_stream/Task000': 0.1135, 'StreamForgetting/eval_phase/test_stream': 1.0, 'Top1_Acc_Exp/eval_phase/train_stream/Task000/Exp000': 1.0, 'StreamBWT/eval_phase/train_stream': 0.0, 'Top1_Acc_Stream/eval_phase/train_stream/Task000': 1.0, 'StreamForgetting/eval_phase/train_stream': 0.0, 'ExperienceBWT/eval_phase/test_stream/Task000/Exp000': -1.0, 'ExperienceForgetting/eval_phase/test_stream/Task000/Exp000': 1.0, 'Top1_Acc_Exp/eval_phase/train_stream/Task000/Exp001': 1.0, 'ExperienceBWT/eval_phase/test_stream/Task000/Exp001': -1.0, 'ExperienceForgetting/eval_phase/test_stream/Task000/Exp001': 1.0, 'Top1_Acc_Exp/eval_phase/train_stream/Task000/Exp002': 1.0, 'ExperienceBWT/eval_phase/test_stream/Task000/Exp002': -1.0, 'ExperienceForgetting/eval_phase/test_stream/Task000/Exp002': 1.0, 'Top1_Acc_Exp/eval_phase/train_stream/Task000/Exp003': 1.0, 'ExperienceBWT/eval_phase/test_stream/Task000/Exp003': -1.0, 'ExperienceForgetting/eval_phase/test_stream/Task000/Exp003': 1.0, 'Top1_Acc_Exp/eval_phase/train_stream/Task000/Exp004': 1.0, 'ExperienceBWT/eval_phase/test_stream/Task000/Exp004': -1.0, 'ExperienceForgetting/eval_phase/test_stream/Task000/Exp004': 1.0, 'Top1_Acc_Exp/eval_phase/train_stream/Task000/Exp005': 1.0, 'ExperienceBWT/eval_phase/test_stream/Task000/Exp005': -1.0, 'ExperienceForgetting/eval_phase/test_stream/Task000/Exp005': 1.0, 'Top1_Acc_Exp/eval_phase/train_stream/Task000/Exp006': 1.0}\n",
      "Current class: 7\n",
      "Training completed\n",
      "Computing accuracy for whole test set\n"
     ]
    },
    {
     "name": "stderr",
     "output_type": "stream",
     "text": [
      " 80%|████████  | 8/10 [02:55<00:49, 24.96s/it]"
     ]
    },
    {
     "name": "stdout",
     "output_type": "stream",
     "text": [
      "{'Top1_Acc_Exp/eval_phase/test_stream/Task000/Exp000': 0.0, 'Top1_Acc_Exp/eval_phase/test_stream/Task000/Exp001': 0.0, 'Top1_Acc_Exp/eval_phase/test_stream/Task000/Exp002': 0.0, 'Top1_Acc_Exp/eval_phase/test_stream/Task000/Exp003': 0.0, 'Top1_Acc_Exp/eval_phase/test_stream/Task000/Exp004': 0.0, 'Top1_Acc_Exp/eval_phase/test_stream/Task000/Exp005': 0.0, 'Top1_Acc_Exp/eval_phase/test_stream/Task000/Exp006': 1.0, 'Top1_Acc_Exp/eval_phase/test_stream/Task000/Exp007': 0.0, 'Top1_Acc_Exp/eval_phase/test_stream/Task000/Exp008': 0.0, 'Top1_Acc_Exp/eval_phase/test_stream/Task000/Exp009': 0.0, 'StreamBWT/eval_phase/test_stream': -0.8571428571428571, 'Top1_Acc_Stream/eval_phase/test_stream/Task000': 0.1135, 'StreamForgetting/eval_phase/test_stream': 0.8571428571428571, 'Top1_Acc_Exp/eval_phase/train_stream/Task000/Exp000': 1.0, 'StreamBWT/eval_phase/train_stream': 0.0, 'Top1_Acc_Stream/eval_phase/train_stream/Task000': 0.0, 'StreamForgetting/eval_phase/train_stream': 0.0, 'ExperienceBWT/eval_phase/test_stream/Task000/Exp000': -1.0, 'ExperienceForgetting/eval_phase/test_stream/Task000/Exp000': 1.0, 'Top1_Acc_Exp/eval_phase/train_stream/Task000/Exp001': 1.0, 'ExperienceBWT/eval_phase/test_stream/Task000/Exp001': -1.0, 'ExperienceForgetting/eval_phase/test_stream/Task000/Exp001': 1.0, 'Top1_Acc_Exp/eval_phase/train_stream/Task000/Exp002': 1.0, 'ExperienceBWT/eval_phase/test_stream/Task000/Exp002': -1.0, 'ExperienceForgetting/eval_phase/test_stream/Task000/Exp002': 1.0, 'Top1_Acc_Exp/eval_phase/train_stream/Task000/Exp003': 1.0, 'ExperienceBWT/eval_phase/test_stream/Task000/Exp003': -1.0, 'ExperienceForgetting/eval_phase/test_stream/Task000/Exp003': 1.0, 'Top1_Acc_Exp/eval_phase/train_stream/Task000/Exp004': 1.0, 'ExperienceBWT/eval_phase/test_stream/Task000/Exp004': -1.0, 'ExperienceForgetting/eval_phase/test_stream/Task000/Exp004': 1.0, 'Top1_Acc_Exp/eval_phase/train_stream/Task000/Exp005': 1.0, 'ExperienceBWT/eval_phase/test_stream/Task000/Exp005': -1.0, 'ExperienceForgetting/eval_phase/test_stream/Task000/Exp005': 1.0, 'Top1_Acc_Exp/eval_phase/train_stream/Task000/Exp006': 1.0, 'ExperienceBWT/eval_phase/test_stream/Task000/Exp006': -0.0, 'ExperienceForgetting/eval_phase/test_stream/Task000/Exp006': 0.0, 'Top1_Acc_Exp/eval_phase/train_stream/Task000/Exp007': 0.0}\n",
      "Current class: 0\n",
      "Training completed\n",
      "Computing accuracy for whole test set\n"
     ]
    },
    {
     "name": "stderr",
     "output_type": "stream",
     "text": [
      " 90%|█████████ | 9/10 [03:23<00:25, 25.89s/it]"
     ]
    },
    {
     "name": "stdout",
     "output_type": "stream",
     "text": [
      "{'Top1_Acc_Exp/eval_phase/test_stream/Task000/Exp000': 0.0, 'Top1_Acc_Exp/eval_phase/test_stream/Task000/Exp001': 0.0, 'Top1_Acc_Exp/eval_phase/test_stream/Task000/Exp002': 0.0, 'Top1_Acc_Exp/eval_phase/test_stream/Task000/Exp003': 0.0, 'Top1_Acc_Exp/eval_phase/test_stream/Task000/Exp004': 0.0, 'Top1_Acc_Exp/eval_phase/test_stream/Task000/Exp005': 0.0, 'Top1_Acc_Exp/eval_phase/test_stream/Task000/Exp006': 1.0, 'Top1_Acc_Exp/eval_phase/test_stream/Task000/Exp007': 0.0, 'Top1_Acc_Exp/eval_phase/test_stream/Task000/Exp008': 0.0, 'Top1_Acc_Exp/eval_phase/test_stream/Task000/Exp009': 0.0, 'StreamBWT/eval_phase/test_stream': -0.75, 'Top1_Acc_Stream/eval_phase/test_stream/Task000': 0.1135, 'StreamForgetting/eval_phase/test_stream': 0.75, 'Top1_Acc_Exp/eval_phase/train_stream/Task000/Exp000': 1.0, 'StreamBWT/eval_phase/train_stream': 0.0, 'Top1_Acc_Stream/eval_phase/train_stream/Task000': 0.0, 'StreamForgetting/eval_phase/train_stream': 0.0, 'ExperienceBWT/eval_phase/test_stream/Task000/Exp000': -1.0, 'ExperienceForgetting/eval_phase/test_stream/Task000/Exp000': 1.0, 'Top1_Acc_Exp/eval_phase/train_stream/Task000/Exp001': 1.0, 'ExperienceBWT/eval_phase/test_stream/Task000/Exp001': -1.0, 'ExperienceForgetting/eval_phase/test_stream/Task000/Exp001': 1.0, 'Top1_Acc_Exp/eval_phase/train_stream/Task000/Exp002': 1.0, 'ExperienceBWT/eval_phase/test_stream/Task000/Exp002': -1.0, 'ExperienceForgetting/eval_phase/test_stream/Task000/Exp002': 1.0, 'Top1_Acc_Exp/eval_phase/train_stream/Task000/Exp003': 1.0, 'ExperienceBWT/eval_phase/test_stream/Task000/Exp003': -1.0, 'ExperienceForgetting/eval_phase/test_stream/Task000/Exp003': 1.0, 'Top1_Acc_Exp/eval_phase/train_stream/Task000/Exp004': 1.0, 'ExperienceBWT/eval_phase/test_stream/Task000/Exp004': -1.0, 'ExperienceForgetting/eval_phase/test_stream/Task000/Exp004': 1.0, 'Top1_Acc_Exp/eval_phase/train_stream/Task000/Exp005': 1.0, 'ExperienceBWT/eval_phase/test_stream/Task000/Exp005': -1.0, 'ExperienceForgetting/eval_phase/test_stream/Task000/Exp005': 1.0, 'Top1_Acc_Exp/eval_phase/train_stream/Task000/Exp006': 1.0, 'ExperienceBWT/eval_phase/test_stream/Task000/Exp006': -0.0, 'ExperienceForgetting/eval_phase/test_stream/Task000/Exp006': 0.0, 'Top1_Acc_Exp/eval_phase/train_stream/Task000/Exp007': 0.0, 'ExperienceBWT/eval_phase/test_stream/Task000/Exp007': -0.0, 'ExperienceForgetting/eval_phase/test_stream/Task000/Exp007': 0.0, 'Top1_Acc_Exp/eval_phase/train_stream/Task000/Exp008': 0.0}\n",
      "Current class: 3\n",
      "Training completed\n",
      "Computing accuracy for whole test set\n"
     ]
    },
    {
     "name": "stderr",
     "output_type": "stream",
     "text": [
      "100%|██████████| 10/10 [03:52<00:00, 23.27s/it]"
     ]
    },
    {
     "name": "stdout",
     "output_type": "stream",
     "text": [
      "{'Top1_Acc_Exp/eval_phase/test_stream/Task000/Exp000': 0.0, 'Top1_Acc_Exp/eval_phase/test_stream/Task000/Exp001': 0.0, 'Top1_Acc_Exp/eval_phase/test_stream/Task000/Exp002': 0.0, 'Top1_Acc_Exp/eval_phase/test_stream/Task000/Exp003': 0.0, 'Top1_Acc_Exp/eval_phase/test_stream/Task000/Exp004': 0.0, 'Top1_Acc_Exp/eval_phase/test_stream/Task000/Exp005': 0.0, 'Top1_Acc_Exp/eval_phase/test_stream/Task000/Exp006': 1.0, 'Top1_Acc_Exp/eval_phase/test_stream/Task000/Exp007': 0.0, 'Top1_Acc_Exp/eval_phase/test_stream/Task000/Exp008': 0.0, 'Top1_Acc_Exp/eval_phase/test_stream/Task000/Exp009': 0.0, 'StreamBWT/eval_phase/test_stream': -0.6666666666666666, 'Top1_Acc_Stream/eval_phase/test_stream/Task000': 0.1135, 'StreamForgetting/eval_phase/test_stream': 0.6666666666666666, 'Top1_Acc_Exp/eval_phase/train_stream/Task000/Exp000': 1.0, 'StreamBWT/eval_phase/train_stream': 0.0, 'Top1_Acc_Stream/eval_phase/train_stream/Task000': 0.0, 'StreamForgetting/eval_phase/train_stream': 0.0, 'ExperienceBWT/eval_phase/test_stream/Task000/Exp000': -1.0, 'ExperienceForgetting/eval_phase/test_stream/Task000/Exp000': 1.0, 'Top1_Acc_Exp/eval_phase/train_stream/Task000/Exp001': 1.0, 'ExperienceBWT/eval_phase/test_stream/Task000/Exp001': -1.0, 'ExperienceForgetting/eval_phase/test_stream/Task000/Exp001': 1.0, 'Top1_Acc_Exp/eval_phase/train_stream/Task000/Exp002': 1.0, 'ExperienceBWT/eval_phase/test_stream/Task000/Exp002': -1.0, 'ExperienceForgetting/eval_phase/test_stream/Task000/Exp002': 1.0, 'Top1_Acc_Exp/eval_phase/train_stream/Task000/Exp003': 1.0, 'ExperienceBWT/eval_phase/test_stream/Task000/Exp003': -1.0, 'ExperienceForgetting/eval_phase/test_stream/Task000/Exp003': 1.0, 'Top1_Acc_Exp/eval_phase/train_stream/Task000/Exp004': 1.0, 'ExperienceBWT/eval_phase/test_stream/Task000/Exp004': -1.0, 'ExperienceForgetting/eval_phase/test_stream/Task000/Exp004': 1.0, 'Top1_Acc_Exp/eval_phase/train_stream/Task000/Exp005': 1.0, 'ExperienceBWT/eval_phase/test_stream/Task000/Exp005': -1.0, 'ExperienceForgetting/eval_phase/test_stream/Task000/Exp005': 1.0, 'Top1_Acc_Exp/eval_phase/train_stream/Task000/Exp006': 1.0, 'ExperienceBWT/eval_phase/test_stream/Task000/Exp006': -0.0, 'ExperienceForgetting/eval_phase/test_stream/Task000/Exp006': 0.0, 'Top1_Acc_Exp/eval_phase/train_stream/Task000/Exp007': 0.0, 'ExperienceBWT/eval_phase/test_stream/Task000/Exp007': -0.0, 'ExperienceForgetting/eval_phase/test_stream/Task000/Exp007': 0.0, 'Top1_Acc_Exp/eval_phase/train_stream/Task000/Exp008': 0.0, 'ExperienceBWT/eval_phase/test_stream/Task000/Exp008': -0.0, 'ExperienceForgetting/eval_phase/test_stream/Task000/Exp008': 0.0, 'Top1_Acc_Exp/eval_phase/train_stream/Task000/Exp009': 0.0}\n"
     ]
    },
    {
     "name": "stderr",
     "output_type": "stream",
     "text": [
      "\n"
     ]
    }
   ],
   "source": [
    "results = list()\n",
    "\n",
    "for experience in tqdm(train_stream):\n",
    "    print(\"Current class:\", experience.classes_in_this_experience[0])\n",
    "    strategy.train(experience, eval_streams=[test_stream])\n",
    "\n",
    "    print(\"Training completed\\nComputing accuracy for whole test set\")\n",
    "    results.append(strategy.eval(test_stream))\n",
    "    r = strategy.eval(experience)\n",
    "    print(r)"
   ]
  },
  {
   "cell_type": "code",
   "execution_count": 132,
   "metadata": {},
   "outputs": [
    {
     "name": "stdout",
     "output_type": "stream",
     "text": [
      "{'Top1_Acc_Exp/eval_phase/test_stream/Task000/Exp000': 1.0, 'Top1_Acc_Exp/eval_phase/test_stream/Task000/Exp001': 0.0, 'Top1_Acc_Exp/eval_phase/test_stream/Task000/Exp002': 0.0, 'Top1_Acc_Exp/eval_phase/test_stream/Task000/Exp003': 0.0, 'Top1_Acc_Exp/eval_phase/test_stream/Task000/Exp004': 0.0, 'Top1_Acc_Exp/eval_phase/test_stream/Task000/Exp005': 0.0, 'Top1_Acc_Exp/eval_phase/test_stream/Task000/Exp006': 0.0, 'Top1_Acc_Exp/eval_phase/test_stream/Task000/Exp007': 0.0, 'Top1_Acc_Exp/eval_phase/test_stream/Task000/Exp008': 0.0, 'Top1_Acc_Exp/eval_phase/test_stream/Task000/Exp009': 0.0, 'StreamBWT/eval_phase/test_stream': 0.0, 'Top1_Acc_Stream/eval_phase/test_stream/Task000': 0.0892, 'StreamForgetting/eval_phase/test_stream': 0.0}\n",
      "{'Top1_Acc_Exp/eval_phase/test_stream/Task000/Exp000': 0.0, 'Top1_Acc_Exp/eval_phase/test_stream/Task000/Exp001': 1.0, 'Top1_Acc_Exp/eval_phase/test_stream/Task000/Exp002': 0.0, 'Top1_Acc_Exp/eval_phase/test_stream/Task000/Exp003': 0.0, 'Top1_Acc_Exp/eval_phase/test_stream/Task000/Exp004': 0.0, 'Top1_Acc_Exp/eval_phase/test_stream/Task000/Exp005': 0.0, 'Top1_Acc_Exp/eval_phase/test_stream/Task000/Exp006': 0.0, 'Top1_Acc_Exp/eval_phase/test_stream/Task000/Exp007': 0.0, 'Top1_Acc_Exp/eval_phase/test_stream/Task000/Exp008': 0.0, 'Top1_Acc_Exp/eval_phase/test_stream/Task000/Exp009': 0.0, 'StreamBWT/eval_phase/test_stream': -1.0, 'Top1_Acc_Stream/eval_phase/test_stream/Task000': 0.0982, 'StreamForgetting/eval_phase/test_stream': 1.0, 'ExperienceBWT/eval_phase/test_stream/Task000/Exp000': -1.0, 'ExperienceForgetting/eval_phase/test_stream/Task000/Exp000': 1.0}\n",
      "{'Top1_Acc_Exp/eval_phase/test_stream/Task000/Exp000': 0.0, 'Top1_Acc_Exp/eval_phase/test_stream/Task000/Exp001': 0.0, 'Top1_Acc_Exp/eval_phase/test_stream/Task000/Exp002': 1.0, 'Top1_Acc_Exp/eval_phase/test_stream/Task000/Exp003': 0.0, 'Top1_Acc_Exp/eval_phase/test_stream/Task000/Exp004': 0.0, 'Top1_Acc_Exp/eval_phase/test_stream/Task000/Exp005': 0.0, 'Top1_Acc_Exp/eval_phase/test_stream/Task000/Exp006': 0.0, 'Top1_Acc_Exp/eval_phase/test_stream/Task000/Exp007': 0.0, 'Top1_Acc_Exp/eval_phase/test_stream/Task000/Exp008': 0.0, 'Top1_Acc_Exp/eval_phase/test_stream/Task000/Exp009': 0.0, 'StreamBWT/eval_phase/test_stream': -1.0, 'Top1_Acc_Stream/eval_phase/test_stream/Task000': 0.0974, 'StreamForgetting/eval_phase/test_stream': 1.0, 'ExperienceBWT/eval_phase/test_stream/Task000/Exp000': -1.0, 'ExperienceForgetting/eval_phase/test_stream/Task000/Exp000': 1.0, 'ExperienceBWT/eval_phase/test_stream/Task000/Exp001': -1.0, 'ExperienceForgetting/eval_phase/test_stream/Task000/Exp001': 1.0}\n",
      "{'Top1_Acc_Exp/eval_phase/test_stream/Task000/Exp000': 0.0, 'Top1_Acc_Exp/eval_phase/test_stream/Task000/Exp001': 0.0, 'Top1_Acc_Exp/eval_phase/test_stream/Task000/Exp002': 0.0, 'Top1_Acc_Exp/eval_phase/test_stream/Task000/Exp003': 1.0, 'Top1_Acc_Exp/eval_phase/test_stream/Task000/Exp004': 0.0, 'Top1_Acc_Exp/eval_phase/test_stream/Task000/Exp005': 0.0, 'Top1_Acc_Exp/eval_phase/test_stream/Task000/Exp006': 0.0, 'Top1_Acc_Exp/eval_phase/test_stream/Task000/Exp007': 0.0, 'Top1_Acc_Exp/eval_phase/test_stream/Task000/Exp008': 0.0, 'Top1_Acc_Exp/eval_phase/test_stream/Task000/Exp009': 0.0, 'StreamBWT/eval_phase/test_stream': -1.0, 'Top1_Acc_Stream/eval_phase/test_stream/Task000': 0.1032, 'StreamForgetting/eval_phase/test_stream': 1.0, 'ExperienceBWT/eval_phase/test_stream/Task000/Exp000': -1.0, 'ExperienceForgetting/eval_phase/test_stream/Task000/Exp000': 1.0, 'ExperienceBWT/eval_phase/test_stream/Task000/Exp001': -1.0, 'ExperienceForgetting/eval_phase/test_stream/Task000/Exp001': 1.0, 'ExperienceBWT/eval_phase/test_stream/Task000/Exp002': -1.0, 'ExperienceForgetting/eval_phase/test_stream/Task000/Exp002': 1.0}\n",
      "{'Top1_Acc_Exp/eval_phase/test_stream/Task000/Exp000': 0.0, 'Top1_Acc_Exp/eval_phase/test_stream/Task000/Exp001': 0.0, 'Top1_Acc_Exp/eval_phase/test_stream/Task000/Exp002': 0.0, 'Top1_Acc_Exp/eval_phase/test_stream/Task000/Exp003': 0.0, 'Top1_Acc_Exp/eval_phase/test_stream/Task000/Exp004': 1.0, 'Top1_Acc_Exp/eval_phase/test_stream/Task000/Exp005': 0.0, 'Top1_Acc_Exp/eval_phase/test_stream/Task000/Exp006': 0.0, 'Top1_Acc_Exp/eval_phase/test_stream/Task000/Exp007': 0.0, 'Top1_Acc_Exp/eval_phase/test_stream/Task000/Exp008': 0.0, 'Top1_Acc_Exp/eval_phase/test_stream/Task000/Exp009': 0.0, 'StreamBWT/eval_phase/test_stream': -1.0, 'Top1_Acc_Stream/eval_phase/test_stream/Task000': 0.0958, 'StreamForgetting/eval_phase/test_stream': 1.0, 'ExperienceBWT/eval_phase/test_stream/Task000/Exp000': -1.0, 'ExperienceForgetting/eval_phase/test_stream/Task000/Exp000': 1.0, 'ExperienceBWT/eval_phase/test_stream/Task000/Exp001': -1.0, 'ExperienceForgetting/eval_phase/test_stream/Task000/Exp001': 1.0, 'ExperienceBWT/eval_phase/test_stream/Task000/Exp002': -1.0, 'ExperienceForgetting/eval_phase/test_stream/Task000/Exp002': 1.0, 'ExperienceBWT/eval_phase/test_stream/Task000/Exp003': -1.0, 'ExperienceForgetting/eval_phase/test_stream/Task000/Exp003': 1.0}\n",
      "{'Top1_Acc_Exp/eval_phase/test_stream/Task000/Exp000': 0.0, 'Top1_Acc_Exp/eval_phase/test_stream/Task000/Exp001': 0.0, 'Top1_Acc_Exp/eval_phase/test_stream/Task000/Exp002': 0.0, 'Top1_Acc_Exp/eval_phase/test_stream/Task000/Exp003': 0.0, 'Top1_Acc_Exp/eval_phase/test_stream/Task000/Exp004': 0.0, 'Top1_Acc_Exp/eval_phase/test_stream/Task000/Exp005': 1.0, 'Top1_Acc_Exp/eval_phase/test_stream/Task000/Exp006': 0.0, 'Top1_Acc_Exp/eval_phase/test_stream/Task000/Exp007': 0.0, 'Top1_Acc_Exp/eval_phase/test_stream/Task000/Exp008': 0.0, 'Top1_Acc_Exp/eval_phase/test_stream/Task000/Exp009': 0.0, 'StreamBWT/eval_phase/test_stream': -1.0, 'Top1_Acc_Stream/eval_phase/test_stream/Task000': 0.1009, 'StreamForgetting/eval_phase/test_stream': 1.0, 'ExperienceBWT/eval_phase/test_stream/Task000/Exp000': -1.0, 'ExperienceForgetting/eval_phase/test_stream/Task000/Exp000': 1.0, 'ExperienceBWT/eval_phase/test_stream/Task000/Exp001': -1.0, 'ExperienceForgetting/eval_phase/test_stream/Task000/Exp001': 1.0, 'ExperienceBWT/eval_phase/test_stream/Task000/Exp002': -1.0, 'ExperienceForgetting/eval_phase/test_stream/Task000/Exp002': 1.0, 'ExperienceBWT/eval_phase/test_stream/Task000/Exp003': -1.0, 'ExperienceForgetting/eval_phase/test_stream/Task000/Exp003': 1.0, 'ExperienceBWT/eval_phase/test_stream/Task000/Exp004': -1.0, 'ExperienceForgetting/eval_phase/test_stream/Task000/Exp004': 1.0}\n",
      "{'Top1_Acc_Exp/eval_phase/test_stream/Task000/Exp000': 0.0, 'Top1_Acc_Exp/eval_phase/test_stream/Task000/Exp001': 0.0, 'Top1_Acc_Exp/eval_phase/test_stream/Task000/Exp002': 0.0, 'Top1_Acc_Exp/eval_phase/test_stream/Task000/Exp003': 0.0, 'Top1_Acc_Exp/eval_phase/test_stream/Task000/Exp004': 0.0, 'Top1_Acc_Exp/eval_phase/test_stream/Task000/Exp005': 0.0, 'Top1_Acc_Exp/eval_phase/test_stream/Task000/Exp006': 1.0, 'Top1_Acc_Exp/eval_phase/test_stream/Task000/Exp007': 0.0, 'Top1_Acc_Exp/eval_phase/test_stream/Task000/Exp008': 0.0, 'Top1_Acc_Exp/eval_phase/test_stream/Task000/Exp009': 0.0, 'StreamBWT/eval_phase/test_stream': -1.0, 'Top1_Acc_Stream/eval_phase/test_stream/Task000': 0.1135, 'StreamForgetting/eval_phase/test_stream': 1.0, 'ExperienceBWT/eval_phase/test_stream/Task000/Exp000': -1.0, 'ExperienceForgetting/eval_phase/test_stream/Task000/Exp000': 1.0, 'ExperienceBWT/eval_phase/test_stream/Task000/Exp001': -1.0, 'ExperienceForgetting/eval_phase/test_stream/Task000/Exp001': 1.0, 'ExperienceBWT/eval_phase/test_stream/Task000/Exp002': -1.0, 'ExperienceForgetting/eval_phase/test_stream/Task000/Exp002': 1.0, 'ExperienceBWT/eval_phase/test_stream/Task000/Exp003': -1.0, 'ExperienceForgetting/eval_phase/test_stream/Task000/Exp003': 1.0, 'ExperienceBWT/eval_phase/test_stream/Task000/Exp004': -1.0, 'ExperienceForgetting/eval_phase/test_stream/Task000/Exp004': 1.0, 'ExperienceBWT/eval_phase/test_stream/Task000/Exp005': -1.0, 'ExperienceForgetting/eval_phase/test_stream/Task000/Exp005': 1.0}\n",
      "{'Top1_Acc_Exp/eval_phase/test_stream/Task000/Exp000': 0.0, 'Top1_Acc_Exp/eval_phase/test_stream/Task000/Exp001': 0.0, 'Top1_Acc_Exp/eval_phase/test_stream/Task000/Exp002': 0.0, 'Top1_Acc_Exp/eval_phase/test_stream/Task000/Exp003': 0.0, 'Top1_Acc_Exp/eval_phase/test_stream/Task000/Exp004': 0.0, 'Top1_Acc_Exp/eval_phase/test_stream/Task000/Exp005': 0.0, 'Top1_Acc_Exp/eval_phase/test_stream/Task000/Exp006': 0.0, 'Top1_Acc_Exp/eval_phase/test_stream/Task000/Exp007': 1.0, 'Top1_Acc_Exp/eval_phase/test_stream/Task000/Exp008': 0.0, 'Top1_Acc_Exp/eval_phase/test_stream/Task000/Exp009': 0.0, 'StreamBWT/eval_phase/test_stream': -1.0, 'Top1_Acc_Stream/eval_phase/test_stream/Task000': 0.1028, 'StreamForgetting/eval_phase/test_stream': 1.0, 'ExperienceBWT/eval_phase/test_stream/Task000/Exp000': -1.0, 'ExperienceForgetting/eval_phase/test_stream/Task000/Exp000': 1.0, 'ExperienceBWT/eval_phase/test_stream/Task000/Exp001': -1.0, 'ExperienceForgetting/eval_phase/test_stream/Task000/Exp001': 1.0, 'ExperienceBWT/eval_phase/test_stream/Task000/Exp002': -1.0, 'ExperienceForgetting/eval_phase/test_stream/Task000/Exp002': 1.0, 'ExperienceBWT/eval_phase/test_stream/Task000/Exp003': -1.0, 'ExperienceForgetting/eval_phase/test_stream/Task000/Exp003': 1.0, 'ExperienceBWT/eval_phase/test_stream/Task000/Exp004': -1.0, 'ExperienceForgetting/eval_phase/test_stream/Task000/Exp004': 1.0, 'ExperienceBWT/eval_phase/test_stream/Task000/Exp005': -1.0, 'ExperienceForgetting/eval_phase/test_stream/Task000/Exp005': 1.0, 'ExperienceBWT/eval_phase/test_stream/Task000/Exp006': -1.0, 'ExperienceForgetting/eval_phase/test_stream/Task000/Exp006': 1.0}\n",
      "{'Top1_Acc_Exp/eval_phase/test_stream/Task000/Exp000': 0.0, 'Top1_Acc_Exp/eval_phase/test_stream/Task000/Exp001': 0.0, 'Top1_Acc_Exp/eval_phase/test_stream/Task000/Exp002': 0.0, 'Top1_Acc_Exp/eval_phase/test_stream/Task000/Exp003': 0.0, 'Top1_Acc_Exp/eval_phase/test_stream/Task000/Exp004': 0.0, 'Top1_Acc_Exp/eval_phase/test_stream/Task000/Exp005': 0.0, 'Top1_Acc_Exp/eval_phase/test_stream/Task000/Exp006': 0.0, 'Top1_Acc_Exp/eval_phase/test_stream/Task000/Exp007': 0.0, 'Top1_Acc_Exp/eval_phase/test_stream/Task000/Exp008': 1.0, 'Top1_Acc_Exp/eval_phase/test_stream/Task000/Exp009': 0.0, 'StreamBWT/eval_phase/test_stream': -1.0, 'Top1_Acc_Stream/eval_phase/test_stream/Task000': 0.098, 'StreamForgetting/eval_phase/test_stream': 1.0, 'ExperienceBWT/eval_phase/test_stream/Task000/Exp000': -1.0, 'ExperienceForgetting/eval_phase/test_stream/Task000/Exp000': 1.0, 'ExperienceBWT/eval_phase/test_stream/Task000/Exp001': -1.0, 'ExperienceForgetting/eval_phase/test_stream/Task000/Exp001': 1.0, 'ExperienceBWT/eval_phase/test_stream/Task000/Exp002': -1.0, 'ExperienceForgetting/eval_phase/test_stream/Task000/Exp002': 1.0, 'ExperienceBWT/eval_phase/test_stream/Task000/Exp003': -1.0, 'ExperienceForgetting/eval_phase/test_stream/Task000/Exp003': 1.0, 'ExperienceBWT/eval_phase/test_stream/Task000/Exp004': -1.0, 'ExperienceForgetting/eval_phase/test_stream/Task000/Exp004': 1.0, 'ExperienceBWT/eval_phase/test_stream/Task000/Exp005': -1.0, 'ExperienceForgetting/eval_phase/test_stream/Task000/Exp005': 1.0, 'ExperienceBWT/eval_phase/test_stream/Task000/Exp006': -1.0, 'ExperienceForgetting/eval_phase/test_stream/Task000/Exp006': 1.0, 'ExperienceBWT/eval_phase/test_stream/Task000/Exp007': -1.0, 'ExperienceForgetting/eval_phase/test_stream/Task000/Exp007': 1.0}\n",
      "{'Top1_Acc_Exp/eval_phase/test_stream/Task000/Exp000': 0.0, 'Top1_Acc_Exp/eval_phase/test_stream/Task000/Exp001': 0.0, 'Top1_Acc_Exp/eval_phase/test_stream/Task000/Exp002': 0.0, 'Top1_Acc_Exp/eval_phase/test_stream/Task000/Exp003': 0.0, 'Top1_Acc_Exp/eval_phase/test_stream/Task000/Exp004': 0.0, 'Top1_Acc_Exp/eval_phase/test_stream/Task000/Exp005': 0.0, 'Top1_Acc_Exp/eval_phase/test_stream/Task000/Exp006': 0.0, 'Top1_Acc_Exp/eval_phase/test_stream/Task000/Exp007': 0.0, 'Top1_Acc_Exp/eval_phase/test_stream/Task000/Exp008': 0.0, 'Top1_Acc_Exp/eval_phase/test_stream/Task000/Exp009': 1.0, 'StreamBWT/eval_phase/test_stream': -1.0, 'Top1_Acc_Stream/eval_phase/test_stream/Task000': 0.101, 'StreamForgetting/eval_phase/test_stream': 1.0, 'ExperienceBWT/eval_phase/test_stream/Task000/Exp000': -1.0, 'ExperienceForgetting/eval_phase/test_stream/Task000/Exp000': 1.0, 'ExperienceBWT/eval_phase/test_stream/Task000/Exp001': -1.0, 'ExperienceForgetting/eval_phase/test_stream/Task000/Exp001': 1.0, 'ExperienceBWT/eval_phase/test_stream/Task000/Exp002': -1.0, 'ExperienceForgetting/eval_phase/test_stream/Task000/Exp002': 1.0, 'ExperienceBWT/eval_phase/test_stream/Task000/Exp003': -1.0, 'ExperienceForgetting/eval_phase/test_stream/Task000/Exp003': 1.0, 'ExperienceBWT/eval_phase/test_stream/Task000/Exp004': -1.0, 'ExperienceForgetting/eval_phase/test_stream/Task000/Exp004': 1.0, 'ExperienceBWT/eval_phase/test_stream/Task000/Exp005': -1.0, 'ExperienceForgetting/eval_phase/test_stream/Task000/Exp005': 1.0, 'ExperienceBWT/eval_phase/test_stream/Task000/Exp006': -1.0, 'ExperienceForgetting/eval_phase/test_stream/Task000/Exp006': 1.0, 'ExperienceBWT/eval_phase/test_stream/Task000/Exp007': -1.0, 'ExperienceForgetting/eval_phase/test_stream/Task000/Exp007': 1.0, 'ExperienceBWT/eval_phase/test_stream/Task000/Exp008': -1.0, 'ExperienceForgetting/eval_phase/test_stream/Task000/Exp008': 1.0}\n"
     ]
    }
   ],
   "source": [
    "for result in results:\n",
    "    print(result)"
   ]
  },
  {
   "cell_type": "code",
   "execution_count": 68,
   "metadata": {},
   "outputs": [
    {
     "name": "stdout",
     "output_type": "stream",
     "text": [
      "Evaluating after training task 1\n",
      "Top1_Acc_Exp/eval_phase/test_stream/Task000/Exp000: 1.0\n",
      "Top1_Acc_Exp/eval_phase/test_stream/Task001/Exp001: 0.0\n",
      "Top1_Acc_Exp/eval_phase/test_stream/Task002/Exp002: 0.0\n",
      "Top1_Acc_Exp/eval_phase/test_stream/Task003/Exp003: 0.0\n",
      "Top1_Acc_Exp/eval_phase/test_stream/Task004/Exp004: 0.0\n",
      "Top1_Acc_Exp/eval_phase/test_stream/Task005/Exp005: 0.0\n",
      "Top1_Acc_Exp/eval_phase/test_stream/Task006/Exp006: 0.0\n",
      "Top1_Acc_Exp/eval_phase/test_stream/Task007/Exp007: 0.0\n",
      "Top1_Acc_Exp/eval_phase/test_stream/Task008/Exp008: 0.0\n",
      "Top1_Acc_Exp/eval_phase/test_stream/Task009/Exp009: 0.0\n",
      "Top1_Acc_Stream/eval_phase/test_stream/Task009: 0.0892\n",
      "Evaluating after training task 2\n",
      "Top1_Acc_Exp/eval_phase/test_stream/Task000/Exp000: 0.0\n",
      "Top1_Acc_Exp/eval_phase/test_stream/Task001/Exp001: 1.0\n",
      "Top1_Acc_Exp/eval_phase/test_stream/Task002/Exp002: 0.0\n",
      "Top1_Acc_Exp/eval_phase/test_stream/Task003/Exp003: 0.0\n",
      "Top1_Acc_Exp/eval_phase/test_stream/Task004/Exp004: 0.0\n",
      "Top1_Acc_Exp/eval_phase/test_stream/Task005/Exp005: 0.0\n",
      "Top1_Acc_Exp/eval_phase/test_stream/Task006/Exp006: 0.0\n",
      "Top1_Acc_Exp/eval_phase/test_stream/Task007/Exp007: 0.0\n",
      "Top1_Acc_Exp/eval_phase/test_stream/Task008/Exp008: 0.0\n",
      "Top1_Acc_Exp/eval_phase/test_stream/Task009/Exp009: 0.0\n",
      "Top1_Acc_Stream/eval_phase/test_stream/Task009: 0.0982\n",
      "Evaluating after training task 3\n",
      "Top1_Acc_Exp/eval_phase/test_stream/Task000/Exp000: 0.0\n",
      "Top1_Acc_Exp/eval_phase/test_stream/Task001/Exp001: 0.0\n",
      "Top1_Acc_Exp/eval_phase/test_stream/Task002/Exp002: 1.0\n",
      "Top1_Acc_Exp/eval_phase/test_stream/Task003/Exp003: 0.0\n",
      "Top1_Acc_Exp/eval_phase/test_stream/Task004/Exp004: 0.0\n",
      "Top1_Acc_Exp/eval_phase/test_stream/Task005/Exp005: 0.0\n",
      "Top1_Acc_Exp/eval_phase/test_stream/Task006/Exp006: 0.0\n",
      "Top1_Acc_Exp/eval_phase/test_stream/Task007/Exp007: 0.0\n",
      "Top1_Acc_Exp/eval_phase/test_stream/Task008/Exp008: 0.0\n",
      "Top1_Acc_Exp/eval_phase/test_stream/Task009/Exp009: 0.0\n",
      "Top1_Acc_Stream/eval_phase/test_stream/Task009: 0.0974\n",
      "Evaluating after training task 4\n",
      "Top1_Acc_Exp/eval_phase/test_stream/Task000/Exp000: 0.0\n",
      "Top1_Acc_Exp/eval_phase/test_stream/Task001/Exp001: 0.0\n",
      "Top1_Acc_Exp/eval_phase/test_stream/Task002/Exp002: 0.0\n",
      "Top1_Acc_Exp/eval_phase/test_stream/Task003/Exp003: 1.0\n",
      "Top1_Acc_Exp/eval_phase/test_stream/Task004/Exp004: 0.0\n",
      "Top1_Acc_Exp/eval_phase/test_stream/Task005/Exp005: 0.0\n",
      "Top1_Acc_Exp/eval_phase/test_stream/Task006/Exp006: 0.0\n",
      "Top1_Acc_Exp/eval_phase/test_stream/Task007/Exp007: 0.0\n",
      "Top1_Acc_Exp/eval_phase/test_stream/Task008/Exp008: 0.0\n",
      "Top1_Acc_Exp/eval_phase/test_stream/Task009/Exp009: 0.0\n",
      "Top1_Acc_Stream/eval_phase/test_stream/Task009: 0.1032\n",
      "Evaluating after training task 5\n",
      "Top1_Acc_Exp/eval_phase/test_stream/Task000/Exp000: 0.0\n",
      "Top1_Acc_Exp/eval_phase/test_stream/Task001/Exp001: 0.0\n",
      "Top1_Acc_Exp/eval_phase/test_stream/Task002/Exp002: 0.0\n",
      "Top1_Acc_Exp/eval_phase/test_stream/Task003/Exp003: 0.0\n",
      "Top1_Acc_Exp/eval_phase/test_stream/Task004/Exp004: 1.0\n",
      "Top1_Acc_Exp/eval_phase/test_stream/Task005/Exp005: 0.0\n",
      "Top1_Acc_Exp/eval_phase/test_stream/Task006/Exp006: 0.0\n",
      "Top1_Acc_Exp/eval_phase/test_stream/Task007/Exp007: 0.0\n",
      "Top1_Acc_Exp/eval_phase/test_stream/Task008/Exp008: 0.0\n",
      "Top1_Acc_Exp/eval_phase/test_stream/Task009/Exp009: 0.0\n",
      "Top1_Acc_Stream/eval_phase/test_stream/Task009: 0.0958\n",
      "Evaluating after training task 6\n",
      "Top1_Acc_Exp/eval_phase/test_stream/Task000/Exp000: 0.0\n",
      "Top1_Acc_Exp/eval_phase/test_stream/Task001/Exp001: 0.0\n",
      "Top1_Acc_Exp/eval_phase/test_stream/Task002/Exp002: 0.0\n",
      "Top1_Acc_Exp/eval_phase/test_stream/Task003/Exp003: 0.0\n",
      "Top1_Acc_Exp/eval_phase/test_stream/Task004/Exp004: 0.0\n",
      "Top1_Acc_Exp/eval_phase/test_stream/Task005/Exp005: 1.0\n",
      "Top1_Acc_Exp/eval_phase/test_stream/Task006/Exp006: 0.0\n",
      "Top1_Acc_Exp/eval_phase/test_stream/Task007/Exp007: 0.0\n",
      "Top1_Acc_Exp/eval_phase/test_stream/Task008/Exp008: 0.0\n",
      "Top1_Acc_Exp/eval_phase/test_stream/Task009/Exp009: 0.0\n",
      "Top1_Acc_Stream/eval_phase/test_stream/Task009: 0.1009\n",
      "Evaluating after training task 7\n",
      "Top1_Acc_Exp/eval_phase/test_stream/Task000/Exp000: 0.0\n",
      "Top1_Acc_Exp/eval_phase/test_stream/Task001/Exp001: 0.0\n",
      "Top1_Acc_Exp/eval_phase/test_stream/Task002/Exp002: 0.0\n",
      "Top1_Acc_Exp/eval_phase/test_stream/Task003/Exp003: 0.0\n",
      "Top1_Acc_Exp/eval_phase/test_stream/Task004/Exp004: 0.0\n",
      "Top1_Acc_Exp/eval_phase/test_stream/Task005/Exp005: 0.0\n",
      "Top1_Acc_Exp/eval_phase/test_stream/Task006/Exp006: 1.0\n",
      "Top1_Acc_Exp/eval_phase/test_stream/Task007/Exp007: 0.0\n",
      "Top1_Acc_Exp/eval_phase/test_stream/Task008/Exp008: 0.0\n",
      "Top1_Acc_Exp/eval_phase/test_stream/Task009/Exp009: 0.0\n",
      "Top1_Acc_Stream/eval_phase/test_stream/Task009: 0.1135\n",
      "Evaluating after training task 8\n",
      "Top1_Acc_Exp/eval_phase/test_stream/Task000/Exp000: 0.0\n",
      "Top1_Acc_Exp/eval_phase/test_stream/Task001/Exp001: 0.0\n",
      "Top1_Acc_Exp/eval_phase/test_stream/Task002/Exp002: 0.0\n",
      "Top1_Acc_Exp/eval_phase/test_stream/Task003/Exp003: 0.0\n",
      "Top1_Acc_Exp/eval_phase/test_stream/Task004/Exp004: 0.0\n",
      "Top1_Acc_Exp/eval_phase/test_stream/Task005/Exp005: 0.0\n",
      "Top1_Acc_Exp/eval_phase/test_stream/Task006/Exp006: 0.0\n",
      "Top1_Acc_Exp/eval_phase/test_stream/Task007/Exp007: 1.0\n",
      "Top1_Acc_Exp/eval_phase/test_stream/Task008/Exp008: 0.0\n",
      "Top1_Acc_Exp/eval_phase/test_stream/Task009/Exp009: 0.0\n",
      "Top1_Acc_Stream/eval_phase/test_stream/Task009: 0.1028\n",
      "Evaluating after training task 9\n",
      "Top1_Acc_Exp/eval_phase/test_stream/Task000/Exp000: 0.0\n",
      "Top1_Acc_Exp/eval_phase/test_stream/Task001/Exp001: 0.0\n",
      "Top1_Acc_Exp/eval_phase/test_stream/Task002/Exp002: 0.0\n",
      "Top1_Acc_Exp/eval_phase/test_stream/Task003/Exp003: 0.0\n",
      "Top1_Acc_Exp/eval_phase/test_stream/Task004/Exp004: 0.0\n",
      "Top1_Acc_Exp/eval_phase/test_stream/Task005/Exp005: 0.0\n",
      "Top1_Acc_Exp/eval_phase/test_stream/Task006/Exp006: 0.0\n",
      "Top1_Acc_Exp/eval_phase/test_stream/Task007/Exp007: 0.0\n",
      "Top1_Acc_Exp/eval_phase/test_stream/Task008/Exp008: 1.0\n",
      "Top1_Acc_Exp/eval_phase/test_stream/Task009/Exp009: 0.0\n",
      "Top1_Acc_Stream/eval_phase/test_stream/Task009: 0.098\n",
      "Evaluating after training task 10\n",
      "Top1_Acc_Exp/eval_phase/test_stream/Task000/Exp000: 0.0\n",
      "Top1_Acc_Exp/eval_phase/test_stream/Task001/Exp001: 0.0\n",
      "Top1_Acc_Exp/eval_phase/test_stream/Task002/Exp002: 0.0\n",
      "Top1_Acc_Exp/eval_phase/test_stream/Task003/Exp003: 0.0\n",
      "Top1_Acc_Exp/eval_phase/test_stream/Task004/Exp004: 0.0\n",
      "Top1_Acc_Exp/eval_phase/test_stream/Task005/Exp005: 0.0\n",
      "Top1_Acc_Exp/eval_phase/test_stream/Task006/Exp006: 0.0\n",
      "Top1_Acc_Exp/eval_phase/test_stream/Task007/Exp007: 0.0\n",
      "Top1_Acc_Exp/eval_phase/test_stream/Task008/Exp008: 0.0\n",
      "Top1_Acc_Exp/eval_phase/test_stream/Task009/Exp009: 1.0\n",
      "Top1_Acc_Stream/eval_phase/test_stream/Task009: 0.101\n"
     ]
    }
   ],
   "source": [
    "for i, result in enumerate(results, start=1):\n",
    "    keys = result.keys()\n",
    "    keys = filter(lambda x: \"Acc\" in x,  keys)\n",
    "    print(\"Evaluating after training task\", i)\n",
    "    \n",
    "    for j, key in enumerate(keys, start=1):\n",
    "        print(f\"{key}: {result[key]}\")\n"
   ]
  },
  {
   "cell_type": "code",
   "execution_count": null,
   "metadata": {},
   "outputs": [],
   "source": [
    "model.eval"
   ]
  }
 ],
 "metadata": {
  "kernelspec": {
   "display_name": "tt2",
   "language": "python",
   "name": "python3"
  },
  "language_info": {
   "codemirror_mode": {
    "name": "ipython",
    "version": 3
   },
   "file_extension": ".py",
   "mimetype": "text/x-python",
   "name": "python",
   "nbconvert_exporter": "python",
   "pygments_lexer": "ipython3",
   "version": "3.9.18"
  }
 },
 "nbformat": 4,
 "nbformat_minor": 2
}
