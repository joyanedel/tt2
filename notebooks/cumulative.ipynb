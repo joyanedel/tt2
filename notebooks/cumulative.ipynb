{
 "cells": [
  {
   "cell_type": "markdown",
   "metadata": {},
   "source": [
    "# Cumulative Strategy"
   ]
  },
  {
   "cell_type": "code",
   "execution_count": 1,
   "metadata": {},
   "outputs": [],
   "source": [
    "%load_ext autoreload\n",
    "%autoreload 2"
   ]
  },
  {
   "cell_type": "markdown",
   "metadata": {},
   "source": [
    "# Global imports and settings"
   ]
  },
  {
   "cell_type": "code",
   "execution_count": 2,
   "metadata": {},
   "outputs": [],
   "source": [
    "import pickle\n",
    "from torchvision.transforms import ToTensor, Compose, Normalize\n",
    "import pandas as pd\n",
    "import seaborn as sns\n",
    "from tqdm import tqdm"
   ]
  },
  {
   "cell_type": "code",
   "execution_count": 8,
   "metadata": {},
   "outputs": [],
   "source": [
    "from avalanche.benchmarks.classic import PermutedMNIST\n",
    "from avalanche.models import SimpleMLP\n",
    "from avalanche.training.plugins import EvaluationPlugin\n",
    "from avalanche.training import Cumulative\n",
    "from avalanche.logging import InteractiveLogger\n",
    "from avalanche.evaluation.metrics import (\n",
    "    accuracy_metrics,\n",
    ")\n",
    "\n",
    "from torch.nn import CrossEntropyLoss\n",
    "from torch.optim import SGD"
   ]
  },
  {
   "cell_type": "markdown",
   "metadata": {},
   "source": [
    "## Custom libraries"
   ]
  },
  {
   "cell_type": "code",
   "execution_count": 4,
   "metadata": {},
   "outputs": [],
   "source": [
    "import sys\n",
    "\n",
    "sys.path.append(\"..\")\n",
    "\n",
    "from base_code.constants import DATASETS_PATH, SAVED_METRICS_PATH"
   ]
  },
  {
   "cell_type": "markdown",
   "metadata": {},
   "source": [
    "# Dataset and definitions"
   ]
  },
  {
   "cell_type": "markdown",
   "metadata": {},
   "source": [
    "## Preprocessing definitions"
   ]
  },
  {
   "cell_type": "code",
   "execution_count": 5,
   "metadata": {},
   "outputs": [],
   "source": [
    "train_transform = Compose([\n",
    "    ToTensor(),\n",
    "    Normalize((0.1307,), (0.3081,))\n",
    "])\n",
    "test_transform = Compose([\n",
    "    ToTensor(),\n",
    "    Normalize((0.1307,), (0.3081,))\n",
    "])"
   ]
  },
  {
   "cell_type": "markdown",
   "metadata": {},
   "source": [
    "## Dataset loading"
   ]
  },
  {
   "cell_type": "code",
   "execution_count": 5,
   "metadata": {},
   "outputs": [],
   "source": [
    "scenario = PermutedMNIST(\n",
    "    10,\n",
    "    dataset_root=DATASETS_PATH,\n",
    "    seed=1234,\n",
    ")"
   ]
  },
  {
   "cell_type": "markdown",
   "metadata": {},
   "source": [
    "## Scenario creation with train test streams"
   ]
  },
  {
   "cell_type": "code",
   "execution_count": 6,
   "metadata": {},
   "outputs": [],
   "source": [
    "train_stream = scenario.train_stream\n",
    "test_stream = scenario.test_stream"
   ]
  },
  {
   "cell_type": "markdown",
   "metadata": {},
   "source": [
    "## Evaluation metrics definition"
   ]
  },
  {
   "cell_type": "code",
   "execution_count": 7,
   "metadata": {},
   "outputs": [],
   "source": [
    "eval_plugin = EvaluationPlugin(\n",
    "    accuracy_metrics(experience=True, stream=True),\n",
    "    loggers=[InteractiveLogger()]\n",
    ")"
   ]
  },
  {
   "cell_type": "markdown",
   "metadata": {},
   "source": [
    "## Model, Optimizer, Loss and Strategy definitions"
   ]
  },
  {
   "cell_type": "code",
   "execution_count": 9,
   "metadata": {},
   "outputs": [],
   "source": [
    "model = SimpleMLP(num_classes=scenario.n_classes, input_size=28 * 28, hidden_size=100, hidden_layers=2)\n",
    "optimizer = SGD(model.parameters(), lr=0.001)\n",
    "criterion = CrossEntropyLoss()\n",
    "strategy = Cumulative(\n",
    "    model, optimizer, criterion, train_mb_size=256, train_epochs=5, evaluator=eval_plugin, eval_mb_size=128\n",
    ")"
   ]
  },
  {
   "cell_type": "markdown",
   "metadata": {},
   "source": [
    "# Training and evaluation"
   ]
  },
  {
   "cell_type": "code",
   "execution_count": 10,
   "metadata": {},
   "outputs": [
    {
     "name": "stderr",
     "output_type": "stream",
     "text": [
      "  0%|          | 0/10 [00:00<?, ?it/s]"
     ]
    },
    {
     "name": "stdout",
     "output_type": "stream",
     "text": [
      "-- >> Start of training phase << --\n",
      "100%|██████████| 235/235 [00:03<00:00, 70.73it/s]\n",
      "Epoch 0 ended.\n",
      "100%|██████████| 235/235 [00:03<00:00, 71.78it/s]\n",
      "Epoch 1 ended.\n",
      "100%|██████████| 235/235 [00:03<00:00, 70.79it/s]\n",
      "Epoch 2 ended.\n",
      "100%|██████████| 235/235 [00:03<00:00, 72.02it/s]\n",
      "Epoch 3 ended.\n",
      "100%|██████████| 235/235 [00:03<00:00, 70.55it/s]\n",
      "Epoch 4 ended.\n",
      "-- >> End of training phase << --\n",
      "-- >> Start of eval phase << --\n",
      "-- Starting eval on experience 0 (Task 0) from test stream --\n",
      "100%|██████████| 79/79 [00:00<00:00, 145.63it/s]\n",
      "> Eval on experience 0 (Task 0) from test stream ended.\n",
      "\tTop1_Acc_Exp/eval_phase/test_stream/Task000/Exp000 = 0.5124\n",
      "-- Starting eval on experience 1 (Task 0) from test stream --\n",
      "100%|██████████| 79/79 [00:00<00:00, 140.22it/s]\n",
      "> Eval on experience 1 (Task 0) from test stream ended.\n",
      "\tTop1_Acc_Exp/eval_phase/test_stream/Task000/Exp001 = 0.1152\n",
      "-- Starting eval on experience 2 (Task 0) from test stream --\n",
      "100%|██████████| 79/79 [00:00<00:00, 144.12it/s]\n",
      "> Eval on experience 2 (Task 0) from test stream ended.\n",
      "\tTop1_Acc_Exp/eval_phase/test_stream/Task000/Exp002 = 0.1009\n",
      "-- Starting eval on experience 3 (Task 0) from test stream --\n",
      "100%|██████████| 79/79 [00:00<00:00, 145.84it/s]\n",
      "> Eval on experience 3 (Task 0) from test stream ended.\n",
      "\tTop1_Acc_Exp/eval_phase/test_stream/Task000/Exp003 = 0.1012\n",
      "-- Starting eval on experience 4 (Task 0) from test stream --\n",
      "100%|██████████| 79/79 [00:00<00:00, 145.40it/s]\n",
      "> Eval on experience 4 (Task 0) from test stream ended.\n",
      "\tTop1_Acc_Exp/eval_phase/test_stream/Task000/Exp004 = 0.0961\n",
      "-- Starting eval on experience 5 (Task 0) from test stream --\n",
      "100%|██████████| 79/79 [00:00<00:00, 140.15it/s]\n",
      "> Eval on experience 5 (Task 0) from test stream ended.\n",
      "\tTop1_Acc_Exp/eval_phase/test_stream/Task000/Exp005 = 0.0923\n",
      "-- Starting eval on experience 6 (Task 0) from test stream --\n",
      "100%|██████████| 79/79 [00:00<00:00, 143.51it/s]\n",
      "> Eval on experience 6 (Task 0) from test stream ended.\n",
      "\tTop1_Acc_Exp/eval_phase/test_stream/Task000/Exp006 = 0.1278\n",
      "-- Starting eval on experience 7 (Task 0) from test stream --\n",
      "100%|██████████| 79/79 [00:00<00:00, 146.02it/s]\n",
      "> Eval on experience 7 (Task 0) from test stream ended.\n",
      "\tTop1_Acc_Exp/eval_phase/test_stream/Task000/Exp007 = 0.1286\n",
      "-- Starting eval on experience 8 (Task 0) from test stream --\n",
      "100%|██████████| 79/79 [00:00<00:00, 140.08it/s]\n",
      "> Eval on experience 8 (Task 0) from test stream ended.\n",
      "\tTop1_Acc_Exp/eval_phase/test_stream/Task000/Exp008 = 0.0910\n",
      "-- Starting eval on experience 9 (Task 0) from test stream --\n",
      "100%|██████████| 79/79 [00:00<00:00, 145.13it/s]"
     ]
    },
    {
     "name": "stderr",
     "output_type": "stream",
     "text": [
      " 10%|█         | 1/10 [00:22<03:18, 22.05s/it]"
     ]
    },
    {
     "name": "stdout",
     "output_type": "stream",
     "text": [
      "\n",
      "> Eval on experience 9 (Task 0) from test stream ended.\n",
      "\tTop1_Acc_Exp/eval_phase/test_stream/Task000/Exp009 = 0.1887\n",
      "-- >> End of eval phase << --\n",
      "\tTop1_Acc_Stream/eval_phase/test_stream/Task000 = 0.1554\n",
      "-- >> Start of training phase << --\n",
      "100%|██████████| 469/469 [00:06<00:00, 72.34it/s]\n",
      "Epoch 0 ended.\n",
      "100%|██████████| 469/469 [00:06<00:00, 72.50it/s]\n",
      "Epoch 1 ended.\n",
      "100%|██████████| 469/469 [00:06<00:00, 72.66it/s]\n",
      "Epoch 2 ended.\n",
      "100%|██████████| 469/469 [00:06<00:00, 71.41it/s]\n",
      "Epoch 3 ended.\n",
      "100%|██████████| 469/469 [00:06<00:00, 72.41it/s]\n",
      "Epoch 4 ended.\n",
      "-- >> End of training phase << --\n",
      "-- >> Start of eval phase << --\n",
      "-- Starting eval on experience 0 (Task 0) from test stream --\n",
      "100%|██████████| 79/79 [00:00<00:00, 146.94it/s]\n",
      "> Eval on experience 0 (Task 0) from test stream ended.\n",
      "\tTop1_Acc_Exp/eval_phase/test_stream/Task000/Exp000 = 0.7381\n",
      "-- Starting eval on experience 1 (Task 0) from test stream --\n",
      "100%|██████████| 79/79 [00:00<00:00, 146.52it/s]\n",
      "> Eval on experience 1 (Task 0) from test stream ended.\n",
      "\tTop1_Acc_Exp/eval_phase/test_stream/Task000/Exp001 = 0.6844\n",
      "-- Starting eval on experience 2 (Task 0) from test stream --\n",
      "100%|██████████| 79/79 [00:00<00:00, 146.91it/s]\n",
      "> Eval on experience 2 (Task 0) from test stream ended.\n",
      "\tTop1_Acc_Exp/eval_phase/test_stream/Task000/Exp002 = 0.1724\n",
      "-- Starting eval on experience 3 (Task 0) from test stream --\n",
      "100%|██████████| 79/79 [00:00<00:00, 141.01it/s]\n",
      "> Eval on experience 3 (Task 0) from test stream ended.\n",
      "\tTop1_Acc_Exp/eval_phase/test_stream/Task000/Exp003 = 0.1287\n",
      "-- Starting eval on experience 4 (Task 0) from test stream --\n",
      "100%|██████████| 79/79 [00:00<00:00, 145.15it/s]\n",
      "> Eval on experience 4 (Task 0) from test stream ended.\n",
      "\tTop1_Acc_Exp/eval_phase/test_stream/Task000/Exp004 = 0.1876\n",
      "-- Starting eval on experience 5 (Task 0) from test stream --\n",
      "100%|██████████| 79/79 [00:00<00:00, 146.69it/s]\n",
      "> Eval on experience 5 (Task 0) from test stream ended.\n",
      "\tTop1_Acc_Exp/eval_phase/test_stream/Task000/Exp005 = 0.1367\n",
      "-- Starting eval on experience 6 (Task 0) from test stream --\n",
      "100%|██████████| 79/79 [00:00<00:00, 140.99it/s]\n",
      "> Eval on experience 6 (Task 0) from test stream ended.\n",
      "\tTop1_Acc_Exp/eval_phase/test_stream/Task000/Exp006 = 0.2189\n",
      "-- Starting eval on experience 7 (Task 0) from test stream --\n",
      "100%|██████████| 79/79 [00:00<00:00, 146.39it/s]\n",
      "> Eval on experience 7 (Task 0) from test stream ended.\n",
      "\tTop1_Acc_Exp/eval_phase/test_stream/Task000/Exp007 = 0.1664\n",
      "-- Starting eval on experience 8 (Task 0) from test stream --\n",
      "100%|██████████| 79/79 [00:00<00:00, 145.69it/s]\n",
      "> Eval on experience 8 (Task 0) from test stream ended.\n",
      "\tTop1_Acc_Exp/eval_phase/test_stream/Task000/Exp008 = 0.1785\n",
      "-- Starting eval on experience 9 (Task 0) from test stream --\n",
      "100%|██████████| 79/79 [00:00<00:00, 140.30it/s]"
     ]
    },
    {
     "name": "stderr",
     "output_type": "stream",
     "text": [
      " 20%|██        | 2/10 [01:00<04:11, 31.42s/it]"
     ]
    },
    {
     "name": "stdout",
     "output_type": "stream",
     "text": [
      "\n",
      "> Eval on experience 9 (Task 0) from test stream ended.\n",
      "\tTop1_Acc_Exp/eval_phase/test_stream/Task000/Exp009 = 0.2510\n",
      "-- >> End of eval phase << --\n",
      "\tTop1_Acc_Stream/eval_phase/test_stream/Task000 = 0.2863\n",
      "-- >> Start of training phase << --\n",
      "100%|██████████| 704/704 [00:09<00:00, 71.02it/s]\n",
      "Epoch 0 ended.\n",
      "100%|██████████| 704/704 [00:09<00:00, 71.32it/s]\n",
      "Epoch 1 ended.\n",
      "100%|██████████| 704/704 [00:09<00:00, 70.44it/s]\n",
      "Epoch 2 ended.\n",
      "100%|██████████| 704/704 [00:09<00:00, 71.73it/s]\n",
      "Epoch 3 ended.\n",
      "100%|██████████| 704/704 [00:09<00:00, 71.66it/s]\n",
      "Epoch 4 ended.\n",
      "-- >> End of training phase << --\n",
      "-- >> Start of eval phase << --\n",
      "-- Starting eval on experience 0 (Task 0) from test stream --\n",
      "100%|██████████| 79/79 [00:00<00:00, 136.87it/s]\n",
      "> Eval on experience 0 (Task 0) from test stream ended.\n",
      "\tTop1_Acc_Exp/eval_phase/test_stream/Task000/Exp000 = 0.7900\n",
      "-- Starting eval on experience 1 (Task 0) from test stream --\n",
      "100%|██████████| 79/79 [00:00<00:00, 146.33it/s]\n",
      "> Eval on experience 1 (Task 0) from test stream ended.\n",
      "\tTop1_Acc_Exp/eval_phase/test_stream/Task000/Exp001 = 0.7704\n",
      "-- Starting eval on experience 2 (Task 0) from test stream --\n",
      "100%|██████████| 79/79 [00:00<00:00, 145.72it/s]\n",
      "> Eval on experience 2 (Task 0) from test stream ended.\n",
      "\tTop1_Acc_Exp/eval_phase/test_stream/Task000/Exp002 = 0.7405\n",
      "-- Starting eval on experience 3 (Task 0) from test stream --\n",
      "100%|██████████| 79/79 [00:00<00:00, 138.43it/s]\n",
      "> Eval on experience 3 (Task 0) from test stream ended.\n",
      "\tTop1_Acc_Exp/eval_phase/test_stream/Task000/Exp003 = 0.0942\n",
      "-- Starting eval on experience 4 (Task 0) from test stream --\n",
      "100%|██████████| 79/79 [00:00<00:00, 145.85it/s]\n",
      "> Eval on experience 4 (Task 0) from test stream ended.\n",
      "\tTop1_Acc_Exp/eval_phase/test_stream/Task000/Exp004 = 0.1456\n",
      "-- Starting eval on experience 5 (Task 0) from test stream --\n",
      "100%|██████████| 79/79 [00:00<00:00, 144.05it/s]\n",
      "> Eval on experience 5 (Task 0) from test stream ended.\n",
      "\tTop1_Acc_Exp/eval_phase/test_stream/Task000/Exp005 = 0.1347\n",
      "-- Starting eval on experience 6 (Task 0) from test stream --\n",
      "100%|██████████| 79/79 [00:00<00:00, 139.59it/s]\n",
      "> Eval on experience 6 (Task 0) from test stream ended.\n",
      "\tTop1_Acc_Exp/eval_phase/test_stream/Task000/Exp006 = 0.1746\n",
      "-- Starting eval on experience 7 (Task 0) from test stream --\n",
      "100%|██████████| 79/79 [00:00<00:00, 143.74it/s]\n",
      "> Eval on experience 7 (Task 0) from test stream ended.\n",
      "\tTop1_Acc_Exp/eval_phase/test_stream/Task000/Exp007 = 0.1782\n",
      "-- Starting eval on experience 8 (Task 0) from test stream --\n",
      "100%|██████████| 79/79 [00:00<00:00, 145.54it/s]\n",
      "> Eval on experience 8 (Task 0) from test stream ended.\n",
      "\tTop1_Acc_Exp/eval_phase/test_stream/Task000/Exp008 = 0.1941\n",
      "-- Starting eval on experience 9 (Task 0) from test stream --\n",
      "100%|██████████| 79/79 [00:00<00:00, 145.86it/s]"
     ]
    },
    {
     "name": "stderr",
     "output_type": "stream",
     "text": [
      " 30%|███       | 3/10 [01:55<04:55, 42.20s/it]"
     ]
    },
    {
     "name": "stdout",
     "output_type": "stream",
     "text": [
      "\n",
      "> Eval on experience 9 (Task 0) from test stream ended.\n",
      "\tTop1_Acc_Exp/eval_phase/test_stream/Task000/Exp009 = 0.2011\n",
      "-- >> End of eval phase << --\n",
      "\tTop1_Acc_Stream/eval_phase/test_stream/Task000 = 0.3423\n",
      "-- >> Start of training phase << --\n",
      "100%|██████████| 938/938 [00:13<00:00, 70.76it/s]\n",
      "Epoch 0 ended.\n",
      "100%|██████████| 938/938 [00:13<00:00, 71.03it/s]\n",
      "Epoch 1 ended.\n",
      "100%|██████████| 938/938 [00:13<00:00, 71.66it/s]\n",
      "Epoch 2 ended.\n",
      "100%|██████████| 938/938 [00:13<00:00, 71.24it/s]\n",
      "Epoch 3 ended.\n",
      "100%|██████████| 938/938 [00:13<00:00, 71.08it/s]\n",
      "Epoch 4 ended.\n",
      "-- >> End of training phase << --\n",
      "-- >> Start of eval phase << --\n",
      "-- Starting eval on experience 0 (Task 0) from test stream --\n",
      "100%|██████████| 79/79 [00:00<00:00, 146.14it/s]\n",
      "> Eval on experience 0 (Task 0) from test stream ended.\n",
      "\tTop1_Acc_Exp/eval_phase/test_stream/Task000/Exp000 = 0.8241\n",
      "-- Starting eval on experience 1 (Task 0) from test stream --\n",
      "100%|██████████| 79/79 [00:00<00:00, 139.47it/s]\n",
      "> Eval on experience 1 (Task 0) from test stream ended.\n",
      "\tTop1_Acc_Exp/eval_phase/test_stream/Task000/Exp001 = 0.8158\n",
      "-- Starting eval on experience 2 (Task 0) from test stream --\n",
      "100%|██████████| 79/79 [00:00<00:00, 145.34it/s]\n",
      "> Eval on experience 2 (Task 0) from test stream ended.\n",
      "\tTop1_Acc_Exp/eval_phase/test_stream/Task000/Exp002 = 0.8045\n",
      "-- Starting eval on experience 3 (Task 0) from test stream --\n",
      "100%|██████████| 79/79 [00:00<00:00, 144.38it/s]\n",
      "> Eval on experience 3 (Task 0) from test stream ended.\n",
      "\tTop1_Acc_Exp/eval_phase/test_stream/Task000/Exp003 = 0.7673\n",
      "-- Starting eval on experience 4 (Task 0) from test stream --\n",
      "100%|██████████| 79/79 [00:00<00:00, 145.28it/s]\n",
      "> Eval on experience 4 (Task 0) from test stream ended.\n",
      "\tTop1_Acc_Exp/eval_phase/test_stream/Task000/Exp004 = 0.1110\n",
      "-- Starting eval on experience 5 (Task 0) from test stream --\n",
      "100%|██████████| 79/79 [00:00<00:00, 138.16it/s]\n",
      "> Eval on experience 5 (Task 0) from test stream ended.\n",
      "\tTop1_Acc_Exp/eval_phase/test_stream/Task000/Exp005 = 0.0921\n",
      "-- Starting eval on experience 6 (Task 0) from test stream --\n",
      "100%|██████████| 79/79 [00:00<00:00, 144.63it/s]\n",
      "> Eval on experience 6 (Task 0) from test stream ended.\n",
      "\tTop1_Acc_Exp/eval_phase/test_stream/Task000/Exp006 = 0.1504\n",
      "-- Starting eval on experience 7 (Task 0) from test stream --\n",
      "100%|██████████| 79/79 [00:00<00:00, 144.01it/s]\n",
      "> Eval on experience 7 (Task 0) from test stream ended.\n",
      "\tTop1_Acc_Exp/eval_phase/test_stream/Task000/Exp007 = 0.1933\n",
      "-- Starting eval on experience 8 (Task 0) from test stream --\n",
      "100%|██████████| 79/79 [00:00<00:00, 139.24it/s]\n",
      "> Eval on experience 8 (Task 0) from test stream ended.\n",
      "\tTop1_Acc_Exp/eval_phase/test_stream/Task000/Exp008 = 0.1514\n",
      "-- Starting eval on experience 9 (Task 0) from test stream --\n",
      "100%|██████████| 79/79 [00:00<00:00, 143.01it/s]"
     ]
    },
    {
     "name": "stderr",
     "output_type": "stream",
     "text": [
      " 40%|████      | 4/10 [03:06<05:22, 53.79s/it]"
     ]
    },
    {
     "name": "stdout",
     "output_type": "stream",
     "text": [
      "\n",
      "> Eval on experience 9 (Task 0) from test stream ended.\n",
      "\tTop1_Acc_Exp/eval_phase/test_stream/Task000/Exp009 = 0.1465\n",
      "-- >> End of eval phase << --\n",
      "\tTop1_Acc_Stream/eval_phase/test_stream/Task000 = 0.4056\n",
      "-- >> Start of training phase << --\n",
      "100%|██████████| 1172/1172 [00:16<00:00, 71.77it/s]\n",
      "Epoch 0 ended.\n",
      "100%|██████████| 1172/1172 [00:16<00:00, 71.54it/s]\n",
      "Epoch 1 ended.\n",
      "100%|██████████| 1172/1172 [00:16<00:00, 71.14it/s]\n",
      "Epoch 2 ended.\n",
      "100%|██████████| 1172/1172 [00:16<00:00, 71.26it/s]\n",
      "Epoch 3 ended.\n",
      "100%|██████████| 1172/1172 [00:16<00:00, 71.18it/s]\n",
      "Epoch 4 ended.\n",
      "-- >> End of training phase << --\n",
      "-- >> Start of eval phase << --\n",
      "-- Starting eval on experience 0 (Task 0) from test stream --\n",
      "100%|██████████| 79/79 [00:00<00:00, 146.06it/s]\n",
      "> Eval on experience 0 (Task 0) from test stream ended.\n",
      "\tTop1_Acc_Exp/eval_phase/test_stream/Task000/Exp000 = 0.8480\n",
      "-- Starting eval on experience 1 (Task 0) from test stream --\n",
      "100%|██████████| 79/79 [00:00<00:00, 140.30it/s]\n",
      "> Eval on experience 1 (Task 0) from test stream ended.\n",
      "\tTop1_Acc_Exp/eval_phase/test_stream/Task000/Exp001 = 0.8424\n",
      "-- Starting eval on experience 2 (Task 0) from test stream --\n",
      "100%|██████████| 79/79 [00:00<00:00, 143.92it/s]\n",
      "> Eval on experience 2 (Task 0) from test stream ended.\n",
      "\tTop1_Acc_Exp/eval_phase/test_stream/Task000/Exp002 = 0.8370\n",
      "-- Starting eval on experience 3 (Task 0) from test stream --\n",
      "100%|██████████| 79/79 [00:00<00:00, 145.73it/s]\n",
      "> Eval on experience 3 (Task 0) from test stream ended.\n",
      "\tTop1_Acc_Exp/eval_phase/test_stream/Task000/Exp003 = 0.8167\n",
      "-- Starting eval on experience 4 (Task 0) from test stream --\n",
      "100%|██████████| 79/79 [00:00<00:00, 139.63it/s]\n",
      "> Eval on experience 4 (Task 0) from test stream ended.\n",
      "\tTop1_Acc_Exp/eval_phase/test_stream/Task000/Exp004 = 0.8051\n",
      "-- Starting eval on experience 5 (Task 0) from test stream --\n",
      "100%|██████████| 79/79 [00:00<00:00, 146.16it/s]\n",
      "> Eval on experience 5 (Task 0) from test stream ended.\n",
      "\tTop1_Acc_Exp/eval_phase/test_stream/Task000/Exp005 = 0.0879\n",
      "-- Starting eval on experience 6 (Task 0) from test stream --\n",
      "100%|██████████| 79/79 [00:00<00:00, 143.57it/s]\n",
      "> Eval on experience 6 (Task 0) from test stream ended.\n",
      "\tTop1_Acc_Exp/eval_phase/test_stream/Task000/Exp006 = 0.1048\n",
      "-- Starting eval on experience 7 (Task 0) from test stream --\n",
      "100%|██████████| 79/79 [00:00<00:00, 145.51it/s]\n",
      "> Eval on experience 7 (Task 0) from test stream ended.\n",
      "\tTop1_Acc_Exp/eval_phase/test_stream/Task000/Exp007 = 0.1735\n",
      "-- Starting eval on experience 8 (Task 0) from test stream --\n",
      "100%|██████████| 79/79 [00:00<00:00, 139.75it/s]\n",
      "> Eval on experience 8 (Task 0) from test stream ended.\n",
      "\tTop1_Acc_Exp/eval_phase/test_stream/Task000/Exp008 = 0.1587\n",
      "-- Starting eval on experience 9 (Task 0) from test stream --\n",
      "100%|██████████| 79/79 [00:00<00:00, 145.49it/s]"
     ]
    },
    {
     "name": "stderr",
     "output_type": "stream",
     "text": [
      " 50%|█████     | 5/10 [04:34<05:30, 66.02s/it]"
     ]
    },
    {
     "name": "stdout",
     "output_type": "stream",
     "text": [
      "\n",
      "> Eval on experience 9 (Task 0) from test stream ended.\n",
      "\tTop1_Acc_Exp/eval_phase/test_stream/Task000/Exp009 = 0.1447\n",
      "-- >> End of eval phase << --\n",
      "\tTop1_Acc_Stream/eval_phase/test_stream/Task000 = 0.4819\n",
      "-- >> Start of training phase << --\n",
      "100%|██████████| 1407/1407 [00:19<00:00, 71.59it/s]\n",
      "Epoch 0 ended.\n",
      "100%|██████████| 1407/1407 [00:19<00:00, 71.74it/s]\n",
      "Epoch 1 ended.\n",
      "100%|██████████| 1407/1407 [00:19<00:00, 71.51it/s]\n",
      "Epoch 2 ended.\n",
      "100%|██████████| 1407/1407 [00:19<00:00, 71.26it/s]\n",
      "Epoch 3 ended.\n",
      "100%|██████████| 1407/1407 [00:19<00:00, 71.29it/s]\n",
      "Epoch 4 ended.\n",
      "-- >> End of training phase << --\n",
      "-- >> Start of eval phase << --\n",
      "-- Starting eval on experience 0 (Task 0) from test stream --\n",
      "100%|██████████| 79/79 [00:00<00:00, 145.44it/s]\n",
      "> Eval on experience 0 (Task 0) from test stream ended.\n",
      "\tTop1_Acc_Exp/eval_phase/test_stream/Task000/Exp000 = 0.8614\n",
      "-- Starting eval on experience 1 (Task 0) from test stream --\n",
      "100%|██████████| 79/79 [00:00<00:00, 138.88it/s]\n",
      "> Eval on experience 1 (Task 0) from test stream ended.\n",
      "\tTop1_Acc_Exp/eval_phase/test_stream/Task000/Exp001 = 0.8614\n",
      "-- Starting eval on experience 2 (Task 0) from test stream --\n",
      "100%|██████████| 79/79 [00:00<00:00, 144.30it/s]\n",
      "> Eval on experience 2 (Task 0) from test stream ended.\n",
      "\tTop1_Acc_Exp/eval_phase/test_stream/Task000/Exp002 = 0.8555\n",
      "-- Starting eval on experience 3 (Task 0) from test stream --\n",
      "100%|██████████| 79/79 [00:00<00:00, 142.28it/s]\n",
      "> Eval on experience 3 (Task 0) from test stream ended.\n",
      "\tTop1_Acc_Exp/eval_phase/test_stream/Task000/Exp003 = 0.8450\n",
      "-- Starting eval on experience 4 (Task 0) from test stream --\n",
      "100%|██████████| 79/79 [00:00<00:00, 138.02it/s]\n",
      "> Eval on experience 4 (Task 0) from test stream ended.\n",
      "\tTop1_Acc_Exp/eval_phase/test_stream/Task000/Exp004 = 0.8485\n",
      "-- Starting eval on experience 5 (Task 0) from test stream --\n",
      "100%|██████████| 79/79 [00:00<00:00, 142.55it/s]\n",
      "> Eval on experience 5 (Task 0) from test stream ended.\n",
      "\tTop1_Acc_Exp/eval_phase/test_stream/Task000/Exp005 = 0.8056\n",
      "-- Starting eval on experience 6 (Task 0) from test stream --\n",
      "100%|██████████| 79/79 [00:00<00:00, 143.96it/s]\n",
      "> Eval on experience 6 (Task 0) from test stream ended.\n",
      "\tTop1_Acc_Exp/eval_phase/test_stream/Task000/Exp006 = 0.1024\n",
      "-- Starting eval on experience 7 (Task 0) from test stream --\n",
      "100%|██████████| 79/79 [00:00<00:00, 140.91it/s]\n",
      "> Eval on experience 7 (Task 0) from test stream ended.\n",
      "\tTop1_Acc_Exp/eval_phase/test_stream/Task000/Exp007 = 0.1778\n",
      "-- Starting eval on experience 8 (Task 0) from test stream --\n",
      "100%|██████████| 79/79 [00:00<00:00, 145.48it/s]\n",
      "> Eval on experience 8 (Task 0) from test stream ended.\n",
      "\tTop1_Acc_Exp/eval_phase/test_stream/Task000/Exp008 = 0.1441\n",
      "-- Starting eval on experience 9 (Task 0) from test stream --\n",
      "100%|██████████| 79/79 [00:00<00:00, 144.66it/s]"
     ]
    },
    {
     "name": "stderr",
     "output_type": "stream",
     "text": [
      " 60%|██████    | 6/10 [06:18<05:15, 78.97s/it]"
     ]
    },
    {
     "name": "stdout",
     "output_type": "stream",
     "text": [
      "\n",
      "> Eval on experience 9 (Task 0) from test stream ended.\n",
      "\tTop1_Acc_Exp/eval_phase/test_stream/Task000/Exp009 = 0.1231\n",
      "-- >> End of eval phase << --\n",
      "\tTop1_Acc_Stream/eval_phase/test_stream/Task000 = 0.5625\n",
      "-- >> Start of training phase << --\n",
      "100%|██████████| 1641/1641 [00:23<00:00, 71.02it/s]\n",
      "Epoch 0 ended.\n",
      "100%|██████████| 1641/1641 [00:23<00:00, 70.79it/s]\n",
      "Epoch 1 ended.\n",
      "100%|██████████| 1641/1641 [00:23<00:00, 71.04it/s]\n",
      "Epoch 2 ended.\n",
      "100%|██████████| 1641/1641 [00:23<00:00, 70.97it/s]\n",
      "Epoch 3 ended.\n",
      "100%|██████████| 1641/1641 [00:23<00:00, 70.92it/s]\n",
      "Epoch 4 ended.\n",
      "-- >> End of training phase << --\n",
      "-- >> Start of eval phase << --\n",
      "-- Starting eval on experience 0 (Task 0) from test stream --\n",
      "100%|██████████| 79/79 [00:00<00:00, 140.30it/s]\n",
      "> Eval on experience 0 (Task 0) from test stream ended.\n",
      "\tTop1_Acc_Exp/eval_phase/test_stream/Task000/Exp000 = 0.8701\n",
      "-- Starting eval on experience 1 (Task 0) from test stream --\n",
      "100%|██████████| 79/79 [00:00<00:00, 145.07it/s]\n",
      "> Eval on experience 1 (Task 0) from test stream ended.\n",
      "\tTop1_Acc_Exp/eval_phase/test_stream/Task000/Exp001 = 0.8711\n",
      "-- Starting eval on experience 2 (Task 0) from test stream --\n",
      "100%|██████████| 79/79 [00:00<00:00, 142.34it/s]\n",
      "> Eval on experience 2 (Task 0) from test stream ended.\n",
      "\tTop1_Acc_Exp/eval_phase/test_stream/Task000/Exp002 = 0.8668\n",
      "-- Starting eval on experience 3 (Task 0) from test stream --\n",
      "100%|██████████| 79/79 [00:00<00:00, 137.88it/s]\n",
      "> Eval on experience 3 (Task 0) from test stream ended.\n",
      "\tTop1_Acc_Exp/eval_phase/test_stream/Task000/Exp003 = 0.8650\n",
      "-- Starting eval on experience 4 (Task 0) from test stream --\n",
      "100%|██████████| 79/79 [00:00<00:00, 142.40it/s]\n",
      "> Eval on experience 4 (Task 0) from test stream ended.\n",
      "\tTop1_Acc_Exp/eval_phase/test_stream/Task000/Exp004 = 0.8651\n",
      "-- Starting eval on experience 5 (Task 0) from test stream --\n",
      "100%|██████████| 79/79 [00:00<00:00, 143.93it/s]\n",
      "> Eval on experience 5 (Task 0) from test stream ended.\n",
      "\tTop1_Acc_Exp/eval_phase/test_stream/Task000/Exp005 = 0.8470\n",
      "-- Starting eval on experience 6 (Task 0) from test stream --\n",
      "100%|██████████| 79/79 [00:00<00:00, 136.42it/s]\n",
      "> Eval on experience 6 (Task 0) from test stream ended.\n",
      "\tTop1_Acc_Exp/eval_phase/test_stream/Task000/Exp006 = 0.8090\n",
      "-- Starting eval on experience 7 (Task 0) from test stream --\n",
      "100%|██████████| 79/79 [00:00<00:00, 143.50it/s]\n",
      "> Eval on experience 7 (Task 0) from test stream ended.\n",
      "\tTop1_Acc_Exp/eval_phase/test_stream/Task000/Exp007 = 0.1572\n",
      "-- Starting eval on experience 8 (Task 0) from test stream --\n",
      "100%|██████████| 79/79 [00:00<00:00, 143.71it/s]\n",
      "> Eval on experience 8 (Task 0) from test stream ended.\n",
      "\tTop1_Acc_Exp/eval_phase/test_stream/Task000/Exp008 = 0.1257\n",
      "-- Starting eval on experience 9 (Task 0) from test stream --\n",
      "100%|██████████| 79/79 [00:00<00:00, 136.80it/s]"
     ]
    },
    {
     "name": "stderr",
     "output_type": "stream",
     "text": [
      " 70%|███████   | 7/10 [08:19<04:38, 92.84s/it]"
     ]
    },
    {
     "name": "stdout",
     "output_type": "stream",
     "text": [
      "\n",
      "> Eval on experience 9 (Task 0) from test stream ended.\n",
      "\tTop1_Acc_Exp/eval_phase/test_stream/Task000/Exp009 = 0.1052\n",
      "-- >> End of eval phase << --\n",
      "\tTop1_Acc_Stream/eval_phase/test_stream/Task000 = 0.6382\n",
      "-- >> Start of training phase << --\n",
      "100%|██████████| 1875/1875 [00:25<00:00, 72.24it/s]\n",
      "Epoch 0 ended.\n",
      "100%|██████████| 1875/1875 [00:25<00:00, 72.22it/s]\n",
      "Epoch 1 ended.\n",
      "100%|██████████| 1875/1875 [00:26<00:00, 70.75it/s]\n",
      "Epoch 2 ended.\n",
      "100%|██████████| 1875/1875 [00:26<00:00, 71.19it/s]\n",
      "Epoch 3 ended.\n",
      "100%|██████████| 1875/1875 [00:26<00:00, 71.15it/s]\n",
      "Epoch 4 ended.\n",
      "-- >> End of training phase << --\n",
      "-- >> Start of eval phase << --\n",
      "-- Starting eval on experience 0 (Task 0) from test stream --\n",
      "100%|██████████| 79/79 [00:00<00:00, 145.99it/s]\n",
      "> Eval on experience 0 (Task 0) from test stream ended.\n",
      "\tTop1_Acc_Exp/eval_phase/test_stream/Task000/Exp000 = 0.8767\n",
      "-- Starting eval on experience 1 (Task 0) from test stream --\n",
      "100%|██████████| 79/79 [00:00<00:00, 145.30it/s]\n",
      "> Eval on experience 1 (Task 0) from test stream ended.\n",
      "\tTop1_Acc_Exp/eval_phase/test_stream/Task000/Exp001 = 0.8804\n",
      "-- Starting eval on experience 2 (Task 0) from test stream --\n",
      "100%|██████████| 79/79 [00:00<00:00, 140.00it/s]\n",
      "> Eval on experience 2 (Task 0) from test stream ended.\n",
      "\tTop1_Acc_Exp/eval_phase/test_stream/Task000/Exp002 = 0.8743\n",
      "-- Starting eval on experience 3 (Task 0) from test stream --\n",
      "100%|██████████| 79/79 [00:00<00:00, 144.87it/s]\n",
      "> Eval on experience 3 (Task 0) from test stream ended.\n",
      "\tTop1_Acc_Exp/eval_phase/test_stream/Task000/Exp003 = 0.8730\n",
      "-- Starting eval on experience 4 (Task 0) from test stream --\n",
      "100%|██████████| 79/79 [00:00<00:00, 142.42it/s]\n",
      "> Eval on experience 4 (Task 0) from test stream ended.\n",
      "\tTop1_Acc_Exp/eval_phase/test_stream/Task000/Exp004 = 0.8779\n",
      "-- Starting eval on experience 5 (Task 0) from test stream --\n",
      "100%|██████████| 79/79 [00:00<00:00, 139.04it/s]\n",
      "> Eval on experience 5 (Task 0) from test stream ended.\n",
      "\tTop1_Acc_Exp/eval_phase/test_stream/Task000/Exp005 = 0.8699\n",
      "-- Starting eval on experience 6 (Task 0) from test stream --\n",
      "100%|██████████| 79/79 [00:00<00:00, 145.40it/s]\n",
      "> Eval on experience 6 (Task 0) from test stream ended.\n",
      "\tTop1_Acc_Exp/eval_phase/test_stream/Task000/Exp006 = 0.8529\n",
      "-- Starting eval on experience 7 (Task 0) from test stream --\n",
      "100%|██████████| 79/79 [00:00<00:00, 143.45it/s]\n",
      "> Eval on experience 7 (Task 0) from test stream ended.\n",
      "\tTop1_Acc_Exp/eval_phase/test_stream/Task000/Exp007 = 0.8202\n",
      "-- Starting eval on experience 8 (Task 0) from test stream --\n",
      "100%|██████████| 79/79 [00:00<00:00, 143.84it/s]\n",
      "> Eval on experience 8 (Task 0) from test stream ended.\n",
      "\tTop1_Acc_Exp/eval_phase/test_stream/Task000/Exp008 = 0.1108\n",
      "-- Starting eval on experience 9 (Task 0) from test stream --\n",
      "100%|██████████| 79/79 [00:00<00:00, 138.45it/s]"
     ]
    },
    {
     "name": "stderr",
     "output_type": "stream",
     "text": [
      " 80%|████████  | 8/10 [10:36<03:33, 106.84s/it]"
     ]
    },
    {
     "name": "stdout",
     "output_type": "stream",
     "text": [
      "\n",
      "> Eval on experience 9 (Task 0) from test stream ended.\n",
      "\tTop1_Acc_Exp/eval_phase/test_stream/Task000/Exp009 = 0.1020\n",
      "-- >> End of eval phase << --\n",
      "\tTop1_Acc_Stream/eval_phase/test_stream/Task000 = 0.7138\n",
      "-- >> Start of training phase << --\n",
      "100%|██████████| 2110/2110 [00:29<00:00, 71.07it/s]\n",
      "Epoch 0 ended.\n",
      "100%|██████████| 2110/2110 [00:29<00:00, 71.20it/s]\n",
      "Epoch 1 ended.\n",
      "100%|██████████| 2110/2110 [00:29<00:00, 70.91it/s]\n",
      "Epoch 2 ended.\n",
      "100%|██████████| 2110/2110 [00:29<00:00, 70.91it/s]\n",
      "Epoch 3 ended.\n",
      "100%|██████████| 2110/2110 [00:29<00:00, 71.02it/s]\n",
      "Epoch 4 ended.\n",
      "-- >> End of training phase << --\n",
      "-- >> Start of eval phase << --\n",
      "-- Starting eval on experience 0 (Task 0) from test stream --\n",
      "100%|██████████| 79/79 [00:00<00:00, 138.65it/s]\n",
      "> Eval on experience 0 (Task 0) from test stream ended.\n",
      "\tTop1_Acc_Exp/eval_phase/test_stream/Task000/Exp000 = 0.8856\n",
      "-- Starting eval on experience 1 (Task 0) from test stream --\n",
      "100%|██████████| 79/79 [00:00<00:00, 145.70it/s]\n",
      "> Eval on experience 1 (Task 0) from test stream ended.\n",
      "\tTop1_Acc_Exp/eval_phase/test_stream/Task000/Exp001 = 0.8850\n",
      "-- Starting eval on experience 2 (Task 0) from test stream --\n",
      "100%|██████████| 79/79 [00:00<00:00, 146.49it/s]\n",
      "> Eval on experience 2 (Task 0) from test stream ended.\n",
      "\tTop1_Acc_Exp/eval_phase/test_stream/Task000/Exp002 = 0.8801\n",
      "-- Starting eval on experience 3 (Task 0) from test stream --\n",
      "100%|██████████| 79/79 [00:00<00:00, 139.81it/s]\n",
      "> Eval on experience 3 (Task 0) from test stream ended.\n",
      "\tTop1_Acc_Exp/eval_phase/test_stream/Task000/Exp003 = 0.8836\n",
      "-- Starting eval on experience 4 (Task 0) from test stream --\n",
      "100%|██████████| 79/79 [00:00<00:00, 144.17it/s]\n",
      "> Eval on experience 4 (Task 0) from test stream ended.\n",
      "\tTop1_Acc_Exp/eval_phase/test_stream/Task000/Exp004 = 0.8842\n",
      "-- Starting eval on experience 5 (Task 0) from test stream --\n",
      "100%|██████████| 79/79 [00:00<00:00, 144.53it/s]\n",
      "> Eval on experience 5 (Task 0) from test stream ended.\n",
      "\tTop1_Acc_Exp/eval_phase/test_stream/Task000/Exp005 = 0.8792\n",
      "-- Starting eval on experience 6 (Task 0) from test stream --\n",
      "100%|██████████| 79/79 [00:00<00:00, 143.13it/s]\n",
      "> Eval on experience 6 (Task 0) from test stream ended.\n",
      "\tTop1_Acc_Exp/eval_phase/test_stream/Task000/Exp006 = 0.8738\n",
      "-- Starting eval on experience 7 (Task 0) from test stream --\n",
      "100%|██████████| 79/79 [00:00<00:00, 138.22it/s]\n",
      "> Eval on experience 7 (Task 0) from test stream ended.\n",
      "\tTop1_Acc_Exp/eval_phase/test_stream/Task000/Exp007 = 0.8600\n",
      "-- Starting eval on experience 8 (Task 0) from test stream --\n",
      "100%|██████████| 79/79 [00:00<00:00, 141.24it/s]\n",
      "> Eval on experience 8 (Task 0) from test stream ended.\n",
      "\tTop1_Acc_Exp/eval_phase/test_stream/Task000/Exp008 = 0.8276\n",
      "-- Starting eval on experience 9 (Task 0) from test stream --\n",
      "100%|██████████| 79/79 [00:00<00:00, 137.14it/s]"
     ]
    },
    {
     "name": "stderr",
     "output_type": "stream",
     "text": [
      " 90%|█████████ | 9/10 [13:10<02:01, 121.68s/it]"
     ]
    },
    {
     "name": "stdout",
     "output_type": "stream",
     "text": [
      "\n",
      "> Eval on experience 9 (Task 0) from test stream ended.\n",
      "\tTop1_Acc_Exp/eval_phase/test_stream/Task000/Exp009 = 0.1118\n",
      "-- >> End of eval phase << --\n",
      "\tTop1_Acc_Stream/eval_phase/test_stream/Task000 = 0.7971\n",
      "-- >> Start of training phase << --\n",
      "100%|██████████| 2344/2344 [00:33<00:00, 70.84it/s]\n",
      "Epoch 0 ended.\n",
      "100%|██████████| 2344/2344 [00:33<00:00, 70.81it/s]\n",
      "Epoch 1 ended.\n",
      "100%|██████████| 2344/2344 [00:33<00:00, 70.96it/s]\n",
      "Epoch 2 ended.\n",
      "100%|██████████| 2344/2344 [00:33<00:00, 70.76it/s]\n",
      "Epoch 3 ended.\n",
      "100%|██████████| 2344/2344 [00:33<00:00, 70.82it/s]\n",
      "Epoch 4 ended.\n",
      "-- >> End of training phase << --\n",
      "-- >> Start of eval phase << --\n",
      "-- Starting eval on experience 0 (Task 0) from test stream --\n",
      "100%|██████████| 79/79 [00:00<00:00, 144.25it/s]\n",
      "> Eval on experience 0 (Task 0) from test stream ended.\n",
      "\tTop1_Acc_Exp/eval_phase/test_stream/Task000/Exp000 = 0.8879\n",
      "-- Starting eval on experience 1 (Task 0) from test stream --\n",
      "100%|██████████| 79/79 [00:00<00:00, 138.95it/s]\n",
      "> Eval on experience 1 (Task 0) from test stream ended.\n",
      "\tTop1_Acc_Exp/eval_phase/test_stream/Task000/Exp001 = 0.8875\n",
      "-- Starting eval on experience 2 (Task 0) from test stream --\n",
      "100%|██████████| 79/79 [00:00<00:00, 142.70it/s]\n",
      "> Eval on experience 2 (Task 0) from test stream ended.\n",
      "\tTop1_Acc_Exp/eval_phase/test_stream/Task000/Exp002 = 0.8850\n",
      "-- Starting eval on experience 3 (Task 0) from test stream --\n",
      "100%|██████████| 79/79 [00:00<00:00, 143.13it/s]\n",
      "> Eval on experience 3 (Task 0) from test stream ended.\n",
      "\tTop1_Acc_Exp/eval_phase/test_stream/Task000/Exp003 = 0.8891\n",
      "-- Starting eval on experience 4 (Task 0) from test stream --\n",
      "100%|██████████| 79/79 [00:00<00:00, 133.85it/s]\n",
      "> Eval on experience 4 (Task 0) from test stream ended.\n",
      "\tTop1_Acc_Exp/eval_phase/test_stream/Task000/Exp004 = 0.8901\n",
      "-- Starting eval on experience 5 (Task 0) from test stream --\n",
      "100%|██████████| 79/79 [00:00<00:00, 143.52it/s]\n",
      "> Eval on experience 5 (Task 0) from test stream ended.\n",
      "\tTop1_Acc_Exp/eval_phase/test_stream/Task000/Exp005 = 0.8862\n",
      "-- Starting eval on experience 6 (Task 0) from test stream --\n",
      "100%|██████████| 79/79 [00:00<00:00, 143.00it/s]\n",
      "> Eval on experience 6 (Task 0) from test stream ended.\n",
      "\tTop1_Acc_Exp/eval_phase/test_stream/Task000/Exp006 = 0.8820\n",
      "-- Starting eval on experience 7 (Task 0) from test stream --\n",
      "100%|██████████| 79/79 [00:00<00:00, 140.06it/s]\n",
      "> Eval on experience 7 (Task 0) from test stream ended.\n",
      "\tTop1_Acc_Exp/eval_phase/test_stream/Task000/Exp007 = 0.8753\n",
      "-- Starting eval on experience 8 (Task 0) from test stream --\n",
      "100%|██████████| 79/79 [00:00<00:00, 139.99it/s]\n",
      "> Eval on experience 8 (Task 0) from test stream ended.\n",
      "\tTop1_Acc_Exp/eval_phase/test_stream/Task000/Exp008 = 0.8629\n",
      "-- Starting eval on experience 9 (Task 0) from test stream --\n",
      "100%|██████████| 79/79 [00:00<00:00, 143.57it/s]"
     ]
    },
    {
     "name": "stderr",
     "output_type": "stream",
     "text": [
      "100%|██████████| 10/10 [16:02<00:00, 96.22s/it] "
     ]
    },
    {
     "name": "stdout",
     "output_type": "stream",
     "text": [
      "\n",
      "> Eval on experience 9 (Task 0) from test stream ended.\n",
      "\tTop1_Acc_Exp/eval_phase/test_stream/Task000/Exp009 = 0.8220\n",
      "-- >> End of eval phase << --\n",
      "\tTop1_Acc_Stream/eval_phase/test_stream/Task000 = 0.8768\n"
     ]
    },
    {
     "name": "stderr",
     "output_type": "stream",
     "text": [
      "\n"
     ]
    }
   ],
   "source": [
    "results = []\n",
    "\n",
    "for experience in tqdm(train_stream):\n",
    "    strategy.train(experience)\n",
    "    metrics = strategy.eval(test_stream)\n",
    "    results.append(metrics)"
   ]
  },
  {
   "cell_type": "markdown",
   "metadata": {},
   "source": [
    "# Plotting results"
   ]
  },
  {
   "cell_type": "code",
   "execution_count": 14,
   "metadata": {},
   "outputs": [],
   "source": [
    "accuracies: dict[int, list[float]] = dict()\n",
    "\n",
    "for i in range(10):\n",
    "    accuracies[f\"Task{i}\"] = eval_plugin.get_all_metrics()[f\"Top1_Acc_Exp/eval_phase/test_stream/Task000/Exp00{i}\"][1]\n",
    "\n",
    "accuracies[\"Overall\"] = eval_plugin.get_all_metrics()[\"Top1_Acc_Stream/eval_phase/test_stream/Task000\"][1]"
   ]
  },
  {
   "cell_type": "code",
   "execution_count": 15,
   "metadata": {},
   "outputs": [],
   "source": [
    "acc_df = pd.DataFrame(accuracies)\n",
    "acc_df.index = range(10)"
   ]
  },
  {
   "cell_type": "code",
   "execution_count": 16,
   "metadata": {},
   "outputs": [
    {
     "data": {
      "text/plain": [
       "<Axes: >"
      ]
     },
     "execution_count": 16,
     "metadata": {},
     "output_type": "execute_result"
    },
    {
     "data": {
      "image/png": "[encoded data removed]",
      "text/plain": [
       "<Figure size 640x480 with 1 Axes>"
      ]
     },
     "metadata": {},
     "output_type": "display_data"
    }
   ],
   "source": [
    "sns.lineplot(data=acc_df, dashes=False, markers=True)"
   ]
  },
  {
   "cell_type": "markdown",
   "metadata": {},
   "source": [
    "# Store metrics"
   ]
  },
  {
   "cell_type": "code",
   "execution_count": 1,
   "metadata": {},
   "outputs": [
    {
     "ename": "NameError",
     "evalue": "name 'pickle' is not defined",
     "output_type": "error",
     "traceback": [
      "\u001b[0;31m---------------------------------------------------------------------------\u001b[0m",
      "\u001b[0;31mNameError\u001b[0m                                 Traceback (most recent call last)",
      "\u001b[1;32m/Users/jesusoyanedelespinoza/Documents/USM/tt2/notebooks/cumulative.ipynb Cell 26\u001b[0m line \u001b[0;36m1\n\u001b[0;32m----> <a href='vscode-notebook-cell:/Users/jesusoyanedelespinoza/Documents/USM/tt2/notebooks/cumulative.ipynb#X34sZmlsZQ%3D%3D?line=0'>1</a>\u001b[0m pickle\u001b[39m.\u001b[39mdump(accuracies, \u001b[39mopen\u001b[39m(SAVED_METRICS_PATH \u001b[39m/\u001b[39m \u001b[39m\"\u001b[39m\u001b[39mcumulative.pkl\u001b[39m\u001b[39m\"\u001b[39m, \u001b[39m\"\u001b[39m\u001b[39mwb\u001b[39m\u001b[39m\"\u001b[39m))\n",
      "\u001b[0;31mNameError\u001b[0m: name 'pickle' is not defined"
     ]
    }
   ],
   "source": [
    "pickle.dump(accuracies, open(SAVED_METRICS_PATH / \"cumulative.pkl\", \"wb\"))"
   ]
  }
 ],
 "metadata": {
  "kernelspec": {
   "display_name": "tt2",
   "language": "python",
   "name": "python3"
  },
  "language_info": {
   "codemirror_mode": {
    "name": "ipython",
    "version": 3
   },
   "file_extension": ".py",
   "mimetype": "text/x-python",
   "name": "python",
   "nbconvert_exporter": "python",
   "pygments_lexer": "ipython3",
   "version": "3.9.18"
  }
 },
 "nbformat": 4,
 "nbformat_minor": 2
}
