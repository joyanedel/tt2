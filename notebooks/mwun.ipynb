{
 "cells": [
  {
   "cell_type": "code",
   "execution_count": 1,
   "metadata": {},
   "outputs": [],
   "source": [
    "%load_ext autoreload\n",
    "%autoreload 2"
   ]
  },
  {
   "cell_type": "markdown",
   "metadata": {},
   "source": [
    "# Libraries"
   ]
  },
  {
   "cell_type": "code",
   "execution_count": 2,
   "metadata": {},
   "outputs": [],
   "source": [
    "from torchvision.transforms import Compose, ToTensor\n",
    "from torchsummary import summary\n",
    "import pickle\n",
    "import pandas as pd\n",
    "import plotly.express as px\n",
    "from tqdm import tqdm"
   ]
  },
  {
   "cell_type": "code",
   "execution_count": 12,
   "metadata": {},
   "outputs": [],
   "source": [
    "from avalanche.benchmarks.classic import PermutedMNIST\n",
    "from avalanche.models import SimpleMLP\n",
    "from avalanche.training.plugins import EvaluationPlugin\n",
    "from avalanche.logging import InteractiveLogger\n",
    "from avalanche.evaluation.metrics import accuracy_metrics, forgetting_metrics, bwt_metrics\n",
    "\n",
    "from torch.nn import CrossEntropyLoss\n",
    "from torch.optim import SGD"
   ]
  },
  {
   "cell_type": "markdown",
   "metadata": {},
   "source": [
    "## Custom Libraries"
   ]
  },
  {
   "cell_type": "code",
   "execution_count": 4,
   "metadata": {},
   "outputs": [],
   "source": [
    "import sys\n",
    "\n",
    "sys.path.append(\"../base_code/\")\n",
    "\n",
    "from base_code.constants import DATASETS_PATH, SAVED_METRICS_PATH\n",
    "from base_code.training import MWUN\n",
    "from base_code.plugins import WeightStoragePlugin"
   ]
  },
  {
   "cell_type": "markdown",
   "metadata": {},
   "source": [
    "# Dataset and definitions"
   ]
  },
  {
   "cell_type": "markdown",
   "metadata": {},
   "source": [
    "## Dataset loading\n",
    "\n",
    "We load state-of-the-art dataset Modified NIST"
   ]
  },
  {
   "cell_type": "code",
   "execution_count": 5,
   "metadata": {},
   "outputs": [],
   "source": [
    "scenario = PermutedMNIST(10, seed=1234, dataset_root=DATASETS_PATH)"
   ]
  },
  {
   "cell_type": "markdown",
   "metadata": {},
   "source": [
    "## Scenario creation with train test streaming\n",
    "\n",
    "In this point, we define our scenario considering a training where in every experience of it, a new class is presented. This is, first we train with a class $a$, the following experience we train with class $b$ ($a \\neq b$)"
   ]
  },
  {
   "cell_type": "code",
   "execution_count": 6,
   "metadata": {},
   "outputs": [],
   "source": [
    "train_stream = scenario.train_stream\n",
    "test_stream = scenario.test_stream"
   ]
  },
  {
   "cell_type": "markdown",
   "metadata": {},
   "source": [
    "## Evaluation metrics definition"
   ]
  },
  {
   "cell_type": "code",
   "execution_count": 77,
   "metadata": {},
   "outputs": [],
   "source": [
    "eval_plugin = EvaluationPlugin(\n",
    "    accuracy_metrics(experience=True, stream=True, trained_experience=True),\n",
    "    forgetting_metrics(experience=True, stream=True),\n",
    "    bwt_metrics(experience=True, stream=True),\n",
    "    loggers=[InteractiveLogger()]\n",
    ")"
   ]
  },
  {
   "cell_type": "markdown",
   "metadata": {},
   "source": [
    "## Plugin defitinitions"
   ]
  },
  {
   "cell_type": "code",
   "execution_count": 78,
   "metadata": {},
   "outputs": [],
   "source": [
    "model_plugins = [WeightStoragePlugin()]"
   ]
  },
  {
   "cell_type": "markdown",
   "metadata": {},
   "source": [
    "## Model, Optimizer, Loss function and Strategy definition\n",
    "\n",
    "* `model`: Multi Layer Perceptron\n",
    "* `Optimizer`: Adam\n",
    "* `Loss function`: Cross Entropy\n",
    "* `Strategy`: Elastic Weight Consolidation"
   ]
  },
  {
   "cell_type": "code",
   "execution_count": 79,
   "metadata": {},
   "outputs": [],
   "source": [
    "# model = MLP(n_classes=scenario.n_classes, n_channels=1, width=28, height=28)\n",
    "model = SimpleMLP(num_classes=scenario.n_classes, input_size=28 * 28, hidden_layers=2, hidden_size=100)\n",
    "optimizer = SGD(model.parameters(), lr=1e-3)\n",
    "criterion = CrossEntropyLoss()\n",
    "strategy = MWUN(\n",
    "    model,\n",
    "    optimizer,\n",
    "    criterion,\n",
    "    eps=1e-5,\n",
    "    train_epochs=5,\n",
    "    train_mb_size=128,\n",
    "    evaluator=eval_plugin,\n",
    "    eval_mb_size=128,\n",
    ")"
   ]
  },
  {
   "cell_type": "markdown",
   "metadata": {},
   "source": [
    "# Training and evaluation\n",
    "\n",
    "Revisar porque el entrenamiento se está comportando de forma rara"
   ]
  },
  {
   "cell_type": "code",
   "execution_count": 80,
   "metadata": {},
   "outputs": [
    {
     "name": "stderr",
     "output_type": "stream",
     "text": [
      "  0%|          | 0/10 [00:00<?, ?it/s]"
     ]
    },
    {
     "name": "stdout",
     "output_type": "stream",
     "text": [
      "-- >> Start of training phase << --\n",
      "100%|██████████| 469/469 [00:04<00:00, 108.33it/s]\n",
      "Epoch 0 ended.\n",
      "100%|██████████| 469/469 [00:04<00:00, 113.53it/s]\n",
      "Epoch 1 ended.\n",
      "100%|██████████| 469/469 [00:04<00:00, 113.04it/s]\n",
      "Epoch 2 ended.\n",
      "100%|██████████| 469/469 [00:04<00:00, 113.55it/s]\n",
      "Epoch 3 ended.\n",
      "100%|██████████| 469/469 [00:04<00:00, 112.52it/s]\n",
      "Epoch 4 ended.\n",
      "-- >> End of training phase << --\n",
      "-- >> Start of eval phase << --\n",
      "-- Starting eval on experience 0 (Task 0) from train stream --\n",
      "100%|██████████| 469/469 [00:03<00:00, 135.47it/s]\n",
      "> Eval on experience 0 (Task 0) from train stream ended.\n",
      "\tTop1_Acc_Exp/eval_phase/train_stream/Task000/Exp000 = 0.7375\n",
      "-- Starting eval on experience 1 (Task 0) from train stream --\n",
      "100%|██████████| 469/469 [00:03<00:00, 135.43it/s]\n",
      "> Eval on experience 1 (Task 0) from train stream ended.\n",
      "\tTop1_Acc_Exp/eval_phase/train_stream/Task000/Exp001 = 0.1767\n",
      "-- Starting eval on experience 2 (Task 0) from train stream --\n",
      "100%|██████████| 469/469 [00:03<00:00, 136.44it/s]\n",
      "> Eval on experience 2 (Task 0) from train stream ended.\n",
      "\tTop1_Acc_Exp/eval_phase/train_stream/Task000/Exp002 = 0.1298\n",
      "-- Starting eval on experience 3 (Task 0) from train stream --\n",
      "100%|██████████| 469/469 [00:03<00:00, 135.25it/s]\n",
      "> Eval on experience 3 (Task 0) from train stream ended.\n",
      "\tTop1_Acc_Exp/eval_phase/train_stream/Task000/Exp003 = 0.1260\n",
      "-- Starting eval on experience 4 (Task 0) from train stream --\n",
      "100%|██████████| 469/469 [00:03<00:00, 133.97it/s]\n",
      "> Eval on experience 4 (Task 0) from train stream ended.\n",
      "\tTop1_Acc_Exp/eval_phase/train_stream/Task000/Exp004 = 0.1404\n",
      "-- Starting eval on experience 5 (Task 0) from train stream --\n",
      "100%|██████████| 469/469 [00:03<00:00, 133.33it/s]\n",
      "> Eval on experience 5 (Task 0) from train stream ended.\n",
      "\tTop1_Acc_Exp/eval_phase/train_stream/Task000/Exp005 = 0.1497\n",
      "-- Starting eval on experience 6 (Task 0) from train stream --\n",
      "100%|██████████| 469/469 [00:03<00:00, 134.77it/s]\n",
      "> Eval on experience 6 (Task 0) from train stream ended.\n",
      "\tTop1_Acc_Exp/eval_phase/train_stream/Task000/Exp006 = 0.1503\n",
      "-- Starting eval on experience 7 (Task 0) from train stream --\n",
      "100%|██████████| 469/469 [00:03<00:00, 134.08it/s]\n",
      "> Eval on experience 7 (Task 0) from train stream ended.\n",
      "\tTop1_Acc_Exp/eval_phase/train_stream/Task000/Exp007 = 0.1230\n",
      "-- Starting eval on experience 8 (Task 0) from train stream --\n",
      "100%|██████████| 469/469 [00:03<00:00, 134.12it/s]\n",
      "> Eval on experience 8 (Task 0) from train stream ended.\n",
      "\tTop1_Acc_Exp/eval_phase/train_stream/Task000/Exp008 = 0.1718\n",
      "-- Starting eval on experience 9 (Task 0) from train stream --\n",
      "100%|██████████| 469/469 [00:03<00:00, 134.44it/s]\n",
      "> Eval on experience 9 (Task 0) from train stream ended.\n",
      "\tTop1_Acc_Exp/eval_phase/train_stream/Task000/Exp009 = 0.1462\n",
      "-- >> End of eval phase << --\n",
      "\tAccuracy_On_Trained_Experiences/eval_phase/train_stream/Task000 = 0.7375\n",
      "\tStreamBWT/eval_phase/train_stream = 0.0000\n",
      "\tStreamForgetting/eval_phase/train_stream = 0.0000\n",
      "\tTop1_Acc_Stream/eval_phase/train_stream/Task000 = 0.2051\n",
      "-- >> Start of eval phase << --\n",
      "-- Starting eval on experience 0 (Task 0) from test stream --\n",
      "100%|██████████| 79/79 [00:00<00:00, 135.41it/s]\n",
      "> Eval on experience 0 (Task 0) from test stream ended.\n",
      "\tTop1_Acc_Exp/eval_phase/test_stream/Task000/Exp000 = 0.7415\n",
      "-- Starting eval on experience 1 (Task 0) from test stream --\n",
      "100%|██████████| 79/79 [00:00<00:00, 136.16it/s]\n",
      "> Eval on experience 1 (Task 0) from test stream ended.\n",
      "\tTop1_Acc_Exp/eval_phase/test_stream/Task000/Exp001 = 0.1730\n",
      "-- Starting eval on experience 2 (Task 0) from test stream --\n",
      "100%|██████████| 79/79 [00:00<00:00, 132.68it/s]\n",
      "> Eval on experience 2 (Task 0) from test stream ended.\n",
      "\tTop1_Acc_Exp/eval_phase/test_stream/Task000/Exp002 = 0.1297\n",
      "-- Starting eval on experience 3 (Task 0) from test stream --\n",
      "100%|██████████| 79/79 [00:00<00:00, 137.13it/s]\n",
      "> Eval on experience 3 (Task 0) from test stream ended.\n",
      "\tTop1_Acc_Exp/eval_phase/test_stream/Task000/Exp003 = 0.1284\n",
      "-- Starting eval on experience 4 (Task 0) from test stream --\n",
      "100%|██████████| 79/79 [00:00<00:00, 131.66it/s]\n",
      "> Eval on experience 4 (Task 0) from test stream ended.\n",
      "\tTop1_Acc_Exp/eval_phase/test_stream/Task000/Exp004 = 0.1388\n",
      "-- Starting eval on experience 5 (Task 0) from test stream --\n",
      "100%|██████████| 79/79 [00:00<00:00, 135.99it/s]\n",
      "> Eval on experience 5 (Task 0) from test stream ended.\n",
      "\tTop1_Acc_Exp/eval_phase/test_stream/Task000/Exp005 = 0.1505\n",
      "-- Starting eval on experience 6 (Task 0) from test stream --\n",
      "100%|██████████| 79/79 [00:00<00:00, 136.20it/s]\n",
      "> Eval on experience 6 (Task 0) from test stream ended.\n",
      "\tTop1_Acc_Exp/eval_phase/test_stream/Task000/Exp006 = 0.1455\n",
      "-- Starting eval on experience 7 (Task 0) from test stream --\n",
      "100%|██████████| 79/79 [00:00<00:00, 132.47it/s]\n",
      "> Eval on experience 7 (Task 0) from test stream ended.\n",
      "\tTop1_Acc_Exp/eval_phase/test_stream/Task000/Exp007 = 0.1194\n",
      "-- Starting eval on experience 8 (Task 0) from test stream --\n",
      "100%|██████████| 79/79 [00:00<00:00, 135.69it/s]\n",
      "> Eval on experience 8 (Task 0) from test stream ended.\n",
      "\tTop1_Acc_Exp/eval_phase/test_stream/Task000/Exp008 = 0.1801\n",
      "-- Starting eval on experience 9 (Task 0) from test stream --\n",
      "100%|██████████| 79/79 [00:00<00:00, 132.67it/s]"
     ]
    },
    {
     "name": "stderr",
     "output_type": "stream",
     "text": [
      " 10%|█         | 1/10 [01:01<09:15, 61.72s/it]"
     ]
    },
    {
     "name": "stdout",
     "output_type": "stream",
     "text": [
      "\n",
      "> Eval on experience 9 (Task 0) from test stream ended.\n",
      "\tTop1_Acc_Exp/eval_phase/test_stream/Task000/Exp009 = 0.1489\n",
      "-- >> End of eval phase << --\n",
      "\tAccuracy_On_Trained_Experiences/eval_phase/test_stream/Task000 = 0.7415\n",
      "\tStreamBWT/eval_phase/test_stream = 0.0000\n",
      "\tStreamForgetting/eval_phase/test_stream = 0.0000\n",
      "\tTop1_Acc_Stream/eval_phase/test_stream/Task000 = 0.2056\n",
      "-- >> Start of training phase << --\n",
      "100%|██████████| 469/469 [00:04<00:00, 112.40it/s]\n",
      "Epoch 0 ended.\n",
      "100%|██████████| 469/469 [00:04<00:00, 111.99it/s]\n",
      "Epoch 1 ended.\n",
      "100%|██████████| 469/469 [00:04<00:00, 112.61it/s]\n",
      "Epoch 2 ended.\n",
      "100%|██████████| 469/469 [00:04<00:00, 112.03it/s]\n",
      "Epoch 3 ended.\n",
      "100%|██████████| 469/469 [00:04<00:00, 112.74it/s]\n",
      "Epoch 4 ended.\n",
      "-- >> End of training phase << --\n",
      "-- >> Start of eval phase << --\n",
      "-- Starting eval on experience 0 (Task 0) from train stream --\n",
      "100%|██████████| 469/469 [00:03<00:00, 133.96it/s]\n",
      "> Eval on experience 0 (Task 0) from train stream ended.\n",
      "\tExperienceBWT/eval_phase/train_stream/Task000/Exp000 = -0.0322\n",
      "\tExperienceForgetting/eval_phase/train_stream/Task000/Exp000 = 0.0322\n",
      "\tTop1_Acc_Exp/eval_phase/train_stream/Task000/Exp000 = 0.7093\n",
      "-- Starting eval on experience 1 (Task 0) from train stream --\n",
      "100%|██████████| 469/469 [00:03<00:00, 133.38it/s]\n",
      "> Eval on experience 1 (Task 0) from train stream ended.\n",
      "\tTop1_Acc_Exp/eval_phase/train_stream/Task000/Exp001 = 0.7821\n",
      "-- Starting eval on experience 2 (Task 0) from train stream --\n",
      "100%|██████████| 469/469 [00:03<00:00, 131.79it/s]\n",
      "> Eval on experience 2 (Task 0) from train stream ended.\n",
      "\tTop1_Acc_Exp/eval_phase/train_stream/Task000/Exp002 = 0.1509\n",
      "-- Starting eval on experience 3 (Task 0) from train stream --\n",
      "100%|██████████| 469/469 [00:03<00:00, 129.28it/s]\n",
      "> Eval on experience 3 (Task 0) from train stream ended.\n",
      "\tTop1_Acc_Exp/eval_phase/train_stream/Task000/Exp003 = 0.1304\n",
      "-- Starting eval on experience 4 (Task 0) from train stream --\n",
      "100%|██████████| 469/469 [00:03<00:00, 132.00it/s]\n",
      "> Eval on experience 4 (Task 0) from train stream ended.\n",
      "\tTop1_Acc_Exp/eval_phase/train_stream/Task000/Exp004 = 0.1721\n",
      "-- Starting eval on experience 5 (Task 0) from train stream --\n",
      "100%|██████████| 469/469 [00:03<00:00, 133.45it/s]\n",
      "> Eval on experience 5 (Task 0) from train stream ended.\n",
      "\tTop1_Acc_Exp/eval_phase/train_stream/Task000/Exp005 = 0.1520\n",
      "-- Starting eval on experience 6 (Task 0) from train stream --\n",
      "100%|██████████| 469/469 [00:03<00:00, 132.98it/s]\n",
      "> Eval on experience 6 (Task 0) from train stream ended.\n",
      "\tTop1_Acc_Exp/eval_phase/train_stream/Task000/Exp006 = 0.1782\n",
      "-- Starting eval on experience 7 (Task 0) from train stream --\n",
      "100%|██████████| 469/469 [00:03<00:00, 132.44it/s]\n",
      "> Eval on experience 7 (Task 0) from train stream ended.\n",
      "\tTop1_Acc_Exp/eval_phase/train_stream/Task000/Exp007 = 0.1268\n",
      "-- Starting eval on experience 8 (Task 0) from train stream --\n",
      "100%|██████████| 469/469 [00:03<00:00, 133.03it/s]\n",
      "> Eval on experience 8 (Task 0) from train stream ended.\n",
      "\tTop1_Acc_Exp/eval_phase/train_stream/Task000/Exp008 = 0.1929\n",
      "-- Starting eval on experience 9 (Task 0) from train stream --\n",
      "100%|██████████| 469/469 [00:03<00:00, 133.73it/s]\n",
      "> Eval on experience 9 (Task 0) from train stream ended.\n",
      "\tTop1_Acc_Exp/eval_phase/train_stream/Task000/Exp009 = 0.1841\n",
      "-- >> End of eval phase << --\n",
      "\tAccuracy_On_Trained_Experiences/eval_phase/train_stream/Task000 = 0.7457\n",
      "\tStreamBWT/eval_phase/train_stream = -0.0322\n",
      "\tStreamForgetting/eval_phase/train_stream = 0.0322\n",
      "\tTop1_Acc_Stream/eval_phase/train_stream/Task000 = 0.2779\n",
      "-- >> Start of eval phase << --\n",
      "-- Starting eval on experience 0 (Task 0) from test stream --\n",
      "100%|██████████| 79/79 [00:00<00:00, 135.58it/s]\n",
      "> Eval on experience 0 (Task 0) from test stream ended.\n",
      "\tExperienceBWT/eval_phase/test_stream/Task000/Exp000 = -0.0244\n",
      "\tExperienceForgetting/eval_phase/test_stream/Task000/Exp000 = 0.0244\n",
      "\tTop1_Acc_Exp/eval_phase/test_stream/Task000/Exp000 = 0.7171\n",
      "-- Starting eval on experience 1 (Task 0) from test stream --\n",
      "100%|██████████| 79/79 [00:00<00:00, 135.56it/s]\n",
      "> Eval on experience 1 (Task 0) from test stream ended.\n",
      "\tTop1_Acc_Exp/eval_phase/test_stream/Task000/Exp001 = 0.7886\n",
      "-- Starting eval on experience 2 (Task 0) from test stream --\n",
      "100%|██████████| 79/79 [00:00<00:00, 130.02it/s]\n",
      "> Eval on experience 2 (Task 0) from test stream ended.\n",
      "\tTop1_Acc_Exp/eval_phase/test_stream/Task000/Exp002 = 0.1528\n",
      "-- Starting eval on experience 3 (Task 0) from test stream --\n",
      "100%|██████████| 79/79 [00:00<00:00, 134.58it/s]\n",
      "> Eval on experience 3 (Task 0) from test stream ended.\n",
      "\tTop1_Acc_Exp/eval_phase/test_stream/Task000/Exp003 = 0.1362\n",
      "-- Starting eval on experience 4 (Task 0) from test stream --\n",
      "100%|██████████| 79/79 [00:00<00:00, 130.01it/s]\n",
      "> Eval on experience 4 (Task 0) from test stream ended.\n",
      "\tTop1_Acc_Exp/eval_phase/test_stream/Task000/Exp004 = 0.1666\n",
      "-- Starting eval on experience 5 (Task 0) from test stream --\n",
      "100%|██████████| 79/79 [00:00<00:00, 135.14it/s]\n",
      "> Eval on experience 5 (Task 0) from test stream ended.\n",
      "\tTop1_Acc_Exp/eval_phase/test_stream/Task000/Exp005 = 0.1482\n",
      "-- Starting eval on experience 6 (Task 0) from test stream --\n",
      "100%|██████████| 79/79 [00:00<00:00, 135.77it/s]\n",
      "> Eval on experience 6 (Task 0) from test stream ended.\n",
      "\tTop1_Acc_Exp/eval_phase/test_stream/Task000/Exp006 = 0.1774\n",
      "-- Starting eval on experience 7 (Task 0) from test stream --\n",
      "100%|██████████| 79/79 [00:00<00:00, 131.47it/s]\n",
      "> Eval on experience 7 (Task 0) from test stream ended.\n",
      "\tTop1_Acc_Exp/eval_phase/test_stream/Task000/Exp007 = 0.1248\n",
      "-- Starting eval on experience 8 (Task 0) from test stream --\n",
      "100%|██████████| 79/79 [00:00<00:00, 134.77it/s]\n",
      "> Eval on experience 8 (Task 0) from test stream ended.\n",
      "\tTop1_Acc_Exp/eval_phase/test_stream/Task000/Exp008 = 0.1963\n",
      "-- Starting eval on experience 9 (Task 0) from test stream --\n",
      "100%|██████████| 79/79 [00:00<00:00, 132.38it/s]"
     ]
    },
    {
     "name": "stderr",
     "output_type": "stream",
     "text": [
      " 20%|██        | 2/10 [02:03<08:16, 62.04s/it]"
     ]
    },
    {
     "name": "stdout",
     "output_type": "stream",
     "text": [
      "\n",
      "> Eval on experience 9 (Task 0) from test stream ended.\n",
      "\tTop1_Acc_Exp/eval_phase/test_stream/Task000/Exp009 = 0.1946\n",
      "-- >> End of eval phase << --\n",
      "\tAccuracy_On_Trained_Experiences/eval_phase/test_stream/Task000 = 0.7529\n",
      "\tStreamBWT/eval_phase/test_stream = -0.0244\n",
      "\tStreamForgetting/eval_phase/test_stream = 0.0244\n",
      "\tTop1_Acc_Stream/eval_phase/test_stream/Task000 = 0.2803\n",
      "-- >> Start of training phase << --\n",
      "100%|██████████| 469/469 [00:04<00:00, 112.45it/s]\n",
      "Epoch 0 ended.\n",
      "100%|██████████| 469/469 [00:04<00:00, 112.20it/s]\n",
      "Epoch 1 ended.\n",
      "100%|██████████| 469/469 [00:04<00:00, 112.48it/s]\n",
      "Epoch 2 ended.\n",
      "100%|██████████| 469/469 [00:04<00:00, 111.62it/s]\n",
      "Epoch 3 ended.\n",
      "100%|██████████| 469/469 [00:04<00:00, 112.42it/s]\n",
      "Epoch 4 ended.\n",
      "-- >> End of training phase << --\n",
      "-- >> Start of eval phase << --\n",
      "-- Starting eval on experience 0 (Task 0) from train stream --\n",
      "100%|██████████| 469/469 [00:03<00:00, 133.82it/s]\n",
      "> Eval on experience 0 (Task 0) from train stream ended.\n",
      "\tExperienceBWT/eval_phase/train_stream/Task000/Exp000 = -0.0992\n",
      "\tExperienceForgetting/eval_phase/train_stream/Task000/Exp000 = 0.0992\n",
      "\tTop1_Acc_Exp/eval_phase/train_stream/Task000/Exp000 = 0.6423\n",
      "-- Starting eval on experience 1 (Task 0) from train stream --\n",
      "100%|██████████| 469/469 [00:03<00:00, 133.51it/s]\n",
      "> Eval on experience 1 (Task 0) from train stream ended.\n",
      "\tExperienceBWT/eval_phase/train_stream/Task000/Exp001 = -0.0302\n",
      "\tExperienceForgetting/eval_phase/train_stream/Task000/Exp001 = 0.0302\n",
      "\tTop1_Acc_Exp/eval_phase/train_stream/Task000/Exp001 = 0.7584\n",
      "-- Starting eval on experience 2 (Task 0) from train stream --\n",
      "100%|██████████| 469/469 [00:03<00:00, 133.00it/s]\n",
      "> Eval on experience 2 (Task 0) from train stream ended.\n",
      "\tTop1_Acc_Exp/eval_phase/train_stream/Task000/Exp002 = 0.7953\n",
      "-- Starting eval on experience 3 (Task 0) from train stream --\n",
      "100%|██████████| 469/469 [00:03<00:00, 134.35it/s]\n",
      "> Eval on experience 3 (Task 0) from train stream ended.\n",
      "\tTop1_Acc_Exp/eval_phase/train_stream/Task000/Exp003 = 0.1033\n",
      "-- Starting eval on experience 4 (Task 0) from train stream --\n",
      "100%|██████████| 469/469 [00:03<00:00, 132.34it/s]\n",
      "> Eval on experience 4 (Task 0) from train stream ended.\n",
      "\tTop1_Acc_Exp/eval_phase/train_stream/Task000/Exp004 = 0.1229\n",
      "-- Starting eval on experience 5 (Task 0) from train stream --\n",
      "100%|██████████| 469/469 [00:03<00:00, 133.33it/s]\n",
      "> Eval on experience 5 (Task 0) from train stream ended.\n",
      "\tTop1_Acc_Exp/eval_phase/train_stream/Task000/Exp005 = 0.1716\n",
      "-- Starting eval on experience 6 (Task 0) from train stream --\n",
      "100%|██████████| 469/469 [00:03<00:00, 133.68it/s]\n",
      "> Eval on experience 6 (Task 0) from train stream ended.\n",
      "\tTop1_Acc_Exp/eval_phase/train_stream/Task000/Exp006 = 0.1422\n",
      "-- Starting eval on experience 7 (Task 0) from train stream --\n",
      "100%|██████████| 469/469 [00:03<00:00, 134.12it/s]\n",
      "> Eval on experience 7 (Task 0) from train stream ended.\n",
      "\tTop1_Acc_Exp/eval_phase/train_stream/Task000/Exp007 = 0.1523\n",
      "-- Starting eval on experience 8 (Task 0) from train stream --\n",
      "100%|██████████| 469/469 [00:03<00:00, 134.35it/s]\n",
      "> Eval on experience 8 (Task 0) from train stream ended.\n",
      "\tTop1_Acc_Exp/eval_phase/train_stream/Task000/Exp008 = 0.1804\n",
      "-- Starting eval on experience 9 (Task 0) from train stream --\n",
      "100%|██████████| 469/469 [00:03<00:00, 133.97it/s]\n",
      "> Eval on experience 9 (Task 0) from train stream ended.\n",
      "\tTop1_Acc_Exp/eval_phase/train_stream/Task000/Exp009 = 0.1301\n",
      "-- >> End of eval phase << --\n",
      "\tAccuracy_On_Trained_Experiences/eval_phase/train_stream/Task000 = 0.7320\n",
      "\tStreamBWT/eval_phase/train_stream = -0.0647\n",
      "\tStreamForgetting/eval_phase/train_stream = 0.0647\n",
      "\tTop1_Acc_Stream/eval_phase/train_stream/Task000 = 0.3199\n",
      "-- >> Start of eval phase << --\n",
      "-- Starting eval on experience 0 (Task 0) from test stream --\n",
      "100%|██████████| 79/79 [00:00<00:00, 135.97it/s]\n",
      "> Eval on experience 0 (Task 0) from test stream ended.\n",
      "\tExperienceBWT/eval_phase/test_stream/Task000/Exp000 = -0.1011\n",
      "\tExperienceForgetting/eval_phase/test_stream/Task000/Exp000 = 0.1011\n",
      "\tTop1_Acc_Exp/eval_phase/test_stream/Task000/Exp000 = 0.6404\n",
      "-- Starting eval on experience 1 (Task 0) from test stream --\n",
      "100%|██████████| 79/79 [00:00<00:00, 133.93it/s]\n",
      "> Eval on experience 1 (Task 0) from test stream ended.\n",
      "\tExperienceBWT/eval_phase/test_stream/Task000/Exp001 = -0.0272\n",
      "\tExperienceForgetting/eval_phase/test_stream/Task000/Exp001 = 0.0272\n",
      "\tTop1_Acc_Exp/eval_phase/test_stream/Task000/Exp001 = 0.7614\n",
      "-- Starting eval on experience 2 (Task 0) from test stream --\n",
      "100%|██████████| 79/79 [00:00<00:00, 130.96it/s]\n",
      "> Eval on experience 2 (Task 0) from test stream ended.\n",
      "\tTop1_Acc_Exp/eval_phase/test_stream/Task000/Exp002 = 0.7992\n",
      "-- Starting eval on experience 3 (Task 0) from test stream --\n",
      "100%|██████████| 79/79 [00:00<00:00, 137.14it/s]\n",
      "> Eval on experience 3 (Task 0) from test stream ended.\n",
      "\tTop1_Acc_Exp/eval_phase/test_stream/Task000/Exp003 = 0.1034\n",
      "-- Starting eval on experience 4 (Task 0) from test stream --\n",
      "100%|██████████| 79/79 [00:00<00:00, 131.68it/s]\n",
      "> Eval on experience 4 (Task 0) from test stream ended.\n",
      "\tTop1_Acc_Exp/eval_phase/test_stream/Task000/Exp004 = 0.1170\n",
      "-- Starting eval on experience 5 (Task 0) from test stream --\n",
      "100%|██████████| 79/79 [00:00<00:00, 135.67it/s]\n",
      "> Eval on experience 5 (Task 0) from test stream ended.\n",
      "\tTop1_Acc_Exp/eval_phase/test_stream/Task000/Exp005 = 0.1695\n",
      "-- Starting eval on experience 6 (Task 0) from test stream --\n",
      "100%|██████████| 79/79 [00:00<00:00, 136.65it/s]\n",
      "> Eval on experience 6 (Task 0) from test stream ended.\n",
      "\tTop1_Acc_Exp/eval_phase/test_stream/Task000/Exp006 = 0.1362\n",
      "-- Starting eval on experience 7 (Task 0) from test stream --\n",
      "100%|██████████| 79/79 [00:00<00:00, 132.27it/s]\n",
      "> Eval on experience 7 (Task 0) from test stream ended.\n",
      "\tTop1_Acc_Exp/eval_phase/test_stream/Task000/Exp007 = 0.1569\n",
      "-- Starting eval on experience 8 (Task 0) from test stream --\n",
      "100%|██████████| 79/79 [00:00<00:00, 135.67it/s]\n",
      "> Eval on experience 8 (Task 0) from test stream ended.\n",
      "\tTop1_Acc_Exp/eval_phase/test_stream/Task000/Exp008 = 0.1844\n",
      "-- Starting eval on experience 9 (Task 0) from test stream --\n",
      "100%|██████████| 79/79 [00:00<00:00, 133.50it/s]"
     ]
    },
    {
     "name": "stderr",
     "output_type": "stream",
     "text": [
      " 30%|███       | 3/10 [03:05<07:14, 62.01s/it]"
     ]
    },
    {
     "name": "stdout",
     "output_type": "stream",
     "text": [
      "\n",
      "> Eval on experience 9 (Task 0) from test stream ended.\n",
      "\tTop1_Acc_Exp/eval_phase/test_stream/Task000/Exp009 = 0.1392\n",
      "-- >> End of eval phase << --\n",
      "\tAccuracy_On_Trained_Experiences/eval_phase/test_stream/Task000 = 0.7337\n",
      "\tStreamBWT/eval_phase/test_stream = -0.0642\n",
      "\tStreamForgetting/eval_phase/test_stream = 0.0642\n",
      "\tTop1_Acc_Stream/eval_phase/test_stream/Task000 = 0.3208\n",
      "-- >> Start of training phase << --\n",
      "100%|██████████| 469/469 [00:04<00:00, 112.63it/s]\n",
      "Epoch 0 ended.\n",
      "100%|██████████| 469/469 [00:04<00:00, 112.10it/s]\n",
      "Epoch 1 ended.\n",
      "100%|██████████| 469/469 [00:04<00:00, 112.87it/s]\n",
      "Epoch 2 ended.\n",
      "100%|██████████| 469/469 [00:04<00:00, 112.39it/s]\n",
      "Epoch 3 ended.\n",
      "100%|██████████| 469/469 [00:04<00:00, 113.54it/s]\n",
      "Epoch 4 ended.\n",
      "-- >> End of training phase << --\n",
      "-- >> Start of eval phase << --\n",
      "-- Starting eval on experience 0 (Task 0) from train stream --\n",
      "100%|██████████| 469/469 [00:03<00:00, 135.03it/s]\n",
      "> Eval on experience 0 (Task 0) from train stream ended.\n",
      "\tExperienceBWT/eval_phase/train_stream/Task000/Exp000 = -0.1106\n",
      "\tExperienceForgetting/eval_phase/train_stream/Task000/Exp000 = 0.1106\n",
      "\tTop1_Acc_Exp/eval_phase/train_stream/Task000/Exp000 = 0.6309\n",
      "-- Starting eval on experience 1 (Task 0) from train stream --\n",
      "100%|██████████| 469/469 [00:03<00:00, 134.09it/s]\n",
      "> Eval on experience 1 (Task 0) from train stream ended.\n",
      "\tExperienceBWT/eval_phase/train_stream/Task000/Exp001 = -0.0376\n",
      "\tExperienceForgetting/eval_phase/train_stream/Task000/Exp001 = 0.0376\n",
      "\tTop1_Acc_Exp/eval_phase/train_stream/Task000/Exp001 = 0.7510\n",
      "-- Starting eval on experience 2 (Task 0) from train stream --\n",
      "100%|██████████| 469/469 [00:03<00:00, 134.18it/s]\n",
      "> Eval on experience 2 (Task 0) from train stream ended.\n",
      "\tExperienceBWT/eval_phase/train_stream/Task000/Exp002 = -0.0084\n",
      "\tExperienceForgetting/eval_phase/train_stream/Task000/Exp002 = 0.0084\n",
      "\tTop1_Acc_Exp/eval_phase/train_stream/Task000/Exp002 = 0.7908\n",
      "-- Starting eval on experience 3 (Task 0) from train stream --\n",
      "100%|██████████| 469/469 [00:03<00:00, 134.59it/s]\n",
      "> Eval on experience 3 (Task 0) from train stream ended.\n",
      "\tTop1_Acc_Exp/eval_phase/train_stream/Task000/Exp003 = 0.8048\n",
      "-- Starting eval on experience 4 (Task 0) from train stream --\n",
      "100%|██████████| 469/469 [00:03<00:00, 133.34it/s]\n",
      "> Eval on experience 4 (Task 0) from train stream ended.\n",
      "\tTop1_Acc_Exp/eval_phase/train_stream/Task000/Exp004 = 0.1102\n",
      "-- Starting eval on experience 5 (Task 0) from train stream --\n",
      "100%|██████████| 469/469 [00:03<00:00, 135.79it/s]\n",
      "> Eval on experience 5 (Task 0) from train stream ended.\n",
      "\tTop1_Acc_Exp/eval_phase/train_stream/Task000/Exp005 = 0.1169\n",
      "-- Starting eval on experience 6 (Task 0) from train stream --\n",
      "100%|██████████| 469/469 [00:03<00:00, 135.39it/s]\n",
      "> Eval on experience 6 (Task 0) from train stream ended.\n",
      "\tTop1_Acc_Exp/eval_phase/train_stream/Task000/Exp006 = 0.1660\n",
      "-- Starting eval on experience 7 (Task 0) from train stream --\n",
      "100%|██████████| 469/469 [00:03<00:00, 135.33it/s]\n",
      "> Eval on experience 7 (Task 0) from train stream ended.\n",
      "\tTop1_Acc_Exp/eval_phase/train_stream/Task000/Exp007 = 0.1693\n",
      "-- Starting eval on experience 8 (Task 0) from train stream --\n",
      "100%|██████████| 469/469 [00:03<00:00, 135.66it/s]\n",
      "> Eval on experience 8 (Task 0) from train stream ended.\n",
      "\tTop1_Acc_Exp/eval_phase/train_stream/Task000/Exp008 = 0.1401\n",
      "-- Starting eval on experience 9 (Task 0) from train stream --\n",
      "100%|██████████| 469/469 [00:03<00:00, 125.84it/s]\n",
      "> Eval on experience 9 (Task 0) from train stream ended.\n",
      "\tTop1_Acc_Exp/eval_phase/train_stream/Task000/Exp009 = 0.1039\n",
      "-- >> End of eval phase << --\n",
      "\tAccuracy_On_Trained_Experiences/eval_phase/train_stream/Task000 = 0.7444\n",
      "\tStreamBWT/eval_phase/train_stream = -0.0522\n",
      "\tStreamForgetting/eval_phase/train_stream = 0.0522\n",
      "\tTop1_Acc_Stream/eval_phase/train_stream/Task000 = 0.3784\n",
      "-- >> Start of eval phase << --\n",
      "-- Starting eval on experience 0 (Task 0) from test stream --\n",
      "100%|██████████| 79/79 [00:00<00:00, 121.68it/s]\n",
      "> Eval on experience 0 (Task 0) from test stream ended.\n",
      "\tExperienceBWT/eval_phase/test_stream/Task000/Exp000 = -0.1115\n",
      "\tExperienceForgetting/eval_phase/test_stream/Task000/Exp000 = 0.1115\n",
      "\tTop1_Acc_Exp/eval_phase/test_stream/Task000/Exp000 = 0.6300\n",
      "-- Starting eval on experience 1 (Task 0) from test stream --\n",
      "100%|██████████| 79/79 [00:00<00:00, 126.22it/s]\n",
      "> Eval on experience 1 (Task 0) from test stream ended.\n",
      "\tExperienceBWT/eval_phase/test_stream/Task000/Exp001 = -0.0345\n",
      "\tExperienceForgetting/eval_phase/test_stream/Task000/Exp001 = 0.0345\n",
      "\tTop1_Acc_Exp/eval_phase/test_stream/Task000/Exp001 = 0.7541\n",
      "-- Starting eval on experience 2 (Task 0) from test stream --\n",
      "100%|██████████| 79/79 [00:00<00:00, 104.67it/s]\n",
      "> Eval on experience 2 (Task 0) from test stream ended.\n",
      "\tExperienceBWT/eval_phase/test_stream/Task000/Exp002 = -0.0020\n",
      "\tExperienceForgetting/eval_phase/test_stream/Task000/Exp002 = 0.0020\n",
      "\tTop1_Acc_Exp/eval_phase/test_stream/Task000/Exp002 = 0.7972\n",
      "-- Starting eval on experience 3 (Task 0) from test stream --\n",
      "100%|██████████| 79/79 [00:00<00:00, 132.98it/s]\n",
      "> Eval on experience 3 (Task 0) from test stream ended.\n",
      "\tTop1_Acc_Exp/eval_phase/test_stream/Task000/Exp003 = 0.8112\n",
      "-- Starting eval on experience 4 (Task 0) from test stream --\n",
      "100%|██████████| 79/79 [00:00<00:00, 132.60it/s]\n",
      "> Eval on experience 4 (Task 0) from test stream ended.\n",
      "\tTop1_Acc_Exp/eval_phase/test_stream/Task000/Exp004 = 0.1067\n",
      "-- Starting eval on experience 5 (Task 0) from test stream --\n",
      "100%|██████████| 79/79 [00:00<00:00, 136.98it/s]\n",
      "> Eval on experience 5 (Task 0) from test stream ended.\n",
      "\tTop1_Acc_Exp/eval_phase/test_stream/Task000/Exp005 = 0.1160\n",
      "-- Starting eval on experience 6 (Task 0) from test stream --\n",
      "100%|██████████| 79/79 [00:00<00:00, 132.97it/s]\n",
      "> Eval on experience 6 (Task 0) from test stream ended.\n",
      "\tTop1_Acc_Exp/eval_phase/test_stream/Task000/Exp006 = 0.1550\n",
      "-- Starting eval on experience 7 (Task 0) from test stream --\n",
      "100%|██████████| 79/79 [00:00<00:00, 137.39it/s]\n",
      "> Eval on experience 7 (Task 0) from test stream ended.\n",
      "\tTop1_Acc_Exp/eval_phase/test_stream/Task000/Exp007 = 0.1781\n",
      "-- Starting eval on experience 8 (Task 0) from test stream --\n",
      "100%|██████████| 79/79 [00:00<00:00, 133.17it/s]\n",
      "> Eval on experience 8 (Task 0) from test stream ended.\n",
      "\tTop1_Acc_Exp/eval_phase/test_stream/Task000/Exp008 = 0.1441\n",
      "-- Starting eval on experience 9 (Task 0) from test stream --\n",
      "100%|██████████| 79/79 [03:02<00:00,  2.32s/it] \n",
      "> Eval on experience 9 (Task 0) from test stream ended.\n",
      "\tTop1_Acc_Exp/eval_phase/test_stream/Task000/Exp009 = 0.1120\n",
      "-- >> End of eval phase << --\n",
      "\tAccuracy_On_Trained_Experiences/eval_phase/test_stream/Task000 = 0.7481\n",
      "\tStreamBWT/eval_phase/test_stream = -0.0493\n",
      "\tStreamForgetting/eval_phase/test_stream = 0.0493\n",
      "\tTop1_Acc_Stream/eval_phase/test_stream/Task000 = 0.3804\n"
     ]
    },
    {
     "name": "stderr",
     "output_type": "stream",
     "text": [
      " 40%|████      | 4/10 [07:10<13:24, 134.04s/it]"
     ]
    },
    {
     "name": "stdout",
     "output_type": "stream",
     "text": [
      "-- >> Start of training phase << --\n",
      "100%|██████████| 469/469 [00:04<00:00, 105.07it/s]\n",
      "Epoch 0 ended.\n",
      "100%|██████████| 469/469 [00:04<00:00, 112.52it/s]\n",
      "Epoch 1 ended.\n",
      "100%|██████████| 469/469 [00:04<00:00, 112.53it/s]\n",
      "Epoch 2 ended.\n",
      "100%|██████████| 469/469 [00:04<00:00, 112.31it/s]\n",
      "Epoch 3 ended.\n",
      "100%|██████████| 469/469 [00:04<00:00, 112.98it/s]\n",
      "Epoch 4 ended.\n",
      "-- >> End of training phase << --\n",
      "-- >> Start of eval phase << --\n",
      "-- Starting eval on experience 0 (Task 0) from train stream --\n",
      "100%|██████████| 469/469 [00:03<00:00, 134.23it/s]\n",
      "> Eval on experience 0 (Task 0) from train stream ended.\n",
      "\tExperienceBWT/eval_phase/train_stream/Task000/Exp000 = -0.1344\n",
      "\tExperienceForgetting/eval_phase/train_stream/Task000/Exp000 = 0.1344\n",
      "\tTop1_Acc_Exp/eval_phase/train_stream/Task000/Exp000 = 0.6071\n",
      "-- Starting eval on experience 1 (Task 0) from train stream --\n",
      "100%|██████████| 469/469 [00:03<00:00, 134.59it/s]\n",
      "> Eval on experience 1 (Task 0) from train stream ended.\n",
      "\tExperienceBWT/eval_phase/train_stream/Task000/Exp001 = -0.0381\n",
      "\tExperienceForgetting/eval_phase/train_stream/Task000/Exp001 = 0.0381\n",
      "\tTop1_Acc_Exp/eval_phase/train_stream/Task000/Exp001 = 0.7505\n",
      "-- Starting eval on experience 2 (Task 0) from train stream --\n",
      "100%|██████████| 469/469 [00:03<00:00, 134.30it/s]\n",
      "> Eval on experience 2 (Task 0) from train stream ended.\n",
      "\tExperienceBWT/eval_phase/train_stream/Task000/Exp002 = -0.0093\n",
      "\tExperienceForgetting/eval_phase/train_stream/Task000/Exp002 = 0.0093\n",
      "\tTop1_Acc_Exp/eval_phase/train_stream/Task000/Exp002 = 0.7899\n",
      "-- Starting eval on experience 3 (Task 0) from train stream --\n",
      "100%|██████████| 469/469 [00:03<00:00, 133.55it/s]\n",
      "> Eval on experience 3 (Task 0) from train stream ended.\n",
      "\tExperienceBWT/eval_phase/train_stream/Task000/Exp003 = -0.0332\n",
      "\tExperienceForgetting/eval_phase/train_stream/Task000/Exp003 = 0.0332\n",
      "\tTop1_Acc_Exp/eval_phase/train_stream/Task000/Exp003 = 0.7780\n",
      "-- Starting eval on experience 4 (Task 0) from train stream --\n",
      "100%|██████████| 469/469 [00:03<00:00, 133.42it/s]\n",
      "> Eval on experience 4 (Task 0) from train stream ended.\n",
      "\tTop1_Acc_Exp/eval_phase/train_stream/Task000/Exp004 = 0.8202\n",
      "-- Starting eval on experience 5 (Task 0) from train stream --\n",
      "100%|██████████| 469/469 [00:03<00:00, 133.86it/s]\n",
      "> Eval on experience 5 (Task 0) from train stream ended.\n",
      "\tTop1_Acc_Exp/eval_phase/train_stream/Task000/Exp005 = 0.1417\n",
      "-- Starting eval on experience 6 (Task 0) from train stream --\n",
      "100%|██████████| 469/469 [00:03<00:00, 134.68it/s]\n",
      "> Eval on experience 6 (Task 0) from train stream ended.\n",
      "\tTop1_Acc_Exp/eval_phase/train_stream/Task000/Exp006 = 0.1211\n",
      "-- Starting eval on experience 7 (Task 0) from train stream --\n",
      "100%|██████████| 469/469 [00:03<00:00, 134.58it/s]\n",
      "> Eval on experience 7 (Task 0) from train stream ended.\n",
      "\tTop1_Acc_Exp/eval_phase/train_stream/Task000/Exp007 = 0.1627\n",
      "-- Starting eval on experience 8 (Task 0) from train stream --\n",
      "100%|██████████| 469/469 [00:03<00:00, 134.81it/s]\n",
      "> Eval on experience 8 (Task 0) from train stream ended.\n",
      "\tTop1_Acc_Exp/eval_phase/train_stream/Task000/Exp008 = 0.1629\n",
      "-- Starting eval on experience 9 (Task 0) from train stream --\n",
      "100%|██████████| 469/469 [00:03<00:00, 134.44it/s]\n",
      "> Eval on experience 9 (Task 0) from train stream ended.\n",
      "\tTop1_Acc_Exp/eval_phase/train_stream/Task000/Exp009 = 0.1234\n",
      "-- >> End of eval phase << --\n",
      "\tAccuracy_On_Trained_Experiences/eval_phase/train_stream/Task000 = 0.7491\n",
      "\tStreamBWT/eval_phase/train_stream = -0.0538\n",
      "\tStreamForgetting/eval_phase/train_stream = 0.0538\n",
      "\tTop1_Acc_Stream/eval_phase/train_stream/Task000 = 0.4457\n",
      "-- >> Start of eval phase << --\n",
      "-- Starting eval on experience 0 (Task 0) from test stream --\n",
      "100%|██████████| 79/79 [00:00<00:00, 136.30it/s]\n",
      "> Eval on experience 0 (Task 0) from test stream ended.\n",
      "\tExperienceBWT/eval_phase/test_stream/Task000/Exp000 = -0.1334\n",
      "\tExperienceForgetting/eval_phase/test_stream/Task000/Exp000 = 0.1334\n",
      "\tTop1_Acc_Exp/eval_phase/test_stream/Task000/Exp000 = 0.6081\n",
      "-- Starting eval on experience 1 (Task 0) from test stream --\n",
      "100%|██████████| 79/79 [00:00<00:00, 135.88it/s]\n",
      "> Eval on experience 1 (Task 0) from test stream ended.\n",
      "\tExperienceBWT/eval_phase/test_stream/Task000/Exp001 = -0.0352\n",
      "\tExperienceForgetting/eval_phase/test_stream/Task000/Exp001 = 0.0352\n",
      "\tTop1_Acc_Exp/eval_phase/test_stream/Task000/Exp001 = 0.7534\n",
      "-- Starting eval on experience 2 (Task 0) from test stream --\n",
      "100%|██████████| 79/79 [00:00<00:00, 130.24it/s]\n",
      "> Eval on experience 2 (Task 0) from test stream ended.\n",
      "\tExperienceBWT/eval_phase/test_stream/Task000/Exp002 = -0.0040\n",
      "\tExperienceForgetting/eval_phase/test_stream/Task000/Exp002 = 0.0040\n",
      "\tTop1_Acc_Exp/eval_phase/test_stream/Task000/Exp002 = 0.7952\n",
      "-- Starting eval on experience 3 (Task 0) from test stream --\n",
      "100%|██████████| 79/79 [00:00<00:00, 136.09it/s]\n",
      "> Eval on experience 3 (Task 0) from test stream ended.\n",
      "\tExperienceBWT/eval_phase/test_stream/Task000/Exp003 = -0.0311\n",
      "\tExperienceForgetting/eval_phase/test_stream/Task000/Exp003 = 0.0311\n",
      "\tTop1_Acc_Exp/eval_phase/test_stream/Task000/Exp003 = 0.7801\n",
      "-- Starting eval on experience 4 (Task 0) from test stream --\n",
      "100%|██████████| 79/79 [00:00<00:00, 131.78it/s]\n",
      "> Eval on experience 4 (Task 0) from test stream ended.\n",
      "\tTop1_Acc_Exp/eval_phase/test_stream/Task000/Exp004 = 0.8195\n",
      "-- Starting eval on experience 5 (Task 0) from test stream --\n",
      "100%|██████████| 79/79 [00:00<00:00, 135.32it/s]\n",
      "> Eval on experience 5 (Task 0) from test stream ended.\n",
      "\tTop1_Acc_Exp/eval_phase/test_stream/Task000/Exp005 = 0.1476\n",
      "-- Starting eval on experience 6 (Task 0) from test stream --\n",
      "100%|██████████| 79/79 [00:00<00:00, 136.89it/s]\n",
      "> Eval on experience 6 (Task 0) from test stream ended.\n",
      "\tTop1_Acc_Exp/eval_phase/test_stream/Task000/Exp006 = 0.1139\n",
      "-- Starting eval on experience 7 (Task 0) from test stream --\n",
      "100%|██████████| 79/79 [00:00<00:00, 123.65it/s]\n",
      "> Eval on experience 7 (Task 0) from test stream ended.\n",
      "\tTop1_Acc_Exp/eval_phase/test_stream/Task000/Exp007 = 0.1691\n",
      "-- Starting eval on experience 8 (Task 0) from test stream --\n",
      "100%|██████████| 79/79 [00:00<00:00, 136.52it/s]\n",
      "> Eval on experience 8 (Task 0) from test stream ended.\n",
      "\tTop1_Acc_Exp/eval_phase/test_stream/Task000/Exp008 = 0.1665\n",
      "-- Starting eval on experience 9 (Task 0) from test stream --\n",
      "100%|██████████| 79/79 [00:00<00:00, 129.40it/s]"
     ]
    },
    {
     "name": "stderr",
     "output_type": "stream",
     "text": [
      " 50%|█████     | 5/10 [08:12<09:00, 108.12s/it]"
     ]
    },
    {
     "name": "stdout",
     "output_type": "stream",
     "text": [
      "\n",
      "> Eval on experience 9 (Task 0) from test stream ended.\n",
      "\tTop1_Acc_Exp/eval_phase/test_stream/Task000/Exp009 = 0.1270\n",
      "-- >> End of eval phase << --\n",
      "\tAccuracy_On_Trained_Experiences/eval_phase/test_stream/Task000 = 0.7513\n",
      "\tStreamBWT/eval_phase/test_stream = -0.0509\n",
      "\tStreamForgetting/eval_phase/test_stream = 0.0509\n",
      "\tTop1_Acc_Stream/eval_phase/test_stream/Task000 = 0.4480\n",
      "-- >> Start of training phase << --\n",
      "100%|██████████| 469/469 [00:04<00:00, 112.57it/s]\n",
      "Epoch 0 ended.\n",
      "100%|██████████| 469/469 [00:04<00:00, 112.68it/s]\n",
      "Epoch 1 ended.\n",
      "100%|██████████| 469/469 [00:04<00:00, 109.36it/s]\n",
      "Epoch 2 ended.\n",
      "100%|██████████| 469/469 [00:04<00:00, 110.66it/s]\n",
      "Epoch 3 ended.\n",
      "100%|██████████| 469/469 [00:04<00:00, 103.04it/s]\n",
      "Epoch 4 ended.\n",
      "-- >> End of training phase << --\n",
      "-- >> Start of eval phase << --\n",
      "-- Starting eval on experience 0 (Task 0) from train stream --\n",
      "100%|██████████| 469/469 [00:03<00:00, 137.61it/s]\n",
      "> Eval on experience 0 (Task 0) from train stream ended.\n",
      "\tExperienceBWT/eval_phase/train_stream/Task000/Exp000 = -0.1801\n",
      "\tExperienceForgetting/eval_phase/train_stream/Task000/Exp000 = 0.1801\n",
      "\tTop1_Acc_Exp/eval_phase/train_stream/Task000/Exp000 = 0.5614\n",
      "-- Starting eval on experience 1 (Task 0) from train stream --\n",
      "100%|██████████| 469/469 [00:03<00:00, 133.12it/s]\n",
      "> Eval on experience 1 (Task 0) from train stream ended.\n",
      "\tExperienceBWT/eval_phase/train_stream/Task000/Exp001 = -0.0780\n",
      "\tExperienceForgetting/eval_phase/train_stream/Task000/Exp001 = 0.0780\n",
      "\tTop1_Acc_Exp/eval_phase/train_stream/Task000/Exp001 = 0.7106\n",
      "-- Starting eval on experience 2 (Task 0) from train stream --\n",
      "100%|██████████| 469/469 [00:03<00:00, 139.62it/s]\n",
      "> Eval on experience 2 (Task 0) from train stream ended.\n",
      "\tExperienceBWT/eval_phase/train_stream/Task000/Exp002 = -0.0475\n",
      "\tExperienceForgetting/eval_phase/train_stream/Task000/Exp002 = 0.0475\n",
      "\tTop1_Acc_Exp/eval_phase/train_stream/Task000/Exp002 = 0.7517\n",
      "-- Starting eval on experience 3 (Task 0) from train stream --\n",
      "100%|██████████| 469/469 [00:03<00:00, 140.78it/s]\n",
      "> Eval on experience 3 (Task 0) from train stream ended.\n",
      "\tExperienceBWT/eval_phase/train_stream/Task000/Exp003 = -0.0534\n",
      "\tExperienceForgetting/eval_phase/train_stream/Task000/Exp003 = 0.0534\n",
      "\tTop1_Acc_Exp/eval_phase/train_stream/Task000/Exp003 = 0.7578\n",
      "-- Starting eval on experience 4 (Task 0) from train stream --\n",
      "100%|██████████| 469/469 [00:03<00:00, 140.20it/s]\n",
      "> Eval on experience 4 (Task 0) from train stream ended.\n",
      "\tExperienceBWT/eval_phase/train_stream/Task000/Exp004 = -0.0230\n",
      "\tExperienceForgetting/eval_phase/train_stream/Task000/Exp004 = 0.0230\n",
      "\tTop1_Acc_Exp/eval_phase/train_stream/Task000/Exp004 = 0.7965\n",
      "-- Starting eval on experience 5 (Task 0) from train stream --\n",
      "100%|██████████| 469/469 [00:03<00:00, 138.47it/s]\n",
      "> Eval on experience 5 (Task 0) from train stream ended.\n",
      "\tTop1_Acc_Exp/eval_phase/train_stream/Task000/Exp005 = 0.8277\n",
      "-- Starting eval on experience 6 (Task 0) from train stream --\n",
      "100%|██████████| 469/469 [00:03<00:00, 133.81it/s]\n",
      "> Eval on experience 6 (Task 0) from train stream ended.\n",
      "\tTop1_Acc_Exp/eval_phase/train_stream/Task000/Exp006 = 0.1284\n",
      "-- Starting eval on experience 7 (Task 0) from train stream --\n",
      "100%|██████████| 469/469 [00:03<00:00, 137.00it/s]\n",
      "> Eval on experience 7 (Task 0) from train stream ended.\n",
      "\tTop1_Acc_Exp/eval_phase/train_stream/Task000/Exp007 = 0.1931\n",
      "-- Starting eval on experience 8 (Task 0) from train stream --\n",
      "100%|██████████| 469/469 [00:03<00:00, 132.99it/s]\n",
      "> Eval on experience 8 (Task 0) from train stream ended.\n",
      "\tTop1_Acc_Exp/eval_phase/train_stream/Task000/Exp008 = 0.1439\n",
      "-- Starting eval on experience 9 (Task 0) from train stream --\n",
      "100%|██████████| 469/469 [00:03<00:00, 132.53it/s]\n",
      "> Eval on experience 9 (Task 0) from train stream ended.\n",
      "\tTop1_Acc_Exp/eval_phase/train_stream/Task000/Exp009 = 0.1047\n",
      "-- >> End of eval phase << --\n",
      "\tAccuracy_On_Trained_Experiences/eval_phase/train_stream/Task000 = 0.7343\n",
      "\tStreamBWT/eval_phase/train_stream = -0.0764\n",
      "\tStreamForgetting/eval_phase/train_stream = 0.0764\n",
      "\tTop1_Acc_Stream/eval_phase/train_stream/Task000 = 0.4976\n",
      "-- >> Start of eval phase << --\n",
      "-- Starting eval on experience 0 (Task 0) from test stream --\n",
      "100%|██████████| 79/79 [00:00<00:00, 135.53it/s]\n",
      "> Eval on experience 0 (Task 0) from test stream ended.\n",
      "\tExperienceBWT/eval_phase/test_stream/Task000/Exp000 = -0.1793\n",
      "\tExperienceForgetting/eval_phase/test_stream/Task000/Exp000 = 0.1793\n",
      "\tTop1_Acc_Exp/eval_phase/test_stream/Task000/Exp000 = 0.5622\n",
      "-- Starting eval on experience 1 (Task 0) from test stream --\n",
      "100%|██████████| 79/79 [00:00<00:00, 138.75it/s]\n",
      "> Eval on experience 1 (Task 0) from test stream ended.\n",
      "\tExperienceBWT/eval_phase/test_stream/Task000/Exp001 = -0.0703\n",
      "\tExperienceForgetting/eval_phase/test_stream/Task000/Exp001 = 0.0703\n",
      "\tTop1_Acc_Exp/eval_phase/test_stream/Task000/Exp001 = 0.7183\n",
      "-- Starting eval on experience 2 (Task 0) from test stream --\n",
      "100%|██████████| 79/79 [00:00<00:00, 133.72it/s]\n",
      "> Eval on experience 2 (Task 0) from test stream ended.\n",
      "\tExperienceBWT/eval_phase/test_stream/Task000/Exp002 = -0.0455\n",
      "\tExperienceForgetting/eval_phase/test_stream/Task000/Exp002 = 0.0455\n",
      "\tTop1_Acc_Exp/eval_phase/test_stream/Task000/Exp002 = 0.7537\n",
      "-- Starting eval on experience 3 (Task 0) from test stream --\n",
      "100%|██████████| 79/79 [00:00<00:00, 137.18it/s]\n",
      "> Eval on experience 3 (Task 0) from test stream ended.\n",
      "\tExperienceBWT/eval_phase/test_stream/Task000/Exp003 = -0.0499\n",
      "\tExperienceForgetting/eval_phase/test_stream/Task000/Exp003 = 0.0499\n",
      "\tTop1_Acc_Exp/eval_phase/test_stream/Task000/Exp003 = 0.7613\n",
      "-- Starting eval on experience 4 (Task 0) from test stream --\n",
      "100%|██████████| 79/79 [00:00<00:00, 118.04it/s]\n",
      "> Eval on experience 4 (Task 0) from test stream ended.\n",
      "\tExperienceBWT/eval_phase/test_stream/Task000/Exp004 = -0.0213\n",
      "\tExperienceForgetting/eval_phase/test_stream/Task000/Exp004 = 0.0213\n",
      "\tTop1_Acc_Exp/eval_phase/test_stream/Task000/Exp004 = 0.7982\n",
      "-- Starting eval on experience 5 (Task 0) from test stream --\n",
      "100%|██████████| 79/79 [00:00<00:00, 126.12it/s]\n",
      "> Eval on experience 5 (Task 0) from test stream ended.\n",
      "\tTop1_Acc_Exp/eval_phase/test_stream/Task000/Exp005 = 0.8300\n",
      "-- Starting eval on experience 6 (Task 0) from test stream --\n",
      "100%|██████████| 79/79 [00:00<00:00, 127.69it/s]\n",
      "> Eval on experience 6 (Task 0) from test stream ended.\n",
      "\tTop1_Acc_Exp/eval_phase/test_stream/Task000/Exp006 = 0.1280\n",
      "-- Starting eval on experience 7 (Task 0) from test stream --\n",
      "100%|██████████| 79/79 [00:00<00:00, 138.14it/s]\n",
      "> Eval on experience 7 (Task 0) from test stream ended.\n",
      "\tTop1_Acc_Exp/eval_phase/test_stream/Task000/Exp007 = 0.2073\n",
      "-- Starting eval on experience 8 (Task 0) from test stream --\n",
      "100%|██████████| 79/79 [00:00<00:00, 142.87it/s]\n",
      "> Eval on experience 8 (Task 0) from test stream ended.\n",
      "\tTop1_Acc_Exp/eval_phase/test_stream/Task000/Exp008 = 0.1541\n",
      "-- Starting eval on experience 9 (Task 0) from test stream --\n",
      "100%|██████████| 79/79 [00:00<00:00, 136.91it/s]"
     ]
    },
    {
     "name": "stderr",
     "output_type": "stream",
     "text": [
      " 60%|██████    | 6/10 [09:14<06:09, 92.37s/it] "
     ]
    },
    {
     "name": "stdout",
     "output_type": "stream",
     "text": [
      "\n",
      "> Eval on experience 9 (Task 0) from test stream ended.\n",
      "\tTop1_Acc_Exp/eval_phase/test_stream/Task000/Exp009 = 0.1095\n",
      "-- >> End of eval phase << --\n",
      "\tAccuracy_On_Trained_Experiences/eval_phase/test_stream/Task000 = 0.7373\n",
      "\tStreamBWT/eval_phase/test_stream = -0.0733\n",
      "\tStreamForgetting/eval_phase/test_stream = 0.0733\n",
      "\tTop1_Acc_Stream/eval_phase/test_stream/Task000 = 0.5023\n",
      "-- >> Start of training phase << --\n",
      "100%|██████████| 469/469 [00:04<00:00, 116.50it/s]\n",
      "Epoch 0 ended.\n",
      "100%|██████████| 469/469 [00:04<00:00, 116.98it/s]\n",
      "Epoch 1 ended.\n",
      "100%|██████████| 469/469 [00:03<00:00, 117.35it/s]\n",
      "Epoch 2 ended.\n",
      "100%|██████████| 469/469 [00:03<00:00, 118.00it/s]\n",
      "Epoch 3 ended.\n",
      "100%|██████████| 469/469 [00:04<00:00, 117.21it/s]\n",
      "Epoch 4 ended.\n",
      "-- >> End of training phase << --\n",
      "-- >> Start of eval phase << --\n",
      "-- Starting eval on experience 0 (Task 0) from train stream --\n",
      "100%|██████████| 469/469 [00:03<00:00, 141.37it/s]\n",
      "> Eval on experience 0 (Task 0) from train stream ended.\n",
      "\tExperienceBWT/eval_phase/train_stream/Task000/Exp000 = -0.2418\n",
      "\tExperienceForgetting/eval_phase/train_stream/Task000/Exp000 = 0.2418\n",
      "\tTop1_Acc_Exp/eval_phase/train_stream/Task000/Exp000 = 0.4997\n",
      "-- Starting eval on experience 1 (Task 0) from train stream --\n",
      "100%|██████████| 469/469 [00:03<00:00, 141.14it/s]\n",
      "> Eval on experience 1 (Task 0) from train stream ended.\n",
      "\tExperienceBWT/eval_phase/train_stream/Task000/Exp001 = -0.1200\n",
      "\tExperienceForgetting/eval_phase/train_stream/Task000/Exp001 = 0.1200\n",
      "\tTop1_Acc_Exp/eval_phase/train_stream/Task000/Exp001 = 0.6686\n",
      "-- Starting eval on experience 2 (Task 0) from train stream --\n",
      "100%|██████████| 469/469 [00:03<00:00, 140.07it/s]\n",
      "> Eval on experience 2 (Task 0) from train stream ended.\n",
      "\tExperienceBWT/eval_phase/train_stream/Task000/Exp002 = -0.0856\n",
      "\tExperienceForgetting/eval_phase/train_stream/Task000/Exp002 = 0.0856\n",
      "\tTop1_Acc_Exp/eval_phase/train_stream/Task000/Exp002 = 0.7136\n",
      "-- Starting eval on experience 3 (Task 0) from train stream --\n",
      "100%|██████████| 469/469 [00:03<00:00, 141.19it/s]\n",
      "> Eval on experience 3 (Task 0) from train stream ended.\n",
      "\tExperienceBWT/eval_phase/train_stream/Task000/Exp003 = -0.0517\n",
      "\tExperienceForgetting/eval_phase/train_stream/Task000/Exp003 = 0.0517\n",
      "\tTop1_Acc_Exp/eval_phase/train_stream/Task000/Exp003 = 0.7595\n",
      "-- Starting eval on experience 4 (Task 0) from train stream --\n",
      "100%|██████████| 469/469 [00:03<00:00, 138.07it/s]\n",
      "> Eval on experience 4 (Task 0) from train stream ended.\n",
      "\tExperienceBWT/eval_phase/train_stream/Task000/Exp004 = -0.0440\n",
      "\tExperienceForgetting/eval_phase/train_stream/Task000/Exp004 = 0.0440\n",
      "\tTop1_Acc_Exp/eval_phase/train_stream/Task000/Exp004 = 0.7755\n",
      "-- Starting eval on experience 5 (Task 0) from train stream --\n",
      "100%|██████████| 469/469 [00:03<00:00, 138.06it/s]\n",
      "> Eval on experience 5 (Task 0) from train stream ended.\n",
      "\tExperienceBWT/eval_phase/train_stream/Task000/Exp005 = -0.0227\n",
      "\tExperienceForgetting/eval_phase/train_stream/Task000/Exp005 = 0.0227\n",
      "\tTop1_Acc_Exp/eval_phase/train_stream/Task000/Exp005 = 0.8073\n",
      "-- Starting eval on experience 6 (Task 0) from train stream --\n",
      "100%|██████████| 469/469 [00:03<00:00, 137.53it/s]\n",
      "> Eval on experience 6 (Task 0) from train stream ended.\n",
      "\tTop1_Acc_Exp/eval_phase/train_stream/Task000/Exp006 = 0.8303\n",
      "-- Starting eval on experience 7 (Task 0) from train stream --\n",
      "100%|██████████| 469/469 [00:03<00:00, 139.09it/s]\n",
      "> Eval on experience 7 (Task 0) from train stream ended.\n",
      "\tTop1_Acc_Exp/eval_phase/train_stream/Task000/Exp007 = 0.1468\n",
      "-- Starting eval on experience 8 (Task 0) from train stream --\n",
      "100%|██████████| 469/469 [00:03<00:00, 137.66it/s]\n",
      "> Eval on experience 8 (Task 0) from train stream ended.\n",
      "\tTop1_Acc_Exp/eval_phase/train_stream/Task000/Exp008 = 0.1208\n",
      "-- Starting eval on experience 9 (Task 0) from train stream --\n",
      "100%|██████████| 469/469 [00:03<00:00, 135.23it/s]\n",
      "> Eval on experience 9 (Task 0) from train stream ended.\n",
      "\tTop1_Acc_Exp/eval_phase/train_stream/Task000/Exp009 = 0.0915\n",
      "-- >> End of eval phase << --\n",
      "\tAccuracy_On_Trained_Experiences/eval_phase/train_stream/Task000 = 0.7221\n",
      "\tStreamBWT/eval_phase/train_stream = -0.0943\n",
      "\tStreamForgetting/eval_phase/train_stream = 0.0943\n",
      "\tTop1_Acc_Stream/eval_phase/train_stream/Task000 = 0.5414\n",
      "-- >> Start of eval phase << --\n",
      "-- Starting eval on experience 0 (Task 0) from test stream --\n",
      "100%|██████████| 79/79 [00:00<00:00, 110.06it/s]\n",
      "> Eval on experience 0 (Task 0) from test stream ended.\n",
      "\tExperienceBWT/eval_phase/test_stream/Task000/Exp000 = -0.2445\n",
      "\tExperienceForgetting/eval_phase/test_stream/Task000/Exp000 = 0.2445\n",
      "\tTop1_Acc_Exp/eval_phase/test_stream/Task000/Exp000 = 0.4970\n",
      "-- Starting eval on experience 1 (Task 0) from test stream --\n",
      "100%|██████████| 79/79 [00:00<00:00, 140.37it/s]\n",
      "> Eval on experience 1 (Task 0) from test stream ended.\n",
      "\tExperienceBWT/eval_phase/test_stream/Task000/Exp001 = -0.1112\n",
      "\tExperienceForgetting/eval_phase/test_stream/Task000/Exp001 = 0.1112\n",
      "\tTop1_Acc_Exp/eval_phase/test_stream/Task000/Exp001 = 0.6774\n",
      "-- Starting eval on experience 2 (Task 0) from test stream --\n",
      "100%|██████████| 79/79 [00:00<00:00, 142.80it/s]\n",
      "> Eval on experience 2 (Task 0) from test stream ended.\n",
      "\tExperienceBWT/eval_phase/test_stream/Task000/Exp002 = -0.0876\n",
      "\tExperienceForgetting/eval_phase/test_stream/Task000/Exp002 = 0.0876\n",
      "\tTop1_Acc_Exp/eval_phase/test_stream/Task000/Exp002 = 0.7116\n",
      "-- Starting eval on experience 3 (Task 0) from test stream --\n",
      "100%|██████████| 79/79 [00:00<00:00, 138.04it/s]\n",
      "> Eval on experience 3 (Task 0) from test stream ended.\n",
      "\tExperienceBWT/eval_phase/test_stream/Task000/Exp003 = -0.0449\n",
      "\tExperienceForgetting/eval_phase/test_stream/Task000/Exp003 = 0.0449\n",
      "\tTop1_Acc_Exp/eval_phase/test_stream/Task000/Exp003 = 0.7663\n",
      "-- Starting eval on experience 4 (Task 0) from test stream --\n",
      "100%|██████████| 79/79 [00:00<00:00, 143.58it/s]\n",
      "> Eval on experience 4 (Task 0) from test stream ended.\n",
      "\tExperienceBWT/eval_phase/test_stream/Task000/Exp004 = -0.0456\n",
      "\tExperienceForgetting/eval_phase/test_stream/Task000/Exp004 = 0.0456\n",
      "\tTop1_Acc_Exp/eval_phase/test_stream/Task000/Exp004 = 0.7739\n",
      "-- Starting eval on experience 5 (Task 0) from test stream --\n",
      "100%|██████████| 79/79 [00:00<00:00, 136.55it/s]\n",
      "> Eval on experience 5 (Task 0) from test stream ended.\n",
      "\tExperienceBWT/eval_phase/test_stream/Task000/Exp005 = -0.0235\n",
      "\tExperienceForgetting/eval_phase/test_stream/Task000/Exp005 = 0.0235\n",
      "\tTop1_Acc_Exp/eval_phase/test_stream/Task000/Exp005 = 0.8065\n",
      "-- Starting eval on experience 6 (Task 0) from test stream --\n",
      "100%|██████████| 79/79 [00:00<00:00, 143.12it/s]\n",
      "> Eval on experience 6 (Task 0) from test stream ended.\n",
      "\tTop1_Acc_Exp/eval_phase/test_stream/Task000/Exp006 = 0.8337\n",
      "-- Starting eval on experience 7 (Task 0) from test stream --\n",
      "100%|██████████| 79/79 [00:00<00:00, 133.05it/s]\n",
      "> Eval on experience 7 (Task 0) from test stream ended.\n",
      "\tTop1_Acc_Exp/eval_phase/test_stream/Task000/Exp007 = 0.1587\n",
      "-- Starting eval on experience 8 (Task 0) from test stream --\n",
      "100%|██████████| 79/79 [00:00<00:00, 143.27it/s]\n",
      "> Eval on experience 8 (Task 0) from test stream ended.\n",
      "\tTop1_Acc_Exp/eval_phase/test_stream/Task000/Exp008 = 0.1290\n",
      "-- Starting eval on experience 9 (Task 0) from test stream --\n",
      "100%|██████████| 79/79 [00:00<00:00, 137.77it/s]"
     ]
    },
    {
     "name": "stderr",
     "output_type": "stream",
     "text": [
      " 70%|███████   | 7/10 [10:14<04:05, 81.68s/it]"
     ]
    },
    {
     "name": "stdout",
     "output_type": "stream",
     "text": [
      "\n",
      "> Eval on experience 9 (Task 0) from test stream ended.\n",
      "\tTop1_Acc_Exp/eval_phase/test_stream/Task000/Exp009 = 0.0932\n",
      "-- >> End of eval phase << --\n",
      "\tAccuracy_On_Trained_Experiences/eval_phase/test_stream/Task000 = 0.7238\n",
      "\tStreamBWT/eval_phase/test_stream = -0.0929\n",
      "\tStreamForgetting/eval_phase/test_stream = 0.0929\n",
      "\tTop1_Acc_Stream/eval_phase/test_stream/Task000 = 0.5447\n",
      "-- >> Start of training phase << --\n",
      "100%|██████████| 469/469 [00:04<00:00, 114.02it/s]\n",
      "Epoch 0 ended.\n",
      "100%|██████████| 469/469 [00:04<00:00, 115.80it/s]\n",
      "Epoch 1 ended.\n",
      "100%|██████████| 469/469 [00:04<00:00, 110.09it/s]\n",
      "Epoch 2 ended.\n",
      "100%|██████████| 469/469 [00:04<00:00, 112.71it/s]\n",
      "Epoch 3 ended.\n",
      "100%|██████████| 469/469 [00:04<00:00, 111.52it/s]\n",
      "Epoch 4 ended.\n",
      "-- >> End of training phase << --\n",
      "-- >> Start of eval phase << --\n",
      "-- Starting eval on experience 0 (Task 0) from train stream --\n",
      "100%|██████████| 469/469 [00:03<00:00, 135.58it/s]\n",
      "> Eval on experience 0 (Task 0) from train stream ended.\n",
      "\tExperienceBWT/eval_phase/train_stream/Task000/Exp000 = -0.3244\n",
      "\tExperienceForgetting/eval_phase/train_stream/Task000/Exp000 = 0.3244\n",
      "\tTop1_Acc_Exp/eval_phase/train_stream/Task000/Exp000 = 0.4171\n",
      "-- Starting eval on experience 1 (Task 0) from train stream --\n",
      "100%|██████████| 469/469 [00:03<00:00, 134.50it/s]\n",
      "> Eval on experience 1 (Task 0) from train stream ended.\n",
      "\tExperienceBWT/eval_phase/train_stream/Task000/Exp001 = -0.1634\n",
      "\tExperienceForgetting/eval_phase/train_stream/Task000/Exp001 = 0.1634\n",
      "\tTop1_Acc_Exp/eval_phase/train_stream/Task000/Exp001 = 0.6251\n",
      "-- Starting eval on experience 2 (Task 0) from train stream --\n",
      "100%|██████████| 469/469 [00:03<00:00, 134.43it/s]\n",
      "> Eval on experience 2 (Task 0) from train stream ended.\n",
      "\tExperienceBWT/eval_phase/train_stream/Task000/Exp002 = -0.1274\n",
      "\tExperienceForgetting/eval_phase/train_stream/Task000/Exp002 = 0.1274\n",
      "\tTop1_Acc_Exp/eval_phase/train_stream/Task000/Exp002 = 0.6718\n",
      "-- Starting eval on experience 3 (Task 0) from train stream --\n",
      "100%|██████████| 469/469 [00:03<00:00, 131.15it/s]\n",
      "> Eval on experience 3 (Task 0) from train stream ended.\n",
      "\tExperienceBWT/eval_phase/train_stream/Task000/Exp003 = -0.0604\n",
      "\tExperienceForgetting/eval_phase/train_stream/Task000/Exp003 = 0.0604\n",
      "\tTop1_Acc_Exp/eval_phase/train_stream/Task000/Exp003 = 0.7508\n",
      "-- Starting eval on experience 4 (Task 0) from train stream --\n",
      "100%|██████████| 469/469 [00:03<00:00, 131.83it/s]\n",
      "> Eval on experience 4 (Task 0) from train stream ended.\n",
      "\tExperienceBWT/eval_phase/train_stream/Task000/Exp004 = -0.0681\n",
      "\tExperienceForgetting/eval_phase/train_stream/Task000/Exp004 = 0.0681\n",
      "\tTop1_Acc_Exp/eval_phase/train_stream/Task000/Exp004 = 0.7514\n",
      "-- Starting eval on experience 5 (Task 0) from train stream --\n",
      "100%|██████████| 469/469 [00:03<00:00, 132.50it/s]\n",
      "> Eval on experience 5 (Task 0) from train stream ended.\n",
      "\tExperienceBWT/eval_phase/train_stream/Task000/Exp005 = -0.0484\n",
      "\tExperienceForgetting/eval_phase/train_stream/Task000/Exp005 = 0.0484\n",
      "\tTop1_Acc_Exp/eval_phase/train_stream/Task000/Exp005 = 0.7815\n",
      "-- Starting eval on experience 6 (Task 0) from train stream --\n",
      "100%|██████████| 469/469 [00:03<00:00, 131.85it/s]\n",
      "> Eval on experience 6 (Task 0) from train stream ended.\n",
      "\tExperienceBWT/eval_phase/train_stream/Task000/Exp006 = -0.0221\n",
      "\tExperienceForgetting/eval_phase/train_stream/Task000/Exp006 = 0.0221\n",
      "\tTop1_Acc_Exp/eval_phase/train_stream/Task000/Exp006 = 0.8116\n",
      "-- Starting eval on experience 7 (Task 0) from train stream --\n",
      "100%|██████████| 469/469 [00:03<00:00, 131.64it/s]\n",
      "> Eval on experience 7 (Task 0) from train stream ended.\n",
      "\tTop1_Acc_Exp/eval_phase/train_stream/Task000/Exp007 = 0.8367\n",
      "-- Starting eval on experience 8 (Task 0) from train stream --\n",
      "100%|██████████| 469/469 [00:03<00:00, 133.23it/s]\n",
      "> Eval on experience 8 (Task 0) from train stream ended.\n",
      "\tTop1_Acc_Exp/eval_phase/train_stream/Task000/Exp008 = 0.1119\n",
      "-- Starting eval on experience 9 (Task 0) from train stream --\n",
      "100%|██████████| 469/469 [00:03<00:00, 132.60it/s]\n",
      "> Eval on experience 9 (Task 0) from train stream ended.\n",
      "\tTop1_Acc_Exp/eval_phase/train_stream/Task000/Exp009 = 0.1013\n",
      "-- >> End of eval phase << --\n",
      "\tAccuracy_On_Trained_Experiences/eval_phase/train_stream/Task000 = 0.7058\n",
      "\tStreamBWT/eval_phase/train_stream = -0.1163\n",
      "\tStreamForgetting/eval_phase/train_stream = 0.1163\n",
      "\tTop1_Acc_Stream/eval_phase/train_stream/Task000 = 0.5859\n",
      "-- >> Start of eval phase << --\n",
      "-- Starting eval on experience 0 (Task 0) from test stream --\n",
      "100%|██████████| 79/79 [00:00<00:00, 134.14it/s]\n",
      "> Eval on experience 0 (Task 0) from test stream ended.\n",
      "\tExperienceBWT/eval_phase/test_stream/Task000/Exp000 = -0.3269\n",
      "\tExperienceForgetting/eval_phase/test_stream/Task000/Exp000 = 0.3269\n",
      "\tTop1_Acc_Exp/eval_phase/test_stream/Task000/Exp000 = 0.4146\n",
      "-- Starting eval on experience 1 (Task 0) from test stream --\n",
      "100%|██████████| 79/79 [00:00<00:00, 131.11it/s]\n",
      "> Eval on experience 1 (Task 0) from test stream ended.\n",
      "\tExperienceBWT/eval_phase/test_stream/Task000/Exp001 = -0.1541\n",
      "\tExperienceForgetting/eval_phase/test_stream/Task000/Exp001 = 0.1541\n",
      "\tTop1_Acc_Exp/eval_phase/test_stream/Task000/Exp001 = 0.6345\n",
      "-- Starting eval on experience 2 (Task 0) from test stream --\n",
      "100%|██████████| 79/79 [00:00<00:00, 134.55it/s]\n",
      "> Eval on experience 2 (Task 0) from test stream ended.\n",
      "\tExperienceBWT/eval_phase/test_stream/Task000/Exp002 = -0.1324\n",
      "\tExperienceForgetting/eval_phase/test_stream/Task000/Exp002 = 0.1324\n",
      "\tTop1_Acc_Exp/eval_phase/test_stream/Task000/Exp002 = 0.6668\n",
      "-- Starting eval on experience 3 (Task 0) from test stream --\n",
      "100%|██████████| 79/79 [00:00<00:00, 134.21it/s]\n",
      "> Eval on experience 3 (Task 0) from test stream ended.\n",
      "\tExperienceBWT/eval_phase/test_stream/Task000/Exp003 = -0.0630\n",
      "\tExperienceForgetting/eval_phase/test_stream/Task000/Exp003 = 0.0630\n",
      "\tTop1_Acc_Exp/eval_phase/test_stream/Task000/Exp003 = 0.7482\n",
      "-- Starting eval on experience 4 (Task 0) from test stream --\n",
      "100%|██████████| 79/79 [00:00<00:00, 129.71it/s]\n",
      "> Eval on experience 4 (Task 0) from test stream ended.\n",
      "\tExperienceBWT/eval_phase/test_stream/Task000/Exp004 = -0.0665\n",
      "\tExperienceForgetting/eval_phase/test_stream/Task000/Exp004 = 0.0665\n",
      "\tTop1_Acc_Exp/eval_phase/test_stream/Task000/Exp004 = 0.7530\n",
      "-- Starting eval on experience 5 (Task 0) from test stream --\n",
      "100%|██████████| 79/79 [00:00<00:00, 135.94it/s]\n",
      "> Eval on experience 5 (Task 0) from test stream ended.\n",
      "\tExperienceBWT/eval_phase/test_stream/Task000/Exp005 = -0.0464\n",
      "\tExperienceForgetting/eval_phase/test_stream/Task000/Exp005 = 0.0464\n",
      "\tTop1_Acc_Exp/eval_phase/test_stream/Task000/Exp005 = 0.7836\n",
      "-- Starting eval on experience 6 (Task 0) from test stream --\n",
      "100%|██████████| 79/79 [00:00<00:00, 130.74it/s]\n",
      "> Eval on experience 6 (Task 0) from test stream ended.\n",
      "\tExperienceBWT/eval_phase/test_stream/Task000/Exp006 = -0.0240\n",
      "\tExperienceForgetting/eval_phase/test_stream/Task000/Exp006 = 0.0240\n",
      "\tTop1_Acc_Exp/eval_phase/test_stream/Task000/Exp006 = 0.8097\n",
      "-- Starting eval on experience 7 (Task 0) from test stream --\n",
      "100%|██████████| 79/79 [00:00<00:00, 133.53it/s]\n",
      "> Eval on experience 7 (Task 0) from test stream ended.\n",
      "\tTop1_Acc_Exp/eval_phase/test_stream/Task000/Exp007 = 0.8394\n",
      "-- Starting eval on experience 8 (Task 0) from test stream --\n",
      "100%|██████████| 79/79 [00:00<00:00, 132.17it/s]\n",
      "> Eval on experience 8 (Task 0) from test stream ended.\n",
      "\tTop1_Acc_Exp/eval_phase/test_stream/Task000/Exp008 = 0.1168\n",
      "-- Starting eval on experience 9 (Task 0) from test stream --\n",
      "100%|██████████| 79/79 [00:00<00:00, 135.77it/s]"
     ]
    },
    {
     "name": "stderr",
     "output_type": "stream",
     "text": [
      " 80%|████████  | 8/10 [11:16<02:30, 75.46s/it]"
     ]
    },
    {
     "name": "stdout",
     "output_type": "stream",
     "text": [
      "\n",
      "> Eval on experience 9 (Task 0) from test stream ended.\n",
      "\tTop1_Acc_Exp/eval_phase/test_stream/Task000/Exp009 = 0.1047\n",
      "-- >> End of eval phase << --\n",
      "\tAccuracy_On_Trained_Experiences/eval_phase/test_stream/Task000 = 0.7062\n",
      "\tStreamBWT/eval_phase/test_stream = -0.1162\n",
      "\tStreamForgetting/eval_phase/test_stream = 0.1162\n",
      "\tTop1_Acc_Stream/eval_phase/test_stream/Task000 = 0.5871\n",
      "-- >> Start of training phase << --\n",
      "100%|██████████| 469/469 [00:04<00:00, 111.93it/s]\n",
      "Epoch 0 ended.\n",
      "100%|██████████| 469/469 [00:04<00:00, 111.97it/s]\n",
      "Epoch 1 ended.\n",
      "100%|██████████| 469/469 [00:04<00:00, 112.26it/s]\n",
      "Epoch 2 ended.\n",
      "100%|██████████| 469/469 [00:04<00:00, 113.06it/s]\n",
      "Epoch 3 ended.\n",
      "100%|██████████| 469/469 [00:04<00:00, 110.95it/s]\n",
      "Epoch 4 ended.\n",
      "-- >> End of training phase << --\n",
      "-- >> Start of eval phase << --\n",
      "-- Starting eval on experience 0 (Task 0) from train stream --\n",
      "100%|██████████| 469/469 [00:03<00:00, 134.05it/s]\n",
      "> Eval on experience 0 (Task 0) from train stream ended.\n",
      "\tExperienceBWT/eval_phase/train_stream/Task000/Exp000 = -0.2716\n",
      "\tExperienceForgetting/eval_phase/train_stream/Task000/Exp000 = 0.2716\n",
      "\tTop1_Acc_Exp/eval_phase/train_stream/Task000/Exp000 = 0.4699\n",
      "-- Starting eval on experience 1 (Task 0) from train stream --\n",
      "100%|██████████| 469/469 [00:03<00:00, 130.62it/s]\n",
      "> Eval on experience 1 (Task 0) from train stream ended.\n",
      "\tExperienceBWT/eval_phase/train_stream/Task000/Exp001 = -0.1764\n",
      "\tExperienceForgetting/eval_phase/train_stream/Task000/Exp001 = 0.1764\n",
      "\tTop1_Acc_Exp/eval_phase/train_stream/Task000/Exp001 = 0.6122\n",
      "-- Starting eval on experience 2 (Task 0) from train stream --\n",
      "100%|██████████| 469/469 [00:03<00:00, 132.37it/s]\n",
      "> Eval on experience 2 (Task 0) from train stream ended.\n",
      "\tExperienceBWT/eval_phase/train_stream/Task000/Exp002 = -0.1512\n",
      "\tExperienceForgetting/eval_phase/train_stream/Task000/Exp002 = 0.1512\n",
      "\tTop1_Acc_Exp/eval_phase/train_stream/Task000/Exp002 = 0.6480\n",
      "-- Starting eval on experience 3 (Task 0) from train stream --\n",
      "100%|██████████| 469/469 [00:03<00:00, 131.75it/s]\n",
      "> Eval on experience 3 (Task 0) from train stream ended.\n",
      "\tExperienceBWT/eval_phase/train_stream/Task000/Exp003 = -0.0868\n",
      "\tExperienceForgetting/eval_phase/train_stream/Task000/Exp003 = 0.0868\n",
      "\tTop1_Acc_Exp/eval_phase/train_stream/Task000/Exp003 = 0.7244\n",
      "-- Starting eval on experience 4 (Task 0) from train stream --\n",
      "100%|██████████| 469/469 [00:03<00:00, 132.57it/s]\n",
      "> Eval on experience 4 (Task 0) from train stream ended.\n",
      "\tExperienceBWT/eval_phase/train_stream/Task000/Exp004 = -0.0777\n",
      "\tExperienceForgetting/eval_phase/train_stream/Task000/Exp004 = 0.0777\n",
      "\tTop1_Acc_Exp/eval_phase/train_stream/Task000/Exp004 = 0.7418\n",
      "-- Starting eval on experience 5 (Task 0) from train stream --\n",
      "100%|██████████| 469/469 [00:03<00:00, 133.56it/s]\n",
      "> Eval on experience 5 (Task 0) from train stream ended.\n",
      "\tExperienceBWT/eval_phase/train_stream/Task000/Exp005 = -0.0708\n",
      "\tExperienceForgetting/eval_phase/train_stream/Task000/Exp005 = 0.0708\n",
      "\tTop1_Acc_Exp/eval_phase/train_stream/Task000/Exp005 = 0.7592\n",
      "-- Starting eval on experience 6 (Task 0) from train stream --\n",
      "100%|██████████| 469/469 [00:03<00:00, 129.43it/s]\n",
      "> Eval on experience 6 (Task 0) from train stream ended.\n",
      "\tExperienceBWT/eval_phase/train_stream/Task000/Exp006 = -0.0324\n",
      "\tExperienceForgetting/eval_phase/train_stream/Task000/Exp006 = 0.0324\n",
      "\tTop1_Acc_Exp/eval_phase/train_stream/Task000/Exp006 = 0.8013\n",
      "-- Starting eval on experience 7 (Task 0) from train stream --\n",
      "100%|██████████| 469/469 [00:03<00:00, 132.87it/s]\n",
      "> Eval on experience 7 (Task 0) from train stream ended.\n",
      "\tExperienceBWT/eval_phase/train_stream/Task000/Exp007 = -0.0329\n",
      "\tExperienceForgetting/eval_phase/train_stream/Task000/Exp007 = 0.0329\n",
      "\tTop1_Acc_Exp/eval_phase/train_stream/Task000/Exp007 = 0.8065\n",
      "-- Starting eval on experience 8 (Task 0) from train stream --\n",
      "100%|██████████| 469/469 [00:03<00:00, 132.38it/s]\n",
      "> Eval on experience 8 (Task 0) from train stream ended.\n",
      "\tTop1_Acc_Exp/eval_phase/train_stream/Task000/Exp008 = 0.8388\n",
      "-- Starting eval on experience 9 (Task 0) from train stream --\n",
      "100%|██████████| 469/469 [00:03<00:00, 131.14it/s]\n",
      "> Eval on experience 9 (Task 0) from train stream ended.\n",
      "\tTop1_Acc_Exp/eval_phase/train_stream/Task000/Exp009 = 0.1159\n",
      "-- >> End of eval phase << --\n",
      "\tAccuracy_On_Trained_Experiences/eval_phase/train_stream/Task000 = 0.7113\n",
      "\tStreamBWT/eval_phase/train_stream = -0.1125\n",
      "\tStreamForgetting/eval_phase/train_stream = 0.1125\n",
      "\tTop1_Acc_Stream/eval_phase/train_stream/Task000 = 0.6518\n",
      "-- >> Start of eval phase << --\n",
      "-- Starting eval on experience 0 (Task 0) from test stream --\n",
      "100%|██████████| 79/79 [00:00<00:00, 129.02it/s]\n",
      "> Eval on experience 0 (Task 0) from test stream ended.\n",
      "\tExperienceBWT/eval_phase/test_stream/Task000/Exp000 = -0.2800\n",
      "\tExperienceForgetting/eval_phase/test_stream/Task000/Exp000 = 0.2800\n",
      "\tTop1_Acc_Exp/eval_phase/test_stream/Task000/Exp000 = 0.4615\n",
      "-- Starting eval on experience 1 (Task 0) from test stream --\n",
      "100%|██████████| 79/79 [00:00<00:00, 135.46it/s]\n",
      "> Eval on experience 1 (Task 0) from test stream ended.\n",
      "\tExperienceBWT/eval_phase/test_stream/Task000/Exp001 = -0.1607\n",
      "\tExperienceForgetting/eval_phase/test_stream/Task000/Exp001 = 0.1607\n",
      "\tTop1_Acc_Exp/eval_phase/test_stream/Task000/Exp001 = 0.6279\n",
      "-- Starting eval on experience 2 (Task 0) from test stream --\n",
      "100%|██████████| 79/79 [00:00<00:00, 131.62it/s]\n",
      "> Eval on experience 2 (Task 0) from test stream ended.\n",
      "\tExperienceBWT/eval_phase/test_stream/Task000/Exp002 = -0.1519\n",
      "\tExperienceForgetting/eval_phase/test_stream/Task000/Exp002 = 0.1519\n",
      "\tTop1_Acc_Exp/eval_phase/test_stream/Task000/Exp002 = 0.6473\n",
      "-- Starting eval on experience 3 (Task 0) from test stream --\n",
      "100%|██████████| 79/79 [00:00<00:00, 134.62it/s]\n",
      "> Eval on experience 3 (Task 0) from test stream ended.\n",
      "\tExperienceBWT/eval_phase/test_stream/Task000/Exp003 = -0.0806\n",
      "\tExperienceForgetting/eval_phase/test_stream/Task000/Exp003 = 0.0806\n",
      "\tTop1_Acc_Exp/eval_phase/test_stream/Task000/Exp003 = 0.7306\n",
      "-- Starting eval on experience 4 (Task 0) from test stream --\n",
      "100%|██████████| 79/79 [00:00<00:00, 130.90it/s]\n",
      "> Eval on experience 4 (Task 0) from test stream ended.\n",
      "\tExperienceBWT/eval_phase/test_stream/Task000/Exp004 = -0.0825\n",
      "\tExperienceForgetting/eval_phase/test_stream/Task000/Exp004 = 0.0825\n",
      "\tTop1_Acc_Exp/eval_phase/test_stream/Task000/Exp004 = 0.7370\n",
      "-- Starting eval on experience 5 (Task 0) from test stream --\n",
      "100%|██████████| 79/79 [00:00<00:00, 134.57it/s]\n",
      "> Eval on experience 5 (Task 0) from test stream ended.\n",
      "\tExperienceBWT/eval_phase/test_stream/Task000/Exp005 = -0.0690\n",
      "\tExperienceForgetting/eval_phase/test_stream/Task000/Exp005 = 0.0690\n",
      "\tTop1_Acc_Exp/eval_phase/test_stream/Task000/Exp005 = 0.7610\n",
      "-- Starting eval on experience 6 (Task 0) from test stream --\n",
      "100%|██████████| 79/79 [00:00<00:00, 133.87it/s]\n",
      "> Eval on experience 6 (Task 0) from test stream ended.\n",
      "\tExperienceBWT/eval_phase/test_stream/Task000/Exp006 = -0.0304\n",
      "\tExperienceForgetting/eval_phase/test_stream/Task000/Exp006 = 0.0304\n",
      "\tTop1_Acc_Exp/eval_phase/test_stream/Task000/Exp006 = 0.8033\n",
      "-- Starting eval on experience 7 (Task 0) from test stream --\n",
      "100%|██████████| 79/79 [00:00<00:00, 130.92it/s]\n",
      "> Eval on experience 7 (Task 0) from test stream ended.\n",
      "\tExperienceBWT/eval_phase/test_stream/Task000/Exp007 = -0.0256\n",
      "\tExperienceForgetting/eval_phase/test_stream/Task000/Exp007 = 0.0256\n",
      "\tTop1_Acc_Exp/eval_phase/test_stream/Task000/Exp007 = 0.8138\n",
      "-- Starting eval on experience 8 (Task 0) from test stream --\n",
      "100%|██████████| 79/79 [00:00<00:00, 135.64it/s]\n",
      "> Eval on experience 8 (Task 0) from test stream ended.\n",
      "\tTop1_Acc_Exp/eval_phase/test_stream/Task000/Exp008 = 0.8463\n",
      "-- Starting eval on experience 9 (Task 0) from test stream --\n",
      "100%|██████████| 79/79 [00:00<00:00, 132.07it/s]"
     ]
    },
    {
     "name": "stderr",
     "output_type": "stream",
     "text": [
      " 90%|█████████ | 9/10 [12:18<01:11, 71.41s/it]"
     ]
    },
    {
     "name": "stdout",
     "output_type": "stream",
     "text": [
      "\n",
      "> Eval on experience 9 (Task 0) from test stream ended.\n",
      "\tTop1_Acc_Exp/eval_phase/test_stream/Task000/Exp009 = 0.1175\n",
      "-- >> End of eval phase << --\n",
      "\tAccuracy_On_Trained_Experiences/eval_phase/test_stream/Task000 = 0.7143\n",
      "\tStreamBWT/eval_phase/test_stream = -0.1101\n",
      "\tStreamForgetting/eval_phase/test_stream = 0.1101\n",
      "\tTop1_Acc_Stream/eval_phase/test_stream/Task000 = 0.6546\n",
      "-- >> Start of training phase << --\n",
      "100%|██████████| 469/469 [00:04<00:00, 111.71it/s]\n",
      "Epoch 0 ended.\n",
      "100%|██████████| 469/469 [00:04<00:00, 111.01it/s]\n",
      "Epoch 1 ended.\n",
      "100%|██████████| 469/469 [00:04<00:00, 107.95it/s]\n",
      "Epoch 2 ended.\n",
      "100%|██████████| 469/469 [00:04<00:00, 107.62it/s]\n",
      "Epoch 3 ended.\n",
      "100%|██████████| 469/469 [00:04<00:00, 110.18it/s]\n",
      "Epoch 4 ended.\n",
      "-- >> End of training phase << --\n",
      "-- >> Start of eval phase << --\n",
      "-- Starting eval on experience 0 (Task 0) from train stream --\n",
      "100%|██████████| 469/469 [00:03<00:00, 133.71it/s]\n",
      "> Eval on experience 0 (Task 0) from train stream ended.\n",
      "\tExperienceBWT/eval_phase/train_stream/Task000/Exp000 = -0.2794\n",
      "\tExperienceForgetting/eval_phase/train_stream/Task000/Exp000 = 0.2794\n",
      "\tTop1_Acc_Exp/eval_phase/train_stream/Task000/Exp000 = 0.4621\n",
      "-- Starting eval on experience 1 (Task 0) from train stream --\n",
      "100%|██████████| 469/469 [00:03<00:00, 132.78it/s]\n",
      "> Eval on experience 1 (Task 0) from train stream ended.\n",
      "\tExperienceBWT/eval_phase/train_stream/Task000/Exp001 = -0.1949\n",
      "\tExperienceForgetting/eval_phase/train_stream/Task000/Exp001 = 0.1949\n",
      "\tTop1_Acc_Exp/eval_phase/train_stream/Task000/Exp001 = 0.5937\n",
      "-- Starting eval on experience 2 (Task 0) from train stream --\n",
      "100%|██████████| 469/469 [00:03<00:00, 132.69it/s]\n",
      "> Eval on experience 2 (Task 0) from train stream ended.\n",
      "\tExperienceBWT/eval_phase/train_stream/Task000/Exp002 = -0.1629\n",
      "\tExperienceForgetting/eval_phase/train_stream/Task000/Exp002 = 0.1629\n",
      "\tTop1_Acc_Exp/eval_phase/train_stream/Task000/Exp002 = 0.6363\n",
      "-- Starting eval on experience 3 (Task 0) from train stream --\n",
      "100%|██████████| 469/469 [00:03<00:00, 132.25it/s]\n",
      "> Eval on experience 3 (Task 0) from train stream ended.\n",
      "\tExperienceBWT/eval_phase/train_stream/Task000/Exp003 = -0.1004\n",
      "\tExperienceForgetting/eval_phase/train_stream/Task000/Exp003 = 0.1004\n",
      "\tTop1_Acc_Exp/eval_phase/train_stream/Task000/Exp003 = 0.7108\n",
      "-- Starting eval on experience 4 (Task 0) from train stream --\n",
      "100%|██████████| 469/469 [00:03<00:00, 132.83it/s]\n",
      "> Eval on experience 4 (Task 0) from train stream ended.\n",
      "\tExperienceBWT/eval_phase/train_stream/Task000/Exp004 = -0.0825\n",
      "\tExperienceForgetting/eval_phase/train_stream/Task000/Exp004 = 0.0825\n",
      "\tTop1_Acc_Exp/eval_phase/train_stream/Task000/Exp004 = 0.7370\n",
      "-- Starting eval on experience 5 (Task 0) from train stream --\n",
      "100%|██████████| 469/469 [00:03<00:00, 133.99it/s]\n",
      "> Eval on experience 5 (Task 0) from train stream ended.\n",
      "\tExperienceBWT/eval_phase/train_stream/Task000/Exp005 = -0.0846\n",
      "\tExperienceForgetting/eval_phase/train_stream/Task000/Exp005 = 0.0846\n",
      "\tTop1_Acc_Exp/eval_phase/train_stream/Task000/Exp005 = 0.7454\n",
      "-- Starting eval on experience 6 (Task 0) from train stream --\n",
      "100%|██████████| 469/469 [00:03<00:00, 132.85it/s]\n",
      "> Eval on experience 6 (Task 0) from train stream ended.\n",
      "\tExperienceBWT/eval_phase/train_stream/Task000/Exp006 = -0.0469\n",
      "\tExperienceForgetting/eval_phase/train_stream/Task000/Exp006 = 0.0469\n",
      "\tTop1_Acc_Exp/eval_phase/train_stream/Task000/Exp006 = 0.7868\n",
      "-- Starting eval on experience 7 (Task 0) from train stream --\n",
      "100%|██████████| 469/469 [00:03<00:00, 132.94it/s]\n",
      "> Eval on experience 7 (Task 0) from train stream ended.\n",
      "\tExperienceBWT/eval_phase/train_stream/Task000/Exp007 = -0.0427\n",
      "\tExperienceForgetting/eval_phase/train_stream/Task000/Exp007 = 0.0427\n",
      "\tTop1_Acc_Exp/eval_phase/train_stream/Task000/Exp007 = 0.7967\n",
      "-- Starting eval on experience 8 (Task 0) from train stream --\n",
      "100%|██████████| 469/469 [00:03<00:00, 133.27it/s]\n",
      "> Eval on experience 8 (Task 0) from train stream ended.\n",
      "\tExperienceBWT/eval_phase/train_stream/Task000/Exp008 = -0.0354\n",
      "\tExperienceForgetting/eval_phase/train_stream/Task000/Exp008 = 0.0354\n",
      "\tTop1_Acc_Exp/eval_phase/train_stream/Task000/Exp008 = 0.8109\n",
      "-- Starting eval on experience 9 (Task 0) from train stream --\n",
      "100%|██████████| 469/469 [00:03<00:00, 133.30it/s]\n",
      "> Eval on experience 9 (Task 0) from train stream ended.\n",
      "\tTop1_Acc_Exp/eval_phase/train_stream/Task000/Exp009 = 0.8454\n",
      "-- >> End of eval phase << --\n",
      "\tAccuracy_On_Trained_Experiences/eval_phase/train_stream/Task000 = 0.7125\n",
      "\tStreamBWT/eval_phase/train_stream = -0.1144\n",
      "\tStreamForgetting/eval_phase/train_stream = 0.1144\n",
      "\tTop1_Acc_Stream/eval_phase/train_stream/Task000 = 0.7125\n",
      "-- >> Start of eval phase << --\n",
      "-- Starting eval on experience 0 (Task 0) from test stream --\n",
      "100%|██████████| 79/79 [00:00<00:00, 131.15it/s]\n",
      "> Eval on experience 0 (Task 0) from test stream ended.\n",
      "\tExperienceBWT/eval_phase/test_stream/Task000/Exp000 = -0.2786\n",
      "\tExperienceForgetting/eval_phase/test_stream/Task000/Exp000 = 0.2786\n",
      "\tTop1_Acc_Exp/eval_phase/test_stream/Task000/Exp000 = 0.4629\n",
      "-- Starting eval on experience 1 (Task 0) from test stream --\n",
      "100%|██████████| 79/79 [00:00<00:00, 135.93it/s]\n",
      "> Eval on experience 1 (Task 0) from test stream ended.\n",
      "\tExperienceBWT/eval_phase/test_stream/Task000/Exp001 = -0.1797\n",
      "\tExperienceForgetting/eval_phase/test_stream/Task000/Exp001 = 0.1797\n",
      "\tTop1_Acc_Exp/eval_phase/test_stream/Task000/Exp001 = 0.6089\n",
      "-- Starting eval on experience 2 (Task 0) from test stream --\n",
      "100%|██████████| 79/79 [00:00<00:00, 130.72it/s]\n",
      "> Eval on experience 2 (Task 0) from test stream ended.\n",
      "\tExperienceBWT/eval_phase/test_stream/Task000/Exp002 = -0.1603\n",
      "\tExperienceForgetting/eval_phase/test_stream/Task000/Exp002 = 0.1603\n",
      "\tTop1_Acc_Exp/eval_phase/test_stream/Task000/Exp002 = 0.6389\n",
      "-- Starting eval on experience 3 (Task 0) from test stream --\n",
      "100%|██████████| 79/79 [00:00<00:00, 136.12it/s]\n",
      "> Eval on experience 3 (Task 0) from test stream ended.\n",
      "\tExperienceBWT/eval_phase/test_stream/Task000/Exp003 = -0.0956\n",
      "\tExperienceForgetting/eval_phase/test_stream/Task000/Exp003 = 0.0956\n",
      "\tTop1_Acc_Exp/eval_phase/test_stream/Task000/Exp003 = 0.7156\n",
      "-- Starting eval on experience 4 (Task 0) from test stream --\n",
      "100%|██████████| 79/79 [00:00<00:00, 131.25it/s]\n",
      "> Eval on experience 4 (Task 0) from test stream ended.\n",
      "\tExperienceBWT/eval_phase/test_stream/Task000/Exp004 = -0.0869\n",
      "\tExperienceForgetting/eval_phase/test_stream/Task000/Exp004 = 0.0869\n",
      "\tTop1_Acc_Exp/eval_phase/test_stream/Task000/Exp004 = 0.7326\n",
      "-- Starting eval on experience 5 (Task 0) from test stream --\n",
      "100%|██████████| 79/79 [00:00<00:00, 135.10it/s]\n",
      "> Eval on experience 5 (Task 0) from test stream ended.\n",
      "\tExperienceBWT/eval_phase/test_stream/Task000/Exp005 = -0.0870\n",
      "\tExperienceForgetting/eval_phase/test_stream/Task000/Exp005 = 0.0870\n",
      "\tTop1_Acc_Exp/eval_phase/test_stream/Task000/Exp005 = 0.7430\n",
      "-- Starting eval on experience 6 (Task 0) from test stream --\n",
      "100%|██████████| 79/79 [00:00<00:00, 131.47it/s]\n",
      "> Eval on experience 6 (Task 0) from test stream ended.\n",
      "\tExperienceBWT/eval_phase/test_stream/Task000/Exp006 = -0.0411\n",
      "\tExperienceForgetting/eval_phase/test_stream/Task000/Exp006 = 0.0411\n",
      "\tTop1_Acc_Exp/eval_phase/test_stream/Task000/Exp006 = 0.7926\n",
      "-- Starting eval on experience 7 (Task 0) from test stream --\n",
      "100%|██████████| 79/79 [00:00<00:00, 136.88it/s]\n",
      "> Eval on experience 7 (Task 0) from test stream ended.\n",
      "\tExperienceBWT/eval_phase/test_stream/Task000/Exp007 = -0.0373\n",
      "\tExperienceForgetting/eval_phase/test_stream/Task000/Exp007 = 0.0373\n",
      "\tTop1_Acc_Exp/eval_phase/test_stream/Task000/Exp007 = 0.8021\n",
      "-- Starting eval on experience 8 (Task 0) from test stream --\n",
      "100%|██████████| 79/79 [00:00<00:00, 131.69it/s]\n",
      "> Eval on experience 8 (Task 0) from test stream ended.\n",
      "\tExperienceBWT/eval_phase/test_stream/Task000/Exp008 = -0.0302\n",
      "\tExperienceForgetting/eval_phase/test_stream/Task000/Exp008 = 0.0302\n",
      "\tTop1_Acc_Exp/eval_phase/test_stream/Task000/Exp008 = 0.8161\n",
      "-- Starting eval on experience 9 (Task 0) from test stream --\n",
      "100%|██████████| 79/79 [00:00<00:00, 135.26it/s]"
     ]
    },
    {
     "name": "stderr",
     "output_type": "stream",
     "text": [
      "100%|██████████| 10/10 [13:21<00:00, 80.14s/it]"
     ]
    },
    {
     "name": "stdout",
     "output_type": "stream",
     "text": [
      "\n",
      "> Eval on experience 9 (Task 0) from test stream ended.\n",
      "\tTop1_Acc_Exp/eval_phase/test_stream/Task000/Exp009 = 0.8480\n",
      "-- >> End of eval phase << --\n",
      "\tAccuracy_On_Trained_Experiences/eval_phase/test_stream/Task000 = 0.7161\n",
      "\tStreamBWT/eval_phase/test_stream = -0.1107\n",
      "\tStreamForgetting/eval_phase/test_stream = 0.1107\n",
      "\tTop1_Acc_Stream/eval_phase/test_stream/Task000 = 0.7161\n"
     ]
    },
    {
     "name": "stderr",
     "output_type": "stream",
     "text": [
      "\n"
     ]
    }
   ],
   "source": [
    "results = list()\n",
    "\n",
    "for experience in tqdm(train_stream):\n",
    "    strategy.train(experience)\n",
    "\n",
    "    # eval on the whole train stream\n",
    "    metrics = strategy.eval(train_stream)\n",
    "    results.append(metrics)\n",
    "\n",
    "    # eval on test\n",
    "    metrics = strategy.eval(test_stream)\n",
    "    results.append(metrics)\n",
    "\n",
    "    "
   ]
  },
  {
   "cell_type": "code",
   "execution_count": 81,
   "metadata": {},
   "outputs": [
    {
     "data": {
      "text/plain": [
       "defaultdict(<function avalanche.training.plugins.evaluation._init_metrics_list_lambda()>,\n",
       "            {'Top1_Acc_Exp/eval_phase/train_stream/Task000/Exp000': ([2345,\n",
       "               4690,\n",
       "               7035,\n",
       "               9380,\n",
       "               11725,\n",
       "               14070,\n",
       "               16415,\n",
       "               18760,\n",
       "               21105,\n",
       "               23450],\n",
       "              [0.7375,\n",
       "               0.7092666666666667,\n",
       "               0.64235,\n",
       "               0.6308666666666667,\n",
       "               0.6070833333333333,\n",
       "               0.5614166666666667,\n",
       "               0.4996833333333333,\n",
       "               0.4170833333333333,\n",
       "               0.4699,\n",
       "               0.4620666666666667]),\n",
       "             'Top1_Acc_Exp/eval_phase/train_stream/Task000/Exp001': ([2345,\n",
       "               4690,\n",
       "               7035,\n",
       "               9380,\n",
       "               11725,\n",
       "               14070,\n",
       "               16415,\n",
       "               18760,\n",
       "               21105,\n",
       "               23450],\n",
       "              [0.17666666666666667,\n",
       "               0.78205,\n",
       "               0.7584166666666666,\n",
       "               0.7510166666666667,\n",
       "               0.7505333333333334,\n",
       "               0.71055,\n",
       "               0.66865,\n",
       "               0.62515,\n",
       "               0.6121833333333333,\n",
       "               0.5937]),\n",
       "             'Top1_Acc_Exp/eval_phase/train_stream/Task000/Exp002': ([2345,\n",
       "               4690,\n",
       "               7035,\n",
       "               9380,\n",
       "               11725,\n",
       "               14070,\n",
       "               16415,\n",
       "               18760,\n",
       "               21105,\n",
       "               23450],\n",
       "              [0.12976666666666667,\n",
       "               0.15091666666666667,\n",
       "               0.7952833333333333,\n",
       "               0.7908,\n",
       "               0.78985,\n",
       "               0.75165,\n",
       "               0.7136,\n",
       "               0.6717666666666666,\n",
       "               0.6480166666666667,\n",
       "               0.6363166666666666]),\n",
       "             'Top1_Acc_Exp/eval_phase/train_stream/Task000/Exp003': ([2345,\n",
       "               4690,\n",
       "               7035,\n",
       "               9380,\n",
       "               11725,\n",
       "               14070,\n",
       "               16415,\n",
       "               18760,\n",
       "               21105,\n",
       "               23450],\n",
       "              [0.12601666666666667,\n",
       "               0.13038333333333332,\n",
       "               0.10331666666666667,\n",
       "               0.8048333333333333,\n",
       "               0.778,\n",
       "               0.7578333333333334,\n",
       "               0.7594833333333333,\n",
       "               0.7507666666666667,\n",
       "               0.7244,\n",
       "               0.71085]),\n",
       "             'Top1_Acc_Exp/eval_phase/train_stream/Task000/Exp004': ([2345,\n",
       "               4690,\n",
       "               7035,\n",
       "               9380,\n",
       "               11725,\n",
       "               14070,\n",
       "               16415,\n",
       "               18760,\n",
       "               21105,\n",
       "               23450],\n",
       "              [0.14045,\n",
       "               0.17208333333333334,\n",
       "               0.1229,\n",
       "               0.11023333333333334,\n",
       "               0.8202166666666667,\n",
       "               0.7965,\n",
       "               0.77555,\n",
       "               0.7513833333333333,\n",
       "               0.74175,\n",
       "               0.7370166666666667]),\n",
       "             'Top1_Acc_Exp/eval_phase/train_stream/Task000/Exp005': ([2345,\n",
       "               4690,\n",
       "               7035,\n",
       "               9380,\n",
       "               11725,\n",
       "               14070,\n",
       "               16415,\n",
       "               18760,\n",
       "               21105,\n",
       "               23450],\n",
       "              [0.14968333333333333,\n",
       "               0.15198333333333333,\n",
       "               0.17163333333333333,\n",
       "               0.1169,\n",
       "               0.1417,\n",
       "               0.8277166666666667,\n",
       "               0.8073166666666667,\n",
       "               0.78155,\n",
       "               0.7592166666666667,\n",
       "               0.7454]),\n",
       "             'Top1_Acc_Exp/eval_phase/train_stream/Task000/Exp006': ([2345,\n",
       "               4690,\n",
       "               7035,\n",
       "               9380,\n",
       "               11725,\n",
       "               14070,\n",
       "               16415,\n",
       "               18760,\n",
       "               21105,\n",
       "               23450],\n",
       "              [0.15031666666666665,\n",
       "               0.17818333333333333,\n",
       "               0.14216666666666666,\n",
       "               0.16598333333333334,\n",
       "               0.12105,\n",
       "               0.12843333333333334,\n",
       "               0.83025,\n",
       "               0.8116,\n",
       "               0.8013,\n",
       "               0.7868166666666667]),\n",
       "             'Top1_Acc_Exp/eval_phase/train_stream/Task000/Exp007': ([2345,\n",
       "               4690,\n",
       "               7035,\n",
       "               9380,\n",
       "               11725,\n",
       "               14070,\n",
       "               16415,\n",
       "               18760,\n",
       "               21105,\n",
       "               23450],\n",
       "              [0.12301666666666666,\n",
       "               0.12678333333333333,\n",
       "               0.15228333333333333,\n",
       "               0.16926666666666668,\n",
       "               0.16273333333333334,\n",
       "               0.19308333333333333,\n",
       "               0.14683333333333334,\n",
       "               0.8367166666666667,\n",
       "               0.8064666666666667,\n",
       "               0.7966666666666666]),\n",
       "             'Top1_Acc_Exp/eval_phase/train_stream/Task000/Exp008': ([2345,\n",
       "               4690,\n",
       "               7035,\n",
       "               9380,\n",
       "               11725,\n",
       "               14070,\n",
       "               16415,\n",
       "               18760,\n",
       "               21105,\n",
       "               23450],\n",
       "              [0.17176666666666668,\n",
       "               0.19291666666666665,\n",
       "               0.18036666666666668,\n",
       "               0.1401,\n",
       "               0.16293333333333335,\n",
       "               0.14393333333333333,\n",
       "               0.1208,\n",
       "               0.11193333333333333,\n",
       "               0.8387666666666667,\n",
       "               0.8108833333333333]),\n",
       "             'Top1_Acc_Exp/eval_phase/train_stream/Task000/Exp009': ([2345,\n",
       "               4690,\n",
       "               7035,\n",
       "               9380,\n",
       "               11725,\n",
       "               14070,\n",
       "               16415,\n",
       "               18760,\n",
       "               21105,\n",
       "               23450],\n",
       "              [0.1462,\n",
       "               0.18406666666666666,\n",
       "               0.13015,\n",
       "               0.10388333333333333,\n",
       "               0.12336666666666667,\n",
       "               0.10471666666666667,\n",
       "               0.09148333333333333,\n",
       "               0.10126666666666667,\n",
       "               0.11593333333333333,\n",
       "               0.8453833333333334]),\n",
       "             'Top1_Acc_Stream/eval_phase/train_stream/Task000': ([2345,\n",
       "               4690,\n",
       "               7035,\n",
       "               9380,\n",
       "               11725,\n",
       "               14070,\n",
       "               16415,\n",
       "               18760,\n",
       "               21105,\n",
       "               23450],\n",
       "              [0.20513833333333334,\n",
       "               0.27786333333333335,\n",
       "               0.31988666666666665,\n",
       "               0.3783883333333333,\n",
       "               0.4457466666666667,\n",
       "               0.4975833333333333,\n",
       "               0.541365,\n",
       "               0.5859216666666667,\n",
       "               0.6517933333333333,\n",
       "               0.71251]),\n",
       "             'Accuracy_On_Trained_Experiences/eval_phase/train_stream/Task000': ([2345,\n",
       "               4690,\n",
       "               7035,\n",
       "               9380,\n",
       "               11725,\n",
       "               14070,\n",
       "               16415,\n",
       "               18760,\n",
       "               21105,\n",
       "               23450],\n",
       "              [0.7375,\n",
       "               0.7456583333333333,\n",
       "               0.7320166666666666,\n",
       "               0.7443791666666667,\n",
       "               0.7491366666666667,\n",
       "               0.7342777777777778,\n",
       "               0.7220761904761904,\n",
       "               0.7057520833333333,\n",
       "               0.7113333333333334,\n",
       "               0.71251]),\n",
       "             'StreamForgetting/eval_phase/train_stream': ([2345,\n",
       "               4690,\n",
       "               7035,\n",
       "               9380,\n",
       "               11725,\n",
       "               14070,\n",
       "               16415,\n",
       "               18760,\n",
       "               21105,\n",
       "               23450],\n",
       "              [0.0,\n",
       "               0.032233333333333336,\n",
       "               0.0646666666666667,\n",
       "               0.05220555555555558,\n",
       "               0.053758333333333325,\n",
       "               0.07641,\n",
       "               0.09428611111111113,\n",
       "               0.11634285714285718,\n",
       "               0.11248333333333334,\n",
       "               0.11440925925925931]),\n",
       "             'StreamBWT/eval_phase/train_stream': ([2345,\n",
       "               4690,\n",
       "               7035,\n",
       "               9380,\n",
       "               11725,\n",
       "               14070,\n",
       "               16415,\n",
       "               18760,\n",
       "               21105,\n",
       "               23450],\n",
       "              [0.0,\n",
       "               -0.032233333333333336,\n",
       "               -0.0646666666666667,\n",
       "               -0.05220555555555558,\n",
       "               -0.053758333333333325,\n",
       "               -0.07641,\n",
       "               -0.09428611111111113,\n",
       "               -0.11634285714285718,\n",
       "               -0.11248333333333334,\n",
       "               -0.11440925925925931]),\n",
       "             'Top1_Acc_Exp/eval_phase/test_stream/Task000/Exp000': ([2345,\n",
       "               4690,\n",
       "               7035,\n",
       "               9380,\n",
       "               11725,\n",
       "               14070,\n",
       "               16415,\n",
       "               18760,\n",
       "               21105,\n",
       "               23450],\n",
       "              [0.7415,\n",
       "               0.7171,\n",
       "               0.6404,\n",
       "               0.63,\n",
       "               0.6081,\n",
       "               0.5622,\n",
       "               0.497,\n",
       "               0.4146,\n",
       "               0.4615,\n",
       "               0.4629]),\n",
       "             'Top1_Acc_Exp/eval_phase/test_stream/Task000/Exp001': ([2345,\n",
       "               4690,\n",
       "               7035,\n",
       "               9380,\n",
       "               11725,\n",
       "               14070,\n",
       "               16415,\n",
       "               18760,\n",
       "               21105,\n",
       "               23450],\n",
       "              [0.173,\n",
       "               0.7886,\n",
       "               0.7614,\n",
       "               0.7541,\n",
       "               0.7534,\n",
       "               0.7183,\n",
       "               0.6774,\n",
       "               0.6345,\n",
       "               0.6279,\n",
       "               0.6089]),\n",
       "             'Top1_Acc_Exp/eval_phase/test_stream/Task000/Exp002': ([2345,\n",
       "               4690,\n",
       "               7035,\n",
       "               9380,\n",
       "               11725,\n",
       "               14070,\n",
       "               16415,\n",
       "               18760,\n",
       "               21105,\n",
       "               23450],\n",
       "              [0.1297,\n",
       "               0.1528,\n",
       "               0.7992,\n",
       "               0.7972,\n",
       "               0.7952,\n",
       "               0.7537,\n",
       "               0.7116,\n",
       "               0.6668,\n",
       "               0.6473,\n",
       "               0.6389]),\n",
       "             'Top1_Acc_Exp/eval_phase/test_stream/Task000/Exp003': ([2345,\n",
       "               4690,\n",
       "               7035,\n",
       "               9380,\n",
       "               11725,\n",
       "               14070,\n",
       "               16415,\n",
       "               18760,\n",
       "               21105,\n",
       "               23450],\n",
       "              [0.1284,\n",
       "               0.1362,\n",
       "               0.1034,\n",
       "               0.8112,\n",
       "               0.7801,\n",
       "               0.7613,\n",
       "               0.7663,\n",
       "               0.7482,\n",
       "               0.7306,\n",
       "               0.7156]),\n",
       "             'Top1_Acc_Exp/eval_phase/test_stream/Task000/Exp004': ([2345,\n",
       "               4690,\n",
       "               7035,\n",
       "               9380,\n",
       "               11725,\n",
       "               14070,\n",
       "               16415,\n",
       "               18760,\n",
       "               21105,\n",
       "               23450],\n",
       "              [0.1388,\n",
       "               0.1666,\n",
       "               0.117,\n",
       "               0.1067,\n",
       "               0.8195,\n",
       "               0.7982,\n",
       "               0.7739,\n",
       "               0.753,\n",
       "               0.737,\n",
       "               0.7326]),\n",
       "             'Top1_Acc_Exp/eval_phase/test_stream/Task000/Exp005': ([2345,\n",
       "               4690,\n",
       "               7035,\n",
       "               9380,\n",
       "               11725,\n",
       "               14070,\n",
       "               16415,\n",
       "               18760,\n",
       "               21105,\n",
       "               23450],\n",
       "              [0.1505,\n",
       "               0.1482,\n",
       "               0.1695,\n",
       "               0.116,\n",
       "               0.1476,\n",
       "               0.83,\n",
       "               0.8065,\n",
       "               0.7836,\n",
       "               0.761,\n",
       "               0.743]),\n",
       "             'Top1_Acc_Exp/eval_phase/test_stream/Task000/Exp006': ([2345,\n",
       "               4690,\n",
       "               7035,\n",
       "               9380,\n",
       "               11725,\n",
       "               14070,\n",
       "               16415,\n",
       "               18760,\n",
       "               21105,\n",
       "               23450],\n",
       "              [0.1455,\n",
       "               0.1774,\n",
       "               0.1362,\n",
       "               0.155,\n",
       "               0.1139,\n",
       "               0.128,\n",
       "               0.8337,\n",
       "               0.8097,\n",
       "               0.8033,\n",
       "               0.7926]),\n",
       "             'Top1_Acc_Exp/eval_phase/test_stream/Task000/Exp007': ([2345,\n",
       "               4690,\n",
       "               7035,\n",
       "               9380,\n",
       "               11725,\n",
       "               14070,\n",
       "               16415,\n",
       "               18760,\n",
       "               21105,\n",
       "               23450],\n",
       "              [0.1194,\n",
       "               0.1248,\n",
       "               0.1569,\n",
       "               0.1781,\n",
       "               0.1691,\n",
       "               0.2073,\n",
       "               0.1587,\n",
       "               0.8394,\n",
       "               0.8138,\n",
       "               0.8021]),\n",
       "             'Top1_Acc_Exp/eval_phase/test_stream/Task000/Exp008': ([2345,\n",
       "               4690,\n",
       "               7035,\n",
       "               9380,\n",
       "               11725,\n",
       "               14070,\n",
       "               16415,\n",
       "               18760,\n",
       "               21105,\n",
       "               23450],\n",
       "              [0.1801,\n",
       "               0.1963,\n",
       "               0.1844,\n",
       "               0.1441,\n",
       "               0.1665,\n",
       "               0.1541,\n",
       "               0.129,\n",
       "               0.1168,\n",
       "               0.8463,\n",
       "               0.8161]),\n",
       "             'Top1_Acc_Exp/eval_phase/test_stream/Task000/Exp009': ([2345,\n",
       "               4690,\n",
       "               7035,\n",
       "               9380,\n",
       "               11725,\n",
       "               14070,\n",
       "               16415,\n",
       "               18760,\n",
       "               21105,\n",
       "               23450],\n",
       "              [0.1489,\n",
       "               0.1946,\n",
       "               0.1392,\n",
       "               0.112,\n",
       "               0.127,\n",
       "               0.1095,\n",
       "               0.0932,\n",
       "               0.1047,\n",
       "               0.1175,\n",
       "               0.848]),\n",
       "             'Top1_Acc_Stream/eval_phase/test_stream/Task000': ([2345,\n",
       "               4690,\n",
       "               7035,\n",
       "               9380,\n",
       "               11725,\n",
       "               14070,\n",
       "               16415,\n",
       "               18760,\n",
       "               21105,\n",
       "               23450],\n",
       "              [0.20558,\n",
       "               0.28026,\n",
       "               0.32076,\n",
       "               0.38044,\n",
       "               0.44804,\n",
       "               0.50226,\n",
       "               0.54473,\n",
       "               0.58713,\n",
       "               0.65462,\n",
       "               0.71607]),\n",
       "             'Accuracy_On_Trained_Experiences/eval_phase/test_stream/Task000': ([2345,\n",
       "               4690,\n",
       "               7035,\n",
       "               9380,\n",
       "               11725,\n",
       "               14070,\n",
       "               16415,\n",
       "               18760,\n",
       "               21105,\n",
       "               23450],\n",
       "              [0.7415,\n",
       "               0.75285,\n",
       "               0.7336666666666667,\n",
       "               0.748125,\n",
       "               0.75126,\n",
       "               0.7372833333333333,\n",
       "               0.7237714285714286,\n",
       "               0.706225,\n",
       "               0.7143,\n",
       "               0.71607]),\n",
       "             'StreamForgetting/eval_phase/test_stream': ([2345,\n",
       "               4690,\n",
       "               7035,\n",
       "               9380,\n",
       "               11725,\n",
       "               14070,\n",
       "               16415,\n",
       "               18760,\n",
       "               21105,\n",
       "               23450],\n",
       "              [0.0,\n",
       "               0.02440000000000009,\n",
       "               0.06415000000000004,\n",
       "               0.04933333333333334,\n",
       "               0.050925000000000026,\n",
       "               0.07325999999999999,\n",
       "               0.09288333333333333,\n",
       "               0.11618571428571432,\n",
       "               0.1100875,\n",
       "               0.11074444444444445]),\n",
       "             'StreamBWT/eval_phase/test_stream': ([2345,\n",
       "               4690,\n",
       "               7035,\n",
       "               9380,\n",
       "               11725,\n",
       "               14070,\n",
       "               16415,\n",
       "               18760,\n",
       "               21105,\n",
       "               23450],\n",
       "              [0.0,\n",
       "               -0.02440000000000009,\n",
       "               -0.06415000000000004,\n",
       "               -0.04933333333333334,\n",
       "               -0.050925000000000026,\n",
       "               -0.07325999999999999,\n",
       "               -0.09288333333333333,\n",
       "               -0.11618571428571432,\n",
       "               -0.1100875,\n",
       "               -0.11074444444444445]),\n",
       "             'ExperienceForgetting/eval_phase/train_stream/Task000/Exp000': ([4690,\n",
       "               7035,\n",
       "               9380,\n",
       "               11725,\n",
       "               14070,\n",
       "               16415,\n",
       "               18760,\n",
       "               21105,\n",
       "               23450],\n",
       "              [0.032233333333333336,\n",
       "               0.09915000000000007,\n",
       "               0.11063333333333336,\n",
       "               0.13441666666666674,\n",
       "               0.18008333333333337,\n",
       "               0.24181666666666674,\n",
       "               0.32441666666666674,\n",
       "               0.27160000000000006,\n",
       "               0.27943333333333337]),\n",
       "             'ExperienceBWT/eval_phase/train_stream/Task000/Exp000': ([4690,\n",
       "               7035,\n",
       "               9380,\n",
       "               11725,\n",
       "               14070,\n",
       "               16415,\n",
       "               18760,\n",
       "               21105,\n",
       "               23450],\n",
       "              [-0.032233333333333336,\n",
       "               -0.09915000000000007,\n",
       "               -0.11063333333333336,\n",
       "               -0.13441666666666674,\n",
       "               -0.18008333333333337,\n",
       "               -0.24181666666666674,\n",
       "               -0.32441666666666674,\n",
       "               -0.27160000000000006,\n",
       "               -0.27943333333333337]),\n",
       "             'ExperienceForgetting/eval_phase/test_stream/Task000/Exp000': ([4690,\n",
       "               7035,\n",
       "               9380,\n",
       "               11725,\n",
       "               14070,\n",
       "               16415,\n",
       "               18760,\n",
       "               21105,\n",
       "               23450],\n",
       "              [0.02440000000000009,\n",
       "               0.10110000000000008,\n",
       "               0.11150000000000004,\n",
       "               0.13340000000000007,\n",
       "               0.17930000000000001,\n",
       "               0.24450000000000005,\n",
       "               0.3269,\n",
       "               0.28,\n",
       "               0.27860000000000007]),\n",
       "             'ExperienceBWT/eval_phase/test_stream/Task000/Exp000': ([4690,\n",
       "               7035,\n",
       "               9380,\n",
       "               11725,\n",
       "               14070,\n",
       "               16415,\n",
       "               18760,\n",
       "               21105,\n",
       "               23450],\n",
       "              [-0.02440000000000009,\n",
       "               -0.10110000000000008,\n",
       "               -0.11150000000000004,\n",
       "               -0.13340000000000007,\n",
       "               -0.17930000000000001,\n",
       "               -0.24450000000000005,\n",
       "               -0.3269,\n",
       "               -0.28,\n",
       "               -0.27860000000000007]),\n",
       "             'ExperienceForgetting/eval_phase/train_stream/Task000/Exp001': ([7035,\n",
       "               9380,\n",
       "               11725,\n",
       "               14070,\n",
       "               16415,\n",
       "               18760,\n",
       "               21105,\n",
       "               23450],\n",
       "              [0.03018333333333334,\n",
       "               0.0375833333333333,\n",
       "               0.03806666666666658,\n",
       "               0.07804999999999995,\n",
       "               0.11995,\n",
       "               0.16344999999999998,\n",
       "               0.17641666666666667,\n",
       "               0.19489999999999996]),\n",
       "             'ExperienceBWT/eval_phase/train_stream/Task000/Exp001': ([7035,\n",
       "               9380,\n",
       "               11725,\n",
       "               14070,\n",
       "               16415,\n",
       "               18760,\n",
       "               21105,\n",
       "               23450],\n",
       "              [-0.03018333333333334,\n",
       "               -0.0375833333333333,\n",
       "               -0.03806666666666658,\n",
       "               -0.07804999999999995,\n",
       "               -0.11995,\n",
       "               -0.16344999999999998,\n",
       "               -0.17641666666666667,\n",
       "               -0.19489999999999996]),\n",
       "             'ExperienceForgetting/eval_phase/test_stream/Task000/Exp001': ([7035,\n",
       "               9380,\n",
       "               11725,\n",
       "               14070,\n",
       "               16415,\n",
       "               18760,\n",
       "               21105,\n",
       "               23450],\n",
       "              [0.027200000000000002,\n",
       "               0.034499999999999975,\n",
       "               0.03520000000000001,\n",
       "               0.07029999999999992,\n",
       "               0.11119999999999997,\n",
       "               0.15410000000000001,\n",
       "               0.16069999999999995,\n",
       "               0.17969999999999997]),\n",
       "             'ExperienceBWT/eval_phase/test_stream/Task000/Exp001': ([7035,\n",
       "               9380,\n",
       "               11725,\n",
       "               14070,\n",
       "               16415,\n",
       "               18760,\n",
       "               21105,\n",
       "               23450],\n",
       "              [-0.027200000000000002,\n",
       "               -0.034499999999999975,\n",
       "               -0.03520000000000001,\n",
       "               -0.07029999999999992,\n",
       "               -0.11119999999999997,\n",
       "               -0.15410000000000001,\n",
       "               -0.16069999999999995,\n",
       "               -0.17969999999999997]),\n",
       "             'ExperienceForgetting/eval_phase/train_stream/Task000/Exp002': ([9380,\n",
       "               11725,\n",
       "               14070,\n",
       "               16415,\n",
       "               18760,\n",
       "               21105,\n",
       "               23450],\n",
       "              [0.008400000000000074,\n",
       "               0.00934999999999997,\n",
       "               0.04754999999999998,\n",
       "               0.08560000000000001,\n",
       "               0.1274333333333334,\n",
       "               0.15118333333333334,\n",
       "               0.16288333333333338]),\n",
       "             'ExperienceBWT/eval_phase/train_stream/Task000/Exp002': ([9380,\n",
       "               11725,\n",
       "               14070,\n",
       "               16415,\n",
       "               18760,\n",
       "               21105,\n",
       "               23450],\n",
       "              [-0.008400000000000074,\n",
       "               -0.00934999999999997,\n",
       "               -0.04754999999999998,\n",
       "               -0.08560000000000001,\n",
       "               -0.1274333333333334,\n",
       "               -0.15118333333333334,\n",
       "               -0.16288333333333338]),\n",
       "             'ExperienceForgetting/eval_phase/test_stream/Task000/Exp002': ([9380,\n",
       "               11725,\n",
       "               14070,\n",
       "               16415,\n",
       "               18760,\n",
       "               21105,\n",
       "               23450],\n",
       "              [0.0020000000000000018,\n",
       "               0.0040000000000000036,\n",
       "               0.045499999999999985,\n",
       "               0.08760000000000001,\n",
       "               0.13240000000000007,\n",
       "               0.15190000000000003,\n",
       "               0.1603]),\n",
       "             'ExperienceBWT/eval_phase/test_stream/Task000/Exp002': ([9380,\n",
       "               11725,\n",
       "               14070,\n",
       "               16415,\n",
       "               18760,\n",
       "               21105,\n",
       "               23450],\n",
       "              [-0.0020000000000000018,\n",
       "               -0.0040000000000000036,\n",
       "               -0.045499999999999985,\n",
       "               -0.08760000000000001,\n",
       "               -0.13240000000000007,\n",
       "               -0.15190000000000003,\n",
       "               -0.1603]),\n",
       "             'ExperienceForgetting/eval_phase/train_stream/Task000/Exp003': ([11725,\n",
       "               14070,\n",
       "               16415,\n",
       "               18760,\n",
       "               21105,\n",
       "               23450],\n",
       "              [0.03320000000000001,\n",
       "               0.05336666666666667,\n",
       "               0.051716666666666744,\n",
       "               0.06043333333333334,\n",
       "               0.08679999999999999,\n",
       "               0.10035000000000005]),\n",
       "             'ExperienceBWT/eval_phase/train_stream/Task000/Exp003': ([11725,\n",
       "               14070,\n",
       "               16415,\n",
       "               18760,\n",
       "               21105,\n",
       "               23450],\n",
       "              [-0.03320000000000001,\n",
       "               -0.05336666666666667,\n",
       "               -0.051716666666666744,\n",
       "               -0.06043333333333334,\n",
       "               -0.08679999999999999,\n",
       "               -0.10035000000000005]),\n",
       "             'ExperienceForgetting/eval_phase/test_stream/Task000/Exp003': ([11725,\n",
       "               14070,\n",
       "               16415,\n",
       "               18760,\n",
       "               21105,\n",
       "               23450],\n",
       "              [0.031100000000000017,\n",
       "               0.049900000000000055,\n",
       "               0.04490000000000005,\n",
       "               0.06300000000000006,\n",
       "               0.0806,\n",
       "               0.09560000000000002]),\n",
       "             'ExperienceBWT/eval_phase/test_stream/Task000/Exp003': ([11725,\n",
       "               14070,\n",
       "               16415,\n",
       "               18760,\n",
       "               21105,\n",
       "               23450],\n",
       "              [-0.031100000000000017,\n",
       "               -0.049900000000000055,\n",
       "               -0.04490000000000005,\n",
       "               -0.06300000000000006,\n",
       "               -0.0806,\n",
       "               -0.09560000000000002]),\n",
       "             'ExperienceForgetting/eval_phase/train_stream/Task000/Exp004': ([14070,\n",
       "               16415,\n",
       "               18760,\n",
       "               21105,\n",
       "               23450],\n",
       "              [0.02300000000000002,\n",
       "               0.043950000000000045,\n",
       "               0.06811666666666671,\n",
       "               0.07774999999999999,\n",
       "               0.08248333333333335]),\n",
       "             'ExperienceBWT/eval_phase/train_stream/Task000/Exp004': ([14070,\n",
       "               16415,\n",
       "               18760,\n",
       "               21105,\n",
       "               23450],\n",
       "              [-0.02300000000000002,\n",
       "               -0.043950000000000045,\n",
       "               -0.06811666666666671,\n",
       "               -0.07774999999999999,\n",
       "               -0.08248333333333335]),\n",
       "             'ExperienceForgetting/eval_phase/test_stream/Task000/Exp004': ([14070,\n",
       "               16415,\n",
       "               18760,\n",
       "               21105,\n",
       "               23450],\n",
       "              [0.021299999999999986,\n",
       "               0.045599999999999974,\n",
       "               0.0665,\n",
       "               0.08250000000000002,\n",
       "               0.08689999999999998]),\n",
       "             'ExperienceBWT/eval_phase/test_stream/Task000/Exp004': ([14070,\n",
       "               16415,\n",
       "               18760,\n",
       "               21105,\n",
       "               23450],\n",
       "              [-0.021299999999999986,\n",
       "               -0.045599999999999974,\n",
       "               -0.0665,\n",
       "               -0.08250000000000002,\n",
       "               -0.08689999999999998]),\n",
       "             'ExperienceForgetting/eval_phase/train_stream/Task000/Exp005': ([16415,\n",
       "               18760,\n",
       "               21105,\n",
       "               23450],\n",
       "              [0.022683333333333278,\n",
       "               0.04844999999999999,\n",
       "               0.07078333333333331,\n",
       "               0.08460000000000001]),\n",
       "             'ExperienceBWT/eval_phase/train_stream/Task000/Exp005': ([16415,\n",
       "               18760,\n",
       "               21105,\n",
       "               23450],\n",
       "              [-0.022683333333333278,\n",
       "               -0.04844999999999999,\n",
       "               -0.07078333333333331,\n",
       "               -0.08460000000000001]),\n",
       "             'ExperienceForgetting/eval_phase/test_stream/Task000/Exp005': ([16415,\n",
       "               18760,\n",
       "               21105,\n",
       "               23450],\n",
       "              [0.023499999999999965,\n",
       "               0.0464,\n",
       "               0.06899999999999995,\n",
       "               0.08699999999999997]),\n",
       "             'ExperienceBWT/eval_phase/test_stream/Task000/Exp005': ([16415,\n",
       "               18760,\n",
       "               21105,\n",
       "               23450],\n",
       "              [-0.023499999999999965,\n",
       "               -0.0464,\n",
       "               -0.06899999999999995,\n",
       "               -0.08699999999999997]),\n",
       "             'ExperienceForgetting/eval_phase/train_stream/Task000/Exp006': ([18760,\n",
       "               21105,\n",
       "               23450],\n",
       "              [0.02210000000000001,\n",
       "               0.032399999999999984,\n",
       "               0.04688333333333328]),\n",
       "             'ExperienceBWT/eval_phase/train_stream/Task000/Exp006': ([18760,\n",
       "               21105,\n",
       "               23450],\n",
       "              [-0.02210000000000001,\n",
       "               -0.032399999999999984,\n",
       "               -0.04688333333333328]),\n",
       "             'ExperienceForgetting/eval_phase/test_stream/Task000/Exp006': ([18760,\n",
       "               21105,\n",
       "               23450],\n",
       "              [0.02400000000000002,\n",
       "               0.030399999999999983,\n",
       "               0.041100000000000025]),\n",
       "             'ExperienceBWT/eval_phase/test_stream/Task000/Exp006': ([18760,\n",
       "               21105,\n",
       "               23450],\n",
       "              [-0.02400000000000002,\n",
       "               -0.030399999999999983,\n",
       "               -0.041100000000000025]),\n",
       "             'ExperienceForgetting/eval_phase/train_stream/Task000/Exp007': ([21105,\n",
       "               23450],\n",
       "              [0.03293333333333337, 0.0427333333333334]),\n",
       "             'ExperienceBWT/eval_phase/train_stream/Task000/Exp007': ([21105,\n",
       "               23450],\n",
       "              [-0.03293333333333337, -0.0427333333333334]),\n",
       "             'ExperienceForgetting/eval_phase/test_stream/Task000/Exp007': ([21105,\n",
       "               23450],\n",
       "              [0.025600000000000067, 0.0373]),\n",
       "             'ExperienceBWT/eval_phase/test_stream/Task000/Exp007': ([21105,\n",
       "               23450],\n",
       "              [-0.025600000000000067, -0.0373]),\n",
       "             'ExperienceForgetting/eval_phase/train_stream/Task000/Exp008': ([23450],\n",
       "              [0.03541666666666676]),\n",
       "             'ExperienceBWT/eval_phase/train_stream/Task000/Exp008': ([23450],\n",
       "              [-0.03541666666666676]),\n",
       "             'ExperienceForgetting/eval_phase/test_stream/Task000/Exp008': ([23450],\n",
       "              [0.030200000000000005]),\n",
       "             'ExperienceBWT/eval_phase/test_stream/Task000/Exp008': ([23450],\n",
       "              [-0.030200000000000005])})"
      ]
     },
     "execution_count": 81,
     "metadata": {},
     "output_type": "execute_result"
    }
   ],
   "source": [
    "eval_plugin.get_all_metrics()"
   ]
  },
  {
   "cell_type": "code",
   "execution_count": 76,
   "metadata": {},
   "outputs": [
    {
     "data": {
      "text/plain": [
       "[{'Top1_Acc_Exp/eval_phase/test_stream/Task000/Exp000': 0.7742,\n",
       "  'Top1_Acc_Exp/eval_phase/test_stream/Task000/Exp001': 0.1637,\n",
       "  'Top1_Acc_Exp/eval_phase/test_stream/Task000/Exp002': 0.1197,\n",
       "  'Top1_Acc_Exp/eval_phase/test_stream/Task000/Exp003': 0.1149,\n",
       "  'Top1_Acc_Exp/eval_phase/test_stream/Task000/Exp004': 0.2006,\n",
       "  'Top1_Acc_Exp/eval_phase/test_stream/Task000/Exp005': 0.0881,\n",
       "  'Top1_Acc_Exp/eval_phase/test_stream/Task000/Exp006': 0.1976,\n",
       "  'Top1_Acc_Exp/eval_phase/test_stream/Task000/Exp007': 0.1815,\n",
       "  'Top1_Acc_Exp/eval_phase/test_stream/Task000/Exp008': 0.2237,\n",
       "  'Top1_Acc_Exp/eval_phase/test_stream/Task000/Exp009': 0.1609,\n",
       "  'Top1_Acc_Stream/eval_phase/test_stream/Task000': 0.22249,\n",
       "  'Accuracy_On_Trained_Experiences/eval_phase/test_stream/Task000': 0.7742,\n",
       "  'StreamForgetting/eval_phase/test_stream': 0.0,\n",
       "  'StreamBWT/eval_phase/test_stream': 0.0},\n",
       " {'Top1_Acc_Exp/eval_phase/test_stream/Task000/Exp000': 0.7235,\n",
       "  'Top1_Acc_Exp/eval_phase/test_stream/Task000/Exp001': 0.7911,\n",
       "  'Top1_Acc_Exp/eval_phase/test_stream/Task000/Exp002': 0.1886,\n",
       "  'Top1_Acc_Exp/eval_phase/test_stream/Task000/Exp003': 0.1442,\n",
       "  'Top1_Acc_Exp/eval_phase/test_stream/Task000/Exp004': 0.2094,\n",
       "  'Top1_Acc_Exp/eval_phase/test_stream/Task000/Exp005': 0.0768,\n",
       "  'Top1_Acc_Exp/eval_phase/test_stream/Task000/Exp006': 0.1643,\n",
       "  'Top1_Acc_Exp/eval_phase/test_stream/Task000/Exp007': 0.1507,\n",
       "  'Top1_Acc_Exp/eval_phase/test_stream/Task000/Exp008': 0.2033,\n",
       "  'Top1_Acc_Exp/eval_phase/test_stream/Task000/Exp009': 0.1984,\n",
       "  'Top1_Acc_Stream/eval_phase/test_stream/Task000': 0.28503,\n",
       "  'Accuracy_On_Trained_Experiences/eval_phase/test_stream/Task000': 0.7573,\n",
       "  'StreamForgetting/eval_phase/test_stream': 0.05069999999999997,\n",
       "  'StreamBWT/eval_phase/test_stream': -0.05069999999999997,\n",
       "  'ExperienceForgetting/eval_phase/test_stream/Task000/Exp000': 0.05069999999999997,\n",
       "  'ExperienceBWT/eval_phase/test_stream/Task000/Exp000': -0.05069999999999997},\n",
       " {'Top1_Acc_Exp/eval_phase/test_stream/Task000/Exp000': 0.6965,\n",
       "  'Top1_Acc_Exp/eval_phase/test_stream/Task000/Exp001': 0.753,\n",
       "  'Top1_Acc_Exp/eval_phase/test_stream/Task000/Exp002': 0.7977,\n",
       "  'Top1_Acc_Exp/eval_phase/test_stream/Task000/Exp003': 0.1134,\n",
       "  'Top1_Acc_Exp/eval_phase/test_stream/Task000/Exp004': 0.1702,\n",
       "  'Top1_Acc_Exp/eval_phase/test_stream/Task000/Exp005': 0.107,\n",
       "  'Top1_Acc_Exp/eval_phase/test_stream/Task000/Exp006': 0.1516,\n",
       "  'Top1_Acc_Exp/eval_phase/test_stream/Task000/Exp007': 0.1631,\n",
       "  'Top1_Acc_Exp/eval_phase/test_stream/Task000/Exp008': 0.2009,\n",
       "  'Top1_Acc_Exp/eval_phase/test_stream/Task000/Exp009': 0.1231,\n",
       "  'Top1_Acc_Stream/eval_phase/test_stream/Task000': 0.32765,\n",
       "  'Accuracy_On_Trained_Experiences/eval_phase/test_stream/Task000': 0.7490666666666667,\n",
       "  'StreamForgetting/eval_phase/test_stream': 0.05790000000000001,\n",
       "  'StreamBWT/eval_phase/test_stream': -0.05790000000000001,\n",
       "  'ExperienceForgetting/eval_phase/test_stream/Task000/Exp000': 0.07769999999999999,\n",
       "  'ExperienceBWT/eval_phase/test_stream/Task000/Exp000': -0.07769999999999999,\n",
       "  'ExperienceForgetting/eval_phase/test_stream/Task000/Exp001': 0.03810000000000002,\n",
       "  'ExperienceBWT/eval_phase/test_stream/Task000/Exp001': -0.03810000000000002},\n",
       " {'Top1_Acc_Exp/eval_phase/test_stream/Task000/Exp000': 0.6055,\n",
       "  'Top1_Acc_Exp/eval_phase/test_stream/Task000/Exp001': 0.7635,\n",
       "  'Top1_Acc_Exp/eval_phase/test_stream/Task000/Exp002': 0.7923,\n",
       "  'Top1_Acc_Exp/eval_phase/test_stream/Task000/Exp003': 0.8214,\n",
       "  'Top1_Acc_Exp/eval_phase/test_stream/Task000/Exp004': 0.1556,\n",
       "  'Top1_Acc_Exp/eval_phase/test_stream/Task000/Exp005': 0.072,\n",
       "  'Top1_Acc_Exp/eval_phase/test_stream/Task000/Exp006': 0.1826,\n",
       "  'Top1_Acc_Exp/eval_phase/test_stream/Task000/Exp007': 0.1984,\n",
       "  'Top1_Acc_Exp/eval_phase/test_stream/Task000/Exp008': 0.1769,\n",
       "  'Top1_Acc_Exp/eval_phase/test_stream/Task000/Exp009': 0.1116,\n",
       "  'Top1_Acc_Stream/eval_phase/test_stream/Task000': 0.38798,\n",
       "  'Accuracy_On_Trained_Experiences/eval_phase/test_stream/Task000': 0.745675,\n",
       "  'StreamForgetting/eval_phase/test_stream': 0.06723333333333333,\n",
       "  'StreamBWT/eval_phase/test_stream': -0.06723333333333333,\n",
       "  'ExperienceForgetting/eval_phase/test_stream/Task000/Exp000': 0.16869999999999996,\n",
       "  'ExperienceBWT/eval_phase/test_stream/Task000/Exp000': -0.16869999999999996,\n",
       "  'ExperienceForgetting/eval_phase/test_stream/Task000/Exp001': 0.02760000000000007,\n",
       "  'ExperienceBWT/eval_phase/test_stream/Task000/Exp001': -0.02760000000000007,\n",
       "  'ExperienceForgetting/eval_phase/test_stream/Task000/Exp002': 0.00539999999999996,\n",
       "  'ExperienceBWT/eval_phase/test_stream/Task000/Exp002': -0.00539999999999996},\n",
       " {'Top1_Acc_Exp/eval_phase/test_stream/Task000/Exp000': 0.5883,\n",
       "  'Top1_Acc_Exp/eval_phase/test_stream/Task000/Exp001': 0.7364,\n",
       "  'Top1_Acc_Exp/eval_phase/test_stream/Task000/Exp002': 0.7826,\n",
       "  'Top1_Acc_Exp/eval_phase/test_stream/Task000/Exp003': 0.7959,\n",
       "  'Top1_Acc_Exp/eval_phase/test_stream/Task000/Exp004': 0.8236,\n",
       "  'Top1_Acc_Exp/eval_phase/test_stream/Task000/Exp005': 0.0812,\n",
       "  'Top1_Acc_Exp/eval_phase/test_stream/Task000/Exp006': 0.1177,\n",
       "  'Top1_Acc_Exp/eval_phase/test_stream/Task000/Exp007': 0.1727,\n",
       "  'Top1_Acc_Exp/eval_phase/test_stream/Task000/Exp008': 0.1766,\n",
       "  'Top1_Acc_Exp/eval_phase/test_stream/Task000/Exp009': 0.131,\n",
       "  'Top1_Acc_Stream/eval_phase/test_stream/Task000': 0.4406,\n",
       "  'Accuracy_On_Trained_Experiences/eval_phase/test_stream/Task000': 0.74536,\n",
       "  'StreamForgetting/eval_phase/test_stream': 0.07029999999999997,\n",
       "  'StreamBWT/eval_phase/test_stream': -0.07029999999999997,\n",
       "  'ExperienceForgetting/eval_phase/test_stream/Task000/Exp000': 0.18589999999999995,\n",
       "  'ExperienceBWT/eval_phase/test_stream/Task000/Exp000': -0.18589999999999995,\n",
       "  'ExperienceForgetting/eval_phase/test_stream/Task000/Exp001': 0.05469999999999997,\n",
       "  'ExperienceBWT/eval_phase/test_stream/Task000/Exp001': -0.05469999999999997,\n",
       "  'ExperienceForgetting/eval_phase/test_stream/Task000/Exp002': 0.015100000000000002,\n",
       "  'ExperienceBWT/eval_phase/test_stream/Task000/Exp002': -0.015100000000000002,\n",
       "  'ExperienceForgetting/eval_phase/test_stream/Task000/Exp003': 0.025499999999999967,\n",
       "  'ExperienceBWT/eval_phase/test_stream/Task000/Exp003': -0.025499999999999967},\n",
       " {'Top1_Acc_Exp/eval_phase/test_stream/Task000/Exp000': 0.5299,\n",
       "  'Top1_Acc_Exp/eval_phase/test_stream/Task000/Exp001': 0.7009,\n",
       "  'Top1_Acc_Exp/eval_phase/test_stream/Task000/Exp002': 0.7672,\n",
       "  'Top1_Acc_Exp/eval_phase/test_stream/Task000/Exp003': 0.7857,\n",
       "  'Top1_Acc_Exp/eval_phase/test_stream/Task000/Exp004': 0.8163,\n",
       "  'Top1_Acc_Exp/eval_phase/test_stream/Task000/Exp005': 0.8388,\n",
       "  'Top1_Acc_Exp/eval_phase/test_stream/Task000/Exp006': 0.135,\n",
       "  'Top1_Acc_Exp/eval_phase/test_stream/Task000/Exp007': 0.2088,\n",
       "  'Top1_Acc_Exp/eval_phase/test_stream/Task000/Exp008': 0.1632,\n",
       "  'Top1_Acc_Exp/eval_phase/test_stream/Task000/Exp009': 0.1334,\n",
       "  'Top1_Acc_Stream/eval_phase/test_stream/Task000': 0.50792,\n",
       "  'Accuracy_On_Trained_Experiences/eval_phase/test_stream/Task000': 0.7398,\n",
       "  'StreamForgetting/eval_phase/test_stream': 0.0816,\n",
       "  'StreamBWT/eval_phase/test_stream': -0.0816,\n",
       "  'ExperienceForgetting/eval_phase/test_stream/Task000/Exp000': 0.24429999999999996,\n",
       "  'ExperienceBWT/eval_phase/test_stream/Task000/Exp000': -0.24429999999999996,\n",
       "  'ExperienceForgetting/eval_phase/test_stream/Task000/Exp001': 0.09020000000000006,\n",
       "  'ExperienceBWT/eval_phase/test_stream/Task000/Exp001': -0.09020000000000006,\n",
       "  'ExperienceForgetting/eval_phase/test_stream/Task000/Exp002': 0.03049999999999997,\n",
       "  'ExperienceBWT/eval_phase/test_stream/Task000/Exp002': -0.03049999999999997,\n",
       "  'ExperienceForgetting/eval_phase/test_stream/Task000/Exp003': 0.035700000000000065,\n",
       "  'ExperienceBWT/eval_phase/test_stream/Task000/Exp003': -0.035700000000000065,\n",
       "  'ExperienceForgetting/eval_phase/test_stream/Task000/Exp004': 0.007299999999999973,\n",
       "  'ExperienceBWT/eval_phase/test_stream/Task000/Exp004': -0.007299999999999973},\n",
       " {'Top1_Acc_Exp/eval_phase/test_stream/Task000/Exp000': 0.555,\n",
       "  'Top1_Acc_Exp/eval_phase/test_stream/Task000/Exp001': 0.7014,\n",
       "  'Top1_Acc_Exp/eval_phase/test_stream/Task000/Exp002': 0.7449,\n",
       "  'Top1_Acc_Exp/eval_phase/test_stream/Task000/Exp003': 0.764,\n",
       "  'Top1_Acc_Exp/eval_phase/test_stream/Task000/Exp004': 0.793,\n",
       "  'Top1_Acc_Exp/eval_phase/test_stream/Task000/Exp005': 0.8218,\n",
       "  'Top1_Acc_Exp/eval_phase/test_stream/Task000/Exp006': 0.8309,\n",
       "  'Top1_Acc_Exp/eval_phase/test_stream/Task000/Exp007': 0.1461,\n",
       "  'Top1_Acc_Exp/eval_phase/test_stream/Task000/Exp008': 0.1467,\n",
       "  'Top1_Acc_Exp/eval_phase/test_stream/Task000/Exp009': 0.1158,\n",
       "  'Top1_Acc_Stream/eval_phase/test_stream/Task000': 0.56196,\n",
       "  'Accuracy_On_Trained_Experiences/eval_phase/test_stream/Task000': 0.7444285714285714,\n",
       "  'StreamForgetting/eval_phase/test_stream': 0.07778333333333332,\n",
       "  'StreamBWT/eval_phase/test_stream': -0.07778333333333332,\n",
       "  'ExperienceForgetting/eval_phase/test_stream/Task000/Exp000': 0.21919999999999995,\n",
       "  'ExperienceBWT/eval_phase/test_stream/Task000/Exp000': -0.21919999999999995,\n",
       "  'ExperienceForgetting/eval_phase/test_stream/Task000/Exp001': 0.0897,\n",
       "  'ExperienceBWT/eval_phase/test_stream/Task000/Exp001': -0.0897,\n",
       "  'ExperienceForgetting/eval_phase/test_stream/Task000/Exp002': 0.05279999999999996,\n",
       "  'ExperienceBWT/eval_phase/test_stream/Task000/Exp002': -0.05279999999999996,\n",
       "  'ExperienceForgetting/eval_phase/test_stream/Task000/Exp003': 0.05740000000000001,\n",
       "  'ExperienceBWT/eval_phase/test_stream/Task000/Exp003': -0.05740000000000001,\n",
       "  'ExperienceForgetting/eval_phase/test_stream/Task000/Exp004': 0.03059999999999996,\n",
       "  'ExperienceBWT/eval_phase/test_stream/Task000/Exp004': -0.03059999999999996,\n",
       "  'ExperienceForgetting/eval_phase/test_stream/Task000/Exp005': 0.017000000000000015,\n",
       "  'ExperienceBWT/eval_phase/test_stream/Task000/Exp005': -0.017000000000000015},\n",
       " {'Top1_Acc_Exp/eval_phase/test_stream/Task000/Exp000': 0.4704,\n",
       "  'Top1_Acc_Exp/eval_phase/test_stream/Task000/Exp001': 0.6574,\n",
       "  'Top1_Acc_Exp/eval_phase/test_stream/Task000/Exp002': 0.6856,\n",
       "  'Top1_Acc_Exp/eval_phase/test_stream/Task000/Exp003': 0.7486,\n",
       "  'Top1_Acc_Exp/eval_phase/test_stream/Task000/Exp004': 0.7662,\n",
       "  'Top1_Acc_Exp/eval_phase/test_stream/Task000/Exp005': 0.807,\n",
       "  'Top1_Acc_Exp/eval_phase/test_stream/Task000/Exp006': 0.8056,\n",
       "  'Top1_Acc_Exp/eval_phase/test_stream/Task000/Exp007': 0.8375,\n",
       "  'Top1_Acc_Exp/eval_phase/test_stream/Task000/Exp008': 0.132,\n",
       "  'Top1_Acc_Exp/eval_phase/test_stream/Task000/Exp009': 0.1135,\n",
       "  'Top1_Acc_Stream/eval_phase/test_stream/Task000': 0.60238,\n",
       "  'Accuracy_On_Trained_Experiences/eval_phase/test_stream/Task000': 0.7222875,\n",
       "  'StreamForgetting/eval_phase/test_stream': 0.10527142857142857,\n",
       "  'StreamBWT/eval_phase/test_stream': -0.10527142857142857,\n",
       "  'ExperienceForgetting/eval_phase/test_stream/Task000/Exp000': 0.3038,\n",
       "  'ExperienceBWT/eval_phase/test_stream/Task000/Exp000': -0.3038,\n",
       "  'ExperienceForgetting/eval_phase/test_stream/Task000/Exp001': 0.13370000000000004,\n",
       "  'ExperienceBWT/eval_phase/test_stream/Task000/Exp001': -0.13370000000000004,\n",
       "  'ExperienceForgetting/eval_phase/test_stream/Task000/Exp002': 0.11209999999999998,\n",
       "  'ExperienceBWT/eval_phase/test_stream/Task000/Exp002': -0.11209999999999998,\n",
       "  'ExperienceForgetting/eval_phase/test_stream/Task000/Exp003': 0.07279999999999998,\n",
       "  'ExperienceBWT/eval_phase/test_stream/Task000/Exp003': -0.07279999999999998,\n",
       "  'ExperienceForgetting/eval_phase/test_stream/Task000/Exp004': 0.05740000000000001,\n",
       "  'ExperienceBWT/eval_phase/test_stream/Task000/Exp004': -0.05740000000000001,\n",
       "  'ExperienceForgetting/eval_phase/test_stream/Task000/Exp005': 0.03179999999999994,\n",
       "  'ExperienceBWT/eval_phase/test_stream/Task000/Exp005': -0.03179999999999994,\n",
       "  'ExperienceForgetting/eval_phase/test_stream/Task000/Exp006': 0.02529999999999999,\n",
       "  'ExperienceBWT/eval_phase/test_stream/Task000/Exp006': -0.02529999999999999},\n",
       " {'Top1_Acc_Exp/eval_phase/test_stream/Task000/Exp000': 0.5234,\n",
       "  'Top1_Acc_Exp/eval_phase/test_stream/Task000/Exp001': 0.6033,\n",
       "  'Top1_Acc_Exp/eval_phase/test_stream/Task000/Exp002': 0.6766,\n",
       "  'Top1_Acc_Exp/eval_phase/test_stream/Task000/Exp003': 0.738,\n",
       "  'Top1_Acc_Exp/eval_phase/test_stream/Task000/Exp004': 0.7526,\n",
       "  'Top1_Acc_Exp/eval_phase/test_stream/Task000/Exp005': 0.7603,\n",
       "  'Top1_Acc_Exp/eval_phase/test_stream/Task000/Exp006': 0.7931,\n",
       "  'Top1_Acc_Exp/eval_phase/test_stream/Task000/Exp007': 0.8163,\n",
       "  'Top1_Acc_Exp/eval_phase/test_stream/Task000/Exp008': 0.8495,\n",
       "  'Top1_Acc_Exp/eval_phase/test_stream/Task000/Exp009': 0.1405,\n",
       "  'Top1_Acc_Stream/eval_phase/test_stream/Task000': 0.66536,\n",
       "  'Accuracy_On_Trained_Experiences/eval_phase/test_stream/Task000': 0.7236777777777778,\n",
       "  'StreamForgetting/eval_phase/test_stream': 0.10645,\n",
       "  'StreamBWT/eval_phase/test_stream': -0.10645,\n",
       "  'ExperienceForgetting/eval_phase/test_stream/Task000/Exp000': 0.2508,\n",
       "  'ExperienceBWT/eval_phase/test_stream/Task000/Exp000': -0.2508,\n",
       "  'ExperienceForgetting/eval_phase/test_stream/Task000/Exp001': 0.18780000000000008,\n",
       "  'ExperienceBWT/eval_phase/test_stream/Task000/Exp001': -0.18780000000000008,\n",
       "  'ExperienceForgetting/eval_phase/test_stream/Task000/Exp002': 0.12109999999999999,\n",
       "  'ExperienceBWT/eval_phase/test_stream/Task000/Exp002': -0.12109999999999999,\n",
       "  'ExperienceForgetting/eval_phase/test_stream/Task000/Exp003': 0.08340000000000003,\n",
       "  'ExperienceBWT/eval_phase/test_stream/Task000/Exp003': -0.08340000000000003,\n",
       "  'ExperienceForgetting/eval_phase/test_stream/Task000/Exp004': 0.07099999999999995,\n",
       "  'ExperienceBWT/eval_phase/test_stream/Task000/Exp004': -0.07099999999999995,\n",
       "  'ExperienceForgetting/eval_phase/test_stream/Task000/Exp005': 0.07850000000000001,\n",
       "  'ExperienceBWT/eval_phase/test_stream/Task000/Exp005': -0.07850000000000001,\n",
       "  'ExperienceForgetting/eval_phase/test_stream/Task000/Exp006': 0.037799999999999945,\n",
       "  'ExperienceBWT/eval_phase/test_stream/Task000/Exp006': -0.037799999999999945,\n",
       "  'ExperienceForgetting/eval_phase/test_stream/Task000/Exp007': 0.021199999999999997,\n",
       "  'ExperienceBWT/eval_phase/test_stream/Task000/Exp007': -0.021199999999999997},\n",
       " {'Top1_Acc_Exp/eval_phase/test_stream/Task000/Exp000': 0.508,\n",
       "  'Top1_Acc_Exp/eval_phase/test_stream/Task000/Exp001': 0.6,\n",
       "  'Top1_Acc_Exp/eval_phase/test_stream/Task000/Exp002': 0.6705,\n",
       "  'Top1_Acc_Exp/eval_phase/test_stream/Task000/Exp003': 0.7186,\n",
       "  'Top1_Acc_Exp/eval_phase/test_stream/Task000/Exp004': 0.7236,\n",
       "  'Top1_Acc_Exp/eval_phase/test_stream/Task000/Exp005': 0.7249,\n",
       "  'Top1_Acc_Exp/eval_phase/test_stream/Task000/Exp006': 0.7845,\n",
       "  'Top1_Acc_Exp/eval_phase/test_stream/Task000/Exp007': 0.8014,\n",
       "  'Top1_Acc_Exp/eval_phase/test_stream/Task000/Exp008': 0.8201,\n",
       "  'Top1_Acc_Exp/eval_phase/test_stream/Task000/Exp009': 0.8421,\n",
       "  'Top1_Acc_Stream/eval_phase/test_stream/Task000': 0.71937,\n",
       "  'Accuracy_On_Trained_Experiences/eval_phase/test_stream/Task000': 0.71937,\n",
       "  'StreamForgetting/eval_phase/test_stream': 0.11256666666666668,\n",
       "  'StreamBWT/eval_phase/test_stream': -0.11256666666666668,\n",
       "  'ExperienceForgetting/eval_phase/test_stream/Task000/Exp000': 0.2662,\n",
       "  'ExperienceBWT/eval_phase/test_stream/Task000/Exp000': -0.2662,\n",
       "  'ExperienceForgetting/eval_phase/test_stream/Task000/Exp001': 0.19110000000000005,\n",
       "  'ExperienceBWT/eval_phase/test_stream/Task000/Exp001': -0.19110000000000005,\n",
       "  'ExperienceForgetting/eval_phase/test_stream/Task000/Exp002': 0.12719999999999998,\n",
       "  'ExperienceBWT/eval_phase/test_stream/Task000/Exp002': -0.12719999999999998,\n",
       "  'ExperienceForgetting/eval_phase/test_stream/Task000/Exp003': 0.1028,\n",
       "  'ExperienceBWT/eval_phase/test_stream/Task000/Exp003': -0.1028,\n",
       "  'ExperienceForgetting/eval_phase/test_stream/Task000/Exp004': 0.09999999999999998,\n",
       "  'ExperienceBWT/eval_phase/test_stream/Task000/Exp004': -0.09999999999999998,\n",
       "  'ExperienceForgetting/eval_phase/test_stream/Task000/Exp005': 0.1139,\n",
       "  'ExperienceBWT/eval_phase/test_stream/Task000/Exp005': -0.1139,\n",
       "  'ExperienceForgetting/eval_phase/test_stream/Task000/Exp006': 0.0464,\n",
       "  'ExperienceBWT/eval_phase/test_stream/Task000/Exp006': -0.0464,\n",
       "  'ExperienceForgetting/eval_phase/test_stream/Task000/Exp007': 0.03610000000000002,\n",
       "  'ExperienceBWT/eval_phase/test_stream/Task000/Exp007': -0.03610000000000002,\n",
       "  'ExperienceForgetting/eval_phase/test_stream/Task000/Exp008': 0.02939999999999998,\n",
       "  'ExperienceBWT/eval_phase/test_stream/Task000/Exp008': -0.02939999999999998}]"
      ]
     },
     "execution_count": 76,
     "metadata": {},
     "output_type": "execute_result"
    }
   ],
   "source": [
    "results"
   ]
  },
  {
   "cell_type": "markdown",
   "metadata": {},
   "source": [
    "# Get metrics"
   ]
  },
  {
   "cell_type": "markdown",
   "metadata": {},
   "source": [
    "## Training Accuracies"
   ]
  },
  {
   "cell_type": "code",
   "execution_count": 88,
   "metadata": {},
   "outputs": [],
   "source": [
    "training_accuracies: dict[int, list[float]] = dict()\n",
    "\n",
    "for i in range(10):\n",
    "    training_accuracies[f\"Task{i}\"] = eval_plugin.get_all_metrics()[\n",
    "        f\"Top1_Acc_Exp/eval_phase/train_stream/Task000/Exp00{i}\"\n",
    "    ][1]\n",
    "\n",
    "training_accuracies[\"Overall\"] = eval_plugin.get_all_metrics()[\n",
    "    \"Top1_Acc_Stream/eval_phase/train_stream/Task000\"\n",
    "][1]"
   ]
  },
  {
   "cell_type": "markdown",
   "metadata": {},
   "source": [
    "## Evaluation Accuracies"
   ]
  },
  {
   "cell_type": "code",
   "execution_count": 89,
   "metadata": {},
   "outputs": [],
   "source": [
    "accuracies: dict[int, list[float]] = dict()\n",
    "\n",
    "for i in range(10):\n",
    "    accuracies[f\"Task{i}\"] = eval_plugin.get_all_metrics()[\n",
    "        f\"Top1_Acc_Exp/eval_phase/test_stream/Task000/Exp00{i}\"\n",
    "    ][1][-10:]\n",
    "\n",
    "accuracies[\"Overall\"] = eval_plugin.get_all_metrics()[\n",
    "    \"Top1_Acc_Stream/eval_phase/test_stream/Task000\"\n",
    "][1][-10:]"
   ]
  },
  {
   "cell_type": "markdown",
   "metadata": {},
   "source": [
    "## Forgetting measure"
   ]
  },
  {
   "cell_type": "code",
   "execution_count": 90,
   "metadata": {},
   "outputs": [],
   "source": [
    "forgetting_measures: dict[int, list[float]] = dict()\n",
    "\n",
    "for i in range(9):\n",
    "    forgetting_measures[f\"Task{i}\"] = eval_plugin.get_all_metrics()[\n",
    "        f\"ExperienceForgetting/eval_phase/test_stream/Task000/Exp00{i}\"\n",
    "    ][1]\n",
    "forgetting_measures[\"Overall\"] = eval_plugin.get_all_metrics()[\n",
    "    \"StreamForgetting/eval_phase/test_stream\"\n",
    "][1]"
   ]
  },
  {
   "cell_type": "markdown",
   "metadata": {},
   "source": [
    "## Backward Transfer"
   ]
  },
  {
   "cell_type": "code",
   "execution_count": 91,
   "metadata": {},
   "outputs": [],
   "source": [
    "bwts: dict[int, list[float]] = dict()\n",
    "\n",
    "for i in range(9):\n",
    "    bwts[f\"Task{i}\"] = eval_plugin.get_all_metrics()[\n",
    "        f\"ExperienceBWT/eval_phase/test_stream/Task000/Exp00{i}\"\n",
    "    ][1]\n",
    "bwts[\"Overall\"] = eval_plugin.get_all_metrics()[\n",
    "    \"StreamBWT/eval_phase/test_stream\"\n",
    "][1]"
   ]
  },
  {
   "cell_type": "markdown",
   "metadata": {},
   "source": [
    "# Plotting metrics"
   ]
  },
  {
   "cell_type": "markdown",
   "metadata": {},
   "source": [
    "## Traning accuracies"
   ]
  },
  {
   "cell_type": "code",
   "execution_count": 92,
   "metadata": {},
   "outputs": [
    {
     "data": {
      "application/vnd.plotly.v1+json": {
       "config": {
        "plotlyServerURL": "https://plot.ly"
       },
       "data": [
        {
         "hovertemplate": "variable=Task0<br>index=%{x}<br>value=%{y}<extra></extra>",
         "legendgroup": "Task0",
         "line": {
          "color": "#636efa",
          "dash": "solid"
         },
         "marker": {
          "symbol": "circle"
         },
         "mode": "lines",
         "name": "Task0",
         "orientation": "v",
         "showlegend": true,
         "type": "scatter",
         "x": [
          0,
          1,
          2,
          3,
          4,
          5,
          6,
          7,
          8,
          9
         ],
         "xaxis": "x",
         "y": [
          0.7375,
          0.7092666666666667,
          0.64235,
          0.6308666666666667,
          0.6070833333333333,
          0.5614166666666667,
          0.4996833333333333,
          0.4170833333333333,
          0.4699,
          0.4620666666666667
         ],
         "yaxis": "y"
        },
        {
         "hovertemplate": "variable=Task1<br>index=%{x}<br>value=%{y}<extra></extra>",
         "legendgroup": "Task1",
         "line": {
          "color": "#EF553B",
          "dash": "solid"
         },
         "marker": {
          "symbol": "circle"
         },
         "mode": "lines",
         "name": "Task1",
         "orientation": "v",
         "showlegend": true,
         "type": "scatter",
         "x": [
          0,
          1,
          2,
          3,
          4,
          5,
          6,
          7,
          8,
          9
         ],
         "xaxis": "x",
         "y": [
          0.17666666666666667,
          0.78205,
          0.7584166666666666,
          0.7510166666666667,
          0.7505333333333334,
          0.71055,
          0.66865,
          0.62515,
          0.6121833333333333,
          0.5937
         ],
         "yaxis": "y"
        },
        {
         "hovertemplate": "variable=Task2<br>index=%{x}<br>value=%{y}<extra></extra>",
         "legendgroup": "Task2",
         "line": {
          "color": "#00cc96",
          "dash": "solid"
         },
         "marker": {
          "symbol": "circle"
         },
         "mode": "lines",
         "name": "Task2",
         "orientation": "v",
         "showlegend": true,
         "type": "scatter",
         "x": [
          0,
          1,
          2,
          3,
          4,
          5,
          6,
          7,
          8,
          9
         ],
         "xaxis": "x",
         "y": [
          0.12976666666666667,
          0.15091666666666667,
          0.7952833333333333,
          0.7908,
          0.78985,
          0.75165,
          0.7136,
          0.6717666666666666,
          0.6480166666666667,
          0.6363166666666666
         ],
         "yaxis": "y"
        },
        {
         "hovertemplate": "variable=Task3<br>index=%{x}<br>value=%{y}<extra></extra>",
         "legendgroup": "Task3",
         "line": {
          "color": "#ab63fa",
          "dash": "solid"
         },
         "marker": {
          "symbol": "circle"
         },
         "mode": "lines",
         "name": "Task3",
         "orientation": "v",
         "showlegend": true,
         "type": "scatter",
         "x": [
          0,
          1,
          2,
          3,
          4,
          5,
          6,
          7,
          8,
          9
         ],
         "xaxis": "x",
         "y": [
          0.12601666666666667,
          0.13038333333333332,
          0.10331666666666667,
          0.8048333333333333,
          0.778,
          0.7578333333333334,
          0.7594833333333333,
          0.7507666666666667,
          0.7244,
          0.71085
         ],
         "yaxis": "y"
        },
        {
         "hovertemplate": "variable=Task4<br>index=%{x}<br>value=%{y}<extra></extra>",
         "legendgroup": "Task4",
         "line": {
          "color": "#FFA15A",
          "dash": "solid"
         },
         "marker": {
          "symbol": "circle"
         },
         "mode": "lines",
         "name": "Task4",
         "orientation": "v",
         "showlegend": true,
         "type": "scatter",
         "x": [
          0,
          1,
          2,
          3,
          4,
          5,
          6,
          7,
          8,
          9
         ],
         "xaxis": "x",
         "y": [
          0.14045,
          0.17208333333333334,
          0.1229,
          0.11023333333333334,
          0.8202166666666667,
          0.7965,
          0.77555,
          0.7513833333333333,
          0.74175,
          0.7370166666666667
         ],
         "yaxis": "y"
        },
        {
         "hovertemplate": "variable=Task5<br>index=%{x}<br>value=%{y}<extra></extra>",
         "legendgroup": "Task5",
         "line": {
          "color": "#19d3f3",
          "dash": "solid"
         },
         "marker": {
          "symbol": "circle"
         },
         "mode": "lines",
         "name": "Task5",
         "orientation": "v",
         "showlegend": true,
         "type": "scatter",
         "x": [
          0,
          1,
          2,
          3,
          4,
          5,
          6,
          7,
          8,
          9
         ],
         "xaxis": "x",
         "y": [
          0.14968333333333333,
          0.15198333333333333,
          0.17163333333333333,
          0.1169,
          0.1417,
          0.8277166666666667,
          0.8073166666666667,
          0.78155,
          0.7592166666666667,
          0.7454
         ],
         "yaxis": "y"
        },
        {
         "hovertemplate": "variable=Task6<br>index=%{x}<br>value=%{y}<extra></extra>",
         "legendgroup": "Task6",
         "line": {
          "color": "#FF6692",
          "dash": "solid"
         },
         "marker": {
          "symbol": "circle"
         },
         "mode": "lines",
         "name": "Task6",
         "orientation": "v",
         "showlegend": true,
         "type": "scatter",
         "x": [
          0,
          1,
          2,
          3,
          4,
          5,
          6,
          7,
          8,
          9
         ],
         "xaxis": "x",
         "y": [
          0.15031666666666665,
          0.17818333333333333,
          0.14216666666666666,
          0.16598333333333334,
          0.12105,
          0.12843333333333334,
          0.83025,
          0.8116,
          0.8013,
          0.7868166666666667
         ],
         "yaxis": "y"
        },
        {
         "hovertemplate": "variable=Task7<br>index=%{x}<br>value=%{y}<extra></extra>",
         "legendgroup": "Task7",
         "line": {
          "color": "#B6E880",
          "dash": "solid"
         },
         "marker": {
          "symbol": "circle"
         },
         "mode": "lines",
         "name": "Task7",
         "orientation": "v",
         "showlegend": true,
         "type": "scatter",
         "x": [
          0,
          1,
          2,
          3,
          4,
          5,
          6,
          7,
          8,
          9
         ],
         "xaxis": "x",
         "y": [
          0.12301666666666666,
          0.12678333333333333,
          0.15228333333333333,
          0.16926666666666668,
          0.16273333333333334,
          0.19308333333333333,
          0.14683333333333334,
          0.8367166666666667,
          0.8064666666666667,
          0.7966666666666666
         ],
         "yaxis": "y"
        },
        {
         "hovertemplate": "variable=Task8<br>index=%{x}<br>value=%{y}<extra></extra>",
         "legendgroup": "Task8",
         "line": {
          "color": "#FF97FF",
          "dash": "solid"
         },
         "marker": {
          "symbol": "circle"
         },
         "mode": "lines",
         "name": "Task8",
         "orientation": "v",
         "showlegend": true,
         "type": "scatter",
         "x": [
          0,
          1,
          2,
          3,
          4,
          5,
          6,
          7,
          8,
          9
         ],
         "xaxis": "x",
         "y": [
          0.17176666666666668,
          0.19291666666666665,
          0.18036666666666668,
          0.1401,
          0.16293333333333335,
          0.14393333333333333,
          0.1208,
          0.11193333333333333,
          0.8387666666666667,
          0.8108833333333333
         ],
         "yaxis": "y"
        },
        {
         "hovertemplate": "variable=Task9<br>index=%{x}<br>value=%{y}<extra></extra>",
         "legendgroup": "Task9",
         "line": {
          "color": "#FECB52",
          "dash": "solid"
         },
         "marker": {
          "symbol": "circle"
         },
         "mode": "lines",
         "name": "Task9",
         "orientation": "v",
         "showlegend": true,
         "type": "scatter",
         "x": [
          0,
          1,
          2,
          3,
          4,
          5,
          6,
          7,
          8,
          9
         ],
         "xaxis": "x",
         "y": [
          0.1462,
          0.18406666666666666,
          0.13015,
          0.10388333333333333,
          0.12336666666666667,
          0.10471666666666667,
          0.09148333333333333,
          0.10126666666666667,
          0.11593333333333333,
          0.8453833333333334
         ],
         "yaxis": "y"
        },
        {
         "hovertemplate": "variable=Overall<br>index=%{x}<br>value=%{y}<extra></extra>",
         "legendgroup": "Overall",
         "line": {
          "color": "#636efa",
          "dash": "solid"
         },
         "marker": {
          "symbol": "circle"
         },
         "mode": "lines",
         "name": "Overall",
         "orientation": "v",
         "showlegend": true,
         "type": "scatter",
         "x": [
          0,
          1,
          2,
          3,
          4,
          5,
          6,
          7,
          8,
          9
         ],
         "xaxis": "x",
         "y": [
          0.20513833333333334,
          0.27786333333333335,
          0.31988666666666665,
          0.3783883333333333,
          0.4457466666666667,
          0.4975833333333333,
          0.541365,
          0.5859216666666667,
          0.6517933333333333,
          0.71251
         ],
         "yaxis": "y"
        }
       ],
       "layout": {
        "legend": {
         "title": {
          "text": "variable"
         },
         "tracegroupgap": 0
        },
        "margin": {
         "t": 60
        },
        "template": {
         "data": {
          "bar": [
           {
            "error_x": {
             "color": "#2a3f5f"
            },
            "error_y": {
             "color": "#2a3f5f"
            },
            "marker": {
             "line": {
              "color": "#E5ECF6",
              "width": 0.5
             },
             "pattern": {
              "fillmode": "overlay",
              "size": 10,
              "solidity": 0.2
             }
            },
            "type": "bar"
           }
          ],
          "barpolar": [
           {
            "marker": {
             "line": {
              "color": "#E5ECF6",
              "width": 0.5
             },
             "pattern": {
              "fillmode": "overlay",
              "size": 10,
              "solidity": 0.2
             }
            },
            "type": "barpolar"
           }
          ],
          "carpet": [
           {
            "aaxis": {
             "endlinecolor": "#2a3f5f",
             "gridcolor": "white",
             "linecolor": "white",
             "minorgridcolor": "white",
             "startlinecolor": "#2a3f5f"
            },
            "baxis": {
             "endlinecolor": "#2a3f5f",
             "gridcolor": "white",
             "linecolor": "white",
             "minorgridcolor": "white",
             "startlinecolor": "#2a3f5f"
            },
            "type": "carpet"
           }
          ],
          "choropleth": [
           {
            "colorbar": {
             "outlinewidth": 0,
             "ticks": ""
            },
            "type": "choropleth"
           }
          ],
          "contour": [
           {
            "colorbar": {
             "outlinewidth": 0,
             "ticks": ""
            },
            "colorscale": [
             [
              0,
              "#0d0887"
             ],
             [
              0.1111111111111111,
              "#46039f"
             ],
             [
              0.2222222222222222,
              "#7201a8"
             ],
             [
              0.3333333333333333,
              "#9c179e"
             ],
             [
              0.4444444444444444,
              "#bd3786"
             ],
             [
              0.5555555555555556,
              "#d8576b"
             ],
             [
              0.6666666666666666,
              "#ed7953"
             ],
             [
              0.7777777777777778,
              "#fb9f3a"
             ],
             [
              0.8888888888888888,
              "#fdca26"
             ],
             [
              1,
              "#f0f921"
             ]
            ],
            "type": "contour"
           }
          ],
          "contourcarpet": [
           {
            "colorbar": {
             "outlinewidth": 0,
             "ticks": ""
            },
            "type": "contourcarpet"
           }
          ],
          "heatmap": [
           {
            "colorbar": {
             "outlinewidth": 0,
             "ticks": ""
            },
            "colorscale": [
             [
              0,
              "#0d0887"
             ],
             [
              0.1111111111111111,
              "#46039f"
             ],
             [
              0.2222222222222222,
              "#7201a8"
             ],
             [
              0.3333333333333333,
              "#9c179e"
             ],
             [
              0.4444444444444444,
              "#bd3786"
             ],
             [
              0.5555555555555556,
              "#d8576b"
             ],
             [
              0.6666666666666666,
              "#ed7953"
             ],
             [
              0.7777777777777778,
              "#fb9f3a"
             ],
             [
              0.8888888888888888,
              "#fdca26"
             ],
             [
              1,
              "#f0f921"
             ]
            ],
            "type": "heatmap"
           }
          ],
          "heatmapgl": [
           {
            "colorbar": {
             "outlinewidth": 0,
             "ticks": ""
            },
            "colorscale": [
             [
              0,
              "#0d0887"
             ],
             [
              0.1111111111111111,
              "#46039f"
             ],
             [
              0.2222222222222222,
              "#7201a8"
             ],
             [
              0.3333333333333333,
              "#9c179e"
             ],
             [
              0.4444444444444444,
              "#bd3786"
             ],
             [
              0.5555555555555556,
              "#d8576b"
             ],
             [
              0.6666666666666666,
              "#ed7953"
             ],
             [
              0.7777777777777778,
              "#fb9f3a"
             ],
             [
              0.8888888888888888,
              "#fdca26"
             ],
             [
              1,
              "#f0f921"
             ]
            ],
            "type": "heatmapgl"
           }
          ],
          "histogram": [
           {
            "marker": {
             "pattern": {
              "fillmode": "overlay",
              "size": 10,
              "solidity": 0.2
             }
            },
            "type": "histogram"
           }
          ],
          "histogram2d": [
           {
            "colorbar": {
             "outlinewidth": 0,
             "ticks": ""
            },
            "colorscale": [
             [
              0,
              "#0d0887"
             ],
             [
              0.1111111111111111,
              "#46039f"
             ],
             [
              0.2222222222222222,
              "#7201a8"
             ],
             [
              0.3333333333333333,
              "#9c179e"
             ],
             [
              0.4444444444444444,
              "#bd3786"
             ],
             [
              0.5555555555555556,
              "#d8576b"
             ],
             [
              0.6666666666666666,
              "#ed7953"
             ],
             [
              0.7777777777777778,
              "#fb9f3a"
             ],
             [
              0.8888888888888888,
              "#fdca26"
             ],
             [
              1,
              "#f0f921"
             ]
            ],
            "type": "histogram2d"
           }
          ],
          "histogram2dcontour": [
           {
            "colorbar": {
             "outlinewidth": 0,
             "ticks": ""
            },
            "colorscale": [
             [
              0,
              "#0d0887"
             ],
             [
              0.1111111111111111,
              "#46039f"
             ],
             [
              0.2222222222222222,
              "#7201a8"
             ],
             [
              0.3333333333333333,
              "#9c179e"
             ],
             [
              0.4444444444444444,
              "#bd3786"
             ],
             [
              0.5555555555555556,
              "#d8576b"
             ],
             [
              0.6666666666666666,
              "#ed7953"
             ],
             [
              0.7777777777777778,
              "#fb9f3a"
             ],
             [
              0.8888888888888888,
              "#fdca26"
             ],
             [
              1,
              "#f0f921"
             ]
            ],
            "type": "histogram2dcontour"
           }
          ],
          "mesh3d": [
           {
            "colorbar": {
             "outlinewidth": 0,
             "ticks": ""
            },
            "type": "mesh3d"
           }
          ],
          "parcoords": [
           {
            "line": {
             "colorbar": {
              "outlinewidth": 0,
              "ticks": ""
             }
            },
            "type": "parcoords"
           }
          ],
          "pie": [
           {
            "automargin": true,
            "type": "pie"
           }
          ],
          "scatter": [
           {
            "fillpattern": {
             "fillmode": "overlay",
             "size": 10,
             "solidity": 0.2
            },
            "type": "scatter"
           }
          ],
          "scatter3d": [
           {
            "line": {
             "colorbar": {
              "outlinewidth": 0,
              "ticks": ""
             }
            },
            "marker": {
             "colorbar": {
              "outlinewidth": 0,
              "ticks": ""
             }
            },
            "type": "scatter3d"
           }
          ],
          "scattercarpet": [
           {
            "marker": {
             "colorbar": {
              "outlinewidth": 0,
              "ticks": ""
             }
            },
            "type": "scattercarpet"
           }
          ],
          "scattergeo": [
           {
            "marker": {
             "colorbar": {
              "outlinewidth": 0,
              "ticks": ""
             }
            },
            "type": "scattergeo"
           }
          ],
          "scattergl": [
           {
            "marker": {
             "colorbar": {
              "outlinewidth": 0,
              "ticks": ""
             }
            },
            "type": "scattergl"
           }
          ],
          "scattermapbox": [
           {
            "marker": {
             "colorbar": {
              "outlinewidth": 0,
              "ticks": ""
             }
            },
            "type": "scattermapbox"
           }
          ],
          "scatterpolar": [
           {
            "marker": {
             "colorbar": {
              "outlinewidth": 0,
              "ticks": ""
             }
            },
            "type": "scatterpolar"
           }
          ],
          "scatterpolargl": [
           {
            "marker": {
             "colorbar": {
              "outlinewidth": 0,
              "ticks": ""
             }
            },
            "type": "scatterpolargl"
           }
          ],
          "scatterternary": [
           {
            "marker": {
             "colorbar": {
              "outlinewidth": 0,
              "ticks": ""
             }
            },
            "type": "scatterternary"
           }
          ],
          "surface": [
           {
            "colorbar": {
             "outlinewidth": 0,
             "ticks": ""
            },
            "colorscale": [
             [
              0,
              "#0d0887"
             ],
             [
              0.1111111111111111,
              "#46039f"
             ],
             [
              0.2222222222222222,
              "#7201a8"
             ],
             [
              0.3333333333333333,
              "#9c179e"
             ],
             [
              0.4444444444444444,
              "#bd3786"
             ],
             [
              0.5555555555555556,
              "#d8576b"
             ],
             [
              0.6666666666666666,
              "#ed7953"
             ],
             [
              0.7777777777777778,
              "#fb9f3a"
             ],
             [
              0.8888888888888888,
              "#fdca26"
             ],
             [
              1,
              "#f0f921"
             ]
            ],
            "type": "surface"
           }
          ],
          "table": [
           {
            "cells": {
             "fill": {
              "color": "#EBF0F8"
             },
             "line": {
              "color": "white"
             }
            },
            "header": {
             "fill": {
              "color": "#C8D4E3"
             },
             "line": {
              "color": "white"
             }
            },
            "type": "table"
           }
          ]
         },
         "layout": {
          "annotationdefaults": {
           "arrowcolor": "#2a3f5f",
           "arrowhead": 0,
           "arrowwidth": 1
          },
          "autotypenumbers": "strict",
          "coloraxis": {
           "colorbar": {
            "outlinewidth": 0,
            "ticks": ""
           }
          },
          "colorscale": {
           "diverging": [
            [
             0,
             "#8e0152"
            ],
            [
             0.1,
             "#c51b7d"
            ],
            [
             0.2,
             "#de77ae"
            ],
            [
             0.3,
             "#f1b6da"
            ],
            [
             0.4,
             "#fde0ef"
            ],
            [
             0.5,
             "#f7f7f7"
            ],
            [
             0.6,
             "#e6f5d0"
            ],
            [
             0.7,
             "#b8e186"
            ],
            [
             0.8,
             "#7fbc41"
            ],
            [
             0.9,
             "#4d9221"
            ],
            [
             1,
             "#276419"
            ]
           ],
           "sequential": [
            [
             0,
             "#0d0887"
            ],
            [
             0.1111111111111111,
             "#46039f"
            ],
            [
             0.2222222222222222,
             "#7201a8"
            ],
            [
             0.3333333333333333,
             "#9c179e"
            ],
            [
             0.4444444444444444,
             "#bd3786"
            ],
            [
             0.5555555555555556,
             "#d8576b"
            ],
            [
             0.6666666666666666,
             "#ed7953"
            ],
            [
             0.7777777777777778,
             "#fb9f3a"
            ],
            [
             0.8888888888888888,
             "#fdca26"
            ],
            [
             1,
             "#f0f921"
            ]
           ],
           "sequentialminus": [
            [
             0,
             "#0d0887"
            ],
            [
             0.1111111111111111,
             "#46039f"
            ],
            [
             0.2222222222222222,
             "#7201a8"
            ],
            [
             0.3333333333333333,
             "#9c179e"
            ],
            [
             0.4444444444444444,
             "#bd3786"
            ],
            [
             0.5555555555555556,
             "#d8576b"
            ],
            [
             0.6666666666666666,
             "#ed7953"
            ],
            [
             0.7777777777777778,
             "#fb9f3a"
            ],
            [
             0.8888888888888888,
             "#fdca26"
            ],
            [
             1,
             "#f0f921"
            ]
           ]
          },
          "colorway": [
           "#636efa",
           "#EF553B",
           "#00cc96",
           "#ab63fa",
           "#FFA15A",
           "#19d3f3",
           "#FF6692",
           "#B6E880",
           "#FF97FF",
           "#FECB52"
          ],
          "font": {
           "color": "#2a3f5f"
          },
          "geo": {
           "bgcolor": "white",
           "lakecolor": "white",
           "landcolor": "#E5ECF6",
           "showlakes": true,
           "showland": true,
           "subunitcolor": "white"
          },
          "hoverlabel": {
           "align": "left"
          },
          "hovermode": "closest",
          "mapbox": {
           "style": "light"
          },
          "paper_bgcolor": "white",
          "plot_bgcolor": "#E5ECF6",
          "polar": {
           "angularaxis": {
            "gridcolor": "white",
            "linecolor": "white",
            "ticks": ""
           },
           "bgcolor": "#E5ECF6",
           "radialaxis": {
            "gridcolor": "white",
            "linecolor": "white",
            "ticks": ""
           }
          },
          "scene": {
           "xaxis": {
            "backgroundcolor": "#E5ECF6",
            "gridcolor": "white",
            "gridwidth": 2,
            "linecolor": "white",
            "showbackground": true,
            "ticks": "",
            "zerolinecolor": "white"
           },
           "yaxis": {
            "backgroundcolor": "#E5ECF6",
            "gridcolor": "white",
            "gridwidth": 2,
            "linecolor": "white",
            "showbackground": true,
            "ticks": "",
            "zerolinecolor": "white"
           },
           "zaxis": {
            "backgroundcolor": "#E5ECF6",
            "gridcolor": "white",
            "gridwidth": 2,
            "linecolor": "white",
            "showbackground": true,
            "ticks": "",
            "zerolinecolor": "white"
           }
          },
          "shapedefaults": {
           "line": {
            "color": "#2a3f5f"
           }
          },
          "ternary": {
           "aaxis": {
            "gridcolor": "white",
            "linecolor": "white",
            "ticks": ""
           },
           "baxis": {
            "gridcolor": "white",
            "linecolor": "white",
            "ticks": ""
           },
           "bgcolor": "#E5ECF6",
           "caxis": {
            "gridcolor": "white",
            "linecolor": "white",
            "ticks": ""
           }
          },
          "title": {
           "x": 0.05
          },
          "xaxis": {
           "automargin": true,
           "gridcolor": "white",
           "linecolor": "white",
           "ticks": "",
           "title": {
            "standoff": 15
           },
           "zerolinecolor": "white",
           "zerolinewidth": 2
          },
          "yaxis": {
           "automargin": true,
           "gridcolor": "white",
           "linecolor": "white",
           "ticks": "",
           "title": {
            "standoff": 15
           },
           "zerolinecolor": "white",
           "zerolinewidth": 2
          }
         }
        },
        "xaxis": {
         "anchor": "y",
         "domain": [
          0,
          1
         ],
         "title": {
          "text": "index"
         }
        },
        "yaxis": {
         "anchor": "x",
         "domain": [
          0,
          1
         ],
         "range": [
          0,
          1
         ],
         "title": {
          "text": "value"
         }
        }
       }
      }
     },
     "metadata": {},
     "output_type": "display_data"
    }
   ],
   "source": [
    "train_df = pd.DataFrame(training_accuracies)\n",
    "train_df.index = range(10)\n",
    "\n",
    "fig = px.line(train_df, x=train_df.index, y=train_df.columns, range_y=[0, 1])\n",
    "fig.show()"
   ]
  },
  {
   "cell_type": "markdown",
   "metadata": {},
   "source": [
    "## Evaluation accuracies per experience"
   ]
  },
  {
   "cell_type": "code",
   "execution_count": 93,
   "metadata": {},
   "outputs": [
    {
     "data": {
      "application/vnd.plotly.v1+json": {
       "config": {
        "plotlyServerURL": "https://plot.ly"
       },
       "data": [
        {
         "hovertemplate": "variable=Task0<br>index=%{x}<br>value=%{y}<extra></extra>",
         "legendgroup": "Task0",
         "line": {
          "color": "#636efa",
          "dash": "solid"
         },
         "marker": {
          "symbol": "circle"
         },
         "mode": "lines",
         "name": "Task0",
         "orientation": "v",
         "showlegend": true,
         "type": "scatter",
         "x": [
          0,
          1,
          2,
          3,
          4,
          5,
          6,
          7,
          8,
          9
         ],
         "xaxis": "x",
         "y": [
          0.7415,
          0.7171,
          0.6404,
          0.63,
          0.6081,
          0.5622,
          0.497,
          0.4146,
          0.4615,
          0.4629
         ],
         "yaxis": "y"
        },
        {
         "hovertemplate": "variable=Task1<br>index=%{x}<br>value=%{y}<extra></extra>",
         "legendgroup": "Task1",
         "line": {
          "color": "#EF553B",
          "dash": "solid"
         },
         "marker": {
          "symbol": "circle"
         },
         "mode": "lines",
         "name": "Task1",
         "orientation": "v",
         "showlegend": true,
         "type": "scatter",
         "x": [
          0,
          1,
          2,
          3,
          4,
          5,
          6,
          7,
          8,
          9
         ],
         "xaxis": "x",
         "y": [
          0.173,
          0.7886,
          0.7614,
          0.7541,
          0.7534,
          0.7183,
          0.6774,
          0.6345,
          0.6279,
          0.6089
         ],
         "yaxis": "y"
        },
        {
         "hovertemplate": "variable=Task2<br>index=%{x}<br>value=%{y}<extra></extra>",
         "legendgroup": "Task2",
         "line": {
          "color": "#00cc96",
          "dash": "solid"
         },
         "marker": {
          "symbol": "circle"
         },
         "mode": "lines",
         "name": "Task2",
         "orientation": "v",
         "showlegend": true,
         "type": "scatter",
         "x": [
          0,
          1,
          2,
          3,
          4,
          5,
          6,
          7,
          8,
          9
         ],
         "xaxis": "x",
         "y": [
          0.1297,
          0.1528,
          0.7992,
          0.7972,
          0.7952,
          0.7537,
          0.7116,
          0.6668,
          0.6473,
          0.6389
         ],
         "yaxis": "y"
        },
        {
         "hovertemplate": "variable=Task3<br>index=%{x}<br>value=%{y}<extra></extra>",
         "legendgroup": "Task3",
         "line": {
          "color": "#ab63fa",
          "dash": "solid"
         },
         "marker": {
          "symbol": "circle"
         },
         "mode": "lines",
         "name": "Task3",
         "orientation": "v",
         "showlegend": true,
         "type": "scatter",
         "x": [
          0,
          1,
          2,
          3,
          4,
          5,
          6,
          7,
          8,
          9
         ],
         "xaxis": "x",
         "y": [
          0.1284,
          0.1362,
          0.1034,
          0.8112,
          0.7801,
          0.7613,
          0.7663,
          0.7482,
          0.7306,
          0.7156
         ],
         "yaxis": "y"
        },
        {
         "hovertemplate": "variable=Task4<br>index=%{x}<br>value=%{y}<extra></extra>",
         "legendgroup": "Task4",
         "line": {
          "color": "#FFA15A",
          "dash": "solid"
         },
         "marker": {
          "symbol": "circle"
         },
         "mode": "lines",
         "name": "Task4",
         "orientation": "v",
         "showlegend": true,
         "type": "scatter",
         "x": [
          0,
          1,
          2,
          3,
          4,
          5,
          6,
          7,
          8,
          9
         ],
         "xaxis": "x",
         "y": [
          0.1388,
          0.1666,
          0.117,
          0.1067,
          0.8195,
          0.7982,
          0.7739,
          0.753,
          0.737,
          0.7326
         ],
         "yaxis": "y"
        },
        {
         "hovertemplate": "variable=Task5<br>index=%{x}<br>value=%{y}<extra></extra>",
         "legendgroup": "Task5",
         "line": {
          "color": "#19d3f3",
          "dash": "solid"
         },
         "marker": {
          "symbol": "circle"
         },
         "mode": "lines",
         "name": "Task5",
         "orientation": "v",
         "showlegend": true,
         "type": "scatter",
         "x": [
          0,
          1,
          2,
          3,
          4,
          5,
          6,
          7,
          8,
          9
         ],
         "xaxis": "x",
         "y": [
          0.1505,
          0.1482,
          0.1695,
          0.116,
          0.1476,
          0.83,
          0.8065,
          0.7836,
          0.761,
          0.743
         ],
         "yaxis": "y"
        },
        {
         "hovertemplate": "variable=Task6<br>index=%{x}<br>value=%{y}<extra></extra>",
         "legendgroup": "Task6",
         "line": {
          "color": "#FF6692",
          "dash": "solid"
         },
         "marker": {
          "symbol": "circle"
         },
         "mode": "lines",
         "name": "Task6",
         "orientation": "v",
         "showlegend": true,
         "type": "scatter",
         "x": [
          0,
          1,
          2,
          3,
          4,
          5,
          6,
          7,
          8,
          9
         ],
         "xaxis": "x",
         "y": [
          0.1455,
          0.1774,
          0.1362,
          0.155,
          0.1139,
          0.128,
          0.8337,
          0.8097,
          0.8033,
          0.7926
         ],
         "yaxis": "y"
        },
        {
         "hovertemplate": "variable=Task7<br>index=%{x}<br>value=%{y}<extra></extra>",
         "legendgroup": "Task7",
         "line": {
          "color": "#B6E880",
          "dash": "solid"
         },
         "marker": {
          "symbol": "circle"
         },
         "mode": "lines",
         "name": "Task7",
         "orientation": "v",
         "showlegend": true,
         "type": "scatter",
         "x": [
          0,
          1,
          2,
          3,
          4,
          5,
          6,
          7,
          8,
          9
         ],
         "xaxis": "x",
         "y": [
          0.1194,
          0.1248,
          0.1569,
          0.1781,
          0.1691,
          0.2073,
          0.1587,
          0.8394,
          0.8138,
          0.8021
         ],
         "yaxis": "y"
        },
        {
         "hovertemplate": "variable=Task8<br>index=%{x}<br>value=%{y}<extra></extra>",
         "legendgroup": "Task8",
         "line": {
          "color": "#FF97FF",
          "dash": "solid"
         },
         "marker": {
          "symbol": "circle"
         },
         "mode": "lines",
         "name": "Task8",
         "orientation": "v",
         "showlegend": true,
         "type": "scatter",
         "x": [
          0,
          1,
          2,
          3,
          4,
          5,
          6,
          7,
          8,
          9
         ],
         "xaxis": "x",
         "y": [
          0.1801,
          0.1963,
          0.1844,
          0.1441,
          0.1665,
          0.1541,
          0.129,
          0.1168,
          0.8463,
          0.8161
         ],
         "yaxis": "y"
        },
        {
         "hovertemplate": "variable=Task9<br>index=%{x}<br>value=%{y}<extra></extra>",
         "legendgroup": "Task9",
         "line": {
          "color": "#FECB52",
          "dash": "solid"
         },
         "marker": {
          "symbol": "circle"
         },
         "mode": "lines",
         "name": "Task9",
         "orientation": "v",
         "showlegend": true,
         "type": "scatter",
         "x": [
          0,
          1,
          2,
          3,
          4,
          5,
          6,
          7,
          8,
          9
         ],
         "xaxis": "x",
         "y": [
          0.1489,
          0.1946,
          0.1392,
          0.112,
          0.127,
          0.1095,
          0.0932,
          0.1047,
          0.1175,
          0.848
         ],
         "yaxis": "y"
        },
        {
         "hovertemplate": "variable=Overall<br>index=%{x}<br>value=%{y}<extra></extra>",
         "legendgroup": "Overall",
         "line": {
          "color": "#636efa",
          "dash": "solid"
         },
         "marker": {
          "symbol": "circle"
         },
         "mode": "lines",
         "name": "Overall",
         "orientation": "v",
         "showlegend": true,
         "type": "scatter",
         "x": [
          0,
          1,
          2,
          3,
          4,
          5,
          6,
          7,
          8,
          9
         ],
         "xaxis": "x",
         "y": [
          0.20558,
          0.28026,
          0.32076,
          0.38044,
          0.44804,
          0.50226,
          0.54473,
          0.58713,
          0.65462,
          0.71607
         ],
         "yaxis": "y"
        }
       ],
       "layout": {
        "legend": {
         "title": {
          "text": "variable"
         },
         "tracegroupgap": 0
        },
        "margin": {
         "t": 60
        },
        "template": {
         "data": {
          "bar": [
           {
            "error_x": {
             "color": "#2a3f5f"
            },
            "error_y": {
             "color": "#2a3f5f"
            },
            "marker": {
             "line": {
              "color": "#E5ECF6",
              "width": 0.5
             },
             "pattern": {
              "fillmode": "overlay",
              "size": 10,
              "solidity": 0.2
             }
            },
            "type": "bar"
           }
          ],
          "barpolar": [
           {
            "marker": {
             "line": {
              "color": "#E5ECF6",
              "width": 0.5
             },
             "pattern": {
              "fillmode": "overlay",
              "size": 10,
              "solidity": 0.2
             }
            },
            "type": "barpolar"
           }
          ],
          "carpet": [
           {
            "aaxis": {
             "endlinecolor": "#2a3f5f",
             "gridcolor": "white",
             "linecolor": "white",
             "minorgridcolor": "white",
             "startlinecolor": "#2a3f5f"
            },
            "baxis": {
             "endlinecolor": "#2a3f5f",
             "gridcolor": "white",
             "linecolor": "white",
             "minorgridcolor": "white",
             "startlinecolor": "#2a3f5f"
            },
            "type": "carpet"
           }
          ],
          "choropleth": [
           {
            "colorbar": {
             "outlinewidth": 0,
             "ticks": ""
            },
            "type": "choropleth"
           }
          ],
          "contour": [
           {
            "colorbar": {
             "outlinewidth": 0,
             "ticks": ""
            },
            "colorscale": [
             [
              0,
              "#0d0887"
             ],
             [
              0.1111111111111111,
              "#46039f"
             ],
             [
              0.2222222222222222,
              "#7201a8"
             ],
             [
              0.3333333333333333,
              "#9c179e"
             ],
             [
              0.4444444444444444,
              "#bd3786"
             ],
             [
              0.5555555555555556,
              "#d8576b"
             ],
             [
              0.6666666666666666,
              "#ed7953"
             ],
             [
              0.7777777777777778,
              "#fb9f3a"
             ],
             [
              0.8888888888888888,
              "#fdca26"
             ],
             [
              1,
              "#f0f921"
             ]
            ],
            "type": "contour"
           }
          ],
          "contourcarpet": [
           {
            "colorbar": {
             "outlinewidth": 0,
             "ticks": ""
            },
            "type": "contourcarpet"
           }
          ],
          "heatmap": [
           {
            "colorbar": {
             "outlinewidth": 0,
             "ticks": ""
            },
            "colorscale": [
             [
              0,
              "#0d0887"
             ],
             [
              0.1111111111111111,
              "#46039f"
             ],
             [
              0.2222222222222222,
              "#7201a8"
             ],
             [
              0.3333333333333333,
              "#9c179e"
             ],
             [
              0.4444444444444444,
              "#bd3786"
             ],
             [
              0.5555555555555556,
              "#d8576b"
             ],
             [
              0.6666666666666666,
              "#ed7953"
             ],
             [
              0.7777777777777778,
              "#fb9f3a"
             ],
             [
              0.8888888888888888,
              "#fdca26"
             ],
             [
              1,
              "#f0f921"
             ]
            ],
            "type": "heatmap"
           }
          ],
          "heatmapgl": [
           {
            "colorbar": {
             "outlinewidth": 0,
             "ticks": ""
            },
            "colorscale": [
             [
              0,
              "#0d0887"
             ],
             [
              0.1111111111111111,
              "#46039f"
             ],
             [
              0.2222222222222222,
              "#7201a8"
             ],
             [
              0.3333333333333333,
              "#9c179e"
             ],
             [
              0.4444444444444444,
              "#bd3786"
             ],
             [
              0.5555555555555556,
              "#d8576b"
             ],
             [
              0.6666666666666666,
              "#ed7953"
             ],
             [
              0.7777777777777778,
              "#fb9f3a"
             ],
             [
              0.8888888888888888,
              "#fdca26"
             ],
             [
              1,
              "#f0f921"
             ]
            ],
            "type": "heatmapgl"
           }
          ],
          "histogram": [
           {
            "marker": {
             "pattern": {
              "fillmode": "overlay",
              "size": 10,
              "solidity": 0.2
             }
            },
            "type": "histogram"
           }
          ],
          "histogram2d": [
           {
            "colorbar": {
             "outlinewidth": 0,
             "ticks": ""
            },
            "colorscale": [
             [
              0,
              "#0d0887"
             ],
             [
              0.1111111111111111,
              "#46039f"
             ],
             [
              0.2222222222222222,
              "#7201a8"
             ],
             [
              0.3333333333333333,
              "#9c179e"
             ],
             [
              0.4444444444444444,
              "#bd3786"
             ],
             [
              0.5555555555555556,
              "#d8576b"
             ],
             [
              0.6666666666666666,
              "#ed7953"
             ],
             [
              0.7777777777777778,
              "#fb9f3a"
             ],
             [
              0.8888888888888888,
              "#fdca26"
             ],
             [
              1,
              "#f0f921"
             ]
            ],
            "type": "histogram2d"
           }
          ],
          "histogram2dcontour": [
           {
            "colorbar": {
             "outlinewidth": 0,
             "ticks": ""
            },
            "colorscale": [
             [
              0,
              "#0d0887"
             ],
             [
              0.1111111111111111,
              "#46039f"
             ],
             [
              0.2222222222222222,
              "#7201a8"
             ],
             [
              0.3333333333333333,
              "#9c179e"
             ],
             [
              0.4444444444444444,
              "#bd3786"
             ],
             [
              0.5555555555555556,
              "#d8576b"
             ],
             [
              0.6666666666666666,
              "#ed7953"
             ],
             [
              0.7777777777777778,
              "#fb9f3a"
             ],
             [
              0.8888888888888888,
              "#fdca26"
             ],
             [
              1,
              "#f0f921"
             ]
            ],
            "type": "histogram2dcontour"
           }
          ],
          "mesh3d": [
           {
            "colorbar": {
             "outlinewidth": 0,
             "ticks": ""
            },
            "type": "mesh3d"
           }
          ],
          "parcoords": [
           {
            "line": {
             "colorbar": {
              "outlinewidth": 0,
              "ticks": ""
             }
            },
            "type": "parcoords"
           }
          ],
          "pie": [
           {
            "automargin": true,
            "type": "pie"
           }
          ],
          "scatter": [
           {
            "fillpattern": {
             "fillmode": "overlay",
             "size": 10,
             "solidity": 0.2
            },
            "type": "scatter"
           }
          ],
          "scatter3d": [
           {
            "line": {
             "colorbar": {
              "outlinewidth": 0,
              "ticks": ""
             }
            },
            "marker": {
             "colorbar": {
              "outlinewidth": 0,
              "ticks": ""
             }
            },
            "type": "scatter3d"
           }
          ],
          "scattercarpet": [
           {
            "marker": {
             "colorbar": {
              "outlinewidth": 0,
              "ticks": ""
             }
            },
            "type": "scattercarpet"
           }
          ],
          "scattergeo": [
           {
            "marker": {
             "colorbar": {
              "outlinewidth": 0,
              "ticks": ""
             }
            },
            "type": "scattergeo"
           }
          ],
          "scattergl": [
           {
            "marker": {
             "colorbar": {
              "outlinewidth": 0,
              "ticks": ""
             }
            },
            "type": "scattergl"
           }
          ],
          "scattermapbox": [
           {
            "marker": {
             "colorbar": {
              "outlinewidth": 0,
              "ticks": ""
             }
            },
            "type": "scattermapbox"
           }
          ],
          "scatterpolar": [
           {
            "marker": {
             "colorbar": {
              "outlinewidth": 0,
              "ticks": ""
             }
            },
            "type": "scatterpolar"
           }
          ],
          "scatterpolargl": [
           {
            "marker": {
             "colorbar": {
              "outlinewidth": 0,
              "ticks": ""
             }
            },
            "type": "scatterpolargl"
           }
          ],
          "scatterternary": [
           {
            "marker": {
             "colorbar": {
              "outlinewidth": 0,
              "ticks": ""
             }
            },
            "type": "scatterternary"
           }
          ],
          "surface": [
           {
            "colorbar": {
             "outlinewidth": 0,
             "ticks": ""
            },
            "colorscale": [
             [
              0,
              "#0d0887"
             ],
             [
              0.1111111111111111,
              "#46039f"
             ],
             [
              0.2222222222222222,
              "#7201a8"
             ],
             [
              0.3333333333333333,
              "#9c179e"
             ],
             [
              0.4444444444444444,
              "#bd3786"
             ],
             [
              0.5555555555555556,
              "#d8576b"
             ],
             [
              0.6666666666666666,
              "#ed7953"
             ],
             [
              0.7777777777777778,
              "#fb9f3a"
             ],
             [
              0.8888888888888888,
              "#fdca26"
             ],
             [
              1,
              "#f0f921"
             ]
            ],
            "type": "surface"
           }
          ],
          "table": [
           {
            "cells": {
             "fill": {
              "color": "#EBF0F8"
             },
             "line": {
              "color": "white"
             }
            },
            "header": {
             "fill": {
              "color": "#C8D4E3"
             },
             "line": {
              "color": "white"
             }
            },
            "type": "table"
           }
          ]
         },
         "layout": {
          "annotationdefaults": {
           "arrowcolor": "#2a3f5f",
           "arrowhead": 0,
           "arrowwidth": 1
          },
          "autotypenumbers": "strict",
          "coloraxis": {
           "colorbar": {
            "outlinewidth": 0,
            "ticks": ""
           }
          },
          "colorscale": {
           "diverging": [
            [
             0,
             "#8e0152"
            ],
            [
             0.1,
             "#c51b7d"
            ],
            [
             0.2,
             "#de77ae"
            ],
            [
             0.3,
             "#f1b6da"
            ],
            [
             0.4,
             "#fde0ef"
            ],
            [
             0.5,
             "#f7f7f7"
            ],
            [
             0.6,
             "#e6f5d0"
            ],
            [
             0.7,
             "#b8e186"
            ],
            [
             0.8,
             "#7fbc41"
            ],
            [
             0.9,
             "#4d9221"
            ],
            [
             1,
             "#276419"
            ]
           ],
           "sequential": [
            [
             0,
             "#0d0887"
            ],
            [
             0.1111111111111111,
             "#46039f"
            ],
            [
             0.2222222222222222,
             "#7201a8"
            ],
            [
             0.3333333333333333,
             "#9c179e"
            ],
            [
             0.4444444444444444,
             "#bd3786"
            ],
            [
             0.5555555555555556,
             "#d8576b"
            ],
            [
             0.6666666666666666,
             "#ed7953"
            ],
            [
             0.7777777777777778,
             "#fb9f3a"
            ],
            [
             0.8888888888888888,
             "#fdca26"
            ],
            [
             1,
             "#f0f921"
            ]
           ],
           "sequentialminus": [
            [
             0,
             "#0d0887"
            ],
            [
             0.1111111111111111,
             "#46039f"
            ],
            [
             0.2222222222222222,
             "#7201a8"
            ],
            [
             0.3333333333333333,
             "#9c179e"
            ],
            [
             0.4444444444444444,
             "#bd3786"
            ],
            [
             0.5555555555555556,
             "#d8576b"
            ],
            [
             0.6666666666666666,
             "#ed7953"
            ],
            [
             0.7777777777777778,
             "#fb9f3a"
            ],
            [
             0.8888888888888888,
             "#fdca26"
            ],
            [
             1,
             "#f0f921"
            ]
           ]
          },
          "colorway": [
           "#636efa",
           "#EF553B",
           "#00cc96",
           "#ab63fa",
           "#FFA15A",
           "#19d3f3",
           "#FF6692",
           "#B6E880",
           "#FF97FF",
           "#FECB52"
          ],
          "font": {
           "color": "#2a3f5f"
          },
          "geo": {
           "bgcolor": "white",
           "lakecolor": "white",
           "landcolor": "#E5ECF6",
           "showlakes": true,
           "showland": true,
           "subunitcolor": "white"
          },
          "hoverlabel": {
           "align": "left"
          },
          "hovermode": "closest",
          "mapbox": {
           "style": "light"
          },
          "paper_bgcolor": "white",
          "plot_bgcolor": "#E5ECF6",
          "polar": {
           "angularaxis": {
            "gridcolor": "white",
            "linecolor": "white",
            "ticks": ""
           },
           "bgcolor": "#E5ECF6",
           "radialaxis": {
            "gridcolor": "white",
            "linecolor": "white",
            "ticks": ""
           }
          },
          "scene": {
           "xaxis": {
            "backgroundcolor": "#E5ECF6",
            "gridcolor": "white",
            "gridwidth": 2,
            "linecolor": "white",
            "showbackground": true,
            "ticks": "",
            "zerolinecolor": "white"
           },
           "yaxis": {
            "backgroundcolor": "#E5ECF6",
            "gridcolor": "white",
            "gridwidth": 2,
            "linecolor": "white",
            "showbackground": true,
            "ticks": "",
            "zerolinecolor": "white"
           },
           "zaxis": {
            "backgroundcolor": "#E5ECF6",
            "gridcolor": "white",
            "gridwidth": 2,
            "linecolor": "white",
            "showbackground": true,
            "ticks": "",
            "zerolinecolor": "white"
           }
          },
          "shapedefaults": {
           "line": {
            "color": "#2a3f5f"
           }
          },
          "ternary": {
           "aaxis": {
            "gridcolor": "white",
            "linecolor": "white",
            "ticks": ""
           },
           "baxis": {
            "gridcolor": "white",
            "linecolor": "white",
            "ticks": ""
           },
           "bgcolor": "#E5ECF6",
           "caxis": {
            "gridcolor": "white",
            "linecolor": "white",
            "ticks": ""
           }
          },
          "title": {
           "x": 0.05
          },
          "xaxis": {
           "automargin": true,
           "gridcolor": "white",
           "linecolor": "white",
           "ticks": "",
           "title": {
            "standoff": 15
           },
           "zerolinecolor": "white",
           "zerolinewidth": 2
          },
          "yaxis": {
           "automargin": true,
           "gridcolor": "white",
           "linecolor": "white",
           "ticks": "",
           "title": {
            "standoff": 15
           },
           "zerolinecolor": "white",
           "zerolinewidth": 2
          }
         }
        },
        "xaxis": {
         "anchor": "y",
         "domain": [
          0,
          1
         ],
         "title": {
          "text": "index"
         }
        },
        "yaxis": {
         "anchor": "x",
         "domain": [
          0,
          1
         ],
         "range": [
          0,
          1
         ],
         "title": {
          "text": "value"
         }
        }
       }
      }
     },
     "metadata": {},
     "output_type": "display_data"
    }
   ],
   "source": [
    "acc_df = pd.DataFrame(accuracies)\n",
    "acc_df.index = range(10)\n",
    "\n",
    "fig = px.line(acc_df, x=acc_df.index, y=acc_df.columns, range_y=[0, 1])\n",
    "fig.show()"
   ]
  },
  {
   "cell_type": "markdown",
   "metadata": {},
   "source": [
    "## Forgetting measure / BWT"
   ]
  },
  {
   "cell_type": "code",
   "execution_count": 95,
   "metadata": {},
   "outputs": [
    {
     "data": {
      "application/vnd.plotly.v1+json": {
       "config": {
        "plotlyServerURL": "https://plot.ly"
       },
       "data": [
        {
         "hovertemplate": "variable=Task0<br>index=%{x}<br>value=%{y}<extra></extra>",
         "legendgroup": "Task0",
         "line": {
          "color": "#636efa",
          "dash": "solid"
         },
         "marker": {
          "symbol": "circle"
         },
         "mode": "lines",
         "name": "Task0",
         "orientation": "v",
         "showlegend": true,
         "type": "scatter",
         "x": [
          0,
          1,
          2,
          3,
          4,
          5,
          6,
          7,
          8,
          9
         ],
         "xaxis": "x",
         "y": [
          null,
          0.02440000000000009,
          0.10110000000000008,
          0.11150000000000004,
          0.13340000000000007,
          0.17930000000000001,
          0.24450000000000005,
          0.3269,
          0.28,
          0.27860000000000007
         ],
         "yaxis": "y"
        },
        {
         "hovertemplate": "variable=Task1<br>index=%{x}<br>value=%{y}<extra></extra>",
         "legendgroup": "Task1",
         "line": {
          "color": "#EF553B",
          "dash": "solid"
         },
         "marker": {
          "symbol": "circle"
         },
         "mode": "lines",
         "name": "Task1",
         "orientation": "v",
         "showlegend": true,
         "type": "scatter",
         "x": [
          0,
          1,
          2,
          3,
          4,
          5,
          6,
          7,
          8,
          9
         ],
         "xaxis": "x",
         "y": [
          null,
          null,
          0.027200000000000002,
          0.034499999999999975,
          0.03520000000000001,
          0.07029999999999992,
          0.11119999999999997,
          0.15410000000000001,
          0.16069999999999995,
          0.17969999999999997
         ],
         "yaxis": "y"
        },
        {
         "hovertemplate": "variable=Task2<br>index=%{x}<br>value=%{y}<extra></extra>",
         "legendgroup": "Task2",
         "line": {
          "color": "#00cc96",
          "dash": "solid"
         },
         "marker": {
          "symbol": "circle"
         },
         "mode": "lines",
         "name": "Task2",
         "orientation": "v",
         "showlegend": true,
         "type": "scatter",
         "x": [
          0,
          1,
          2,
          3,
          4,
          5,
          6,
          7,
          8,
          9
         ],
         "xaxis": "x",
         "y": [
          null,
          null,
          null,
          0.0020000000000000018,
          0.0040000000000000036,
          0.045499999999999985,
          0.08760000000000001,
          0.13240000000000007,
          0.15190000000000003,
          0.1603
         ],
         "yaxis": "y"
        },
        {
         "hovertemplate": "variable=Task3<br>index=%{x}<br>value=%{y}<extra></extra>",
         "legendgroup": "Task3",
         "line": {
          "color": "#ab63fa",
          "dash": "solid"
         },
         "marker": {
          "symbol": "circle"
         },
         "mode": "lines",
         "name": "Task3",
         "orientation": "v",
         "showlegend": true,
         "type": "scatter",
         "x": [
          0,
          1,
          2,
          3,
          4,
          5,
          6,
          7,
          8,
          9
         ],
         "xaxis": "x",
         "y": [
          null,
          null,
          null,
          null,
          0.031100000000000017,
          0.049900000000000055,
          0.04490000000000005,
          0.06300000000000006,
          0.0806,
          0.09560000000000002
         ],
         "yaxis": "y"
        },
        {
         "hovertemplate": "variable=Task4<br>index=%{x}<br>value=%{y}<extra></extra>",
         "legendgroup": "Task4",
         "line": {
          "color": "#FFA15A",
          "dash": "solid"
         },
         "marker": {
          "symbol": "circle"
         },
         "mode": "lines",
         "name": "Task4",
         "orientation": "v",
         "showlegend": true,
         "type": "scatter",
         "x": [
          0,
          1,
          2,
          3,
          4,
          5,
          6,
          7,
          8,
          9
         ],
         "xaxis": "x",
         "y": [
          null,
          null,
          null,
          null,
          null,
          0.021299999999999986,
          0.045599999999999974,
          0.0665,
          0.08250000000000002,
          0.08689999999999998
         ],
         "yaxis": "y"
        },
        {
         "hovertemplate": "variable=Task5<br>index=%{x}<br>value=%{y}<extra></extra>",
         "legendgroup": "Task5",
         "line": {
          "color": "#19d3f3",
          "dash": "solid"
         },
         "marker": {
          "symbol": "circle"
         },
         "mode": "lines",
         "name": "Task5",
         "orientation": "v",
         "showlegend": true,
         "type": "scatter",
         "x": [
          0,
          1,
          2,
          3,
          4,
          5,
          6,
          7,
          8,
          9
         ],
         "xaxis": "x",
         "y": [
          null,
          null,
          null,
          null,
          null,
          null,
          0.023499999999999965,
          0.0464,
          0.06899999999999995,
          0.08699999999999997
         ],
         "yaxis": "y"
        },
        {
         "hovertemplate": "variable=Task6<br>index=%{x}<br>value=%{y}<extra></extra>",
         "legendgroup": "Task6",
         "line": {
          "color": "#FF6692",
          "dash": "solid"
         },
         "marker": {
          "symbol": "circle"
         },
         "mode": "lines",
         "name": "Task6",
         "orientation": "v",
         "showlegend": true,
         "type": "scatter",
         "x": [
          0,
          1,
          2,
          3,
          4,
          5,
          6,
          7,
          8,
          9
         ],
         "xaxis": "x",
         "y": [
          null,
          null,
          null,
          null,
          null,
          null,
          null,
          0.02400000000000002,
          0.030399999999999983,
          0.041100000000000025
         ],
         "yaxis": "y"
        },
        {
         "hovertemplate": "variable=Task7<br>index=%{x}<br>value=%{y}<extra></extra>",
         "legendgroup": "Task7",
         "line": {
          "color": "#B6E880",
          "dash": "solid"
         },
         "marker": {
          "symbol": "circle"
         },
         "mode": "lines",
         "name": "Task7",
         "orientation": "v",
         "showlegend": true,
         "type": "scatter",
         "x": [
          0,
          1,
          2,
          3,
          4,
          5,
          6,
          7,
          8,
          9
         ],
         "xaxis": "x",
         "y": [
          null,
          null,
          null,
          null,
          null,
          null,
          null,
          null,
          0.025600000000000067,
          0.0373
         ],
         "yaxis": "y"
        },
        {
         "hovertemplate": "variable=Task8<br>index=%{x}<br>value=%{y}<extra></extra>",
         "legendgroup": "Task8",
         "line": {
          "color": "#FF97FF",
          "dash": "solid"
         },
         "marker": {
          "symbol": "circle"
         },
         "mode": "lines",
         "name": "Task8",
         "orientation": "v",
         "showlegend": true,
         "type": "scatter",
         "x": [
          0,
          1,
          2,
          3,
          4,
          5,
          6,
          7,
          8,
          9
         ],
         "xaxis": "x",
         "y": [
          null,
          null,
          null,
          null,
          null,
          null,
          null,
          null,
          null,
          0.030200000000000005
         ],
         "yaxis": "y"
        },
        {
         "hovertemplate": "variable=Overall<br>index=%{x}<br>value=%{y}<extra></extra>",
         "legendgroup": "Overall",
         "line": {
          "color": "#FECB52",
          "dash": "solid"
         },
         "marker": {
          "symbol": "circle"
         },
         "mode": "lines",
         "name": "Overall",
         "orientation": "v",
         "showlegend": true,
         "type": "scatter",
         "x": [
          0,
          1,
          2,
          3,
          4,
          5,
          6,
          7,
          8,
          9
         ],
         "xaxis": "x",
         "y": [
          0,
          0.02440000000000009,
          0.06415000000000004,
          0.04933333333333334,
          0.050925000000000026,
          0.07325999999999999,
          0.09288333333333333,
          0.11618571428571432,
          0.1100875,
          0.11074444444444445
         ],
         "yaxis": "y"
        }
       ],
       "layout": {
        "legend": {
         "title": {
          "text": "variable"
         },
         "tracegroupgap": 0
        },
        "margin": {
         "t": 60
        },
        "template": {
         "data": {
          "bar": [
           {
            "error_x": {
             "color": "#2a3f5f"
            },
            "error_y": {
             "color": "#2a3f5f"
            },
            "marker": {
             "line": {
              "color": "#E5ECF6",
              "width": 0.5
             },
             "pattern": {
              "fillmode": "overlay",
              "size": 10,
              "solidity": 0.2
             }
            },
            "type": "bar"
           }
          ],
          "barpolar": [
           {
            "marker": {
             "line": {
              "color": "#E5ECF6",
              "width": 0.5
             },
             "pattern": {
              "fillmode": "overlay",
              "size": 10,
              "solidity": 0.2
             }
            },
            "type": "barpolar"
           }
          ],
          "carpet": [
           {
            "aaxis": {
             "endlinecolor": "#2a3f5f",
             "gridcolor": "white",
             "linecolor": "white",
             "minorgridcolor": "white",
             "startlinecolor": "#2a3f5f"
            },
            "baxis": {
             "endlinecolor": "#2a3f5f",
             "gridcolor": "white",
             "linecolor": "white",
             "minorgridcolor": "white",
             "startlinecolor": "#2a3f5f"
            },
            "type": "carpet"
           }
          ],
          "choropleth": [
           {
            "colorbar": {
             "outlinewidth": 0,
             "ticks": ""
            },
            "type": "choropleth"
           }
          ],
          "contour": [
           {
            "colorbar": {
             "outlinewidth": 0,
             "ticks": ""
            },
            "colorscale": [
             [
              0,
              "#0d0887"
             ],
             [
              0.1111111111111111,
              "#46039f"
             ],
             [
              0.2222222222222222,
              "#7201a8"
             ],
             [
              0.3333333333333333,
              "#9c179e"
             ],
             [
              0.4444444444444444,
              "#bd3786"
             ],
             [
              0.5555555555555556,
              "#d8576b"
             ],
             [
              0.6666666666666666,
              "#ed7953"
             ],
             [
              0.7777777777777778,
              "#fb9f3a"
             ],
             [
              0.8888888888888888,
              "#fdca26"
             ],
             [
              1,
              "#f0f921"
             ]
            ],
            "type": "contour"
           }
          ],
          "contourcarpet": [
           {
            "colorbar": {
             "outlinewidth": 0,
             "ticks": ""
            },
            "type": "contourcarpet"
           }
          ],
          "heatmap": [
           {
            "colorbar": {
             "outlinewidth": 0,
             "ticks": ""
            },
            "colorscale": [
             [
              0,
              "#0d0887"
             ],
             [
              0.1111111111111111,
              "#46039f"
             ],
             [
              0.2222222222222222,
              "#7201a8"
             ],
             [
              0.3333333333333333,
              "#9c179e"
             ],
             [
              0.4444444444444444,
              "#bd3786"
             ],
             [
              0.5555555555555556,
              "#d8576b"
             ],
             [
              0.6666666666666666,
              "#ed7953"
             ],
             [
              0.7777777777777778,
              "#fb9f3a"
             ],
             [
              0.8888888888888888,
              "#fdca26"
             ],
             [
              1,
              "#f0f921"
             ]
            ],
            "type": "heatmap"
           }
          ],
          "heatmapgl": [
           {
            "colorbar": {
             "outlinewidth": 0,
             "ticks": ""
            },
            "colorscale": [
             [
              0,
              "#0d0887"
             ],
             [
              0.1111111111111111,
              "#46039f"
             ],
             [
              0.2222222222222222,
              "#7201a8"
             ],
             [
              0.3333333333333333,
              "#9c179e"
             ],
             [
              0.4444444444444444,
              "#bd3786"
             ],
             [
              0.5555555555555556,
              "#d8576b"
             ],
             [
              0.6666666666666666,
              "#ed7953"
             ],
             [
              0.7777777777777778,
              "#fb9f3a"
             ],
             [
              0.8888888888888888,
              "#fdca26"
             ],
             [
              1,
              "#f0f921"
             ]
            ],
            "type": "heatmapgl"
           }
          ],
          "histogram": [
           {
            "marker": {
             "pattern": {
              "fillmode": "overlay",
              "size": 10,
              "solidity": 0.2
             }
            },
            "type": "histogram"
           }
          ],
          "histogram2d": [
           {
            "colorbar": {
             "outlinewidth": 0,
             "ticks": ""
            },
            "colorscale": [
             [
              0,
              "#0d0887"
             ],
             [
              0.1111111111111111,
              "#46039f"
             ],
             [
              0.2222222222222222,
              "#7201a8"
             ],
             [
              0.3333333333333333,
              "#9c179e"
             ],
             [
              0.4444444444444444,
              "#bd3786"
             ],
             [
              0.5555555555555556,
              "#d8576b"
             ],
             [
              0.6666666666666666,
              "#ed7953"
             ],
             [
              0.7777777777777778,
              "#fb9f3a"
             ],
             [
              0.8888888888888888,
              "#fdca26"
             ],
             [
              1,
              "#f0f921"
             ]
            ],
            "type": "histogram2d"
           }
          ],
          "histogram2dcontour": [
           {
            "colorbar": {
             "outlinewidth": 0,
             "ticks": ""
            },
            "colorscale": [
             [
              0,
              "#0d0887"
             ],
             [
              0.1111111111111111,
              "#46039f"
             ],
             [
              0.2222222222222222,
              "#7201a8"
             ],
             [
              0.3333333333333333,
              "#9c179e"
             ],
             [
              0.4444444444444444,
              "#bd3786"
             ],
             [
              0.5555555555555556,
              "#d8576b"
             ],
             [
              0.6666666666666666,
              "#ed7953"
             ],
             [
              0.7777777777777778,
              "#fb9f3a"
             ],
             [
              0.8888888888888888,
              "#fdca26"
             ],
             [
              1,
              "#f0f921"
             ]
            ],
            "type": "histogram2dcontour"
           }
          ],
          "mesh3d": [
           {
            "colorbar": {
             "outlinewidth": 0,
             "ticks": ""
            },
            "type": "mesh3d"
           }
          ],
          "parcoords": [
           {
            "line": {
             "colorbar": {
              "outlinewidth": 0,
              "ticks": ""
             }
            },
            "type": "parcoords"
           }
          ],
          "pie": [
           {
            "automargin": true,
            "type": "pie"
           }
          ],
          "scatter": [
           {
            "fillpattern": {
             "fillmode": "overlay",
             "size": 10,
             "solidity": 0.2
            },
            "type": "scatter"
           }
          ],
          "scatter3d": [
           {
            "line": {
             "colorbar": {
              "outlinewidth": 0,
              "ticks": ""
             }
            },
            "marker": {
             "colorbar": {
              "outlinewidth": 0,
              "ticks": ""
             }
            },
            "type": "scatter3d"
           }
          ],
          "scattercarpet": [
           {
            "marker": {
             "colorbar": {
              "outlinewidth": 0,
              "ticks": ""
             }
            },
            "type": "scattercarpet"
           }
          ],
          "scattergeo": [
           {
            "marker": {
             "colorbar": {
              "outlinewidth": 0,
              "ticks": ""
             }
            },
            "type": "scattergeo"
           }
          ],
          "scattergl": [
           {
            "marker": {
             "colorbar": {
              "outlinewidth": 0,
              "ticks": ""
             }
            },
            "type": "scattergl"
           }
          ],
          "scattermapbox": [
           {
            "marker": {
             "colorbar": {
              "outlinewidth": 0,
              "ticks": ""
             }
            },
            "type": "scattermapbox"
           }
          ],
          "scatterpolar": [
           {
            "marker": {
             "colorbar": {
              "outlinewidth": 0,
              "ticks": ""
             }
            },
            "type": "scatterpolar"
           }
          ],
          "scatterpolargl": [
           {
            "marker": {
             "colorbar": {
              "outlinewidth": 0,
              "ticks": ""
             }
            },
            "type": "scatterpolargl"
           }
          ],
          "scatterternary": [
           {
            "marker": {
             "colorbar": {
              "outlinewidth": 0,
              "ticks": ""
             }
            },
            "type": "scatterternary"
           }
          ],
          "surface": [
           {
            "colorbar": {
             "outlinewidth": 0,
             "ticks": ""
            },
            "colorscale": [
             [
              0,
              "#0d0887"
             ],
             [
              0.1111111111111111,
              "#46039f"
             ],
             [
              0.2222222222222222,
              "#7201a8"
             ],
             [
              0.3333333333333333,
              "#9c179e"
             ],
             [
              0.4444444444444444,
              "#bd3786"
             ],
             [
              0.5555555555555556,
              "#d8576b"
             ],
             [
              0.6666666666666666,
              "#ed7953"
             ],
             [
              0.7777777777777778,
              "#fb9f3a"
             ],
             [
              0.8888888888888888,
              "#fdca26"
             ],
             [
              1,
              "#f0f921"
             ]
            ],
            "type": "surface"
           }
          ],
          "table": [
           {
            "cells": {
             "fill": {
              "color": "#EBF0F8"
             },
             "line": {
              "color": "white"
             }
            },
            "header": {
             "fill": {
              "color": "#C8D4E3"
             },
             "line": {
              "color": "white"
             }
            },
            "type": "table"
           }
          ]
         },
         "layout": {
          "annotationdefaults": {
           "arrowcolor": "#2a3f5f",
           "arrowhead": 0,
           "arrowwidth": 1
          },
          "autotypenumbers": "strict",
          "coloraxis": {
           "colorbar": {
            "outlinewidth": 0,
            "ticks": ""
           }
          },
          "colorscale": {
           "diverging": [
            [
             0,
             "#8e0152"
            ],
            [
             0.1,
             "#c51b7d"
            ],
            [
             0.2,
             "#de77ae"
            ],
            [
             0.3,
             "#f1b6da"
            ],
            [
             0.4,
             "#fde0ef"
            ],
            [
             0.5,
             "#f7f7f7"
            ],
            [
             0.6,
             "#e6f5d0"
            ],
            [
             0.7,
             "#b8e186"
            ],
            [
             0.8,
             "#7fbc41"
            ],
            [
             0.9,
             "#4d9221"
            ],
            [
             1,
             "#276419"
            ]
           ],
           "sequential": [
            [
             0,
             "#0d0887"
            ],
            [
             0.1111111111111111,
             "#46039f"
            ],
            [
             0.2222222222222222,
             "#7201a8"
            ],
            [
             0.3333333333333333,
             "#9c179e"
            ],
            [
             0.4444444444444444,
             "#bd3786"
            ],
            [
             0.5555555555555556,
             "#d8576b"
            ],
            [
             0.6666666666666666,
             "#ed7953"
            ],
            [
             0.7777777777777778,
             "#fb9f3a"
            ],
            [
             0.8888888888888888,
             "#fdca26"
            ],
            [
             1,
             "#f0f921"
            ]
           ],
           "sequentialminus": [
            [
             0,
             "#0d0887"
            ],
            [
             0.1111111111111111,
             "#46039f"
            ],
            [
             0.2222222222222222,
             "#7201a8"
            ],
            [
             0.3333333333333333,
             "#9c179e"
            ],
            [
             0.4444444444444444,
             "#bd3786"
            ],
            [
             0.5555555555555556,
             "#d8576b"
            ],
            [
             0.6666666666666666,
             "#ed7953"
            ],
            [
             0.7777777777777778,
             "#fb9f3a"
            ],
            [
             0.8888888888888888,
             "#fdca26"
            ],
            [
             1,
             "#f0f921"
            ]
           ]
          },
          "colorway": [
           "#636efa",
           "#EF553B",
           "#00cc96",
           "#ab63fa",
           "#FFA15A",
           "#19d3f3",
           "#FF6692",
           "#B6E880",
           "#FF97FF",
           "#FECB52"
          ],
          "font": {
           "color": "#2a3f5f"
          },
          "geo": {
           "bgcolor": "white",
           "lakecolor": "white",
           "landcolor": "#E5ECF6",
           "showlakes": true,
           "showland": true,
           "subunitcolor": "white"
          },
          "hoverlabel": {
           "align": "left"
          },
          "hovermode": "closest",
          "mapbox": {
           "style": "light"
          },
          "paper_bgcolor": "white",
          "plot_bgcolor": "#E5ECF6",
          "polar": {
           "angularaxis": {
            "gridcolor": "white",
            "linecolor": "white",
            "ticks": ""
           },
           "bgcolor": "#E5ECF6",
           "radialaxis": {
            "gridcolor": "white",
            "linecolor": "white",
            "ticks": ""
           }
          },
          "scene": {
           "xaxis": {
            "backgroundcolor": "#E5ECF6",
            "gridcolor": "white",
            "gridwidth": 2,
            "linecolor": "white",
            "showbackground": true,
            "ticks": "",
            "zerolinecolor": "white"
           },
           "yaxis": {
            "backgroundcolor": "#E5ECF6",
            "gridcolor": "white",
            "gridwidth": 2,
            "linecolor": "white",
            "showbackground": true,
            "ticks": "",
            "zerolinecolor": "white"
           },
           "zaxis": {
            "backgroundcolor": "#E5ECF6",
            "gridcolor": "white",
            "gridwidth": 2,
            "linecolor": "white",
            "showbackground": true,
            "ticks": "",
            "zerolinecolor": "white"
           }
          },
          "shapedefaults": {
           "line": {
            "color": "#2a3f5f"
           }
          },
          "ternary": {
           "aaxis": {
            "gridcolor": "white",
            "linecolor": "white",
            "ticks": ""
           },
           "baxis": {
            "gridcolor": "white",
            "linecolor": "white",
            "ticks": ""
           },
           "bgcolor": "#E5ECF6",
           "caxis": {
            "gridcolor": "white",
            "linecolor": "white",
            "ticks": ""
           }
          },
          "title": {
           "x": 0.05
          },
          "xaxis": {
           "automargin": true,
           "gridcolor": "white",
           "linecolor": "white",
           "ticks": "",
           "title": {
            "standoff": 15
           },
           "zerolinecolor": "white",
           "zerolinewidth": 2
          },
          "yaxis": {
           "automargin": true,
           "gridcolor": "white",
           "linecolor": "white",
           "ticks": "",
           "title": {
            "standoff": 15
           },
           "zerolinecolor": "white",
           "zerolinewidth": 2
          }
         }
        },
        "xaxis": {
         "anchor": "y",
         "domain": [
          0,
          1
         ],
         "title": {
          "text": "index"
         }
        },
        "yaxis": {
         "anchor": "x",
         "domain": [
          0,
          1
         ],
         "title": {
          "text": "value"
         }
        }
       }
      }
     },
     "metadata": {},
     "output_type": "display_data"
    }
   ],
   "source": [
    "from copy import deepcopy\n",
    "# transform forgetting_measures dict into df\n",
    "# but first, we need to make sure that all lists have the same length\n",
    "max_len = max(map(len, forgetting_measures.values()))\n",
    "forgetting_measures_tmp = deepcopy(forgetting_measures)\n",
    "forgetting_measures_tmp = {k: [None] * (max_len - len(v)) + v for k, v in forgetting_measures_tmp.items()}\n",
    "\n",
    "forgetting_df = pd.DataFrame(forgetting_measures_tmp)\n",
    "forgetting_df.index = range(10)\n",
    "\n",
    "fig = px.line(forgetting_df, x=forgetting_df.index, y=forgetting_df.columns)\n",
    "fig.show()"
   ]
  },
  {
   "cell_type": "markdown",
   "metadata": {},
   "source": [
    "# Store metrics"
   ]
  },
  {
   "cell_type": "code",
   "execution_count": 96,
   "metadata": {},
   "outputs": [],
   "source": [
    "pickle.dump(eval_plugin.get_all_metrics(), open(SAVED_METRICS_PATH / \"mwun.pkl\", \"wb\"))"
   ]
  }
 ],
 "metadata": {
  "kernelspec": {
   "display_name": "tt2",
   "language": "python",
   "name": "python3"
  },
  "language_info": {
   "codemirror_mode": {
    "name": "ipython",
    "version": 3
   },
   "file_extension": ".py",
   "mimetype": "text/x-python",
   "name": "python",
   "nbconvert_exporter": "python",
   "pygments_lexer": "ipython3",
   "version": "3.9.18"
  }
 },
 "nbformat": 4,
 "nbformat_minor": 2
}
