{
 "cells": [
  {
   "cell_type": "code",
   "execution_count": 98,
   "metadata": {},
   "outputs": [
    {
     "name": "stdout",
     "output_type": "stream",
     "text": [
      "The autoreload extension is already loaded. To reload it, use:\n",
      "  %reload_ext autoreload\n"
     ]
    }
   ],
   "source": [
    "%load_ext autoreload\n",
    "%autoreload 2"
   ]
  },
  {
   "cell_type": "markdown",
   "metadata": {},
   "source": [
    "# Libraries"
   ]
  },
  {
   "cell_type": "code",
   "execution_count": 99,
   "metadata": {},
   "outputs": [],
   "source": [
    "from torchvision.transforms import Compose, ToTensor\n",
    "from torchsummary import summary\n",
    "import pickle\n",
    "import pandas as pd\n",
    "import plotly.express as px\n",
    "from tqdm import tqdm"
   ]
  },
  {
   "cell_type": "code",
   "execution_count": 100,
   "metadata": {},
   "outputs": [],
   "source": [
    "from avalanche.benchmarks.classic import PermutedMNIST\n",
    "from avalanche.models import SimpleMLP\n",
    "from avalanche.training.plugins import EvaluationPlugin\n",
    "from avalanche.logging import InteractiveLogger\n",
    "from avalanche.evaluation.metrics import accuracy_metrics, forgetting_metrics, bwt_metrics, timing_metrics, cpu_usage_metrics, ram_usage_metrics\n",
    "\n",
    "from torch.nn import CrossEntropyLoss\n",
    "from torch.optim import SGD"
   ]
  },
  {
   "cell_type": "markdown",
   "metadata": {},
   "source": [
    "## Custom Libraries"
   ]
  },
  {
   "cell_type": "code",
   "execution_count": 101,
   "metadata": {},
   "outputs": [],
   "source": [
    "import sys\n",
    "\n",
    "sys.path.append(\"../base_code/\")\n",
    "\n",
    "from base_code.constants import DATASETS_PATH, SAVED_METRICS_PATH\n",
    "from base_code.training import MWUN\n",
    "from base_code.plugins import WeightStoragePlugin"
   ]
  },
  {
   "cell_type": "markdown",
   "metadata": {},
   "source": [
    "# Dataset and definitions"
   ]
  },
  {
   "cell_type": "markdown",
   "metadata": {},
   "source": [
    "## Dataset loading\n",
    "\n",
    "We load state-of-the-art dataset Modified NIST"
   ]
  },
  {
   "cell_type": "code",
   "execution_count": 102,
   "metadata": {},
   "outputs": [],
   "source": [
    "scenario = PermutedMNIST(10, seed=1234, dataset_root=DATASETS_PATH)"
   ]
  },
  {
   "cell_type": "markdown",
   "metadata": {},
   "source": [
    "## Scenario creation with train test streaming\n",
    "\n",
    "In this point, we define our scenario considering a training where in every experience of it, a new class is presented. This is, first we train with a class $a$, the following experience we train with class $b$ ($a \\neq b$)"
   ]
  },
  {
   "cell_type": "code",
   "execution_count": 103,
   "metadata": {},
   "outputs": [],
   "source": [
    "train_stream = scenario.train_stream\n",
    "test_stream = scenario.test_stream"
   ]
  },
  {
   "cell_type": "markdown",
   "metadata": {},
   "source": [
    "## Evaluation metrics definition"
   ]
  },
  {
   "cell_type": "code",
   "execution_count": 107,
   "metadata": {},
   "outputs": [],
   "source": [
    "eval_plugin = EvaluationPlugin(\n",
    "    accuracy_metrics(experience=True, stream=True, trained_experience=True),\n",
    "    forgetting_metrics(experience=True, stream=True),\n",
    "    bwt_metrics(experience=True, stream=True),\n",
    "    timing_metrics(epoch=True, epoch_running=True),\n",
    "    cpu_usage_metrics(experience=True, stream=True),\n",
    "    ram_usage_metrics(experience=True, stream=True),\n",
    "    loggers=[InteractiveLogger()]\n",
    ")"
   ]
  },
  {
   "cell_type": "markdown",
   "metadata": {},
   "source": [
    "## Plugin defitinitions"
   ]
  },
  {
   "cell_type": "code",
   "execution_count": 105,
   "metadata": {},
   "outputs": [],
   "source": [
    "model_plugins = [WeightStoragePlugin()]"
   ]
  },
  {
   "cell_type": "markdown",
   "metadata": {},
   "source": [
    "## Model, Optimizer, Loss function and Strategy definition\n",
    "\n",
    "* `model`: Multi Layer Perceptron\n",
    "* `Optimizer`: Adam\n",
    "* `Loss function`: Cross Entropy\n",
    "* `Strategy`: Elastic Weight Consolidation"
   ]
  },
  {
   "cell_type": "code",
   "execution_count": 108,
   "metadata": {},
   "outputs": [],
   "source": [
    "# model = MLP(n_classes=scenario.n_classes, n_channels=1, width=28, height=28)\n",
    "model = SimpleMLP(num_classes=scenario.n_classes, input_size=28 * 28, hidden_layers=2, hidden_size=100)\n",
    "optimizer = SGD(model.parameters(), lr=1e-3)\n",
    "criterion = CrossEntropyLoss()\n",
    "strategy = MWUN(\n",
    "    model,\n",
    "    optimizer,\n",
    "    criterion,\n",
    "    eps=1e-5,\n",
    "    train_epochs=5,\n",
    "    train_mb_size=128,\n",
    "    plugins=model_plugins,\n",
    "    evaluator=eval_plugin,\n",
    "    eval_mb_size=128,\n",
    ")"
   ]
  },
  {
   "cell_type": "markdown",
   "metadata": {},
   "source": [
    "# Training and evaluation\n",
    "\n",
    "Revisar porque el entrenamiento se está comportando de forma rara"
   ]
  },
  {
   "cell_type": "code",
   "execution_count": 109,
   "metadata": {},
   "outputs": [
    {
     "name": "stderr",
     "output_type": "stream",
     "text": [
      "  0%|          | 0/10 [00:00<?, ?it/s]"
     ]
    },
    {
     "name": "stdout",
     "output_type": "stream",
     "text": [
      "-- >> Start of training phase << --\n",
      "100%|██████████| 469/469 [00:04<00:00, 96.94it/s] \n",
      "Epoch 0 ended.\n",
      "\tRunningTime_Epoch/train_phase/train_stream/Task000 = 0.0001\n",
      "\tTime_Epoch/train_phase/train_stream/Task000 = 4.8386\n",
      "100%|██████████| 469/469 [00:04<00:00, 98.40it/s] \n",
      "Epoch 1 ended.\n",
      "\tRunningTime_Epoch/train_phase/train_stream/Task000 = 0.0000\n",
      "\tTime_Epoch/train_phase/train_stream/Task000 = 4.7664\n",
      "100%|██████████| 469/469 [00:04<00:00, 98.01it/s] \n",
      "Epoch 2 ended.\n",
      "\tRunningTime_Epoch/train_phase/train_stream/Task000 = 0.0000\n",
      "\tTime_Epoch/train_phase/train_stream/Task000 = 4.7853\n",
      "100%|██████████| 469/469 [00:04<00:00, 98.68it/s] \n",
      "Epoch 3 ended.\n",
      "\tRunningTime_Epoch/train_phase/train_stream/Task000 = 0.0000\n",
      "\tTime_Epoch/train_phase/train_stream/Task000 = 4.7530\n",
      "100%|██████████| 469/469 [00:04<00:00, 99.28it/s] \n",
      "Epoch 4 ended.\n",
      "\tRunningTime_Epoch/train_phase/train_stream/Task000 = 0.0000\n",
      "\tTime_Epoch/train_phase/train_stream/Task000 = 4.7243\n",
      "-- >> End of training phase << --\n",
      "-- >> Start of eval phase << --\n",
      "-- Starting eval on experience 0 (Task 0) from train stream --\n",
      "100%|██████████| 469/469 [00:03<00:00, 133.70it/s]\n",
      "> Eval on experience 0 (Task 0) from train stream ended.\n",
      "\tCPUUsage_Exp/eval_phase/train_stream/Task000/Exp000 = 107.1698\n",
      "\tMaxRAMUsage_Experience/eval_phase/train_stream/Task000/Exp000 = 302.8594\n",
      "\tTop1_Acc_Exp/eval_phase/train_stream/Task000/Exp000 = 0.7354\n",
      "-- Starting eval on experience 1 (Task 0) from train stream --\n",
      "100%|██████████| 469/469 [00:03<00:00, 134.20it/s]\n",
      "> Eval on experience 1 (Task 0) from train stream ended.\n",
      "\tCPUUsage_Exp/eval_phase/train_stream/Task000/Exp001 = 106.6501\n",
      "\tMaxRAMUsage_Experience/eval_phase/train_stream/Task000/Exp001 = 294.1719\n",
      "\tTop1_Acc_Exp/eval_phase/train_stream/Task000/Exp001 = 0.1914\n",
      "-- Starting eval on experience 2 (Task 0) from train stream --\n",
      "100%|██████████| 469/469 [00:03<00:00, 134.24it/s]\n",
      "> Eval on experience 2 (Task 0) from train stream ended.\n",
      "\tCPUUsage_Exp/eval_phase/train_stream/Task000/Exp002 = 106.1849\n",
      "\tMaxRAMUsage_Experience/eval_phase/train_stream/Task000/Exp002 = 294.5000\n",
      "\tTop1_Acc_Exp/eval_phase/train_stream/Task000/Exp002 = 0.1492\n",
      "-- Starting eval on experience 3 (Task 0) from train stream --\n",
      "100%|██████████| 469/469 [00:03<00:00, 134.42it/s]\n",
      "> Eval on experience 3 (Task 0) from train stream ended.\n",
      "\tCPUUsage_Exp/eval_phase/train_stream/Task000/Exp003 = 106.1313\n",
      "\tMaxRAMUsage_Experience/eval_phase/train_stream/Task000/Exp003 = 294.8906\n",
      "\tTop1_Acc_Exp/eval_phase/train_stream/Task000/Exp003 = 0.1167\n",
      "-- Starting eval on experience 4 (Task 0) from train stream --\n",
      "100%|██████████| 469/469 [00:03<00:00, 133.82it/s]\n",
      "> Eval on experience 4 (Task 0) from train stream ended.\n",
      "\tCPUUsage_Exp/eval_phase/train_stream/Task000/Exp004 = 106.2863\n",
      "\tMaxRAMUsage_Experience/eval_phase/train_stream/Task000/Exp004 = 292.0469\n",
      "\tTop1_Acc_Exp/eval_phase/train_stream/Task000/Exp004 = 0.1470\n",
      "-- Starting eval on experience 5 (Task 0) from train stream --\n",
      "100%|██████████| 469/469 [00:03<00:00, 130.87it/s]\n",
      "> Eval on experience 5 (Task 0) from train stream ended.\n",
      "\tCPUUsage_Exp/eval_phase/train_stream/Task000/Exp005 = 106.2886\n",
      "\tMaxRAMUsage_Experience/eval_phase/train_stream/Task000/Exp005 = 254.7031\n",
      "\tTop1_Acc_Exp/eval_phase/train_stream/Task000/Exp005 = 0.1478\n",
      "-- Starting eval on experience 6 (Task 0) from train stream --\n",
      "100%|██████████| 469/469 [00:03<00:00, 133.60it/s]\n",
      "> Eval on experience 6 (Task 0) from train stream ended.\n",
      "\tCPUUsage_Exp/eval_phase/train_stream/Task000/Exp006 = 106.8829\n",
      "\tMaxRAMUsage_Experience/eval_phase/train_stream/Task000/Exp006 = 150.5625\n",
      "\tTop1_Acc_Exp/eval_phase/train_stream/Task000/Exp006 = 0.1821\n",
      "-- Starting eval on experience 7 (Task 0) from train stream --\n",
      "100%|██████████| 469/469 [00:03<00:00, 133.34it/s]\n",
      "> Eval on experience 7 (Task 0) from train stream ended.\n",
      "\tCPUUsage_Exp/eval_phase/train_stream/Task000/Exp007 = 105.9103\n",
      "\tMaxRAMUsage_Experience/eval_phase/train_stream/Task000/Exp007 = 148.7188\n",
      "\tTop1_Acc_Exp/eval_phase/train_stream/Task000/Exp007 = 0.1729\n",
      "-- Starting eval on experience 8 (Task 0) from train stream --\n",
      "100%|██████████| 469/469 [00:03<00:00, 133.98it/s]\n",
      "> Eval on experience 8 (Task 0) from train stream ended.\n",
      "\tCPUUsage_Exp/eval_phase/train_stream/Task000/Exp008 = 105.3969\n",
      "\tMaxRAMUsage_Experience/eval_phase/train_stream/Task000/Exp008 = 151.8594\n",
      "\tTop1_Acc_Exp/eval_phase/train_stream/Task000/Exp008 = 0.1753\n",
      "-- Starting eval on experience 9 (Task 0) from train stream --\n",
      "100%|██████████| 469/469 [00:03<00:00, 134.17it/s]\n",
      "> Eval on experience 9 (Task 0) from train stream ended.\n",
      "\tCPUUsage_Exp/eval_phase/train_stream/Task000/Exp009 = 106.1489\n",
      "\tMaxRAMUsage_Experience/eval_phase/train_stream/Task000/Exp009 = 152.3281\n",
      "\tTop1_Acc_Exp/eval_phase/train_stream/Task000/Exp009 = 0.1847\n",
      "-- >> End of eval phase << --\n",
      "\tAccuracy_On_Trained_Experiences/eval_phase/train_stream/Task000 = 0.7354\n",
      "\tCPUUsage_Stream/eval_phase/train_stream/Task000 = 106.2933\n",
      "\tMaxRAMUsage_Stream/eval_phase/train_stream/Task000 = 302.8594\n",
      "\tStreamBWT/eval_phase/train_stream = 0.0000\n",
      "\tStreamForgetting/eval_phase/train_stream = 0.0000\n",
      "\tTop1_Acc_Stream/eval_phase/train_stream/Task000 = 0.2203\n",
      "-- >> Start of eval phase << --\n",
      "-- Starting eval on experience 0 (Task 0) from test stream --\n",
      "100%|██████████| 79/79 [00:00<00:00, 124.47it/s]\n",
      "> Eval on experience 0 (Task 0) from test stream ended.\n",
      "\tCPUUsage_Exp/eval_phase/test_stream/Task000/Exp000 = 105.4504\n",
      "\tMaxRAMUsage_Experience/eval_phase/test_stream/Task000/Exp000 = 0\n",
      "\tTop1_Acc_Exp/eval_phase/test_stream/Task000/Exp000 = 0.7399\n",
      "-- Starting eval on experience 1 (Task 0) from test stream --\n",
      "100%|██████████| 79/79 [00:00<00:00, 137.16it/s]\n",
      "> Eval on experience 1 (Task 0) from test stream ended.\n",
      "\tCPUUsage_Exp/eval_phase/test_stream/Task000/Exp001 = 107.1581\n",
      "\tMaxRAMUsage_Experience/eval_phase/test_stream/Task000/Exp001 = 162.7656\n",
      "\tTop1_Acc_Exp/eval_phase/test_stream/Task000/Exp001 = 0.2007\n",
      "-- Starting eval on experience 2 (Task 0) from test stream --\n",
      "100%|██████████| 79/79 [00:00<00:00, 125.94it/s]\n",
      "> Eval on experience 2 (Task 0) from test stream ended.\n",
      "\tCPUUsage_Exp/eval_phase/test_stream/Task000/Exp002 = 103.6078\n",
      "\tMaxRAMUsage_Experience/eval_phase/test_stream/Task000/Exp002 = 0\n",
      "\tTop1_Acc_Exp/eval_phase/test_stream/Task000/Exp002 = 0.1442\n",
      "-- Starting eval on experience 3 (Task 0) from test stream --\n",
      "100%|██████████| 79/79 [00:00<00:00, 131.37it/s]\n",
      "> Eval on experience 3 (Task 0) from test stream ended.\n",
      "\tCPUUsage_Exp/eval_phase/test_stream/Task000/Exp003 = 104.1488\n",
      "\tMaxRAMUsage_Experience/eval_phase/test_stream/Task000/Exp003 = 161.5000\n",
      "\tTop1_Acc_Exp/eval_phase/test_stream/Task000/Exp003 = 0.1194\n",
      "-- Starting eval on experience 4 (Task 0) from test stream --\n",
      "100%|██████████| 79/79 [00:00<00:00, 137.27it/s]\n",
      "> Eval on experience 4 (Task 0) from test stream ended.\n",
      "\tCPUUsage_Exp/eval_phase/test_stream/Task000/Exp004 = 106.8357\n",
      "\tMaxRAMUsage_Experience/eval_phase/test_stream/Task000/Exp004 = 162.0000\n",
      "\tTop1_Acc_Exp/eval_phase/test_stream/Task000/Exp004 = 0.1455\n",
      "-- Starting eval on experience 5 (Task 0) from test stream --\n",
      "100%|██████████| 79/79 [00:00<00:00, 132.23it/s]\n",
      "> Eval on experience 5 (Task 0) from test stream ended.\n",
      "\tCPUUsage_Exp/eval_phase/test_stream/Task000/Exp005 = 104.7689\n",
      "\tMaxRAMUsage_Experience/eval_phase/test_stream/Task000/Exp005 = 0\n",
      "\tTop1_Acc_Exp/eval_phase/test_stream/Task000/Exp005 = 0.1509\n",
      "-- Starting eval on experience 6 (Task 0) from test stream --\n",
      "100%|██████████| 79/79 [00:00<00:00, 135.81it/s]\n",
      "> Eval on experience 6 (Task 0) from test stream ended.\n",
      "\tCPUUsage_Exp/eval_phase/test_stream/Task000/Exp006 = 106.0138\n",
      "\tMaxRAMUsage_Experience/eval_phase/test_stream/Task000/Exp006 = 162.9531\n",
      "\tTop1_Acc_Exp/eval_phase/test_stream/Task000/Exp006 = 0.1790\n",
      "-- Starting eval on experience 7 (Task 0) from test stream --\n",
      "100%|██████████| 79/79 [00:00<00:00, 132.42it/s]\n",
      "> Eval on experience 7 (Task 0) from test stream ended.\n",
      "\tCPUUsage_Exp/eval_phase/test_stream/Task000/Exp007 = 104.9452\n",
      "\tMaxRAMUsage_Experience/eval_phase/test_stream/Task000/Exp007 = 0\n",
      "\tTop1_Acc_Exp/eval_phase/test_stream/Task000/Exp007 = 0.1686\n",
      "-- Starting eval on experience 8 (Task 0) from test stream --\n",
      "100%|██████████| 79/79 [00:00<00:00, 137.04it/s]\n",
      "> Eval on experience 8 (Task 0) from test stream ended.\n",
      "\tCPUUsage_Exp/eval_phase/test_stream/Task000/Exp008 = 106.3250\n",
      "\tMaxRAMUsage_Experience/eval_phase/test_stream/Task000/Exp008 = 163.8594\n",
      "\tTop1_Acc_Exp/eval_phase/test_stream/Task000/Exp008 = 0.1745\n",
      "-- Starting eval on experience 9 (Task 0) from test stream --\n",
      "100%|██████████| 79/79 [00:00<00:00, 132.12it/s]\n",
      "> Eval on experience 9 (Task 0) from test stream ended.\n",
      "\tCPUUsage_Exp/eval_phase/test_stream/Task000/Exp009 = 104.3999\n",
      "\tMaxRAMUsage_Experience/eval_phase/test_stream/Task000/Exp009 = 0\n",
      "\tTop1_Acc_Exp/eval_phase/test_stream/Task000/Exp009 = 0.1895\n",
      "-- >> End of eval phase << --\n",
      "\tAccuracy_On_Trained_Experiences/eval_phase/test_stream/Task000 = 0.7399\n",
      "\tCPUUsage_Stream/eval_phase/test_stream/Task000 = 105.3196\n",
      "\tMaxRAMUsage_Stream/eval_phase/test_stream/Task000 = 163.8594\n",
      "\tStreamBWT/eval_phase/test_stream = 0.0000\n",
      "\tStreamForgetting/eval_phase/test_stream = 0.0000\n",
      "\tTop1_Acc_Stream/eval_phase/test_stream/Task000 = 0.2212\n"
     ]
    },
    {
     "name": "stderr",
     "output_type": "stream",
     "text": [
      " 10%|█         | 1/10 [01:05<09:53, 65.91s/it]"
     ]
    },
    {
     "name": "stdout",
     "output_type": "stream",
     "text": [
      "-- >> Start of training phase << --\n",
      "100%|██████████| 469/469 [00:04<00:00, 99.20it/s] \n",
      "Epoch 0 ended.\n",
      "\tRunningTime_Epoch/train_phase/train_stream/Task000 = 0.0000\n",
      "\tTime_Epoch/train_phase/train_stream/Task000 = 4.7282\n",
      "100%|██████████| 469/469 [00:04<00:00, 98.35it/s] \n",
      "Epoch 1 ended.\n",
      "\tRunningTime_Epoch/train_phase/train_stream/Task000 = 0.0000\n",
      "\tTime_Epoch/train_phase/train_stream/Task000 = 4.7688\n",
      "100%|██████████| 469/469 [00:04<00:00, 99.05it/s] \n",
      "Epoch 2 ended.\n",
      "\tRunningTime_Epoch/train_phase/train_stream/Task000 = 0.0000\n",
      "\tTime_Epoch/train_phase/train_stream/Task000 = 4.7352\n",
      "100%|██████████| 469/469 [00:04<00:00, 98.04it/s] \n",
      "Epoch 3 ended.\n",
      "\tRunningTime_Epoch/train_phase/train_stream/Task000 = 0.0000\n",
      "\tTime_Epoch/train_phase/train_stream/Task000 = 4.7838\n",
      "100%|██████████| 469/469 [00:04<00:00, 98.12it/s] \n",
      "Epoch 4 ended.\n",
      "\tRunningTime_Epoch/train_phase/train_stream/Task000 = 0.0000\n",
      "\tTime_Epoch/train_phase/train_stream/Task000 = 4.7804\n",
      "-- >> End of training phase << --\n",
      "-- >> Start of eval phase << --\n",
      "-- Starting eval on experience 0 (Task 0) from train stream --\n",
      "100%|██████████| 469/469 [00:03<00:00, 132.94it/s]\n",
      "> Eval on experience 0 (Task 0) from train stream ended.\n",
      "\tCPUUsage_Exp/eval_phase/train_stream/Task000/Exp000 = 106.9345\n",
      "\tExperienceBWT/eval_phase/train_stream/Task000/Exp000 = -0.0319\n",
      "\tExperienceForgetting/eval_phase/train_stream/Task000/Exp000 = 0.0319\n",
      "\tMaxRAMUsage_Experience/eval_phase/train_stream/Task000/Exp000 = 190.1875\n",
      "\tTop1_Acc_Exp/eval_phase/train_stream/Task000/Exp000 = 0.7080\n",
      "-- Starting eval on experience 1 (Task 0) from train stream --\n",
      "100%|██████████| 469/469 [00:03<00:00, 130.65it/s]\n",
      "> Eval on experience 1 (Task 0) from train stream ended.\n",
      "\tCPUUsage_Exp/eval_phase/train_stream/Task000/Exp001 = 106.0333\n",
      "\tMaxRAMUsage_Experience/eval_phase/train_stream/Task000/Exp001 = 190.2656\n",
      "\tTop1_Acc_Exp/eval_phase/train_stream/Task000/Exp001 = 0.7682\n",
      "-- Starting eval on experience 2 (Task 0) from train stream --\n",
      "100%|██████████| 469/469 [00:03<00:00, 132.89it/s]\n",
      "> Eval on experience 2 (Task 0) from train stream ended.\n",
      "\tCPUUsage_Exp/eval_phase/train_stream/Task000/Exp002 = 105.6474\n",
      "\tMaxRAMUsage_Experience/eval_phase/train_stream/Task000/Exp002 = 190.1719\n",
      "\tTop1_Acc_Exp/eval_phase/train_stream/Task000/Exp002 = 0.1660\n",
      "-- Starting eval on experience 3 (Task 0) from train stream --\n",
      "100%|██████████| 469/469 [00:03<00:00, 132.54it/s]\n",
      "> Eval on experience 3 (Task 0) from train stream ended.\n",
      "\tCPUUsage_Exp/eval_phase/train_stream/Task000/Exp003 = 105.9741\n",
      "\tMaxRAMUsage_Experience/eval_phase/train_stream/Task000/Exp003 = 190.7031\n",
      "\tTop1_Acc_Exp/eval_phase/train_stream/Task000/Exp003 = 0.1342\n",
      "-- Starting eval on experience 4 (Task 0) from train stream --\n",
      "100%|██████████| 469/469 [00:03<00:00, 132.23it/s]\n",
      "> Eval on experience 4 (Task 0) from train stream ended.\n",
      "\tCPUUsage_Exp/eval_phase/train_stream/Task000/Exp004 = 105.8435\n",
      "\tMaxRAMUsage_Experience/eval_phase/train_stream/Task000/Exp004 = 190.9531\n",
      "\tTop1_Acc_Exp/eval_phase/train_stream/Task000/Exp004 = 0.1728\n",
      "-- Starting eval on experience 5 (Task 0) from train stream --\n",
      "100%|██████████| 469/469 [00:03<00:00, 132.51it/s]\n",
      "> Eval on experience 5 (Task 0) from train stream ended.\n",
      "\tCPUUsage_Exp/eval_phase/train_stream/Task000/Exp005 = 105.9291\n",
      "\tMaxRAMUsage_Experience/eval_phase/train_stream/Task000/Exp005 = 190.9531\n",
      "\tTop1_Acc_Exp/eval_phase/train_stream/Task000/Exp005 = 0.1428\n",
      "-- Starting eval on experience 6 (Task 0) from train stream --\n",
      "100%|██████████| 469/469 [00:03<00:00, 132.85it/s]\n",
      "> Eval on experience 6 (Task 0) from train stream ended.\n",
      "\tCPUUsage_Exp/eval_phase/train_stream/Task000/Exp006 = 105.8798\n",
      "\tMaxRAMUsage_Experience/eval_phase/train_stream/Task000/Exp006 = 190.9844\n",
      "\tTop1_Acc_Exp/eval_phase/train_stream/Task000/Exp006 = 0.1755\n",
      "-- Starting eval on experience 7 (Task 0) from train stream --\n",
      "100%|██████████| 469/469 [00:03<00:00, 132.09it/s]\n",
      "> Eval on experience 7 (Task 0) from train stream ended.\n",
      "\tCPUUsage_Exp/eval_phase/train_stream/Task000/Exp007 = 105.8478\n",
      "\tMaxRAMUsage_Experience/eval_phase/train_stream/Task000/Exp007 = 190.9844\n",
      "\tTop1_Acc_Exp/eval_phase/train_stream/Task000/Exp007 = 0.1510\n",
      "-- Starting eval on experience 8 (Task 0) from train stream --\n",
      "100%|██████████| 469/469 [00:03<00:00, 132.22it/s]\n",
      "> Eval on experience 8 (Task 0) from train stream ended.\n",
      "\tCPUUsage_Exp/eval_phase/train_stream/Task000/Exp008 = 105.9296\n",
      "\tMaxRAMUsage_Experience/eval_phase/train_stream/Task000/Exp008 = 191.0469\n",
      "\tTop1_Acc_Exp/eval_phase/train_stream/Task000/Exp008 = 0.1398\n",
      "-- Starting eval on experience 9 (Task 0) from train stream --\n",
      "100%|██████████| 469/469 [00:03<00:00, 131.88it/s]\n",
      "> Eval on experience 9 (Task 0) from train stream ended.\n",
      "\tCPUUsage_Exp/eval_phase/train_stream/Task000/Exp009 = 106.0090\n",
      "\tMaxRAMUsage_Experience/eval_phase/train_stream/Task000/Exp009 = 185.9219\n",
      "\tTop1_Acc_Exp/eval_phase/train_stream/Task000/Exp009 = 0.2135\n",
      "-- >> End of eval phase << --\n",
      "\tAccuracy_On_Trained_Experiences/eval_phase/train_stream/Task000 = 0.7381\n",
      "\tCPUUsage_Stream/eval_phase/train_stream/Task000 = 105.9915\n",
      "\tMaxRAMUsage_Stream/eval_phase/train_stream/Task000 = 191.0469\n",
      "\tStreamBWT/eval_phase/train_stream = -0.0319\n",
      "\tStreamForgetting/eval_phase/train_stream = 0.0319\n",
      "\tTop1_Acc_Stream/eval_phase/train_stream/Task000 = 0.2772\n",
      "-- >> Start of eval phase << --\n",
      "-- Starting eval on experience 0 (Task 0) from test stream --\n",
      "100%|██████████| 79/79 [00:00<00:00, 127.59it/s]\n",
      "> Eval on experience 0 (Task 0) from test stream ended.\n",
      "\tCPUUsage_Exp/eval_phase/test_stream/Task000/Exp000 = 107.6752\n",
      "\tExperienceBWT/eval_phase/test_stream/Task000/Exp000 = -0.0237\n",
      "\tExperienceForgetting/eval_phase/test_stream/Task000/Exp000 = 0.0237\n",
      "\tMaxRAMUsage_Experience/eval_phase/test_stream/Task000/Exp000 = 0\n",
      "\tTop1_Acc_Exp/eval_phase/test_stream/Task000/Exp000 = 0.7162\n",
      "-- Starting eval on experience 1 (Task 0) from test stream --\n",
      "100%|██████████| 79/79 [00:00<00:00, 133.78it/s]\n",
      "> Eval on experience 1 (Task 0) from test stream ended.\n",
      "\tCPUUsage_Exp/eval_phase/test_stream/Task000/Exp001 = 107.2327\n",
      "\tMaxRAMUsage_Experience/eval_phase/test_stream/Task000/Exp001 = 185.9688\n",
      "\tTop1_Acc_Exp/eval_phase/test_stream/Task000/Exp001 = 0.7709\n",
      "-- Starting eval on experience 2 (Task 0) from test stream --\n",
      "100%|██████████| 79/79 [00:00<00:00, 129.08it/s]\n",
      "> Eval on experience 2 (Task 0) from test stream ended.\n",
      "\tCPUUsage_Exp/eval_phase/test_stream/Task000/Exp002 = 104.4755\n",
      "\tMaxRAMUsage_Experience/eval_phase/test_stream/Task000/Exp002 = 0\n",
      "\tTop1_Acc_Exp/eval_phase/test_stream/Task000/Exp002 = 0.1659\n",
      "-- Starting eval on experience 3 (Task 0) from test stream --\n",
      "100%|██████████| 79/79 [00:00<00:00, 134.39it/s]\n",
      "> Eval on experience 3 (Task 0) from test stream ended.\n",
      "\tCPUUsage_Exp/eval_phase/test_stream/Task000/Exp003 = 106.4868\n",
      "\tMaxRAMUsage_Experience/eval_phase/test_stream/Task000/Exp003 = 186.2969\n",
      "\tTop1_Acc_Exp/eval_phase/test_stream/Task000/Exp003 = 0.1400\n",
      "-- Starting eval on experience 4 (Task 0) from test stream --\n",
      "100%|██████████| 79/79 [00:00<00:00, 129.66it/s]\n",
      "> Eval on experience 4 (Task 0) from test stream ended.\n",
      "\tCPUUsage_Exp/eval_phase/test_stream/Task000/Exp004 = 104.6018\n",
      "\tMaxRAMUsage_Experience/eval_phase/test_stream/Task000/Exp004 = 186.3125\n",
      "\tTop1_Acc_Exp/eval_phase/test_stream/Task000/Exp004 = 0.1701\n",
      "-- Starting eval on experience 5 (Task 0) from test stream --\n",
      "100%|██████████| 79/79 [00:00<00:00, 133.81it/s]\n",
      "> Eval on experience 5 (Task 0) from test stream ended.\n",
      "\tCPUUsage_Exp/eval_phase/test_stream/Task000/Exp005 = 106.0969\n",
      "\tMaxRAMUsage_Experience/eval_phase/test_stream/Task000/Exp005 = 0\n",
      "\tTop1_Acc_Exp/eval_phase/test_stream/Task000/Exp005 = 0.1451\n",
      "-- Starting eval on experience 6 (Task 0) from test stream --\n",
      "100%|██████████| 79/79 [00:00<00:00, 130.62it/s]\n",
      "> Eval on experience 6 (Task 0) from test stream ended.\n",
      "\tCPUUsage_Exp/eval_phase/test_stream/Task000/Exp006 = 104.3819\n",
      "\tMaxRAMUsage_Experience/eval_phase/test_stream/Task000/Exp006 = 186.3125\n",
      "\tTop1_Acc_Exp/eval_phase/test_stream/Task000/Exp006 = 0.1764\n",
      "-- Starting eval on experience 7 (Task 0) from test stream --\n",
      "100%|██████████| 79/79 [00:00<00:00, 133.61it/s]\n",
      "> Eval on experience 7 (Task 0) from test stream ended.\n",
      "\tCPUUsage_Exp/eval_phase/test_stream/Task000/Exp007 = 106.5577\n",
      "\tMaxRAMUsage_Experience/eval_phase/test_stream/Task000/Exp007 = 0\n",
      "\tTop1_Acc_Exp/eval_phase/test_stream/Task000/Exp007 = 0.1464\n",
      "-- Starting eval on experience 8 (Task 0) from test stream --\n",
      "100%|██████████| 79/79 [00:00<00:00, 129.23it/s]\n",
      "> Eval on experience 8 (Task 0) from test stream ended.\n",
      "\tCPUUsage_Exp/eval_phase/test_stream/Task000/Exp008 = 104.1408\n",
      "\tMaxRAMUsage_Experience/eval_phase/test_stream/Task000/Exp008 = 186.3125\n",
      "\tTop1_Acc_Exp/eval_phase/test_stream/Task000/Exp008 = 0.1356\n",
      "-- Starting eval on experience 9 (Task 0) from test stream --\n",
      "100%|██████████| 79/79 [00:00<00:00, 134.12it/s]\n",
      "> Eval on experience 9 (Task 0) from test stream ended.\n",
      "\tCPUUsage_Exp/eval_phase/test_stream/Task000/Exp009 = 107.0346\n",
      "\tMaxRAMUsage_Experience/eval_phase/test_stream/Task000/Exp009 = 182.1562\n",
      "\tTop1_Acc_Exp/eval_phase/test_stream/Task000/Exp009 = 0.2259\n"
     ]
    },
    {
     "name": "stderr",
     "output_type": "stream",
     "text": [
      " 20%|██        | 2/10 [02:12<08:51, 66.45s/it]"
     ]
    },
    {
     "name": "stdout",
     "output_type": "stream",
     "text": [
      "-- >> End of eval phase << --\n",
      "\tAccuracy_On_Trained_Experiences/eval_phase/test_stream/Task000 = 0.7436\n",
      "\tCPUUsage_Stream/eval_phase/test_stream/Task000 = 105.8377\n",
      "\tMaxRAMUsage_Stream/eval_phase/test_stream/Task000 = 186.3125\n",
      "\tStreamBWT/eval_phase/test_stream = -0.0237\n",
      "\tStreamForgetting/eval_phase/test_stream = 0.0237\n",
      "\tTop1_Acc_Stream/eval_phase/test_stream/Task000 = 0.2792\n",
      "-- >> Start of training phase << --\n",
      "100%|██████████| 469/469 [00:04<00:00, 97.87it/s]\n",
      "Epoch 0 ended.\n",
      "\tRunningTime_Epoch/train_phase/train_stream/Task000 = 0.0000\n",
      "\tTime_Epoch/train_phase/train_stream/Task000 = 4.7932\n",
      "100%|██████████| 469/469 [00:04<00:00, 97.85it/s]\n",
      "Epoch 1 ended.\n",
      "\tRunningTime_Epoch/train_phase/train_stream/Task000 = 0.0000\n",
      "\tTime_Epoch/train_phase/train_stream/Task000 = 4.7933\n",
      "100%|██████████| 469/469 [00:04<00:00, 97.99it/s]\n",
      "Epoch 2 ended.\n",
      "\tRunningTime_Epoch/train_phase/train_stream/Task000 = 0.0000\n",
      "\tTime_Epoch/train_phase/train_stream/Task000 = 4.7865\n",
      "100%|██████████| 469/469 [00:04<00:00, 97.26it/s]\n",
      "Epoch 3 ended.\n",
      "\tRunningTime_Epoch/train_phase/train_stream/Task000 = 0.0000\n",
      "\tTime_Epoch/train_phase/train_stream/Task000 = 4.8221\n",
      "100%|██████████| 469/469 [00:04<00:00, 97.91it/s]\n",
      "Epoch 4 ended.\n",
      "\tRunningTime_Epoch/train_phase/train_stream/Task000 = 0.0000\n",
      "\tTime_Epoch/train_phase/train_stream/Task000 = 4.7905\n",
      "-- >> End of training phase << --\n",
      "-- >> Start of eval phase << --\n",
      "-- Starting eval on experience 0 (Task 0) from train stream --\n",
      "100%|██████████| 469/469 [00:03<00:00, 132.00it/s]\n",
      "> Eval on experience 0 (Task 0) from train stream ended.\n",
      "\tCPUUsage_Exp/eval_phase/train_stream/Task000/Exp000 = 106.6452\n",
      "\tExperienceBWT/eval_phase/train_stream/Task000/Exp000 = -0.1304\n",
      "\tExperienceForgetting/eval_phase/train_stream/Task000/Exp000 = 0.1304\n",
      "\tMaxRAMUsage_Experience/eval_phase/train_stream/Task000/Exp000 = 190.8906\n",
      "\tTop1_Acc_Exp/eval_phase/train_stream/Task000/Exp000 = 0.6095\n",
      "-- Starting eval on experience 1 (Task 0) from train stream --\n",
      "100%|██████████| 469/469 [00:03<00:00, 131.68it/s]\n",
      "> Eval on experience 1 (Task 0) from train stream ended.\n",
      "\tCPUUsage_Exp/eval_phase/train_stream/Task000/Exp001 = 106.8280\n",
      "\tExperienceBWT/eval_phase/train_stream/Task000/Exp001 = -0.0286\n",
      "\tExperienceForgetting/eval_phase/train_stream/Task000/Exp001 = 0.0286\n",
      "\tMaxRAMUsage_Experience/eval_phase/train_stream/Task000/Exp001 = 190.9219\n",
      "\tTop1_Acc_Exp/eval_phase/train_stream/Task000/Exp001 = 0.7423\n",
      "-- Starting eval on experience 2 (Task 0) from train stream --\n",
      "100%|██████████| 469/469 [00:03<00:00, 131.46it/s]\n",
      "> Eval on experience 2 (Task 0) from train stream ended.\n",
      "\tCPUUsage_Exp/eval_phase/train_stream/Task000/Exp002 = 106.4104\n",
      "\tMaxRAMUsage_Experience/eval_phase/train_stream/Task000/Exp002 = 190.9531\n",
      "\tTop1_Acc_Exp/eval_phase/train_stream/Task000/Exp002 = 0.7820\n",
      "-- Starting eval on experience 3 (Task 0) from train stream --\n",
      "100%|██████████| 469/469 [00:03<00:00, 132.52it/s]\n",
      "> Eval on experience 3 (Task 0) from train stream ended.\n",
      "\tCPUUsage_Exp/eval_phase/train_stream/Task000/Exp003 = 105.9820\n",
      "\tMaxRAMUsage_Experience/eval_phase/train_stream/Task000/Exp003 = 190.8750\n",
      "\tTop1_Acc_Exp/eval_phase/train_stream/Task000/Exp003 = 0.1124\n",
      "-- Starting eval on experience 4 (Task 0) from train stream --\n",
      "100%|██████████| 469/469 [00:03<00:00, 133.03it/s]\n",
      "> Eval on experience 4 (Task 0) from train stream ended.\n",
      "\tCPUUsage_Exp/eval_phase/train_stream/Task000/Exp004 = 105.8271\n",
      "\tMaxRAMUsage_Experience/eval_phase/train_stream/Task000/Exp004 = 190.8906\n",
      "\tTop1_Acc_Exp/eval_phase/train_stream/Task000/Exp004 = 0.1368\n",
      "-- Starting eval on experience 5 (Task 0) from train stream --\n",
      "100%|██████████| 469/469 [00:03<00:00, 132.50it/s]\n",
      "> Eval on experience 5 (Task 0) from train stream ended.\n",
      "\tCPUUsage_Exp/eval_phase/train_stream/Task000/Exp005 = 105.7433\n",
      "\tMaxRAMUsage_Experience/eval_phase/train_stream/Task000/Exp005 = 190.8906\n",
      "\tTop1_Acc_Exp/eval_phase/train_stream/Task000/Exp005 = 0.1778\n",
      "-- Starting eval on experience 6 (Task 0) from train stream --\n",
      "100%|██████████| 469/469 [00:03<00:00, 132.85it/s]\n",
      "> Eval on experience 6 (Task 0) from train stream ended.\n",
      "\tCPUUsage_Exp/eval_phase/train_stream/Task000/Exp006 = 105.7424\n",
      "\tMaxRAMUsage_Experience/eval_phase/train_stream/Task000/Exp006 = 188.5781\n",
      "\tTop1_Acc_Exp/eval_phase/train_stream/Task000/Exp006 = 0.1397\n",
      "-- Starting eval on experience 7 (Task 0) from train stream --\n",
      "100%|██████████| 469/469 [00:03<00:00, 128.69it/s]\n",
      "> Eval on experience 7 (Task 0) from train stream ended.\n",
      "\tCPUUsage_Exp/eval_phase/train_stream/Task000/Exp007 = 104.6182\n",
      "\tMaxRAMUsage_Experience/eval_phase/train_stream/Task000/Exp007 = 190.8438\n",
      "\tTop1_Acc_Exp/eval_phase/train_stream/Task000/Exp007 = 0.2028\n",
      "-- Starting eval on experience 8 (Task 0) from train stream --\n",
      "100%|██████████| 469/469 [00:03<00:00, 131.32it/s]\n",
      "> Eval on experience 8 (Task 0) from train stream ended.\n",
      "\tCPUUsage_Exp/eval_phase/train_stream/Task000/Exp008 = 105.4499\n",
      "\tMaxRAMUsage_Experience/eval_phase/train_stream/Task000/Exp008 = 169.5781\n",
      "\tTop1_Acc_Exp/eval_phase/train_stream/Task000/Exp008 = 0.1169\n",
      "-- Starting eval on experience 9 (Task 0) from train stream --\n",
      "100%|██████████| 469/469 [00:03<00:00, 130.63it/s]\n",
      "> Eval on experience 9 (Task 0) from train stream ended.\n",
      "\tCPUUsage_Exp/eval_phase/train_stream/Task000/Exp009 = 105.0337\n",
      "\tMaxRAMUsage_Experience/eval_phase/train_stream/Task000/Exp009 = 171.2812\n",
      "\tTop1_Acc_Exp/eval_phase/train_stream/Task000/Exp009 = 0.1557\n",
      "-- >> End of eval phase << --\n",
      "\tAccuracy_On_Trained_Experiences/eval_phase/train_stream/Task000 = 0.7112\n",
      "\tCPUUsage_Stream/eval_phase/train_stream/Task000 = 105.8140\n",
      "\tMaxRAMUsage_Stream/eval_phase/train_stream/Task000 = 190.9531\n",
      "\tStreamBWT/eval_phase/train_stream = -0.0795\n",
      "\tStreamForgetting/eval_phase/train_stream = 0.0795\n",
      "\tTop1_Acc_Stream/eval_phase/train_stream/Task000 = 0.3176\n",
      "-- >> Start of eval phase << --\n",
      "-- Starting eval on experience 0 (Task 0) from test stream --\n",
      "100%|██████████| 79/79 [00:00<00:00, 127.70it/s]\n",
      "> Eval on experience 0 (Task 0) from test stream ended.\n",
      "\tCPUUsage_Exp/eval_phase/test_stream/Task000/Exp000 = 107.4996\n",
      "\tExperienceBWT/eval_phase/test_stream/Task000/Exp000 = -0.1293\n",
      "\tExperienceForgetting/eval_phase/test_stream/Task000/Exp000 = 0.1293\n",
      "\tMaxRAMUsage_Experience/eval_phase/test_stream/Task000/Exp000 = 0\n",
      "\tTop1_Acc_Exp/eval_phase/test_stream/Task000/Exp000 = 0.6106\n",
      "-- Starting eval on experience 1 (Task 0) from test stream --\n",
      "100%|██████████| 79/79 [00:00<00:00, 127.86it/s]\n",
      "> Eval on experience 1 (Task 0) from test stream ended.\n",
      "\tCPUUsage_Exp/eval_phase/test_stream/Task000/Exp001 = 104.6866\n",
      "\tExperienceBWT/eval_phase/test_stream/Task000/Exp001 = -0.0261\n",
      "\tExperienceForgetting/eval_phase/test_stream/Task000/Exp001 = 0.0261\n",
      "\tMaxRAMUsage_Experience/eval_phase/test_stream/Task000/Exp001 = 181.2969\n",
      "\tTop1_Acc_Exp/eval_phase/test_stream/Task000/Exp001 = 0.7448\n",
      "-- Starting eval on experience 2 (Task 0) from test stream --\n",
      "100%|██████████| 79/79 [00:00<00:00, 133.28it/s]\n",
      "> Eval on experience 2 (Task 0) from test stream ended.\n",
      "\tCPUUsage_Exp/eval_phase/test_stream/Task000/Exp002 = 107.3959\n",
      "\tMaxRAMUsage_Experience/eval_phase/test_stream/Task000/Exp002 = 0\n",
      "\tTop1_Acc_Exp/eval_phase/test_stream/Task000/Exp002 = 0.7865\n",
      "-- Starting eval on experience 3 (Task 0) from test stream --\n",
      "100%|██████████| 79/79 [00:00<00:00, 129.52it/s]\n",
      "> Eval on experience 3 (Task 0) from test stream ended.\n",
      "\tCPUUsage_Exp/eval_phase/test_stream/Task000/Exp003 = 105.4160\n",
      "\tMaxRAMUsage_Experience/eval_phase/test_stream/Task000/Exp003 = 181.7031\n",
      "\tTop1_Acc_Exp/eval_phase/test_stream/Task000/Exp003 = 0.1151\n",
      "-- Starting eval on experience 4 (Task 0) from test stream --\n",
      "100%|██████████| 79/79 [00:00<00:00, 132.77it/s]\n",
      "> Eval on experience 4 (Task 0) from test stream ended.\n",
      "\tCPUUsage_Exp/eval_phase/test_stream/Task000/Exp004 = 106.3524\n",
      "\tMaxRAMUsage_Experience/eval_phase/test_stream/Task000/Exp004 = 181.7031\n",
      "\tTop1_Acc_Exp/eval_phase/test_stream/Task000/Exp004 = 0.1293\n",
      "-- Starting eval on experience 5 (Task 0) from test stream --\n",
      "100%|██████████| 79/79 [00:00<00:00, 129.53it/s]\n",
      "> Eval on experience 5 (Task 0) from test stream ended.\n",
      "\tCPUUsage_Exp/eval_phase/test_stream/Task000/Exp005 = 104.0431\n",
      "\tMaxRAMUsage_Experience/eval_phase/test_stream/Task000/Exp005 = 0\n",
      "\tTop1_Acc_Exp/eval_phase/test_stream/Task000/Exp005 = 0.1866\n",
      "-- Starting eval on experience 6 (Task 0) from test stream --\n",
      "100%|██████████| 79/79 [00:00<00:00, 135.26it/s]\n",
      "> Eval on experience 6 (Task 0) from test stream ended.\n",
      "\tCPUUsage_Exp/eval_phase/test_stream/Task000/Exp006 = 106.8407\n",
      "\tMaxRAMUsage_Experience/eval_phase/test_stream/Task000/Exp006 = 181.7031\n",
      "\tTop1_Acc_Exp/eval_phase/test_stream/Task000/Exp006 = 0.1313\n",
      "-- Starting eval on experience 7 (Task 0) from test stream --\n",
      "100%|██████████| 79/79 [00:00<00:00, 130.87it/s]\n",
      "> Eval on experience 7 (Task 0) from test stream ended.\n",
      "\tCPUUsage_Exp/eval_phase/test_stream/Task000/Exp007 = 104.6297\n",
      "\tMaxRAMUsage_Experience/eval_phase/test_stream/Task000/Exp007 = 0\n",
      "\tTop1_Acc_Exp/eval_phase/test_stream/Task000/Exp007 = 0.2048\n",
      "-- Starting eval on experience 8 (Task 0) from test stream --\n",
      "100%|██████████| 79/79 [00:00<00:00, 134.16it/s]\n",
      "> Eval on experience 8 (Task 0) from test stream ended.\n",
      "\tCPUUsage_Exp/eval_phase/test_stream/Task000/Exp008 = 106.2428\n",
      "\tMaxRAMUsage_Experience/eval_phase/test_stream/Task000/Exp008 = 181.7031\n",
      "\tTop1_Acc_Exp/eval_phase/test_stream/Task000/Exp008 = 0.1109\n",
      "-- Starting eval on experience 9 (Task 0) from test stream --\n",
      "100%|██████████| 79/79 [00:00<00:00, 129.50it/s]\n",
      "> Eval on experience 9 (Task 0) from test stream ended.\n",
      "\tCPUUsage_Exp/eval_phase/test_stream/Task000/Exp009 = 105.3214\n",
      "\tMaxRAMUsage_Experience/eval_phase/test_stream/Task000/Exp009 = 181.7031\n",
      "\tTop1_Acc_Exp/eval_phase/test_stream/Task000/Exp009 = 0.1682\n"
     ]
    },
    {
     "name": "stderr",
     "output_type": "stream",
     "text": [
      " 30%|███       | 3/10 [03:19<07:46, 66.71s/it]"
     ]
    },
    {
     "name": "stdout",
     "output_type": "stream",
     "text": [
      "-- >> End of eval phase << --\n",
      "\tAccuracy_On_Trained_Experiences/eval_phase/test_stream/Task000 = 0.7140\n",
      "\tCPUUsage_Stream/eval_phase/test_stream/Task000 = 105.8102\n",
      "\tMaxRAMUsage_Stream/eval_phase/test_stream/Task000 = 181.7031\n",
      "\tStreamBWT/eval_phase/test_stream = -0.0777\n",
      "\tStreamForgetting/eval_phase/test_stream = 0.0777\n",
      "\tTop1_Acc_Stream/eval_phase/test_stream/Task000 = 0.3188\n",
      "-- >> Start of training phase << --\n",
      "100%|██████████| 469/469 [00:04<00:00, 98.41it/s] \n",
      "Epoch 0 ended.\n",
      "\tRunningTime_Epoch/train_phase/train_stream/Task000 = 0.0000\n",
      "\tTime_Epoch/train_phase/train_stream/Task000 = 4.7665\n",
      "100%|██████████| 469/469 [00:04<00:00, 98.70it/s] \n",
      "Epoch 1 ended.\n",
      "\tRunningTime_Epoch/train_phase/train_stream/Task000 = 0.0000\n",
      "\tTime_Epoch/train_phase/train_stream/Task000 = 4.7519\n",
      "100%|██████████| 469/469 [00:04<00:00, 98.43it/s]\n",
      "Epoch 2 ended.\n",
      "\tRunningTime_Epoch/train_phase/train_stream/Task000 = 0.0000\n",
      "\tTime_Epoch/train_phase/train_stream/Task000 = 4.7650\n",
      "100%|██████████| 469/469 [00:04<00:00, 97.79it/s]\n",
      "Epoch 3 ended.\n",
      "\tRunningTime_Epoch/train_phase/train_stream/Task000 = 0.0000\n",
      "\tTime_Epoch/train_phase/train_stream/Task000 = 4.7961\n",
      "100%|██████████| 469/469 [00:04<00:00, 98.43it/s] \n",
      "Epoch 4 ended.\n",
      "\tRunningTime_Epoch/train_phase/train_stream/Task000 = 0.0000\n",
      "\tTime_Epoch/train_phase/train_stream/Task000 = 4.7646\n",
      "-- >> End of training phase << --\n",
      "-- >> Start of eval phase << --\n",
      "-- Starting eval on experience 0 (Task 0) from train stream --\n",
      "100%|██████████| 469/469 [00:03<00:00, 129.08it/s]\n",
      "> Eval on experience 0 (Task 0) from train stream ended.\n",
      "\tCPUUsage_Exp/eval_phase/train_stream/Task000/Exp000 = 105.9228\n",
      "\tExperienceBWT/eval_phase/train_stream/Task000/Exp000 = -0.1530\n",
      "\tExperienceForgetting/eval_phase/train_stream/Task000/Exp000 = 0.1530\n",
      "\tMaxRAMUsage_Experience/eval_phase/train_stream/Task000/Exp000 = 191.2188\n",
      "\tTop1_Acc_Exp/eval_phase/train_stream/Task000/Exp000 = 0.5869\n",
      "-- Starting eval on experience 1 (Task 0) from train stream --\n",
      "100%|██████████| 469/469 [00:03<00:00, 131.62it/s]\n",
      "> Eval on experience 1 (Task 0) from train stream ended.\n",
      "\tCPUUsage_Exp/eval_phase/train_stream/Task000/Exp001 = 106.5886\n",
      "\tExperienceBWT/eval_phase/train_stream/Task000/Exp001 = -0.0226\n",
      "\tExperienceForgetting/eval_phase/train_stream/Task000/Exp001 = 0.0226\n",
      "\tMaxRAMUsage_Experience/eval_phase/train_stream/Task000/Exp001 = 191.2344\n",
      "\tTop1_Acc_Exp/eval_phase/train_stream/Task000/Exp001 = 0.7483\n",
      "-- Starting eval on experience 2 (Task 0) from train stream --\n",
      "100%|██████████| 469/469 [00:03<00:00, 128.90it/s]\n",
      "> Eval on experience 2 (Task 0) from train stream ended.\n",
      "\tCPUUsage_Exp/eval_phase/train_stream/Task000/Exp002 = 106.3175\n",
      "\tExperienceBWT/eval_phase/train_stream/Task000/Exp002 = -0.0086\n",
      "\tExperienceForgetting/eval_phase/train_stream/Task000/Exp002 = 0.0086\n",
      "\tMaxRAMUsage_Experience/eval_phase/train_stream/Task000/Exp002 = 191.2344\n",
      "\tTop1_Acc_Exp/eval_phase/train_stream/Task000/Exp002 = 0.7779\n",
      "-- Starting eval on experience 3 (Task 0) from train stream --\n",
      "100%|██████████| 469/469 [00:03<00:00, 130.97it/s]\n",
      "> Eval on experience 3 (Task 0) from train stream ended.\n",
      "\tCPUUsage_Exp/eval_phase/train_stream/Task000/Exp003 = 106.5777\n",
      "\tMaxRAMUsage_Experience/eval_phase/train_stream/Task000/Exp003 = 191.3281\n",
      "\tTop1_Acc_Exp/eval_phase/train_stream/Task000/Exp003 = 0.8053\n",
      "-- Starting eval on experience 4 (Task 0) from train stream --\n",
      "100%|██████████| 469/469 [00:03<00:00, 132.59it/s]\n",
      "> Eval on experience 4 (Task 0) from train stream ended.\n",
      "\tCPUUsage_Exp/eval_phase/train_stream/Task000/Exp004 = 105.9333\n",
      "\tMaxRAMUsage_Experience/eval_phase/train_stream/Task000/Exp004 = 191.3438\n",
      "\tTop1_Acc_Exp/eval_phase/train_stream/Task000/Exp004 = 0.0937\n",
      "-- Starting eval on experience 5 (Task 0) from train stream --\n",
      "100%|██████████| 469/469 [00:03<00:00, 132.38it/s]\n",
      "> Eval on experience 5 (Task 0) from train stream ended.\n",
      "\tCPUUsage_Exp/eval_phase/train_stream/Task000/Exp005 = 105.5343\n",
      "\tMaxRAMUsage_Experience/eval_phase/train_stream/Task000/Exp005 = 191.3750\n",
      "\tTop1_Acc_Exp/eval_phase/train_stream/Task000/Exp005 = 0.1239\n",
      "-- Starting eval on experience 6 (Task 0) from train stream --\n",
      "100%|██████████| 469/469 [00:03<00:00, 131.73it/s]\n",
      "> Eval on experience 6 (Task 0) from train stream ended.\n",
      "\tCPUUsage_Exp/eval_phase/train_stream/Task000/Exp006 = 105.6425\n",
      "\tMaxRAMUsage_Experience/eval_phase/train_stream/Task000/Exp006 = 191.3750\n",
      "\tTop1_Acc_Exp/eval_phase/train_stream/Task000/Exp006 = 0.1650\n",
      "-- Starting eval on experience 7 (Task 0) from train stream --\n",
      "100%|██████████| 469/469 [00:03<00:00, 133.60it/s]\n",
      "> Eval on experience 7 (Task 0) from train stream ended.\n",
      "\tCPUUsage_Exp/eval_phase/train_stream/Task000/Exp007 = 105.8727\n",
      "\tMaxRAMUsage_Experience/eval_phase/train_stream/Task000/Exp007 = 183.9531\n",
      "\tTop1_Acc_Exp/eval_phase/train_stream/Task000/Exp007 = 0.2029\n",
      "-- Starting eval on experience 8 (Task 0) from train stream --\n",
      "100%|██████████| 469/469 [00:03<00:00, 132.35it/s]\n",
      "> Eval on experience 8 (Task 0) from train stream ended.\n",
      "\tCPUUsage_Exp/eval_phase/train_stream/Task000/Exp008 = 105.5260\n",
      "\tMaxRAMUsage_Experience/eval_phase/train_stream/Task000/Exp008 = 183.9531\n",
      "\tTop1_Acc_Exp/eval_phase/train_stream/Task000/Exp008 = 0.1008\n",
      "-- Starting eval on experience 9 (Task 0) from train stream --\n",
      "100%|██████████| 469/469 [00:03<00:00, 132.71it/s]\n",
      "> Eval on experience 9 (Task 0) from train stream ended.\n",
      "\tCPUUsage_Exp/eval_phase/train_stream/Task000/Exp009 = 105.7515\n",
      "\tMaxRAMUsage_Experience/eval_phase/train_stream/Task000/Exp009 = 183.9531\n",
      "\tTop1_Acc_Exp/eval_phase/train_stream/Task000/Exp009 = 0.1169\n",
      "-- >> End of eval phase << --\n",
      "\tAccuracy_On_Trained_Experiences/eval_phase/train_stream/Task000 = 0.7296\n",
      "\tCPUUsage_Stream/eval_phase/train_stream/Task000 = 105.9567\n",
      "\tMaxRAMUsage_Stream/eval_phase/train_stream/Task000 = 191.3750\n",
      "\tStreamBWT/eval_phase/train_stream = -0.0614\n",
      "\tStreamForgetting/eval_phase/train_stream = 0.0614\n",
      "\tTop1_Acc_Stream/eval_phase/train_stream/Task000 = 0.3722\n",
      "-- >> Start of eval phase << --\n",
      "-- Starting eval on experience 0 (Task 0) from test stream --\n",
      "100%|██████████| 79/79 [00:00<00:00, 124.31it/s]\n",
      "> Eval on experience 0 (Task 0) from test stream ended.\n",
      "\tCPUUsage_Exp/eval_phase/test_stream/Task000/Exp000 = 106.2283\n",
      "\tExperienceBWT/eval_phase/test_stream/Task000/Exp000 = -0.1550\n",
      "\tExperienceForgetting/eval_phase/test_stream/Task000/Exp000 = 0.1550\n",
      "\tMaxRAMUsage_Experience/eval_phase/test_stream/Task000/Exp000 = 0\n",
      "\tTop1_Acc_Exp/eval_phase/test_stream/Task000/Exp000 = 0.5849\n",
      "-- Starting eval on experience 1 (Task 0) from test stream --\n",
      "100%|██████████| 79/79 [00:00<00:00, 134.82it/s]\n",
      "> Eval on experience 1 (Task 0) from test stream ended.\n",
      "\tCPUUsage_Exp/eval_phase/test_stream/Task000/Exp001 = 107.2254\n",
      "\tExperienceBWT/eval_phase/test_stream/Task000/Exp001 = -0.0239\n",
      "\tExperienceForgetting/eval_phase/test_stream/Task000/Exp001 = 0.0239\n",
      "\tMaxRAMUsage_Experience/eval_phase/test_stream/Task000/Exp001 = 183.7500\n",
      "\tTop1_Acc_Exp/eval_phase/test_stream/Task000/Exp001 = 0.7470\n",
      "-- Starting eval on experience 2 (Task 0) from test stream --\n",
      "100%|██████████| 79/79 [00:00<00:00, 128.91it/s]\n",
      "> Eval on experience 2 (Task 0) from test stream ended.\n",
      "\tCPUUsage_Exp/eval_phase/test_stream/Task000/Exp002 = 104.7950\n",
      "\tExperienceBWT/eval_phase/test_stream/Task000/Exp002 = -0.0045\n",
      "\tExperienceForgetting/eval_phase/test_stream/Task000/Exp002 = 0.0045\n",
      "\tMaxRAMUsage_Experience/eval_phase/test_stream/Task000/Exp002 = 0\n",
      "\tTop1_Acc_Exp/eval_phase/test_stream/Task000/Exp002 = 0.7820\n",
      "-- Starting eval on experience 3 (Task 0) from test stream --\n",
      "100%|██████████| 79/79 [00:00<00:00, 134.13it/s]\n",
      "> Eval on experience 3 (Task 0) from test stream ended.\n",
      "\tCPUUsage_Exp/eval_phase/test_stream/Task000/Exp003 = 107.4352\n",
      "\tMaxRAMUsage_Experience/eval_phase/test_stream/Task000/Exp003 = 183.2500\n",
      "\tTop1_Acc_Exp/eval_phase/test_stream/Task000/Exp003 = 0.8096\n",
      "-- Starting eval on experience 4 (Task 0) from test stream --\n",
      "100%|██████████| 79/79 [00:00<00:00, 130.00it/s]\n",
      "> Eval on experience 4 (Task 0) from test stream ended.\n",
      "\tCPUUsage_Exp/eval_phase/test_stream/Task000/Exp004 = 104.2244\n",
      "\tMaxRAMUsage_Experience/eval_phase/test_stream/Task000/Exp004 = 183.2500\n",
      "\tTop1_Acc_Exp/eval_phase/test_stream/Task000/Exp004 = 0.0848\n",
      "-- Starting eval on experience 5 (Task 0) from test stream --\n",
      "100%|██████████| 79/79 [00:00<00:00, 135.84it/s]\n",
      "> Eval on experience 5 (Task 0) from test stream ended.\n",
      "\tCPUUsage_Exp/eval_phase/test_stream/Task000/Exp005 = 106.6051\n",
      "\tMaxRAMUsage_Experience/eval_phase/test_stream/Task000/Exp005 = 0\n",
      "\tTop1_Acc_Exp/eval_phase/test_stream/Task000/Exp005 = 0.1308\n",
      "-- Starting eval on experience 6 (Task 0) from test stream --\n",
      "100%|██████████| 79/79 [00:00<00:00, 130.22it/s]\n",
      "> Eval on experience 6 (Task 0) from test stream ended.\n",
      "\tCPUUsage_Exp/eval_phase/test_stream/Task000/Exp006 = 104.3279\n",
      "\tMaxRAMUsage_Experience/eval_phase/test_stream/Task000/Exp006 = 183.3125\n",
      "\tTop1_Acc_Exp/eval_phase/test_stream/Task000/Exp006 = 0.1594\n",
      "-- Starting eval on experience 7 (Task 0) from test stream --\n",
      "100%|██████████| 79/79 [00:00<00:00, 136.15it/s]\n",
      "> Eval on experience 7 (Task 0) from test stream ended.\n",
      "\tCPUUsage_Exp/eval_phase/test_stream/Task000/Exp007 = 106.4656\n",
      "\tMaxRAMUsage_Experience/eval_phase/test_stream/Task000/Exp007 = 0\n",
      "\tTop1_Acc_Exp/eval_phase/test_stream/Task000/Exp007 = 0.2061\n",
      "-- Starting eval on experience 8 (Task 0) from test stream --\n",
      "100%|██████████| 79/79 [00:00<00:00, 130.87it/s]\n",
      "> Eval on experience 8 (Task 0) from test stream ended.\n",
      "\tCPUUsage_Exp/eval_phase/test_stream/Task000/Exp008 = 104.8644\n",
      "\tMaxRAMUsage_Experience/eval_phase/test_stream/Task000/Exp008 = 183.4375\n",
      "\tTop1_Acc_Exp/eval_phase/test_stream/Task000/Exp008 = 0.0971\n",
      "-- Starting eval on experience 9 (Task 0) from test stream --\n",
      "100%|██████████| 79/79 [00:00<00:00, 135.22it/s]\n",
      "> Eval on experience 9 (Task 0) from test stream ended.\n",
      "\tCPUUsage_Exp/eval_phase/test_stream/Task000/Exp009 = 106.4450\n",
      "\tMaxRAMUsage_Experience/eval_phase/test_stream/Task000/Exp009 = 183.4375\n",
      "\tTop1_Acc_Exp/eval_phase/test_stream/Task000/Exp009 = 0.1246\n"
     ]
    },
    {
     "name": "stderr",
     "output_type": "stream",
     "text": [
      " 40%|████      | 4/10 [04:26<06:40, 66.78s/it]"
     ]
    },
    {
     "name": "stdout",
     "output_type": "stream",
     "text": [
      "-- >> End of eval phase << --\n",
      "\tAccuracy_On_Trained_Experiences/eval_phase/test_stream/Task000 = 0.7309\n",
      "\tCPUUsage_Stream/eval_phase/test_stream/Task000 = 105.8241\n",
      "\tMaxRAMUsage_Stream/eval_phase/test_stream/Task000 = 183.7500\n",
      "\tStreamBWT/eval_phase/test_stream = -0.0611\n",
      "\tStreamForgetting/eval_phase/test_stream = 0.0611\n",
      "\tTop1_Acc_Stream/eval_phase/test_stream/Task000 = 0.3726\n",
      "-- >> Start of training phase << --\n",
      "100%|██████████| 469/469 [00:04<00:00, 99.05it/s] \n",
      "Epoch 0 ended.\n",
      "\tRunningTime_Epoch/train_phase/train_stream/Task000 = 0.0001\n",
      "\tTime_Epoch/train_phase/train_stream/Task000 = 4.7373\n",
      "100%|██████████| 469/469 [00:04<00:00, 99.28it/s] \n",
      "Epoch 1 ended.\n",
      "\tRunningTime_Epoch/train_phase/train_stream/Task000 = 0.0000\n",
      "\tTime_Epoch/train_phase/train_stream/Task000 = 4.7243\n",
      "100%|██████████| 469/469 [00:04<00:00, 99.64it/s] \n",
      "Epoch 2 ended.\n",
      "\tRunningTime_Epoch/train_phase/train_stream/Task000 = 0.0000\n",
      "\tTime_Epoch/train_phase/train_stream/Task000 = 4.7070\n",
      "100%|██████████| 469/469 [00:04<00:00, 99.84it/s] \n",
      "Epoch 3 ended.\n",
      "\tRunningTime_Epoch/train_phase/train_stream/Task000 = 0.0000\n",
      "\tTime_Epoch/train_phase/train_stream/Task000 = 4.6983\n",
      "100%|██████████| 469/469 [00:04<00:00, 99.16it/s] \n",
      "Epoch 4 ended.\n",
      "\tRunningTime_Epoch/train_phase/train_stream/Task000 = 0.0000\n",
      "\tTime_Epoch/train_phase/train_stream/Task000 = 4.7297\n",
      "-- >> End of training phase << --\n",
      "-- >> Start of eval phase << --\n",
      "-- Starting eval on experience 0 (Task 0) from train stream --\n",
      "100%|██████████| 469/469 [00:03<00:00, 133.71it/s]\n",
      "> Eval on experience 0 (Task 0) from train stream ended.\n",
      "\tCPUUsage_Exp/eval_phase/train_stream/Task000/Exp000 = 106.6462\n",
      "\tExperienceBWT/eval_phase/train_stream/Task000/Exp000 = -0.1746\n",
      "\tExperienceForgetting/eval_phase/train_stream/Task000/Exp000 = 0.1746\n",
      "\tMaxRAMUsage_Experience/eval_phase/train_stream/Task000/Exp000 = 193.7188\n",
      "\tTop1_Acc_Exp/eval_phase/train_stream/Task000/Exp000 = 0.5653\n",
      "-- Starting eval on experience 1 (Task 0) from train stream --\n",
      "100%|██████████| 469/469 [00:03<00:00, 133.01it/s]\n",
      "> Eval on experience 1 (Task 0) from train stream ended.\n",
      "\tCPUUsage_Exp/eval_phase/train_stream/Task000/Exp001 = 106.8664\n",
      "\tExperienceBWT/eval_phase/train_stream/Task000/Exp001 = -0.0312\n",
      "\tExperienceForgetting/eval_phase/train_stream/Task000/Exp001 = 0.0312\n",
      "\tMaxRAMUsage_Experience/eval_phase/train_stream/Task000/Exp001 = 193.7500\n",
      "\tTop1_Acc_Exp/eval_phase/train_stream/Task000/Exp001 = 0.7398\n",
      "-- Starting eval on experience 2 (Task 0) from train stream --\n",
      "100%|██████████| 469/469 [00:03<00:00, 133.17it/s]\n",
      "> Eval on experience 2 (Task 0) from train stream ended.\n",
      "\tCPUUsage_Exp/eval_phase/train_stream/Task000/Exp002 = 106.5345\n",
      "\tExperienceBWT/eval_phase/train_stream/Task000/Exp002 = -0.0181\n",
      "\tExperienceForgetting/eval_phase/train_stream/Task000/Exp002 = 0.0181\n",
      "\tMaxRAMUsage_Experience/eval_phase/train_stream/Task000/Exp002 = 193.7500\n",
      "\tTop1_Acc_Exp/eval_phase/train_stream/Task000/Exp002 = 0.7684\n",
      "-- Starting eval on experience 3 (Task 0) from train stream --\n",
      "100%|██████████| 469/469 [00:03<00:00, 133.30it/s]\n",
      "> Eval on experience 3 (Task 0) from train stream ended.\n",
      "\tCPUUsage_Exp/eval_phase/train_stream/Task000/Exp003 = 106.5612\n",
      "\tExperienceBWT/eval_phase/train_stream/Task000/Exp003 = -0.0318\n",
      "\tExperienceForgetting/eval_phase/train_stream/Task000/Exp003 = 0.0318\n",
      "\tMaxRAMUsage_Experience/eval_phase/train_stream/Task000/Exp003 = 193.7500\n",
      "\tTop1_Acc_Exp/eval_phase/train_stream/Task000/Exp003 = 0.7778\n",
      "-- Starting eval on experience 4 (Task 0) from train stream --\n",
      "100%|██████████| 469/469 [00:03<00:00, 133.10it/s]\n",
      "> Eval on experience 4 (Task 0) from train stream ended.\n",
      "\tCPUUsage_Exp/eval_phase/train_stream/Task000/Exp004 = 106.6132\n",
      "\tMaxRAMUsage_Experience/eval_phase/train_stream/Task000/Exp004 = 193.7656\n",
      "\tTop1_Acc_Exp/eval_phase/train_stream/Task000/Exp004 = 0.8177\n",
      "-- Starting eval on experience 5 (Task 0) from train stream --\n",
      "100%|██████████| 469/469 [00:03<00:00, 134.01it/s]\n",
      "> Eval on experience 5 (Task 0) from train stream ended.\n",
      "\tCPUUsage_Exp/eval_phase/train_stream/Task000/Exp005 = 105.9566\n",
      "\tMaxRAMUsage_Experience/eval_phase/train_stream/Task000/Exp005 = 193.7812\n",
      "\tTop1_Acc_Exp/eval_phase/train_stream/Task000/Exp005 = 0.1465\n",
      "-- Starting eval on experience 6 (Task 0) from train stream --\n",
      "100%|██████████| 469/469 [00:03<00:00, 132.44it/s]\n",
      "> Eval on experience 6 (Task 0) from train stream ended.\n",
      "\tCPUUsage_Exp/eval_phase/train_stream/Task000/Exp006 = 105.5002\n",
      "\tMaxRAMUsage_Experience/eval_phase/train_stream/Task000/Exp006 = 193.0000\n",
      "\tTop1_Acc_Exp/eval_phase/train_stream/Task000/Exp006 = 0.1162\n",
      "-- Starting eval on experience 7 (Task 0) from train stream --\n",
      "100%|██████████| 469/469 [00:03<00:00, 122.47it/s]\n",
      "> Eval on experience 7 (Task 0) from train stream ended.\n",
      "\tCPUUsage_Exp/eval_phase/train_stream/Task000/Exp007 = 100.3594\n",
      "\tMaxRAMUsage_Experience/eval_phase/train_stream/Task000/Exp007 = 193.0000\n",
      "\tTop1_Acc_Exp/eval_phase/train_stream/Task000/Exp007 = 0.1688\n",
      "-- Starting eval on experience 8 (Task 0) from train stream --\n",
      "100%|██████████| 469/469 [00:03<00:00, 134.42it/s]\n",
      "> Eval on experience 8 (Task 0) from train stream ended.\n",
      "\tCPUUsage_Exp/eval_phase/train_stream/Task000/Exp008 = 106.1834\n",
      "\tMaxRAMUsage_Experience/eval_phase/train_stream/Task000/Exp008 = 147.8281\n",
      "\tTop1_Acc_Exp/eval_phase/train_stream/Task000/Exp008 = 0.1345\n",
      "-- Starting eval on experience 9 (Task 0) from train stream --\n",
      "100%|██████████| 469/469 [00:25<00:00, 18.65it/s] \n",
      "> Eval on experience 9 (Task 0) from train stream ended.\n",
      "\tCPUUsage_Exp/eval_phase/train_stream/Task000/Exp009 = 92.1640\n",
      "\tMaxRAMUsage_Experience/eval_phase/train_stream/Task000/Exp009 = 149.9844\n",
      "\tTop1_Acc_Exp/eval_phase/train_stream/Task000/Exp009 = 0.1292\n",
      "-- >> End of eval phase << --\n",
      "\tAccuracy_On_Trained_Experiences/eval_phase/train_stream/Task000 = 0.7338\n",
      "\tCPUUsage_Stream/eval_phase/train_stream/Task000 = 104.0809\n",
      "\tMaxRAMUsage_Stream/eval_phase/train_stream/Task000 = 193.7812\n",
      "\tStreamBWT/eval_phase/train_stream = -0.0639\n",
      "\tStreamForgetting/eval_phase/train_stream = 0.0639\n",
      "\tTop1_Acc_Stream/eval_phase/train_stream/Task000 = 0.4364\n",
      "-- >> Start of eval phase << --\n",
      "-- Starting eval on experience 0 (Task 0) from test stream --\n",
      "100%|██████████| 79/79 [00:00<00:00, 126.02it/s]\n",
      "> Eval on experience 0 (Task 0) from test stream ended.\n",
      "\tCPUUsage_Exp/eval_phase/test_stream/Task000/Exp000 = 107.8216\n",
      "\tExperienceBWT/eval_phase/test_stream/Task000/Exp000 = -0.1777\n",
      "\tExperienceForgetting/eval_phase/test_stream/Task000/Exp000 = 0.1777\n",
      "\tMaxRAMUsage_Experience/eval_phase/test_stream/Task000/Exp000 = 0\n",
      "\tTop1_Acc_Exp/eval_phase/test_stream/Task000/Exp000 = 0.5622\n",
      "-- Starting eval on experience 1 (Task 0) from test stream --\n",
      "100%|██████████| 79/79 [00:00<00:00, 124.34it/s]\n",
      "> Eval on experience 1 (Task 0) from test stream ended.\n",
      "\tCPUUsage_Exp/eval_phase/test_stream/Task000/Exp001 = 104.7591\n",
      "\tExperienceBWT/eval_phase/test_stream/Task000/Exp001 = -0.0231\n",
      "\tExperienceForgetting/eval_phase/test_stream/Task000/Exp001 = 0.0231\n",
      "\tMaxRAMUsage_Experience/eval_phase/test_stream/Task000/Exp001 = 128.4219\n",
      "\tTop1_Acc_Exp/eval_phase/test_stream/Task000/Exp001 = 0.7478\n",
      "-- Starting eval on experience 2 (Task 0) from test stream --\n",
      "100%|██████████| 79/79 [00:00<00:00, 134.55it/s]\n",
      "> Eval on experience 2 (Task 0) from test stream ended.\n",
      "\tCPUUsage_Exp/eval_phase/test_stream/Task000/Exp002 = 107.5922\n",
      "\tExperienceBWT/eval_phase/test_stream/Task000/Exp002 = -0.0149\n",
      "\tExperienceForgetting/eval_phase/test_stream/Task000/Exp002 = 0.0149\n",
      "\tMaxRAMUsage_Experience/eval_phase/test_stream/Task000/Exp002 = 0\n",
      "\tTop1_Acc_Exp/eval_phase/test_stream/Task000/Exp002 = 0.7716\n",
      "-- Starting eval on experience 3 (Task 0) from test stream --\n",
      "100%|██████████| 79/79 [00:00<00:00, 129.54it/s]\n",
      "> Eval on experience 3 (Task 0) from test stream ended.\n",
      "\tCPUUsage_Exp/eval_phase/test_stream/Task000/Exp003 = 105.3096\n",
      "\tExperienceBWT/eval_phase/test_stream/Task000/Exp003 = -0.0270\n",
      "\tExperienceForgetting/eval_phase/test_stream/Task000/Exp003 = 0.0270\n",
      "\tMaxRAMUsage_Experience/eval_phase/test_stream/Task000/Exp003 = 129.5625\n",
      "\tTop1_Acc_Exp/eval_phase/test_stream/Task000/Exp003 = 0.7826\n",
      "-- Starting eval on experience 4 (Task 0) from test stream --\n",
      "100%|██████████| 79/79 [00:00<00:00, 133.51it/s]\n",
      "> Eval on experience 4 (Task 0) from test stream ended.\n",
      "\tCPUUsage_Exp/eval_phase/test_stream/Task000/Exp004 = 106.9950\n",
      "\tMaxRAMUsage_Experience/eval_phase/test_stream/Task000/Exp004 = 130.1406\n",
      "\tTop1_Acc_Exp/eval_phase/test_stream/Task000/Exp004 = 0.8183\n",
      "-- Starting eval on experience 5 (Task 0) from test stream --\n",
      "100%|██████████| 79/79 [00:00<00:00, 130.81it/s]\n",
      "> Eval on experience 5 (Task 0) from test stream ended.\n",
      "\tCPUUsage_Exp/eval_phase/test_stream/Task000/Exp005 = 104.6020\n",
      "\tMaxRAMUsage_Experience/eval_phase/test_stream/Task000/Exp005 = 0\n",
      "\tTop1_Acc_Exp/eval_phase/test_stream/Task000/Exp005 = 0.1555\n",
      "-- Starting eval on experience 6 (Task 0) from test stream --\n",
      "100%|██████████| 79/79 [00:00<00:00, 135.89it/s]\n",
      "> Eval on experience 6 (Task 0) from test stream ended.\n",
      "\tCPUUsage_Exp/eval_phase/test_stream/Task000/Exp006 = 106.6952\n",
      "\tMaxRAMUsage_Experience/eval_phase/test_stream/Task000/Exp006 = 132.8125\n",
      "\tTop1_Acc_Exp/eval_phase/test_stream/Task000/Exp006 = 0.1105\n",
      "-- Starting eval on experience 7 (Task 0) from test stream --\n",
      "100%|██████████| 79/79 [00:00<00:00, 130.63it/s]\n",
      "> Eval on experience 7 (Task 0) from test stream ended.\n",
      "\tCPUUsage_Exp/eval_phase/test_stream/Task000/Exp007 = 104.4547\n",
      "\tMaxRAMUsage_Experience/eval_phase/test_stream/Task000/Exp007 = 0\n",
      "\tTop1_Acc_Exp/eval_phase/test_stream/Task000/Exp007 = 0.1706\n",
      "-- Starting eval on experience 8 (Task 0) from test stream --\n",
      "100%|██████████| 79/79 [00:00<00:00, 134.51it/s]\n",
      "> Eval on experience 8 (Task 0) from test stream ended.\n",
      "\tCPUUsage_Exp/eval_phase/test_stream/Task000/Exp008 = 106.0272\n",
      "\tMaxRAMUsage_Experience/eval_phase/test_stream/Task000/Exp008 = 133.7656\n",
      "\tTop1_Acc_Exp/eval_phase/test_stream/Task000/Exp008 = 0.1324\n",
      "-- Starting eval on experience 9 (Task 0) from test stream --\n",
      "100%|██████████| 79/79 [00:00<00:00, 130.41it/s]\n",
      "> Eval on experience 9 (Task 0) from test stream ended.\n",
      "\tCPUUsage_Exp/eval_phase/test_stream/Task000/Exp009 = 104.0630\n",
      "\tMaxRAMUsage_Experience/eval_phase/test_stream/Task000/Exp009 = 134.3438\n",
      "\tTop1_Acc_Exp/eval_phase/test_stream/Task000/Exp009 = 0.1364\n"
     ]
    },
    {
     "name": "stderr",
     "output_type": "stream",
     "text": [
      " 50%|█████     | 5/10 [05:56<06:15, 75.03s/it]"
     ]
    },
    {
     "name": "stdout",
     "output_type": "stream",
     "text": [
      "-- >> End of eval phase << --\n",
      "\tAccuracy_On_Trained_Experiences/eval_phase/test_stream/Task000 = 0.7365\n",
      "\tCPUUsage_Stream/eval_phase/test_stream/Task000 = 105.8012\n",
      "\tMaxRAMUsage_Stream/eval_phase/test_stream/Task000 = 134.3438\n",
      "\tStreamBWT/eval_phase/test_stream = -0.0607\n",
      "\tStreamForgetting/eval_phase/test_stream = 0.0607\n",
      "\tTop1_Acc_Stream/eval_phase/test_stream/Task000 = 0.4388\n",
      "-- >> Start of training phase << --\n",
      "100%|██████████| 469/469 [00:04<00:00, 98.08it/s] \n",
      "Epoch 0 ended.\n",
      "\tRunningTime_Epoch/train_phase/train_stream/Task000 = 0.0000\n",
      "\tTime_Epoch/train_phase/train_stream/Task000 = 4.7814\n",
      "100%|██████████| 469/469 [00:04<00:00, 98.78it/s] \n",
      "Epoch 1 ended.\n",
      "\tRunningTime_Epoch/train_phase/train_stream/Task000 = 0.0000\n",
      "\tTime_Epoch/train_phase/train_stream/Task000 = 4.7470\n",
      "100%|██████████| 469/469 [00:04<00:00, 98.82it/s] \n",
      "Epoch 2 ended.\n",
      "\tRunningTime_Epoch/train_phase/train_stream/Task000 = 0.0000\n",
      "\tTime_Epoch/train_phase/train_stream/Task000 = 4.7454\n",
      "100%|██████████| 469/469 [00:04<00:00, 99.13it/s] \n",
      "Epoch 3 ended.\n",
      "\tRunningTime_Epoch/train_phase/train_stream/Task000 = 0.0000\n",
      "\tTime_Epoch/train_phase/train_stream/Task000 = 4.7306\n",
      "100%|██████████| 469/469 [00:04<00:00, 99.24it/s] \n",
      "Epoch 4 ended.\n",
      "\tRunningTime_Epoch/train_phase/train_stream/Task000 = 0.0000\n",
      "\tTime_Epoch/train_phase/train_stream/Task000 = 4.7256\n",
      "-- >> End of training phase << --\n",
      "-- >> Start of eval phase << --\n",
      "-- Starting eval on experience 0 (Task 0) from train stream --\n",
      "100%|██████████| 469/469 [00:03<00:00, 132.36it/s]\n",
      "> Eval on experience 0 (Task 0) from train stream ended.\n",
      "\tCPUUsage_Exp/eval_phase/train_stream/Task000/Exp000 = 106.6543\n",
      "\tExperienceBWT/eval_phase/train_stream/Task000/Exp000 = -0.2091\n",
      "\tExperienceForgetting/eval_phase/train_stream/Task000/Exp000 = 0.2091\n",
      "\tMaxRAMUsage_Experience/eval_phase/train_stream/Task000/Exp000 = 174.1875\n",
      "\tTop1_Acc_Exp/eval_phase/train_stream/Task000/Exp000 = 0.5308\n",
      "-- Starting eval on experience 1 (Task 0) from train stream --\n",
      "100%|██████████| 469/469 [00:03<00:00, 131.13it/s]\n",
      "> Eval on experience 1 (Task 0) from train stream ended.\n",
      "\tCPUUsage_Exp/eval_phase/train_stream/Task000/Exp001 = 106.8858\n",
      "\tExperienceBWT/eval_phase/train_stream/Task000/Exp001 = -0.0583\n",
      "\tExperienceForgetting/eval_phase/train_stream/Task000/Exp001 = 0.0583\n",
      "\tMaxRAMUsage_Experience/eval_phase/train_stream/Task000/Exp001 = 176.7812\n",
      "\tTop1_Acc_Exp/eval_phase/train_stream/Task000/Exp001 = 0.7126\n",
      "-- Starting eval on experience 2 (Task 0) from train stream --\n",
      "100%|██████████| 469/469 [00:03<00:00, 132.27it/s]\n",
      "> Eval on experience 2 (Task 0) from train stream ended.\n",
      "\tCPUUsage_Exp/eval_phase/train_stream/Task000/Exp002 = 106.5135\n",
      "\tExperienceBWT/eval_phase/train_stream/Task000/Exp002 = -0.0404\n",
      "\tExperienceForgetting/eval_phase/train_stream/Task000/Exp002 = 0.0404\n",
      "\tMaxRAMUsage_Experience/eval_phase/train_stream/Task000/Exp002 = 179.0312\n",
      "\tTop1_Acc_Exp/eval_phase/train_stream/Task000/Exp002 = 0.7461\n",
      "-- Starting eval on experience 3 (Task 0) from train stream --\n",
      "100%|██████████| 469/469 [00:03<00:00, 132.40it/s]\n",
      "> Eval on experience 3 (Task 0) from train stream ended.\n",
      "\tCPUUsage_Exp/eval_phase/train_stream/Task000/Exp003 = 106.4355\n",
      "\tExperienceBWT/eval_phase/train_stream/Task000/Exp003 = -0.0296\n",
      "\tExperienceForgetting/eval_phase/train_stream/Task000/Exp003 = 0.0296\n",
      "\tMaxRAMUsage_Experience/eval_phase/train_stream/Task000/Exp003 = 181.4219\n",
      "\tTop1_Acc_Exp/eval_phase/train_stream/Task000/Exp003 = 0.7800\n",
      "-- Starting eval on experience 4 (Task 0) from train stream --\n",
      "100%|██████████| 469/469 [00:03<00:00, 132.22it/s]\n",
      "> Eval on experience 4 (Task 0) from train stream ended.\n",
      "\tCPUUsage_Exp/eval_phase/train_stream/Task000/Exp004 = 106.4708\n",
      "\tExperienceBWT/eval_phase/train_stream/Task000/Exp004 = -0.0091\n",
      "\tExperienceForgetting/eval_phase/train_stream/Task000/Exp004 = 0.0091\n",
      "\tMaxRAMUsage_Experience/eval_phase/train_stream/Task000/Exp004 = 183.6719\n",
      "\tTop1_Acc_Exp/eval_phase/train_stream/Task000/Exp004 = 0.8093\n",
      "-- Starting eval on experience 5 (Task 0) from train stream --\n",
      "100%|██████████| 469/469 [00:03<00:00, 132.32it/s]\n",
      "> Eval on experience 5 (Task 0) from train stream ended.\n",
      "\tCPUUsage_Exp/eval_phase/train_stream/Task000/Exp005 = 106.7097\n",
      "\tMaxRAMUsage_Experience/eval_phase/train_stream/Task000/Exp005 = 183.8281\n",
      "\tTop1_Acc_Exp/eval_phase/train_stream/Task000/Exp005 = 0.8260\n",
      "-- Starting eval on experience 6 (Task 0) from train stream --\n",
      "100%|██████████| 469/469 [00:03<00:00, 131.68it/s]\n",
      "> Eval on experience 6 (Task 0) from train stream ended.\n",
      "\tCPUUsage_Exp/eval_phase/train_stream/Task000/Exp006 = 105.4195\n",
      "\tMaxRAMUsage_Experience/eval_phase/train_stream/Task000/Exp006 = 177.7188\n",
      "\tTop1_Acc_Exp/eval_phase/train_stream/Task000/Exp006 = 0.1192\n",
      "-- Starting eval on experience 7 (Task 0) from train stream --\n",
      "100%|██████████| 469/469 [00:03<00:00, 133.47it/s]\n",
      "> Eval on experience 7 (Task 0) from train stream ended.\n",
      "\tCPUUsage_Exp/eval_phase/train_stream/Task000/Exp007 = 105.7562\n",
      "\tMaxRAMUsage_Experience/eval_phase/train_stream/Task000/Exp007 = 180.2656\n",
      "\tTop1_Acc_Exp/eval_phase/train_stream/Task000/Exp007 = 0.1920\n",
      "-- Starting eval on experience 8 (Task 0) from train stream --\n",
      "100%|██████████| 469/469 [00:03<00:00, 132.36it/s]\n",
      "> Eval on experience 8 (Task 0) from train stream ended.\n",
      "\tCPUUsage_Exp/eval_phase/train_stream/Task000/Exp008 = 105.4852\n",
      "\tMaxRAMUsage_Experience/eval_phase/train_stream/Task000/Exp008 = 182.4688\n",
      "\tTop1_Acc_Exp/eval_phase/train_stream/Task000/Exp008 = 0.1256\n",
      "-- Starting eval on experience 9 (Task 0) from train stream --\n",
      "100%|██████████| 469/469 [00:03<00:00, 133.76it/s]\n",
      "> Eval on experience 9 (Task 0) from train stream ended.\n",
      "\tCPUUsage_Exp/eval_phase/train_stream/Task000/Exp009 = 105.9068\n",
      "\tMaxRAMUsage_Experience/eval_phase/train_stream/Task000/Exp009 = 180.9531\n",
      "\tTop1_Acc_Exp/eval_phase/train_stream/Task000/Exp009 = 0.1154\n",
      "-- >> End of eval phase << --\n",
      "\tAccuracy_On_Trained_Experiences/eval_phase/train_stream/Task000 = 0.7341\n",
      "\tCPUUsage_Stream/eval_phase/train_stream/Task000 = 106.1998\n",
      "\tMaxRAMUsage_Stream/eval_phase/train_stream/Task000 = 183.8281\n",
      "\tStreamBWT/eval_phase/train_stream = -0.0693\n",
      "\tStreamForgetting/eval_phase/train_stream = 0.0693\n",
      "\tTop1_Acc_Stream/eval_phase/train_stream/Task000 = 0.4957\n",
      "-- >> Start of eval phase << --\n",
      "-- Starting eval on experience 0 (Task 0) from test stream --\n",
      "100%|██████████| 79/79 [00:00<00:00, 123.22it/s]\n",
      "> Eval on experience 0 (Task 0) from test stream ended.\n",
      "\tCPUUsage_Exp/eval_phase/test_stream/Task000/Exp000 = 105.7041\n",
      "\tExperienceBWT/eval_phase/test_stream/Task000/Exp000 = -0.2137\n",
      "\tExperienceForgetting/eval_phase/test_stream/Task000/Exp000 = 0.2137\n",
      "\tMaxRAMUsage_Experience/eval_phase/test_stream/Task000/Exp000 = 0\n",
      "\tTop1_Acc_Exp/eval_phase/test_stream/Task000/Exp000 = 0.5262\n",
      "-- Starting eval on experience 1 (Task 0) from test stream --\n",
      "100%|██████████| 79/79 [00:00<00:00, 135.27it/s]\n",
      "> Eval on experience 1 (Task 0) from test stream ended.\n",
      "\tCPUUsage_Exp/eval_phase/test_stream/Task000/Exp001 = 107.9230\n",
      "\tExperienceBWT/eval_phase/test_stream/Task000/Exp001 = -0.0506\n",
      "\tExperienceForgetting/eval_phase/test_stream/Task000/Exp001 = 0.0506\n",
      "\tMaxRAMUsage_Experience/eval_phase/test_stream/Task000/Exp001 = 180.9688\n",
      "\tTop1_Acc_Exp/eval_phase/test_stream/Task000/Exp001 = 0.7203\n",
      "-- Starting eval on experience 2 (Task 0) from test stream --\n",
      "100%|██████████| 79/79 [00:00<00:00, 130.93it/s]\n",
      "> Eval on experience 2 (Task 0) from test stream ended.\n",
      "\tCPUUsage_Exp/eval_phase/test_stream/Task000/Exp002 = 105.5116\n",
      "\tExperienceBWT/eval_phase/test_stream/Task000/Exp002 = -0.0405\n",
      "\tExperienceForgetting/eval_phase/test_stream/Task000/Exp002 = 0.0405\n",
      "\tMaxRAMUsage_Experience/eval_phase/test_stream/Task000/Exp002 = 0\n",
      "\tTop1_Acc_Exp/eval_phase/test_stream/Task000/Exp002 = 0.7460\n",
      "-- Starting eval on experience 3 (Task 0) from test stream --\n",
      "100%|██████████| 79/79 [00:00<00:00, 134.27it/s]\n",
      "> Eval on experience 3 (Task 0) from test stream ended.\n",
      "\tCPUUsage_Exp/eval_phase/test_stream/Task000/Exp003 = 107.2174\n",
      "\tExperienceBWT/eval_phase/test_stream/Task000/Exp003 = -0.0237\n",
      "\tExperienceForgetting/eval_phase/test_stream/Task000/Exp003 = 0.0237\n",
      "\tMaxRAMUsage_Experience/eval_phase/test_stream/Task000/Exp003 = 180.9688\n",
      "\tTop1_Acc_Exp/eval_phase/test_stream/Task000/Exp003 = 0.7859\n",
      "-- Starting eval on experience 4 (Task 0) from test stream --\n",
      "100%|██████████| 79/79 [00:00<00:00, 130.78it/s]\n",
      "> Eval on experience 4 (Task 0) from test stream ended.\n",
      "\tCPUUsage_Exp/eval_phase/test_stream/Task000/Exp004 = 105.4186\n",
      "\tExperienceBWT/eval_phase/test_stream/Task000/Exp004 = -0.0054\n",
      "\tExperienceForgetting/eval_phase/test_stream/Task000/Exp004 = 0.0054\n",
      "\tMaxRAMUsage_Experience/eval_phase/test_stream/Task000/Exp004 = 180.9688\n",
      "\tTop1_Acc_Exp/eval_phase/test_stream/Task000/Exp004 = 0.8129\n",
      "-- Starting eval on experience 5 (Task 0) from test stream --\n",
      "100%|██████████| 79/79 [00:00<00:00, 134.81it/s]\n",
      "> Eval on experience 5 (Task 0) from test stream ended.\n",
      "\tCPUUsage_Exp/eval_phase/test_stream/Task000/Exp005 = 107.4790\n",
      "\tMaxRAMUsage_Experience/eval_phase/test_stream/Task000/Exp005 = 0\n",
      "\tTop1_Acc_Exp/eval_phase/test_stream/Task000/Exp005 = 0.8311\n",
      "-- Starting eval on experience 6 (Task 0) from test stream --\n",
      "100%|██████████| 79/79 [00:00<00:00, 132.49it/s]\n",
      "> Eval on experience 6 (Task 0) from test stream ended.\n",
      "\tCPUUsage_Exp/eval_phase/test_stream/Task000/Exp006 = 104.2722\n",
      "\tMaxRAMUsage_Experience/eval_phase/test_stream/Task000/Exp006 = 180.9688\n",
      "\tTop1_Acc_Exp/eval_phase/test_stream/Task000/Exp006 = 0.1151\n",
      "-- Starting eval on experience 7 (Task 0) from test stream --\n",
      "100%|██████████| 79/79 [00:00<00:00, 135.09it/s]\n",
      "> Eval on experience 7 (Task 0) from test stream ended.\n",
      "\tCPUUsage_Exp/eval_phase/test_stream/Task000/Exp007 = 106.2374\n",
      "\tMaxRAMUsage_Experience/eval_phase/test_stream/Task000/Exp007 = 0\n",
      "\tTop1_Acc_Exp/eval_phase/test_stream/Task000/Exp007 = 0.1956\n",
      "-- Starting eval on experience 8 (Task 0) from test stream --\n",
      "100%|██████████| 79/79 [00:00<00:00, 131.89it/s]\n",
      "> Eval on experience 8 (Task 0) from test stream ended.\n",
      "\tCPUUsage_Exp/eval_phase/test_stream/Task000/Exp008 = 104.5203\n",
      "\tMaxRAMUsage_Experience/eval_phase/test_stream/Task000/Exp008 = 180.9688\n",
      "\tTop1_Acc_Exp/eval_phase/test_stream/Task000/Exp008 = 0.1273\n",
      "-- Starting eval on experience 9 (Task 0) from test stream --\n",
      "100%|██████████| 79/79 [00:00<00:00, 132.71it/s]\n",
      "> Eval on experience 9 (Task 0) from test stream ended.\n",
      "\tCPUUsage_Exp/eval_phase/test_stream/Task000/Exp009 = 105.4075\n",
      "\tMaxRAMUsage_Experience/eval_phase/test_stream/Task000/Exp009 = 180.8281\n",
      "\tTop1_Acc_Exp/eval_phase/test_stream/Task000/Exp009 = 0.1229\n"
     ]
    },
    {
     "name": "stderr",
     "output_type": "stream",
     "text": [
      " 60%|██████    | 6/10 [07:03<04:48, 72.22s/it]"
     ]
    },
    {
     "name": "stdout",
     "output_type": "stream",
     "text": [
      "-- >> End of eval phase << --\n",
      "\tAccuracy_On_Trained_Experiences/eval_phase/test_stream/Task000 = 0.7371\n",
      "\tCPUUsage_Stream/eval_phase/test_stream/Task000 = 105.9376\n",
      "\tMaxRAMUsage_Stream/eval_phase/test_stream/Task000 = 180.9688\n",
      "\tStreamBWT/eval_phase/test_stream = -0.0668\n",
      "\tStreamForgetting/eval_phase/test_stream = 0.0668\n",
      "\tTop1_Acc_Stream/eval_phase/test_stream/Task000 = 0.4983\n",
      "-- >> Start of training phase << --\n",
      "100%|██████████| 469/469 [00:04<00:00, 98.07it/s] \n",
      "Epoch 0 ended.\n",
      "\tRunningTime_Epoch/train_phase/train_stream/Task000 = 0.0000\n",
      "\tTime_Epoch/train_phase/train_stream/Task000 = 4.7832\n",
      "100%|██████████| 469/469 [00:04<00:00, 98.60it/s] \n",
      "Epoch 1 ended.\n",
      "\tRunningTime_Epoch/train_phase/train_stream/Task000 = 0.0000\n",
      "\tTime_Epoch/train_phase/train_stream/Task000 = 4.7570\n",
      "100%|██████████| 469/469 [00:04<00:00, 99.00it/s] \n",
      "Epoch 2 ended.\n",
      "\tRunningTime_Epoch/train_phase/train_stream/Task000 = 0.0000\n",
      "\tTime_Epoch/train_phase/train_stream/Task000 = 4.7374\n",
      "100%|██████████| 469/469 [00:04<00:00, 98.66it/s] \n",
      "Epoch 3 ended.\n",
      "\tRunningTime_Epoch/train_phase/train_stream/Task000 = 0.0000\n",
      "\tTime_Epoch/train_phase/train_stream/Task000 = 4.7538\n",
      "100%|██████████| 469/469 [00:04<00:00, 99.07it/s] \n",
      "Epoch 4 ended.\n",
      "\tRunningTime_Epoch/train_phase/train_stream/Task000 = 0.0000\n",
      "\tTime_Epoch/train_phase/train_stream/Task000 = 4.7344\n",
      "-- >> End of training phase << --\n",
      "-- >> Start of eval phase << --\n",
      "-- Starting eval on experience 0 (Task 0) from train stream --\n",
      "100%|██████████| 469/469 [00:03<00:00, 133.18it/s]\n",
      "> Eval on experience 0 (Task 0) from train stream ended.\n",
      "\tCPUUsage_Exp/eval_phase/train_stream/Task000/Exp000 = 107.0138\n",
      "\tExperienceBWT/eval_phase/train_stream/Task000/Exp000 = -0.2108\n",
      "\tExperienceForgetting/eval_phase/train_stream/Task000/Exp000 = 0.2108\n",
      "\tMaxRAMUsage_Experience/eval_phase/train_stream/Task000/Exp000 = 191.1094\n",
      "\tTop1_Acc_Exp/eval_phase/train_stream/Task000/Exp000 = 0.5291\n",
      "-- Starting eval on experience 1 (Task 0) from train stream --\n",
      "100%|██████████| 469/469 [00:03<00:00, 133.26it/s]\n",
      "> Eval on experience 1 (Task 0) from train stream ended.\n",
      "\tCPUUsage_Exp/eval_phase/train_stream/Task000/Exp001 = 107.1836\n",
      "\tExperienceBWT/eval_phase/train_stream/Task000/Exp001 = -0.0693\n",
      "\tExperienceForgetting/eval_phase/train_stream/Task000/Exp001 = 0.0693\n",
      "\tMaxRAMUsage_Experience/eval_phase/train_stream/Task000/Exp001 = 191.1094\n",
      "\tTop1_Acc_Exp/eval_phase/train_stream/Task000/Exp001 = 0.7016\n",
      "-- Starting eval on experience 2 (Task 0) from train stream --\n",
      "100%|██████████| 469/469 [00:03<00:00, 129.37it/s]\n",
      "> Eval on experience 2 (Task 0) from train stream ended.\n",
      "\tCPUUsage_Exp/eval_phase/train_stream/Task000/Exp002 = 106.2085\n",
      "\tExperienceBWT/eval_phase/train_stream/Task000/Exp002 = -0.0848\n",
      "\tExperienceForgetting/eval_phase/train_stream/Task000/Exp002 = 0.0848\n",
      "\tMaxRAMUsage_Experience/eval_phase/train_stream/Task000/Exp002 = 191.1094\n",
      "\tTop1_Acc_Exp/eval_phase/train_stream/Task000/Exp002 = 0.7017\n",
      "-- Starting eval on experience 3 (Task 0) from train stream --\n",
      "100%|██████████| 469/469 [00:03<00:00, 128.71it/s]\n",
      "> Eval on experience 3 (Task 0) from train stream ended.\n",
      "\tCPUUsage_Exp/eval_phase/train_stream/Task000/Exp003 = 106.2137\n",
      "\tExperienceBWT/eval_phase/train_stream/Task000/Exp003 = -0.0493\n",
      "\tExperienceForgetting/eval_phase/train_stream/Task000/Exp003 = 0.0493\n",
      "\tMaxRAMUsage_Experience/eval_phase/train_stream/Task000/Exp003 = 184.8125\n",
      "\tTop1_Acc_Exp/eval_phase/train_stream/Task000/Exp003 = 0.7603\n",
      "-- Starting eval on experience 4 (Task 0) from train stream --\n",
      "100%|██████████| 469/469 [00:03<00:00, 130.66it/s]\n",
      "> Eval on experience 4 (Task 0) from train stream ended.\n",
      "\tCPUUsage_Exp/eval_phase/train_stream/Task000/Exp004 = 105.9527\n",
      "\tExperienceBWT/eval_phase/train_stream/Task000/Exp004 = -0.0325\n",
      "\tExperienceForgetting/eval_phase/train_stream/Task000/Exp004 = 0.0325\n",
      "\tMaxRAMUsage_Experience/eval_phase/train_stream/Task000/Exp004 = 173.8281\n",
      "\tTop1_Acc_Exp/eval_phase/train_stream/Task000/Exp004 = 0.7858\n",
      "-- Starting eval on experience 5 (Task 0) from train stream --\n",
      "100%|██████████| 469/469 [00:03<00:00, 131.78it/s]\n",
      "> Eval on experience 5 (Task 0) from train stream ended.\n",
      "\tCPUUsage_Exp/eval_phase/train_stream/Task000/Exp005 = 106.3995\n",
      "\tExperienceBWT/eval_phase/train_stream/Task000/Exp005 = -0.0289\n",
      "\tExperienceForgetting/eval_phase/train_stream/Task000/Exp005 = 0.0289\n",
      "\tMaxRAMUsage_Experience/eval_phase/train_stream/Task000/Exp005 = 172.3438\n",
      "\tTop1_Acc_Exp/eval_phase/train_stream/Task000/Exp005 = 0.8022\n",
      "-- Starting eval on experience 6 (Task 0) from train stream --\n",
      "100%|██████████| 469/469 [00:03<00:00, 131.85it/s]\n",
      "> Eval on experience 6 (Task 0) from train stream ended.\n",
      "\tCPUUsage_Exp/eval_phase/train_stream/Task000/Exp006 = 106.5127\n",
      "\tMaxRAMUsage_Experience/eval_phase/train_stream/Task000/Exp006 = 172.3438\n",
      "\tTop1_Acc_Exp/eval_phase/train_stream/Task000/Exp006 = 0.8238\n",
      "-- Starting eval on experience 7 (Task 0) from train stream --\n",
      "100%|██████████| 469/469 [00:03<00:00, 132.83it/s]\n",
      "> Eval on experience 7 (Task 0) from train stream ended.\n",
      "\tCPUUsage_Exp/eval_phase/train_stream/Task000/Exp007 = 105.1887\n",
      "\tMaxRAMUsage_Experience/eval_phase/train_stream/Task000/Exp007 = 172.3594\n",
      "\tTop1_Acc_Exp/eval_phase/train_stream/Task000/Exp007 = 0.1666\n",
      "-- Starting eval on experience 8 (Task 0) from train stream --\n",
      "100%|██████████| 469/469 [00:03<00:00, 133.77it/s]\n",
      "> Eval on experience 8 (Task 0) from train stream ended.\n",
      "\tCPUUsage_Exp/eval_phase/train_stream/Task000/Exp008 = 105.9909\n",
      "\tMaxRAMUsage_Experience/eval_phase/train_stream/Task000/Exp008 = 173.3125\n",
      "\tTop1_Acc_Exp/eval_phase/train_stream/Task000/Exp008 = 0.1064\n",
      "-- Starting eval on experience 9 (Task 0) from train stream --\n",
      "100%|██████████| 469/469 [00:03<00:00, 133.53it/s]\n",
      "> Eval on experience 9 (Task 0) from train stream ended.\n",
      "\tCPUUsage_Exp/eval_phase/train_stream/Task000/Exp009 = 106.1141\n",
      "\tMaxRAMUsage_Experience/eval_phase/train_stream/Task000/Exp009 = 175.2500\n",
      "\tTop1_Acc_Exp/eval_phase/train_stream/Task000/Exp009 = 0.1163\n",
      "-- >> End of eval phase << --\n",
      "\tAccuracy_On_Trained_Experiences/eval_phase/train_stream/Task000 = 0.7292\n",
      "\tCPUUsage_Stream/eval_phase/train_stream/Task000 = 106.2647\n",
      "\tMaxRAMUsage_Stream/eval_phase/train_stream/Task000 = 191.1094\n",
      "\tStreamBWT/eval_phase/train_stream = -0.0793\n",
      "\tStreamForgetting/eval_phase/train_stream = 0.0793\n",
      "\tTop1_Acc_Stream/eval_phase/train_stream/Task000 = 0.5494\n",
      "-- >> Start of eval phase << --\n",
      "-- Starting eval on experience 0 (Task 0) from test stream --\n",
      "100%|██████████| 79/79 [00:00<00:00, 128.64it/s]\n",
      "> Eval on experience 0 (Task 0) from test stream ended.\n",
      "\tCPUUsage_Exp/eval_phase/test_stream/Task000/Exp000 = 107.7597\n",
      "\tExperienceBWT/eval_phase/test_stream/Task000/Exp000 = -0.2154\n",
      "\tExperienceForgetting/eval_phase/test_stream/Task000/Exp000 = 0.2154\n",
      "\tMaxRAMUsage_Experience/eval_phase/test_stream/Task000/Exp000 = 0\n",
      "\tTop1_Acc_Exp/eval_phase/test_stream/Task000/Exp000 = 0.5245\n",
      "-- Starting eval on experience 1 (Task 0) from test stream --\n",
      "100%|██████████| 79/79 [00:00<00:00, 134.33it/s]\n",
      "> Eval on experience 1 (Task 0) from test stream ended.\n",
      "\tCPUUsage_Exp/eval_phase/test_stream/Task000/Exp001 = 107.2597\n",
      "\tExperienceBWT/eval_phase/test_stream/Task000/Exp001 = -0.0596\n",
      "\tExperienceForgetting/eval_phase/test_stream/Task000/Exp001 = 0.0596\n",
      "\tMaxRAMUsage_Experience/eval_phase/test_stream/Task000/Exp001 = 184.5938\n",
      "\tTop1_Acc_Exp/eval_phase/test_stream/Task000/Exp001 = 0.7113\n",
      "-- Starting eval on experience 2 (Task 0) from test stream --\n",
      "100%|██████████| 79/79 [00:00<00:00, 130.29it/s]\n",
      "> Eval on experience 2 (Task 0) from test stream ended.\n",
      "\tCPUUsage_Exp/eval_phase/test_stream/Task000/Exp002 = 105.4801\n",
      "\tExperienceBWT/eval_phase/test_stream/Task000/Exp002 = -0.0859\n",
      "\tExperienceForgetting/eval_phase/test_stream/Task000/Exp002 = 0.0859\n",
      "\tMaxRAMUsage_Experience/eval_phase/test_stream/Task000/Exp002 = 0\n",
      "\tTop1_Acc_Exp/eval_phase/test_stream/Task000/Exp002 = 0.7006\n",
      "-- Starting eval on experience 3 (Task 0) from test stream --\n",
      "100%|██████████| 79/79 [00:00<00:00, 134.71it/s]\n",
      "> Eval on experience 3 (Task 0) from test stream ended.\n",
      "\tCPUUsage_Exp/eval_phase/test_stream/Task000/Exp003 = 107.1227\n",
      "\tExperienceBWT/eval_phase/test_stream/Task000/Exp003 = -0.0442\n",
      "\tExperienceForgetting/eval_phase/test_stream/Task000/Exp003 = 0.0442\n",
      "\tMaxRAMUsage_Experience/eval_phase/test_stream/Task000/Exp003 = 184.6875\n",
      "\tTop1_Acc_Exp/eval_phase/test_stream/Task000/Exp003 = 0.7654\n",
      "-- Starting eval on experience 4 (Task 0) from test stream --\n",
      "100%|██████████| 79/79 [00:00<00:00, 130.84it/s]\n",
      "> Eval on experience 4 (Task 0) from test stream ended.\n",
      "\tCPUUsage_Exp/eval_phase/test_stream/Task000/Exp004 = 106.1301\n",
      "\tExperienceBWT/eval_phase/test_stream/Task000/Exp004 = -0.0333\n",
      "\tExperienceForgetting/eval_phase/test_stream/Task000/Exp004 = 0.0333\n",
      "\tMaxRAMUsage_Experience/eval_phase/test_stream/Task000/Exp004 = 184.7969\n",
      "\tTop1_Acc_Exp/eval_phase/test_stream/Task000/Exp004 = 0.7850\n",
      "-- Starting eval on experience 5 (Task 0) from test stream --\n",
      "100%|██████████| 79/79 [00:00<00:00, 128.50it/s]\n",
      "> Eval on experience 5 (Task 0) from test stream ended.\n",
      "\tCPUUsage_Exp/eval_phase/test_stream/Task000/Exp005 = 104.3601\n",
      "\tExperienceBWT/eval_phase/test_stream/Task000/Exp005 = -0.0276\n",
      "\tExperienceForgetting/eval_phase/test_stream/Task000/Exp005 = 0.0276\n",
      "\tMaxRAMUsage_Experience/eval_phase/test_stream/Task000/Exp005 = 0\n",
      "\tTop1_Acc_Exp/eval_phase/test_stream/Task000/Exp005 = 0.8035\n",
      "-- Starting eval on experience 6 (Task 0) from test stream --\n",
      "100%|██████████| 79/79 [00:00<00:00, 135.75it/s]\n",
      "> Eval on experience 6 (Task 0) from test stream ended.\n",
      "\tCPUUsage_Exp/eval_phase/test_stream/Task000/Exp006 = 107.4038\n",
      "\tMaxRAMUsage_Experience/eval_phase/test_stream/Task000/Exp006 = 175.3594\n",
      "\tTop1_Acc_Exp/eval_phase/test_stream/Task000/Exp006 = 0.8284\n",
      "-- Starting eval on experience 7 (Task 0) from test stream --\n",
      "100%|██████████| 79/79 [00:00<00:00, 131.60it/s]\n",
      "> Eval on experience 7 (Task 0) from test stream ended.\n",
      "\tCPUUsage_Exp/eval_phase/test_stream/Task000/Exp007 = 104.0895\n",
      "\tMaxRAMUsage_Experience/eval_phase/test_stream/Task000/Exp007 = 0\n",
      "\tTop1_Acc_Exp/eval_phase/test_stream/Task000/Exp007 = 0.1709\n",
      "-- Starting eval on experience 8 (Task 0) from test stream --\n",
      "100%|██████████| 79/79 [00:00<00:00, 135.22it/s]\n",
      "> Eval on experience 8 (Task 0) from test stream ended.\n",
      "\tCPUUsage_Exp/eval_phase/test_stream/Task000/Exp008 = 106.2635\n",
      "\tMaxRAMUsage_Experience/eval_phase/test_stream/Task000/Exp008 = 176.1719\n",
      "\tTop1_Acc_Exp/eval_phase/test_stream/Task000/Exp008 = 0.1076\n",
      "-- Starting eval on experience 9 (Task 0) from test stream --\n",
      "100%|██████████| 79/79 [00:00<00:00, 131.43it/s]\n",
      "> Eval on experience 9 (Task 0) from test stream ended.\n",
      "\tCPUUsage_Exp/eval_phase/test_stream/Task000/Exp009 = 104.7607\n",
      "\tMaxRAMUsage_Experience/eval_phase/test_stream/Task000/Exp009 = 176.7812\n",
      "\tTop1_Acc_Exp/eval_phase/test_stream/Task000/Exp009 = 0.1225\n"
     ]
    },
    {
     "name": "stderr",
     "output_type": "stream",
     "text": [
      " 70%|███████   | 7/10 [08:10<03:32, 70.78s/it]"
     ]
    },
    {
     "name": "stdout",
     "output_type": "stream",
     "text": [
      "-- >> End of eval phase << --\n",
      "\tAccuracy_On_Trained_Experiences/eval_phase/test_stream/Task000 = 0.7312\n",
      "\tCPUUsage_Stream/eval_phase/test_stream/Task000 = 106.0290\n",
      "\tMaxRAMUsage_Stream/eval_phase/test_stream/Task000 = 184.7969\n",
      "\tStreamBWT/eval_phase/test_stream = -0.0777\n",
      "\tStreamForgetting/eval_phase/test_stream = 0.0777\n",
      "\tTop1_Acc_Stream/eval_phase/test_stream/Task000 = 0.5520\n",
      "-- >> Start of training phase << --\n",
      "100%|██████████| 469/469 [00:04<00:00, 95.21it/s]\n",
      "Epoch 0 ended.\n",
      "\tRunningTime_Epoch/train_phase/train_stream/Task000 = 0.0000\n",
      "\tTime_Epoch/train_phase/train_stream/Task000 = 4.9270\n",
      "100%|██████████| 469/469 [00:04<00:00, 99.38it/s] \n",
      "Epoch 1 ended.\n",
      "\tRunningTime_Epoch/train_phase/train_stream/Task000 = 0.0000\n",
      "\tTime_Epoch/train_phase/train_stream/Task000 = 4.7194\n",
      "100%|██████████| 469/469 [00:04<00:00, 99.18it/s] \n",
      "Epoch 2 ended.\n",
      "\tRunningTime_Epoch/train_phase/train_stream/Task000 = 0.0000\n",
      "\tTime_Epoch/train_phase/train_stream/Task000 = 4.7291\n",
      "100%|██████████| 469/469 [00:04<00:00, 99.60it/s] \n",
      "Epoch 3 ended.\n",
      "\tRunningTime_Epoch/train_phase/train_stream/Task000 = 0.0000\n",
      "\tTime_Epoch/train_phase/train_stream/Task000 = 4.7091\n",
      "100%|██████████| 469/469 [00:04<00:00, 99.01it/s] \n",
      "Epoch 4 ended.\n",
      "\tRunningTime_Epoch/train_phase/train_stream/Task000 = 0.0000\n",
      "\tTime_Epoch/train_phase/train_stream/Task000 = 4.7371\n",
      "-- >> End of training phase << --\n",
      "-- >> Start of eval phase << --\n",
      "-- Starting eval on experience 0 (Task 0) from train stream --\n",
      "100%|██████████| 469/469 [00:03<00:00, 131.50it/s]\n",
      "> Eval on experience 0 (Task 0) from train stream ended.\n",
      "\tCPUUsage_Exp/eval_phase/train_stream/Task000/Exp000 = 106.7610\n",
      "\tExperienceBWT/eval_phase/train_stream/Task000/Exp000 = -0.2517\n",
      "\tExperienceForgetting/eval_phase/train_stream/Task000/Exp000 = 0.2517\n",
      "\tMaxRAMUsage_Experience/eval_phase/train_stream/Task000/Exp000 = 173.4688\n",
      "\tTop1_Acc_Exp/eval_phase/train_stream/Task000/Exp000 = 0.4882\n",
      "-- Starting eval on experience 1 (Task 0) from train stream --\n",
      "100%|██████████| 469/469 [00:03<00:00, 132.29it/s]\n",
      "> Eval on experience 1 (Task 0) from train stream ended.\n",
      "\tCPUUsage_Exp/eval_phase/train_stream/Task000/Exp001 = 106.7528\n",
      "\tExperienceBWT/eval_phase/train_stream/Task000/Exp001 = -0.0868\n",
      "\tExperienceForgetting/eval_phase/train_stream/Task000/Exp001 = 0.0868\n",
      "\tMaxRAMUsage_Experience/eval_phase/train_stream/Task000/Exp001 = 175.8594\n",
      "\tTop1_Acc_Exp/eval_phase/train_stream/Task000/Exp001 = 0.6841\n",
      "-- Starting eval on experience 2 (Task 0) from train stream --\n",
      "100%|██████████| 469/469 [00:03<00:00, 132.69it/s]\n",
      "> Eval on experience 2 (Task 0) from train stream ended.\n",
      "\tCPUUsage_Exp/eval_phase/train_stream/Task000/Exp002 = 106.8728\n",
      "\tExperienceBWT/eval_phase/train_stream/Task000/Exp002 = -0.0968\n",
      "\tExperienceForgetting/eval_phase/train_stream/Task000/Exp002 = 0.0968\n",
      "\tMaxRAMUsage_Experience/eval_phase/train_stream/Task000/Exp002 = 178.1875\n",
      "\tTop1_Acc_Exp/eval_phase/train_stream/Task000/Exp002 = 0.6897\n",
      "-- Starting eval on experience 3 (Task 0) from train stream --\n",
      "100%|██████████| 469/469 [00:03<00:00, 131.75it/s]\n",
      "> Eval on experience 3 (Task 0) from train stream ended.\n",
      "\tCPUUsage_Exp/eval_phase/train_stream/Task000/Exp003 = 106.4062\n",
      "\tExperienceBWT/eval_phase/train_stream/Task000/Exp003 = -0.0550\n",
      "\tExperienceForgetting/eval_phase/train_stream/Task000/Exp003 = 0.0550\n",
      "\tMaxRAMUsage_Experience/eval_phase/train_stream/Task000/Exp003 = 180.6250\n",
      "\tTop1_Acc_Exp/eval_phase/train_stream/Task000/Exp003 = 0.7546\n",
      "-- Starting eval on experience 4 (Task 0) from train stream --\n",
      "100%|██████████| 469/469 [00:03<00:00, 130.12it/s]\n",
      "> Eval on experience 4 (Task 0) from train stream ended.\n",
      "\tCPUUsage_Exp/eval_phase/train_stream/Task000/Exp004 = 105.9219\n",
      "\tExperienceBWT/eval_phase/train_stream/Task000/Exp004 = -0.0631\n",
      "\tExperienceForgetting/eval_phase/train_stream/Task000/Exp004 = 0.0631\n",
      "\tMaxRAMUsage_Experience/eval_phase/train_stream/Task000/Exp004 = 182.9219\n",
      "\tTop1_Acc_Exp/eval_phase/train_stream/Task000/Exp004 = 0.7552\n",
      "-- Starting eval on experience 5 (Task 0) from train stream --\n",
      "100%|██████████| 469/469 [00:03<00:00, 131.89it/s]\n",
      "> Eval on experience 5 (Task 0) from train stream ended.\n",
      "\tCPUUsage_Exp/eval_phase/train_stream/Task000/Exp005 = 106.6960\n",
      "\tExperienceBWT/eval_phase/train_stream/Task000/Exp005 = -0.0351\n",
      "\tExperienceForgetting/eval_phase/train_stream/Task000/Exp005 = 0.0351\n",
      "\tMaxRAMUsage_Experience/eval_phase/train_stream/Task000/Exp005 = 183.0625\n",
      "\tTop1_Acc_Exp/eval_phase/train_stream/Task000/Exp005 = 0.7960\n",
      "-- Starting eval on experience 6 (Task 0) from train stream --\n",
      "100%|██████████| 469/469 [00:03<00:00, 132.54it/s]\n",
      "> Eval on experience 6 (Task 0) from train stream ended.\n",
      "\tCPUUsage_Exp/eval_phase/train_stream/Task000/Exp006 = 106.5674\n",
      "\tExperienceBWT/eval_phase/train_stream/Task000/Exp006 = -0.0276\n",
      "\tExperienceForgetting/eval_phase/train_stream/Task000/Exp006 = 0.0276\n",
      "\tMaxRAMUsage_Experience/eval_phase/train_stream/Task000/Exp006 = 185.2656\n",
      "\tTop1_Acc_Exp/eval_phase/train_stream/Task000/Exp006 = 0.8008\n",
      "-- Starting eval on experience 7 (Task 0) from train stream --\n",
      "100%|██████████| 469/469 [00:03<00:00, 129.86it/s]\n",
      "> Eval on experience 7 (Task 0) from train stream ended.\n",
      "\tCPUUsage_Exp/eval_phase/train_stream/Task000/Exp007 = 106.2660\n",
      "\tMaxRAMUsage_Experience/eval_phase/train_stream/Task000/Exp007 = 185.9844\n",
      "\tTop1_Acc_Exp/eval_phase/train_stream/Task000/Exp007 = 0.8302\n",
      "-- Starting eval on experience 8 (Task 0) from train stream --\n",
      "100%|██████████| 469/469 [00:03<00:00, 133.22it/s]\n",
      "> Eval on experience 8 (Task 0) from train stream ended.\n",
      "\tCPUUsage_Exp/eval_phase/train_stream/Task000/Exp008 = 106.1573\n",
      "\tMaxRAMUsage_Experience/eval_phase/train_stream/Task000/Exp008 = 188.3438\n",
      "\tTop1_Acc_Exp/eval_phase/train_stream/Task000/Exp008 = 0.0898\n",
      "-- Starting eval on experience 9 (Task 0) from train stream --\n",
      "100%|██████████| 469/469 [00:03<00:00, 129.32it/s]\n",
      "> Eval on experience 9 (Task 0) from train stream ended.\n",
      "\tCPUUsage_Exp/eval_phase/train_stream/Task000/Exp009 = 105.2830\n",
      "\tMaxRAMUsage_Experience/eval_phase/train_stream/Task000/Exp009 = 188.6875\n",
      "\tTop1_Acc_Exp/eval_phase/train_stream/Task000/Exp009 = 0.1240\n",
      "-- >> End of eval phase << --\n",
      "\tAccuracy_On_Trained_Experiences/eval_phase/train_stream/Task000 = 0.7248\n",
      "\tCPUUsage_Stream/eval_phase/train_stream/Task000 = 106.3427\n",
      "\tMaxRAMUsage_Stream/eval_phase/train_stream/Task000 = 188.6875\n",
      "\tStreamBWT/eval_phase/train_stream = -0.0880\n",
      "\tStreamForgetting/eval_phase/train_stream = 0.0880\n",
      "\tTop1_Acc_Stream/eval_phase/train_stream/Task000 = 0.6013\n",
      "-- >> Start of eval phase << --\n",
      "-- Starting eval on experience 0 (Task 0) from test stream --\n",
      "100%|██████████| 79/79 [00:00<00:00, 127.24it/s]\n",
      "> Eval on experience 0 (Task 0) from test stream ended.\n",
      "\tCPUUsage_Exp/eval_phase/test_stream/Task000/Exp000 = 107.7122\n",
      "\tExperienceBWT/eval_phase/test_stream/Task000/Exp000 = -0.2528\n",
      "\tExperienceForgetting/eval_phase/test_stream/Task000/Exp000 = 0.2528\n",
      "\tMaxRAMUsage_Experience/eval_phase/test_stream/Task000/Exp000 = 0\n",
      "\tTop1_Acc_Exp/eval_phase/test_stream/Task000/Exp000 = 0.4871\n",
      "-- Starting eval on experience 1 (Task 0) from test stream --\n",
      "100%|██████████| 79/79 [00:00<00:00, 118.65it/s]\n",
      "> Eval on experience 1 (Task 0) from test stream ended.\n",
      "\tCPUUsage_Exp/eval_phase/test_stream/Task000/Exp001 = 101.6694\n",
      "\tExperienceBWT/eval_phase/test_stream/Task000/Exp001 = -0.0740\n",
      "\tExperienceForgetting/eval_phase/test_stream/Task000/Exp001 = 0.0740\n",
      "\tMaxRAMUsage_Experience/eval_phase/test_stream/Task000/Exp001 = 186.0781\n",
      "\tTop1_Acc_Exp/eval_phase/test_stream/Task000/Exp001 = 0.6969\n",
      "-- Starting eval on experience 2 (Task 0) from test stream --\n",
      "100%|██████████| 79/79 [00:00<00:00, 132.41it/s]\n",
      "> Eval on experience 2 (Task 0) from test stream ended.\n",
      "\tCPUUsage_Exp/eval_phase/test_stream/Task000/Exp002 = 107.7332\n",
      "\tExperienceBWT/eval_phase/test_stream/Task000/Exp002 = -0.0982\n",
      "\tExperienceForgetting/eval_phase/test_stream/Task000/Exp002 = 0.0982\n",
      "\tMaxRAMUsage_Experience/eval_phase/test_stream/Task000/Exp002 = 0\n",
      "\tTop1_Acc_Exp/eval_phase/test_stream/Task000/Exp002 = 0.6883\n",
      "-- Starting eval on experience 3 (Task 0) from test stream --\n",
      "100%|██████████| 79/79 [00:00<00:00, 126.80it/s]\n",
      "> Eval on experience 3 (Task 0) from test stream ended.\n",
      "\tCPUUsage_Exp/eval_phase/test_stream/Task000/Exp003 = 104.9862\n",
      "\tExperienceBWT/eval_phase/test_stream/Task000/Exp003 = -0.0546\n",
      "\tExperienceForgetting/eval_phase/test_stream/Task000/Exp003 = 0.0546\n",
      "\tMaxRAMUsage_Experience/eval_phase/test_stream/Task000/Exp003 = 177.2656\n",
      "\tTop1_Acc_Exp/eval_phase/test_stream/Task000/Exp003 = 0.7550\n",
      "-- Starting eval on experience 4 (Task 0) from test stream --\n",
      "100%|██████████| 79/79 [00:00<00:00, 135.33it/s]\n",
      "> Eval on experience 4 (Task 0) from test stream ended.\n",
      "\tCPUUsage_Exp/eval_phase/test_stream/Task000/Exp004 = 107.5006\n",
      "\tExperienceBWT/eval_phase/test_stream/Task000/Exp004 = -0.0613\n",
      "\tExperienceForgetting/eval_phase/test_stream/Task000/Exp004 = 0.0613\n",
      "\tMaxRAMUsage_Experience/eval_phase/test_stream/Task000/Exp004 = 177.7500\n",
      "\tTop1_Acc_Exp/eval_phase/test_stream/Task000/Exp004 = 0.7570\n",
      "-- Starting eval on experience 5 (Task 0) from test stream --\n",
      "100%|██████████| 79/79 [00:00<00:00, 130.38it/s]\n",
      "> Eval on experience 5 (Task 0) from test stream ended.\n",
      "\tCPUUsage_Exp/eval_phase/test_stream/Task000/Exp005 = 105.7876\n",
      "\tExperienceBWT/eval_phase/test_stream/Task000/Exp005 = -0.0323\n",
      "\tExperienceForgetting/eval_phase/test_stream/Task000/Exp005 = 0.0323\n",
      "\tMaxRAMUsage_Experience/eval_phase/test_stream/Task000/Exp005 = 0\n",
      "\tTop1_Acc_Exp/eval_phase/test_stream/Task000/Exp005 = 0.7988\n",
      "-- Starting eval on experience 6 (Task 0) from test stream --\n",
      "100%|██████████| 79/79 [00:00<00:00, 133.10it/s]\n",
      "> Eval on experience 6 (Task 0) from test stream ended.\n",
      "\tCPUUsage_Exp/eval_phase/test_stream/Task000/Exp006 = 107.5916\n",
      "\tExperienceBWT/eval_phase/test_stream/Task000/Exp006 = -0.0265\n",
      "\tExperienceForgetting/eval_phase/test_stream/Task000/Exp006 = 0.0265\n",
      "\tMaxRAMUsage_Experience/eval_phase/test_stream/Task000/Exp006 = 178.5469\n",
      "\tTop1_Acc_Exp/eval_phase/test_stream/Task000/Exp006 = 0.8019\n",
      "-- Starting eval on experience 7 (Task 0) from test stream --\n",
      "100%|██████████| 79/79 [00:00<00:00, 128.27it/s]\n",
      "> Eval on experience 7 (Task 0) from test stream ended.\n",
      "\tCPUUsage_Exp/eval_phase/test_stream/Task000/Exp007 = 105.5771\n",
      "\tMaxRAMUsage_Experience/eval_phase/test_stream/Task000/Exp007 = 0\n",
      "\tTop1_Acc_Exp/eval_phase/test_stream/Task000/Exp007 = 0.8351\n",
      "-- Starting eval on experience 8 (Task 0) from test stream --\n",
      "100%|██████████| 79/79 [00:00<00:00, 134.40it/s]\n",
      "> Eval on experience 8 (Task 0) from test stream ended.\n",
      "\tCPUUsage_Exp/eval_phase/test_stream/Task000/Exp008 = 106.6710\n",
      "\tMaxRAMUsage_Experience/eval_phase/test_stream/Task000/Exp008 = 179.7500\n",
      "\tTop1_Acc_Exp/eval_phase/test_stream/Task000/Exp008 = 0.0895\n",
      "-- Starting eval on experience 9 (Task 0) from test stream --\n",
      "100%|██████████| 79/79 [00:00<00:00, 123.82it/s]\n",
      "> Eval on experience 9 (Task 0) from test stream ended.\n",
      "\tCPUUsage_Exp/eval_phase/test_stream/Task000/Exp009 = 105.6500\n",
      "\tMaxRAMUsage_Experience/eval_phase/test_stream/Task000/Exp009 = 180.2031\n",
      "\tTop1_Acc_Exp/eval_phase/test_stream/Task000/Exp009 = 0.1286\n"
     ]
    },
    {
     "name": "stderr",
     "output_type": "stream",
     "text": [
      " 80%|████████  | 8/10 [09:17<02:19, 69.54s/it]"
     ]
    },
    {
     "name": "stdout",
     "output_type": "stream",
     "text": [
      "-- >> End of eval phase << --\n",
      "\tAccuracy_On_Trained_Experiences/eval_phase/test_stream/Task000 = 0.7275\n",
      "\tCPUUsage_Stream/eval_phase/test_stream/Task000 = 106.0035\n",
      "\tMaxRAMUsage_Stream/eval_phase/test_stream/Task000 = 188.6875\n",
      "\tStreamBWT/eval_phase/test_stream = -0.0857\n",
      "\tStreamForgetting/eval_phase/test_stream = 0.0857\n",
      "\tTop1_Acc_Stream/eval_phase/test_stream/Task000 = 0.6038\n",
      "-- >> Start of training phase << --\n",
      "100%|██████████| 469/469 [00:04<00:00, 95.38it/s] \n",
      "Epoch 0 ended.\n",
      "\tRunningTime_Epoch/train_phase/train_stream/Task000 = 0.0000\n",
      "\tTime_Epoch/train_phase/train_stream/Task000 = 4.9182\n",
      "100%|██████████| 469/469 [00:04<00:00, 97.05it/s]\n",
      "Epoch 1 ended.\n",
      "\tRunningTime_Epoch/train_phase/train_stream/Task000 = 0.0000\n",
      "\tTime_Epoch/train_phase/train_stream/Task000 = 4.8327\n",
      "100%|██████████| 469/469 [00:04<00:00, 97.88it/s] \n",
      "Epoch 2 ended.\n",
      "\tRunningTime_Epoch/train_phase/train_stream/Task000 = 0.0000\n",
      "\tTime_Epoch/train_phase/train_stream/Task000 = 4.7920\n",
      "100%|██████████| 469/469 [00:04<00:00, 98.94it/s] \n",
      "Epoch 3 ended.\n",
      "\tRunningTime_Epoch/train_phase/train_stream/Task000 = 0.0000\n",
      "\tTime_Epoch/train_phase/train_stream/Task000 = 4.7405\n",
      "100%|██████████| 469/469 [00:04<00:00, 97.89it/s]\n",
      "Epoch 4 ended.\n",
      "\tRunningTime_Epoch/train_phase/train_stream/Task000 = 0.0000\n",
      "\tTime_Epoch/train_phase/train_stream/Task000 = 4.7912\n",
      "-- >> End of training phase << --\n",
      "-- >> Start of eval phase << --\n",
      "-- Starting eval on experience 0 (Task 0) from train stream --\n",
      "100%|██████████| 469/469 [00:03<00:00, 132.18it/s]\n",
      "> Eval on experience 0 (Task 0) from train stream ended.\n",
      "\tCPUUsage_Exp/eval_phase/train_stream/Task000/Exp000 = 106.5926\n",
      "\tExperienceBWT/eval_phase/train_stream/Task000/Exp000 = -0.2661\n",
      "\tExperienceForgetting/eval_phase/train_stream/Task000/Exp000 = 0.2661\n",
      "\tMaxRAMUsage_Experience/eval_phase/train_stream/Task000/Exp000 = 172.0625\n",
      "\tTop1_Acc_Exp/eval_phase/train_stream/Task000/Exp000 = 0.4738\n",
      "-- Starting eval on experience 1 (Task 0) from train stream --\n",
      "100%|██████████| 469/469 [00:03<00:00, 132.01it/s]\n",
      "> Eval on experience 1 (Task 0) from train stream ended.\n",
      "\tCPUUsage_Exp/eval_phase/train_stream/Task000/Exp001 = 106.6123\n",
      "\tExperienceBWT/eval_phase/train_stream/Task000/Exp001 = -0.1178\n",
      "\tExperienceForgetting/eval_phase/train_stream/Task000/Exp001 = 0.1178\n",
      "\tMaxRAMUsage_Experience/eval_phase/train_stream/Task000/Exp001 = 174.4688\n",
      "\tTop1_Acc_Exp/eval_phase/train_stream/Task000/Exp001 = 0.6531\n",
      "-- Starting eval on experience 2 (Task 0) from train stream --\n",
      "100%|██████████| 469/469 [00:03<00:00, 131.74it/s]\n",
      "> Eval on experience 2 (Task 0) from train stream ended.\n",
      "\tCPUUsage_Exp/eval_phase/train_stream/Task000/Exp002 = 106.4797\n",
      "\tExperienceBWT/eval_phase/train_stream/Task000/Exp002 = -0.1328\n",
      "\tExperienceForgetting/eval_phase/train_stream/Task000/Exp002 = 0.1328\n",
      "\tMaxRAMUsage_Experience/eval_phase/train_stream/Task000/Exp002 = 176.7969\n",
      "\tTop1_Acc_Exp/eval_phase/train_stream/Task000/Exp002 = 0.6537\n",
      "-- Starting eval on experience 3 (Task 0) from train stream --\n",
      "100%|██████████| 469/469 [00:03<00:00, 132.02it/s]\n",
      "> Eval on experience 3 (Task 0) from train stream ended.\n",
      "\tCPUUsage_Exp/eval_phase/train_stream/Task000/Exp003 = 106.4412\n",
      "\tExperienceBWT/eval_phase/train_stream/Task000/Exp003 = -0.0832\n",
      "\tExperienceForgetting/eval_phase/train_stream/Task000/Exp003 = 0.0832\n",
      "\tMaxRAMUsage_Experience/eval_phase/train_stream/Task000/Exp003 = 192.9531\n",
      "\tTop1_Acc_Exp/eval_phase/train_stream/Task000/Exp003 = 0.7264\n",
      "-- Starting eval on experience 4 (Task 0) from train stream --\n",
      "100%|██████████| 469/469 [00:03<00:00, 131.41it/s]\n",
      "> Eval on experience 4 (Task 0) from train stream ended.\n",
      "\tCPUUsage_Exp/eval_phase/train_stream/Task000/Exp004 = 106.3207\n",
      "\tExperienceBWT/eval_phase/train_stream/Task000/Exp004 = -0.0659\n",
      "\tExperienceForgetting/eval_phase/train_stream/Task000/Exp004 = 0.0659\n",
      "\tMaxRAMUsage_Experience/eval_phase/train_stream/Task000/Exp004 = 195.2812\n",
      "\tTop1_Acc_Exp/eval_phase/train_stream/Task000/Exp004 = 0.7524\n",
      "-- Starting eval on experience 5 (Task 0) from train stream --\n",
      "100%|██████████| 469/469 [00:03<00:00, 131.54it/s]\n",
      "> Eval on experience 5 (Task 0) from train stream ended.\n",
      "\tCPUUsage_Exp/eval_phase/train_stream/Task000/Exp005 = 106.4558\n",
      "\tExperienceBWT/eval_phase/train_stream/Task000/Exp005 = -0.0823\n",
      "\tExperienceForgetting/eval_phase/train_stream/Task000/Exp005 = 0.0823\n",
      "\tMaxRAMUsage_Experience/eval_phase/train_stream/Task000/Exp005 = 195.4844\n",
      "\tTop1_Acc_Exp/eval_phase/train_stream/Task000/Exp005 = 0.7488\n",
      "-- Starting eval on experience 6 (Task 0) from train stream --\n",
      "100%|██████████| 469/469 [00:03<00:00, 131.46it/s]\n",
      "> Eval on experience 6 (Task 0) from train stream ended.\n",
      "\tCPUUsage_Exp/eval_phase/train_stream/Task000/Exp006 = 106.3811\n",
      "\tExperienceBWT/eval_phase/train_stream/Task000/Exp006 = -0.0250\n",
      "\tExperienceForgetting/eval_phase/train_stream/Task000/Exp006 = 0.0250\n",
      "\tMaxRAMUsage_Experience/eval_phase/train_stream/Task000/Exp006 = 181.6875\n",
      "\tTop1_Acc_Exp/eval_phase/train_stream/Task000/Exp006 = 0.8034\n",
      "-- Starting eval on experience 7 (Task 0) from train stream --\n",
      "100%|██████████| 469/469 [00:03<00:00, 128.10it/s]\n",
      "> Eval on experience 7 (Task 0) from train stream ended.\n",
      "\tCPUUsage_Exp/eval_phase/train_stream/Task000/Exp007 = 105.8233\n",
      "\tExperienceBWT/eval_phase/train_stream/Task000/Exp007 = -0.0272\n",
      "\tExperienceForgetting/eval_phase/train_stream/Task000/Exp007 = 0.0272\n",
      "\tMaxRAMUsage_Experience/eval_phase/train_stream/Task000/Exp007 = 181.6094\n",
      "\tTop1_Acc_Exp/eval_phase/train_stream/Task000/Exp007 = 0.8079\n",
      "-- Starting eval on experience 8 (Task 0) from train stream --\n",
      "100%|██████████| 469/469 [00:03<00:00, 129.13it/s]\n",
      "> Eval on experience 8 (Task 0) from train stream ended.\n",
      "\tCPUUsage_Exp/eval_phase/train_stream/Task000/Exp008 = 106.0284\n",
      "\tMaxRAMUsage_Experience/eval_phase/train_stream/Task000/Exp008 = 164.5156\n",
      "\tTop1_Acc_Exp/eval_phase/train_stream/Task000/Exp008 = 0.8418\n",
      "-- Starting eval on experience 9 (Task 0) from train stream --\n",
      "100%|██████████| 469/469 [00:03<00:00, 132.05it/s]\n",
      "> Eval on experience 9 (Task 0) from train stream ended.\n",
      "\tCPUUsage_Exp/eval_phase/train_stream/Task000/Exp009 = 105.5649\n",
      "\tMaxRAMUsage_Experience/eval_phase/train_stream/Task000/Exp009 = 163.0312\n",
      "\tTop1_Acc_Exp/eval_phase/train_stream/Task000/Exp009 = 0.1353\n",
      "-- >> End of eval phase << --\n",
      "\tAccuracy_On_Trained_Experiences/eval_phase/train_stream/Task000 = 0.7179\n",
      "\tCPUUsage_Stream/eval_phase/train_stream/Task000 = 106.2560\n",
      "\tMaxRAMUsage_Stream/eval_phase/train_stream/Task000 = 195.4844\n",
      "\tStreamBWT/eval_phase/train_stream = -0.1000\n",
      "\tStreamForgetting/eval_phase/train_stream = 0.1000\n",
      "\tTop1_Acc_Stream/eval_phase/train_stream/Task000 = 0.6597\n",
      "-- >> Start of eval phase << --\n",
      "-- Starting eval on experience 0 (Task 0) from test stream --\n",
      "100%|██████████| 79/79 [00:00<00:00, 124.88it/s]\n",
      "> Eval on experience 0 (Task 0) from test stream ended.\n",
      "\tCPUUsage_Exp/eval_phase/test_stream/Task000/Exp000 = 105.2181\n",
      "\tExperienceBWT/eval_phase/test_stream/Task000/Exp000 = -0.2673\n",
      "\tExperienceForgetting/eval_phase/test_stream/Task000/Exp000 = 0.2673\n",
      "\tMaxRAMUsage_Experience/eval_phase/test_stream/Task000/Exp000 = 0\n",
      "\tTop1_Acc_Exp/eval_phase/test_stream/Task000/Exp000 = 0.4726\n",
      "-- Starting eval on experience 1 (Task 0) from test stream --\n",
      "100%|██████████| 79/79 [00:00<00:00, 135.93it/s]\n",
      "> Eval on experience 1 (Task 0) from test stream ended.\n",
      "\tCPUUsage_Exp/eval_phase/test_stream/Task000/Exp001 = 107.4016\n",
      "\tExperienceBWT/eval_phase/test_stream/Task000/Exp001 = -0.1051\n",
      "\tExperienceForgetting/eval_phase/test_stream/Task000/Exp001 = 0.1051\n",
      "\tMaxRAMUsage_Experience/eval_phase/test_stream/Task000/Exp001 = 172.2969\n",
      "\tTop1_Acc_Exp/eval_phase/test_stream/Task000/Exp001 = 0.6658\n",
      "-- Starting eval on experience 2 (Task 0) from test stream --\n",
      "100%|██████████| 79/79 [00:00<00:00, 130.99it/s]\n",
      "> Eval on experience 2 (Task 0) from test stream ended.\n",
      "\tCPUUsage_Exp/eval_phase/test_stream/Task000/Exp002 = 105.2242\n",
      "\tExperienceBWT/eval_phase/test_stream/Task000/Exp002 = -0.1338\n",
      "\tExperienceForgetting/eval_phase/test_stream/Task000/Exp002 = 0.1338\n",
      "\tMaxRAMUsage_Experience/eval_phase/test_stream/Task000/Exp002 = 0\n",
      "\tTop1_Acc_Exp/eval_phase/test_stream/Task000/Exp002 = 0.6527\n",
      "-- Starting eval on experience 3 (Task 0) from test stream --\n",
      "100%|██████████| 79/79 [00:00<00:00, 133.51it/s]\n",
      "> Eval on experience 3 (Task 0) from test stream ended.\n",
      "\tCPUUsage_Exp/eval_phase/test_stream/Task000/Exp003 = 107.3124\n",
      "\tExperienceBWT/eval_phase/test_stream/Task000/Exp003 = -0.0768\n",
      "\tExperienceForgetting/eval_phase/test_stream/Task000/Exp003 = 0.0768\n",
      "\tMaxRAMUsage_Experience/eval_phase/test_stream/Task000/Exp003 = 173.1719\n",
      "\tTop1_Acc_Exp/eval_phase/test_stream/Task000/Exp003 = 0.7328\n",
      "-- Starting eval on experience 4 (Task 0) from test stream --\n",
      "100%|██████████| 79/79 [00:00<00:00, 129.29it/s]\n",
      "> Eval on experience 4 (Task 0) from test stream ended.\n",
      "\tCPUUsage_Exp/eval_phase/test_stream/Task000/Exp004 = 105.1243\n",
      "\tExperienceBWT/eval_phase/test_stream/Task000/Exp004 = -0.0666\n",
      "\tExperienceForgetting/eval_phase/test_stream/Task000/Exp004 = 0.0666\n",
      "\tMaxRAMUsage_Experience/eval_phase/test_stream/Task000/Exp004 = 173.8125\n",
      "\tTop1_Acc_Exp/eval_phase/test_stream/Task000/Exp004 = 0.7517\n",
      "-- Starting eval on experience 5 (Task 0) from test stream --\n",
      "100%|██████████| 79/79 [00:00<00:00, 133.79it/s]\n",
      "> Eval on experience 5 (Task 0) from test stream ended.\n",
      "\tCPUUsage_Exp/eval_phase/test_stream/Task000/Exp005 = 107.2450\n",
      "\tExperienceBWT/eval_phase/test_stream/Task000/Exp005 = -0.0799\n",
      "\tExperienceForgetting/eval_phase/test_stream/Task000/Exp005 = 0.0799\n",
      "\tMaxRAMUsage_Experience/eval_phase/test_stream/Task000/Exp005 = 0\n",
      "\tTop1_Acc_Exp/eval_phase/test_stream/Task000/Exp005 = 0.7512\n",
      "-- Starting eval on experience 6 (Task 0) from test stream --\n",
      "100%|██████████| 79/79 [00:00<00:00, 130.20it/s]\n",
      "> Eval on experience 6 (Task 0) from test stream ended.\n",
      "\tCPUUsage_Exp/eval_phase/test_stream/Task000/Exp006 = 105.5558\n",
      "\tExperienceBWT/eval_phase/test_stream/Task000/Exp006 = -0.0222\n",
      "\tExperienceForgetting/eval_phase/test_stream/Task000/Exp006 = 0.0222\n",
      "\tMaxRAMUsage_Experience/eval_phase/test_stream/Task000/Exp006 = 174.6094\n",
      "\tTop1_Acc_Exp/eval_phase/test_stream/Task000/Exp006 = 0.8062\n",
      "-- Starting eval on experience 7 (Task 0) from test stream --\n",
      "100%|██████████| 79/79 [00:00<00:00, 129.82it/s]\n",
      "> Eval on experience 7 (Task 0) from test stream ended.\n",
      "\tCPUUsage_Exp/eval_phase/test_stream/Task000/Exp007 = 105.6554\n",
      "\tExperienceBWT/eval_phase/test_stream/Task000/Exp007 = -0.0211\n",
      "\tExperienceForgetting/eval_phase/test_stream/Task000/Exp007 = 0.0211\n",
      "\tMaxRAMUsage_Experience/eval_phase/test_stream/Task000/Exp007 = 0\n",
      "\tTop1_Acc_Exp/eval_phase/test_stream/Task000/Exp007 = 0.8140\n",
      "-- Starting eval on experience 8 (Task 0) from test stream --\n",
      "100%|██████████| 79/79 [00:00<00:00, 134.40it/s]\n",
      "> Eval on experience 8 (Task 0) from test stream ended.\n",
      "\tCPUUsage_Exp/eval_phase/test_stream/Task000/Exp008 = 106.6643\n",
      "\tMaxRAMUsage_Experience/eval_phase/test_stream/Task000/Exp008 = 176.2188\n",
      "\tTop1_Acc_Exp/eval_phase/test_stream/Task000/Exp008 = 0.8445\n",
      "-- Starting eval on experience 9 (Task 0) from test stream --\n",
      "100%|██████████| 79/79 [00:00<00:00, 131.06it/s]\n",
      "> Eval on experience 9 (Task 0) from test stream ended.\n",
      "\tCPUUsage_Exp/eval_phase/test_stream/Task000/Exp009 = 104.8976\n",
      "\tMaxRAMUsage_Experience/eval_phase/test_stream/Task000/Exp009 = 176.7344\n",
      "\tTop1_Acc_Exp/eval_phase/test_stream/Task000/Exp009 = 0.1380\n"
     ]
    },
    {
     "name": "stderr",
     "output_type": "stream",
     "text": [
      " 90%|█████████ | 9/10 [10:24<01:08, 68.78s/it]"
     ]
    },
    {
     "name": "stdout",
     "output_type": "stream",
     "text": [
      "-- >> End of eval phase << --\n",
      "\tAccuracy_On_Trained_Experiences/eval_phase/test_stream/Task000 = 0.7213\n",
      "\tCPUUsage_Stream/eval_phase/test_stream/Task000 = 105.9902\n",
      "\tMaxRAMUsage_Stream/eval_phase/test_stream/Task000 = 176.7344\n",
      "\tStreamBWT/eval_phase/test_stream = -0.0966\n",
      "\tStreamForgetting/eval_phase/test_stream = 0.0966\n",
      "\tTop1_Acc_Stream/eval_phase/test_stream/Task000 = 0.6630\n",
      "-- >> Start of training phase << --\n",
      "100%|██████████| 469/469 [00:04<00:00, 99.26it/s] \n",
      "Epoch 0 ended.\n",
      "\tRunningTime_Epoch/train_phase/train_stream/Task000 = 0.0000\n",
      "\tTime_Epoch/train_phase/train_stream/Task000 = 4.7257\n",
      "100%|██████████| 469/469 [00:04<00:00, 99.67it/s] \n",
      "Epoch 1 ended.\n",
      "\tRunningTime_Epoch/train_phase/train_stream/Task000 = 0.0000\n",
      "\tTime_Epoch/train_phase/train_stream/Task000 = 4.7057\n",
      "100%|██████████| 469/469 [00:04<00:00, 98.97it/s] \n",
      "Epoch 2 ended.\n",
      "\tRunningTime_Epoch/train_phase/train_stream/Task000 = 0.0000\n",
      "\tTime_Epoch/train_phase/train_stream/Task000 = 4.7391\n",
      "100%|██████████| 469/469 [00:04<00:00, 98.78it/s] \n",
      "Epoch 3 ended.\n",
      "\tRunningTime_Epoch/train_phase/train_stream/Task000 = 0.0000\n",
      "\tTime_Epoch/train_phase/train_stream/Task000 = 4.7479\n",
      "100%|██████████| 469/469 [00:04<00:00, 98.94it/s] \n",
      "Epoch 4 ended.\n",
      "\tRunningTime_Epoch/train_phase/train_stream/Task000 = 0.0000\n",
      "\tTime_Epoch/train_phase/train_stream/Task000 = 4.7404\n",
      "-- >> End of training phase << --\n",
      "-- >> Start of eval phase << --\n",
      "-- Starting eval on experience 0 (Task 0) from train stream --\n",
      "100%|██████████| 469/469 [00:03<00:00, 134.27it/s]\n",
      "> Eval on experience 0 (Task 0) from train stream ended.\n",
      "\tCPUUsage_Exp/eval_phase/train_stream/Task000/Exp000 = 106.8588\n",
      "\tExperienceBWT/eval_phase/train_stream/Task000/Exp000 = -0.2825\n",
      "\tExperienceForgetting/eval_phase/train_stream/Task000/Exp000 = 0.2825\n",
      "\tMaxRAMUsage_Experience/eval_phase/train_stream/Task000/Exp000 = 204.2656\n",
      "\tTop1_Acc_Exp/eval_phase/train_stream/Task000/Exp000 = 0.4574\n",
      "-- Starting eval on experience 1 (Task 0) from train stream --\n",
      "100%|██████████| 469/469 [00:03<00:00, 133.35it/s]\n",
      "> Eval on experience 1 (Task 0) from train stream ended.\n",
      "\tCPUUsage_Exp/eval_phase/train_stream/Task000/Exp001 = 106.5368\n",
      "\tExperienceBWT/eval_phase/train_stream/Task000/Exp001 = -0.1514\n",
      "\tExperienceForgetting/eval_phase/train_stream/Task000/Exp001 = 0.1514\n",
      "\tMaxRAMUsage_Experience/eval_phase/train_stream/Task000/Exp001 = 204.2656\n",
      "\tTop1_Acc_Exp/eval_phase/train_stream/Task000/Exp001 = 0.6195\n",
      "-- Starting eval on experience 2 (Task 0) from train stream --\n",
      "100%|██████████| 469/469 [00:03<00:00, 133.52it/s]\n",
      "> Eval on experience 2 (Task 0) from train stream ended.\n",
      "\tCPUUsage_Exp/eval_phase/train_stream/Task000/Exp002 = 106.4788\n",
      "\tExperienceBWT/eval_phase/train_stream/Task000/Exp002 = -0.1476\n",
      "\tExperienceForgetting/eval_phase/train_stream/Task000/Exp002 = 0.1476\n",
      "\tMaxRAMUsage_Experience/eval_phase/train_stream/Task000/Exp002 = 204.2812\n",
      "\tTop1_Acc_Exp/eval_phase/train_stream/Task000/Exp002 = 0.6389\n",
      "-- Starting eval on experience 3 (Task 0) from train stream --\n",
      "100%|██████████| 469/469 [00:03<00:00, 133.02it/s]\n",
      "> Eval on experience 3 (Task 0) from train stream ended.\n",
      "\tCPUUsage_Exp/eval_phase/train_stream/Task000/Exp003 = 106.3780\n",
      "\tExperienceBWT/eval_phase/train_stream/Task000/Exp003 = -0.0995\n",
      "\tExperienceForgetting/eval_phase/train_stream/Task000/Exp003 = 0.0995\n",
      "\tMaxRAMUsage_Experience/eval_phase/train_stream/Task000/Exp003 = 204.2812\n",
      "\tTop1_Acc_Exp/eval_phase/train_stream/Task000/Exp003 = 0.7101\n",
      "-- Starting eval on experience 4 (Task 0) from train stream --\n",
      "100%|██████████| 469/469 [00:03<00:00, 133.32it/s]\n",
      "> Eval on experience 4 (Task 0) from train stream ended.\n",
      "\tCPUUsage_Exp/eval_phase/train_stream/Task000/Exp004 = 106.5240\n",
      "\tExperienceBWT/eval_phase/train_stream/Task000/Exp004 = -0.0983\n",
      "\tExperienceForgetting/eval_phase/train_stream/Task000/Exp004 = 0.0983\n",
      "\tMaxRAMUsage_Experience/eval_phase/train_stream/Task000/Exp004 = 204.2969\n",
      "\tTop1_Acc_Exp/eval_phase/train_stream/Task000/Exp004 = 0.7200\n",
      "-- Starting eval on experience 5 (Task 0) from train stream --\n",
      "100%|██████████| 469/469 [00:03<00:00, 133.38it/s]\n",
      "> Eval on experience 5 (Task 0) from train stream ended.\n",
      "\tCPUUsage_Exp/eval_phase/train_stream/Task000/Exp005 = 106.3054\n",
      "\tExperienceBWT/eval_phase/train_stream/Task000/Exp005 = -0.1149\n",
      "\tExperienceForgetting/eval_phase/train_stream/Task000/Exp005 = 0.1149\n",
      "\tMaxRAMUsage_Experience/eval_phase/train_stream/Task000/Exp005 = 204.3438\n",
      "\tTop1_Acc_Exp/eval_phase/train_stream/Task000/Exp005 = 0.7162\n",
      "-- Starting eval on experience 6 (Task 0) from train stream --\n",
      "100%|██████████| 469/469 [00:03<00:00, 130.99it/s]\n",
      "> Eval on experience 6 (Task 0) from train stream ended.\n",
      "\tCPUUsage_Exp/eval_phase/train_stream/Task000/Exp006 = 106.2459\n",
      "\tExperienceBWT/eval_phase/train_stream/Task000/Exp006 = -0.0368\n",
      "\tExperienceForgetting/eval_phase/train_stream/Task000/Exp006 = 0.0368\n",
      "\tMaxRAMUsage_Experience/eval_phase/train_stream/Task000/Exp006 = 204.2812\n",
      "\tTop1_Acc_Exp/eval_phase/train_stream/Task000/Exp006 = 0.7916\n",
      "-- Starting eval on experience 7 (Task 0) from train stream --\n",
      "100%|██████████| 469/469 [00:03<00:00, 133.26it/s]\n",
      "> Eval on experience 7 (Task 0) from train stream ended.\n",
      "\tCPUUsage_Exp/eval_phase/train_stream/Task000/Exp007 = 106.3980\n",
      "\tExperienceBWT/eval_phase/train_stream/Task000/Exp007 = -0.0393\n",
      "\tExperienceForgetting/eval_phase/train_stream/Task000/Exp007 = 0.0393\n",
      "\tMaxRAMUsage_Experience/eval_phase/train_stream/Task000/Exp007 = 191.3906\n",
      "\tTop1_Acc_Exp/eval_phase/train_stream/Task000/Exp007 = 0.7957\n",
      "-- Starting eval on experience 8 (Task 0) from train stream --\n",
      "100%|██████████| 469/469 [00:03<00:00, 132.83it/s]\n",
      "> Eval on experience 8 (Task 0) from train stream ended.\n",
      "\tCPUUsage_Exp/eval_phase/train_stream/Task000/Exp008 = 105.9631\n",
      "\tExperienceBWT/eval_phase/train_stream/Task000/Exp008 = -0.0203\n",
      "\tExperienceForgetting/eval_phase/train_stream/Task000/Exp008 = 0.0203\n",
      "\tMaxRAMUsage_Experience/eval_phase/train_stream/Task000/Exp008 = 191.3906\n",
      "\tTop1_Acc_Exp/eval_phase/train_stream/Task000/Exp008 = 0.8242\n",
      "-- Starting eval on experience 9 (Task 0) from train stream --\n",
      "100%|██████████| 469/469 [00:03<00:00, 133.67it/s]\n",
      "> Eval on experience 9 (Task 0) from train stream ended.\n",
      "\tCPUUsage_Exp/eval_phase/train_stream/Task000/Exp009 = 106.5023\n",
      "\tMaxRAMUsage_Experience/eval_phase/train_stream/Task000/Exp009 = 191.4219\n",
      "\tTop1_Acc_Exp/eval_phase/train_stream/Task000/Exp009 = 0.8403\n",
      "-- >> End of eval phase << --\n",
      "\tAccuracy_On_Trained_Experiences/eval_phase/train_stream/Task000 = 0.7114\n",
      "\tCPUUsage_Stream/eval_phase/train_stream/Task000 = 106.4065\n",
      "\tMaxRAMUsage_Stream/eval_phase/train_stream/Task000 = 204.3438\n",
      "\tStreamBWT/eval_phase/train_stream = -0.1101\n",
      "\tStreamForgetting/eval_phase/train_stream = 0.1101\n",
      "\tTop1_Acc_Stream/eval_phase/train_stream/Task000 = 0.7114\n",
      "-- >> Start of eval phase << --\n",
      "-- Starting eval on experience 0 (Task 0) from test stream --\n",
      "100%|██████████| 79/79 [00:00<00:00, 125.64it/s]\n",
      "> Eval on experience 0 (Task 0) from test stream ended.\n",
      "\tCPUUsage_Exp/eval_phase/test_stream/Task000/Exp000 = 106.1065\n",
      "\tExperienceBWT/eval_phase/test_stream/Task000/Exp000 = -0.2843\n",
      "\tExperienceForgetting/eval_phase/test_stream/Task000/Exp000 = 0.2843\n",
      "\tMaxRAMUsage_Experience/eval_phase/test_stream/Task000/Exp000 = 0\n",
      "\tTop1_Acc_Exp/eval_phase/test_stream/Task000/Exp000 = 0.4556\n",
      "-- Starting eval on experience 1 (Task 0) from test stream --\n",
      "100%|██████████| 79/79 [00:00<00:00, 135.81it/s]\n",
      "> Eval on experience 1 (Task 0) from test stream ended.\n",
      "\tCPUUsage_Exp/eval_phase/test_stream/Task000/Exp001 = 107.1839\n",
      "\tExperienceBWT/eval_phase/test_stream/Task000/Exp001 = -0.1369\n",
      "\tExperienceForgetting/eval_phase/test_stream/Task000/Exp001 = 0.1369\n",
      "\tMaxRAMUsage_Experience/eval_phase/test_stream/Task000/Exp001 = 191.4219\n",
      "\tTop1_Acc_Exp/eval_phase/test_stream/Task000/Exp001 = 0.6340\n",
      "-- Starting eval on experience 2 (Task 0) from test stream --\n",
      "100%|██████████| 79/79 [00:00<00:00, 130.89it/s]\n",
      "> Eval on experience 2 (Task 0) from test stream ended.\n",
      "\tCPUUsage_Exp/eval_phase/test_stream/Task000/Exp002 = 104.8414\n",
      "\tExperienceBWT/eval_phase/test_stream/Task000/Exp002 = -0.1472\n",
      "\tExperienceForgetting/eval_phase/test_stream/Task000/Exp002 = 0.1472\n",
      "\tMaxRAMUsage_Experience/eval_phase/test_stream/Task000/Exp002 = 0\n",
      "\tTop1_Acc_Exp/eval_phase/test_stream/Task000/Exp002 = 0.6393\n",
      "-- Starting eval on experience 3 (Task 0) from test stream --\n",
      "100%|██████████| 79/79 [00:00<00:00, 135.90it/s]\n",
      "> Eval on experience 3 (Task 0) from test stream ended.\n",
      "\tCPUUsage_Exp/eval_phase/test_stream/Task000/Exp003 = 107.2538\n",
      "\tExperienceBWT/eval_phase/test_stream/Task000/Exp003 = -0.0947\n",
      "\tExperienceForgetting/eval_phase/test_stream/Task000/Exp003 = 0.0947\n",
      "\tMaxRAMUsage_Experience/eval_phase/test_stream/Task000/Exp003 = 191.4219\n",
      "\tTop1_Acc_Exp/eval_phase/test_stream/Task000/Exp003 = 0.7149\n",
      "-- Starting eval on experience 4 (Task 0) from test stream --\n",
      "100%|██████████| 79/79 [00:00<00:00, 131.71it/s]\n",
      "> Eval on experience 4 (Task 0) from test stream ended.\n",
      "\tCPUUsage_Exp/eval_phase/test_stream/Task000/Exp004 = 105.6304\n",
      "\tExperienceBWT/eval_phase/test_stream/Task000/Exp004 = -0.0992\n",
      "\tExperienceForgetting/eval_phase/test_stream/Task000/Exp004 = 0.0992\n",
      "\tMaxRAMUsage_Experience/eval_phase/test_stream/Task000/Exp004 = 186.1719\n",
      "\tTop1_Acc_Exp/eval_phase/test_stream/Task000/Exp004 = 0.7191\n",
      "-- Starting eval on experience 5 (Task 0) from test stream --\n",
      "100%|██████████| 79/79 [00:00<00:00, 134.98it/s]\n",
      "> Eval on experience 5 (Task 0) from test stream ended.\n",
      "\tCPUUsage_Exp/eval_phase/test_stream/Task000/Exp005 = 106.7758\n",
      "\tExperienceBWT/eval_phase/test_stream/Task000/Exp005 = -0.1122\n",
      "\tExperienceForgetting/eval_phase/test_stream/Task000/Exp005 = 0.1122\n",
      "\tMaxRAMUsage_Experience/eval_phase/test_stream/Task000/Exp005 = 0\n",
      "\tTop1_Acc_Exp/eval_phase/test_stream/Task000/Exp005 = 0.7189\n",
      "-- Starting eval on experience 6 (Task 0) from test stream --\n",
      "100%|██████████| 79/79 [00:00<00:00, 131.39it/s]\n",
      "> Eval on experience 6 (Task 0) from test stream ended.\n",
      "\tCPUUsage_Exp/eval_phase/test_stream/Task000/Exp006 = 104.9466\n",
      "\tExperienceBWT/eval_phase/test_stream/Task000/Exp006 = -0.0295\n",
      "\tExperienceForgetting/eval_phase/test_stream/Task000/Exp006 = 0.0295\n",
      "\tMaxRAMUsage_Experience/eval_phase/test_stream/Task000/Exp006 = 186.6250\n",
      "\tTop1_Acc_Exp/eval_phase/test_stream/Task000/Exp006 = 0.7989\n",
      "-- Starting eval on experience 7 (Task 0) from test stream --\n",
      "100%|██████████| 79/79 [00:00<00:00, 136.64it/s]\n",
      "> Eval on experience 7 (Task 0) from test stream ended.\n",
      "\tCPUUsage_Exp/eval_phase/test_stream/Task000/Exp007 = 107.1484\n",
      "\tExperienceBWT/eval_phase/test_stream/Task000/Exp007 = -0.0329\n",
      "\tExperienceForgetting/eval_phase/test_stream/Task000/Exp007 = 0.0329\n",
      "\tMaxRAMUsage_Experience/eval_phase/test_stream/Task000/Exp007 = 0\n",
      "\tTop1_Acc_Exp/eval_phase/test_stream/Task000/Exp007 = 0.8022\n",
      "-- Starting eval on experience 8 (Task 0) from test stream --\n",
      "100%|██████████| 79/79 [00:00<00:00, 130.84it/s]\n",
      "> Eval on experience 8 (Task 0) from test stream ended.\n",
      "\tCPUUsage_Exp/eval_phase/test_stream/Task000/Exp008 = 105.4398\n",
      "\tExperienceBWT/eval_phase/test_stream/Task000/Exp008 = -0.0197\n",
      "\tExperienceForgetting/eval_phase/test_stream/Task000/Exp008 = 0.0197\n",
      "\tMaxRAMUsage_Experience/eval_phase/test_stream/Task000/Exp008 = 186.6250\n",
      "\tTop1_Acc_Exp/eval_phase/test_stream/Task000/Exp008 = 0.8248\n",
      "-- Starting eval on experience 9 (Task 0) from test stream --\n",
      "100%|██████████| 79/79 [00:00<00:00, 131.78it/s]\n",
      "> Eval on experience 9 (Task 0) from test stream ended.\n",
      "\tCPUUsage_Exp/eval_phase/test_stream/Task000/Exp009 = 105.4921\n",
      "\tMaxRAMUsage_Experience/eval_phase/test_stream/Task000/Exp009 = 0\n",
      "\tTop1_Acc_Exp/eval_phase/test_stream/Task000/Exp009 = 0.8413\n"
     ]
    },
    {
     "name": "stderr",
     "output_type": "stream",
     "text": [
      "100%|██████████| 10/10 [11:30<00:00, 69.06s/it]"
     ]
    },
    {
     "name": "stdout",
     "output_type": "stream",
     "text": [
      "-- >> End of eval phase << --\n",
      "\tAccuracy_On_Trained_Experiences/eval_phase/test_stream/Task000 = 0.7149\n",
      "\tCPUUsage_Stream/eval_phase/test_stream/Task000 = 106.0405\n",
      "\tMaxRAMUsage_Stream/eval_phase/test_stream/Task000 = 191.4219\n",
      "\tStreamBWT/eval_phase/test_stream = -0.1063\n",
      "\tStreamForgetting/eval_phase/test_stream = 0.1063\n",
      "\tTop1_Acc_Stream/eval_phase/test_stream/Task000 = 0.7149\n"
     ]
    },
    {
     "name": "stderr",
     "output_type": "stream",
     "text": [
      "\n"
     ]
    }
   ],
   "source": [
    "results = list()\n",
    "\n",
    "for experience in tqdm(train_stream):\n",
    "    strategy.train(experience)\n",
    "\n",
    "    # eval on the whole train stream\n",
    "    metrics = strategy.eval(train_stream)\n",
    "    results.append(metrics)\n",
    "\n",
    "    # eval on test\n",
    "    metrics = strategy.eval(test_stream)\n",
    "    results.append(metrics)"
   ]
  },
  {
   "cell_type": "markdown",
   "metadata": {},
   "source": [
    "# Get metrics"
   ]
  },
  {
   "cell_type": "markdown",
   "metadata": {},
   "source": [
    "## Training Accuracies"
   ]
  },
  {
   "cell_type": "code",
   "execution_count": 112,
   "metadata": {},
   "outputs": [],
   "source": [
    "training_accuracies: dict[int, list[float]] = dict()\n",
    "\n",
    "for i in range(10):\n",
    "    training_accuracies[f\"Task{i}\"] = eval_plugin.get_all_metrics()[\n",
    "        f\"Top1_Acc_Exp/eval_phase/train_stream/Task000/Exp00{i}\"\n",
    "    ][1]\n",
    "\n",
    "training_accuracies[\"Overall\"] = eval_plugin.get_all_metrics()[\n",
    "    \"Top1_Acc_Stream/eval_phase/train_stream/Task000\"\n",
    "][1]"
   ]
  },
  {
   "cell_type": "markdown",
   "metadata": {},
   "source": [
    "## Evaluation Accuracies"
   ]
  },
  {
   "cell_type": "code",
   "execution_count": 113,
   "metadata": {},
   "outputs": [],
   "source": [
    "accuracies: dict[int, list[float]] = dict()\n",
    "\n",
    "for i in range(10):\n",
    "    accuracies[f\"Task{i}\"] = eval_plugin.get_all_metrics()[\n",
    "        f\"Top1_Acc_Exp/eval_phase/test_stream/Task000/Exp00{i}\"\n",
    "    ][1]\n",
    "\n",
    "accuracies[\"Overall\"] = eval_plugin.get_all_metrics()[\n",
    "    \"Top1_Acc_Stream/eval_phase/test_stream/Task000\"\n",
    "][1]"
   ]
  },
  {
   "cell_type": "markdown",
   "metadata": {},
   "source": [
    "## Forgetting measure"
   ]
  },
  {
   "cell_type": "code",
   "execution_count": 114,
   "metadata": {},
   "outputs": [],
   "source": [
    "forgetting_measures: dict[int, list[float]] = dict()\n",
    "\n",
    "for i in range(9):\n",
    "    forgetting_measures[f\"Task{i}\"] = eval_plugin.get_all_metrics()[\n",
    "        f\"ExperienceForgetting/eval_phase/test_stream/Task000/Exp00{i}\"\n",
    "    ][1]\n",
    "forgetting_measures[\"Overall\"] = eval_plugin.get_all_metrics()[\n",
    "    \"StreamForgetting/eval_phase/test_stream\"\n",
    "][1]"
   ]
  },
  {
   "cell_type": "markdown",
   "metadata": {},
   "source": [
    "## Backward Transfer"
   ]
  },
  {
   "cell_type": "code",
   "execution_count": 115,
   "metadata": {},
   "outputs": [],
   "source": [
    "bwts: dict[int, list[float]] = dict()\n",
    "\n",
    "for i in range(9):\n",
    "    bwts[f\"Task{i}\"] = eval_plugin.get_all_metrics()[\n",
    "        f\"ExperienceBWT/eval_phase/test_stream/Task000/Exp00{i}\"\n",
    "    ][1]\n",
    "bwts[\"Overall\"] = eval_plugin.get_all_metrics()[\n",
    "    \"StreamBWT/eval_phase/test_stream\"\n",
    "][1]"
   ]
  },
  {
   "cell_type": "markdown",
   "metadata": {},
   "source": [
    "# Plotting metrics"
   ]
  },
  {
   "cell_type": "markdown",
   "metadata": {},
   "source": [
    "## Traning accuracies"
   ]
  },
  {
   "cell_type": "code",
   "execution_count": 119,
   "metadata": {},
   "outputs": [
    {
     "data": {
      "application/vnd.plotly.v1+json": {
       "config": {
        "plotlyServerURL": "https://plot.ly"
       },
       "data": [
        {
         "hovertemplate": "variable=Task0<br>index=%{x}<br>value=%{y}<extra></extra>",
         "legendgroup": "Task0",
         "line": {
          "color": "#636efa",
          "dash": "solid"
         },
         "marker": {
          "symbol": "circle"
         },
         "mode": "lines",
         "name": "Task0",
         "orientation": "v",
         "showlegend": true,
         "type": "scatter",
         "x": [
          0,
          1,
          2,
          3,
          4,
          5,
          6,
          7,
          8,
          9
         ],
         "xaxis": "x",
         "y": [
          0.7354,
          0.708,
          0.6094666666666667,
          0.5868666666666666,
          0.5653,
          0.5307833333333334,
          0.5290666666666667,
          0.4881666666666667,
          0.47378333333333333,
          0.4573833333333333
         ],
         "yaxis": "y"
        },
        {
         "hovertemplate": "variable=Task1<br>index=%{x}<br>value=%{y}<extra></extra>",
         "legendgroup": "Task1",
         "line": {
          "color": "#EF553B",
          "dash": "solid"
         },
         "marker": {
          "symbol": "circle"
         },
         "mode": "lines",
         "name": "Task1",
         "orientation": "v",
         "showlegend": true,
         "type": "scatter",
         "x": [
          0,
          1,
          2,
          3,
          4,
          5,
          6,
          7,
          8,
          9
         ],
         "xaxis": "x",
         "y": [
          0.1914,
          0.76825,
          0.7422833333333333,
          0.7483,
          0.73975,
          0.7126166666666667,
          0.7016,
          0.6841,
          0.6531333333333333,
          0.6194666666666667
         ],
         "yaxis": "y"
        },
        {
         "hovertemplate": "variable=Task2<br>index=%{x}<br>value=%{y}<extra></extra>",
         "legendgroup": "Task2",
         "line": {
          "color": "#00cc96",
          "dash": "solid"
         },
         "marker": {
          "symbol": "circle"
         },
         "mode": "lines",
         "name": "Task2",
         "orientation": "v",
         "showlegend": true,
         "type": "scatter",
         "x": [
          0,
          1,
          2,
          3,
          4,
          5,
          6,
          7,
          8,
          9
         ],
         "xaxis": "x",
         "y": [
          0.14923333333333333,
          0.16598333333333334,
          0.7819666666666667,
          0.7779166666666667,
          0.7683833333333333,
          0.7460833333333333,
          0.7016833333333333,
          0.6896833333333333,
          0.6537,
          0.6388833333333334
         ],
         "yaxis": "y"
        },
        {
         "hovertemplate": "variable=Task3<br>index=%{x}<br>value=%{y}<extra></extra>",
         "legendgroup": "Task3",
         "line": {
          "color": "#ab63fa",
          "dash": "solid"
         },
         "marker": {
          "symbol": "circle"
         },
         "mode": "lines",
         "name": "Task3",
         "orientation": "v",
         "showlegend": true,
         "type": "scatter",
         "x": [
          0,
          1,
          2,
          3,
          4,
          5,
          6,
          7,
          8,
          9
         ],
         "xaxis": "x",
         "y": [
          0.11673333333333333,
          0.13418333333333332,
          0.11238333333333334,
          0.8053333333333333,
          0.7778166666666667,
          0.7800166666666667,
          0.7603333333333333,
          0.7545833333333334,
          0.7263833333333334,
          0.7101
         ],
         "yaxis": "y"
        },
        {
         "hovertemplate": "variable=Task4<br>index=%{x}<br>value=%{y}<extra></extra>",
         "legendgroup": "Task4",
         "line": {
          "color": "#FFA15A",
          "dash": "solid"
         },
         "marker": {
          "symbol": "circle"
         },
         "mode": "lines",
         "name": "Task4",
         "orientation": "v",
         "showlegend": true,
         "type": "scatter",
         "x": [
          0,
          1,
          2,
          3,
          4,
          5,
          6,
          7,
          8,
          9
         ],
         "xaxis": "x",
         "y": [
          0.14701666666666666,
          0.17278333333333334,
          0.13676666666666668,
          0.09371666666666667,
          0.8176666666666667,
          0.80925,
          0.7858333333333334,
          0.7552333333333333,
          0.7524333333333333,
          0.7199666666666666
         ],
         "yaxis": "y"
        },
        {
         "hovertemplate": "variable=Task5<br>index=%{x}<br>value=%{y}<extra></extra>",
         "legendgroup": "Task5",
         "line": {
          "color": "#19d3f3",
          "dash": "solid"
         },
         "marker": {
          "symbol": "circle"
         },
         "mode": "lines",
         "name": "Task5",
         "orientation": "v",
         "showlegend": true,
         "type": "scatter",
         "x": [
          0,
          1,
          2,
          3,
          4,
          5,
          6,
          7,
          8,
          9
         ],
         "xaxis": "x",
         "y": [
          0.14781666666666668,
          0.1428,
          0.17776666666666666,
          0.12385,
          0.1465,
          0.8260166666666666,
          0.8021666666666667,
          0.79595,
          0.74875,
          0.7162333333333334
         ],
         "yaxis": "y"
        },
        {
         "hovertemplate": "variable=Task6<br>index=%{x}<br>value=%{y}<extra></extra>",
         "legendgroup": "Task6",
         "line": {
          "color": "#FF6692",
          "dash": "solid"
         },
         "marker": {
          "symbol": "circle"
         },
         "mode": "lines",
         "name": "Task6",
         "orientation": "v",
         "showlegend": true,
         "type": "scatter",
         "x": [
          0,
          1,
          2,
          3,
          4,
          5,
          6,
          7,
          8,
          9
         ],
         "xaxis": "x",
         "y": [
          0.18213333333333334,
          0.17546666666666666,
          0.13966666666666666,
          0.16503333333333334,
          0.11621666666666666,
          0.11921666666666667,
          0.82385,
          0.8007666666666666,
          0.8033666666666667,
          0.7916
         ],
         "yaxis": "y"
        },
        {
         "hovertemplate": "variable=Task7<br>index=%{x}<br>value=%{y}<extra></extra>",
         "legendgroup": "Task7",
         "line": {
          "color": "#B6E880",
          "dash": "solid"
         },
         "marker": {
          "symbol": "circle"
         },
         "mode": "lines",
         "name": "Task7",
         "orientation": "v",
         "showlegend": true,
         "type": "scatter",
         "x": [
          0,
          1,
          2,
          3,
          4,
          5,
          6,
          7,
          8,
          9
         ],
         "xaxis": "x",
         "y": [
          0.17286666666666667,
          0.15095,
          0.20276666666666668,
          0.20293333333333333,
          0.16875,
          0.19201666666666667,
          0.16655,
          0.8302,
          0.8078833333333333,
          0.79575
         ],
         "yaxis": "y"
        },
        {
         "hovertemplate": "variable=Task8<br>index=%{x}<br>value=%{y}<extra></extra>",
         "legendgroup": "Task8",
         "line": {
          "color": "#FF97FF",
          "dash": "solid"
         },
         "marker": {
          "symbol": "circle"
         },
         "mode": "lines",
         "name": "Task8",
         "orientation": "v",
         "showlegend": true,
         "type": "scatter",
         "x": [
          0,
          1,
          2,
          3,
          4,
          5,
          6,
          7,
          8,
          9
         ],
         "xaxis": "x",
         "y": [
          0.17526666666666665,
          0.13983333333333334,
          0.11686666666666666,
          0.10083333333333333,
          0.13453333333333334,
          0.12561666666666665,
          0.1064,
          0.08983333333333333,
          0.8417833333333333,
          0.8242166666666667
         ],
         "yaxis": "y"
        },
        {
         "hovertemplate": "variable=Task9<br>index=%{x}<br>value=%{y}<extra></extra>",
         "legendgroup": "Task9",
         "line": {
          "color": "#FECB52",
          "dash": "solid"
         },
         "marker": {
          "symbol": "circle"
         },
         "mode": "lines",
         "name": "Task9",
         "orientation": "v",
         "showlegend": true,
         "type": "scatter",
         "x": [
          0,
          1,
          2,
          3,
          4,
          5,
          6,
          7,
          8,
          9
         ],
         "xaxis": "x",
         "y": [
          0.18473333333333333,
          0.21353333333333332,
          0.15568333333333334,
          0.11691666666666667,
          0.12921666666666667,
          0.11545,
          0.11635,
          0.12403333333333333,
          0.13535,
          0.8402833333333334
         ],
         "yaxis": "y"
        },
        {
         "hovertemplate": "variable=Overall<br>index=%{x}<br>value=%{y}<extra></extra>",
         "legendgroup": "Overall",
         "line": {
          "color": "#636efa",
          "dash": "solid"
         },
         "marker": {
          "symbol": "circle"
         },
         "mode": "lines",
         "name": "Overall",
         "orientation": "v",
         "showlegend": true,
         "type": "scatter",
         "x": [
          0,
          1,
          2,
          3,
          4,
          5,
          6,
          7,
          8,
          9
         ],
         "xaxis": "x",
         "y": [
          0.22026,
          0.27717833333333336,
          0.3175616666666667,
          0.37217,
          0.4364133333333333,
          0.4957066666666667,
          0.5493833333333333,
          0.601255,
          0.6596566666666667,
          0.7113883333333333
         ],
         "yaxis": "y"
        }
       ],
       "layout": {
        "legend": {
         "title": {
          "text": "variable"
         },
         "tracegroupgap": 0
        },
        "template": {
         "data": {
          "bar": [
           {
            "error_x": {
             "color": "#2a3f5f"
            },
            "error_y": {
             "color": "#2a3f5f"
            },
            "marker": {
             "line": {
              "color": "#E5ECF6",
              "width": 0.5
             },
             "pattern": {
              "fillmode": "overlay",
              "size": 10,
              "solidity": 0.2
             }
            },
            "type": "bar"
           }
          ],
          "barpolar": [
           {
            "marker": {
             "line": {
              "color": "#E5ECF6",
              "width": 0.5
             },
             "pattern": {
              "fillmode": "overlay",
              "size": 10,
              "solidity": 0.2
             }
            },
            "type": "barpolar"
           }
          ],
          "carpet": [
           {
            "aaxis": {
             "endlinecolor": "#2a3f5f",
             "gridcolor": "white",
             "linecolor": "white",
             "minorgridcolor": "white",
             "startlinecolor": "#2a3f5f"
            },
            "baxis": {
             "endlinecolor": "#2a3f5f",
             "gridcolor": "white",
             "linecolor": "white",
             "minorgridcolor": "white",
             "startlinecolor": "#2a3f5f"
            },
            "type": "carpet"
           }
          ],
          "choropleth": [
           {
            "colorbar": {
             "outlinewidth": 0,
             "ticks": ""
            },
            "type": "choropleth"
           }
          ],
          "contour": [
           {
            "colorbar": {
             "outlinewidth": 0,
             "ticks": ""
            },
            "colorscale": [
             [
              0,
              "#0d0887"
             ],
             [
              0.1111111111111111,
              "#46039f"
             ],
             [
              0.2222222222222222,
              "#7201a8"
             ],
             [
              0.3333333333333333,
              "#9c179e"
             ],
             [
              0.4444444444444444,
              "#bd3786"
             ],
             [
              0.5555555555555556,
              "#d8576b"
             ],
             [
              0.6666666666666666,
              "#ed7953"
             ],
             [
              0.7777777777777778,
              "#fb9f3a"
             ],
             [
              0.8888888888888888,
              "#fdca26"
             ],
             [
              1,
              "#f0f921"
             ]
            ],
            "type": "contour"
           }
          ],
          "contourcarpet": [
           {
            "colorbar": {
             "outlinewidth": 0,
             "ticks": ""
            },
            "type": "contourcarpet"
           }
          ],
          "heatmap": [
           {
            "colorbar": {
             "outlinewidth": 0,
             "ticks": ""
            },
            "colorscale": [
             [
              0,
              "#0d0887"
             ],
             [
              0.1111111111111111,
              "#46039f"
             ],
             [
              0.2222222222222222,
              "#7201a8"
             ],
             [
              0.3333333333333333,
              "#9c179e"
             ],
             [
              0.4444444444444444,
              "#bd3786"
             ],
             [
              0.5555555555555556,
              "#d8576b"
             ],
             [
              0.6666666666666666,
              "#ed7953"
             ],
             [
              0.7777777777777778,
              "#fb9f3a"
             ],
             [
              0.8888888888888888,
              "#fdca26"
             ],
             [
              1,
              "#f0f921"
             ]
            ],
            "type": "heatmap"
           }
          ],
          "heatmapgl": [
           {
            "colorbar": {
             "outlinewidth": 0,
             "ticks": ""
            },
            "colorscale": [
             [
              0,
              "#0d0887"
             ],
             [
              0.1111111111111111,
              "#46039f"
             ],
             [
              0.2222222222222222,
              "#7201a8"
             ],
             [
              0.3333333333333333,
              "#9c179e"
             ],
             [
              0.4444444444444444,
              "#bd3786"
             ],
             [
              0.5555555555555556,
              "#d8576b"
             ],
             [
              0.6666666666666666,
              "#ed7953"
             ],
             [
              0.7777777777777778,
              "#fb9f3a"
             ],
             [
              0.8888888888888888,
              "#fdca26"
             ],
             [
              1,
              "#f0f921"
             ]
            ],
            "type": "heatmapgl"
           }
          ],
          "histogram": [
           {
            "marker": {
             "pattern": {
              "fillmode": "overlay",
              "size": 10,
              "solidity": 0.2
             }
            },
            "type": "histogram"
           }
          ],
          "histogram2d": [
           {
            "colorbar": {
             "outlinewidth": 0,
             "ticks": ""
            },
            "colorscale": [
             [
              0,
              "#0d0887"
             ],
             [
              0.1111111111111111,
              "#46039f"
             ],
             [
              0.2222222222222222,
              "#7201a8"
             ],
             [
              0.3333333333333333,
              "#9c179e"
             ],
             [
              0.4444444444444444,
              "#bd3786"
             ],
             [
              0.5555555555555556,
              "#d8576b"
             ],
             [
              0.6666666666666666,
              "#ed7953"
             ],
             [
              0.7777777777777778,
              "#fb9f3a"
             ],
             [
              0.8888888888888888,
              "#fdca26"
             ],
             [
              1,
              "#f0f921"
             ]
            ],
            "type": "histogram2d"
           }
          ],
          "histogram2dcontour": [
           {
            "colorbar": {
             "outlinewidth": 0,
             "ticks": ""
            },
            "colorscale": [
             [
              0,
              "#0d0887"
             ],
             [
              0.1111111111111111,
              "#46039f"
             ],
             [
              0.2222222222222222,
              "#7201a8"
             ],
             [
              0.3333333333333333,
              "#9c179e"
             ],
             [
              0.4444444444444444,
              "#bd3786"
             ],
             [
              0.5555555555555556,
              "#d8576b"
             ],
             [
              0.6666666666666666,
              "#ed7953"
             ],
             [
              0.7777777777777778,
              "#fb9f3a"
             ],
             [
              0.8888888888888888,
              "#fdca26"
             ],
             [
              1,
              "#f0f921"
             ]
            ],
            "type": "histogram2dcontour"
           }
          ],
          "mesh3d": [
           {
            "colorbar": {
             "outlinewidth": 0,
             "ticks": ""
            },
            "type": "mesh3d"
           }
          ],
          "parcoords": [
           {
            "line": {
             "colorbar": {
              "outlinewidth": 0,
              "ticks": ""
             }
            },
            "type": "parcoords"
           }
          ],
          "pie": [
           {
            "automargin": true,
            "type": "pie"
           }
          ],
          "scatter": [
           {
            "fillpattern": {
             "fillmode": "overlay",
             "size": 10,
             "solidity": 0.2
            },
            "type": "scatter"
           }
          ],
          "scatter3d": [
           {
            "line": {
             "colorbar": {
              "outlinewidth": 0,
              "ticks": ""
             }
            },
            "marker": {
             "colorbar": {
              "outlinewidth": 0,
              "ticks": ""
             }
            },
            "type": "scatter3d"
           }
          ],
          "scattercarpet": [
           {
            "marker": {
             "colorbar": {
              "outlinewidth": 0,
              "ticks": ""
             }
            },
            "type": "scattercarpet"
           }
          ],
          "scattergeo": [
           {
            "marker": {
             "colorbar": {
              "outlinewidth": 0,
              "ticks": ""
             }
            },
            "type": "scattergeo"
           }
          ],
          "scattergl": [
           {
            "marker": {
             "colorbar": {
              "outlinewidth": 0,
              "ticks": ""
             }
            },
            "type": "scattergl"
           }
          ],
          "scattermapbox": [
           {
            "marker": {
             "colorbar": {
              "outlinewidth": 0,
              "ticks": ""
             }
            },
            "type": "scattermapbox"
           }
          ],
          "scatterpolar": [
           {
            "marker": {
             "colorbar": {
              "outlinewidth": 0,
              "ticks": ""
             }
            },
            "type": "scatterpolar"
           }
          ],
          "scatterpolargl": [
           {
            "marker": {
             "colorbar": {
              "outlinewidth": 0,
              "ticks": ""
             }
            },
            "type": "scatterpolargl"
           }
          ],
          "scatterternary": [
           {
            "marker": {
             "colorbar": {
              "outlinewidth": 0,
              "ticks": ""
             }
            },
            "type": "scatterternary"
           }
          ],
          "surface": [
           {
            "colorbar": {
             "outlinewidth": 0,
             "ticks": ""
            },
            "colorscale": [
             [
              0,
              "#0d0887"
             ],
             [
              0.1111111111111111,
              "#46039f"
             ],
             [
              0.2222222222222222,
              "#7201a8"
             ],
             [
              0.3333333333333333,
              "#9c179e"
             ],
             [
              0.4444444444444444,
              "#bd3786"
             ],
             [
              0.5555555555555556,
              "#d8576b"
             ],
             [
              0.6666666666666666,
              "#ed7953"
             ],
             [
              0.7777777777777778,
              "#fb9f3a"
             ],
             [
              0.8888888888888888,
              "#fdca26"
             ],
             [
              1,
              "#f0f921"
             ]
            ],
            "type": "surface"
           }
          ],
          "table": [
           {
            "cells": {
             "fill": {
              "color": "#EBF0F8"
             },
             "line": {
              "color": "white"
             }
            },
            "header": {
             "fill": {
              "color": "#C8D4E3"
             },
             "line": {
              "color": "white"
             }
            },
            "type": "table"
           }
          ]
         },
         "layout": {
          "annotationdefaults": {
           "arrowcolor": "#2a3f5f",
           "arrowhead": 0,
           "arrowwidth": 1
          },
          "autotypenumbers": "strict",
          "coloraxis": {
           "colorbar": {
            "outlinewidth": 0,
            "ticks": ""
           }
          },
          "colorscale": {
           "diverging": [
            [
             0,
             "#8e0152"
            ],
            [
             0.1,
             "#c51b7d"
            ],
            [
             0.2,
             "#de77ae"
            ],
            [
             0.3,
             "#f1b6da"
            ],
            [
             0.4,
             "#fde0ef"
            ],
            [
             0.5,
             "#f7f7f7"
            ],
            [
             0.6,
             "#e6f5d0"
            ],
            [
             0.7,
             "#b8e186"
            ],
            [
             0.8,
             "#7fbc41"
            ],
            [
             0.9,
             "#4d9221"
            ],
            [
             1,
             "#276419"
            ]
           ],
           "sequential": [
            [
             0,
             "#0d0887"
            ],
            [
             0.1111111111111111,
             "#46039f"
            ],
            [
             0.2222222222222222,
             "#7201a8"
            ],
            [
             0.3333333333333333,
             "#9c179e"
            ],
            [
             0.4444444444444444,
             "#bd3786"
            ],
            [
             0.5555555555555556,
             "#d8576b"
            ],
            [
             0.6666666666666666,
             "#ed7953"
            ],
            [
             0.7777777777777778,
             "#fb9f3a"
            ],
            [
             0.8888888888888888,
             "#fdca26"
            ],
            [
             1,
             "#f0f921"
            ]
           ],
           "sequentialminus": [
            [
             0,
             "#0d0887"
            ],
            [
             0.1111111111111111,
             "#46039f"
            ],
            [
             0.2222222222222222,
             "#7201a8"
            ],
            [
             0.3333333333333333,
             "#9c179e"
            ],
            [
             0.4444444444444444,
             "#bd3786"
            ],
            [
             0.5555555555555556,
             "#d8576b"
            ],
            [
             0.6666666666666666,
             "#ed7953"
            ],
            [
             0.7777777777777778,
             "#fb9f3a"
            ],
            [
             0.8888888888888888,
             "#fdca26"
            ],
            [
             1,
             "#f0f921"
            ]
           ]
          },
          "colorway": [
           "#636efa",
           "#EF553B",
           "#00cc96",
           "#ab63fa",
           "#FFA15A",
           "#19d3f3",
           "#FF6692",
           "#B6E880",
           "#FF97FF",
           "#FECB52"
          ],
          "font": {
           "color": "#2a3f5f"
          },
          "geo": {
           "bgcolor": "white",
           "lakecolor": "white",
           "landcolor": "#E5ECF6",
           "showlakes": true,
           "showland": true,
           "subunitcolor": "white"
          },
          "hoverlabel": {
           "align": "left"
          },
          "hovermode": "closest",
          "mapbox": {
           "style": "light"
          },
          "paper_bgcolor": "white",
          "plot_bgcolor": "#E5ECF6",
          "polar": {
           "angularaxis": {
            "gridcolor": "white",
            "linecolor": "white",
            "ticks": ""
           },
           "bgcolor": "#E5ECF6",
           "radialaxis": {
            "gridcolor": "white",
            "linecolor": "white",
            "ticks": ""
           }
          },
          "scene": {
           "xaxis": {
            "backgroundcolor": "#E5ECF6",
            "gridcolor": "white",
            "gridwidth": 2,
            "linecolor": "white",
            "showbackground": true,
            "ticks": "",
            "zerolinecolor": "white"
           },
           "yaxis": {
            "backgroundcolor": "#E5ECF6",
            "gridcolor": "white",
            "gridwidth": 2,
            "linecolor": "white",
            "showbackground": true,
            "ticks": "",
            "zerolinecolor": "white"
           },
           "zaxis": {
            "backgroundcolor": "#E5ECF6",
            "gridcolor": "white",
            "gridwidth": 2,
            "linecolor": "white",
            "showbackground": true,
            "ticks": "",
            "zerolinecolor": "white"
           }
          },
          "shapedefaults": {
           "line": {
            "color": "#2a3f5f"
           }
          },
          "ternary": {
           "aaxis": {
            "gridcolor": "white",
            "linecolor": "white",
            "ticks": ""
           },
           "baxis": {
            "gridcolor": "white",
            "linecolor": "white",
            "ticks": ""
           },
           "bgcolor": "#E5ECF6",
           "caxis": {
            "gridcolor": "white",
            "linecolor": "white",
            "ticks": ""
           }
          },
          "title": {
           "x": 0.05
          },
          "xaxis": {
           "automargin": true,
           "gridcolor": "white",
           "linecolor": "white",
           "ticks": "",
           "title": {
            "standoff": 15
           },
           "zerolinecolor": "white",
           "zerolinewidth": 2
          },
          "yaxis": {
           "automargin": true,
           "gridcolor": "white",
           "linecolor": "white",
           "ticks": "",
           "title": {
            "standoff": 15
           },
           "zerolinecolor": "white",
           "zerolinewidth": 2
          }
         }
        },
        "title": {
         "text": "Training Accuracy vs Task"
        },
        "xaxis": {
         "anchor": "y",
         "domain": [
          0,
          1
         ],
         "title": {
          "text": "index"
         }
        },
        "yaxis": {
         "anchor": "x",
         "domain": [
          0,
          1
         ],
         "range": [
          0,
          1
         ],
         "title": {
          "text": "value"
         }
        }
       }
      }
     },
     "metadata": {},
     "output_type": "display_data"
    }
   ],
   "source": [
    "train_df = pd.DataFrame(training_accuracies)\n",
    "train_df.index = range(10)\n",
    "\n",
    "fig = px.line(train_df, x=train_df.index, y=train_df.columns, range_y=[0, 1], title=\"Training Accuracy vs Task\")\n",
    "fig.show()"
   ]
  },
  {
   "cell_type": "markdown",
   "metadata": {},
   "source": [
    "## Evaluation accuracies per experience"
   ]
  },
  {
   "cell_type": "code",
   "execution_count": 120,
   "metadata": {},
   "outputs": [
    {
     "data": {
      "application/vnd.plotly.v1+json": {
       "config": {
        "plotlyServerURL": "https://plot.ly"
       },
       "data": [
        {
         "hovertemplate": "variable=Task0<br>index=%{x}<br>value=%{y}<extra></extra>",
         "legendgroup": "Task0",
         "line": {
          "color": "#636efa",
          "dash": "solid"
         },
         "marker": {
          "symbol": "circle"
         },
         "mode": "lines",
         "name": "Task0",
         "orientation": "v",
         "showlegend": true,
         "type": "scatter",
         "x": [
          0,
          1,
          2,
          3,
          4,
          5,
          6,
          7,
          8,
          9
         ],
         "xaxis": "x",
         "y": [
          0.7399,
          0.7162,
          0.6106,
          0.5849,
          0.5622,
          0.5262,
          0.5245,
          0.4871,
          0.4726,
          0.4556
         ],
         "yaxis": "y"
        },
        {
         "hovertemplate": "variable=Task1<br>index=%{x}<br>value=%{y}<extra></extra>",
         "legendgroup": "Task1",
         "line": {
          "color": "#EF553B",
          "dash": "solid"
         },
         "marker": {
          "symbol": "circle"
         },
         "mode": "lines",
         "name": "Task1",
         "orientation": "v",
         "showlegend": true,
         "type": "scatter",
         "x": [
          0,
          1,
          2,
          3,
          4,
          5,
          6,
          7,
          8,
          9
         ],
         "xaxis": "x",
         "y": [
          0.2007,
          0.7709,
          0.7448,
          0.747,
          0.7478,
          0.7203,
          0.7113,
          0.6969,
          0.6658,
          0.634
         ],
         "yaxis": "y"
        },
        {
         "hovertemplate": "variable=Task2<br>index=%{x}<br>value=%{y}<extra></extra>",
         "legendgroup": "Task2",
         "line": {
          "color": "#00cc96",
          "dash": "solid"
         },
         "marker": {
          "symbol": "circle"
         },
         "mode": "lines",
         "name": "Task2",
         "orientation": "v",
         "showlegend": true,
         "type": "scatter",
         "x": [
          0,
          1,
          2,
          3,
          4,
          5,
          6,
          7,
          8,
          9
         ],
         "xaxis": "x",
         "y": [
          0.1442,
          0.1659,
          0.7865,
          0.782,
          0.7716,
          0.746,
          0.7006,
          0.6883,
          0.6527,
          0.6393
         ],
         "yaxis": "y"
        },
        {
         "hovertemplate": "variable=Task3<br>index=%{x}<br>value=%{y}<extra></extra>",
         "legendgroup": "Task3",
         "line": {
          "color": "#ab63fa",
          "dash": "solid"
         },
         "marker": {
          "symbol": "circle"
         },
         "mode": "lines",
         "name": "Task3",
         "orientation": "v",
         "showlegend": true,
         "type": "scatter",
         "x": [
          0,
          1,
          2,
          3,
          4,
          5,
          6,
          7,
          8,
          9
         ],
         "xaxis": "x",
         "y": [
          0.1194,
          0.14,
          0.1151,
          0.8096,
          0.7826,
          0.7859,
          0.7654,
          0.755,
          0.7328,
          0.7149
         ],
         "yaxis": "y"
        },
        {
         "hovertemplate": "variable=Task4<br>index=%{x}<br>value=%{y}<extra></extra>",
         "legendgroup": "Task4",
         "line": {
          "color": "#FFA15A",
          "dash": "solid"
         },
         "marker": {
          "symbol": "circle"
         },
         "mode": "lines",
         "name": "Task4",
         "orientation": "v",
         "showlegend": true,
         "type": "scatter",
         "x": [
          0,
          1,
          2,
          3,
          4,
          5,
          6,
          7,
          8,
          9
         ],
         "xaxis": "x",
         "y": [
          0.1455,
          0.1701,
          0.1293,
          0.0848,
          0.8183,
          0.8129,
          0.785,
          0.757,
          0.7517,
          0.7191
         ],
         "yaxis": "y"
        },
        {
         "hovertemplate": "variable=Task5<br>index=%{x}<br>value=%{y}<extra></extra>",
         "legendgroup": "Task5",
         "line": {
          "color": "#19d3f3",
          "dash": "solid"
         },
         "marker": {
          "symbol": "circle"
         },
         "mode": "lines",
         "name": "Task5",
         "orientation": "v",
         "showlegend": true,
         "type": "scatter",
         "x": [
          0,
          1,
          2,
          3,
          4,
          5,
          6,
          7,
          8,
          9
         ],
         "xaxis": "x",
         "y": [
          0.1509,
          0.1451,
          0.1866,
          0.1308,
          0.1555,
          0.8311,
          0.8035,
          0.7988,
          0.7512,
          0.7189
         ],
         "yaxis": "y"
        },
        {
         "hovertemplate": "variable=Task6<br>index=%{x}<br>value=%{y}<extra></extra>",
         "legendgroup": "Task6",
         "line": {
          "color": "#FF6692",
          "dash": "solid"
         },
         "marker": {
          "symbol": "circle"
         },
         "mode": "lines",
         "name": "Task6",
         "orientation": "v",
         "showlegend": true,
         "type": "scatter",
         "x": [
          0,
          1,
          2,
          3,
          4,
          5,
          6,
          7,
          8,
          9
         ],
         "xaxis": "x",
         "y": [
          0.179,
          0.1764,
          0.1313,
          0.1594,
          0.1105,
          0.1151,
          0.8284,
          0.8019,
          0.8062,
          0.7989
         ],
         "yaxis": "y"
        },
        {
         "hovertemplate": "variable=Task7<br>index=%{x}<br>value=%{y}<extra></extra>",
         "legendgroup": "Task7",
         "line": {
          "color": "#B6E880",
          "dash": "solid"
         },
         "marker": {
          "symbol": "circle"
         },
         "mode": "lines",
         "name": "Task7",
         "orientation": "v",
         "showlegend": true,
         "type": "scatter",
         "x": [
          0,
          1,
          2,
          3,
          4,
          5,
          6,
          7,
          8,
          9
         ],
         "xaxis": "x",
         "y": [
          0.1686,
          0.1464,
          0.2048,
          0.2061,
          0.1706,
          0.1956,
          0.1709,
          0.8351,
          0.814,
          0.8022
         ],
         "yaxis": "y"
        },
        {
         "hovertemplate": "variable=Task8<br>index=%{x}<br>value=%{y}<extra></extra>",
         "legendgroup": "Task8",
         "line": {
          "color": "#FF97FF",
          "dash": "solid"
         },
         "marker": {
          "symbol": "circle"
         },
         "mode": "lines",
         "name": "Task8",
         "orientation": "v",
         "showlegend": true,
         "type": "scatter",
         "x": [
          0,
          1,
          2,
          3,
          4,
          5,
          6,
          7,
          8,
          9
         ],
         "xaxis": "x",
         "y": [
          0.1745,
          0.1356,
          0.1109,
          0.0971,
          0.1324,
          0.1273,
          0.1076,
          0.0895,
          0.8445,
          0.8248
         ],
         "yaxis": "y"
        },
        {
         "hovertemplate": "variable=Task9<br>index=%{x}<br>value=%{y}<extra></extra>",
         "legendgroup": "Task9",
         "line": {
          "color": "#FECB52",
          "dash": "solid"
         },
         "marker": {
          "symbol": "circle"
         },
         "mode": "lines",
         "name": "Task9",
         "orientation": "v",
         "showlegend": true,
         "type": "scatter",
         "x": [
          0,
          1,
          2,
          3,
          4,
          5,
          6,
          7,
          8,
          9
         ],
         "xaxis": "x",
         "y": [
          0.1895,
          0.2259,
          0.1682,
          0.1246,
          0.1364,
          0.1229,
          0.1225,
          0.1286,
          0.138,
          0.8413
         ],
         "yaxis": "y"
        },
        {
         "hovertemplate": "variable=Overall<br>index=%{x}<br>value=%{y}<extra></extra>",
         "legendgroup": "Overall",
         "line": {
          "color": "#636efa",
          "dash": "solid"
         },
         "marker": {
          "symbol": "circle"
         },
         "mode": "lines",
         "name": "Overall",
         "orientation": "v",
         "showlegend": true,
         "type": "scatter",
         "x": [
          0,
          1,
          2,
          3,
          4,
          5,
          6,
          7,
          8,
          9
         ],
         "xaxis": "x",
         "y": [
          0.22122,
          0.27925,
          0.31881,
          0.37263,
          0.43879,
          0.49833,
          0.55197,
          0.60382,
          0.66295,
          0.7149
         ],
         "yaxis": "y"
        }
       ],
       "layout": {
        "legend": {
         "title": {
          "text": "variable"
         },
         "tracegroupgap": 0
        },
        "template": {
         "data": {
          "bar": [
           {
            "error_x": {
             "color": "#2a3f5f"
            },
            "error_y": {
             "color": "#2a3f5f"
            },
            "marker": {
             "line": {
              "color": "#E5ECF6",
              "width": 0.5
             },
             "pattern": {
              "fillmode": "overlay",
              "size": 10,
              "solidity": 0.2
             }
            },
            "type": "bar"
           }
          ],
          "barpolar": [
           {
            "marker": {
             "line": {
              "color": "#E5ECF6",
              "width": 0.5
             },
             "pattern": {
              "fillmode": "overlay",
              "size": 10,
              "solidity": 0.2
             }
            },
            "type": "barpolar"
           }
          ],
          "carpet": [
           {
            "aaxis": {
             "endlinecolor": "#2a3f5f",
             "gridcolor": "white",
             "linecolor": "white",
             "minorgridcolor": "white",
             "startlinecolor": "#2a3f5f"
            },
            "baxis": {
             "endlinecolor": "#2a3f5f",
             "gridcolor": "white",
             "linecolor": "white",
             "minorgridcolor": "white",
             "startlinecolor": "#2a3f5f"
            },
            "type": "carpet"
           }
          ],
          "choropleth": [
           {
            "colorbar": {
             "outlinewidth": 0,
             "ticks": ""
            },
            "type": "choropleth"
           }
          ],
          "contour": [
           {
            "colorbar": {
             "outlinewidth": 0,
             "ticks": ""
            },
            "colorscale": [
             [
              0,
              "#0d0887"
             ],
             [
              0.1111111111111111,
              "#46039f"
             ],
             [
              0.2222222222222222,
              "#7201a8"
             ],
             [
              0.3333333333333333,
              "#9c179e"
             ],
             [
              0.4444444444444444,
              "#bd3786"
             ],
             [
              0.5555555555555556,
              "#d8576b"
             ],
             [
              0.6666666666666666,
              "#ed7953"
             ],
             [
              0.7777777777777778,
              "#fb9f3a"
             ],
             [
              0.8888888888888888,
              "#fdca26"
             ],
             [
              1,
              "#f0f921"
             ]
            ],
            "type": "contour"
           }
          ],
          "contourcarpet": [
           {
            "colorbar": {
             "outlinewidth": 0,
             "ticks": ""
            },
            "type": "contourcarpet"
           }
          ],
          "heatmap": [
           {
            "colorbar": {
             "outlinewidth": 0,
             "ticks": ""
            },
            "colorscale": [
             [
              0,
              "#0d0887"
             ],
             [
              0.1111111111111111,
              "#46039f"
             ],
             [
              0.2222222222222222,
              "#7201a8"
             ],
             [
              0.3333333333333333,
              "#9c179e"
             ],
             [
              0.4444444444444444,
              "#bd3786"
             ],
             [
              0.5555555555555556,
              "#d8576b"
             ],
             [
              0.6666666666666666,
              "#ed7953"
             ],
             [
              0.7777777777777778,
              "#fb9f3a"
             ],
             [
              0.8888888888888888,
              "#fdca26"
             ],
             [
              1,
              "#f0f921"
             ]
            ],
            "type": "heatmap"
           }
          ],
          "heatmapgl": [
           {
            "colorbar": {
             "outlinewidth": 0,
             "ticks": ""
            },
            "colorscale": [
             [
              0,
              "#0d0887"
             ],
             [
              0.1111111111111111,
              "#46039f"
             ],
             [
              0.2222222222222222,
              "#7201a8"
             ],
             [
              0.3333333333333333,
              "#9c179e"
             ],
             [
              0.4444444444444444,
              "#bd3786"
             ],
             [
              0.5555555555555556,
              "#d8576b"
             ],
             [
              0.6666666666666666,
              "#ed7953"
             ],
             [
              0.7777777777777778,
              "#fb9f3a"
             ],
             [
              0.8888888888888888,
              "#fdca26"
             ],
             [
              1,
              "#f0f921"
             ]
            ],
            "type": "heatmapgl"
           }
          ],
          "histogram": [
           {
            "marker": {
             "pattern": {
              "fillmode": "overlay",
              "size": 10,
              "solidity": 0.2
             }
            },
            "type": "histogram"
           }
          ],
          "histogram2d": [
           {
            "colorbar": {
             "outlinewidth": 0,
             "ticks": ""
            },
            "colorscale": [
             [
              0,
              "#0d0887"
             ],
             [
              0.1111111111111111,
              "#46039f"
             ],
             [
              0.2222222222222222,
              "#7201a8"
             ],
             [
              0.3333333333333333,
              "#9c179e"
             ],
             [
              0.4444444444444444,
              "#bd3786"
             ],
             [
              0.5555555555555556,
              "#d8576b"
             ],
             [
              0.6666666666666666,
              "#ed7953"
             ],
             [
              0.7777777777777778,
              "#fb9f3a"
             ],
             [
              0.8888888888888888,
              "#fdca26"
             ],
             [
              1,
              "#f0f921"
             ]
            ],
            "type": "histogram2d"
           }
          ],
          "histogram2dcontour": [
           {
            "colorbar": {
             "outlinewidth": 0,
             "ticks": ""
            },
            "colorscale": [
             [
              0,
              "#0d0887"
             ],
             [
              0.1111111111111111,
              "#46039f"
             ],
             [
              0.2222222222222222,
              "#7201a8"
             ],
             [
              0.3333333333333333,
              "#9c179e"
             ],
             [
              0.4444444444444444,
              "#bd3786"
             ],
             [
              0.5555555555555556,
              "#d8576b"
             ],
             [
              0.6666666666666666,
              "#ed7953"
             ],
             [
              0.7777777777777778,
              "#fb9f3a"
             ],
             [
              0.8888888888888888,
              "#fdca26"
             ],
             [
              1,
              "#f0f921"
             ]
            ],
            "type": "histogram2dcontour"
           }
          ],
          "mesh3d": [
           {
            "colorbar": {
             "outlinewidth": 0,
             "ticks": ""
            },
            "type": "mesh3d"
           }
          ],
          "parcoords": [
           {
            "line": {
             "colorbar": {
              "outlinewidth": 0,
              "ticks": ""
             }
            },
            "type": "parcoords"
           }
          ],
          "pie": [
           {
            "automargin": true,
            "type": "pie"
           }
          ],
          "scatter": [
           {
            "fillpattern": {
             "fillmode": "overlay",
             "size": 10,
             "solidity": 0.2
            },
            "type": "scatter"
           }
          ],
          "scatter3d": [
           {
            "line": {
             "colorbar": {
              "outlinewidth": 0,
              "ticks": ""
             }
            },
            "marker": {
             "colorbar": {
              "outlinewidth": 0,
              "ticks": ""
             }
            },
            "type": "scatter3d"
           }
          ],
          "scattercarpet": [
           {
            "marker": {
             "colorbar": {
              "outlinewidth": 0,
              "ticks": ""
             }
            },
            "type": "scattercarpet"
           }
          ],
          "scattergeo": [
           {
            "marker": {
             "colorbar": {
              "outlinewidth": 0,
              "ticks": ""
             }
            },
            "type": "scattergeo"
           }
          ],
          "scattergl": [
           {
            "marker": {
             "colorbar": {
              "outlinewidth": 0,
              "ticks": ""
             }
            },
            "type": "scattergl"
           }
          ],
          "scattermapbox": [
           {
            "marker": {
             "colorbar": {
              "outlinewidth": 0,
              "ticks": ""
             }
            },
            "type": "scattermapbox"
           }
          ],
          "scatterpolar": [
           {
            "marker": {
             "colorbar": {
              "outlinewidth": 0,
              "ticks": ""
             }
            },
            "type": "scatterpolar"
           }
          ],
          "scatterpolargl": [
           {
            "marker": {
             "colorbar": {
              "outlinewidth": 0,
              "ticks": ""
             }
            },
            "type": "scatterpolargl"
           }
          ],
          "scatterternary": [
           {
            "marker": {
             "colorbar": {
              "outlinewidth": 0,
              "ticks": ""
             }
            },
            "type": "scatterternary"
           }
          ],
          "surface": [
           {
            "colorbar": {
             "outlinewidth": 0,
             "ticks": ""
            },
            "colorscale": [
             [
              0,
              "#0d0887"
             ],
             [
              0.1111111111111111,
              "#46039f"
             ],
             [
              0.2222222222222222,
              "#7201a8"
             ],
             [
              0.3333333333333333,
              "#9c179e"
             ],
             [
              0.4444444444444444,
              "#bd3786"
             ],
             [
              0.5555555555555556,
              "#d8576b"
             ],
             [
              0.6666666666666666,
              "#ed7953"
             ],
             [
              0.7777777777777778,
              "#fb9f3a"
             ],
             [
              0.8888888888888888,
              "#fdca26"
             ],
             [
              1,
              "#f0f921"
             ]
            ],
            "type": "surface"
           }
          ],
          "table": [
           {
            "cells": {
             "fill": {
              "color": "#EBF0F8"
             },
             "line": {
              "color": "white"
             }
            },
            "header": {
             "fill": {
              "color": "#C8D4E3"
             },
             "line": {
              "color": "white"
             }
            },
            "type": "table"
           }
          ]
         },
         "layout": {
          "annotationdefaults": {
           "arrowcolor": "#2a3f5f",
           "arrowhead": 0,
           "arrowwidth": 1
          },
          "autotypenumbers": "strict",
          "coloraxis": {
           "colorbar": {
            "outlinewidth": 0,
            "ticks": ""
           }
          },
          "colorscale": {
           "diverging": [
            [
             0,
             "#8e0152"
            ],
            [
             0.1,
             "#c51b7d"
            ],
            [
             0.2,
             "#de77ae"
            ],
            [
             0.3,
             "#f1b6da"
            ],
            [
             0.4,
             "#fde0ef"
            ],
            [
             0.5,
             "#f7f7f7"
            ],
            [
             0.6,
             "#e6f5d0"
            ],
            [
             0.7,
             "#b8e186"
            ],
            [
             0.8,
             "#7fbc41"
            ],
            [
             0.9,
             "#4d9221"
            ],
            [
             1,
             "#276419"
            ]
           ],
           "sequential": [
            [
             0,
             "#0d0887"
            ],
            [
             0.1111111111111111,
             "#46039f"
            ],
            [
             0.2222222222222222,
             "#7201a8"
            ],
            [
             0.3333333333333333,
             "#9c179e"
            ],
            [
             0.4444444444444444,
             "#bd3786"
            ],
            [
             0.5555555555555556,
             "#d8576b"
            ],
            [
             0.6666666666666666,
             "#ed7953"
            ],
            [
             0.7777777777777778,
             "#fb9f3a"
            ],
            [
             0.8888888888888888,
             "#fdca26"
            ],
            [
             1,
             "#f0f921"
            ]
           ],
           "sequentialminus": [
            [
             0,
             "#0d0887"
            ],
            [
             0.1111111111111111,
             "#46039f"
            ],
            [
             0.2222222222222222,
             "#7201a8"
            ],
            [
             0.3333333333333333,
             "#9c179e"
            ],
            [
             0.4444444444444444,
             "#bd3786"
            ],
            [
             0.5555555555555556,
             "#d8576b"
            ],
            [
             0.6666666666666666,
             "#ed7953"
            ],
            [
             0.7777777777777778,
             "#fb9f3a"
            ],
            [
             0.8888888888888888,
             "#fdca26"
            ],
            [
             1,
             "#f0f921"
            ]
           ]
          },
          "colorway": [
           "#636efa",
           "#EF553B",
           "#00cc96",
           "#ab63fa",
           "#FFA15A",
           "#19d3f3",
           "#FF6692",
           "#B6E880",
           "#FF97FF",
           "#FECB52"
          ],
          "font": {
           "color": "#2a3f5f"
          },
          "geo": {
           "bgcolor": "white",
           "lakecolor": "white",
           "landcolor": "#E5ECF6",
           "showlakes": true,
           "showland": true,
           "subunitcolor": "white"
          },
          "hoverlabel": {
           "align": "left"
          },
          "hovermode": "closest",
          "mapbox": {
           "style": "light"
          },
          "paper_bgcolor": "white",
          "plot_bgcolor": "#E5ECF6",
          "polar": {
           "angularaxis": {
            "gridcolor": "white",
            "linecolor": "white",
            "ticks": ""
           },
           "bgcolor": "#E5ECF6",
           "radialaxis": {
            "gridcolor": "white",
            "linecolor": "white",
            "ticks": ""
           }
          },
          "scene": {
           "xaxis": {
            "backgroundcolor": "#E5ECF6",
            "gridcolor": "white",
            "gridwidth": 2,
            "linecolor": "white",
            "showbackground": true,
            "ticks": "",
            "zerolinecolor": "white"
           },
           "yaxis": {
            "backgroundcolor": "#E5ECF6",
            "gridcolor": "white",
            "gridwidth": 2,
            "linecolor": "white",
            "showbackground": true,
            "ticks": "",
            "zerolinecolor": "white"
           },
           "zaxis": {
            "backgroundcolor": "#E5ECF6",
            "gridcolor": "white",
            "gridwidth": 2,
            "linecolor": "white",
            "showbackground": true,
            "ticks": "",
            "zerolinecolor": "white"
           }
          },
          "shapedefaults": {
           "line": {
            "color": "#2a3f5f"
           }
          },
          "ternary": {
           "aaxis": {
            "gridcolor": "white",
            "linecolor": "white",
            "ticks": ""
           },
           "baxis": {
            "gridcolor": "white",
            "linecolor": "white",
            "ticks": ""
           },
           "bgcolor": "#E5ECF6",
           "caxis": {
            "gridcolor": "white",
            "linecolor": "white",
            "ticks": ""
           }
          },
          "title": {
           "x": 0.05
          },
          "xaxis": {
           "automargin": true,
           "gridcolor": "white",
           "linecolor": "white",
           "ticks": "",
           "title": {
            "standoff": 15
           },
           "zerolinecolor": "white",
           "zerolinewidth": 2
          },
          "yaxis": {
           "automargin": true,
           "gridcolor": "white",
           "linecolor": "white",
           "ticks": "",
           "title": {
            "standoff": 15
           },
           "zerolinecolor": "white",
           "zerolinewidth": 2
          }
         }
        },
        "title": {
         "text": "Test Accuracy vs Task"
        },
        "xaxis": {
         "anchor": "y",
         "domain": [
          0,
          1
         ],
         "title": {
          "text": "index"
         }
        },
        "yaxis": {
         "anchor": "x",
         "domain": [
          0,
          1
         ],
         "range": [
          0,
          1
         ],
         "title": {
          "text": "value"
         }
        }
       }
      }
     },
     "metadata": {},
     "output_type": "display_data"
    }
   ],
   "source": [
    "acc_df = pd.DataFrame(accuracies)\n",
    "acc_df.index = range(10)\n",
    "\n",
    "fig = px.line(acc_df, x=acc_df.index, y=acc_df.columns, range_y=[0, 1], title=\"Test Accuracy vs Task\")\n",
    "fig.show()"
   ]
  },
  {
   "cell_type": "markdown",
   "metadata": {},
   "source": [
    "## Forgetting measure / BWT"
   ]
  },
  {
   "cell_type": "code",
   "execution_count": 121,
   "metadata": {},
   "outputs": [
    {
     "data": {
      "application/vnd.plotly.v1+json": {
       "config": {
        "plotlyServerURL": "https://plot.ly"
       },
       "data": [
        {
         "hovertemplate": "variable=Task0<br>index=%{x}<br>value=%{y}<extra></extra>",
         "legendgroup": "Task0",
         "line": {
          "color": "#636efa",
          "dash": "solid"
         },
         "marker": {
          "symbol": "circle"
         },
         "mode": "lines",
         "name": "Task0",
         "orientation": "v",
         "showlegend": true,
         "type": "scatter",
         "x": [
          0,
          1,
          2,
          3,
          4,
          5,
          6,
          7,
          8,
          9
         ],
         "xaxis": "x",
         "y": [
          null,
          0.023700000000000054,
          0.12929999999999997,
          0.15500000000000003,
          0.17769999999999997,
          0.2137,
          0.21540000000000004,
          0.2528,
          0.2673,
          0.2843
         ],
         "yaxis": "y"
        },
        {
         "hovertemplate": "variable=Task1<br>index=%{x}<br>value=%{y}<extra></extra>",
         "legendgroup": "Task1",
         "line": {
          "color": "#EF553B",
          "dash": "solid"
         },
         "marker": {
          "symbol": "circle"
         },
         "mode": "lines",
         "name": "Task1",
         "orientation": "v",
         "showlegend": true,
         "type": "scatter",
         "x": [
          0,
          1,
          2,
          3,
          4,
          5,
          6,
          7,
          8,
          9
         ],
         "xaxis": "x",
         "y": [
          null,
          null,
          0.026100000000000012,
          0.023900000000000032,
          0.02310000000000001,
          0.05059999999999998,
          0.059599999999999986,
          0.07400000000000007,
          0.10510000000000008,
          0.13690000000000002
         ],
         "yaxis": "y"
        },
        {
         "hovertemplate": "variable=Task2<br>index=%{x}<br>value=%{y}<extra></extra>",
         "legendgroup": "Task2",
         "line": {
          "color": "#00cc96",
          "dash": "solid"
         },
         "marker": {
          "symbol": "circle"
         },
         "mode": "lines",
         "name": "Task2",
         "orientation": "v",
         "showlegend": true,
         "type": "scatter",
         "x": [
          0,
          1,
          2,
          3,
          4,
          5,
          6,
          7,
          8,
          9
         ],
         "xaxis": "x",
         "y": [
          null,
          null,
          null,
          0.0044999999999999485,
          0.014900000000000024,
          0.04049999999999998,
          0.08589999999999998,
          0.09819999999999995,
          0.13380000000000003,
          0.1472
         ],
         "yaxis": "y"
        },
        {
         "hovertemplate": "variable=Task3<br>index=%{x}<br>value=%{y}<extra></extra>",
         "legendgroup": "Task3",
         "line": {
          "color": "#ab63fa",
          "dash": "solid"
         },
         "marker": {
          "symbol": "circle"
         },
         "mode": "lines",
         "name": "Task3",
         "orientation": "v",
         "showlegend": true,
         "type": "scatter",
         "x": [
          0,
          1,
          2,
          3,
          4,
          5,
          6,
          7,
          8,
          9
         ],
         "xaxis": "x",
         "y": [
          null,
          null,
          null,
          null,
          0.027000000000000024,
          0.023699999999999943,
          0.04420000000000002,
          0.05459999999999998,
          0.07679999999999998,
          0.0947
         ],
         "yaxis": "y"
        },
        {
         "hovertemplate": "variable=Task4<br>index=%{x}<br>value=%{y}<extra></extra>",
         "legendgroup": "Task4",
         "line": {
          "color": "#FFA15A",
          "dash": "solid"
         },
         "marker": {
          "symbol": "circle"
         },
         "mode": "lines",
         "name": "Task4",
         "orientation": "v",
         "showlegend": true,
         "type": "scatter",
         "x": [
          0,
          1,
          2,
          3,
          4,
          5,
          6,
          7,
          8,
          9
         ],
         "xaxis": "x",
         "y": [
          null,
          null,
          null,
          null,
          null,
          0.005400000000000071,
          0.033299999999999996,
          0.06130000000000002,
          0.06659999999999999,
          0.09920000000000007
         ],
         "yaxis": "y"
        },
        {
         "hovertemplate": "variable=Task5<br>index=%{x}<br>value=%{y}<extra></extra>",
         "legendgroup": "Task5",
         "line": {
          "color": "#19d3f3",
          "dash": "solid"
         },
         "marker": {
          "symbol": "circle"
         },
         "mode": "lines",
         "name": "Task5",
         "orientation": "v",
         "showlegend": true,
         "type": "scatter",
         "x": [
          0,
          1,
          2,
          3,
          4,
          5,
          6,
          7,
          8,
          9
         ],
         "xaxis": "x",
         "y": [
          null,
          null,
          null,
          null,
          null,
          null,
          0.027599999999999958,
          0.032299999999999995,
          0.07989999999999997,
          0.11219999999999997
         ],
         "yaxis": "y"
        },
        {
         "hovertemplate": "variable=Task6<br>index=%{x}<br>value=%{y}<extra></extra>",
         "legendgroup": "Task6",
         "line": {
          "color": "#FF6692",
          "dash": "solid"
         },
         "marker": {
          "symbol": "circle"
         },
         "mode": "lines",
         "name": "Task6",
         "orientation": "v",
         "showlegend": true,
         "type": "scatter",
         "x": [
          0,
          1,
          2,
          3,
          4,
          5,
          6,
          7,
          8,
          9
         ],
         "xaxis": "x",
         "y": [
          null,
          null,
          null,
          null,
          null,
          null,
          null,
          0.02650000000000008,
          0.022199999999999998,
          0.02949999999999997
         ],
         "yaxis": "y"
        },
        {
         "hovertemplate": "variable=Task7<br>index=%{x}<br>value=%{y}<extra></extra>",
         "legendgroup": "Task7",
         "line": {
          "color": "#B6E880",
          "dash": "solid"
         },
         "marker": {
          "symbol": "circle"
         },
         "mode": "lines",
         "name": "Task7",
         "orientation": "v",
         "showlegend": true,
         "type": "scatter",
         "x": [
          0,
          1,
          2,
          3,
          4,
          5,
          6,
          7,
          8,
          9
         ],
         "xaxis": "x",
         "y": [
          null,
          null,
          null,
          null,
          null,
          null,
          null,
          null,
          0.021100000000000008,
          0.03289999999999993
         ],
         "yaxis": "y"
        },
        {
         "hovertemplate": "variable=Task8<br>index=%{x}<br>value=%{y}<extra></extra>",
         "legendgroup": "Task8",
         "line": {
          "color": "#FF97FF",
          "dash": "solid"
         },
         "marker": {
          "symbol": "circle"
         },
         "mode": "lines",
         "name": "Task8",
         "orientation": "v",
         "showlegend": true,
         "type": "scatter",
         "x": [
          0,
          1,
          2,
          3,
          4,
          5,
          6,
          7,
          8,
          9
         ],
         "xaxis": "x",
         "y": [
          null,
          null,
          null,
          null,
          null,
          null,
          null,
          null,
          null,
          0.01970000000000005
         ],
         "yaxis": "y"
        },
        {
         "hovertemplate": "variable=Overall<br>index=%{x}<br>value=%{y}<extra></extra>",
         "legendgroup": "Overall",
         "line": {
          "color": "#FECB52",
          "dash": "solid"
         },
         "marker": {
          "symbol": "circle"
         },
         "mode": "lines",
         "name": "Overall",
         "orientation": "v",
         "showlegend": true,
         "type": "scatter",
         "x": [
          0,
          1,
          2,
          3,
          4,
          5,
          6,
          7,
          8,
          9
         ],
         "xaxis": "x",
         "y": [
          0,
          0.023700000000000054,
          0.07769999999999999,
          0.06113333333333334,
          0.06067500000000001,
          0.06677999999999999,
          0.07766666666666666,
          0.08567142857142859,
          0.0966,
          0.10628888888888889
         ],
         "yaxis": "y"
        }
       ],
       "layout": {
        "legend": {
         "title": {
          "text": "variable"
         },
         "tracegroupgap": 0
        },
        "template": {
         "data": {
          "bar": [
           {
            "error_x": {
             "color": "#2a3f5f"
            },
            "error_y": {
             "color": "#2a3f5f"
            },
            "marker": {
             "line": {
              "color": "#E5ECF6",
              "width": 0.5
             },
             "pattern": {
              "fillmode": "overlay",
              "size": 10,
              "solidity": 0.2
             }
            },
            "type": "bar"
           }
          ],
          "barpolar": [
           {
            "marker": {
             "line": {
              "color": "#E5ECF6",
              "width": 0.5
             },
             "pattern": {
              "fillmode": "overlay",
              "size": 10,
              "solidity": 0.2
             }
            },
            "type": "barpolar"
           }
          ],
          "carpet": [
           {
            "aaxis": {
             "endlinecolor": "#2a3f5f",
             "gridcolor": "white",
             "linecolor": "white",
             "minorgridcolor": "white",
             "startlinecolor": "#2a3f5f"
            },
            "baxis": {
             "endlinecolor": "#2a3f5f",
             "gridcolor": "white",
             "linecolor": "white",
             "minorgridcolor": "white",
             "startlinecolor": "#2a3f5f"
            },
            "type": "carpet"
           }
          ],
          "choropleth": [
           {
            "colorbar": {
             "outlinewidth": 0,
             "ticks": ""
            },
            "type": "choropleth"
           }
          ],
          "contour": [
           {
            "colorbar": {
             "outlinewidth": 0,
             "ticks": ""
            },
            "colorscale": [
             [
              0,
              "#0d0887"
             ],
             [
              0.1111111111111111,
              "#46039f"
             ],
             [
              0.2222222222222222,
              "#7201a8"
             ],
             [
              0.3333333333333333,
              "#9c179e"
             ],
             [
              0.4444444444444444,
              "#bd3786"
             ],
             [
              0.5555555555555556,
              "#d8576b"
             ],
             [
              0.6666666666666666,
              "#ed7953"
             ],
             [
              0.7777777777777778,
              "#fb9f3a"
             ],
             [
              0.8888888888888888,
              "#fdca26"
             ],
             [
              1,
              "#f0f921"
             ]
            ],
            "type": "contour"
           }
          ],
          "contourcarpet": [
           {
            "colorbar": {
             "outlinewidth": 0,
             "ticks": ""
            },
            "type": "contourcarpet"
           }
          ],
          "heatmap": [
           {
            "colorbar": {
             "outlinewidth": 0,
             "ticks": ""
            },
            "colorscale": [
             [
              0,
              "#0d0887"
             ],
             [
              0.1111111111111111,
              "#46039f"
             ],
             [
              0.2222222222222222,
              "#7201a8"
             ],
             [
              0.3333333333333333,
              "#9c179e"
             ],
             [
              0.4444444444444444,
              "#bd3786"
             ],
             [
              0.5555555555555556,
              "#d8576b"
             ],
             [
              0.6666666666666666,
              "#ed7953"
             ],
             [
              0.7777777777777778,
              "#fb9f3a"
             ],
             [
              0.8888888888888888,
              "#fdca26"
             ],
             [
              1,
              "#f0f921"
             ]
            ],
            "type": "heatmap"
           }
          ],
          "heatmapgl": [
           {
            "colorbar": {
             "outlinewidth": 0,
             "ticks": ""
            },
            "colorscale": [
             [
              0,
              "#0d0887"
             ],
             [
              0.1111111111111111,
              "#46039f"
             ],
             [
              0.2222222222222222,
              "#7201a8"
             ],
             [
              0.3333333333333333,
              "#9c179e"
             ],
             [
              0.4444444444444444,
              "#bd3786"
             ],
             [
              0.5555555555555556,
              "#d8576b"
             ],
             [
              0.6666666666666666,
              "#ed7953"
             ],
             [
              0.7777777777777778,
              "#fb9f3a"
             ],
             [
              0.8888888888888888,
              "#fdca26"
             ],
             [
              1,
              "#f0f921"
             ]
            ],
            "type": "heatmapgl"
           }
          ],
          "histogram": [
           {
            "marker": {
             "pattern": {
              "fillmode": "overlay",
              "size": 10,
              "solidity": 0.2
             }
            },
            "type": "histogram"
           }
          ],
          "histogram2d": [
           {
            "colorbar": {
             "outlinewidth": 0,
             "ticks": ""
            },
            "colorscale": [
             [
              0,
              "#0d0887"
             ],
             [
              0.1111111111111111,
              "#46039f"
             ],
             [
              0.2222222222222222,
              "#7201a8"
             ],
             [
              0.3333333333333333,
              "#9c179e"
             ],
             [
              0.4444444444444444,
              "#bd3786"
             ],
             [
              0.5555555555555556,
              "#d8576b"
             ],
             [
              0.6666666666666666,
              "#ed7953"
             ],
             [
              0.7777777777777778,
              "#fb9f3a"
             ],
             [
              0.8888888888888888,
              "#fdca26"
             ],
             [
              1,
              "#f0f921"
             ]
            ],
            "type": "histogram2d"
           }
          ],
          "histogram2dcontour": [
           {
            "colorbar": {
             "outlinewidth": 0,
             "ticks": ""
            },
            "colorscale": [
             [
              0,
              "#0d0887"
             ],
             [
              0.1111111111111111,
              "#46039f"
             ],
             [
              0.2222222222222222,
              "#7201a8"
             ],
             [
              0.3333333333333333,
              "#9c179e"
             ],
             [
              0.4444444444444444,
              "#bd3786"
             ],
             [
              0.5555555555555556,
              "#d8576b"
             ],
             [
              0.6666666666666666,
              "#ed7953"
             ],
             [
              0.7777777777777778,
              "#fb9f3a"
             ],
             [
              0.8888888888888888,
              "#fdca26"
             ],
             [
              1,
              "#f0f921"
             ]
            ],
            "type": "histogram2dcontour"
           }
          ],
          "mesh3d": [
           {
            "colorbar": {
             "outlinewidth": 0,
             "ticks": ""
            },
            "type": "mesh3d"
           }
          ],
          "parcoords": [
           {
            "line": {
             "colorbar": {
              "outlinewidth": 0,
              "ticks": ""
             }
            },
            "type": "parcoords"
           }
          ],
          "pie": [
           {
            "automargin": true,
            "type": "pie"
           }
          ],
          "scatter": [
           {
            "fillpattern": {
             "fillmode": "overlay",
             "size": 10,
             "solidity": 0.2
            },
            "type": "scatter"
           }
          ],
          "scatter3d": [
           {
            "line": {
             "colorbar": {
              "outlinewidth": 0,
              "ticks": ""
             }
            },
            "marker": {
             "colorbar": {
              "outlinewidth": 0,
              "ticks": ""
             }
            },
            "type": "scatter3d"
           }
          ],
          "scattercarpet": [
           {
            "marker": {
             "colorbar": {
              "outlinewidth": 0,
              "ticks": ""
             }
            },
            "type": "scattercarpet"
           }
          ],
          "scattergeo": [
           {
            "marker": {
             "colorbar": {
              "outlinewidth": 0,
              "ticks": ""
             }
            },
            "type": "scattergeo"
           }
          ],
          "scattergl": [
           {
            "marker": {
             "colorbar": {
              "outlinewidth": 0,
              "ticks": ""
             }
            },
            "type": "scattergl"
           }
          ],
          "scattermapbox": [
           {
            "marker": {
             "colorbar": {
              "outlinewidth": 0,
              "ticks": ""
             }
            },
            "type": "scattermapbox"
           }
          ],
          "scatterpolar": [
           {
            "marker": {
             "colorbar": {
              "outlinewidth": 0,
              "ticks": ""
             }
            },
            "type": "scatterpolar"
           }
          ],
          "scatterpolargl": [
           {
            "marker": {
             "colorbar": {
              "outlinewidth": 0,
              "ticks": ""
             }
            },
            "type": "scatterpolargl"
           }
          ],
          "scatterternary": [
           {
            "marker": {
             "colorbar": {
              "outlinewidth": 0,
              "ticks": ""
             }
            },
            "type": "scatterternary"
           }
          ],
          "surface": [
           {
            "colorbar": {
             "outlinewidth": 0,
             "ticks": ""
            },
            "colorscale": [
             [
              0,
              "#0d0887"
             ],
             [
              0.1111111111111111,
              "#46039f"
             ],
             [
              0.2222222222222222,
              "#7201a8"
             ],
             [
              0.3333333333333333,
              "#9c179e"
             ],
             [
              0.4444444444444444,
              "#bd3786"
             ],
             [
              0.5555555555555556,
              "#d8576b"
             ],
             [
              0.6666666666666666,
              "#ed7953"
             ],
             [
              0.7777777777777778,
              "#fb9f3a"
             ],
             [
              0.8888888888888888,
              "#fdca26"
             ],
             [
              1,
              "#f0f921"
             ]
            ],
            "type": "surface"
           }
          ],
          "table": [
           {
            "cells": {
             "fill": {
              "color": "#EBF0F8"
             },
             "line": {
              "color": "white"
             }
            },
            "header": {
             "fill": {
              "color": "#C8D4E3"
             },
             "line": {
              "color": "white"
             }
            },
            "type": "table"
           }
          ]
         },
         "layout": {
          "annotationdefaults": {
           "arrowcolor": "#2a3f5f",
           "arrowhead": 0,
           "arrowwidth": 1
          },
          "autotypenumbers": "strict",
          "coloraxis": {
           "colorbar": {
            "outlinewidth": 0,
            "ticks": ""
           }
          },
          "colorscale": {
           "diverging": [
            [
             0,
             "#8e0152"
            ],
            [
             0.1,
             "#c51b7d"
            ],
            [
             0.2,
             "#de77ae"
            ],
            [
             0.3,
             "#f1b6da"
            ],
            [
             0.4,
             "#fde0ef"
            ],
            [
             0.5,
             "#f7f7f7"
            ],
            [
             0.6,
             "#e6f5d0"
            ],
            [
             0.7,
             "#b8e186"
            ],
            [
             0.8,
             "#7fbc41"
            ],
            [
             0.9,
             "#4d9221"
            ],
            [
             1,
             "#276419"
            ]
           ],
           "sequential": [
            [
             0,
             "#0d0887"
            ],
            [
             0.1111111111111111,
             "#46039f"
            ],
            [
             0.2222222222222222,
             "#7201a8"
            ],
            [
             0.3333333333333333,
             "#9c179e"
            ],
            [
             0.4444444444444444,
             "#bd3786"
            ],
            [
             0.5555555555555556,
             "#d8576b"
            ],
            [
             0.6666666666666666,
             "#ed7953"
            ],
            [
             0.7777777777777778,
             "#fb9f3a"
            ],
            [
             0.8888888888888888,
             "#fdca26"
            ],
            [
             1,
             "#f0f921"
            ]
           ],
           "sequentialminus": [
            [
             0,
             "#0d0887"
            ],
            [
             0.1111111111111111,
             "#46039f"
            ],
            [
             0.2222222222222222,
             "#7201a8"
            ],
            [
             0.3333333333333333,
             "#9c179e"
            ],
            [
             0.4444444444444444,
             "#bd3786"
            ],
            [
             0.5555555555555556,
             "#d8576b"
            ],
            [
             0.6666666666666666,
             "#ed7953"
            ],
            [
             0.7777777777777778,
             "#fb9f3a"
            ],
            [
             0.8888888888888888,
             "#fdca26"
            ],
            [
             1,
             "#f0f921"
            ]
           ]
          },
          "colorway": [
           "#636efa",
           "#EF553B",
           "#00cc96",
           "#ab63fa",
           "#FFA15A",
           "#19d3f3",
           "#FF6692",
           "#B6E880",
           "#FF97FF",
           "#FECB52"
          ],
          "font": {
           "color": "#2a3f5f"
          },
          "geo": {
           "bgcolor": "white",
           "lakecolor": "white",
           "landcolor": "#E5ECF6",
           "showlakes": true,
           "showland": true,
           "subunitcolor": "white"
          },
          "hoverlabel": {
           "align": "left"
          },
          "hovermode": "closest",
          "mapbox": {
           "style": "light"
          },
          "paper_bgcolor": "white",
          "plot_bgcolor": "#E5ECF6",
          "polar": {
           "angularaxis": {
            "gridcolor": "white",
            "linecolor": "white",
            "ticks": ""
           },
           "bgcolor": "#E5ECF6",
           "radialaxis": {
            "gridcolor": "white",
            "linecolor": "white",
            "ticks": ""
           }
          },
          "scene": {
           "xaxis": {
            "backgroundcolor": "#E5ECF6",
            "gridcolor": "white",
            "gridwidth": 2,
            "linecolor": "white",
            "showbackground": true,
            "ticks": "",
            "zerolinecolor": "white"
           },
           "yaxis": {
            "backgroundcolor": "#E5ECF6",
            "gridcolor": "white",
            "gridwidth": 2,
            "linecolor": "white",
            "showbackground": true,
            "ticks": "",
            "zerolinecolor": "white"
           },
           "zaxis": {
            "backgroundcolor": "#E5ECF6",
            "gridcolor": "white",
            "gridwidth": 2,
            "linecolor": "white",
            "showbackground": true,
            "ticks": "",
            "zerolinecolor": "white"
           }
          },
          "shapedefaults": {
           "line": {
            "color": "#2a3f5f"
           }
          },
          "ternary": {
           "aaxis": {
            "gridcolor": "white",
            "linecolor": "white",
            "ticks": ""
           },
           "baxis": {
            "gridcolor": "white",
            "linecolor": "white",
            "ticks": ""
           },
           "bgcolor": "#E5ECF6",
           "caxis": {
            "gridcolor": "white",
            "linecolor": "white",
            "ticks": ""
           }
          },
          "title": {
           "x": 0.05
          },
          "xaxis": {
           "automargin": true,
           "gridcolor": "white",
           "linecolor": "white",
           "ticks": "",
           "title": {
            "standoff": 15
           },
           "zerolinecolor": "white",
           "zerolinewidth": 2
          },
          "yaxis": {
           "automargin": true,
           "gridcolor": "white",
           "linecolor": "white",
           "ticks": "",
           "title": {
            "standoff": 15
           },
           "zerolinecolor": "white",
           "zerolinewidth": 2
          }
         }
        },
        "title": {
         "text": "Forgetting vs Task"
        },
        "xaxis": {
         "anchor": "y",
         "domain": [
          0,
          1
         ],
         "title": {
          "text": "index"
         }
        },
        "yaxis": {
         "anchor": "x",
         "domain": [
          0,
          1
         ],
         "title": {
          "text": "value"
         }
        }
       }
      }
     },
     "metadata": {},
     "output_type": "display_data"
    }
   ],
   "source": [
    "from copy import deepcopy\n",
    "# transform forgetting_measures dict into df\n",
    "# but first, we need to make sure that all lists have the same length\n",
    "max_len = max(map(len, forgetting_measures.values()))\n",
    "forgetting_measures_tmp = deepcopy(forgetting_measures)\n",
    "forgetting_measures_tmp = {k: [None] * (max_len - len(v)) + v for k, v in forgetting_measures_tmp.items()}\n",
    "\n",
    "forgetting_df = pd.DataFrame(forgetting_measures_tmp)\n",
    "forgetting_df.index = range(10)\n",
    "\n",
    "fig = px.line(forgetting_df, x=forgetting_df.index, y=forgetting_df.columns, title=\"Forgetting vs Task\")\n",
    "fig.show()"
   ]
  },
  {
   "cell_type": "markdown",
   "metadata": {},
   "source": [
    "# Store metrics"
   ]
  },
  {
   "cell_type": "code",
   "execution_count": 122,
   "metadata": {},
   "outputs": [],
   "source": [
    "pickle.dump(eval_plugin.get_all_metrics(), open(SAVED_METRICS_PATH / \"mwun.pkl\", \"wb\"))"
   ]
  },
  {
   "cell_type": "markdown",
   "metadata": {},
   "source": [
    "# Store weights"
   ]
  },
  {
   "cell_type": "code",
   "execution_count": 124,
   "metadata": {},
   "outputs": [],
   "source": [
    "pickle.dump(model_plugins[0].weights, open(SAVED_METRICS_PATH / \"mwun_weights.pkl\", \"wb\"))"
   ]
  }
 ],
 "metadata": {
  "kernelspec": {
   "display_name": "tt2",
   "language": "python",
   "name": "python3"
  },
  "language_info": {
   "codemirror_mode": {
    "name": "ipython",
    "version": 3
   },
   "file_extension": ".py",
   "mimetype": "text/x-python",
   "name": "python",
   "nbconvert_exporter": "python",
   "pygments_lexer": "ipython3",
   "version": "3.9.18"
  }
 },
 "nbformat": 4,
 "nbformat_minor": 2
}
