{
 "cells": [
  {
   "cell_type": "code",
   "execution_count": 1,
   "metadata": {},
   "outputs": [],
   "source": [
    "%load_ext autoreload\n",
    "%autoreload 2"
   ]
  },
  {
   "cell_type": "markdown",
   "metadata": {},
   "source": [
    "# Libraries"
   ]
  },
  {
   "cell_type": "code",
   "execution_count": 2,
   "metadata": {},
   "outputs": [],
   "source": [
    "import pickle\n",
    "from torchvision.transforms import Compose, ToTensor\n",
    "import pandas as pd\n",
    "import plotly.express as px\n",
    "from tqdm import tqdm"
   ]
  },
  {
   "cell_type": "code",
   "execution_count": 3,
   "metadata": {},
   "outputs": [
    {
     "name": "stderr",
     "output_type": "stream",
     "text": [
      "/Users/jesusoyanedelespinoza/.pyenv/versions/3.9.18/envs/tt2/lib/python3.9/site-packages/tqdm/auto.py:21: TqdmWarning: IProgress not found. Please update jupyter and ipywidgets. See https://ipywidgets.readthedocs.io/en/stable/user_install.html\n",
      "  from .autonotebook import tqdm as notebook_tqdm\n"
     ]
    }
   ],
   "source": [
    "from avalanche.benchmarks.classic import PermutedMNIST\n",
    "from avalanche.models import SimpleMLP\n",
    "from avalanche.training.plugins import EvaluationPlugin\n",
    "from avalanche.logging import InteractiveLogger\n",
    "from avalanche.evaluation.metrics import accuracy_metrics, forgetting_metrics, bwt_metrics, timing_metrics, cpu_usage_metrics, ram_usage_metrics\n",
    "\n",
    "\n",
    "from torch.nn import CrossEntropyLoss\n",
    "from torch.optim import SGD"
   ]
  },
  {
   "cell_type": "markdown",
   "metadata": {},
   "source": [
    "## Custom Libraries"
   ]
  },
  {
   "cell_type": "code",
   "execution_count": 4,
   "metadata": {},
   "outputs": [],
   "source": [
    "import sys\n",
    "sys.path.append(\"../base_code/\")\n",
    "\n",
    "from base_code.constants import DATASETS_PATH, SAVED_METRICS_PATH\n",
    "from base_code.training import CTSV1\n",
    "from base_code.plugins import WeightStoragePlugin"
   ]
  },
  {
   "cell_type": "markdown",
   "metadata": {},
   "source": [
    "# Dataset and definitions"
   ]
  },
  {
   "cell_type": "markdown",
   "metadata": {},
   "source": [
    "## Dataset loading\n",
    "\n",
    "We load state-of-the-art dataset Modified NIST"
   ]
  },
  {
   "cell_type": "code",
   "execution_count": 5,
   "metadata": {},
   "outputs": [],
   "source": [
    "scenario = PermutedMNIST(10, seed=1234, dataset_root=DATASETS_PATH)"
   ]
  },
  {
   "cell_type": "markdown",
   "metadata": {},
   "source": [
    "## Scenario creation with train test streaming\n",
    "\n",
    "In this point, we define our scenario considering a training where in every experience of it, a new class is presented. This is, first we train with a class $a$, the following experience we train with class $b$ ($a \\neq b$)"
   ]
  },
  {
   "cell_type": "code",
   "execution_count": 10,
   "metadata": {},
   "outputs": [],
   "source": [
    "train_stream = scenario.train_stream\n",
    "test_stream = scenario.test_stream"
   ]
  },
  {
   "cell_type": "markdown",
   "metadata": {},
   "source": [
    "## Evaluation metrics definition"
   ]
  },
  {
   "cell_type": "code",
   "execution_count": 12,
   "metadata": {},
   "outputs": [],
   "source": [
    "eval_plugin = EvaluationPlugin(\n",
    "    accuracy_metrics(experience=True, stream=True, trained_experience=True),\n",
    "    forgetting_metrics(experience=True, stream=True),\n",
    "    bwt_metrics(experience=True, stream=True),\n",
    "    timing_metrics(epoch=True, epoch_running=True),\n",
    "    cpu_usage_metrics(experience=True, stream=True),\n",
    "    ram_usage_metrics(experience=True, stream=True),\n",
    "    loggers=[InteractiveLogger()]\n",
    ")"
   ]
  },
  {
   "cell_type": "markdown",
   "metadata": {},
   "source": [
    "## Plugins definitions"
   ]
  },
  {
   "cell_type": "code",
   "execution_count": 13,
   "metadata": {},
   "outputs": [],
   "source": [
    "model_plugins = [\n",
    "    WeightStoragePlugin()\n",
    "]"
   ]
  },
  {
   "cell_type": "markdown",
   "metadata": {},
   "source": [
    "## Model, Optimizer, Loss function and Strategy definition\n",
    "\n",
    "* `model`: Multi Layer Perceptron\n",
    "* `Optimizer`: Adam\n",
    "* `Loss function`: Cross Entropy\n",
    "* `Strategy`: Elastic Weight Consolidation"
   ]
  },
  {
   "cell_type": "code",
   "execution_count": 14,
   "metadata": {},
   "outputs": [
    {
     "name": "stdout",
     "output_type": "stream",
     "text": [
      " 75%|███████▍  | 351/469 [00:19<00:00, 122.70it/s]"
     ]
    }
   ],
   "source": [
    "# model = MLP(n_classes=scenario.n_classes, n_channels=1, width=28, height=28)\n",
    "model = SimpleMLP(num_classes=scenario.n_classes, input_size=28*28, hidden_layers=2, hidden_size=100, drop_rate=0)\n",
    "optimizer = SGD(model.parameters(), lr=1e-3)\n",
    "criterion = CrossEntropyLoss()\n",
    "strategy = CTSV1(\n",
    "    model,\n",
    "    optimizer,\n",
    "    criterion,\n",
    "    lambda_l1=1.0, lambda_l2=1e-2, eps=1e-5,\n",
    "    train_epochs=5, train_mb_size=256, eval_mb_size=128,\n",
    "    plugins=model_plugins,\n",
    "    evaluator=eval_plugin,\n",
    ")"
   ]
  },
  {
   "cell_type": "markdown",
   "metadata": {},
   "source": [
    "# Training and evaluation\n",
    "\n",
    "Revisar porque el entrenamiento se está comportando de forma rara"
   ]
  },
  {
   "cell_type": "code",
   "execution_count": 15,
   "metadata": {},
   "outputs": [
    {
     "name": "stderr",
     "output_type": "stream",
     "text": []
    },
    {
     "name": "stdout",
     "output_type": "stream",
     "text": [
      "-- >> Start of training phase << --\n",
      "100%|██████████| 235/235 [00:04<00:00, 58.67it/s]\n",
      "Epoch 0 ended.\n",
      "\tRunningTime_Epoch/train_phase/train_stream/Task000 = 0.0001\n",
      "\tTime_Epoch/train_phase/train_stream/Task000 = 4.0059\n",
      "100%|██████████| 235/235 [00:03<00:00, 59.99it/s]\n",
      "Epoch 1 ended.\n",
      "\tRunningTime_Epoch/train_phase/train_stream/Task000 = 0.0001\n",
      "\tTime_Epoch/train_phase/train_stream/Task000 = 3.9173\n",
      "100%|██████████| 235/235 [00:03<00:00, 60.59it/s]\n",
      "Epoch 2 ended.\n",
      "\tRunningTime_Epoch/train_phase/train_stream/Task000 = 0.0001\n",
      "\tTime_Epoch/train_phase/train_stream/Task000 = 3.8794\n",
      "100%|██████████| 235/235 [00:03<00:00, 60.82it/s]\n",
      "Epoch 3 ended.\n",
      "\tRunningTime_Epoch/train_phase/train_stream/Task000 = 0.0001\n",
      "\tTime_Epoch/train_phase/train_stream/Task000 = 3.8639\n",
      "100%|██████████| 235/235 [00:04<00:00, 57.93it/s]\n",
      "Epoch 4 ended.\n",
      "\tRunningTime_Epoch/train_phase/train_stream/Task000 = 0.0001\n",
      "\tTime_Epoch/train_phase/train_stream/Task000 = 4.0570\n",
      "-- >> End of training phase << --\n",
      "-- >> Start of eval phase << --\n",
      "-- Starting eval on experience 0 (Task 0) from train stream --\n",
      "100%|██████████| 469/469 [00:03<00:00, 120.28it/s]\n",
      "> Eval on experience 0 (Task 0) from train stream ended.\n",
      "\tCPUUsage_Exp/eval_phase/train_stream/Task000/Exp000 = 106.6832\n",
      "\tMaxRAMUsage_Experience/eval_phase/train_stream/Task000/Exp000 = 187.9844\n",
      "\tTop1_Acc_Exp/eval_phase/train_stream/Task000/Exp000 = 0.6953\n",
      "-- Starting eval on experience 1 (Task 0) from train stream --\n",
      "100%|██████████| 469/469 [00:03<00:00, 120.41it/s]\n",
      "> Eval on experience 1 (Task 0) from train stream ended.\n",
      "\tCPUUsage_Exp/eval_phase/train_stream/Task000/Exp001 = 105.7222\n",
      "\tMaxRAMUsage_Experience/eval_phase/train_stream/Task000/Exp001 = 189.7656\n",
      "\tTop1_Acc_Exp/eval_phase/train_stream/Task000/Exp001 = 0.1912\n",
      "-- Starting eval on experience 2 (Task 0) from train stream --\n",
      "100%|██████████| 469/469 [00:03<00:00, 119.25it/s]\n",
      "> Eval on experience 2 (Task 0) from train stream ended.\n",
      "\tCPUUsage_Exp/eval_phase/train_stream/Task000/Exp002 = 105.5963\n",
      "\tMaxRAMUsage_Experience/eval_phase/train_stream/Task000/Exp002 = 193.0625\n",
      "\tTop1_Acc_Exp/eval_phase/train_stream/Task000/Exp002 = 0.1576\n",
      "-- Starting eval on experience 3 (Task 0) from train stream --\n",
      "100%|██████████| 469/469 [00:03<00:00, 118.81it/s]\n",
      "> Eval on experience 3 (Task 0) from train stream ended.\n",
      "\tCPUUsage_Exp/eval_phase/train_stream/Task000/Exp003 = 105.4593\n",
      "\tMaxRAMUsage_Experience/eval_phase/train_stream/Task000/Exp003 = 188.2344\n",
      "\tTop1_Acc_Exp/eval_phase/train_stream/Task000/Exp003 = 0.2003\n",
      "-- Starting eval on experience 4 (Task 0) from train stream --\n",
      "100%|██████████| 469/469 [00:03<00:00, 118.71it/s]\n",
      "> Eval on experience 4 (Task 0) from train stream ended.\n",
      "\tCPUUsage_Exp/eval_phase/train_stream/Task000/Exp004 = 105.4325\n",
      "\tMaxRAMUsage_Experience/eval_phase/train_stream/Task000/Exp004 = 185.3281\n",
      "\tTop1_Acc_Exp/eval_phase/train_stream/Task000/Exp004 = 0.1305\n",
      "-- Starting eval on experience 5 (Task 0) from train stream --\n",
      "100%|██████████| 469/469 [00:04<00:00, 116.00it/s]\n",
      "> Eval on experience 5 (Task 0) from train stream ended.\n",
      "\tCPUUsage_Exp/eval_phase/train_stream/Task000/Exp005 = 104.1913\n",
      "\tMaxRAMUsage_Experience/eval_phase/train_stream/Task000/Exp005 = 169.1719\n",
      "\tTop1_Acc_Exp/eval_phase/train_stream/Task000/Exp005 = 0.1305\n",
      "-- Starting eval on experience 6 (Task 0) from train stream --\n",
      "100%|██████████| 469/469 [00:03<00:00, 120.19it/s]\n",
      "> Eval on experience 6 (Task 0) from train stream ended.\n",
      "\tCPUUsage_Exp/eval_phase/train_stream/Task000/Exp006 = 105.5783\n",
      "\tMaxRAMUsage_Experience/eval_phase/train_stream/Task000/Exp006 = 172.2500\n",
      "\tTop1_Acc_Exp/eval_phase/train_stream/Task000/Exp006 = 0.1864\n",
      "-- Starting eval on experience 7 (Task 0) from train stream --\n",
      "100%|██████████| 469/469 [00:03<00:00, 121.40it/s]\n",
      "> Eval on experience 7 (Task 0) from train stream ended.\n",
      "\tCPUUsage_Exp/eval_phase/train_stream/Task000/Exp007 = 105.6467\n",
      "\tMaxRAMUsage_Experience/eval_phase/train_stream/Task000/Exp007 = 172.1719\n",
      "\tTop1_Acc_Exp/eval_phase/train_stream/Task000/Exp007 = 0.1596\n",
      "-- Starting eval on experience 8 (Task 0) from train stream --\n",
      "100%|██████████| 469/469 [00:03<00:00, 119.90it/s]\n",
      "> Eval on experience 8 (Task 0) from train stream ended.\n",
      "\tCPUUsage_Exp/eval_phase/train_stream/Task000/Exp008 = 105.1236\n",
      "\tMaxRAMUsage_Experience/eval_phase/train_stream/Task000/Exp008 = 174.1094\n",
      "\tTop1_Acc_Exp/eval_phase/train_stream/Task000/Exp008 = 0.1619\n",
      "-- Starting eval on experience 9 (Task 0) from train stream --\n",
      "100%|██████████| 469/469 [00:03<00:00, 119.19it/s]\n",
      "> Eval on experience 9 (Task 0) from train stream ended.\n",
      "\tCPUUsage_Exp/eval_phase/train_stream/Task000/Exp009 = 104.8793\n",
      "\tMaxRAMUsage_Experience/eval_phase/train_stream/Task000/Exp009 = 174.4844\n",
      "\tTop1_Acc_Exp/eval_phase/train_stream/Task000/Exp009 = 0.1951\n",
      "-- >> End of eval phase << --\n",
      "\tAccuracy_On_Trained_Experiences/eval_phase/train_stream/Task000 = 0.6953\n",
      "\tCPUUsage_Stream/eval_phase/train_stream/Task000 = 105.4153\n",
      "\tMaxRAMUsage_Stream/eval_phase/train_stream/Task000 = 193.0625\n",
      "\tStreamBWT/eval_phase/train_stream = 0.0000\n",
      "\tStreamForgetting/eval_phase/train_stream = 0.0000\n",
      "\tTop1_Acc_Stream/eval_phase/train_stream/Task000 = 0.2208\n",
      "-- >> Start of eval phase << --\n",
      "-- Starting eval on experience 0 (Task 0) from test stream --\n",
      "100%|██████████| 79/79 [00:00<00:00, 117.69it/s]\n",
      "> Eval on experience 0 (Task 0) from test stream ended.\n",
      "\tCPUUsage_Exp/eval_phase/test_stream/Task000/Exp000 = 106.8626\n",
      "\tMaxRAMUsage_Experience/eval_phase/test_stream/Task000/Exp000 = 0\n",
      "\tTop1_Acc_Exp/eval_phase/test_stream/Task000/Exp000 = 0.7041\n",
      "-- Starting eval on experience 1 (Task 0) from test stream --\n",
      "100%|██████████| 79/79 [00:00<00:00, 117.81it/s]\n",
      "> Eval on experience 1 (Task 0) from test stream ended.\n",
      "\tCPUUsage_Exp/eval_phase/test_stream/Task000/Exp001 = 104.3833\n",
      "\tMaxRAMUsage_Experience/eval_phase/test_stream/Task000/Exp001 = 185.4219\n",
      "\tTop1_Acc_Exp/eval_phase/test_stream/Task000/Exp001 = 0.1870\n",
      "-- Starting eval on experience 2 (Task 0) from test stream --\n",
      "100%|██████████| 79/79 [00:00<00:00, 123.20it/s]\n",
      "> Eval on experience 2 (Task 0) from test stream ended.\n",
      "\tCPUUsage_Exp/eval_phase/test_stream/Task000/Exp002 = 106.8045\n",
      "\tMaxRAMUsage_Experience/eval_phase/test_stream/Task000/Exp002 = 0\n",
      "\tTop1_Acc_Exp/eval_phase/test_stream/Task000/Exp002 = 0.1590\n",
      "-- Starting eval on experience 3 (Task 0) from test stream --\n",
      "100%|██████████| 79/79 [00:00<00:00, 117.44it/s]\n",
      "> Eval on experience 3 (Task 0) from test stream ended.\n",
      "\tCPUUsage_Exp/eval_phase/test_stream/Task000/Exp003 = 104.2029\n",
      "\tMaxRAMUsage_Experience/eval_phase/test_stream/Task000/Exp003 = 185.7812\n",
      "\tTop1_Acc_Exp/eval_phase/test_stream/Task000/Exp003 = 0.2079\n",
      "-- Starting eval on experience 4 (Task 0) from test stream --\n",
      "100%|██████████| 79/79 [00:00<00:00, 121.64it/s]\n",
      "> Eval on experience 4 (Task 0) from test stream ended.\n",
      "\tCPUUsage_Exp/eval_phase/test_stream/Task000/Exp004 = 106.5558\n",
      "\tMaxRAMUsage_Experience/eval_phase/test_stream/Task000/Exp004 = 187.2344\n",
      "\tTop1_Acc_Exp/eval_phase/test_stream/Task000/Exp004 = 0.1253\n",
      "-- Starting eval on experience 5 (Task 0) from test stream --\n",
      "100%|██████████| 79/79 [00:00<00:00, 119.02it/s]\n",
      "> Eval on experience 5 (Task 0) from test stream ended.\n",
      "\tCPUUsage_Exp/eval_phase/test_stream/Task000/Exp005 = 103.4971\n",
      "\tMaxRAMUsage_Experience/eval_phase/test_stream/Task000/Exp005 = 0\n",
      "\tTop1_Acc_Exp/eval_phase/test_stream/Task000/Exp005 = 0.1344\n",
      "-- Starting eval on experience 6 (Task 0) from test stream --\n",
      "100%|██████████| 79/79 [00:00<00:00, 126.43it/s]\n",
      "> Eval on experience 6 (Task 0) from test stream ended.\n",
      "\tCPUUsage_Exp/eval_phase/test_stream/Task000/Exp006 = 106.3139\n",
      "\tMaxRAMUsage_Experience/eval_phase/test_stream/Task000/Exp006 = 187.7344\n",
      "\tTop1_Acc_Exp/eval_phase/test_stream/Task000/Exp006 = 0.1927\n",
      "-- Starting eval on experience 7 (Task 0) from test stream --\n",
      "100%|██████████| 79/79 [00:00<00:00, 118.28it/s]\n",
      "> Eval on experience 7 (Task 0) from test stream ended.\n",
      "\tCPUUsage_Exp/eval_phase/test_stream/Task000/Exp007 = 104.0346\n",
      "\tMaxRAMUsage_Experience/eval_phase/test_stream/Task000/Exp007 = 188.3594\n",
      "\tTop1_Acc_Exp/eval_phase/test_stream/Task000/Exp007 = 0.1588\n",
      "-- Starting eval on experience 8 (Task 0) from test stream --\n",
      "100%|██████████| 79/79 [00:00<00:00, 120.96it/s]\n",
      "> Eval on experience 8 (Task 0) from test stream ended.\n",
      "\tCPUUsage_Exp/eval_phase/test_stream/Task000/Exp008 = 106.2702\n",
      "\tMaxRAMUsage_Experience/eval_phase/test_stream/Task000/Exp008 = 0\n",
      "\tTop1_Acc_Exp/eval_phase/test_stream/Task000/Exp008 = 0.1683\n",
      "-- Starting eval on experience 9 (Task 0) from test stream --\n",
      "100%|██████████| 79/79 [00:00<00:00, 119.86it/s]\n",
      "> Eval on experience 9 (Task 0) from test stream ended.\n",
      "\tCPUUsage_Exp/eval_phase/test_stream/Task000/Exp009 = 104.3909\n",
      "\tMaxRAMUsage_Experience/eval_phase/test_stream/Task000/Exp009 = 189.5156\n",
      "\tTop1_Acc_Exp/eval_phase/test_stream/Task000/Exp009 = 0.1974\n"
     ]
    },
    {
     "name": "stderr",
     "output_type": "stream",
     "text": []
    },
    {
     "name": "stdout",
     "output_type": "stream",
     "text": [
      "-- >> End of eval phase << --\n",
      "\tAccuracy_On_Trained_Experiences/eval_phase/test_stream/Task000 = 0.7041\n",
      "\tCPUUsage_Stream/eval_phase/test_stream/Task000 = 105.2933\n",
      "\tMaxRAMUsage_Stream/eval_phase/test_stream/Task000 = 189.5156\n",
      "\tStreamBWT/eval_phase/test_stream = 0.0000\n",
      "\tStreamForgetting/eval_phase/test_stream = 0.0000\n",
      "\tTop1_Acc_Stream/eval_phase/test_stream/Task000 = 0.2235\n",
      "-- >> Start of training phase << --\n",
      "100%|██████████| 235/235 [00:04<00:00, 58.63it/s]\n",
      "Epoch 0 ended.\n",
      "\tRunningTime_Epoch/train_phase/train_stream/Task000 = 0.0001\n",
      "\tTime_Epoch/train_phase/train_stream/Task000 = 4.0092\n",
      "100%|██████████| 235/235 [00:04<00:00, 58.17it/s]\n",
      "Epoch 1 ended.\n",
      "\tRunningTime_Epoch/train_phase/train_stream/Task000 = 0.0001\n",
      "\tTime_Epoch/train_phase/train_stream/Task000 = 4.0402\n",
      "100%|██████████| 235/235 [00:03<00:00, 60.37it/s]\n",
      "Epoch 2 ended.\n",
      "\tRunningTime_Epoch/train_phase/train_stream/Task000 = 0.0001\n",
      "\tTime_Epoch/train_phase/train_stream/Task000 = 3.8926\n",
      "100%|██████████| 235/235 [00:03<00:00, 60.69it/s]\n",
      "Epoch 3 ended.\n",
      "\tRunningTime_Epoch/train_phase/train_stream/Task000 = 0.0001\n",
      "\tTime_Epoch/train_phase/train_stream/Task000 = 3.8723\n",
      "100%|██████████| 235/235 [00:03<00:00, 60.55it/s]\n",
      "Epoch 4 ended.\n",
      "\tRunningTime_Epoch/train_phase/train_stream/Task000 = 0.0001\n",
      "\tTime_Epoch/train_phase/train_stream/Task000 = 3.8814\n",
      "-- >> End of training phase << --\n",
      "-- >> Start of eval phase << --\n",
      "-- Starting eval on experience 0 (Task 0) from train stream --\n",
      "100%|██████████| 469/469 [00:03<00:00, 124.96it/s]\n",
      "> Eval on experience 0 (Task 0) from train stream ended.\n",
      "\tCPUUsage_Exp/eval_phase/train_stream/Task000/Exp000 = 106.6949\n",
      "\tExperienceBWT/eval_phase/train_stream/Task000/Exp000 = -0.0777\n",
      "\tExperienceForgetting/eval_phase/train_stream/Task000/Exp000 = 0.0777\n",
      "\tMaxRAMUsage_Experience/eval_phase/train_stream/Task000/Exp000 = 423.0938\n",
      "\tTop1_Acc_Exp/eval_phase/train_stream/Task000/Exp000 = 0.6263\n",
      "-- Starting eval on experience 1 (Task 0) from train stream --\n",
      "100%|██████████| 469/469 [00:03<00:00, 123.95it/s]\n",
      "> Eval on experience 1 (Task 0) from train stream ended.\n",
      "\tCPUUsage_Exp/eval_phase/train_stream/Task000/Exp001 = 106.1751\n",
      "\tMaxRAMUsage_Experience/eval_phase/train_stream/Task000/Exp001 = 423.1094\n",
      "\tTop1_Acc_Exp/eval_phase/train_stream/Task000/Exp001 = 0.7246\n",
      "-- Starting eval on experience 2 (Task 0) from train stream --\n",
      "100%|██████████| 469/469 [00:03<00:00, 124.75it/s]\n",
      "> Eval on experience 2 (Task 0) from train stream ended.\n",
      "\tCPUUsage_Exp/eval_phase/train_stream/Task000/Exp002 = 105.6073\n",
      "\tMaxRAMUsage_Experience/eval_phase/train_stream/Task000/Exp002 = 422.8438\n",
      "\tTop1_Acc_Exp/eval_phase/train_stream/Task000/Exp002 = 0.1911\n",
      "-- Starting eval on experience 3 (Task 0) from train stream --\n",
      "100%|██████████| 469/469 [00:03<00:00, 122.10it/s]\n",
      "> Eval on experience 3 (Task 0) from train stream ended.\n",
      "\tCPUUsage_Exp/eval_phase/train_stream/Task000/Exp003 = 105.5369\n",
      "\tMaxRAMUsage_Experience/eval_phase/train_stream/Task000/Exp003 = 416.4375\n",
      "\tTop1_Acc_Exp/eval_phase/train_stream/Task000/Exp003 = 0.2382\n",
      "-- Starting eval on experience 4 (Task 0) from train stream --\n",
      "100%|██████████| 469/469 [00:03<00:00, 124.76it/s]\n",
      "> Eval on experience 4 (Task 0) from train stream ended.\n",
      "\tCPUUsage_Exp/eval_phase/train_stream/Task000/Exp004 = 105.8032\n",
      "\tMaxRAMUsage_Experience/eval_phase/train_stream/Task000/Exp004 = 391.1719\n",
      "\tTop1_Acc_Exp/eval_phase/train_stream/Task000/Exp004 = 0.1952\n",
      "-- Starting eval on experience 5 (Task 0) from train stream --\n",
      "100%|██████████| 469/469 [00:03<00:00, 124.26it/s]\n",
      "> Eval on experience 5 (Task 0) from train stream ended.\n",
      "\tCPUUsage_Exp/eval_phase/train_stream/Task000/Exp005 = 105.4540\n",
      "\tMaxRAMUsage_Experience/eval_phase/train_stream/Task000/Exp005 = 391.7344\n",
      "\tTop1_Acc_Exp/eval_phase/train_stream/Task000/Exp005 = 0.1643\n",
      "-- Starting eval on experience 6 (Task 0) from train stream --\n",
      "100%|██████████| 469/469 [00:03<00:00, 125.01it/s]\n",
      "> Eval on experience 6 (Task 0) from train stream ended.\n",
      "\tCPUUsage_Exp/eval_phase/train_stream/Task000/Exp006 = 105.5152\n",
      "\tMaxRAMUsage_Experience/eval_phase/train_stream/Task000/Exp006 = 378.4688\n",
      "\tTop1_Acc_Exp/eval_phase/train_stream/Task000/Exp006 = 0.2255\n",
      "-- Starting eval on experience 7 (Task 0) from train stream --\n",
      "100%|██████████| 469/469 [00:03<00:00, 124.97it/s]\n",
      "> Eval on experience 7 (Task 0) from train stream ended.\n",
      "\tCPUUsage_Exp/eval_phase/train_stream/Task000/Exp007 = 105.5222\n",
      "\tMaxRAMUsage_Experience/eval_phase/train_stream/Task000/Exp007 = 378.7656\n",
      "\tTop1_Acc_Exp/eval_phase/train_stream/Task000/Exp007 = 0.1622\n",
      "-- Starting eval on experience 8 (Task 0) from train stream --\n",
      "100%|██████████| 469/469 [00:03<00:00, 124.74it/s]\n",
      "> Eval on experience 8 (Task 0) from train stream ended.\n",
      "\tCPUUsage_Exp/eval_phase/train_stream/Task000/Exp008 = 105.3319\n",
      "\tMaxRAMUsage_Experience/eval_phase/train_stream/Task000/Exp008 = 380.8906\n",
      "\tTop1_Acc_Exp/eval_phase/train_stream/Task000/Exp008 = 0.1974\n",
      "-- Starting eval on experience 9 (Task 0) from train stream --\n",
      "100%|██████████| 469/469 [00:03<00:00, 124.80it/s]\n",
      "> Eval on experience 9 (Task 0) from train stream ended.\n",
      "\tCPUUsage_Exp/eval_phase/train_stream/Task000/Exp009 = 105.4352\n",
      "\tMaxRAMUsage_Experience/eval_phase/train_stream/Task000/Exp009 = 380.1094\n",
      "\tTop1_Acc_Exp/eval_phase/train_stream/Task000/Exp009 = 0.2249\n",
      "-- >> End of eval phase << --\n",
      "\tAccuracy_On_Trained_Experiences/eval_phase/train_stream/Task000 = 0.6755\n",
      "\tCPUUsage_Stream/eval_phase/train_stream/Task000 = 105.6981\n",
      "\tMaxRAMUsage_Stream/eval_phase/train_stream/Task000 = 423.1094\n",
      "\tStreamBWT/eval_phase/train_stream = -0.0777\n",
      "\tStreamForgetting/eval_phase/train_stream = 0.0777\n",
      "\tTop1_Acc_Stream/eval_phase/train_stream/Task000 = 0.2950\n",
      "-- >> Start of eval phase << --\n",
      "-- Starting eval on experience 0 (Task 0) from test stream --\n",
      "100%|██████████| 79/79 [00:00<00:00, 116.65it/s]\n",
      "> Eval on experience 0 (Task 0) from test stream ended.\n",
      "\tCPUUsage_Exp/eval_phase/test_stream/Task000/Exp000 = 105.6216\n",
      "\tExperienceBWT/eval_phase/test_stream/Task000/Exp000 = -0.0661\n",
      "\tExperienceForgetting/eval_phase/test_stream/Task000/Exp000 = 0.0661\n",
      "\tMaxRAMUsage_Experience/eval_phase/test_stream/Task000/Exp000 = 0\n",
      "\tTop1_Acc_Exp/eval_phase/test_stream/Task000/Exp000 = 0.6380\n",
      "-- Starting eval on experience 1 (Task 0) from test stream --\n",
      "100%|██████████| 79/79 [00:00<00:00, 126.19it/s]\n",
      "> Eval on experience 1 (Task 0) from test stream ended.\n",
      "\tCPUUsage_Exp/eval_phase/test_stream/Task000/Exp001 = 106.7615\n",
      "\tMaxRAMUsage_Experience/eval_phase/test_stream/Task000/Exp001 = 332.9531\n",
      "\tTop1_Acc_Exp/eval_phase/test_stream/Task000/Exp001 = 0.7335\n",
      "-- Starting eval on experience 2 (Task 0) from test stream --\n",
      "100%|██████████| 79/79 [00:00<00:00, 127.04it/s]\n",
      "> Eval on experience 2 (Task 0) from test stream ended.\n",
      "\tCPUUsage_Exp/eval_phase/test_stream/Task000/Exp002 = 106.1538\n",
      "\tMaxRAMUsage_Experience/eval_phase/test_stream/Task000/Exp002 = 0\n",
      "\tTop1_Acc_Exp/eval_phase/test_stream/Task000/Exp002 = 0.1973\n",
      "-- Starting eval on experience 3 (Task 0) from test stream --\n",
      "100%|██████████| 79/79 [00:00<00:00, 123.68it/s]\n",
      "> Eval on experience 3 (Task 0) from test stream ended.\n",
      "\tCPUUsage_Exp/eval_phase/test_stream/Task000/Exp003 = 104.7641\n",
      "\tMaxRAMUsage_Experience/eval_phase/test_stream/Task000/Exp003 = 333.7031\n",
      "\tTop1_Acc_Exp/eval_phase/test_stream/Task000/Exp003 = 0.2357\n",
      "-- Starting eval on experience 4 (Task 0) from test stream --\n",
      "100%|██████████| 79/79 [00:00<00:00, 127.08it/s]\n",
      "> Eval on experience 4 (Task 0) from test stream ended.\n",
      "\tCPUUsage_Exp/eval_phase/test_stream/Task000/Exp004 = 106.1635\n",
      "\tMaxRAMUsage_Experience/eval_phase/test_stream/Task000/Exp004 = 334.2344\n",
      "\tTop1_Acc_Exp/eval_phase/test_stream/Task000/Exp004 = 0.1938\n",
      "-- Starting eval on experience 5 (Task 0) from test stream --\n",
      "100%|██████████| 79/79 [00:00<00:00, 123.19it/s]\n",
      "> Eval on experience 5 (Task 0) from test stream ended.\n",
      "\tCPUUsage_Exp/eval_phase/test_stream/Task000/Exp005 = 104.4214\n",
      "\tMaxRAMUsage_Experience/eval_phase/test_stream/Task000/Exp005 = 0\n",
      "\tTop1_Acc_Exp/eval_phase/test_stream/Task000/Exp005 = 0.1598\n",
      "-- Starting eval on experience 6 (Task 0) from test stream --\n",
      "100%|██████████| 79/79 [00:00<00:00, 127.66it/s]\n",
      "> Eval on experience 6 (Task 0) from test stream ended.\n",
      "\tCPUUsage_Exp/eval_phase/test_stream/Task000/Exp006 = 106.1673\n",
      "\tMaxRAMUsage_Experience/eval_phase/test_stream/Task000/Exp006 = 335.0000\n",
      "\tTop1_Acc_Exp/eval_phase/test_stream/Task000/Exp006 = 0.2282\n",
      "-- Starting eval on experience 7 (Task 0) from test stream --\n",
      "100%|██████████| 79/79 [00:00<00:00, 122.24it/s]\n",
      "> Eval on experience 7 (Task 0) from test stream ended.\n",
      "\tCPUUsage_Exp/eval_phase/test_stream/Task000/Exp007 = 103.0642\n",
      "\tMaxRAMUsage_Experience/eval_phase/test_stream/Task000/Exp007 = 335.4375\n",
      "\tTop1_Acc_Exp/eval_phase/test_stream/Task000/Exp007 = 0.1655\n",
      "-- Starting eval on experience 8 (Task 0) from test stream --\n",
      "100%|██████████| 79/79 [00:00<00:00, 127.03it/s]\n",
      "> Eval on experience 8 (Task 0) from test stream ended.\n",
      "\tCPUUsage_Exp/eval_phase/test_stream/Task000/Exp008 = 106.0838\n",
      "\tMaxRAMUsage_Experience/eval_phase/test_stream/Task000/Exp008 = 0\n",
      "\tTop1_Acc_Exp/eval_phase/test_stream/Task000/Exp008 = 0.1964\n",
      "-- Starting eval on experience 9 (Task 0) from test stream --\n",
      "100%|██████████| 79/79 [00:00<00:00, 123.96it/s]\n",
      "> Eval on experience 9 (Task 0) from test stream ended.\n",
      "\tCPUUsage_Exp/eval_phase/test_stream/Task000/Exp009 = 104.3438\n",
      "\tMaxRAMUsage_Experience/eval_phase/test_stream/Task000/Exp009 = 336.2031\n",
      "\tTop1_Acc_Exp/eval_phase/test_stream/Task000/Exp009 = 0.2265\n"
     ]
    },
    {
     "name": "stderr",
     "output_type": "stream",
     "text": []
    },
    {
     "name": "stdout",
     "output_type": "stream",
     "text": [
      "-- >> End of eval phase << --\n",
      "\tAccuracy_On_Trained_Experiences/eval_phase/test_stream/Task000 = 0.6857\n",
      "\tCPUUsage_Stream/eval_phase/test_stream/Task000 = 105.3211\n",
      "\tMaxRAMUsage_Stream/eval_phase/test_stream/Task000 = 336.2031\n",
      "\tStreamBWT/eval_phase/test_stream = -0.0661\n",
      "\tStreamForgetting/eval_phase/test_stream = 0.0661\n",
      "\tTop1_Acc_Stream/eval_phase/test_stream/Task000 = 0.2975\n",
      "-- >> Start of training phase << --\n",
      "100%|██████████| 235/235 [00:03<00:00, 59.98it/s]\n",
      "Epoch 0 ended.\n",
      "\tRunningTime_Epoch/train_phase/train_stream/Task000 = 0.0001\n",
      "\tTime_Epoch/train_phase/train_stream/Task000 = 3.9190\n",
      "100%|██████████| 235/235 [00:03<00:00, 60.65it/s]\n",
      "Epoch 1 ended.\n",
      "\tRunningTime_Epoch/train_phase/train_stream/Task000 = 0.0001\n",
      "\tTime_Epoch/train_phase/train_stream/Task000 = 3.8750\n",
      "100%|██████████| 235/235 [00:03<00:00, 60.88it/s]\n",
      "Epoch 2 ended.\n",
      "\tRunningTime_Epoch/train_phase/train_stream/Task000 = 0.0001\n",
      "\tTime_Epoch/train_phase/train_stream/Task000 = 3.8605\n",
      "100%|██████████| 235/235 [00:04<00:00, 58.20it/s]\n",
      "Epoch 3 ended.\n",
      "\tRunningTime_Epoch/train_phase/train_stream/Task000 = 0.0001\n",
      "\tTime_Epoch/train_phase/train_stream/Task000 = 4.0382\n",
      "100%|██████████| 235/235 [00:03<00:00, 60.69it/s]\n",
      "Epoch 4 ended.\n",
      "\tRunningTime_Epoch/train_phase/train_stream/Task000 = 0.0001\n",
      "\tTime_Epoch/train_phase/train_stream/Task000 = 3.8725\n",
      "-- >> End of training phase << --\n",
      "-- >> Start of eval phase << --\n",
      "-- Starting eval on experience 0 (Task 0) from train stream --\n",
      "100%|██████████| 469/469 [00:03<00:00, 123.93it/s]\n",
      "> Eval on experience 0 (Task 0) from train stream ended.\n",
      "\tCPUUsage_Exp/eval_phase/train_stream/Task000/Exp000 = 106.5238\n",
      "\tExperienceBWT/eval_phase/train_stream/Task000/Exp000 = -0.0776\n",
      "\tExperienceForgetting/eval_phase/train_stream/Task000/Exp000 = 0.0776\n",
      "\tMaxRAMUsage_Experience/eval_phase/train_stream/Task000/Exp000 = 425.1562\n",
      "\tTop1_Acc_Exp/eval_phase/train_stream/Task000/Exp000 = 0.6265\n",
      "-- Starting eval on experience 1 (Task 0) from train stream --\n",
      "100%|██████████| 469/469 [00:03<00:00, 124.11it/s]\n",
      "> Eval on experience 1 (Task 0) from train stream ended.\n",
      "\tCPUUsage_Exp/eval_phase/train_stream/Task000/Exp001 = 106.1015\n",
      "\tExperienceBWT/eval_phase/train_stream/Task000/Exp001 = -0.0139\n",
      "\tExperienceForgetting/eval_phase/train_stream/Task000/Exp001 = 0.0139\n",
      "\tMaxRAMUsage_Experience/eval_phase/train_stream/Task000/Exp001 = 421.8125\n",
      "\tTop1_Acc_Exp/eval_phase/train_stream/Task000/Exp001 = 0.7197\n",
      "-- Starting eval on experience 2 (Task 0) from train stream --\n",
      "100%|██████████| 469/469 [00:03<00:00, 124.21it/s]\n",
      "> Eval on experience 2 (Task 0) from train stream ended.\n",
      "\tCPUUsage_Exp/eval_phase/train_stream/Task000/Exp002 = 106.3692\n",
      "\tMaxRAMUsage_Experience/eval_phase/train_stream/Task000/Exp002 = 421.8438\n",
      "\tTop1_Acc_Exp/eval_phase/train_stream/Task000/Exp002 = 0.7584\n",
      "-- Starting eval on experience 3 (Task 0) from train stream --\n",
      "100%|██████████| 469/469 [00:03<00:00, 124.69it/s]\n",
      "> Eval on experience 3 (Task 0) from train stream ended.\n",
      "\tCPUUsage_Exp/eval_phase/train_stream/Task000/Exp003 = 105.6057\n",
      "\tMaxRAMUsage_Experience/eval_phase/train_stream/Task000/Exp003 = 421.8438\n",
      "\tTop1_Acc_Exp/eval_phase/train_stream/Task000/Exp003 = 0.2059\n",
      "-- Starting eval on experience 4 (Task 0) from train stream --\n",
      "100%|██████████| 469/469 [00:03<00:00, 124.71it/s]\n",
      "> Eval on experience 4 (Task 0) from train stream ended.\n",
      "\tCPUUsage_Exp/eval_phase/train_stream/Task000/Exp004 = 105.5757\n",
      "\tMaxRAMUsage_Experience/eval_phase/train_stream/Task000/Exp004 = 418.9844\n",
      "\tTop1_Acc_Exp/eval_phase/train_stream/Task000/Exp004 = 0.1691\n",
      "-- Starting eval on experience 5 (Task 0) from train stream --\n",
      "100%|██████████| 469/469 [00:03<00:00, 124.58it/s]\n",
      "> Eval on experience 5 (Task 0) from train stream ended.\n",
      "\tCPUUsage_Exp/eval_phase/train_stream/Task000/Exp005 = 105.3971\n",
      "\tMaxRAMUsage_Experience/eval_phase/train_stream/Task000/Exp005 = 418.9844\n",
      "\tTop1_Acc_Exp/eval_phase/train_stream/Task000/Exp005 = 0.1923\n",
      "-- Starting eval on experience 6 (Task 0) from train stream --\n",
      "100%|██████████| 469/469 [00:03<00:00, 125.44it/s]\n",
      "> Eval on experience 6 (Task 0) from train stream ended.\n",
      "\tCPUUsage_Exp/eval_phase/train_stream/Task000/Exp006 = 105.8871\n",
      "\tMaxRAMUsage_Experience/eval_phase/train_stream/Task000/Exp006 = 416.4219\n",
      "\tTop1_Acc_Exp/eval_phase/train_stream/Task000/Exp006 = 0.2008\n",
      "-- Starting eval on experience 7 (Task 0) from train stream --\n",
      "100%|██████████| 469/469 [00:03<00:00, 124.08it/s]\n",
      "> Eval on experience 7 (Task 0) from train stream ended.\n",
      "\tCPUUsage_Exp/eval_phase/train_stream/Task000/Exp007 = 105.0766\n",
      "\tMaxRAMUsage_Experience/eval_phase/train_stream/Task000/Exp007 = 416.4375\n",
      "\tTop1_Acc_Exp/eval_phase/train_stream/Task000/Exp007 = 0.1829\n",
      "-- Starting eval on experience 8 (Task 0) from train stream --\n",
      "100%|██████████| 469/469 [00:03<00:00, 125.23it/s]\n",
      "> Eval on experience 8 (Task 0) from train stream ended.\n",
      "\tCPUUsage_Exp/eval_phase/train_stream/Task000/Exp008 = 105.2432\n",
      "\tMaxRAMUsage_Experience/eval_phase/train_stream/Task000/Exp008 = 416.4375\n",
      "\tTop1_Acc_Exp/eval_phase/train_stream/Task000/Exp008 = 0.2003\n",
      "-- Starting eval on experience 9 (Task 0) from train stream --\n",
      "100%|██████████| 469/469 [00:03<00:00, 124.99it/s]\n",
      "> Eval on experience 9 (Task 0) from train stream ended.\n",
      "\tCPUUsage_Exp/eval_phase/train_stream/Task000/Exp009 = 105.3306\n",
      "\tMaxRAMUsage_Experience/eval_phase/train_stream/Task000/Exp009 = 416.4688\n",
      "\tTop1_Acc_Exp/eval_phase/train_stream/Task000/Exp009 = 0.1993\n",
      "-- >> End of eval phase << --\n",
      "\tAccuracy_On_Trained_Experiences/eval_phase/train_stream/Task000 = 0.7015\n",
      "\tCPUUsage_Stream/eval_phase/train_stream/Task000 = 105.7026\n",
      "\tMaxRAMUsage_Stream/eval_phase/train_stream/Task000 = 425.1562\n",
      "\tStreamBWT/eval_phase/train_stream = -0.0457\n",
      "\tStreamForgetting/eval_phase/train_stream = 0.0457\n",
      "\tTop1_Acc_Stream/eval_phase/train_stream/Task000 = 0.3455\n",
      "-- >> Start of eval phase << --\n",
      "-- Starting eval on experience 0 (Task 0) from test stream --\n",
      "100%|██████████| 79/79 [00:00<00:00, 120.82it/s]\n",
      "> Eval on experience 0 (Task 0) from test stream ended.\n",
      "\tCPUUsage_Exp/eval_phase/test_stream/Task000/Exp000 = 107.0453\n",
      "\tExperienceBWT/eval_phase/test_stream/Task000/Exp000 = -0.0731\n",
      "\tExperienceForgetting/eval_phase/test_stream/Task000/Exp000 = 0.0731\n",
      "\tMaxRAMUsage_Experience/eval_phase/test_stream/Task000/Exp000 = 0\n",
      "\tTop1_Acc_Exp/eval_phase/test_stream/Task000/Exp000 = 0.6310\n",
      "-- Starting eval on experience 1 (Task 0) from test stream --\n",
      "100%|██████████| 79/79 [00:00<00:00, 122.62it/s]\n",
      "> Eval on experience 1 (Task 0) from test stream ended.\n",
      "\tCPUUsage_Exp/eval_phase/test_stream/Task000/Exp001 = 105.1741\n",
      "\tExperienceBWT/eval_phase/test_stream/Task000/Exp001 = -0.0089\n",
      "\tExperienceForgetting/eval_phase/test_stream/Task000/Exp001 = 0.0089\n",
      "\tMaxRAMUsage_Experience/eval_phase/test_stream/Task000/Exp001 = 412.7969\n",
      "\tTop1_Acc_Exp/eval_phase/test_stream/Task000/Exp001 = 0.7246\n",
      "-- Starting eval on experience 2 (Task 0) from test stream --\n",
      "100%|██████████| 79/79 [00:00<00:00, 126.90it/s]\n",
      "> Eval on experience 2 (Task 0) from test stream ended.\n",
      "\tCPUUsage_Exp/eval_phase/test_stream/Task000/Exp002 = 106.5378\n",
      "\tMaxRAMUsage_Experience/eval_phase/test_stream/Task000/Exp002 = 0\n",
      "\tTop1_Acc_Exp/eval_phase/test_stream/Task000/Exp002 = 0.7651\n",
      "-- Starting eval on experience 3 (Task 0) from test stream --\n",
      "100%|██████████| 79/79 [00:00<00:00, 127.42it/s]\n",
      "> Eval on experience 3 (Task 0) from test stream ended.\n",
      "\tCPUUsage_Exp/eval_phase/test_stream/Task000/Exp003 = 106.2996\n",
      "\tMaxRAMUsage_Experience/eval_phase/test_stream/Task000/Exp003 = 412.7969\n",
      "\tTop1_Acc_Exp/eval_phase/test_stream/Task000/Exp003 = 0.2070\n",
      "-- Starting eval on experience 4 (Task 0) from test stream --\n",
      "100%|██████████| 79/79 [00:00<00:00, 124.39it/s]\n",
      "> Eval on experience 4 (Task 0) from test stream ended.\n",
      "\tCPUUsage_Exp/eval_phase/test_stream/Task000/Exp004 = 104.6489\n",
      "\tMaxRAMUsage_Experience/eval_phase/test_stream/Task000/Exp004 = 412.7969\n",
      "\tTop1_Acc_Exp/eval_phase/test_stream/Task000/Exp004 = 0.1615\n",
      "-- Starting eval on experience 5 (Task 0) from test stream --\n",
      "100%|██████████| 79/79 [00:00<00:00, 127.83it/s]\n",
      "> Eval on experience 5 (Task 0) from test stream ended.\n",
      "\tCPUUsage_Exp/eval_phase/test_stream/Task000/Exp005 = 106.2866\n",
      "\tMaxRAMUsage_Experience/eval_phase/test_stream/Task000/Exp005 = 0\n",
      "\tTop1_Acc_Exp/eval_phase/test_stream/Task000/Exp005 = 0.1955\n",
      "-- Starting eval on experience 6 (Task 0) from test stream --\n",
      "100%|██████████| 79/79 [00:00<00:00, 124.04it/s]\n",
      "> Eval on experience 6 (Task 0) from test stream ended.\n",
      "\tCPUUsage_Exp/eval_phase/test_stream/Task000/Exp006 = 104.4956\n",
      "\tMaxRAMUsage_Experience/eval_phase/test_stream/Task000/Exp006 = 412.7969\n",
      "\tTop1_Acc_Exp/eval_phase/test_stream/Task000/Exp006 = 0.1966\n",
      "-- Starting eval on experience 7 (Task 0) from test stream --\n",
      "100%|██████████| 79/79 [00:00<00:00, 127.33it/s]\n",
      "> Eval on experience 7 (Task 0) from test stream ended.\n",
      "\tCPUUsage_Exp/eval_phase/test_stream/Task000/Exp007 = 106.1312\n",
      "\tMaxRAMUsage_Experience/eval_phase/test_stream/Task000/Exp007 = 412.7969\n",
      "\tTop1_Acc_Exp/eval_phase/test_stream/Task000/Exp007 = 0.1814\n",
      "-- Starting eval on experience 8 (Task 0) from test stream --\n",
      "100%|██████████| 79/79 [00:00<00:00, 124.23it/s]\n",
      "> Eval on experience 8 (Task 0) from test stream ended.\n",
      "\tCPUUsage_Exp/eval_phase/test_stream/Task000/Exp008 = 104.4612\n",
      "\tMaxRAMUsage_Experience/eval_phase/test_stream/Task000/Exp008 = 0\n",
      "\tTop1_Acc_Exp/eval_phase/test_stream/Task000/Exp008 = 0.2040\n",
      "-- Starting eval on experience 9 (Task 0) from test stream --\n",
      "100%|██████████| 79/79 [00:00<00:00, 128.08it/s]\n",
      "> Eval on experience 9 (Task 0) from test stream ended.\n",
      "\tCPUUsage_Exp/eval_phase/test_stream/Task000/Exp009 = 105.9204\n",
      "\tMaxRAMUsage_Experience/eval_phase/test_stream/Task000/Exp009 = 412.7969\n",
      "\tTop1_Acc_Exp/eval_phase/test_stream/Task000/Exp009 = 0.1935\n"
     ]
    },
    {
     "name": "stderr",
     "output_type": "stream",
     "text": []
    },
    {
     "name": "stdout",
     "output_type": "stream",
     "text": [
      "-- >> End of eval phase << --\n",
      "\tAccuracy_On_Trained_Experiences/eval_phase/test_stream/Task000 = 0.7069\n",
      "\tCPUUsage_Stream/eval_phase/test_stream/Task000 = 105.6768\n",
      "\tMaxRAMUsage_Stream/eval_phase/test_stream/Task000 = 412.7969\n",
      "\tStreamBWT/eval_phase/test_stream = -0.0410\n",
      "\tStreamForgetting/eval_phase/test_stream = 0.0410\n",
      "\tTop1_Acc_Stream/eval_phase/test_stream/Task000 = 0.3460\n",
      "-- >> Start of training phase << --\n",
      "100%|██████████| 235/235 [00:03<00:00, 60.31it/s]\n",
      "Epoch 0 ended.\n",
      "\tRunningTime_Epoch/train_phase/train_stream/Task000 = 0.0001\n",
      "\tTime_Epoch/train_phase/train_stream/Task000 = 3.8968\n",
      "100%|██████████| 235/235 [00:03<00:00, 61.00it/s]\n",
      "Epoch 1 ended.\n",
      "\tRunningTime_Epoch/train_phase/train_stream/Task000 = 0.0001\n",
      "\tTime_Epoch/train_phase/train_stream/Task000 = 3.8524\n",
      "100%|██████████| 235/235 [00:03<00:00, 60.98it/s]\n",
      "Epoch 2 ended.\n",
      "\tRunningTime_Epoch/train_phase/train_stream/Task000 = 0.0001\n",
      "\tTime_Epoch/train_phase/train_stream/Task000 = 3.8540\n",
      "100%|██████████| 235/235 [00:03<00:00, 61.14it/s]\n",
      "Epoch 3 ended.\n",
      "\tRunningTime_Epoch/train_phase/train_stream/Task000 = 0.0001\n",
      "\tTime_Epoch/train_phase/train_stream/Task000 = 3.8442\n",
      "100%|██████████| 235/235 [00:03<00:00, 59.65it/s]\n",
      "Epoch 4 ended.\n",
      "\tRunningTime_Epoch/train_phase/train_stream/Task000 = 0.0001\n",
      "\tTime_Epoch/train_phase/train_stream/Task000 = 3.9400\n",
      "-- >> End of training phase << --\n",
      "-- >> Start of eval phase << --\n",
      "-- Starting eval on experience 0 (Task 0) from train stream --\n",
      "100%|██████████| 469/469 [00:03<00:00, 125.54it/s]\n",
      "> Eval on experience 0 (Task 0) from train stream ended.\n",
      "\tCPUUsage_Exp/eval_phase/train_stream/Task000/Exp000 = 106.6675\n",
      "\tExperienceBWT/eval_phase/train_stream/Task000/Exp000 = -0.2640\n",
      "\tExperienceForgetting/eval_phase/train_stream/Task000/Exp000 = 0.2640\n",
      "\tMaxRAMUsage_Experience/eval_phase/train_stream/Task000/Exp000 = 425.0000\n",
      "\tTop1_Acc_Exp/eval_phase/train_stream/Task000/Exp000 = 0.4400\n",
      "-- Starting eval on experience 1 (Task 0) from train stream --\n",
      "100%|██████████| 469/469 [00:03<00:00, 123.21it/s]\n",
      "> Eval on experience 1 (Task 0) from train stream ended.\n",
      "\tCPUUsage_Exp/eval_phase/train_stream/Task000/Exp001 = 106.0744\n",
      "\tExperienceBWT/eval_phase/train_stream/Task000/Exp001 = -0.0623\n",
      "\tExperienceForgetting/eval_phase/train_stream/Task000/Exp001 = 0.0623\n",
      "\tMaxRAMUsage_Experience/eval_phase/train_stream/Task000/Exp001 = 425.0000\n",
      "\tTop1_Acc_Exp/eval_phase/train_stream/Task000/Exp001 = 0.6712\n",
      "-- Starting eval on experience 2 (Task 0) from train stream --\n",
      "100%|██████████| 469/469 [00:03<00:00, 124.07it/s]\n",
      "> Eval on experience 2 (Task 0) from train stream ended.\n",
      "\tCPUUsage_Exp/eval_phase/train_stream/Task000/Exp002 = 106.4056\n",
      "\tExperienceBWT/eval_phase/train_stream/Task000/Exp002 = -0.0458\n",
      "\tExperienceForgetting/eval_phase/train_stream/Task000/Exp002 = 0.0458\n",
      "\tMaxRAMUsage_Experience/eval_phase/train_stream/Task000/Exp002 = 415.5781\n",
      "\tTop1_Acc_Exp/eval_phase/train_stream/Task000/Exp002 = 0.7193\n",
      "-- Starting eval on experience 3 (Task 0) from train stream --\n",
      "100%|██████████| 469/469 [00:03<00:00, 125.02it/s]\n",
      "> Eval on experience 3 (Task 0) from train stream ended.\n",
      "\tCPUUsage_Exp/eval_phase/train_stream/Task000/Exp003 = 106.6962\n",
      "\tMaxRAMUsage_Experience/eval_phase/train_stream/Task000/Exp003 = 413.2656\n",
      "\tTop1_Acc_Exp/eval_phase/train_stream/Task000/Exp003 = 0.7825\n",
      "-- Starting eval on experience 4 (Task 0) from train stream --\n",
      "100%|██████████| 469/469 [00:03<00:00, 125.11it/s]\n",
      "> Eval on experience 4 (Task 0) from train stream ended.\n",
      "\tCPUUsage_Exp/eval_phase/train_stream/Task000/Exp004 = 105.4813\n",
      "\tMaxRAMUsage_Experience/eval_phase/train_stream/Task000/Exp004 = 412.7656\n",
      "\tTop1_Acc_Exp/eval_phase/train_stream/Task000/Exp004 = 0.1708\n",
      "-- Starting eval on experience 5 (Task 0) from train stream --\n",
      "100%|██████████| 469/469 [00:03<00:00, 125.01it/s]\n",
      "> Eval on experience 5 (Task 0) from train stream ended.\n",
      "\tCPUUsage_Exp/eval_phase/train_stream/Task000/Exp005 = 105.7571\n",
      "\tMaxRAMUsage_Experience/eval_phase/train_stream/Task000/Exp005 = 412.8594\n",
      "\tTop1_Acc_Exp/eval_phase/train_stream/Task000/Exp005 = 0.1516\n",
      "-- Starting eval on experience 6 (Task 0) from train stream --\n",
      "100%|██████████| 469/469 [00:03<00:00, 124.81it/s]\n",
      "> Eval on experience 6 (Task 0) from train stream ended.\n",
      "\tCPUUsage_Exp/eval_phase/train_stream/Task000/Exp006 = 105.5129\n",
      "\tMaxRAMUsage_Experience/eval_phase/train_stream/Task000/Exp006 = 364.6094\n",
      "\tTop1_Acc_Exp/eval_phase/train_stream/Task000/Exp006 = 0.2111\n",
      "-- Starting eval on experience 7 (Task 0) from train stream --\n",
      "100%|██████████| 469/469 [00:03<00:00, 125.17it/s]\n",
      "> Eval on experience 7 (Task 0) from train stream ended.\n",
      "\tCPUUsage_Exp/eval_phase/train_stream/Task000/Exp007 = 105.5919\n",
      "\tMaxRAMUsage_Experience/eval_phase/train_stream/Task000/Exp007 = 302.8281\n",
      "\tTop1_Acc_Exp/eval_phase/train_stream/Task000/Exp007 = 0.2269\n",
      "-- Starting eval on experience 8 (Task 0) from train stream --\n",
      "100%|██████████| 469/469 [00:03<00:00, 125.19it/s]\n",
      "> Eval on experience 8 (Task 0) from train stream ended.\n",
      "\tCPUUsage_Exp/eval_phase/train_stream/Task000/Exp008 = 105.2219\n",
      "\tMaxRAMUsage_Experience/eval_phase/train_stream/Task000/Exp008 = 302.8750\n",
      "\tTop1_Acc_Exp/eval_phase/train_stream/Task000/Exp008 = 0.1709\n",
      "-- Starting eval on experience 9 (Task 0) from train stream --\n",
      "100%|██████████| 469/469 [00:03<00:00, 124.41it/s]\n",
      "> Eval on experience 9 (Task 0) from train stream ended.\n",
      "\tCPUUsage_Exp/eval_phase/train_stream/Task000/Exp009 = 105.1869\n",
      "\tMaxRAMUsage_Experience/eval_phase/train_stream/Task000/Exp009 = 305.2656\n",
      "\tTop1_Acc_Exp/eval_phase/train_stream/Task000/Exp009 = 0.1582\n",
      "-- >> End of eval phase << --\n",
      "\tAccuracy_On_Trained_Experiences/eval_phase/train_stream/Task000 = 0.6533\n",
      "\tCPUUsage_Stream/eval_phase/train_stream/Task000 = 105.8501\n",
      "\tMaxRAMUsage_Stream/eval_phase/train_stream/Task000 = 425.0000\n",
      "\tStreamBWT/eval_phase/train_stream = -0.1240\n",
      "\tStreamForgetting/eval_phase/train_stream = 0.1240\n",
      "\tTop1_Acc_Stream/eval_phase/train_stream/Task000 = 0.3703\n",
      "-- >> Start of eval phase << --\n",
      "-- Starting eval on experience 0 (Task 0) from test stream --\n",
      "100%|██████████| 79/79 [00:00<00:00, 120.35it/s]\n",
      "> Eval on experience 0 (Task 0) from test stream ended.\n",
      "\tCPUUsage_Exp/eval_phase/test_stream/Task000/Exp000 = 106.9219\n",
      "\tExperienceBWT/eval_phase/test_stream/Task000/Exp000 = -0.2610\n",
      "\tExperienceForgetting/eval_phase/test_stream/Task000/Exp000 = 0.2610\n",
      "\tMaxRAMUsage_Experience/eval_phase/test_stream/Task000/Exp000 = 0\n",
      "\tTop1_Acc_Exp/eval_phase/test_stream/Task000/Exp000 = 0.4431\n",
      "-- Starting eval on experience 1 (Task 0) from test stream --\n",
      "100%|██████████| 79/79 [00:00<00:00, 123.24it/s]\n",
      "> Eval on experience 1 (Task 0) from test stream ended.\n",
      "\tCPUUsage_Exp/eval_phase/test_stream/Task000/Exp001 = 105.8673\n",
      "\tExperienceBWT/eval_phase/test_stream/Task000/Exp001 = -0.0603\n",
      "\tExperienceForgetting/eval_phase/test_stream/Task000/Exp001 = 0.0603\n",
      "\tMaxRAMUsage_Experience/eval_phase/test_stream/Task000/Exp001 = 315.2344\n",
      "\tTop1_Acc_Exp/eval_phase/test_stream/Task000/Exp001 = 0.6732\n",
      "-- Starting eval on experience 2 (Task 0) from test stream --\n",
      "100%|██████████| 79/79 [00:00<00:00, 125.47it/s]\n",
      "> Eval on experience 2 (Task 0) from test stream ended.\n",
      "\tCPUUsage_Exp/eval_phase/test_stream/Task000/Exp002 = 107.0943\n",
      "\tExperienceBWT/eval_phase/test_stream/Task000/Exp002 = -0.0377\n",
      "\tExperienceForgetting/eval_phase/test_stream/Task000/Exp002 = 0.0377\n",
      "\tMaxRAMUsage_Experience/eval_phase/test_stream/Task000/Exp002 = 0\n",
      "\tTop1_Acc_Exp/eval_phase/test_stream/Task000/Exp002 = 0.7274\n",
      "-- Starting eval on experience 3 (Task 0) from test stream --\n",
      "100%|██████████| 79/79 [00:00<00:00, 122.83it/s]\n",
      "> Eval on experience 3 (Task 0) from test stream ended.\n",
      "\tCPUUsage_Exp/eval_phase/test_stream/Task000/Exp003 = 105.1018\n",
      "\tMaxRAMUsage_Experience/eval_phase/test_stream/Task000/Exp003 = 316.1562\n",
      "\tTop1_Acc_Exp/eval_phase/test_stream/Task000/Exp003 = 0.7886\n",
      "-- Starting eval on experience 4 (Task 0) from test stream --\n",
      "100%|██████████| 79/79 [00:00<00:00, 127.91it/s]\n",
      "> Eval on experience 4 (Task 0) from test stream ended.\n",
      "\tCPUUsage_Exp/eval_phase/test_stream/Task000/Exp004 = 106.1771\n",
      "\tMaxRAMUsage_Experience/eval_phase/test_stream/Task000/Exp004 = 316.6250\n",
      "\tTop1_Acc_Exp/eval_phase/test_stream/Task000/Exp004 = 0.1692\n",
      "-- Starting eval on experience 5 (Task 0) from test stream --\n",
      "100%|██████████| 79/79 [00:00<00:00, 123.91it/s]\n",
      "> Eval on experience 5 (Task 0) from test stream ended.\n",
      "\tCPUUsage_Exp/eval_phase/test_stream/Task000/Exp005 = 104.4011\n",
      "\tMaxRAMUsage_Experience/eval_phase/test_stream/Task000/Exp005 = 0\n",
      "\tTop1_Acc_Exp/eval_phase/test_stream/Task000/Exp005 = 0.1605\n",
      "-- Starting eval on experience 6 (Task 0) from test stream --\n",
      "100%|██████████| 79/79 [00:00<00:00, 127.77it/s]\n",
      "> Eval on experience 6 (Task 0) from test stream ended.\n",
      "\tCPUUsage_Exp/eval_phase/test_stream/Task000/Exp006 = 106.5687\n",
      "\tMaxRAMUsage_Experience/eval_phase/test_stream/Task000/Exp006 = 317.3594\n",
      "\tTop1_Acc_Exp/eval_phase/test_stream/Task000/Exp006 = 0.2060\n",
      "-- Starting eval on experience 7 (Task 0) from test stream --\n",
      "100%|██████████| 79/79 [00:00<00:00, 127.36it/s]\n",
      "> Eval on experience 7 (Task 0) from test stream ended.\n",
      "\tCPUUsage_Exp/eval_phase/test_stream/Task000/Exp007 = 106.0456\n",
      "\tMaxRAMUsage_Experience/eval_phase/test_stream/Task000/Exp007 = 318.2031\n",
      "\tTop1_Acc_Exp/eval_phase/test_stream/Task000/Exp007 = 0.2298\n",
      "-- Starting eval on experience 8 (Task 0) from test stream --\n",
      "100%|██████████| 79/79 [00:00<00:00, 123.53it/s]\n",
      "> Eval on experience 8 (Task 0) from test stream ended.\n",
      "\tCPUUsage_Exp/eval_phase/test_stream/Task000/Exp008 = 103.6770\n",
      "\tMaxRAMUsage_Experience/eval_phase/test_stream/Task000/Exp008 = 0\n",
      "\tTop1_Acc_Exp/eval_phase/test_stream/Task000/Exp008 = 0.1764\n",
      "-- Starting eval on experience 9 (Task 0) from test stream --\n",
      "100%|██████████| 79/79 [00:00<00:00, 123.44it/s]\n",
      "> Eval on experience 9 (Task 0) from test stream ended.\n",
      "\tCPUUsage_Exp/eval_phase/test_stream/Task000/Exp009 = 104.4004\n",
      "\tMaxRAMUsage_Experience/eval_phase/test_stream/Task000/Exp009 = 318.9844\n",
      "\tTop1_Acc_Exp/eval_phase/test_stream/Task000/Exp009 = 0.1589\n"
     ]
    },
    {
     "name": "stderr",
     "output_type": "stream",
     "text": []
    },
    {
     "name": "stdout",
     "output_type": "stream",
     "text": [
      "-- >> End of eval phase << --\n",
      "\tAccuracy_On_Trained_Experiences/eval_phase/test_stream/Task000 = 0.6581\n",
      "\tCPUUsage_Stream/eval_phase/test_stream/Task000 = 105.5996\n",
      "\tMaxRAMUsage_Stream/eval_phase/test_stream/Task000 = 319.0469\n",
      "\tStreamBWT/eval_phase/test_stream = -0.1197\n",
      "\tStreamForgetting/eval_phase/test_stream = 0.1197\n",
      "\tTop1_Acc_Stream/eval_phase/test_stream/Task000 = 0.3733\n",
      "-- >> Start of training phase << --\n",
      "100%|██████████| 235/235 [00:03<00:00, 60.96it/s]\n",
      "Epoch 0 ended.\n",
      "\tRunningTime_Epoch/train_phase/train_stream/Task000 = 0.0001\n",
      "\tTime_Epoch/train_phase/train_stream/Task000 = 3.8559\n",
      "100%|██████████| 235/235 [00:03<00:00, 61.26it/s]\n",
      "Epoch 1 ended.\n",
      "\tRunningTime_Epoch/train_phase/train_stream/Task000 = 0.0001\n",
      "\tTime_Epoch/train_phase/train_stream/Task000 = 3.8364\n",
      "100%|██████████| 235/235 [00:03<00:00, 61.11it/s]\n",
      "Epoch 2 ended.\n",
      "\tRunningTime_Epoch/train_phase/train_stream/Task000 = 0.0001\n",
      "\tTime_Epoch/train_phase/train_stream/Task000 = 3.8458\n",
      "100%|██████████| 235/235 [00:03<00:00, 60.97it/s]\n",
      "Epoch 3 ended.\n",
      "\tRunningTime_Epoch/train_phase/train_stream/Task000 = 0.0001\n",
      "\tTime_Epoch/train_phase/train_stream/Task000 = 3.8546\n",
      "100%|██████████| 235/235 [00:03<00:00, 60.51it/s]\n",
      "Epoch 4 ended.\n",
      "\tRunningTime_Epoch/train_phase/train_stream/Task000 = 0.0001\n",
      "\tTime_Epoch/train_phase/train_stream/Task000 = 3.8838\n",
      "-- >> End of training phase << --\n",
      "-- >> Start of eval phase << --\n",
      "-- Starting eval on experience 0 (Task 0) from train stream --\n",
      "100%|██████████| 469/469 [00:03<00:00, 125.68it/s]\n",
      "> Eval on experience 0 (Task 0) from train stream ended.\n",
      "\tCPUUsage_Exp/eval_phase/train_stream/Task000/Exp000 = 106.7124\n",
      "\tExperienceBWT/eval_phase/train_stream/Task000/Exp000 = -0.2123\n",
      "\tExperienceForgetting/eval_phase/train_stream/Task000/Exp000 = 0.2123\n",
      "\tMaxRAMUsage_Experience/eval_phase/train_stream/Task000/Exp000 = 225.9844\n",
      "\tTop1_Acc_Exp/eval_phase/train_stream/Task000/Exp000 = 0.4918\n",
      "-- Starting eval on experience 1 (Task 0) from train stream --\n",
      "100%|██████████| 469/469 [00:03<00:00, 124.57it/s]\n",
      "> Eval on experience 1 (Task 0) from train stream ended.\n",
      "\tCPUUsage_Exp/eval_phase/train_stream/Task000/Exp001 = 106.4324\n",
      "\tExperienceBWT/eval_phase/train_stream/Task000/Exp001 = -0.0506\n",
      "\tExperienceForgetting/eval_phase/train_stream/Task000/Exp001 = 0.0506\n",
      "\tMaxRAMUsage_Experience/eval_phase/train_stream/Task000/Exp001 = 227.4375\n",
      "\tTop1_Acc_Exp/eval_phase/train_stream/Task000/Exp001 = 0.6829\n",
      "-- Starting eval on experience 2 (Task 0) from train stream --\n",
      "100%|██████████| 469/469 [00:03<00:00, 125.49it/s]\n",
      "> Eval on experience 2 (Task 0) from train stream ended.\n",
      "\tCPUUsage_Exp/eval_phase/train_stream/Task000/Exp002 = 106.6185\n",
      "\tExperienceBWT/eval_phase/train_stream/Task000/Exp002 = -0.0266\n",
      "\tExperienceForgetting/eval_phase/train_stream/Task000/Exp002 = 0.0266\n",
      "\tMaxRAMUsage_Experience/eval_phase/train_stream/Task000/Exp002 = 226.2500\n",
      "\tTop1_Acc_Exp/eval_phase/train_stream/Task000/Exp002 = 0.7385\n",
      "-- Starting eval on experience 3 (Task 0) from train stream --\n",
      "100%|██████████| 469/469 [00:03<00:00, 124.93it/s]\n",
      "> Eval on experience 3 (Task 0) from train stream ended.\n",
      "\tCPUUsage_Exp/eval_phase/train_stream/Task000/Exp003 = 106.4269\n",
      "\tExperienceBWT/eval_phase/train_stream/Task000/Exp003 = -0.0608\n",
      "\tExperienceForgetting/eval_phase/train_stream/Task000/Exp003 = 0.0608\n",
      "\tMaxRAMUsage_Experience/eval_phase/train_stream/Task000/Exp003 = 228.6094\n",
      "\tTop1_Acc_Exp/eval_phase/train_stream/Task000/Exp003 = 0.7278\n",
      "-- Starting eval on experience 4 (Task 0) from train stream --\n",
      "100%|██████████| 469/469 [00:03<00:00, 124.37it/s]\n",
      "> Eval on experience 4 (Task 0) from train stream ended.\n",
      "\tCPUUsage_Exp/eval_phase/train_stream/Task000/Exp004 = 106.5117\n",
      "\tMaxRAMUsage_Experience/eval_phase/train_stream/Task000/Exp004 = 228.6094\n",
      "\tTop1_Acc_Exp/eval_phase/train_stream/Task000/Exp004 = 0.8009\n",
      "-- Starting eval on experience 5 (Task 0) from train stream --\n",
      "100%|██████████| 469/469 [00:03<00:00, 125.01it/s]\n",
      "> Eval on experience 5 (Task 0) from train stream ended.\n",
      "\tCPUUsage_Exp/eval_phase/train_stream/Task000/Exp005 = 105.5960\n",
      "\tMaxRAMUsage_Experience/eval_phase/train_stream/Task000/Exp005 = 228.9688\n",
      "\tTop1_Acc_Exp/eval_phase/train_stream/Task000/Exp005 = 0.1415\n",
      "-- Starting eval on experience 6 (Task 0) from train stream --\n",
      "100%|██████████| 469/469 [00:04<00:00, 116.25it/s]\n",
      "> Eval on experience 6 (Task 0) from train stream ended.\n",
      "\tCPUUsage_Exp/eval_phase/train_stream/Task000/Exp006 = 104.3292\n",
      "\tMaxRAMUsage_Experience/eval_phase/train_stream/Task000/Exp006 = 228.9844\n",
      "\tTop1_Acc_Exp/eval_phase/train_stream/Task000/Exp006 = 0.1590\n",
      "-- Starting eval on experience 7 (Task 0) from train stream --\n",
      "100%|██████████| 469/469 [00:03<00:00, 117.45it/s]\n",
      "> Eval on experience 7 (Task 0) from train stream ended.\n",
      "\tCPUUsage_Exp/eval_phase/train_stream/Task000/Exp007 = 104.8707\n",
      "\tMaxRAMUsage_Experience/eval_phase/train_stream/Task000/Exp007 = 186.6875\n",
      "\tTop1_Acc_Exp/eval_phase/train_stream/Task000/Exp007 = 0.1945\n",
      "-- Starting eval on experience 8 (Task 0) from train stream --\n",
      "100%|██████████| 469/469 [00:03<00:00, 117.47it/s]\n",
      "> Eval on experience 8 (Task 0) from train stream ended.\n",
      "\tCPUUsage_Exp/eval_phase/train_stream/Task000/Exp008 = 105.0514\n",
      "\tMaxRAMUsage_Experience/eval_phase/train_stream/Task000/Exp008 = 179.1875\n",
      "\tTop1_Acc_Exp/eval_phase/train_stream/Task000/Exp008 = 0.1841\n",
      "-- Starting eval on experience 9 (Task 0) from train stream --\n",
      "100%|██████████| 469/469 [00:03<00:00, 118.61it/s]\n",
      "> Eval on experience 9 (Task 0) from train stream ended.\n",
      "\tCPUUsage_Exp/eval_phase/train_stream/Task000/Exp009 = 105.0390\n",
      "\tMaxRAMUsage_Experience/eval_phase/train_stream/Task000/Exp009 = 176.8906\n",
      "\tTop1_Acc_Exp/eval_phase/train_stream/Task000/Exp009 = 0.1627\n",
      "-- >> End of eval phase << --\n",
      "\tAccuracy_On_Trained_Experiences/eval_phase/train_stream/Task000 = 0.6884\n",
      "\tCPUUsage_Stream/eval_phase/train_stream/Task000 = 105.7241\n",
      "\tMaxRAMUsage_Stream/eval_phase/train_stream/Task000 = 228.9844\n",
      "\tStreamBWT/eval_phase/train_stream = -0.0876\n",
      "\tStreamForgetting/eval_phase/train_stream = 0.0876\n",
      "\tTop1_Acc_Stream/eval_phase/train_stream/Task000 = 0.4284\n",
      "-- >> Start of eval phase << --\n",
      "-- Starting eval on experience 0 (Task 0) from test stream --\n",
      "100%|██████████| 79/79 [00:00<00:00, 117.78it/s]\n",
      "> Eval on experience 0 (Task 0) from test stream ended.\n",
      "\tCPUUsage_Exp/eval_phase/test_stream/Task000/Exp000 = 105.7970\n",
      "\tExperienceBWT/eval_phase/test_stream/Task000/Exp000 = -0.2148\n",
      "\tExperienceForgetting/eval_phase/test_stream/Task000/Exp000 = 0.2148\n",
      "\tMaxRAMUsage_Experience/eval_phase/test_stream/Task000/Exp000 = 0\n",
      "\tTop1_Acc_Exp/eval_phase/test_stream/Task000/Exp000 = 0.4893\n",
      "-- Starting eval on experience 1 (Task 0) from test stream --\n",
      "100%|██████████| 79/79 [00:00<00:00, 123.85it/s]\n",
      "> Eval on experience 1 (Task 0) from test stream ended.\n",
      "\tCPUUsage_Exp/eval_phase/test_stream/Task000/Exp001 = 108.3536\n",
      "\tExperienceBWT/eval_phase/test_stream/Task000/Exp001 = -0.0488\n",
      "\tExperienceForgetting/eval_phase/test_stream/Task000/Exp001 = 0.0488\n",
      "\tMaxRAMUsage_Experience/eval_phase/test_stream/Task000/Exp001 = 185.7031\n",
      "\tTop1_Acc_Exp/eval_phase/test_stream/Task000/Exp001 = 0.6847\n",
      "-- Starting eval on experience 2 (Task 0) from test stream --\n",
      "100%|██████████| 79/79 [00:00<00:00, 121.82it/s]\n",
      "> Eval on experience 2 (Task 0) from test stream ended.\n",
      "\tCPUUsage_Exp/eval_phase/test_stream/Task000/Exp002 = 105.7758\n",
      "\tExperienceBWT/eval_phase/test_stream/Task000/Exp002 = -0.0240\n",
      "\tExperienceForgetting/eval_phase/test_stream/Task000/Exp002 = 0.0240\n",
      "\tMaxRAMUsage_Experience/eval_phase/test_stream/Task000/Exp002 = 0\n",
      "\tTop1_Acc_Exp/eval_phase/test_stream/Task000/Exp002 = 0.7411\n",
      "-- Starting eval on experience 3 (Task 0) from test stream --\n",
      "100%|██████████| 79/79 [00:00<00:00, 123.07it/s]\n",
      "> Eval on experience 3 (Task 0) from test stream ended.\n",
      "\tCPUUsage_Exp/eval_phase/test_stream/Task000/Exp003 = 106.9261\n",
      "\tExperienceBWT/eval_phase/test_stream/Task000/Exp003 = -0.0654\n",
      "\tExperienceForgetting/eval_phase/test_stream/Task000/Exp003 = 0.0654\n",
      "\tMaxRAMUsage_Experience/eval_phase/test_stream/Task000/Exp003 = 186.3594\n",
      "\tTop1_Acc_Exp/eval_phase/test_stream/Task000/Exp003 = 0.7232\n",
      "-- Starting eval on experience 4 (Task 0) from test stream --\n",
      "100%|██████████| 79/79 [00:00<00:00, 115.69it/s]\n",
      "> Eval on experience 4 (Task 0) from test stream ended.\n",
      "\tCPUUsage_Exp/eval_phase/test_stream/Task000/Exp004 = 105.0965\n",
      "\tMaxRAMUsage_Experience/eval_phase/test_stream/Task000/Exp004 = 184.7344\n",
      "\tTop1_Acc_Exp/eval_phase/test_stream/Task000/Exp004 = 0.8066\n",
      "-- Starting eval on experience 5 (Task 0) from test stream --\n",
      "100%|██████████| 79/79 [00:00<00:00, 122.01it/s]\n",
      "> Eval on experience 5 (Task 0) from test stream ended.\n",
      "\tCPUUsage_Exp/eval_phase/test_stream/Task000/Exp005 = 105.9274\n",
      "\tMaxRAMUsage_Experience/eval_phase/test_stream/Task000/Exp005 = 0\n",
      "\tTop1_Acc_Exp/eval_phase/test_stream/Task000/Exp005 = 0.1470\n",
      "-- Starting eval on experience 6 (Task 0) from test stream --\n",
      "100%|██████████| 79/79 [00:00<00:00, 115.74it/s]\n",
      "> Eval on experience 6 (Task 0) from test stream ended.\n",
      "\tCPUUsage_Exp/eval_phase/test_stream/Task000/Exp006 = 102.8706\n",
      "\tMaxRAMUsage_Experience/eval_phase/test_stream/Task000/Exp006 = 185.4844\n",
      "\tTop1_Acc_Exp/eval_phase/test_stream/Task000/Exp006 = 0.1554\n",
      "-- Starting eval on experience 7 (Task 0) from test stream --\n",
      "100%|██████████| 79/79 [00:00<00:00, 122.24it/s]\n",
      "> Eval on experience 7 (Task 0) from test stream ended.\n",
      "\tCPUUsage_Exp/eval_phase/test_stream/Task000/Exp007 = 106.0942\n",
      "\tMaxRAMUsage_Experience/eval_phase/test_stream/Task000/Exp007 = 182.3906\n",
      "\tTop1_Acc_Exp/eval_phase/test_stream/Task000/Exp007 = 0.2004\n",
      "-- Starting eval on experience 8 (Task 0) from test stream --\n",
      "100%|██████████| 79/79 [00:00<00:00, 119.65it/s]\n",
      "> Eval on experience 8 (Task 0) from test stream ended.\n",
      "\tCPUUsage_Exp/eval_phase/test_stream/Task000/Exp008 = 103.8451\n",
      "\tMaxRAMUsage_Experience/eval_phase/test_stream/Task000/Exp008 = 0\n",
      "\tTop1_Acc_Exp/eval_phase/test_stream/Task000/Exp008 = 0.1952\n",
      "-- Starting eval on experience 9 (Task 0) from test stream --\n",
      "100%|██████████| 79/79 [00:00<00:00, 123.71it/s]\n",
      "> Eval on experience 9 (Task 0) from test stream ended.\n",
      "\tCPUUsage_Exp/eval_phase/test_stream/Task000/Exp009 = 106.0228\n",
      "\tMaxRAMUsage_Experience/eval_phase/test_stream/Task000/Exp009 = 183.1094\n",
      "\tTop1_Acc_Exp/eval_phase/test_stream/Task000/Exp009 = 0.1660\n"
     ]
    },
    {
     "name": "stderr",
     "output_type": "stream",
     "text": []
    },
    {
     "name": "stdout",
     "output_type": "stream",
     "text": [
      "-- >> End of eval phase << --\n",
      "\tAccuracy_On_Trained_Experiences/eval_phase/test_stream/Task000 = 0.6890\n",
      "\tCPUUsage_Stream/eval_phase/test_stream/Task000 = 105.6272\n",
      "\tMaxRAMUsage_Stream/eval_phase/test_stream/Task000 = 186.3750\n",
      "\tStreamBWT/eval_phase/test_stream = -0.0883\n",
      "\tStreamForgetting/eval_phase/test_stream = 0.0883\n",
      "\tTop1_Acc_Stream/eval_phase/test_stream/Task000 = 0.4309\n",
      "-- >> Start of training phase << --\n",
      "100%|██████████| 235/235 [00:03<00:00, 58.80it/s]\n",
      "Epoch 0 ended.\n",
      "\tRunningTime_Epoch/train_phase/train_stream/Task000 = 0.0001\n",
      "\tTime_Epoch/train_phase/train_stream/Task000 = 3.9969\n",
      "100%|██████████| 235/235 [00:04<00:00, 56.33it/s]\n",
      "Epoch 1 ended.\n",
      "\tRunningTime_Epoch/train_phase/train_stream/Task000 = 0.0001\n",
      "\tTime_Epoch/train_phase/train_stream/Task000 = 4.1719\n",
      "100%|██████████| 235/235 [00:03<00:00, 59.53it/s]\n",
      "Epoch 2 ended.\n",
      "\tRunningTime_Epoch/train_phase/train_stream/Task000 = 0.0001\n",
      "\tTime_Epoch/train_phase/train_stream/Task000 = 3.9478\n",
      "100%|██████████| 235/235 [00:03<00:00, 60.89it/s]\n",
      "Epoch 3 ended.\n",
      "\tRunningTime_Epoch/train_phase/train_stream/Task000 = 0.0001\n",
      "\tTime_Epoch/train_phase/train_stream/Task000 = 3.8599\n",
      "100%|██████████| 235/235 [00:03<00:00, 60.44it/s]\n",
      "Epoch 4 ended.\n",
      "\tRunningTime_Epoch/train_phase/train_stream/Task000 = 0.0001\n",
      "\tTime_Epoch/train_phase/train_stream/Task000 = 3.8884\n",
      "-- >> End of training phase << --\n",
      "-- >> Start of eval phase << --\n",
      "-- Starting eval on experience 0 (Task 0) from train stream --\n",
      "100%|██████████| 469/469 [00:03<00:00, 123.43it/s]\n",
      "> Eval on experience 0 (Task 0) from train stream ended.\n",
      "\tCPUUsage_Exp/eval_phase/train_stream/Task000/Exp000 = 106.6190\n",
      "\tExperienceBWT/eval_phase/train_stream/Task000/Exp000 = -0.2501\n",
      "\tExperienceForgetting/eval_phase/train_stream/Task000/Exp000 = 0.2501\n",
      "\tMaxRAMUsage_Experience/eval_phase/train_stream/Task000/Exp000 = 407.3125\n",
      "\tTop1_Acc_Exp/eval_phase/train_stream/Task000/Exp000 = 0.4540\n",
      "-- Starting eval on experience 1 (Task 0) from train stream --\n",
      "100%|██████████| 469/469 [00:03<00:00, 118.44it/s]\n",
      "> Eval on experience 1 (Task 0) from train stream ended.\n",
      "\tCPUUsage_Exp/eval_phase/train_stream/Task000/Exp001 = 106.2611\n",
      "\tExperienceBWT/eval_phase/train_stream/Task000/Exp001 = -0.0873\n",
      "\tExperienceForgetting/eval_phase/train_stream/Task000/Exp001 = 0.0873\n",
      "\tMaxRAMUsage_Experience/eval_phase/train_stream/Task000/Exp001 = 189.2500\n",
      "\tTop1_Acc_Exp/eval_phase/train_stream/Task000/Exp001 = 0.6462\n",
      "-- Starting eval on experience 2 (Task 0) from train stream --\n",
      "100%|██████████| 469/469 [00:03<00:00, 119.59it/s]\n",
      "> Eval on experience 2 (Task 0) from train stream ended.\n",
      "\tCPUUsage_Exp/eval_phase/train_stream/Task000/Exp002 = 106.3086\n",
      "\tExperienceBWT/eval_phase/train_stream/Task000/Exp002 = -0.0262\n",
      "\tExperienceForgetting/eval_phase/train_stream/Task000/Exp002 = 0.0262\n",
      "\tMaxRAMUsage_Experience/eval_phase/train_stream/Task000/Exp002 = 188.2500\n",
      "\tTop1_Acc_Exp/eval_phase/train_stream/Task000/Exp002 = 0.7389\n",
      "-- Starting eval on experience 3 (Task 0) from train stream --\n",
      "100%|██████████| 469/469 [00:03<00:00, 120.31it/s]\n",
      "> Eval on experience 3 (Task 0) from train stream ended.\n",
      "\tCPUUsage_Exp/eval_phase/train_stream/Task000/Exp003 = 106.0662\n",
      "\tExperienceBWT/eval_phase/train_stream/Task000/Exp003 = -0.0412\n",
      "\tExperienceForgetting/eval_phase/train_stream/Task000/Exp003 = 0.0412\n",
      "\tMaxRAMUsage_Experience/eval_phase/train_stream/Task000/Exp003 = 177.8438\n",
      "\tTop1_Acc_Exp/eval_phase/train_stream/Task000/Exp003 = 0.7474\n",
      "-- Starting eval on experience 4 (Task 0) from train stream --\n",
      "100%|██████████| 469/469 [00:03<00:00, 119.03it/s]\n",
      "> Eval on experience 4 (Task 0) from train stream ended.\n",
      "\tCPUUsage_Exp/eval_phase/train_stream/Task000/Exp004 = 106.5126\n",
      "\tExperienceBWT/eval_phase/train_stream/Task000/Exp004 = -0.0171\n",
      "\tExperienceForgetting/eval_phase/train_stream/Task000/Exp004 = 0.0171\n",
      "\tMaxRAMUsage_Experience/eval_phase/train_stream/Task000/Exp004 = 178.7344\n",
      "\tTop1_Acc_Exp/eval_phase/train_stream/Task000/Exp004 = 0.7894\n",
      "-- Starting eval on experience 5 (Task 0) from train stream --\n",
      "100%|██████████| 469/469 [00:04<00:00, 116.70it/s]\n",
      "> Eval on experience 5 (Task 0) from train stream ended.\n",
      "\tCPUUsage_Exp/eval_phase/train_stream/Task000/Exp005 = 106.2360\n",
      "\tMaxRAMUsage_Experience/eval_phase/train_stream/Task000/Exp005 = 180.3750\n",
      "\tTop1_Acc_Exp/eval_phase/train_stream/Task000/Exp005 = 0.8089\n",
      "-- Starting eval on experience 6 (Task 0) from train stream --\n",
      "100%|██████████| 469/469 [00:04<00:00, 115.41it/s]\n",
      "> Eval on experience 6 (Task 0) from train stream ended.\n",
      "\tCPUUsage_Exp/eval_phase/train_stream/Task000/Exp006 = 104.7113\n",
      "\tMaxRAMUsage_Experience/eval_phase/train_stream/Task000/Exp006 = 176.5312\n",
      "\tTop1_Acc_Exp/eval_phase/train_stream/Task000/Exp006 = 0.1396\n",
      "-- Starting eval on experience 7 (Task 0) from train stream --\n",
      "100%|██████████| 469/469 [00:03<00:00, 117.42it/s]\n",
      "> Eval on experience 7 (Task 0) from train stream ended.\n",
      "\tCPUUsage_Exp/eval_phase/train_stream/Task000/Exp007 = 105.5950\n",
      "\tMaxRAMUsage_Experience/eval_phase/train_stream/Task000/Exp007 = 170.0312\n",
      "\tTop1_Acc_Exp/eval_phase/train_stream/Task000/Exp007 = 0.2172\n",
      "-- Starting eval on experience 8 (Task 0) from train stream --\n",
      "100%|██████████| 469/469 [00:04<00:00, 116.85it/s]\n",
      "> Eval on experience 8 (Task 0) from train stream ended.\n",
      "\tCPUUsage_Exp/eval_phase/train_stream/Task000/Exp008 = 105.3878\n",
      "\tMaxRAMUsage_Experience/eval_phase/train_stream/Task000/Exp008 = 202.3281\n",
      "\tTop1_Acc_Exp/eval_phase/train_stream/Task000/Exp008 = 0.1632\n",
      "-- Starting eval on experience 9 (Task 0) from train stream --\n",
      "100%|██████████| 469/469 [00:04<00:00, 116.13it/s]\n",
      "> Eval on experience 9 (Task 0) from train stream ended.\n",
      "\tCPUUsage_Exp/eval_phase/train_stream/Task000/Exp009 = 105.1332\n",
      "\tMaxRAMUsage_Experience/eval_phase/train_stream/Task000/Exp009 = 203.2812\n",
      "\tTop1_Acc_Exp/eval_phase/train_stream/Task000/Exp009 = 0.1516\n",
      "-- >> End of eval phase << --\n",
      "\tAccuracy_On_Trained_Experiences/eval_phase/train_stream/Task000 = 0.6975\n",
      "\tCPUUsage_Stream/eval_phase/train_stream/Task000 = 105.8628\n",
      "\tMaxRAMUsage_Stream/eval_phase/train_stream/Task000 = 407.3125\n",
      "\tStreamBWT/eval_phase/train_stream = -0.0844\n",
      "\tStreamForgetting/eval_phase/train_stream = 0.0844\n",
      "\tTop1_Acc_Stream/eval_phase/train_stream/Task000 = 0.4857\n",
      "-- >> Start of eval phase << --\n",
      "-- Starting eval on experience 0 (Task 0) from test stream --\n",
      "100%|██████████| 79/79 [00:00<00:00, 112.82it/s]\n",
      "> Eval on experience 0 (Task 0) from test stream ended.\n",
      "\tCPUUsage_Exp/eval_phase/test_stream/Task000/Exp000 = 104.9313\n",
      "\tExperienceBWT/eval_phase/test_stream/Task000/Exp000 = -0.2492\n",
      "\tExperienceForgetting/eval_phase/test_stream/Task000/Exp000 = 0.2492\n",
      "\tMaxRAMUsage_Experience/eval_phase/test_stream/Task000/Exp000 = 0\n",
      "\tTop1_Acc_Exp/eval_phase/test_stream/Task000/Exp000 = 0.4549\n",
      "-- Starting eval on experience 1 (Task 0) from test stream --\n",
      "100%|██████████| 79/79 [00:00<00:00, 116.25it/s]\n",
      "> Eval on experience 1 (Task 0) from test stream ended.\n",
      "\tCPUUsage_Exp/eval_phase/test_stream/Task000/Exp001 = 106.4960\n",
      "\tExperienceBWT/eval_phase/test_stream/Task000/Exp001 = -0.0818\n",
      "\tExperienceForgetting/eval_phase/test_stream/Task000/Exp001 = 0.0818\n",
      "\tMaxRAMUsage_Experience/eval_phase/test_stream/Task000/Exp001 = 213.2344\n",
      "\tTop1_Acc_Exp/eval_phase/test_stream/Task000/Exp001 = 0.6517\n",
      "-- Starting eval on experience 2 (Task 0) from test stream --\n",
      "100%|██████████| 79/79 [00:00<00:00, 116.06it/s]\n",
      "> Eval on experience 2 (Task 0) from test stream ended.\n",
      "\tCPUUsage_Exp/eval_phase/test_stream/Task000/Exp002 = 105.9112\n",
      "\tExperienceBWT/eval_phase/test_stream/Task000/Exp002 = -0.0193\n",
      "\tExperienceForgetting/eval_phase/test_stream/Task000/Exp002 = 0.0193\n",
      "\tMaxRAMUsage_Experience/eval_phase/test_stream/Task000/Exp002 = 213.5312\n",
      "\tTop1_Acc_Exp/eval_phase/test_stream/Task000/Exp002 = 0.7458\n",
      "-- Starting eval on experience 3 (Task 0) from test stream --\n",
      "100%|██████████| 79/79 [00:00<00:00, 118.96it/s]\n",
      "> Eval on experience 3 (Task 0) from test stream ended.\n",
      "\tCPUUsage_Exp/eval_phase/test_stream/Task000/Exp003 = 107.2926\n",
      "\tExperienceBWT/eval_phase/test_stream/Task000/Exp003 = -0.0392\n",
      "\tExperienceForgetting/eval_phase/test_stream/Task000/Exp003 = 0.0392\n",
      "\tMaxRAMUsage_Experience/eval_phase/test_stream/Task000/Exp003 = 0\n",
      "\tTop1_Acc_Exp/eval_phase/test_stream/Task000/Exp003 = 0.7494\n",
      "-- Starting eval on experience 4 (Task 0) from test stream --\n",
      "100%|██████████| 79/79 [00:00<00:00, 116.56it/s]\n",
      "> Eval on experience 4 (Task 0) from test stream ended.\n",
      "\tCPUUsage_Exp/eval_phase/test_stream/Task000/Exp004 = 104.9706\n",
      "\tExperienceBWT/eval_phase/test_stream/Task000/Exp004 = -0.0102\n",
      "\tExperienceForgetting/eval_phase/test_stream/Task000/Exp004 = 0.0102\n",
      "\tMaxRAMUsage_Experience/eval_phase/test_stream/Task000/Exp004 = 214.3906\n",
      "\tTop1_Acc_Exp/eval_phase/test_stream/Task000/Exp004 = 0.7964\n",
      "-- Starting eval on experience 5 (Task 0) from test stream --\n",
      "100%|██████████| 79/79 [00:00<00:00, 119.88it/s]\n",
      "> Eval on experience 5 (Task 0) from test stream ended.\n",
      "\tCPUUsage_Exp/eval_phase/test_stream/Task000/Exp005 = 107.6617\n",
      "\tMaxRAMUsage_Experience/eval_phase/test_stream/Task000/Exp005 = 211.9531\n",
      "\tTop1_Acc_Exp/eval_phase/test_stream/Task000/Exp005 = 0.8168\n",
      "-- Starting eval on experience 6 (Task 0) from test stream --\n",
      "100%|██████████| 79/79 [00:00<00:00, 114.70it/s]\n",
      "> Eval on experience 6 (Task 0) from test stream ended.\n",
      "\tCPUUsage_Exp/eval_phase/test_stream/Task000/Exp006 = 103.3187\n",
      "\tMaxRAMUsage_Experience/eval_phase/test_stream/Task000/Exp006 = 0\n",
      "\tTop1_Acc_Exp/eval_phase/test_stream/Task000/Exp006 = 0.1408\n",
      "-- Starting eval on experience 7 (Task 0) from test stream --\n",
      "100%|██████████| 79/79 [00:00<00:00, 120.51it/s]\n",
      "> Eval on experience 7 (Task 0) from test stream ended.\n",
      "\tCPUUsage_Exp/eval_phase/test_stream/Task000/Exp007 = 105.5203\n",
      "\tMaxRAMUsage_Experience/eval_phase/test_stream/Task000/Exp007 = 211.7812\n",
      "\tTop1_Acc_Exp/eval_phase/test_stream/Task000/Exp007 = 0.2226\n",
      "-- Starting eval on experience 8 (Task 0) from test stream --\n",
      "100%|██████████| 79/79 [00:00<00:00, 117.05it/s]\n",
      "> Eval on experience 8 (Task 0) from test stream ended.\n",
      "\tCPUUsage_Exp/eval_phase/test_stream/Task000/Exp008 = 103.6321\n",
      "\tMaxRAMUsage_Experience/eval_phase/test_stream/Task000/Exp008 = 212.2812\n",
      "\tTop1_Acc_Exp/eval_phase/test_stream/Task000/Exp008 = 0.1710\n",
      "-- Starting eval on experience 9 (Task 0) from test stream --\n",
      "100%|██████████| 79/79 [00:00<00:00, 107.31it/s]\n",
      "> Eval on experience 9 (Task 0) from test stream ended.\n",
      "\tCPUUsage_Exp/eval_phase/test_stream/Task000/Exp009 = 101.5074\n",
      "\tMaxRAMUsage_Experience/eval_phase/test_stream/Task000/Exp009 = 0\n",
      "\tTop1_Acc_Exp/eval_phase/test_stream/Task000/Exp009 = 0.1562\n",
      "-- >> End of eval phase << --\n",
      "\tAccuracy_On_Trained_Experiences/eval_phase/test_stream/Task000 = 0.7025\n",
      "\tCPUUsage_Stream/eval_phase/test_stream/Task000 = 105.0626\n",
      "\tMaxRAMUsage_Stream/eval_phase/test_stream/Task000 = 214.3906\n",
      "\tStreamBWT/eval_phase/test_stream = -0.0799\n",
      "\tStreamForgetting/eval_phase/test_stream = 0.0799\n",
      "\tTop1_Acc_Stream/eval_phase/test_stream/Task000 = 0.4906\n"
     ]
    },
    {
     "name": "stderr",
     "output_type": "stream",
     "text": []
    },
    {
     "name": "stdout",
     "output_type": "stream",
     "text": [
      "-- >> Start of training phase << --\n",
      "100%|██████████| 235/235 [00:04<00:00, 58.27it/s]\n",
      "Epoch 0 ended.\n",
      "\tRunningTime_Epoch/train_phase/train_stream/Task000 = 0.0002\n",
      "\tTime_Epoch/train_phase/train_stream/Task000 = 4.0340\n",
      "100%|██████████| 235/235 [00:03<00:00, 58.79it/s]\n",
      "Epoch 1 ended.\n",
      "\tRunningTime_Epoch/train_phase/train_stream/Task000 = 0.0001\n",
      "\tTime_Epoch/train_phase/train_stream/Task000 = 3.9975\n",
      "100%|██████████| 235/235 [00:03<00:00, 58.91it/s]\n",
      "Epoch 2 ended.\n",
      "\tRunningTime_Epoch/train_phase/train_stream/Task000 = 0.0001\n",
      "\tTime_Epoch/train_phase/train_stream/Task000 = 3.9894\n",
      "100%|██████████| 235/235 [00:04<00:00, 57.35it/s]\n",
      "Epoch 3 ended.\n",
      "\tRunningTime_Epoch/train_phase/train_stream/Task000 = 0.0001\n",
      "\tTime_Epoch/train_phase/train_stream/Task000 = 4.0980\n",
      "100%|██████████| 235/235 [00:03<00:00, 58.75it/s]\n",
      "Epoch 4 ended.\n",
      "\tRunningTime_Epoch/train_phase/train_stream/Task000 = 0.0001\n",
      "\tTime_Epoch/train_phase/train_stream/Task000 = 4.0001\n",
      "-- >> End of training phase << --\n",
      "-- >> Start of eval phase << --\n",
      "-- Starting eval on experience 0 (Task 0) from train stream --\n",
      "100%|██████████| 469/469 [00:03<00:00, 120.04it/s]\n",
      "> Eval on experience 0 (Task 0) from train stream ended.\n",
      "\tCPUUsage_Exp/eval_phase/train_stream/Task000/Exp000 = 106.7474\n",
      "\tExperienceBWT/eval_phase/train_stream/Task000/Exp000 = -0.2399\n",
      "\tExperienceForgetting/eval_phase/train_stream/Task000/Exp000 = 0.2399\n",
      "\tMaxRAMUsage_Experience/eval_phase/train_stream/Task000/Exp000 = 415.8906\n",
      "\tTop1_Acc_Exp/eval_phase/train_stream/Task000/Exp000 = 0.4642\n",
      "-- Starting eval on experience 1 (Task 0) from train stream --\n",
      "100%|██████████| 469/469 [00:03<00:00, 118.38it/s]\n",
      "> Eval on experience 1 (Task 0) from train stream ended.\n",
      "\tCPUUsage_Exp/eval_phase/train_stream/Task000/Exp001 = 106.5824\n",
      "\tExperienceBWT/eval_phase/train_stream/Task000/Exp001 = -0.0728\n",
      "\tExperienceForgetting/eval_phase/train_stream/Task000/Exp001 = 0.0728\n",
      "\tMaxRAMUsage_Experience/eval_phase/train_stream/Task000/Exp001 = 414.3125\n",
      "\tTop1_Acc_Exp/eval_phase/train_stream/Task000/Exp001 = 0.6607\n",
      "-- Starting eval on experience 2 (Task 0) from train stream --\n",
      "100%|██████████| 469/469 [00:03<00:00, 118.46it/s]\n",
      "> Eval on experience 2 (Task 0) from train stream ended.\n",
      "\tCPUUsage_Exp/eval_phase/train_stream/Task000/Exp002 = 106.5783\n",
      "\tExperienceBWT/eval_phase/train_stream/Task000/Exp002 = -0.0642\n",
      "\tExperienceForgetting/eval_phase/train_stream/Task000/Exp002 = 0.0642\n",
      "\tMaxRAMUsage_Experience/eval_phase/train_stream/Task000/Exp002 = 412.1094\n",
      "\tTop1_Acc_Exp/eval_phase/train_stream/Task000/Exp002 = 0.7009\n",
      "-- Starting eval on experience 3 (Task 0) from train stream --\n",
      "100%|██████████| 469/469 [00:03<00:00, 118.36it/s]\n",
      "> Eval on experience 3 (Task 0) from train stream ended.\n",
      "\tCPUUsage_Exp/eval_phase/train_stream/Task000/Exp003 = 106.7610\n",
      "\tExperienceBWT/eval_phase/train_stream/Task000/Exp003 = -0.0540\n",
      "\tExperienceForgetting/eval_phase/train_stream/Task000/Exp003 = 0.0540\n",
      "\tMaxRAMUsage_Experience/eval_phase/train_stream/Task000/Exp003 = 412.1094\n",
      "\tTop1_Acc_Exp/eval_phase/train_stream/Task000/Exp003 = 0.7346\n",
      "-- Starting eval on experience 4 (Task 0) from train stream --\n",
      "100%|██████████| 469/469 [00:03<00:00, 118.09it/s]\n",
      "> Eval on experience 4 (Task 0) from train stream ended.\n",
      "\tCPUUsage_Exp/eval_phase/train_stream/Task000/Exp004 = 106.8511\n",
      "\tExperienceBWT/eval_phase/train_stream/Task000/Exp004 = -0.0525\n",
      "\tExperienceForgetting/eval_phase/train_stream/Task000/Exp004 = 0.0525\n",
      "\tMaxRAMUsage_Experience/eval_phase/train_stream/Task000/Exp004 = 412.1094\n",
      "\tTop1_Acc_Exp/eval_phase/train_stream/Task000/Exp004 = 0.7541\n",
      "-- Starting eval on experience 5 (Task 0) from train stream --\n",
      "100%|██████████| 469/469 [00:03<00:00, 118.48it/s]\n",
      "> Eval on experience 5 (Task 0) from train stream ended.\n",
      "\tCPUUsage_Exp/eval_phase/train_stream/Task000/Exp005 = 106.8801\n",
      "\tExperienceBWT/eval_phase/train_stream/Task000/Exp005 = -0.0375\n",
      "\tExperienceForgetting/eval_phase/train_stream/Task000/Exp005 = 0.0375\n",
      "\tMaxRAMUsage_Experience/eval_phase/train_stream/Task000/Exp005 = 399.0312\n",
      "\tTop1_Acc_Exp/eval_phase/train_stream/Task000/Exp005 = 0.7793\n",
      "-- Starting eval on experience 6 (Task 0) from train stream --\n",
      "100%|██████████| 469/469 [00:03<00:00, 118.79it/s]\n",
      "> Eval on experience 6 (Task 0) from train stream ended.\n",
      "\tCPUUsage_Exp/eval_phase/train_stream/Task000/Exp006 = 106.5905\n",
      "\tMaxRAMUsage_Experience/eval_phase/train_stream/Task000/Exp006 = 396.7188\n",
      "\tTop1_Acc_Exp/eval_phase/train_stream/Task000/Exp006 = 0.8144\n",
      "-- Starting eval on experience 7 (Task 0) from train stream --\n",
      "100%|██████████| 469/469 [00:03<00:00, 118.97it/s]\n",
      "> Eval on experience 7 (Task 0) from train stream ended.\n",
      "\tCPUUsage_Exp/eval_phase/train_stream/Task000/Exp007 = 105.7824\n",
      "\tMaxRAMUsage_Experience/eval_phase/train_stream/Task000/Exp007 = 397.3750\n",
      "\tTop1_Acc_Exp/eval_phase/train_stream/Task000/Exp007 = 0.1981\n",
      "-- Starting eval on experience 8 (Task 0) from train stream --\n",
      "100%|██████████| 469/469 [00:03<00:00, 117.96it/s]\n",
      "> Eval on experience 8 (Task 0) from train stream ended.\n",
      "\tCPUUsage_Exp/eval_phase/train_stream/Task000/Exp008 = 105.1450\n",
      "\tMaxRAMUsage_Experience/eval_phase/train_stream/Task000/Exp008 = 397.4375\n",
      "\tTop1_Acc_Exp/eval_phase/train_stream/Task000/Exp008 = 0.1440\n",
      "-- Starting eval on experience 9 (Task 0) from train stream --\n",
      "100%|██████████| 469/469 [00:03<00:00, 118.46it/s]\n",
      "> Eval on experience 9 (Task 0) from train stream ended.\n",
      "\tCPUUsage_Exp/eval_phase/train_stream/Task000/Exp009 = 105.4794\n",
      "\tMaxRAMUsage_Experience/eval_phase/train_stream/Task000/Exp009 = 386.8281\n",
      "\tTop1_Acc_Exp/eval_phase/train_stream/Task000/Exp009 = 0.1329\n",
      "-- >> End of eval phase << --\n",
      "\tAccuracy_On_Trained_Experiences/eval_phase/train_stream/Task000 = 0.7012\n",
      "\tCPUUsage_Stream/eval_phase/train_stream/Task000 = 106.3285\n",
      "\tMaxRAMUsage_Stream/eval_phase/train_stream/Task000 = 415.8906\n",
      "\tStreamBWT/eval_phase/train_stream = -0.0868\n",
      "\tStreamForgetting/eval_phase/train_stream = 0.0868\n",
      "\tTop1_Acc_Stream/eval_phase/train_stream/Task000 = 0.5383\n",
      "-- >> Start of eval phase << --\n",
      "-- Starting eval on experience 0 (Task 0) from test stream --\n",
      "100%|██████████| 79/79 [00:00<00:00, 116.14it/s]\n",
      "> Eval on experience 0 (Task 0) from test stream ended.\n",
      "\tCPUUsage_Exp/eval_phase/test_stream/Task000/Exp000 = 107.3444\n",
      "\tExperienceBWT/eval_phase/test_stream/Task000/Exp000 = -0.2412\n",
      "\tExperienceForgetting/eval_phase/test_stream/Task000/Exp000 = 0.2412\n",
      "\tMaxRAMUsage_Experience/eval_phase/test_stream/Task000/Exp000 = 0\n",
      "\tTop1_Acc_Exp/eval_phase/test_stream/Task000/Exp000 = 0.4629\n",
      "-- Starting eval on experience 1 (Task 0) from test stream --\n",
      "100%|██████████| 79/79 [00:00<00:00, 120.67it/s]\n",
      "> Eval on experience 1 (Task 0) from test stream ended.\n",
      "\tCPUUsage_Exp/eval_phase/test_stream/Task000/Exp001 = 107.0656\n",
      "\tExperienceBWT/eval_phase/test_stream/Task000/Exp001 = -0.0619\n",
      "\tExperienceForgetting/eval_phase/test_stream/Task000/Exp001 = 0.0619\n",
      "\tMaxRAMUsage_Experience/eval_phase/test_stream/Task000/Exp001 = 202.0781\n",
      "\tTop1_Acc_Exp/eval_phase/test_stream/Task000/Exp001 = 0.6716\n",
      "-- Starting eval on experience 2 (Task 0) from test stream --\n",
      "100%|██████████| 79/79 [00:00<00:00, 116.72it/s]\n",
      "> Eval on experience 2 (Task 0) from test stream ended.\n",
      "\tCPUUsage_Exp/eval_phase/test_stream/Task000/Exp002 = 104.5375\n",
      "\tExperienceBWT/eval_phase/test_stream/Task000/Exp002 = -0.0600\n",
      "\tExperienceForgetting/eval_phase/test_stream/Task000/Exp002 = 0.0600\n",
      "\tMaxRAMUsage_Experience/eval_phase/test_stream/Task000/Exp002 = 202.9062\n",
      "\tTop1_Acc_Exp/eval_phase/test_stream/Task000/Exp002 = 0.7051\n",
      "-- Starting eval on experience 3 (Task 0) from test stream --\n",
      "100%|██████████| 79/79 [00:00<00:00, 121.09it/s]\n",
      "> Eval on experience 3 (Task 0) from test stream ended.\n",
      "\tCPUUsage_Exp/eval_phase/test_stream/Task000/Exp003 = 107.1992\n",
      "\tExperienceBWT/eval_phase/test_stream/Task000/Exp003 = -0.0530\n",
      "\tExperienceForgetting/eval_phase/test_stream/Task000/Exp003 = 0.0530\n",
      "\tMaxRAMUsage_Experience/eval_phase/test_stream/Task000/Exp003 = 0\n",
      "\tTop1_Acc_Exp/eval_phase/test_stream/Task000/Exp003 = 0.7356\n",
      "-- Starting eval on experience 4 (Task 0) from test stream --\n",
      "100%|██████████| 79/79 [00:00<00:00, 118.44it/s]\n",
      "> Eval on experience 4 (Task 0) from test stream ended.\n",
      "\tCPUUsage_Exp/eval_phase/test_stream/Task000/Exp004 = 104.7972\n",
      "\tExperienceBWT/eval_phase/test_stream/Task000/Exp004 = -0.0521\n",
      "\tExperienceForgetting/eval_phase/test_stream/Task000/Exp004 = 0.0521\n",
      "\tMaxRAMUsage_Experience/eval_phase/test_stream/Task000/Exp004 = 203.6250\n",
      "\tTop1_Acc_Exp/eval_phase/test_stream/Task000/Exp004 = 0.7545\n",
      "-- Starting eval on experience 5 (Task 0) from test stream --\n",
      "100%|██████████| 79/79 [00:00<00:00, 119.19it/s]\n",
      "> Eval on experience 5 (Task 0) from test stream ended.\n",
      "\tCPUUsage_Exp/eval_phase/test_stream/Task000/Exp005 = 106.8150\n",
      "\tExperienceBWT/eval_phase/test_stream/Task000/Exp005 = -0.0347\n",
      "\tExperienceForgetting/eval_phase/test_stream/Task000/Exp005 = 0.0347\n",
      "\tMaxRAMUsage_Experience/eval_phase/test_stream/Task000/Exp005 = 203.9688\n",
      "\tTop1_Acc_Exp/eval_phase/test_stream/Task000/Exp005 = 0.7821\n",
      "-- Starting eval on experience 6 (Task 0) from test stream --\n",
      "100%|██████████| 79/79 [00:00<00:00, 117.76it/s]\n",
      "> Eval on experience 6 (Task 0) from test stream ended.\n",
      "\tCPUUsage_Exp/eval_phase/test_stream/Task000/Exp006 = 105.5387\n",
      "\tMaxRAMUsage_Experience/eval_phase/test_stream/Task000/Exp006 = 0\n",
      "\tTop1_Acc_Exp/eval_phase/test_stream/Task000/Exp006 = 0.8233\n",
      "-- Starting eval on experience 7 (Task 0) from test stream --\n",
      "100%|██████████| 79/79 [00:00<00:00, 120.65it/s]\n",
      "> Eval on experience 7 (Task 0) from test stream ended.\n",
      "\tCPUUsage_Exp/eval_phase/test_stream/Task000/Exp007 = 106.4755\n",
      "\tMaxRAMUsage_Experience/eval_phase/test_stream/Task000/Exp007 = 204.1250\n",
      "\tTop1_Acc_Exp/eval_phase/test_stream/Task000/Exp007 = 0.2025\n",
      "-- Starting eval on experience 8 (Task 0) from test stream --\n",
      "100%|██████████| 79/79 [00:00<00:00, 118.98it/s]\n",
      "> Eval on experience 8 (Task 0) from test stream ended.\n",
      "\tCPUUsage_Exp/eval_phase/test_stream/Task000/Exp008 = 104.2739\n",
      "\tMaxRAMUsage_Experience/eval_phase/test_stream/Task000/Exp008 = 204.2344\n",
      "\tTop1_Acc_Exp/eval_phase/test_stream/Task000/Exp008 = 0.1495\n",
      "-- Starting eval on experience 9 (Task 0) from test stream --\n",
      "100%|██████████| 79/79 [00:00<00:00, 120.39it/s]\n",
      "> Eval on experience 9 (Task 0) from test stream ended.\n",
      "\tCPUUsage_Exp/eval_phase/test_stream/Task000/Exp009 = 105.9901\n",
      "\tMaxRAMUsage_Experience/eval_phase/test_stream/Task000/Exp009 = 0\n",
      "\tTop1_Acc_Exp/eval_phase/test_stream/Task000/Exp009 = 0.1311\n"
     ]
    },
    {
     "name": "stderr",
     "output_type": "stream",
     "text": []
    },
    {
     "name": "stdout",
     "output_type": "stream",
     "text": [
      "-- >> End of eval phase << --\n",
      "\tAccuracy_On_Trained_Experiences/eval_phase/test_stream/Task000 = 0.7050\n",
      "\tCPUUsage_Stream/eval_phase/test_stream/Task000 = 105.9804\n",
      "\tMaxRAMUsage_Stream/eval_phase/test_stream/Task000 = 221.5312\n",
      "\tStreamBWT/eval_phase/test_stream = -0.0838\n",
      "\tStreamForgetting/eval_phase/test_stream = 0.0838\n",
      "\tTop1_Acc_Stream/eval_phase/test_stream/Task000 = 0.5418\n",
      "-- >> Start of training phase << --\n",
      "100%|██████████| 235/235 [00:03<00:00, 59.66it/s]\n",
      "Epoch 0 ended.\n",
      "\tRunningTime_Epoch/train_phase/train_stream/Task000 = 0.0001\n",
      "\tTime_Epoch/train_phase/train_stream/Task000 = 3.9401\n",
      "100%|██████████| 235/235 [00:03<00:00, 59.24it/s]\n",
      "Epoch 1 ended.\n",
      "\tRunningTime_Epoch/train_phase/train_stream/Task000 = 0.0001\n",
      "\tTime_Epoch/train_phase/train_stream/Task000 = 3.9675\n",
      "100%|██████████| 235/235 [00:03<00:00, 59.44it/s]\n",
      "Epoch 2 ended.\n",
      "\tRunningTime_Epoch/train_phase/train_stream/Task000 = 0.0001\n",
      "\tTime_Epoch/train_phase/train_stream/Task000 = 3.9540\n",
      "100%|██████████| 235/235 [00:03<00:00, 59.57it/s]\n",
      "Epoch 3 ended.\n",
      "\tRunningTime_Epoch/train_phase/train_stream/Task000 = 0.0001\n",
      "\tTime_Epoch/train_phase/train_stream/Task000 = 3.9452\n",
      "100%|██████████| 235/235 [00:04<00:00, 56.54it/s]\n",
      "Epoch 4 ended.\n",
      "\tRunningTime_Epoch/train_phase/train_stream/Task000 = 0.0001\n",
      "\tTime_Epoch/train_phase/train_stream/Task000 = 4.1571\n",
      "-- >> End of training phase << --\n",
      "-- >> Start of eval phase << --\n",
      "-- Starting eval on experience 0 (Task 0) from train stream --\n",
      "100%|██████████| 469/469 [00:03<00:00, 118.63it/s]\n",
      "> Eval on experience 0 (Task 0) from train stream ended.\n",
      "\tCPUUsage_Exp/eval_phase/train_stream/Task000/Exp000 = 106.4393\n",
      "\tExperienceBWT/eval_phase/train_stream/Task000/Exp000 = -0.3510\n",
      "\tExperienceForgetting/eval_phase/train_stream/Task000/Exp000 = 0.3510\n",
      "\tMaxRAMUsage_Experience/eval_phase/train_stream/Task000/Exp000 = 417.2500\n",
      "\tTop1_Acc_Exp/eval_phase/train_stream/Task000/Exp000 = 0.3531\n",
      "-- Starting eval on experience 1 (Task 0) from train stream --\n",
      "100%|██████████| 469/469 [00:03<00:00, 118.61it/s]\n",
      "> Eval on experience 1 (Task 0) from train stream ended.\n",
      "\tCPUUsage_Exp/eval_phase/train_stream/Task000/Exp001 = 106.4221\n",
      "\tExperienceBWT/eval_phase/train_stream/Task000/Exp001 = -0.1542\n",
      "\tExperienceForgetting/eval_phase/train_stream/Task000/Exp001 = 0.1542\n",
      "\tMaxRAMUsage_Experience/eval_phase/train_stream/Task000/Exp001 = 417.2812\n",
      "\tTop1_Acc_Exp/eval_phase/train_stream/Task000/Exp001 = 0.5793\n",
      "-- Starting eval on experience 2 (Task 0) from train stream --\n",
      "100%|██████████| 469/469 [00:03<00:00, 119.05it/s]\n",
      "> Eval on experience 2 (Task 0) from train stream ended.\n",
      "\tCPUUsage_Exp/eval_phase/train_stream/Task000/Exp002 = 106.8223\n",
      "\tExperienceBWT/eval_phase/train_stream/Task000/Exp002 = -0.1304\n",
      "\tExperienceForgetting/eval_phase/train_stream/Task000/Exp002 = 0.1304\n",
      "\tMaxRAMUsage_Experience/eval_phase/train_stream/Task000/Exp002 = 417.2812\n",
      "\tTop1_Acc_Exp/eval_phase/train_stream/Task000/Exp002 = 0.6347\n",
      "-- Starting eval on experience 3 (Task 0) from train stream --\n",
      "100%|██████████| 469/469 [00:04<00:00, 116.77it/s]\n",
      "> Eval on experience 3 (Task 0) from train stream ended.\n",
      "\tCPUUsage_Exp/eval_phase/train_stream/Task000/Exp003 = 105.7557\n",
      "\tExperienceBWT/eval_phase/train_stream/Task000/Exp003 = -0.0932\n",
      "\tExperienceForgetting/eval_phase/train_stream/Task000/Exp003 = 0.0932\n",
      "\tMaxRAMUsage_Experience/eval_phase/train_stream/Task000/Exp003 = 417.2969\n",
      "\tTop1_Acc_Exp/eval_phase/train_stream/Task000/Exp003 = 0.6954\n",
      "-- Starting eval on experience 4 (Task 0) from train stream --\n",
      "100%|██████████| 469/469 [00:03<00:00, 118.21it/s]\n",
      "> Eval on experience 4 (Task 0) from train stream ended.\n",
      "\tCPUUsage_Exp/eval_phase/train_stream/Task000/Exp004 = 106.2671\n",
      "\tExperienceBWT/eval_phase/train_stream/Task000/Exp004 = -0.0923\n",
      "\tExperienceForgetting/eval_phase/train_stream/Task000/Exp004 = 0.0923\n",
      "\tMaxRAMUsage_Experience/eval_phase/train_stream/Task000/Exp004 = 413.9375\n",
      "\tTop1_Acc_Exp/eval_phase/train_stream/Task000/Exp004 = 0.7143\n",
      "-- Starting eval on experience 5 (Task 0) from train stream --\n",
      "100%|██████████| 469/469 [00:03<00:00, 118.19it/s]\n",
      "> Eval on experience 5 (Task 0) from train stream ended.\n",
      "\tCPUUsage_Exp/eval_phase/train_stream/Task000/Exp005 = 106.7735\n",
      "\tExperienceBWT/eval_phase/train_stream/Task000/Exp005 = -0.0581\n",
      "\tExperienceForgetting/eval_phase/train_stream/Task000/Exp005 = 0.0581\n",
      "\tMaxRAMUsage_Experience/eval_phase/train_stream/Task000/Exp005 = 412.2344\n",
      "\tTop1_Acc_Exp/eval_phase/train_stream/Task000/Exp005 = 0.7587\n",
      "-- Starting eval on experience 6 (Task 0) from train stream --\n",
      "100%|██████████| 469/469 [00:03<00:00, 118.63it/s]\n",
      "> Eval on experience 6 (Task 0) from train stream ended.\n",
      "\tCPUUsage_Exp/eval_phase/train_stream/Task000/Exp006 = 106.5648\n",
      "\tExperienceBWT/eval_phase/train_stream/Task000/Exp006 = -0.0314\n",
      "\tExperienceForgetting/eval_phase/train_stream/Task000/Exp006 = 0.0314\n",
      "\tMaxRAMUsage_Experience/eval_phase/train_stream/Task000/Exp006 = 411.2500\n",
      "\tTop1_Acc_Exp/eval_phase/train_stream/Task000/Exp006 = 0.7919\n",
      "-- Starting eval on experience 7 (Task 0) from train stream --\n",
      "100%|██████████| 469/469 [00:03<00:00, 117.71it/s]\n",
      "> Eval on experience 7 (Task 0) from train stream ended.\n",
      "\tCPUUsage_Exp/eval_phase/train_stream/Task000/Exp007 = 106.1167\n",
      "\tMaxRAMUsage_Experience/eval_phase/train_stream/Task000/Exp007 = 411.2969\n",
      "\tTop1_Acc_Exp/eval_phase/train_stream/Task000/Exp007 = 0.8216\n",
      "-- Starting eval on experience 8 (Task 0) from train stream --\n",
      "100%|██████████| 469/469 [00:04<00:00, 116.73it/s]\n",
      "> Eval on experience 8 (Task 0) from train stream ended.\n",
      "\tCPUUsage_Exp/eval_phase/train_stream/Task000/Exp008 = 104.7327\n",
      "\tMaxRAMUsage_Experience/eval_phase/train_stream/Task000/Exp008 = 397.6094\n",
      "\tTop1_Acc_Exp/eval_phase/train_stream/Task000/Exp008 = 0.1058\n",
      "-- Starting eval on experience 9 (Task 0) from train stream --\n",
      "100%|██████████| 469/469 [00:03<00:00, 117.41it/s]\n",
      "> Eval on experience 9 (Task 0) from train stream ended.\n",
      "\tCPUUsage_Exp/eval_phase/train_stream/Task000/Exp009 = 105.4535\n",
      "\tMaxRAMUsage_Experience/eval_phase/train_stream/Task000/Exp009 = 387.8281\n",
      "\tTop1_Acc_Exp/eval_phase/train_stream/Task000/Exp009 = 0.1388\n",
      "-- >> End of eval phase << --\n",
      "\tAccuracy_On_Trained_Experiences/eval_phase/train_stream/Task000 = 0.6686\n",
      "\tCPUUsage_Stream/eval_phase/train_stream/Task000 = 106.1220\n",
      "\tMaxRAMUsage_Stream/eval_phase/train_stream/Task000 = 417.3281\n",
      "\tStreamBWT/eval_phase/train_stream = -0.1301\n",
      "\tStreamForgetting/eval_phase/train_stream = 0.1301\n",
      "\tTop1_Acc_Stream/eval_phase/train_stream/Task000 = 0.5593\n",
      "-- >> Start of eval phase << --\n",
      "-- Starting eval on experience 0 (Task 0) from test stream --\n",
      "100%|██████████| 79/79 [00:00<00:00, 112.63it/s]\n",
      "> Eval on experience 0 (Task 0) from test stream ended.\n",
      "\tCPUUsage_Exp/eval_phase/test_stream/Task000/Exp000 = 104.5012\n",
      "\tExperienceBWT/eval_phase/test_stream/Task000/Exp000 = -0.3434\n",
      "\tExperienceForgetting/eval_phase/test_stream/Task000/Exp000 = 0.3434\n",
      "\tMaxRAMUsage_Experience/eval_phase/test_stream/Task000/Exp000 = 0\n",
      "\tTop1_Acc_Exp/eval_phase/test_stream/Task000/Exp000 = 0.3607\n",
      "-- Starting eval on experience 1 (Task 0) from test stream --\n",
      "100%|██████████| 79/79 [00:00<00:00, 120.46it/s]\n",
      "> Eval on experience 1 (Task 0) from test stream ended.\n",
      "\tCPUUsage_Exp/eval_phase/test_stream/Task000/Exp001 = 107.0817\n",
      "\tExperienceBWT/eval_phase/test_stream/Task000/Exp001 = -0.1465\n",
      "\tExperienceForgetting/eval_phase/test_stream/Task000/Exp001 = 0.1465\n",
      "\tMaxRAMUsage_Experience/eval_phase/test_stream/Task000/Exp001 = 202.2188\n",
      "\tTop1_Acc_Exp/eval_phase/test_stream/Task000/Exp001 = 0.5870\n",
      "-- Starting eval on experience 2 (Task 0) from test stream --\n",
      "100%|██████████| 79/79 [00:00<00:00, 117.29it/s]\n",
      "> Eval on experience 2 (Task 0) from test stream ended.\n",
      "\tCPUUsage_Exp/eval_phase/test_stream/Task000/Exp002 = 104.9217\n",
      "\tExperienceBWT/eval_phase/test_stream/Task000/Exp002 = -0.1340\n",
      "\tExperienceForgetting/eval_phase/test_stream/Task000/Exp002 = 0.1340\n",
      "\tMaxRAMUsage_Experience/eval_phase/test_stream/Task000/Exp002 = 202.7969\n",
      "\tTop1_Acc_Exp/eval_phase/test_stream/Task000/Exp002 = 0.6311\n",
      "-- Starting eval on experience 3 (Task 0) from test stream --\n",
      "100%|██████████| 79/79 [00:00<00:00, 120.86it/s]\n",
      "> Eval on experience 3 (Task 0) from test stream ended.\n",
      "\tCPUUsage_Exp/eval_phase/test_stream/Task000/Exp003 = 107.0725\n",
      "\tExperienceBWT/eval_phase/test_stream/Task000/Exp003 = -0.0941\n",
      "\tExperienceForgetting/eval_phase/test_stream/Task000/Exp003 = 0.0941\n",
      "\tMaxRAMUsage_Experience/eval_phase/test_stream/Task000/Exp003 = 0\n",
      "\tTop1_Acc_Exp/eval_phase/test_stream/Task000/Exp003 = 0.6945\n",
      "-- Starting eval on experience 4 (Task 0) from test stream --\n",
      "100%|██████████| 79/79 [00:00<00:00, 116.93it/s]\n",
      "> Eval on experience 4 (Task 0) from test stream ended.\n",
      "\tCPUUsage_Exp/eval_phase/test_stream/Task000/Exp004 = 105.1756\n",
      "\tExperienceBWT/eval_phase/test_stream/Task000/Exp004 = -0.0964\n",
      "\tExperienceForgetting/eval_phase/test_stream/Task000/Exp004 = 0.0964\n",
      "\tMaxRAMUsage_Experience/eval_phase/test_stream/Task000/Exp004 = 203.6250\n",
      "\tTop1_Acc_Exp/eval_phase/test_stream/Task000/Exp004 = 0.7102\n",
      "-- Starting eval on experience 5 (Task 0) from test stream --\n",
      "100%|██████████| 79/79 [00:00<00:00, 120.86it/s]\n",
      "> Eval on experience 5 (Task 0) from test stream ended.\n",
      "\tCPUUsage_Exp/eval_phase/test_stream/Task000/Exp005 = 107.4671\n",
      "\tExperienceBWT/eval_phase/test_stream/Task000/Exp005 = -0.0604\n",
      "\tExperienceForgetting/eval_phase/test_stream/Task000/Exp005 = 0.0604\n",
      "\tMaxRAMUsage_Experience/eval_phase/test_stream/Task000/Exp005 = 204.4688\n",
      "\tTop1_Acc_Exp/eval_phase/test_stream/Task000/Exp005 = 0.7564\n",
      "-- Starting eval on experience 6 (Task 0) from test stream --\n",
      "100%|██████████| 79/79 [00:00<00:00, 116.84it/s]\n",
      "> Eval on experience 6 (Task 0) from test stream ended.\n",
      "\tCPUUsage_Exp/eval_phase/test_stream/Task000/Exp006 = 104.8910\n",
      "\tExperienceBWT/eval_phase/test_stream/Task000/Exp006 = -0.0316\n",
      "\tExperienceForgetting/eval_phase/test_stream/Task000/Exp006 = 0.0316\n",
      "\tMaxRAMUsage_Experience/eval_phase/test_stream/Task000/Exp006 = 0\n",
      "\tTop1_Acc_Exp/eval_phase/test_stream/Task000/Exp006 = 0.7917\n",
      "-- Starting eval on experience 7 (Task 0) from test stream --\n",
      "100%|██████████| 79/79 [00:00<00:00, 118.08it/s]\n",
      "> Eval on experience 7 (Task 0) from test stream ended.\n",
      "\tCPUUsage_Exp/eval_phase/test_stream/Task000/Exp007 = 106.6314\n",
      "\tMaxRAMUsage_Experience/eval_phase/test_stream/Task000/Exp007 = 187.9375\n",
      "\tTop1_Acc_Exp/eval_phase/test_stream/Task000/Exp007 = 0.8268\n",
      "-- Starting eval on experience 8 (Task 0) from test stream --\n",
      "100%|██████████| 79/79 [00:00<00:00, 117.10it/s]\n",
      "> Eval on experience 8 (Task 0) from test stream ended.\n",
      "\tCPUUsage_Exp/eval_phase/test_stream/Task000/Exp008 = 104.1312\n",
      "\tMaxRAMUsage_Experience/eval_phase/test_stream/Task000/Exp008 = 187.9375\n",
      "\tTop1_Acc_Exp/eval_phase/test_stream/Task000/Exp008 = 0.1141\n",
      "-- Starting eval on experience 9 (Task 0) from test stream --\n",
      "100%|██████████| 79/79 [00:00<00:00, 117.41it/s]\n",
      "> Eval on experience 9 (Task 0) from test stream ended.\n",
      "\tCPUUsage_Exp/eval_phase/test_stream/Task000/Exp009 = 104.2182\n",
      "\tMaxRAMUsage_Experience/eval_phase/test_stream/Task000/Exp009 = 0\n",
      "\tTop1_Acc_Exp/eval_phase/test_stream/Task000/Exp009 = 0.1391\n"
     ]
    },
    {
     "name": "stderr",
     "output_type": "stream",
     "text": []
    },
    {
     "name": "stdout",
     "output_type": "stream",
     "text": [
      "-- >> End of eval phase << --\n",
      "\tAccuracy_On_Trained_Experiences/eval_phase/test_stream/Task000 = 0.6698\n",
      "\tCPUUsage_Stream/eval_phase/test_stream/Task000 = 105.5671\n",
      "\tMaxRAMUsage_Stream/eval_phase/test_stream/Task000 = 253.2500\n",
      "\tStreamBWT/eval_phase/test_stream = -0.1295\n",
      "\tStreamForgetting/eval_phase/test_stream = 0.1295\n",
      "\tTop1_Acc_Stream/eval_phase/test_stream/Task000 = 0.5612\n",
      "-- >> Start of training phase << --\n",
      "100%|██████████| 235/235 [00:03<00:00, 59.23it/s]\n",
      "Epoch 0 ended.\n",
      "\tRunningTime_Epoch/train_phase/train_stream/Task000 = 0.0002\n",
      "\tTime_Epoch/train_phase/train_stream/Task000 = 3.9683\n",
      "100%|██████████| 235/235 [00:03<00:00, 59.83it/s]\n",
      "Epoch 1 ended.\n",
      "\tRunningTime_Epoch/train_phase/train_stream/Task000 = 0.0001\n",
      "\tTime_Epoch/train_phase/train_stream/Task000 = 3.9278\n",
      "100%|██████████| 235/235 [00:03<00:00, 59.19it/s]\n",
      "Epoch 2 ended.\n",
      "\tRunningTime_Epoch/train_phase/train_stream/Task000 = 0.0001\n",
      "\tTime_Epoch/train_phase/train_stream/Task000 = 3.9694\n",
      "100%|██████████| 235/235 [00:03<00:00, 59.38it/s]\n",
      "Epoch 3 ended.\n",
      "\tRunningTime_Epoch/train_phase/train_stream/Task000 = 0.0002\n",
      "\tTime_Epoch/train_phase/train_stream/Task000 = 3.9623\n",
      "100%|██████████| 235/235 [00:03<00:00, 58.76it/s]\n",
      "Epoch 4 ended.\n",
      "\tRunningTime_Epoch/train_phase/train_stream/Task000 = 0.0001\n",
      "\tTime_Epoch/train_phase/train_stream/Task000 = 3.9995\n",
      "-- >> End of training phase << --\n",
      "-- >> Start of eval phase << --\n",
      "-- Starting eval on experience 0 (Task 0) from train stream --\n",
      "100%|██████████| 469/469 [00:03<00:00, 119.56it/s]\n",
      "> Eval on experience 0 (Task 0) from train stream ended.\n",
      "\tCPUUsage_Exp/eval_phase/train_stream/Task000/Exp000 = 106.3416\n",
      "\tExperienceBWT/eval_phase/train_stream/Task000/Exp000 = -0.2888\n",
      "\tExperienceForgetting/eval_phase/train_stream/Task000/Exp000 = 0.2888\n",
      "\tMaxRAMUsage_Experience/eval_phase/train_stream/Task000/Exp000 = 217.1094\n",
      "\tTop1_Acc_Exp/eval_phase/train_stream/Task000/Exp000 = 0.4153\n",
      "-- Starting eval on experience 1 (Task 0) from train stream --\n",
      "100%|██████████| 469/469 [00:03<00:00, 119.09it/s]\n",
      "> Eval on experience 1 (Task 0) from train stream ended.\n",
      "\tCPUUsage_Exp/eval_phase/train_stream/Task000/Exp001 = 106.3528\n",
      "\tExperienceBWT/eval_phase/train_stream/Task000/Exp001 = -0.1273\n",
      "\tExperienceForgetting/eval_phase/train_stream/Task000/Exp001 = 0.1273\n",
      "\tMaxRAMUsage_Experience/eval_phase/train_stream/Task000/Exp001 = 219.4688\n",
      "\tTop1_Acc_Exp/eval_phase/train_stream/Task000/Exp001 = 0.6062\n",
      "-- Starting eval on experience 2 (Task 0) from train stream --\n",
      "100%|██████████| 469/469 [00:03<00:00, 119.95it/s]\n",
      "> Eval on experience 2 (Task 0) from train stream ended.\n",
      "\tCPUUsage_Exp/eval_phase/train_stream/Task000/Exp002 = 106.6439\n",
      "\tExperienceBWT/eval_phase/train_stream/Task000/Exp002 = -0.1478\n",
      "\tExperienceForgetting/eval_phase/train_stream/Task000/Exp002 = 0.1478\n",
      "\tMaxRAMUsage_Experience/eval_phase/train_stream/Task000/Exp002 = 221.8281\n",
      "\tTop1_Acc_Exp/eval_phase/train_stream/Task000/Exp002 = 0.6173\n",
      "-- Starting eval on experience 3 (Task 0) from train stream --\n",
      "100%|██████████| 469/469 [00:03<00:00, 119.03it/s]\n",
      "> Eval on experience 3 (Task 0) from train stream ended.\n",
      "\tCPUUsage_Exp/eval_phase/train_stream/Task000/Exp003 = 106.3066\n",
      "\tExperienceBWT/eval_phase/train_stream/Task000/Exp003 = -0.1100\n",
      "\tExperienceForgetting/eval_phase/train_stream/Task000/Exp003 = 0.1100\n",
      "\tMaxRAMUsage_Experience/eval_phase/train_stream/Task000/Exp003 = 224.2188\n",
      "\tTop1_Acc_Exp/eval_phase/train_stream/Task000/Exp003 = 0.6786\n",
      "-- Starting eval on experience 4 (Task 0) from train stream --\n",
      "100%|██████████| 469/469 [00:03<00:00, 119.47it/s]\n",
      "> Eval on experience 4 (Task 0) from train stream ended.\n",
      "\tCPUUsage_Exp/eval_phase/train_stream/Task000/Exp004 = 106.4764\n",
      "\tExperienceBWT/eval_phase/train_stream/Task000/Exp004 = -0.0741\n",
      "\tExperienceForgetting/eval_phase/train_stream/Task000/Exp004 = 0.0741\n",
      "\tMaxRAMUsage_Experience/eval_phase/train_stream/Task000/Exp004 = 226.7344\n",
      "\tTop1_Acc_Exp/eval_phase/train_stream/Task000/Exp004 = 0.7325\n",
      "-- Starting eval on experience 5 (Task 0) from train stream --\n",
      "100%|██████████| 469/469 [00:03<00:00, 118.73it/s]\n",
      "> Eval on experience 5 (Task 0) from train stream ended.\n",
      "\tCPUUsage_Exp/eval_phase/train_stream/Task000/Exp005 = 106.5121\n",
      "\tExperienceBWT/eval_phase/train_stream/Task000/Exp005 = -0.1284\n",
      "\tExperienceForgetting/eval_phase/train_stream/Task000/Exp005 = 0.1284\n",
      "\tMaxRAMUsage_Experience/eval_phase/train_stream/Task000/Exp005 = 229.0938\n",
      "\tTop1_Acc_Exp/eval_phase/train_stream/Task000/Exp005 = 0.6884\n",
      "-- Starting eval on experience 6 (Task 0) from train stream --\n",
      "100%|██████████| 469/469 [00:03<00:00, 119.33it/s]\n",
      "> Eval on experience 6 (Task 0) from train stream ended.\n",
      "\tCPUUsage_Exp/eval_phase/train_stream/Task000/Exp006 = 106.2488\n",
      "\tExperienceBWT/eval_phase/train_stream/Task000/Exp006 = -0.0542\n",
      "\tExperienceForgetting/eval_phase/train_stream/Task000/Exp006 = 0.0542\n",
      "\tMaxRAMUsage_Experience/eval_phase/train_stream/Task000/Exp006 = 231.3906\n",
      "\tTop1_Acc_Exp/eval_phase/train_stream/Task000/Exp006 = 0.7691\n",
      "-- Starting eval on experience 7 (Task 0) from train stream --\n",
      "100%|██████████| 469/469 [00:04<00:00, 117.18it/s]\n",
      "> Eval on experience 7 (Task 0) from train stream ended.\n",
      "\tCPUUsage_Exp/eval_phase/train_stream/Task000/Exp007 = 106.0600\n",
      "\tExperienceBWT/eval_phase/train_stream/Task000/Exp007 = -0.0541\n",
      "\tExperienceForgetting/eval_phase/train_stream/Task000/Exp007 = 0.0541\n",
      "\tMaxRAMUsage_Experience/eval_phase/train_stream/Task000/Exp007 = 231.4219\n",
      "\tTop1_Acc_Exp/eval_phase/train_stream/Task000/Exp007 = 0.7727\n",
      "-- Starting eval on experience 8 (Task 0) from train stream --\n",
      "100%|██████████| 469/469 [00:03<00:00, 118.83it/s]\n",
      "> Eval on experience 8 (Task 0) from train stream ended.\n",
      "\tCPUUsage_Exp/eval_phase/train_stream/Task000/Exp008 = 106.0176\n",
      "\tMaxRAMUsage_Experience/eval_phase/train_stream/Task000/Exp008 = 223.5625\n",
      "\tTop1_Acc_Exp/eval_phase/train_stream/Task000/Exp008 = 0.8298\n",
      "-- Starting eval on experience 9 (Task 0) from train stream --\n",
      "100%|██████████| 469/469 [00:03<00:00, 119.52it/s]\n",
      "> Eval on experience 9 (Task 0) from train stream ended.\n",
      "\tCPUUsage_Exp/eval_phase/train_stream/Task000/Exp009 = 105.5164\n",
      "\tMaxRAMUsage_Experience/eval_phase/train_stream/Task000/Exp009 = 220.9062\n",
      "\tTop1_Acc_Exp/eval_phase/train_stream/Task000/Exp009 = 0.1626\n",
      "-- >> End of eval phase << --\n",
      "\tAccuracy_On_Trained_Experiences/eval_phase/train_stream/Task000 = 0.6789\n",
      "\tCPUUsage_Stream/eval_phase/train_stream/Task000 = 106.2366\n",
      "\tMaxRAMUsage_Stream/eval_phase/train_stream/Task000 = 231.4219\n",
      "\tStreamBWT/eval_phase/train_stream = -0.1231\n",
      "\tStreamForgetting/eval_phase/train_stream = 0.1231\n",
      "\tTop1_Acc_Stream/eval_phase/train_stream/Task000 = 0.6272\n",
      "-- >> Start of eval phase << --\n",
      "-- Starting eval on experience 0 (Task 0) from test stream --\n",
      "100%|██████████| 79/79 [00:00<00:00, 116.57it/s]\n",
      "> Eval on experience 0 (Task 0) from test stream ended.\n",
      "\tCPUUsage_Exp/eval_phase/test_stream/Task000/Exp000 = 107.5223\n",
      "\tExperienceBWT/eval_phase/test_stream/Task000/Exp000 = -0.2881\n",
      "\tExperienceForgetting/eval_phase/test_stream/Task000/Exp000 = 0.2881\n",
      "\tMaxRAMUsage_Experience/eval_phase/test_stream/Task000/Exp000 = 0\n",
      "\tTop1_Acc_Exp/eval_phase/test_stream/Task000/Exp000 = 0.4160\n",
      "-- Starting eval on experience 1 (Task 0) from test stream --\n",
      "100%|██████████| 79/79 [00:00<00:00, 121.43it/s]\n",
      "> Eval on experience 1 (Task 0) from test stream ended.\n",
      "\tCPUUsage_Exp/eval_phase/test_stream/Task000/Exp001 = 107.1309\n",
      "\tExperienceBWT/eval_phase/test_stream/Task000/Exp001 = -0.1202\n",
      "\tExperienceForgetting/eval_phase/test_stream/Task000/Exp001 = 0.1202\n",
      "\tMaxRAMUsage_Experience/eval_phase/test_stream/Task000/Exp001 = 220.0781\n",
      "\tTop1_Acc_Exp/eval_phase/test_stream/Task000/Exp001 = 0.6133\n",
      "-- Starting eval on experience 2 (Task 0) from test stream --\n",
      "100%|██████████| 79/79 [00:00<00:00, 117.43it/s]\n",
      "> Eval on experience 2 (Task 0) from test stream ended.\n",
      "\tCPUUsage_Exp/eval_phase/test_stream/Task000/Exp002 = 106.1147\n",
      "\tExperienceBWT/eval_phase/test_stream/Task000/Exp002 = -0.1512\n",
      "\tExperienceForgetting/eval_phase/test_stream/Task000/Exp002 = 0.1512\n",
      "\tMaxRAMUsage_Experience/eval_phase/test_stream/Task000/Exp002 = 220.3594\n",
      "\tTop1_Acc_Exp/eval_phase/test_stream/Task000/Exp002 = 0.6139\n",
      "-- Starting eval on experience 3 (Task 0) from test stream --\n",
      "100%|██████████| 79/79 [00:00<00:00, 120.47it/s]\n",
      "> Eval on experience 3 (Task 0) from test stream ended.\n",
      "\tCPUUsage_Exp/eval_phase/test_stream/Task000/Exp003 = 106.5028\n",
      "\tExperienceBWT/eval_phase/test_stream/Task000/Exp003 = -0.1158\n",
      "\tExperienceForgetting/eval_phase/test_stream/Task000/Exp003 = 0.1158\n",
      "\tMaxRAMUsage_Experience/eval_phase/test_stream/Task000/Exp003 = 0\n",
      "\tTop1_Acc_Exp/eval_phase/test_stream/Task000/Exp003 = 0.6728\n",
      "-- Starting eval on experience 4 (Task 0) from test stream --\n",
      "100%|██████████| 79/79 [00:00<00:00, 117.20it/s]\n",
      "> Eval on experience 4 (Task 0) from test stream ended.\n",
      "\tCPUUsage_Exp/eval_phase/test_stream/Task000/Exp004 = 106.0248\n",
      "\tExperienceBWT/eval_phase/test_stream/Task000/Exp004 = -0.0770\n",
      "\tExperienceForgetting/eval_phase/test_stream/Task000/Exp004 = 0.0770\n",
      "\tMaxRAMUsage_Experience/eval_phase/test_stream/Task000/Exp004 = 220.3594\n",
      "\tTop1_Acc_Exp/eval_phase/test_stream/Task000/Exp004 = 0.7296\n",
      "-- Starting eval on experience 5 (Task 0) from test stream --\n",
      "100%|██████████| 79/79 [00:00<00:00, 121.34it/s]\n",
      "> Eval on experience 5 (Task 0) from test stream ended.\n",
      "\tCPUUsage_Exp/eval_phase/test_stream/Task000/Exp005 = 107.2495\n",
      "\tExperienceBWT/eval_phase/test_stream/Task000/Exp005 = -0.1233\n",
      "\tExperienceForgetting/eval_phase/test_stream/Task000/Exp005 = 0.1233\n",
      "\tMaxRAMUsage_Experience/eval_phase/test_stream/Task000/Exp005 = 0\n",
      "\tTop1_Acc_Exp/eval_phase/test_stream/Task000/Exp005 = 0.6935\n",
      "-- Starting eval on experience 6 (Task 0) from test stream --\n",
      "100%|██████████| 79/79 [00:00<00:00, 117.59it/s]\n",
      "> Eval on experience 6 (Task 0) from test stream ended.\n",
      "\tCPUUsage_Exp/eval_phase/test_stream/Task000/Exp006 = 105.6977\n",
      "\tExperienceBWT/eval_phase/test_stream/Task000/Exp006 = -0.0568\n",
      "\tExperienceForgetting/eval_phase/test_stream/Task000/Exp006 = 0.0568\n",
      "\tMaxRAMUsage_Experience/eval_phase/test_stream/Task000/Exp006 = 219.9062\n",
      "\tTop1_Acc_Exp/eval_phase/test_stream/Task000/Exp006 = 0.7665\n",
      "-- Starting eval on experience 7 (Task 0) from test stream --\n",
      "100%|██████████| 79/79 [00:00<00:00, 115.86it/s]\n",
      "> Eval on experience 7 (Task 0) from test stream ended.\n",
      "\tCPUUsage_Exp/eval_phase/test_stream/Task000/Exp007 = 104.6157\n",
      "\tExperienceBWT/eval_phase/test_stream/Task000/Exp007 = -0.0515\n",
      "\tExperienceForgetting/eval_phase/test_stream/Task000/Exp007 = 0.0515\n",
      "\tMaxRAMUsage_Experience/eval_phase/test_stream/Task000/Exp007 = 219.9062\n",
      "\tTop1_Acc_Exp/eval_phase/test_stream/Task000/Exp007 = 0.7753\n",
      "-- Starting eval on experience 8 (Task 0) from test stream --\n",
      "100%|██████████| 79/79 [00:00<00:00, 122.36it/s]\n",
      "> Eval on experience 8 (Task 0) from test stream ended.\n",
      "\tCPUUsage_Exp/eval_phase/test_stream/Task000/Exp008 = 107.0214\n",
      "\tMaxRAMUsage_Experience/eval_phase/test_stream/Task000/Exp008 = 219.9219\n",
      "\tTop1_Acc_Exp/eval_phase/test_stream/Task000/Exp008 = 0.8364\n",
      "-- Starting eval on experience 9 (Task 0) from test stream --\n",
      "100%|██████████| 79/79 [00:00<00:00, 118.55it/s]\n",
      "> Eval on experience 9 (Task 0) from test stream ended.\n",
      "\tCPUUsage_Exp/eval_phase/test_stream/Task000/Exp009 = 104.6206\n",
      "\tMaxRAMUsage_Experience/eval_phase/test_stream/Task000/Exp009 = 0\n",
      "\tTop1_Acc_Exp/eval_phase/test_stream/Task000/Exp009 = 0.1608\n"
     ]
    },
    {
     "name": "stderr",
     "output_type": "stream",
     "text": []
    },
    {
     "name": "stdout",
     "output_type": "stream",
     "text": [
      "-- >> End of eval phase << --\n",
      "\tAccuracy_On_Trained_Experiences/eval_phase/test_stream/Task000 = 0.6797\n",
      "\tCPUUsage_Stream/eval_phase/test_stream/Task000 = 106.2140\n",
      "\tMaxRAMUsage_Stream/eval_phase/test_stream/Task000 = 220.3594\n",
      "\tStreamBWT/eval_phase/test_stream = -0.1230\n",
      "\tStreamForgetting/eval_phase/test_stream = 0.1230\n",
      "\tTop1_Acc_Stream/eval_phase/test_stream/Task000 = 0.6278\n",
      "-- >> Start of training phase << --\n",
      "100%|██████████| 235/235 [00:04<00:00, 57.69it/s]\n",
      "Epoch 0 ended.\n",
      "\tRunningTime_Epoch/train_phase/train_stream/Task000 = 0.0001\n",
      "\tTime_Epoch/train_phase/train_stream/Task000 = 4.0733\n",
      "100%|██████████| 235/235 [00:04<00:00, 57.65it/s]\n",
      "Epoch 1 ended.\n",
      "\tRunningTime_Epoch/train_phase/train_stream/Task000 = 0.0001\n",
      "\tTime_Epoch/train_phase/train_stream/Task000 = 4.0757\n",
      "100%|██████████| 235/235 [00:03<00:00, 59.23it/s]\n",
      "Epoch 2 ended.\n",
      "\tRunningTime_Epoch/train_phase/train_stream/Task000 = 0.0001\n",
      "\tTime_Epoch/train_phase/train_stream/Task000 = 3.9667\n",
      "100%|██████████| 235/235 [00:03<00:00, 59.76it/s]\n",
      "Epoch 3 ended.\n",
      "\tRunningTime_Epoch/train_phase/train_stream/Task000 = 0.0001\n",
      "\tTime_Epoch/train_phase/train_stream/Task000 = 3.9324\n",
      "100%|██████████| 235/235 [00:03<00:00, 59.37it/s]\n",
      "Epoch 4 ended.\n",
      "\tRunningTime_Epoch/train_phase/train_stream/Task000 = 0.0001\n",
      "\tTime_Epoch/train_phase/train_stream/Task000 = 3.9582\n",
      "-- >> End of training phase << --\n",
      "-- >> Start of eval phase << --\n",
      "-- Starting eval on experience 0 (Task 0) from train stream --\n",
      "100%|██████████| 469/469 [00:03<00:00, 120.49it/s]\n",
      "> Eval on experience 0 (Task 0) from train stream ended.\n",
      "\tCPUUsage_Exp/eval_phase/train_stream/Task000/Exp000 = 106.8059\n",
      "\tExperienceBWT/eval_phase/train_stream/Task000/Exp000 = -0.2933\n",
      "\tExperienceForgetting/eval_phase/train_stream/Task000/Exp000 = 0.2933\n",
      "\tMaxRAMUsage_Experience/eval_phase/train_stream/Task000/Exp000 = 417.3125\n",
      "\tTop1_Acc_Exp/eval_phase/train_stream/Task000/Exp000 = 0.4108\n",
      "-- Starting eval on experience 1 (Task 0) from train stream --\n",
      "100%|██████████| 469/469 [00:03<00:00, 119.71it/s]\n",
      "> Eval on experience 1 (Task 0) from train stream ended.\n",
      "\tCPUUsage_Exp/eval_phase/train_stream/Task000/Exp001 = 106.2576\n",
      "\tExperienceBWT/eval_phase/train_stream/Task000/Exp001 = -0.1418\n",
      "\tExperienceForgetting/eval_phase/train_stream/Task000/Exp001 = 0.1418\n",
      "\tMaxRAMUsage_Experience/eval_phase/train_stream/Task000/Exp001 = 409.8438\n",
      "\tTop1_Acc_Exp/eval_phase/train_stream/Task000/Exp001 = 0.5917\n",
      "-- Starting eval on experience 2 (Task 0) from train stream --\n",
      "100%|██████████| 469/469 [00:03<00:00, 119.94it/s]\n",
      "> Eval on experience 2 (Task 0) from train stream ended.\n",
      "\tCPUUsage_Exp/eval_phase/train_stream/Task000/Exp002 = 106.2840\n",
      "\tExperienceBWT/eval_phase/train_stream/Task000/Exp002 = -0.1539\n",
      "\tExperienceForgetting/eval_phase/train_stream/Task000/Exp002 = 0.1539\n",
      "\tMaxRAMUsage_Experience/eval_phase/train_stream/Task000/Exp002 = 409.8750\n",
      "\tTop1_Acc_Exp/eval_phase/train_stream/Task000/Exp002 = 0.6112\n",
      "-- Starting eval on experience 3 (Task 0) from train stream --\n",
      "100%|██████████| 469/469 [00:03<00:00, 120.41it/s]\n",
      "> Eval on experience 3 (Task 0) from train stream ended.\n",
      "\tCPUUsage_Exp/eval_phase/train_stream/Task000/Exp003 = 106.4615\n",
      "\tExperienceBWT/eval_phase/train_stream/Task000/Exp003 = -0.0939\n",
      "\tExperienceForgetting/eval_phase/train_stream/Task000/Exp003 = 0.0939\n",
      "\tMaxRAMUsage_Experience/eval_phase/train_stream/Task000/Exp003 = 406.8906\n",
      "\tTop1_Acc_Exp/eval_phase/train_stream/Task000/Exp003 = 0.6946\n",
      "-- Starting eval on experience 4 (Task 0) from train stream --\n",
      "100%|██████████| 469/469 [00:03<00:00, 120.01it/s]\n",
      "> Eval on experience 4 (Task 0) from train stream ended.\n",
      "\tCPUUsage_Exp/eval_phase/train_stream/Task000/Exp004 = 106.2718\n",
      "\tExperienceBWT/eval_phase/train_stream/Task000/Exp004 = -0.0971\n",
      "\tExperienceForgetting/eval_phase/train_stream/Task000/Exp004 = 0.0971\n",
      "\tMaxRAMUsage_Experience/eval_phase/train_stream/Task000/Exp004 = 397.5938\n",
      "\tTop1_Acc_Exp/eval_phase/train_stream/Task000/Exp004 = 0.7095\n",
      "-- Starting eval on experience 5 (Task 0) from train stream --\n",
      "100%|██████████| 469/469 [00:03<00:00, 120.08it/s]\n",
      "> Eval on experience 5 (Task 0) from train stream ended.\n",
      "\tCPUUsage_Exp/eval_phase/train_stream/Task000/Exp005 = 106.3559\n",
      "\tExperienceBWT/eval_phase/train_stream/Task000/Exp005 = -0.1405\n",
      "\tExperienceForgetting/eval_phase/train_stream/Task000/Exp005 = 0.1405\n",
      "\tMaxRAMUsage_Experience/eval_phase/train_stream/Task000/Exp005 = 400.3438\n",
      "\tTop1_Acc_Exp/eval_phase/train_stream/Task000/Exp005 = 0.6763\n",
      "-- Starting eval on experience 6 (Task 0) from train stream --\n",
      "100%|██████████| 469/469 [00:03<00:00, 117.38it/s]\n",
      "> Eval on experience 6 (Task 0) from train stream ended.\n",
      "\tCPUUsage_Exp/eval_phase/train_stream/Task000/Exp006 = 105.3986\n",
      "\tExperienceBWT/eval_phase/train_stream/Task000/Exp006 = -0.0353\n",
      "\tExperienceForgetting/eval_phase/train_stream/Task000/Exp006 = 0.0353\n",
      "\tMaxRAMUsage_Experience/eval_phase/train_stream/Task000/Exp006 = 401.7969\n",
      "\tTop1_Acc_Exp/eval_phase/train_stream/Task000/Exp006 = 0.7880\n",
      "-- Starting eval on experience 7 (Task 0) from train stream --\n",
      "100%|██████████| 469/469 [00:04<00:00, 111.12it/s]\n",
      "> Eval on experience 7 (Task 0) from train stream ended.\n",
      "\tCPUUsage_Exp/eval_phase/train_stream/Task000/Exp007 = 103.8811\n",
      "\tExperienceBWT/eval_phase/train_stream/Task000/Exp007 = -0.0508\n",
      "\tExperienceForgetting/eval_phase/train_stream/Task000/Exp007 = 0.0508\n",
      "\tMaxRAMUsage_Experience/eval_phase/train_stream/Task000/Exp007 = 395.4531\n",
      "\tTop1_Acc_Exp/eval_phase/train_stream/Task000/Exp007 = 0.7760\n",
      "-- Starting eval on experience 8 (Task 0) from train stream --\n",
      "100%|██████████| 469/469 [00:03<00:00, 121.21it/s]\n",
      "> Eval on experience 8 (Task 0) from train stream ended.\n",
      "\tCPUUsage_Exp/eval_phase/train_stream/Task000/Exp008 = 106.3265\n",
      "\tExperienceBWT/eval_phase/train_stream/Task000/Exp008 = -0.0400\n",
      "\tExperienceForgetting/eval_phase/train_stream/Task000/Exp008 = 0.0400\n",
      "\tMaxRAMUsage_Experience/eval_phase/train_stream/Task000/Exp008 = 130.8281\n",
      "\tTop1_Acc_Exp/eval_phase/train_stream/Task000/Exp008 = 0.7964\n",
      "-- Starting eval on experience 9 (Task 0) from train stream --\n",
      "100%|██████████| 469/469 [00:04<00:00, 114.35it/s]\n",
      "> Eval on experience 9 (Task 0) from train stream ended.\n",
      "\tCPUUsage_Exp/eval_phase/train_stream/Task000/Exp009 = 104.0934\n",
      "\tMaxRAMUsage_Experience/eval_phase/train_stream/Task000/Exp009 = 134.5469\n",
      "\tTop1_Acc_Exp/eval_phase/train_stream/Task000/Exp009 = 0.8323\n",
      "-- >> End of eval phase << --\n",
      "\tAccuracy_On_Trained_Experiences/eval_phase/train_stream/Task000 = 0.6887\n",
      "\tCPUUsage_Stream/eval_phase/train_stream/Task000 = 105.7768\n",
      "\tMaxRAMUsage_Stream/eval_phase/train_stream/Task000 = 417.3125\n",
      "\tStreamBWT/eval_phase/train_stream = -0.1163\n",
      "\tStreamForgetting/eval_phase/train_stream = 0.1163\n",
      "\tTop1_Acc_Stream/eval_phase/train_stream/Task000 = 0.6887\n",
      "-- >> Start of eval phase << --\n",
      "-- Starting eval on experience 0 (Task 0) from test stream --\n",
      "100%|██████████| 79/79 [00:00<00:00, 110.59it/s]\n",
      "> Eval on experience 0 (Task 0) from test stream ended.\n",
      "\tCPUUsage_Exp/eval_phase/test_stream/Task000/Exp000 = 105.5055\n",
      "\tExperienceBWT/eval_phase/test_stream/Task000/Exp000 = -0.2918\n",
      "\tExperienceForgetting/eval_phase/test_stream/Task000/Exp000 = 0.2918\n",
      "\tMaxRAMUsage_Experience/eval_phase/test_stream/Task000/Exp000 = 0\n",
      "\tTop1_Acc_Exp/eval_phase/test_stream/Task000/Exp000 = 0.4123\n",
      "-- Starting eval on experience 1 (Task 0) from test stream --\n",
      "100%|██████████| 79/79 [00:00<00:00, 118.04it/s]\n",
      "> Eval on experience 1 (Task 0) from test stream ended.\n",
      "\tCPUUsage_Exp/eval_phase/test_stream/Task000/Exp001 = 107.6678\n",
      "\tExperienceBWT/eval_phase/test_stream/Task000/Exp001 = -0.1291\n",
      "\tExperienceForgetting/eval_phase/test_stream/Task000/Exp001 = 0.1291\n",
      "\tMaxRAMUsage_Experience/eval_phase/test_stream/Task000/Exp001 = 143.3281\n",
      "\tTop1_Acc_Exp/eval_phase/test_stream/Task000/Exp001 = 0.6044\n",
      "-- Starting eval on experience 2 (Task 0) from test stream --\n",
      "100%|██████████| 79/79 [00:00<00:00, 120.19it/s]\n",
      "> Eval on experience 2 (Task 0) from test stream ended.\n",
      "\tCPUUsage_Exp/eval_phase/test_stream/Task000/Exp002 = 104.1947\n",
      "\tExperienceBWT/eval_phase/test_stream/Task000/Exp002 = -0.1603\n",
      "\tExperienceForgetting/eval_phase/test_stream/Task000/Exp002 = 0.1603\n",
      "\tMaxRAMUsage_Experience/eval_phase/test_stream/Task000/Exp002 = 143.6094\n",
      "\tTop1_Acc_Exp/eval_phase/test_stream/Task000/Exp002 = 0.6048\n",
      "-- Starting eval on experience 3 (Task 0) from test stream --\n",
      "100%|██████████| 79/79 [00:00<00:00, 124.68it/s]\n",
      "> Eval on experience 3 (Task 0) from test stream ended.\n",
      "\tCPUUsage_Exp/eval_phase/test_stream/Task000/Exp003 = 106.8724\n",
      "\tExperienceBWT/eval_phase/test_stream/Task000/Exp003 = -0.0918\n",
      "\tExperienceForgetting/eval_phase/test_stream/Task000/Exp003 = 0.0918\n",
      "\tMaxRAMUsage_Experience/eval_phase/test_stream/Task000/Exp003 = 0\n",
      "\tTop1_Acc_Exp/eval_phase/test_stream/Task000/Exp003 = 0.6968\n",
      "-- Starting eval on experience 4 (Task 0) from test stream --\n",
      "100%|██████████| 79/79 [00:00<00:00, 115.43it/s]\n",
      "> Eval on experience 4 (Task 0) from test stream ended.\n",
      "\tCPUUsage_Exp/eval_phase/test_stream/Task000/Exp004 = 104.5181\n",
      "\tExperienceBWT/eval_phase/test_stream/Task000/Exp004 = -0.0915\n",
      "\tExperienceForgetting/eval_phase/test_stream/Task000/Exp004 = 0.0915\n",
      "\tMaxRAMUsage_Experience/eval_phase/test_stream/Task000/Exp004 = 134.9844\n",
      "\tTop1_Acc_Exp/eval_phase/test_stream/Task000/Exp004 = 0.7151\n",
      "-- Starting eval on experience 5 (Task 0) from test stream --\n",
      "100%|██████████| 79/79 [00:00<00:00, 113.83it/s]\n",
      "> Eval on experience 5 (Task 0) from test stream ended.\n",
      "\tCPUUsage_Exp/eval_phase/test_stream/Task000/Exp005 = 104.8707\n",
      "\tExperienceBWT/eval_phase/test_stream/Task000/Exp005 = -0.1433\n",
      "\tExperienceForgetting/eval_phase/test_stream/Task000/Exp005 = 0.1433\n",
      "\tMaxRAMUsage_Experience/eval_phase/test_stream/Task000/Exp005 = 135.4844\n",
      "\tTop1_Acc_Exp/eval_phase/test_stream/Task000/Exp005 = 0.6735\n",
      "-- Starting eval on experience 6 (Task 0) from test stream --\n",
      "100%|██████████| 79/79 [00:00<00:00, 117.36it/s]\n",
      "> Eval on experience 6 (Task 0) from test stream ended.\n",
      "\tCPUUsage_Exp/eval_phase/test_stream/Task000/Exp006 = 106.3326\n",
      "\tExperienceBWT/eval_phase/test_stream/Task000/Exp006 = -0.0320\n",
      "\tExperienceForgetting/eval_phase/test_stream/Task000/Exp006 = 0.0320\n",
      "\tMaxRAMUsage_Experience/eval_phase/test_stream/Task000/Exp006 = 0\n",
      "\tTop1_Acc_Exp/eval_phase/test_stream/Task000/Exp006 = 0.7913\n",
      "-- Starting eval on experience 7 (Task 0) from test stream --\n",
      "100%|██████████| 79/79 [00:00<00:00, 121.91it/s]\n",
      "> Eval on experience 7 (Task 0) from test stream ended.\n",
      "\tCPUUsage_Exp/eval_phase/test_stream/Task000/Exp007 = 105.3473\n",
      "\tExperienceBWT/eval_phase/test_stream/Task000/Exp007 = -0.0441\n",
      "\tExperienceForgetting/eval_phase/test_stream/Task000/Exp007 = 0.0441\n",
      "\tMaxRAMUsage_Experience/eval_phase/test_stream/Task000/Exp007 = 128.4062\n",
      "\tTop1_Acc_Exp/eval_phase/test_stream/Task000/Exp007 = 0.7827\n",
      "-- Starting eval on experience 8 (Task 0) from test stream --\n",
      "100%|██████████| 79/79 [00:00<00:00, 126.72it/s]\n",
      "> Eval on experience 8 (Task 0) from test stream ended.\n",
      "\tCPUUsage_Exp/eval_phase/test_stream/Task000/Exp008 = 107.1506\n",
      "\tExperienceBWT/eval_phase/test_stream/Task000/Exp008 = -0.0339\n",
      "\tExperienceForgetting/eval_phase/test_stream/Task000/Exp008 = 0.0339\n",
      "\tMaxRAMUsage_Experience/eval_phase/test_stream/Task000/Exp008 = 128.9531\n",
      "\tTop1_Acc_Exp/eval_phase/test_stream/Task000/Exp008 = 0.8025\n",
      "-- Starting eval on experience 9 (Task 0) from test stream --\n",
      "100%|██████████| 79/79 [00:00<00:00, 121.92it/s]\n",
      "> Eval on experience 9 (Task 0) from test stream ended.\n",
      "\tCPUUsage_Exp/eval_phase/test_stream/Task000/Exp009 = 104.9052\n",
      "\tMaxRAMUsage_Experience/eval_phase/test_stream/Task000/Exp009 = 0\n",
      "\tTop1_Acc_Exp/eval_phase/test_stream/Task000/Exp009 = 0.8348\n"
     ]
    },
    {
     "name": "stderr",
     "output_type": "stream",
     "text": [
      "100%|██████████| 10/10 [11:03<00:00, 66.39s/it]"
     ]
    },
    {
     "name": "stdout",
     "output_type": "stream",
     "text": [
      "-- >> End of eval phase << --\n",
      "\tAccuracy_On_Trained_Experiences/eval_phase/test_stream/Task000 = 0.6918\n",
      "\tCPUUsage_Stream/eval_phase/test_stream/Task000 = 105.7018\n",
      "\tMaxRAMUsage_Stream/eval_phase/test_stream/Task000 = 143.6094\n",
      "\tStreamBWT/eval_phase/test_stream = -0.1131\n",
      "\tStreamForgetting/eval_phase/test_stream = 0.1131\n",
      "\tTop1_Acc_Stream/eval_phase/test_stream/Task000 = 0.6918\n"
     ]
    },
    {
     "name": "stderr",
     "output_type": "stream",
     "text": [
      "\n"
     ]
    }
   ],
   "source": [
    "results = list()\n",
    "\n",
    "for experience in tqdm(train_stream):\n",
    "    strategy.train(experience)\n",
    "\n",
    "    # eval on the whole train stream\n",
    "    metrics = strategy.eval(train_stream)\n",
    "    results.append(metrics)\n",
    "\n",
    "    # eval on test\n",
    "    metrics = strategy.eval(test_stream)\n",
    "    results.append(metrics)"
   ]
  },
  {
   "cell_type": "markdown",
   "metadata": {},
   "source": [
    "# Get metrics"
   ]
  },
  {
   "cell_type": "markdown",
   "metadata": {},
   "source": [
    "## Training Accuracies"
   ]
  },
  {
   "cell_type": "code",
   "execution_count": 16,
   "metadata": {},
   "outputs": [],
   "source": [
    "training_accuracies: dict[int, list[float]] = dict()\n",
    "\n",
    "for i in range(10):\n",
    "    training_accuracies[f\"Task{i}\"] = eval_plugin.get_all_metrics()[\n",
    "        f\"Top1_Acc_Exp/eval_phase/train_stream/Task000/Exp00{i}\"\n",
    "    ][1]\n",
    "\n",
    "training_accuracies[\"Overall\"] = eval_plugin.get_all_metrics()[\n",
    "    \"Top1_Acc_Stream/eval_phase/train_stream/Task000\"\n",
    "][1]"
   ]
  },
  {
   "cell_type": "markdown",
   "metadata": {},
   "source": [
    "## Evaluation Accuracies"
   ]
  },
  {
   "cell_type": "code",
   "execution_count": 17,
   "metadata": {},
   "outputs": [],
   "source": [
    "accuracies: dict[int, list[float]] = dict()\n",
    "\n",
    "for i in range(10):\n",
    "    accuracies[f\"Task{i}\"] = eval_plugin.get_all_metrics()[\n",
    "        f\"Top1_Acc_Exp/eval_phase/test_stream/Task000/Exp00{i}\"\n",
    "    ][1]\n",
    "\n",
    "accuracies[\"Overall\"] = eval_plugin.get_all_metrics()[\n",
    "    \"Top1_Acc_Stream/eval_phase/test_stream/Task000\"\n",
    "][1]"
   ]
  },
  {
   "cell_type": "markdown",
   "metadata": {},
   "source": [
    "## Forgetting measure"
   ]
  },
  {
   "cell_type": "code",
   "execution_count": 18,
   "metadata": {},
   "outputs": [],
   "source": [
    "forgetting_measures: dict[int, list[float]] = dict()\n",
    "\n",
    "for i in range(9):\n",
    "    forgetting_measures[f\"Task{i}\"] = eval_plugin.get_all_metrics()[\n",
    "        f\"ExperienceForgetting/eval_phase/test_stream/Task000/Exp00{i}\"\n",
    "    ][1]\n",
    "forgetting_measures[\"Overall\"] = eval_plugin.get_all_metrics()[\n",
    "    \"StreamForgetting/eval_phase/test_stream\"\n",
    "][1]"
   ]
  },
  {
   "cell_type": "markdown",
   "metadata": {},
   "source": [
    "## Backward Transfer"
   ]
  },
  {
   "cell_type": "code",
   "execution_count": 19,
   "metadata": {},
   "outputs": [],
   "source": [
    "bwts: dict[int, list[float]] = dict()\n",
    "\n",
    "for i in range(9):\n",
    "    bwts[f\"Task{i}\"] = eval_plugin.get_all_metrics()[\n",
    "        f\"ExperienceBWT/eval_phase/test_stream/Task000/Exp00{i}\"\n",
    "    ][1]\n",
    "bwts[\"Overall\"] = eval_plugin.get_all_metrics()[\n",
    "    \"StreamBWT/eval_phase/test_stream\"\n",
    "][1]"
   ]
  },
  {
   "cell_type": "markdown",
   "metadata": {},
   "source": [
    "# Plotting metrics"
   ]
  },
  {
   "cell_type": "markdown",
   "metadata": {},
   "source": [
    "## Traning accuracies"
   ]
  },
  {
   "cell_type": "code",
   "execution_count": 20,
   "metadata": {},
   "outputs": [
    {
     "data": {
      "application/vnd.plotly.v1+json": {
       "config": {
        "plotlyServerURL": "https://plot.ly"
       },
       "data": [
        {
         "hovertemplate": "variable=Task0<br>index=%{x}<br>value=%{y}<extra></extra>",
         "legendgroup": "Task0",
         "line": {
          "color": "#636efa",
          "dash": "solid"
         },
         "marker": {
          "symbol": "circle"
         },
         "mode": "lines",
         "name": "Task0",
         "orientation": "v",
         "showlegend": true,
         "type": "scatter",
         "x": [
          0,
          1,
          2,
          3,
          4,
          5,
          6,
          7,
          8,
          9
         ],
         "xaxis": "x",
         "y": [
          0.6953,
          0.62635,
          0.6265333333333334,
          0.44005,
          0.4918,
          0.45403333333333334,
          0.46416666666666667,
          0.35306666666666664,
          0.41531666666666667,
          0.4108
         ],
         "yaxis": "y"
        },
        {
         "hovertemplate": "variable=Task1<br>index=%{x}<br>value=%{y}<extra></extra>",
         "legendgroup": "Task1",
         "line": {
          "color": "#EF553B",
          "dash": "solid"
         },
         "marker": {
          "symbol": "circle"
         },
         "mode": "lines",
         "name": "Task1",
         "orientation": "v",
         "showlegend": true,
         "type": "scatter",
         "x": [
          0,
          1,
          2,
          3,
          4,
          5,
          6,
          7,
          8,
          9
         ],
         "xaxis": "x",
         "y": [
          0.1912,
          0.7246166666666667,
          0.71965,
          0.6712166666666667,
          0.6828833333333333,
          0.6461666666666667,
          0.6607166666666666,
          0.5793166666666667,
          0.6061666666666666,
          0.5917166666666667
         ],
         "yaxis": "y"
        },
        {
         "hovertemplate": "variable=Task2<br>index=%{x}<br>value=%{y}<extra></extra>",
         "legendgroup": "Task2",
         "line": {
          "color": "#00cc96",
          "dash": "solid"
         },
         "marker": {
          "symbol": "circle"
         },
         "mode": "lines",
         "name": "Task2",
         "orientation": "v",
         "showlegend": true,
         "type": "scatter",
         "x": [
          0,
          1,
          2,
          3,
          4,
          5,
          6,
          7,
          8,
          9
         ],
         "xaxis": "x",
         "y": [
          0.15761666666666665,
          0.19108333333333333,
          0.7584333333333333,
          0.7193166666666667,
          0.73845,
          0.7389,
          0.7009333333333333,
          0.6346666666666667,
          0.6173,
          0.61125
         ],
         "yaxis": "y"
        },
        {
         "hovertemplate": "variable=Task3<br>index=%{x}<br>value=%{y}<extra></extra>",
         "legendgroup": "Task3",
         "line": {
          "color": "#ab63fa",
          "dash": "solid"
         },
         "marker": {
          "symbol": "circle"
         },
         "mode": "lines",
         "name": "Task3",
         "orientation": "v",
         "showlegend": true,
         "type": "scatter",
         "x": [
          0,
          1,
          2,
          3,
          4,
          5,
          6,
          7,
          8,
          9
         ],
         "xaxis": "x",
         "y": [
          0.20025,
          0.2382,
          0.20585,
          0.78255,
          0.7277666666666667,
          0.7474166666666666,
          0.7345666666666667,
          0.69535,
          0.6785666666666667,
          0.69465
         ],
         "yaxis": "y"
        },
        {
         "hovertemplate": "variable=Task4<br>index=%{x}<br>value=%{y}<extra></extra>",
         "legendgroup": "Task4",
         "line": {
          "color": "#FFA15A",
          "dash": "solid"
         },
         "marker": {
          "symbol": "circle"
         },
         "mode": "lines",
         "name": "Task4",
         "orientation": "v",
         "showlegend": true,
         "type": "scatter",
         "x": [
          0,
          1,
          2,
          3,
          4,
          5,
          6,
          7,
          8,
          9
         ],
         "xaxis": "x",
         "y": [
          0.1305,
          0.1952,
          0.16915,
          0.17078333333333334,
          0.8009333333333334,
          0.78945,
          0.7541333333333333,
          0.7142833333333334,
          0.73245,
          0.70945
         ],
         "yaxis": "y"
        },
        {
         "hovertemplate": "variable=Task5<br>index=%{x}<br>value=%{y}<extra></extra>",
         "legendgroup": "Task5",
         "line": {
          "color": "#19d3f3",
          "dash": "solid"
         },
         "marker": {
          "symbol": "circle"
         },
         "mode": "lines",
         "name": "Task5",
         "orientation": "v",
         "showlegend": true,
         "type": "scatter",
         "x": [
          0,
          1,
          2,
          3,
          4,
          5,
          6,
          7,
          8,
          9
         ],
         "xaxis": "x",
         "y": [
          0.13055,
          0.16428333333333334,
          0.19226666666666667,
          0.15161666666666668,
          0.1415,
          0.8089,
          0.7792666666666667,
          0.7587,
          0.6884166666666667,
          0.6762666666666667
         ],
         "yaxis": "y"
        },
        {
         "hovertemplate": "variable=Task6<br>index=%{x}<br>value=%{y}<extra></extra>",
         "legendgroup": "Task6",
         "line": {
          "color": "#FF6692",
          "dash": "solid"
         },
         "marker": {
          "symbol": "circle"
         },
         "mode": "lines",
         "name": "Task6",
         "orientation": "v",
         "showlegend": true,
         "type": "scatter",
         "x": [
          0,
          1,
          2,
          3,
          4,
          5,
          6,
          7,
          8,
          9
         ],
         "xaxis": "x",
         "y": [
          0.18643333333333334,
          0.2255,
          0.2008,
          0.21106666666666668,
          0.15898333333333334,
          0.13958333333333334,
          0.8144,
          0.7919333333333334,
          0.7691333333333333,
          0.7879833333333334
         ],
         "yaxis": "y"
        },
        {
         "hovertemplate": "variable=Task7<br>index=%{x}<br>value=%{y}<extra></extra>",
         "legendgroup": "Task7",
         "line": {
          "color": "#B6E880",
          "dash": "solid"
         },
         "marker": {
          "symbol": "circle"
         },
         "mode": "lines",
         "name": "Task7",
         "orientation": "v",
         "showlegend": true,
         "type": "scatter",
         "x": [
          0,
          1,
          2,
          3,
          4,
          5,
          6,
          7,
          8,
          9
         ],
         "xaxis": "x",
         "y": [
          0.15963333333333332,
          0.16218333333333335,
          0.18288333333333334,
          0.2269,
          0.19448333333333334,
          0.21721666666666667,
          0.1981,
          0.8216333333333333,
          0.7727,
          0.7759833333333334
         ],
         "yaxis": "y"
        },
        {
         "hovertemplate": "variable=Task8<br>index=%{x}<br>value=%{y}<extra></extra>",
         "legendgroup": "Task8",
         "line": {
          "color": "#FF97FF",
          "dash": "solid"
         },
         "marker": {
          "symbol": "circle"
         },
         "mode": "lines",
         "name": "Task8",
         "orientation": "v",
         "showlegend": true,
         "type": "scatter",
         "x": [
          0,
          1,
          2,
          3,
          4,
          5,
          6,
          7,
          8,
          9
         ],
         "xaxis": "x",
         "y": [
          0.1619,
          0.1974,
          0.20028333333333334,
          0.17095,
          0.1841,
          0.16321666666666668,
          0.14396666666666666,
          0.10578333333333333,
          0.8298,
          0.7963666666666667
         ],
         "yaxis": "y"
        },
        {
         "hovertemplate": "variable=Task9<br>index=%{x}<br>value=%{y}<extra></extra>",
         "legendgroup": "Task9",
         "line": {
          "color": "#FECB52",
          "dash": "solid"
         },
         "marker": {
          "symbol": "circle"
         },
         "mode": "lines",
         "name": "Task9",
         "orientation": "v",
         "showlegend": true,
         "type": "scatter",
         "x": [
          0,
          1,
          2,
          3,
          4,
          5,
          6,
          7,
          8,
          9
         ],
         "xaxis": "x",
         "y": [
          0.19511666666666666,
          0.22486666666666666,
          0.19925,
          0.15816666666666668,
          0.16271666666666668,
          0.15163333333333334,
          0.13286666666666666,
          0.13875,
          0.16256666666666666,
          0.83225
         ],
         "yaxis": "y"
        },
        {
         "hovertemplate": "variable=Overall<br>index=%{x}<br>value=%{y}<extra></extra>",
         "legendgroup": "Overall",
         "line": {
          "color": "#636efa",
          "dash": "solid"
         },
         "marker": {
          "symbol": "circle"
         },
         "mode": "lines",
         "name": "Overall",
         "orientation": "v",
         "showlegend": true,
         "type": "scatter",
         "x": [
          0,
          1,
          2,
          3,
          4,
          5,
          6,
          7,
          8,
          9
         ],
         "xaxis": "x",
         "y": [
          0.22085,
          0.29496833333333333,
          0.34551,
          0.37026166666666666,
          0.42836166666666664,
          0.48565166666666665,
          0.5383116666666666,
          0.5593483333333333,
          0.6272416666666667,
          0.6886716666666667
         ],
         "yaxis": "y"
        }
       ],
       "layout": {
        "legend": {
         "title": {
          "text": "variable"
         },
         "tracegroupgap": 0
        },
        "template": {
         "data": {
          "bar": [
           {
            "error_x": {
             "color": "#2a3f5f"
            },
            "error_y": {
             "color": "#2a3f5f"
            },
            "marker": {
             "line": {
              "color": "#E5ECF6",
              "width": 0.5
             },
             "pattern": {
              "fillmode": "overlay",
              "size": 10,
              "solidity": 0.2
             }
            },
            "type": "bar"
           }
          ],
          "barpolar": [
           {
            "marker": {
             "line": {
              "color": "#E5ECF6",
              "width": 0.5
             },
             "pattern": {
              "fillmode": "overlay",
              "size": 10,
              "solidity": 0.2
             }
            },
            "type": "barpolar"
           }
          ],
          "carpet": [
           {
            "aaxis": {
             "endlinecolor": "#2a3f5f",
             "gridcolor": "white",
             "linecolor": "white",
             "minorgridcolor": "white",
             "startlinecolor": "#2a3f5f"
            },
            "baxis": {
             "endlinecolor": "#2a3f5f",
             "gridcolor": "white",
             "linecolor": "white",
             "minorgridcolor": "white",
             "startlinecolor": "#2a3f5f"
            },
            "type": "carpet"
           }
          ],
          "choropleth": [
           {
            "colorbar": {
             "outlinewidth": 0,
             "ticks": ""
            },
            "type": "choropleth"
           }
          ],
          "contour": [
           {
            "colorbar": {
             "outlinewidth": 0,
             "ticks": ""
            },
            "colorscale": [
             [
              0,
              "#0d0887"
             ],
             [
              0.1111111111111111,
              "#46039f"
             ],
             [
              0.2222222222222222,
              "#7201a8"
             ],
             [
              0.3333333333333333,
              "#9c179e"
             ],
             [
              0.4444444444444444,
              "#bd3786"
             ],
             [
              0.5555555555555556,
              "#d8576b"
             ],
             [
              0.6666666666666666,
              "#ed7953"
             ],
             [
              0.7777777777777778,
              "#fb9f3a"
             ],
             [
              0.8888888888888888,
              "#fdca26"
             ],
             [
              1,
              "#f0f921"
             ]
            ],
            "type": "contour"
           }
          ],
          "contourcarpet": [
           {
            "colorbar": {
             "outlinewidth": 0,
             "ticks": ""
            },
            "type": "contourcarpet"
           }
          ],
          "heatmap": [
           {
            "colorbar": {
             "outlinewidth": 0,
             "ticks": ""
            },
            "colorscale": [
             [
              0,
              "#0d0887"
             ],
             [
              0.1111111111111111,
              "#46039f"
             ],
             [
              0.2222222222222222,
              "#7201a8"
             ],
             [
              0.3333333333333333,
              "#9c179e"
             ],
             [
              0.4444444444444444,
              "#bd3786"
             ],
             [
              0.5555555555555556,
              "#d8576b"
             ],
             [
              0.6666666666666666,
              "#ed7953"
             ],
             [
              0.7777777777777778,
              "#fb9f3a"
             ],
             [
              0.8888888888888888,
              "#fdca26"
             ],
             [
              1,
              "#f0f921"
             ]
            ],
            "type": "heatmap"
           }
          ],
          "heatmapgl": [
           {
            "colorbar": {
             "outlinewidth": 0,
             "ticks": ""
            },
            "colorscale": [
             [
              0,
              "#0d0887"
             ],
             [
              0.1111111111111111,
              "#46039f"
             ],
             [
              0.2222222222222222,
              "#7201a8"
             ],
             [
              0.3333333333333333,
              "#9c179e"
             ],
             [
              0.4444444444444444,
              "#bd3786"
             ],
             [
              0.5555555555555556,
              "#d8576b"
             ],
             [
              0.6666666666666666,
              "#ed7953"
             ],
             [
              0.7777777777777778,
              "#fb9f3a"
             ],
             [
              0.8888888888888888,
              "#fdca26"
             ],
             [
              1,
              "#f0f921"
             ]
            ],
            "type": "heatmapgl"
           }
          ],
          "histogram": [
           {
            "marker": {
             "pattern": {
              "fillmode": "overlay",
              "size": 10,
              "solidity": 0.2
             }
            },
            "type": "histogram"
           }
          ],
          "histogram2d": [
           {
            "colorbar": {
             "outlinewidth": 0,
             "ticks": ""
            },
            "colorscale": [
             [
              0,
              "#0d0887"
             ],
             [
              0.1111111111111111,
              "#46039f"
             ],
             [
              0.2222222222222222,
              "#7201a8"
             ],
             [
              0.3333333333333333,
              "#9c179e"
             ],
             [
              0.4444444444444444,
              "#bd3786"
             ],
             [
              0.5555555555555556,
              "#d8576b"
             ],
             [
              0.6666666666666666,
              "#ed7953"
             ],
             [
              0.7777777777777778,
              "#fb9f3a"
             ],
             [
              0.8888888888888888,
              "#fdca26"
             ],
             [
              1,
              "#f0f921"
             ]
            ],
            "type": "histogram2d"
           }
          ],
          "histogram2dcontour": [
           {
            "colorbar": {
             "outlinewidth": 0,
             "ticks": ""
            },
            "colorscale": [
             [
              0,
              "#0d0887"
             ],
             [
              0.1111111111111111,
              "#46039f"
             ],
             [
              0.2222222222222222,
              "#7201a8"
             ],
             [
              0.3333333333333333,
              "#9c179e"
             ],
             [
              0.4444444444444444,
              "#bd3786"
             ],
             [
              0.5555555555555556,
              "#d8576b"
             ],
             [
              0.6666666666666666,
              "#ed7953"
             ],
             [
              0.7777777777777778,
              "#fb9f3a"
             ],
             [
              0.8888888888888888,
              "#fdca26"
             ],
             [
              1,
              "#f0f921"
             ]
            ],
            "type": "histogram2dcontour"
           }
          ],
          "mesh3d": [
           {
            "colorbar": {
             "outlinewidth": 0,
             "ticks": ""
            },
            "type": "mesh3d"
           }
          ],
          "parcoords": [
           {
            "line": {
             "colorbar": {
              "outlinewidth": 0,
              "ticks": ""
             }
            },
            "type": "parcoords"
           }
          ],
          "pie": [
           {
            "automargin": true,
            "type": "pie"
           }
          ],
          "scatter": [
           {
            "fillpattern": {
             "fillmode": "overlay",
             "size": 10,
             "solidity": 0.2
            },
            "type": "scatter"
           }
          ],
          "scatter3d": [
           {
            "line": {
             "colorbar": {
              "outlinewidth": 0,
              "ticks": ""
             }
            },
            "marker": {
             "colorbar": {
              "outlinewidth": 0,
              "ticks": ""
             }
            },
            "type": "scatter3d"
           }
          ],
          "scattercarpet": [
           {
            "marker": {
             "colorbar": {
              "outlinewidth": 0,
              "ticks": ""
             }
            },
            "type": "scattercarpet"
           }
          ],
          "scattergeo": [
           {
            "marker": {
             "colorbar": {
              "outlinewidth": 0,
              "ticks": ""
             }
            },
            "type": "scattergeo"
           }
          ],
          "scattergl": [
           {
            "marker": {
             "colorbar": {
              "outlinewidth": 0,
              "ticks": ""
             }
            },
            "type": "scattergl"
           }
          ],
          "scattermapbox": [
           {
            "marker": {
             "colorbar": {
              "outlinewidth": 0,
              "ticks": ""
             }
            },
            "type": "scattermapbox"
           }
          ],
          "scatterpolar": [
           {
            "marker": {
             "colorbar": {
              "outlinewidth": 0,
              "ticks": ""
             }
            },
            "type": "scatterpolar"
           }
          ],
          "scatterpolargl": [
           {
            "marker": {
             "colorbar": {
              "outlinewidth": 0,
              "ticks": ""
             }
            },
            "type": "scatterpolargl"
           }
          ],
          "scatterternary": [
           {
            "marker": {
             "colorbar": {
              "outlinewidth": 0,
              "ticks": ""
             }
            },
            "type": "scatterternary"
           }
          ],
          "surface": [
           {
            "colorbar": {
             "outlinewidth": 0,
             "ticks": ""
            },
            "colorscale": [
             [
              0,
              "#0d0887"
             ],
             [
              0.1111111111111111,
              "#46039f"
             ],
             [
              0.2222222222222222,
              "#7201a8"
             ],
             [
              0.3333333333333333,
              "#9c179e"
             ],
             [
              0.4444444444444444,
              "#bd3786"
             ],
             [
              0.5555555555555556,
              "#d8576b"
             ],
             [
              0.6666666666666666,
              "#ed7953"
             ],
             [
              0.7777777777777778,
              "#fb9f3a"
             ],
             [
              0.8888888888888888,
              "#fdca26"
             ],
             [
              1,
              "#f0f921"
             ]
            ],
            "type": "surface"
           }
          ],
          "table": [
           {
            "cells": {
             "fill": {
              "color": "#EBF0F8"
             },
             "line": {
              "color": "white"
             }
            },
            "header": {
             "fill": {
              "color": "#C8D4E3"
             },
             "line": {
              "color": "white"
             }
            },
            "type": "table"
           }
          ]
         },
         "layout": {
          "annotationdefaults": {
           "arrowcolor": "#2a3f5f",
           "arrowhead": 0,
           "arrowwidth": 1
          },
          "autotypenumbers": "strict",
          "coloraxis": {
           "colorbar": {
            "outlinewidth": 0,
            "ticks": ""
           }
          },
          "colorscale": {
           "diverging": [
            [
             0,
             "#8e0152"
            ],
            [
             0.1,
             "#c51b7d"
            ],
            [
             0.2,
             "#de77ae"
            ],
            [
             0.3,
             "#f1b6da"
            ],
            [
             0.4,
             "#fde0ef"
            ],
            [
             0.5,
             "#f7f7f7"
            ],
            [
             0.6,
             "#e6f5d0"
            ],
            [
             0.7,
             "#b8e186"
            ],
            [
             0.8,
             "#7fbc41"
            ],
            [
             0.9,
             "#4d9221"
            ],
            [
             1,
             "#276419"
            ]
           ],
           "sequential": [
            [
             0,
             "#0d0887"
            ],
            [
             0.1111111111111111,
             "#46039f"
            ],
            [
             0.2222222222222222,
             "#7201a8"
            ],
            [
             0.3333333333333333,
             "#9c179e"
            ],
            [
             0.4444444444444444,
             "#bd3786"
            ],
            [
             0.5555555555555556,
             "#d8576b"
            ],
            [
             0.6666666666666666,
             "#ed7953"
            ],
            [
             0.7777777777777778,
             "#fb9f3a"
            ],
            [
             0.8888888888888888,
             "#fdca26"
            ],
            [
             1,
             "#f0f921"
            ]
           ],
           "sequentialminus": [
            [
             0,
             "#0d0887"
            ],
            [
             0.1111111111111111,
             "#46039f"
            ],
            [
             0.2222222222222222,
             "#7201a8"
            ],
            [
             0.3333333333333333,
             "#9c179e"
            ],
            [
             0.4444444444444444,
             "#bd3786"
            ],
            [
             0.5555555555555556,
             "#d8576b"
            ],
            [
             0.6666666666666666,
             "#ed7953"
            ],
            [
             0.7777777777777778,
             "#fb9f3a"
            ],
            [
             0.8888888888888888,
             "#fdca26"
            ],
            [
             1,
             "#f0f921"
            ]
           ]
          },
          "colorway": [
           "#636efa",
           "#EF553B",
           "#00cc96",
           "#ab63fa",
           "#FFA15A",
           "#19d3f3",
           "#FF6692",
           "#B6E880",
           "#FF97FF",
           "#FECB52"
          ],
          "font": {
           "color": "#2a3f5f"
          },
          "geo": {
           "bgcolor": "white",
           "lakecolor": "white",
           "landcolor": "#E5ECF6",
           "showlakes": true,
           "showland": true,
           "subunitcolor": "white"
          },
          "hoverlabel": {
           "align": "left"
          },
          "hovermode": "closest",
          "mapbox": {
           "style": "light"
          },
          "paper_bgcolor": "white",
          "plot_bgcolor": "#E5ECF6",
          "polar": {
           "angularaxis": {
            "gridcolor": "white",
            "linecolor": "white",
            "ticks": ""
           },
           "bgcolor": "#E5ECF6",
           "radialaxis": {
            "gridcolor": "white",
            "linecolor": "white",
            "ticks": ""
           }
          },
          "scene": {
           "xaxis": {
            "backgroundcolor": "#E5ECF6",
            "gridcolor": "white",
            "gridwidth": 2,
            "linecolor": "white",
            "showbackground": true,
            "ticks": "",
            "zerolinecolor": "white"
           },
           "yaxis": {
            "backgroundcolor": "#E5ECF6",
            "gridcolor": "white",
            "gridwidth": 2,
            "linecolor": "white",
            "showbackground": true,
            "ticks": "",
            "zerolinecolor": "white"
           },
           "zaxis": {
            "backgroundcolor": "#E5ECF6",
            "gridcolor": "white",
            "gridwidth": 2,
            "linecolor": "white",
            "showbackground": true,
            "ticks": "",
            "zerolinecolor": "white"
           }
          },
          "shapedefaults": {
           "line": {
            "color": "#2a3f5f"
           }
          },
          "ternary": {
           "aaxis": {
            "gridcolor": "white",
            "linecolor": "white",
            "ticks": ""
           },
           "baxis": {
            "gridcolor": "white",
            "linecolor": "white",
            "ticks": ""
           },
           "bgcolor": "#E5ECF6",
           "caxis": {
            "gridcolor": "white",
            "linecolor": "white",
            "ticks": ""
           }
          },
          "title": {
           "x": 0.05
          },
          "xaxis": {
           "automargin": true,
           "gridcolor": "white",
           "linecolor": "white",
           "ticks": "",
           "title": {
            "standoff": 15
           },
           "zerolinecolor": "white",
           "zerolinewidth": 2
          },
          "yaxis": {
           "automargin": true,
           "gridcolor": "white",
           "linecolor": "white",
           "ticks": "",
           "title": {
            "standoff": 15
           },
           "zerolinecolor": "white",
           "zerolinewidth": 2
          }
         }
        },
        "title": {
         "text": "Training Accuracy vs Task"
        },
        "xaxis": {
         "anchor": "y",
         "domain": [
          0,
          1
         ],
         "title": {
          "text": "index"
         }
        },
        "yaxis": {
         "anchor": "x",
         "domain": [
          0,
          1
         ],
         "range": [
          0,
          1
         ],
         "title": {
          "text": "value"
         }
        }
       }
      }
     },
     "metadata": {},
     "output_type": "display_data"
    }
   ],
   "source": [
    "train_df = pd.DataFrame(training_accuracies)\n",
    "train_df.index = range(10)\n",
    "\n",
    "fig = px.line(train_df, x=train_df.index, y=train_df.columns, range_y=[0, 1], title=\"Training Accuracy vs Task\")\n",
    "fig.show()"
   ]
  },
  {
   "cell_type": "markdown",
   "metadata": {},
   "source": [
    "## Evaluation accuracies per experience"
   ]
  },
  {
   "cell_type": "code",
   "execution_count": 21,
   "metadata": {},
   "outputs": [
    {
     "data": {
      "application/vnd.plotly.v1+json": {
       "config": {
        "plotlyServerURL": "https://plot.ly"
       },
       "data": [
        {
         "hovertemplate": "variable=Task0<br>index=%{x}<br>value=%{y}<extra></extra>",
         "legendgroup": "Task0",
         "line": {
          "color": "#636efa",
          "dash": "solid"
         },
         "marker": {
          "symbol": "circle"
         },
         "mode": "lines",
         "name": "Task0",
         "orientation": "v",
         "showlegend": true,
         "type": "scatter",
         "x": [
          0,
          1,
          2,
          3,
          4,
          5,
          6,
          7,
          8,
          9
         ],
         "xaxis": "x",
         "y": [
          0.7041,
          0.638,
          0.631,
          0.4431,
          0.4893,
          0.4549,
          0.4629,
          0.3607,
          0.416,
          0.4123
         ],
         "yaxis": "y"
        },
        {
         "hovertemplate": "variable=Task1<br>index=%{x}<br>value=%{y}<extra></extra>",
         "legendgroup": "Task1",
         "line": {
          "color": "#EF553B",
          "dash": "solid"
         },
         "marker": {
          "symbol": "circle"
         },
         "mode": "lines",
         "name": "Task1",
         "orientation": "v",
         "showlegend": true,
         "type": "scatter",
         "x": [
          0,
          1,
          2,
          3,
          4,
          5,
          6,
          7,
          8,
          9
         ],
         "xaxis": "x",
         "y": [
          0.187,
          0.7335,
          0.7246,
          0.6732,
          0.6847,
          0.6517,
          0.6716,
          0.587,
          0.6133,
          0.6044
         ],
         "yaxis": "y"
        },
        {
         "hovertemplate": "variable=Task2<br>index=%{x}<br>value=%{y}<extra></extra>",
         "legendgroup": "Task2",
         "line": {
          "color": "#00cc96",
          "dash": "solid"
         },
         "marker": {
          "symbol": "circle"
         },
         "mode": "lines",
         "name": "Task2",
         "orientation": "v",
         "showlegend": true,
         "type": "scatter",
         "x": [
          0,
          1,
          2,
          3,
          4,
          5,
          6,
          7,
          8,
          9
         ],
         "xaxis": "x",
         "y": [
          0.159,
          0.1973,
          0.7651,
          0.7274,
          0.7411,
          0.7458,
          0.7051,
          0.6311,
          0.6139,
          0.6048
         ],
         "yaxis": "y"
        },
        {
         "hovertemplate": "variable=Task3<br>index=%{x}<br>value=%{y}<extra></extra>",
         "legendgroup": "Task3",
         "line": {
          "color": "#ab63fa",
          "dash": "solid"
         },
         "marker": {
          "symbol": "circle"
         },
         "mode": "lines",
         "name": "Task3",
         "orientation": "v",
         "showlegend": true,
         "type": "scatter",
         "x": [
          0,
          1,
          2,
          3,
          4,
          5,
          6,
          7,
          8,
          9
         ],
         "xaxis": "x",
         "y": [
          0.2079,
          0.2357,
          0.207,
          0.7886,
          0.7232,
          0.7494,
          0.7356,
          0.6945,
          0.6728,
          0.6968
         ],
         "yaxis": "y"
        },
        {
         "hovertemplate": "variable=Task4<br>index=%{x}<br>value=%{y}<extra></extra>",
         "legendgroup": "Task4",
         "line": {
          "color": "#FFA15A",
          "dash": "solid"
         },
         "marker": {
          "symbol": "circle"
         },
         "mode": "lines",
         "name": "Task4",
         "orientation": "v",
         "showlegend": true,
         "type": "scatter",
         "x": [
          0,
          1,
          2,
          3,
          4,
          5,
          6,
          7,
          8,
          9
         ],
         "xaxis": "x",
         "y": [
          0.1253,
          0.1938,
          0.1615,
          0.1692,
          0.8066,
          0.7964,
          0.7545,
          0.7102,
          0.7296,
          0.7151
         ],
         "yaxis": "y"
        },
        {
         "hovertemplate": "variable=Task5<br>index=%{x}<br>value=%{y}<extra></extra>",
         "legendgroup": "Task5",
         "line": {
          "color": "#19d3f3",
          "dash": "solid"
         },
         "marker": {
          "symbol": "circle"
         },
         "mode": "lines",
         "name": "Task5",
         "orientation": "v",
         "showlegend": true,
         "type": "scatter",
         "x": [
          0,
          1,
          2,
          3,
          4,
          5,
          6,
          7,
          8,
          9
         ],
         "xaxis": "x",
         "y": [
          0.1344,
          0.1598,
          0.1955,
          0.1605,
          0.147,
          0.8168,
          0.7821,
          0.7564,
          0.6935,
          0.6735
         ],
         "yaxis": "y"
        },
        {
         "hovertemplate": "variable=Task6<br>index=%{x}<br>value=%{y}<extra></extra>",
         "legendgroup": "Task6",
         "line": {
          "color": "#FF6692",
          "dash": "solid"
         },
         "marker": {
          "symbol": "circle"
         },
         "mode": "lines",
         "name": "Task6",
         "orientation": "v",
         "showlegend": true,
         "type": "scatter",
         "x": [
          0,
          1,
          2,
          3,
          4,
          5,
          6,
          7,
          8,
          9
         ],
         "xaxis": "x",
         "y": [
          0.1927,
          0.2282,
          0.1966,
          0.206,
          0.1554,
          0.1408,
          0.8233,
          0.7917,
          0.7665,
          0.7913
         ],
         "yaxis": "y"
        },
        {
         "hovertemplate": "variable=Task7<br>index=%{x}<br>value=%{y}<extra></extra>",
         "legendgroup": "Task7",
         "line": {
          "color": "#B6E880",
          "dash": "solid"
         },
         "marker": {
          "symbol": "circle"
         },
         "mode": "lines",
         "name": "Task7",
         "orientation": "v",
         "showlegend": true,
         "type": "scatter",
         "x": [
          0,
          1,
          2,
          3,
          4,
          5,
          6,
          7,
          8,
          9
         ],
         "xaxis": "x",
         "y": [
          0.1588,
          0.1655,
          0.1814,
          0.2298,
          0.2004,
          0.2226,
          0.2025,
          0.8268,
          0.7753,
          0.7827
         ],
         "yaxis": "y"
        },
        {
         "hovertemplate": "variable=Task8<br>index=%{x}<br>value=%{y}<extra></extra>",
         "legendgroup": "Task8",
         "line": {
          "color": "#FF97FF",
          "dash": "solid"
         },
         "marker": {
          "symbol": "circle"
         },
         "mode": "lines",
         "name": "Task8",
         "orientation": "v",
         "showlegend": true,
         "type": "scatter",
         "x": [
          0,
          1,
          2,
          3,
          4,
          5,
          6,
          7,
          8,
          9
         ],
         "xaxis": "x",
         "y": [
          0.1683,
          0.1964,
          0.204,
          0.1764,
          0.1952,
          0.171,
          0.1495,
          0.1141,
          0.8364,
          0.8025
         ],
         "yaxis": "y"
        },
        {
         "hovertemplate": "variable=Task9<br>index=%{x}<br>value=%{y}<extra></extra>",
         "legendgroup": "Task9",
         "line": {
          "color": "#FECB52",
          "dash": "solid"
         },
         "marker": {
          "symbol": "circle"
         },
         "mode": "lines",
         "name": "Task9",
         "orientation": "v",
         "showlegend": true,
         "type": "scatter",
         "x": [
          0,
          1,
          2,
          3,
          4,
          5,
          6,
          7,
          8,
          9
         ],
         "xaxis": "x",
         "y": [
          0.1974,
          0.2265,
          0.1935,
          0.1589,
          0.166,
          0.1562,
          0.1311,
          0.1391,
          0.1608,
          0.8348
         ],
         "yaxis": "y"
        },
        {
         "hovertemplate": "variable=Overall<br>index=%{x}<br>value=%{y}<extra></extra>",
         "legendgroup": "Overall",
         "line": {
          "color": "#636efa",
          "dash": "solid"
         },
         "marker": {
          "symbol": "circle"
         },
         "mode": "lines",
         "name": "Overall",
         "orientation": "v",
         "showlegend": true,
         "type": "scatter",
         "x": [
          0,
          1,
          2,
          3,
          4,
          5,
          6,
          7,
          8,
          9
         ],
         "xaxis": "x",
         "y": [
          0.22349,
          0.29747,
          0.34602,
          0.37331,
          0.43089,
          0.49056,
          0.54182,
          0.56116,
          0.62781,
          0.69182
         ],
         "yaxis": "y"
        }
       ],
       "layout": {
        "legend": {
         "title": {
          "text": "variable"
         },
         "tracegroupgap": 0
        },
        "template": {
         "data": {
          "bar": [
           {
            "error_x": {
             "color": "#2a3f5f"
            },
            "error_y": {
             "color": "#2a3f5f"
            },
            "marker": {
             "line": {
              "color": "#E5ECF6",
              "width": 0.5
             },
             "pattern": {
              "fillmode": "overlay",
              "size": 10,
              "solidity": 0.2
             }
            },
            "type": "bar"
           }
          ],
          "barpolar": [
           {
            "marker": {
             "line": {
              "color": "#E5ECF6",
              "width": 0.5
             },
             "pattern": {
              "fillmode": "overlay",
              "size": 10,
              "solidity": 0.2
             }
            },
            "type": "barpolar"
           }
          ],
          "carpet": [
           {
            "aaxis": {
             "endlinecolor": "#2a3f5f",
             "gridcolor": "white",
             "linecolor": "white",
             "minorgridcolor": "white",
             "startlinecolor": "#2a3f5f"
            },
            "baxis": {
             "endlinecolor": "#2a3f5f",
             "gridcolor": "white",
             "linecolor": "white",
             "minorgridcolor": "white",
             "startlinecolor": "#2a3f5f"
            },
            "type": "carpet"
           }
          ],
          "choropleth": [
           {
            "colorbar": {
             "outlinewidth": 0,
             "ticks": ""
            },
            "type": "choropleth"
           }
          ],
          "contour": [
           {
            "colorbar": {
             "outlinewidth": 0,
             "ticks": ""
            },
            "colorscale": [
             [
              0,
              "#0d0887"
             ],
             [
              0.1111111111111111,
              "#46039f"
             ],
             [
              0.2222222222222222,
              "#7201a8"
             ],
             [
              0.3333333333333333,
              "#9c179e"
             ],
             [
              0.4444444444444444,
              "#bd3786"
             ],
             [
              0.5555555555555556,
              "#d8576b"
             ],
             [
              0.6666666666666666,
              "#ed7953"
             ],
             [
              0.7777777777777778,
              "#fb9f3a"
             ],
             [
              0.8888888888888888,
              "#fdca26"
             ],
             [
              1,
              "#f0f921"
             ]
            ],
            "type": "contour"
           }
          ],
          "contourcarpet": [
           {
            "colorbar": {
             "outlinewidth": 0,
             "ticks": ""
            },
            "type": "contourcarpet"
           }
          ],
          "heatmap": [
           {
            "colorbar": {
             "outlinewidth": 0,
             "ticks": ""
            },
            "colorscale": [
             [
              0,
              "#0d0887"
             ],
             [
              0.1111111111111111,
              "#46039f"
             ],
             [
              0.2222222222222222,
              "#7201a8"
             ],
             [
              0.3333333333333333,
              "#9c179e"
             ],
             [
              0.4444444444444444,
              "#bd3786"
             ],
             [
              0.5555555555555556,
              "#d8576b"
             ],
             [
              0.6666666666666666,
              "#ed7953"
             ],
             [
              0.7777777777777778,
              "#fb9f3a"
             ],
             [
              0.8888888888888888,
              "#fdca26"
             ],
             [
              1,
              "#f0f921"
             ]
            ],
            "type": "heatmap"
           }
          ],
          "heatmapgl": [
           {
            "colorbar": {
             "outlinewidth": 0,
             "ticks": ""
            },
            "colorscale": [
             [
              0,
              "#0d0887"
             ],
             [
              0.1111111111111111,
              "#46039f"
             ],
             [
              0.2222222222222222,
              "#7201a8"
             ],
             [
              0.3333333333333333,
              "#9c179e"
             ],
             [
              0.4444444444444444,
              "#bd3786"
             ],
             [
              0.5555555555555556,
              "#d8576b"
             ],
             [
              0.6666666666666666,
              "#ed7953"
             ],
             [
              0.7777777777777778,
              "#fb9f3a"
             ],
             [
              0.8888888888888888,
              "#fdca26"
             ],
             [
              1,
              "#f0f921"
             ]
            ],
            "type": "heatmapgl"
           }
          ],
          "histogram": [
           {
            "marker": {
             "pattern": {
              "fillmode": "overlay",
              "size": 10,
              "solidity": 0.2
             }
            },
            "type": "histogram"
           }
          ],
          "histogram2d": [
           {
            "colorbar": {
             "outlinewidth": 0,
             "ticks": ""
            },
            "colorscale": [
             [
              0,
              "#0d0887"
             ],
             [
              0.1111111111111111,
              "#46039f"
             ],
             [
              0.2222222222222222,
              "#7201a8"
             ],
             [
              0.3333333333333333,
              "#9c179e"
             ],
             [
              0.4444444444444444,
              "#bd3786"
             ],
             [
              0.5555555555555556,
              "#d8576b"
             ],
             [
              0.6666666666666666,
              "#ed7953"
             ],
             [
              0.7777777777777778,
              "#fb9f3a"
             ],
             [
              0.8888888888888888,
              "#fdca26"
             ],
             [
              1,
              "#f0f921"
             ]
            ],
            "type": "histogram2d"
           }
          ],
          "histogram2dcontour": [
           {
            "colorbar": {
             "outlinewidth": 0,
             "ticks": ""
            },
            "colorscale": [
             [
              0,
              "#0d0887"
             ],
             [
              0.1111111111111111,
              "#46039f"
             ],
             [
              0.2222222222222222,
              "#7201a8"
             ],
             [
              0.3333333333333333,
              "#9c179e"
             ],
             [
              0.4444444444444444,
              "#bd3786"
             ],
             [
              0.5555555555555556,
              "#d8576b"
             ],
             [
              0.6666666666666666,
              "#ed7953"
             ],
             [
              0.7777777777777778,
              "#fb9f3a"
             ],
             [
              0.8888888888888888,
              "#fdca26"
             ],
             [
              1,
              "#f0f921"
             ]
            ],
            "type": "histogram2dcontour"
           }
          ],
          "mesh3d": [
           {
            "colorbar": {
             "outlinewidth": 0,
             "ticks": ""
            },
            "type": "mesh3d"
           }
          ],
          "parcoords": [
           {
            "line": {
             "colorbar": {
              "outlinewidth": 0,
              "ticks": ""
             }
            },
            "type": "parcoords"
           }
          ],
          "pie": [
           {
            "automargin": true,
            "type": "pie"
           }
          ],
          "scatter": [
           {
            "fillpattern": {
             "fillmode": "overlay",
             "size": 10,
             "solidity": 0.2
            },
            "type": "scatter"
           }
          ],
          "scatter3d": [
           {
            "line": {
             "colorbar": {
              "outlinewidth": 0,
              "ticks": ""
             }
            },
            "marker": {
             "colorbar": {
              "outlinewidth": 0,
              "ticks": ""
             }
            },
            "type": "scatter3d"
           }
          ],
          "scattercarpet": [
           {
            "marker": {
             "colorbar": {
              "outlinewidth": 0,
              "ticks": ""
             }
            },
            "type": "scattercarpet"
           }
          ],
          "scattergeo": [
           {
            "marker": {
             "colorbar": {
              "outlinewidth": 0,
              "ticks": ""
             }
            },
            "type": "scattergeo"
           }
          ],
          "scattergl": [
           {
            "marker": {
             "colorbar": {
              "outlinewidth": 0,
              "ticks": ""
             }
            },
            "type": "scattergl"
           }
          ],
          "scattermapbox": [
           {
            "marker": {
             "colorbar": {
              "outlinewidth": 0,
              "ticks": ""
             }
            },
            "type": "scattermapbox"
           }
          ],
          "scatterpolar": [
           {
            "marker": {
             "colorbar": {
              "outlinewidth": 0,
              "ticks": ""
             }
            },
            "type": "scatterpolar"
           }
          ],
          "scatterpolargl": [
           {
            "marker": {
             "colorbar": {
              "outlinewidth": 0,
              "ticks": ""
             }
            },
            "type": "scatterpolargl"
           }
          ],
          "scatterternary": [
           {
            "marker": {
             "colorbar": {
              "outlinewidth": 0,
              "ticks": ""
             }
            },
            "type": "scatterternary"
           }
          ],
          "surface": [
           {
            "colorbar": {
             "outlinewidth": 0,
             "ticks": ""
            },
            "colorscale": [
             [
              0,
              "#0d0887"
             ],
             [
              0.1111111111111111,
              "#46039f"
             ],
             [
              0.2222222222222222,
              "#7201a8"
             ],
             [
              0.3333333333333333,
              "#9c179e"
             ],
             [
              0.4444444444444444,
              "#bd3786"
             ],
             [
              0.5555555555555556,
              "#d8576b"
             ],
             [
              0.6666666666666666,
              "#ed7953"
             ],
             [
              0.7777777777777778,
              "#fb9f3a"
             ],
             [
              0.8888888888888888,
              "#fdca26"
             ],
             [
              1,
              "#f0f921"
             ]
            ],
            "type": "surface"
           }
          ],
          "table": [
           {
            "cells": {
             "fill": {
              "color": "#EBF0F8"
             },
             "line": {
              "color": "white"
             }
            },
            "header": {
             "fill": {
              "color": "#C8D4E3"
             },
             "line": {
              "color": "white"
             }
            },
            "type": "table"
           }
          ]
         },
         "layout": {
          "annotationdefaults": {
           "arrowcolor": "#2a3f5f",
           "arrowhead": 0,
           "arrowwidth": 1
          },
          "autotypenumbers": "strict",
          "coloraxis": {
           "colorbar": {
            "outlinewidth": 0,
            "ticks": ""
           }
          },
          "colorscale": {
           "diverging": [
            [
             0,
             "#8e0152"
            ],
            [
             0.1,
             "#c51b7d"
            ],
            [
             0.2,
             "#de77ae"
            ],
            [
             0.3,
             "#f1b6da"
            ],
            [
             0.4,
             "#fde0ef"
            ],
            [
             0.5,
             "#f7f7f7"
            ],
            [
             0.6,
             "#e6f5d0"
            ],
            [
             0.7,
             "#b8e186"
            ],
            [
             0.8,
             "#7fbc41"
            ],
            [
             0.9,
             "#4d9221"
            ],
            [
             1,
             "#276419"
            ]
           ],
           "sequential": [
            [
             0,
             "#0d0887"
            ],
            [
             0.1111111111111111,
             "#46039f"
            ],
            [
             0.2222222222222222,
             "#7201a8"
            ],
            [
             0.3333333333333333,
             "#9c179e"
            ],
            [
             0.4444444444444444,
             "#bd3786"
            ],
            [
             0.5555555555555556,
             "#d8576b"
            ],
            [
             0.6666666666666666,
             "#ed7953"
            ],
            [
             0.7777777777777778,
             "#fb9f3a"
            ],
            [
             0.8888888888888888,
             "#fdca26"
            ],
            [
             1,
             "#f0f921"
            ]
           ],
           "sequentialminus": [
            [
             0,
             "#0d0887"
            ],
            [
             0.1111111111111111,
             "#46039f"
            ],
            [
             0.2222222222222222,
             "#7201a8"
            ],
            [
             0.3333333333333333,
             "#9c179e"
            ],
            [
             0.4444444444444444,
             "#bd3786"
            ],
            [
             0.5555555555555556,
             "#d8576b"
            ],
            [
             0.6666666666666666,
             "#ed7953"
            ],
            [
             0.7777777777777778,
             "#fb9f3a"
            ],
            [
             0.8888888888888888,
             "#fdca26"
            ],
            [
             1,
             "#f0f921"
            ]
           ]
          },
          "colorway": [
           "#636efa",
           "#EF553B",
           "#00cc96",
           "#ab63fa",
           "#FFA15A",
           "#19d3f3",
           "#FF6692",
           "#B6E880",
           "#FF97FF",
           "#FECB52"
          ],
          "font": {
           "color": "#2a3f5f"
          },
          "geo": {
           "bgcolor": "white",
           "lakecolor": "white",
           "landcolor": "#E5ECF6",
           "showlakes": true,
           "showland": true,
           "subunitcolor": "white"
          },
          "hoverlabel": {
           "align": "left"
          },
          "hovermode": "closest",
          "mapbox": {
           "style": "light"
          },
          "paper_bgcolor": "white",
          "plot_bgcolor": "#E5ECF6",
          "polar": {
           "angularaxis": {
            "gridcolor": "white",
            "linecolor": "white",
            "ticks": ""
           },
           "bgcolor": "#E5ECF6",
           "radialaxis": {
            "gridcolor": "white",
            "linecolor": "white",
            "ticks": ""
           }
          },
          "scene": {
           "xaxis": {
            "backgroundcolor": "#E5ECF6",
            "gridcolor": "white",
            "gridwidth": 2,
            "linecolor": "white",
            "showbackground": true,
            "ticks": "",
            "zerolinecolor": "white"
           },
           "yaxis": {
            "backgroundcolor": "#E5ECF6",
            "gridcolor": "white",
            "gridwidth": 2,
            "linecolor": "white",
            "showbackground": true,
            "ticks": "",
            "zerolinecolor": "white"
           },
           "zaxis": {
            "backgroundcolor": "#E5ECF6",
            "gridcolor": "white",
            "gridwidth": 2,
            "linecolor": "white",
            "showbackground": true,
            "ticks": "",
            "zerolinecolor": "white"
           }
          },
          "shapedefaults": {
           "line": {
            "color": "#2a3f5f"
           }
          },
          "ternary": {
           "aaxis": {
            "gridcolor": "white",
            "linecolor": "white",
            "ticks": ""
           },
           "baxis": {
            "gridcolor": "white",
            "linecolor": "white",
            "ticks": ""
           },
           "bgcolor": "#E5ECF6",
           "caxis": {
            "gridcolor": "white",
            "linecolor": "white",
            "ticks": ""
           }
          },
          "title": {
           "x": 0.05
          },
          "xaxis": {
           "automargin": true,
           "gridcolor": "white",
           "linecolor": "white",
           "ticks": "",
           "title": {
            "standoff": 15
           },
           "zerolinecolor": "white",
           "zerolinewidth": 2
          },
          "yaxis": {
           "automargin": true,
           "gridcolor": "white",
           "linecolor": "white",
           "ticks": "",
           "title": {
            "standoff": 15
           },
           "zerolinecolor": "white",
           "zerolinewidth": 2
          }
         }
        },
        "title": {
         "text": "Test Accuracy vs Task"
        },
        "xaxis": {
         "anchor": "y",
         "domain": [
          0,
          1
         ],
         "title": {
          "text": "index"
         }
        },
        "yaxis": {
         "anchor": "x",
         "domain": [
          0,
          1
         ],
         "range": [
          0,
          1
         ],
         "title": {
          "text": "value"
         }
        }
       }
      }
     },
     "metadata": {},
     "output_type": "display_data"
    }
   ],
   "source": [
    "acc_df = pd.DataFrame(accuracies)\n",
    "acc_df.index = range(10)\n",
    "\n",
    "fig = px.line(acc_df, x=acc_df.index, y=acc_df.columns, range_y=[0, 1], title=\"Test Accuracy vs Task\")\n",
    "fig.show()"
   ]
  },
  {
   "cell_type": "markdown",
   "metadata": {},
   "source": [
    "## Forgetting measure / BWT"
   ]
  },
  {
   "cell_type": "code",
   "execution_count": 22,
   "metadata": {},
   "outputs": [
    {
     "data": {
      "application/vnd.plotly.v1+json": {
       "config": {
        "plotlyServerURL": "https://plot.ly"
       },
       "data": [
        {
         "hovertemplate": "variable=Task0<br>index=%{x}<br>value=%{y}<extra></extra>",
         "legendgroup": "Task0",
         "line": {
          "color": "#636efa",
          "dash": "solid"
         },
         "marker": {
          "symbol": "circle"
         },
         "mode": "lines",
         "name": "Task0",
         "orientation": "v",
         "showlegend": true,
         "type": "scatter",
         "x": [
          0,
          1,
          2,
          3,
          4,
          5,
          6,
          7,
          8,
          9
         ],
         "xaxis": "x",
         "y": [
          null,
          0.06609999999999994,
          0.07309999999999994,
          0.26099999999999995,
          0.21479999999999994,
          0.24919999999999992,
          0.24119999999999997,
          0.3433999999999999,
          0.28809999999999997,
          0.29179999999999995
         ],
         "yaxis": "y"
        },
        {
         "hovertemplate": "variable=Task1<br>index=%{x}<br>value=%{y}<extra></extra>",
         "legendgroup": "Task1",
         "line": {
          "color": "#EF553B",
          "dash": "solid"
         },
         "marker": {
          "symbol": "circle"
         },
         "mode": "lines",
         "name": "Task1",
         "orientation": "v",
         "showlegend": true,
         "type": "scatter",
         "x": [
          0,
          1,
          2,
          3,
          4,
          5,
          6,
          7,
          8,
          9
         ],
         "xaxis": "x",
         "y": [
          null,
          null,
          0.008900000000000019,
          0.06030000000000002,
          0.048800000000000066,
          0.0818000000000001,
          0.061900000000000066,
          0.14650000000000007,
          0.12020000000000008,
          0.1291
         ],
         "yaxis": "y"
        },
        {
         "hovertemplate": "variable=Task2<br>index=%{x}<br>value=%{y}<extra></extra>",
         "legendgroup": "Task2",
         "line": {
          "color": "#00cc96",
          "dash": "solid"
         },
         "marker": {
          "symbol": "circle"
         },
         "mode": "lines",
         "name": "Task2",
         "orientation": "v",
         "showlegend": true,
         "type": "scatter",
         "x": [
          0,
          1,
          2,
          3,
          4,
          5,
          6,
          7,
          8,
          9
         ],
         "xaxis": "x",
         "y": [
          null,
          null,
          null,
          0.037699999999999956,
          0.02400000000000002,
          0.019299999999999984,
          0.06000000000000005,
          0.134,
          0.1512,
          0.1603
         ],
         "yaxis": "y"
        },
        {
         "hovertemplate": "variable=Task3<br>index=%{x}<br>value=%{y}<extra></extra>",
         "legendgroup": "Task3",
         "line": {
          "color": "#ab63fa",
          "dash": "solid"
         },
         "marker": {
          "symbol": "circle"
         },
         "mode": "lines",
         "name": "Task3",
         "orientation": "v",
         "showlegend": true,
         "type": "scatter",
         "x": [
          0,
          1,
          2,
          3,
          4,
          5,
          6,
          7,
          8,
          9
         ],
         "xaxis": "x",
         "y": [
          null,
          null,
          null,
          null,
          0.06540000000000001,
          0.03920000000000001,
          0.052999999999999936,
          0.09409999999999996,
          0.11580000000000001,
          0.09179999999999999
         ],
         "yaxis": "y"
        },
        {
         "hovertemplate": "variable=Task4<br>index=%{x}<br>value=%{y}<extra></extra>",
         "legendgroup": "Task4",
         "line": {
          "color": "#FFA15A",
          "dash": "solid"
         },
         "marker": {
          "symbol": "circle"
         },
         "mode": "lines",
         "name": "Task4",
         "orientation": "v",
         "showlegend": true,
         "type": "scatter",
         "x": [
          0,
          1,
          2,
          3,
          4,
          5,
          6,
          7,
          8,
          9
         ],
         "xaxis": "x",
         "y": [
          null,
          null,
          null,
          null,
          null,
          0.010199999999999987,
          0.052100000000000035,
          0.09639999999999993,
          0.07699999999999996,
          0.09150000000000003
         ],
         "yaxis": "y"
        },
        {
         "hovertemplate": "variable=Task5<br>index=%{x}<br>value=%{y}<extra></extra>",
         "legendgroup": "Task5",
         "line": {
          "color": "#19d3f3",
          "dash": "solid"
         },
         "marker": {
          "symbol": "circle"
         },
         "mode": "lines",
         "name": "Task5",
         "orientation": "v",
         "showlegend": true,
         "type": "scatter",
         "x": [
          0,
          1,
          2,
          3,
          4,
          5,
          6,
          7,
          8,
          9
         ],
         "xaxis": "x",
         "y": [
          null,
          null,
          null,
          null,
          null,
          null,
          0.03469999999999995,
          0.06040000000000001,
          0.12329999999999997,
          0.14329999999999998
         ],
         "yaxis": "y"
        },
        {
         "hovertemplate": "variable=Task6<br>index=%{x}<br>value=%{y}<extra></extra>",
         "legendgroup": "Task6",
         "line": {
          "color": "#FF6692",
          "dash": "solid"
         },
         "marker": {
          "symbol": "circle"
         },
         "mode": "lines",
         "name": "Task6",
         "orientation": "v",
         "showlegend": true,
         "type": "scatter",
         "x": [
          0,
          1,
          2,
          3,
          4,
          5,
          6,
          7,
          8,
          9
         ],
         "xaxis": "x",
         "y": [
          null,
          null,
          null,
          null,
          null,
          null,
          null,
          0.03160000000000007,
          0.05680000000000007,
          0.03200000000000003
         ],
         "yaxis": "y"
        },
        {
         "hovertemplate": "variable=Task7<br>index=%{x}<br>value=%{y}<extra></extra>",
         "legendgroup": "Task7",
         "line": {
          "color": "#B6E880",
          "dash": "solid"
         },
         "marker": {
          "symbol": "circle"
         },
         "mode": "lines",
         "name": "Task7",
         "orientation": "v",
         "showlegend": true,
         "type": "scatter",
         "x": [
          0,
          1,
          2,
          3,
          4,
          5,
          6,
          7,
          8,
          9
         ],
         "xaxis": "x",
         "y": [
          null,
          null,
          null,
          null,
          null,
          null,
          null,
          null,
          0.05149999999999999,
          0.04410000000000003
         ],
         "yaxis": "y"
        },
        {
         "hovertemplate": "variable=Task8<br>index=%{x}<br>value=%{y}<extra></extra>",
         "legendgroup": "Task8",
         "line": {
          "color": "#FF97FF",
          "dash": "solid"
         },
         "marker": {
          "symbol": "circle"
         },
         "mode": "lines",
         "name": "Task8",
         "orientation": "v",
         "showlegend": true,
         "type": "scatter",
         "x": [
          0,
          1,
          2,
          3,
          4,
          5,
          6,
          7,
          8,
          9
         ],
         "xaxis": "x",
         "y": [
          null,
          null,
          null,
          null,
          null,
          null,
          null,
          null,
          null,
          0.03390000000000004
         ],
         "yaxis": "y"
        },
        {
         "hovertemplate": "variable=Overall<br>index=%{x}<br>value=%{y}<extra></extra>",
         "legendgroup": "Overall",
         "line": {
          "color": "#FECB52",
          "dash": "solid"
         },
         "marker": {
          "symbol": "circle"
         },
         "mode": "lines",
         "name": "Overall",
         "orientation": "v",
         "showlegend": true,
         "type": "scatter",
         "x": [
          0,
          1,
          2,
          3,
          4,
          5,
          6,
          7,
          8,
          9
         ],
         "xaxis": "x",
         "y": [
          0,
          0.06609999999999994,
          0.04099999999999998,
          0.11966666666666664,
          0.08825000000000001,
          0.07994,
          0.08381666666666666,
          0.1294857142857143,
          0.12298750000000001,
          0.11308888888888889
         ],
         "yaxis": "y"
        }
       ],
       "layout": {
        "legend": {
         "title": {
          "text": "variable"
         },
         "tracegroupgap": 0
        },
        "template": {
         "data": {
          "bar": [
           {
            "error_x": {
             "color": "#2a3f5f"
            },
            "error_y": {
             "color": "#2a3f5f"
            },
            "marker": {
             "line": {
              "color": "#E5ECF6",
              "width": 0.5
             },
             "pattern": {
              "fillmode": "overlay",
              "size": 10,
              "solidity": 0.2
             }
            },
            "type": "bar"
           }
          ],
          "barpolar": [
           {
            "marker": {
             "line": {
              "color": "#E5ECF6",
              "width": 0.5
             },
             "pattern": {
              "fillmode": "overlay",
              "size": 10,
              "solidity": 0.2
             }
            },
            "type": "barpolar"
           }
          ],
          "carpet": [
           {
            "aaxis": {
             "endlinecolor": "#2a3f5f",
             "gridcolor": "white",
             "linecolor": "white",
             "minorgridcolor": "white",
             "startlinecolor": "#2a3f5f"
            },
            "baxis": {
             "endlinecolor": "#2a3f5f",
             "gridcolor": "white",
             "linecolor": "white",
             "minorgridcolor": "white",
             "startlinecolor": "#2a3f5f"
            },
            "type": "carpet"
           }
          ],
          "choropleth": [
           {
            "colorbar": {
             "outlinewidth": 0,
             "ticks": ""
            },
            "type": "choropleth"
           }
          ],
          "contour": [
           {
            "colorbar": {
             "outlinewidth": 0,
             "ticks": ""
            },
            "colorscale": [
             [
              0,
              "#0d0887"
             ],
             [
              0.1111111111111111,
              "#46039f"
             ],
             [
              0.2222222222222222,
              "#7201a8"
             ],
             [
              0.3333333333333333,
              "#9c179e"
             ],
             [
              0.4444444444444444,
              "#bd3786"
             ],
             [
              0.5555555555555556,
              "#d8576b"
             ],
             [
              0.6666666666666666,
              "#ed7953"
             ],
             [
              0.7777777777777778,
              "#fb9f3a"
             ],
             [
              0.8888888888888888,
              "#fdca26"
             ],
             [
              1,
              "#f0f921"
             ]
            ],
            "type": "contour"
           }
          ],
          "contourcarpet": [
           {
            "colorbar": {
             "outlinewidth": 0,
             "ticks": ""
            },
            "type": "contourcarpet"
           }
          ],
          "heatmap": [
           {
            "colorbar": {
             "outlinewidth": 0,
             "ticks": ""
            },
            "colorscale": [
             [
              0,
              "#0d0887"
             ],
             [
              0.1111111111111111,
              "#46039f"
             ],
             [
              0.2222222222222222,
              "#7201a8"
             ],
             [
              0.3333333333333333,
              "#9c179e"
             ],
             [
              0.4444444444444444,
              "#bd3786"
             ],
             [
              0.5555555555555556,
              "#d8576b"
             ],
             [
              0.6666666666666666,
              "#ed7953"
             ],
             [
              0.7777777777777778,
              "#fb9f3a"
             ],
             [
              0.8888888888888888,
              "#fdca26"
             ],
             [
              1,
              "#f0f921"
             ]
            ],
            "type": "heatmap"
           }
          ],
          "heatmapgl": [
           {
            "colorbar": {
             "outlinewidth": 0,
             "ticks": ""
            },
            "colorscale": [
             [
              0,
              "#0d0887"
             ],
             [
              0.1111111111111111,
              "#46039f"
             ],
             [
              0.2222222222222222,
              "#7201a8"
             ],
             [
              0.3333333333333333,
              "#9c179e"
             ],
             [
              0.4444444444444444,
              "#bd3786"
             ],
             [
              0.5555555555555556,
              "#d8576b"
             ],
             [
              0.6666666666666666,
              "#ed7953"
             ],
             [
              0.7777777777777778,
              "#fb9f3a"
             ],
             [
              0.8888888888888888,
              "#fdca26"
             ],
             [
              1,
              "#f0f921"
             ]
            ],
            "type": "heatmapgl"
           }
          ],
          "histogram": [
           {
            "marker": {
             "pattern": {
              "fillmode": "overlay",
              "size": 10,
              "solidity": 0.2
             }
            },
            "type": "histogram"
           }
          ],
          "histogram2d": [
           {
            "colorbar": {
             "outlinewidth": 0,
             "ticks": ""
            },
            "colorscale": [
             [
              0,
              "#0d0887"
             ],
             [
              0.1111111111111111,
              "#46039f"
             ],
             [
              0.2222222222222222,
              "#7201a8"
             ],
             [
              0.3333333333333333,
              "#9c179e"
             ],
             [
              0.4444444444444444,
              "#bd3786"
             ],
             [
              0.5555555555555556,
              "#d8576b"
             ],
             [
              0.6666666666666666,
              "#ed7953"
             ],
             [
              0.7777777777777778,
              "#fb9f3a"
             ],
             [
              0.8888888888888888,
              "#fdca26"
             ],
             [
              1,
              "#f0f921"
             ]
            ],
            "type": "histogram2d"
           }
          ],
          "histogram2dcontour": [
           {
            "colorbar": {
             "outlinewidth": 0,
             "ticks": ""
            },
            "colorscale": [
             [
              0,
              "#0d0887"
             ],
             [
              0.1111111111111111,
              "#46039f"
             ],
             [
              0.2222222222222222,
              "#7201a8"
             ],
             [
              0.3333333333333333,
              "#9c179e"
             ],
             [
              0.4444444444444444,
              "#bd3786"
             ],
             [
              0.5555555555555556,
              "#d8576b"
             ],
             [
              0.6666666666666666,
              "#ed7953"
             ],
             [
              0.7777777777777778,
              "#fb9f3a"
             ],
             [
              0.8888888888888888,
              "#fdca26"
             ],
             [
              1,
              "#f0f921"
             ]
            ],
            "type": "histogram2dcontour"
           }
          ],
          "mesh3d": [
           {
            "colorbar": {
             "outlinewidth": 0,
             "ticks": ""
            },
            "type": "mesh3d"
           }
          ],
          "parcoords": [
           {
            "line": {
             "colorbar": {
              "outlinewidth": 0,
              "ticks": ""
             }
            },
            "type": "parcoords"
           }
          ],
          "pie": [
           {
            "automargin": true,
            "type": "pie"
           }
          ],
          "scatter": [
           {
            "fillpattern": {
             "fillmode": "overlay",
             "size": 10,
             "solidity": 0.2
            },
            "type": "scatter"
           }
          ],
          "scatter3d": [
           {
            "line": {
             "colorbar": {
              "outlinewidth": 0,
              "ticks": ""
             }
            },
            "marker": {
             "colorbar": {
              "outlinewidth": 0,
              "ticks": ""
             }
            },
            "type": "scatter3d"
           }
          ],
          "scattercarpet": [
           {
            "marker": {
             "colorbar": {
              "outlinewidth": 0,
              "ticks": ""
             }
            },
            "type": "scattercarpet"
           }
          ],
          "scattergeo": [
           {
            "marker": {
             "colorbar": {
              "outlinewidth": 0,
              "ticks": ""
             }
            },
            "type": "scattergeo"
           }
          ],
          "scattergl": [
           {
            "marker": {
             "colorbar": {
              "outlinewidth": 0,
              "ticks": ""
             }
            },
            "type": "scattergl"
           }
          ],
          "scattermapbox": [
           {
            "marker": {
             "colorbar": {
              "outlinewidth": 0,
              "ticks": ""
             }
            },
            "type": "scattermapbox"
           }
          ],
          "scatterpolar": [
           {
            "marker": {
             "colorbar": {
              "outlinewidth": 0,
              "ticks": ""
             }
            },
            "type": "scatterpolar"
           }
          ],
          "scatterpolargl": [
           {
            "marker": {
             "colorbar": {
              "outlinewidth": 0,
              "ticks": ""
             }
            },
            "type": "scatterpolargl"
           }
          ],
          "scatterternary": [
           {
            "marker": {
             "colorbar": {
              "outlinewidth": 0,
              "ticks": ""
             }
            },
            "type": "scatterternary"
           }
          ],
          "surface": [
           {
            "colorbar": {
             "outlinewidth": 0,
             "ticks": ""
            },
            "colorscale": [
             [
              0,
              "#0d0887"
             ],
             [
              0.1111111111111111,
              "#46039f"
             ],
             [
              0.2222222222222222,
              "#7201a8"
             ],
             [
              0.3333333333333333,
              "#9c179e"
             ],
             [
              0.4444444444444444,
              "#bd3786"
             ],
             [
              0.5555555555555556,
              "#d8576b"
             ],
             [
              0.6666666666666666,
              "#ed7953"
             ],
             [
              0.7777777777777778,
              "#fb9f3a"
             ],
             [
              0.8888888888888888,
              "#fdca26"
             ],
             [
              1,
              "#f0f921"
             ]
            ],
            "type": "surface"
           }
          ],
          "table": [
           {
            "cells": {
             "fill": {
              "color": "#EBF0F8"
             },
             "line": {
              "color": "white"
             }
            },
            "header": {
             "fill": {
              "color": "#C8D4E3"
             },
             "line": {
              "color": "white"
             }
            },
            "type": "table"
           }
          ]
         },
         "layout": {
          "annotationdefaults": {
           "arrowcolor": "#2a3f5f",
           "arrowhead": 0,
           "arrowwidth": 1
          },
          "autotypenumbers": "strict",
          "coloraxis": {
           "colorbar": {
            "outlinewidth": 0,
            "ticks": ""
           }
          },
          "colorscale": {
           "diverging": [
            [
             0,
             "#8e0152"
            ],
            [
             0.1,
             "#c51b7d"
            ],
            [
             0.2,
             "#de77ae"
            ],
            [
             0.3,
             "#f1b6da"
            ],
            [
             0.4,
             "#fde0ef"
            ],
            [
             0.5,
             "#f7f7f7"
            ],
            [
             0.6,
             "#e6f5d0"
            ],
            [
             0.7,
             "#b8e186"
            ],
            [
             0.8,
             "#7fbc41"
            ],
            [
             0.9,
             "#4d9221"
            ],
            [
             1,
             "#276419"
            ]
           ],
           "sequential": [
            [
             0,
             "#0d0887"
            ],
            [
             0.1111111111111111,
             "#46039f"
            ],
            [
             0.2222222222222222,
             "#7201a8"
            ],
            [
             0.3333333333333333,
             "#9c179e"
            ],
            [
             0.4444444444444444,
             "#bd3786"
            ],
            [
             0.5555555555555556,
             "#d8576b"
            ],
            [
             0.6666666666666666,
             "#ed7953"
            ],
            [
             0.7777777777777778,
             "#fb9f3a"
            ],
            [
             0.8888888888888888,
             "#fdca26"
            ],
            [
             1,
             "#f0f921"
            ]
           ],
           "sequentialminus": [
            [
             0,
             "#0d0887"
            ],
            [
             0.1111111111111111,
             "#46039f"
            ],
            [
             0.2222222222222222,
             "#7201a8"
            ],
            [
             0.3333333333333333,
             "#9c179e"
            ],
            [
             0.4444444444444444,
             "#bd3786"
            ],
            [
             0.5555555555555556,
             "#d8576b"
            ],
            [
             0.6666666666666666,
             "#ed7953"
            ],
            [
             0.7777777777777778,
             "#fb9f3a"
            ],
            [
             0.8888888888888888,
             "#fdca26"
            ],
            [
             1,
             "#f0f921"
            ]
           ]
          },
          "colorway": [
           "#636efa",
           "#EF553B",
           "#00cc96",
           "#ab63fa",
           "#FFA15A",
           "#19d3f3",
           "#FF6692",
           "#B6E880",
           "#FF97FF",
           "#FECB52"
          ],
          "font": {
           "color": "#2a3f5f"
          },
          "geo": {
           "bgcolor": "white",
           "lakecolor": "white",
           "landcolor": "#E5ECF6",
           "showlakes": true,
           "showland": true,
           "subunitcolor": "white"
          },
          "hoverlabel": {
           "align": "left"
          },
          "hovermode": "closest",
          "mapbox": {
           "style": "light"
          },
          "paper_bgcolor": "white",
          "plot_bgcolor": "#E5ECF6",
          "polar": {
           "angularaxis": {
            "gridcolor": "white",
            "linecolor": "white",
            "ticks": ""
           },
           "bgcolor": "#E5ECF6",
           "radialaxis": {
            "gridcolor": "white",
            "linecolor": "white",
            "ticks": ""
           }
          },
          "scene": {
           "xaxis": {
            "backgroundcolor": "#E5ECF6",
            "gridcolor": "white",
            "gridwidth": 2,
            "linecolor": "white",
            "showbackground": true,
            "ticks": "",
            "zerolinecolor": "white"
           },
           "yaxis": {
            "backgroundcolor": "#E5ECF6",
            "gridcolor": "white",
            "gridwidth": 2,
            "linecolor": "white",
            "showbackground": true,
            "ticks": "",
            "zerolinecolor": "white"
           },
           "zaxis": {
            "backgroundcolor": "#E5ECF6",
            "gridcolor": "white",
            "gridwidth": 2,
            "linecolor": "white",
            "showbackground": true,
            "ticks": "",
            "zerolinecolor": "white"
           }
          },
          "shapedefaults": {
           "line": {
            "color": "#2a3f5f"
           }
          },
          "ternary": {
           "aaxis": {
            "gridcolor": "white",
            "linecolor": "white",
            "ticks": ""
           },
           "baxis": {
            "gridcolor": "white",
            "linecolor": "white",
            "ticks": ""
           },
           "bgcolor": "#E5ECF6",
           "caxis": {
            "gridcolor": "white",
            "linecolor": "white",
            "ticks": ""
           }
          },
          "title": {
           "x": 0.05
          },
          "xaxis": {
           "automargin": true,
           "gridcolor": "white",
           "linecolor": "white",
           "ticks": "",
           "title": {
            "standoff": 15
           },
           "zerolinecolor": "white",
           "zerolinewidth": 2
          },
          "yaxis": {
           "automargin": true,
           "gridcolor": "white",
           "linecolor": "white",
           "ticks": "",
           "title": {
            "standoff": 15
           },
           "zerolinecolor": "white",
           "zerolinewidth": 2
          }
         }
        },
        "title": {
         "text": "Forgetting vs Task"
        },
        "xaxis": {
         "anchor": "y",
         "domain": [
          0,
          1
         ],
         "title": {
          "text": "index"
         }
        },
        "yaxis": {
         "anchor": "x",
         "domain": [
          0,
          1
         ],
         "title": {
          "text": "value"
         }
        }
       }
      }
     },
     "metadata": {},
     "output_type": "display_data"
    }
   ],
   "source": [
    "from copy import deepcopy\n",
    "# transform forgetting_measures dict into df\n",
    "# but first, we need to make sure that all lists have the same length\n",
    "max_len = max(map(len, forgetting_measures.values()))\n",
    "forgetting_measures_tmp = deepcopy(forgetting_measures)\n",
    "forgetting_measures_tmp = {k: [None] * (max_len - len(v)) + v for k, v in forgetting_measures_tmp.items()}\n",
    "\n",
    "forgetting_df = pd.DataFrame(forgetting_measures_tmp)\n",
    "forgetting_df.index = range(10)\n",
    "\n",
    "fig = px.line(forgetting_df, x=forgetting_df.index, y=forgetting_df.columns, title=\"Forgetting vs Task\")\n",
    "fig.show()"
   ]
  },
  {
   "cell_type": "markdown",
   "metadata": {},
   "source": [
    "# Store metrics"
   ]
  },
  {
   "cell_type": "code",
   "execution_count": 23,
   "metadata": {},
   "outputs": [],
   "source": [
    "pickle.dump(accuracies, open(SAVED_METRICS_PATH / \"cts.pkl\", \"wb\"))"
   ]
  },
  {
   "cell_type": "markdown",
   "metadata": {},
   "source": [
    "# Store weights"
   ]
  },
  {
   "cell_type": "code",
   "execution_count": 24,
   "metadata": {},
   "outputs": [],
   "source": [
    "pickle.dump(model_plugins[0].weights, open(SAVED_METRICS_PATH / \"cts_weights.pkl\", \"wb\"))"
   ]
  }
 ],
 "metadata": {
  "kernelspec": {
   "display_name": "tt2",
   "language": "python",
   "name": "python3"
  },
  "language_info": {
   "codemirror_mode": {
    "name": "ipython",
    "version": 3
   },
   "file_extension": ".py",
   "mimetype": "text/x-python",
   "name": "python",
   "nbconvert_exporter": "python",
   "pygments_lexer": "ipython3",
   "version": "3.9.18"
  }
 },
 "nbformat": 4,
 "nbformat_minor": 2
}
