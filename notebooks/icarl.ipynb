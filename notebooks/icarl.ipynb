{
 "cells": [
  {
   "cell_type": "markdown",
   "metadata": {},
   "source": [
    "# iCaRL: Incremental Classifier and Representation Learning"
   ]
  },
  {
   "cell_type": "code",
   "execution_count": null,
   "metadata": {},
   "outputs": [],
   "source": [
    "%load_ext autoreload\n",
    "%autoreload 2"
   ]
  },
  {
   "cell_type": "markdown",
   "metadata": {},
   "source": [
    "# Libraries"
   ]
  },
  {
   "cell_type": "code",
   "execution_count": null,
   "metadata": {},
   "outputs": [],
   "source": [
    "import pickle\n",
    "import pandas as pd\n",
    "import seaborn as sns\n",
    "from tqdm import tqdm\n",
    "from torchvision.transforms import Compose\n",
    "from torchvision.transforms.v2 import Identity"
   ]
  },
  {
   "cell_type": "code",
   "execution_count": null,
   "metadata": {},
   "outputs": [],
   "source": [
    "from avalanche.benchmarks.classic import PermutedMNIST\n",
    "from avalanche.models import make_icarl_net, initialize_icarl_net\n",
    "from avalanche.training import ICaRL\n",
    "from avalanche.training.plugins import EvaluationPlugin\n",
    "from avalanche.logging import InteractiveLogger\n",
    "from avalanche.evaluation.metrics import (\n",
    "    accuracy_metrics\n",
    ")\n",
    "\n",
    "from torch.nn import CrossEntropyLoss\n",
    "from torch.optim import SGD"
   ]
  },
  {
   "cell_type": "markdown",
   "metadata": {},
   "source": [
    "## Custom Libraries"
   ]
  },
  {
   "cell_type": "code",
   "execution_count": null,
   "metadata": {},
   "outputs": [],
   "source": [
    "import sys\n",
    "sys.path.append(\"../base_code/\")\n",
    "\n",
    "from base_code.constants import DATASETS_PATH, SAVED_METRICS_PATH"
   ]
  },
  {
   "cell_type": "markdown",
   "metadata": {},
   "source": [
    "# Dataset and definitions"
   ]
  },
  {
   "cell_type": "code",
   "execution_count": null,
   "metadata": {},
   "outputs": [],
   "source": [
    "buffer_transform = Compose([\n",
    "    Identity(),\n",
    "])"
   ]
  },
  {
   "cell_type": "markdown",
   "metadata": {},
   "source": [
    "## Dataset loading\n",
    "\n",
    "We load state-of-the-art dataset Modified NIST"
   ]
  },
  {
   "cell_type": "code",
   "execution_count": null,
   "metadata": {},
   "outputs": [],
   "source": [
    "scenario = PermutedMNIST(10, seed=1234, dataset_root=DATASETS_PATH)"
   ]
  },
  {
   "cell_type": "markdown",
   "metadata": {},
   "source": [
    "## Scenario creation with train test streaming\n",
    "\n",
    "In this point, we define our scenario considering a training where in every experience of it, a new class is presented. This is, first we train with a class $a$, the following experience we train with class $b$ ($a \\neq b$)"
   ]
  },
  {
   "cell_type": "code",
   "execution_count": null,
   "metadata": {},
   "outputs": [],
   "source": [
    "train_stream = scenario.train_stream\n",
    "test_stream = scenario.test_stream"
   ]
  },
  {
   "cell_type": "markdown",
   "metadata": {},
   "source": [
    "## Evaluation metrics definition"
   ]
  },
  {
   "cell_type": "code",
   "execution_count": null,
   "metadata": {},
   "outputs": [],
   "source": [
    "eval_plugin = EvaluationPlugin(\n",
    "    accuracy_metrics(experience=True, stream=True),\n",
    "    loggers=[InteractiveLogger()]\n",
    ")"
   ]
  },
  {
   "cell_type": "markdown",
   "metadata": {},
   "source": [
    "## Model, Optimizer, Loss function and Strategy definition\n",
    "\n",
    "* `model`: Multi Layer Perceptron\n",
    "* `Optimizer`: Adam\n",
    "* `Loss function`: Cross Entropy\n",
    "* `Strategy`: Elastic Weight Consolidation"
   ]
  },
  {
   "cell_type": "code",
   "execution_count": null,
   "metadata": {},
   "outputs": [],
   "source": [
    "model = make_icarl_net(num_classes=10, c=1)\n",
    "model.apply(initialize_icarl_net)\n",
    "optimizer = SGD(model.parameters(), lr=1e-3)\n",
    "strategy = ICaRL(\n",
    "    model.feature_extractor, model.classifier, optimizer,\n",
    "    buffer_transform=buffer_transform,\n",
    "    memory_size=1000,\n",
    "    fixed_memory=True,\n",
    "    train_epochs=2,\n",
    "    train_mb_size=32, eval_mb_size=32,\n",
    "    evaluator=eval_plugin\n",
    ")"
   ]
  },
  {
   "cell_type": "markdown",
   "metadata": {},
   "source": [
    "# Training and evaluation\n",
    "\n",
    "Revisar porque el entrenamiento se está comportando de forma rara"
   ]
  },
  {
   "cell_type": "code",
   "execution_count": null,
   "metadata": {},
   "outputs": [],
   "source": [
    "results = list()\n",
    "\n",
    "for (task_id, experience) in tqdm(enumerate(train_stream, start=1)):\n",
    "    strategy.train(experience)\n",
    "    metrics = strategy.eval(test_stream[:task_id])\n",
    "    results.append(metrics)"
   ]
  },
  {
   "cell_type": "code",
   "execution_count": null,
   "metadata": {},
   "outputs": [],
   "source": [
    "accuracies: dict[int, list[float]] = dict()\n",
    "\n",
    "for i in range(10):\n",
    "    accuracies[f\"Task{i}\"] = [None]*i + eval_plugin.get_all_metrics()[f\"Top1_Acc_Exp/eval_phase/test_stream/Task000/Exp00{i}\"][1]\n",
    "\n",
    "accuracies[\"Overall\"] = eval_plugin.get_all_metrics()[\"Top1_Acc_Stream/eval_phase/test_stream/Task000\"][1]"
   ]
  },
  {
   "cell_type": "code",
   "execution_count": null,
   "metadata": {},
   "outputs": [],
   "source": [
    "eval_plugin.get_all_metrics()"
   ]
  },
  {
   "cell_type": "code",
   "execution_count": null,
   "metadata": {},
   "outputs": [],
   "source": [
    "acc_df = pd.DataFrame(accuracies)\n",
    "acc_df.index = range(10)"
   ]
  },
  {
   "cell_type": "code",
   "execution_count": null,
   "metadata": {},
   "outputs": [],
   "source": [
    "# lineplot every task acc per training\n",
    "sns.lineplot(data=acc_df, dashes=False, markers=True)\n",
    "\n",
    "# Qué clase se entrenó en cada tarea / experiencia?"
   ]
  },
  {
   "cell_type": "markdown",
   "metadata": {},
   "source": [
    "# Store metrics"
   ]
  },
  {
   "cell_type": "code",
   "execution_count": null,
   "metadata": {},
   "outputs": [],
   "source": [
    "pickle.dump(acc_df, open(SAVED_METRICS_PATH / \"ewc.pkl\", \"wb\"))"
   ]
  }
 ],
 "metadata": {
  "kernelspec": {
   "display_name": "tt2",
   "language": "python",
   "name": "python3"
  },
  "language_info": {
   "codemirror_mode": {
    "name": "ipython",
    "version": 3
   },
   "file_extension": ".py",
   "mimetype": "text/x-python",
   "name": "python",
   "nbconvert_exporter": "python",
   "pygments_lexer": "ipython3",
   "version": "3.9.18"
  }
 },
 "nbformat": 4,
 "nbformat_minor": 2
}
