{
 "cells": [
  {
   "cell_type": "code",
   "execution_count": 1,
   "metadata": {},
   "outputs": [],
   "source": [
    "%load_ext autoreload\n",
    "%autoreload 2\n"
   ]
  },
  {
   "cell_type": "code",
   "execution_count": 2,
   "metadata": {},
   "outputs": [
    {
     "name": "stderr",
     "output_type": "stream",
     "text": [
      "/Users/jesusoyanedelespinoza/.pyenv/versions/3.9.18/envs/tt2/lib/python3.9/site-packages/tqdm/auto.py:21: TqdmWarning: IProgress not found. Please update jupyter and ipywidgets. See https://ipywidgets.readthedocs.io/en/stable/user_install.html\n",
      "  from .autonotebook import tqdm as notebook_tqdm\n"
     ]
    }
   ],
   "source": [
    "import pickle\n",
    "import sys\n",
    "from tqdm import tqdm\n",
    "\n",
    "from torch.nn import CrossEntropyLoss\n",
    "from torch.optim import SGD\n",
    "from torch import cuda, device\n",
    "\n",
    "from torchvision import transforms\n",
    "\n",
    "\n",
    "from avalanche.benchmarks.classic import SplitMNIST\n",
    "from avalanche.models import SimpleCNN\n",
    "from avalanche.training import EWC\n",
    "from avalanche.training.plugins import EvaluationPlugin\n",
    "from avalanche.logging import InteractiveLogger\n",
    "from avalanche.evaluation.metrics import (\n",
    "    accuracy_metrics,\n",
    "    bwt_metrics,\n",
    "    forgetting_metrics,\n",
    ")\n",
    "\n",
    "sys.path.append(\"../base_code/\")\n",
    "\n",
    "from base_code.constants import DATASETS_PATH, SAVED_METRICS_PATH\n",
    "from base_code.seed import set_seed\n"
   ]
  },
  {
   "cell_type": "code",
   "execution_count": 3,
   "metadata": {},
   "outputs": [],
   "source": [
    "TORCH_DEVICE = device(\"cuda\" if cuda.is_available() else \"cpu\")\n",
    "N_EXPERIENCES = 5\n",
    "EXPERIMENT_SEED = 1234\n",
    "METRICS_SUBFOLDER = \"split_mnist\"\n",
    "METRICS_FILENAME = f\"{METRICS_SUBFOLDER}/ewc.pkl\"\n",
    "set_seed(EXPERIMENT_SEED)\n"
   ]
  },
  {
   "cell_type": "code",
   "execution_count": 4,
   "metadata": {},
   "outputs": [],
   "source": [
    "# transform to 3 channels and to pil image\n",
    "train_transform = transforms.Compose(\n",
    "    [transforms.Lambda(lambda x: x.repeat(3, 1, 1))]\n",
    ")\n",
    "test_transform = transforms.Compose(\n",
    "    [transforms.Lambda(lambda x: x.repeat(3, 1, 1))]\n",
    ")\n"
   ]
  },
  {
   "cell_type": "code",
   "execution_count": 5,
   "metadata": {},
   "outputs": [],
   "source": [
    "scenario = SplitMNIST(N_EXPERIENCES, seed=EXPERIMENT_SEED, dataset_root=DATASETS_PATH, eval_transform=test_transform, train_transform=train_transform)\n",
    "\n",
    "train_stream = scenario.train_stream\n",
    "test_stream = scenario.test_stream\n"
   ]
  },
  {
   "cell_type": "code",
   "execution_count": 6,
   "metadata": {},
   "outputs": [],
   "source": [
    "eval_plugin = EvaluationPlugin(\n",
    "    accuracy_metrics(experience=True, stream=True),\n",
    "    forgetting_metrics(experience=True, stream=True),\n",
    "    bwt_metrics(experience=True, stream=True),\n",
    "    \n",
    "    loggers=[InteractiveLogger()]\n",
    ")\n",
    "\n",
    "model = SimpleCNN(num_classes=scenario.n_classes).to(TORCH_DEVICE)\n",
    "optimizer = SGD(model.parameters(), lr=1e-3, momentum=0.9, weight_decay=0.0005)\n",
    "criterion = CrossEntropyLoss().to(TORCH_DEVICE)\n",
    "strategy = EWC(\n",
    "    model,\n",
    "    optimizer,\n",
    "    criterion,\n",
    "    ewc_lambda=50,\n",
    "    train_epochs=5,\n",
    "    train_mb_size=128,\n",
    "    evaluator=eval_plugin,\n",
    "    eval_mb_size=128,\n",
    "    device=TORCH_DEVICE,\n",
    ")\n"
   ]
  },
  {
   "cell_type": "code",
   "execution_count": 7,
   "metadata": {},
   "outputs": [
    {
     "name": "stderr",
     "output_type": "stream",
     "text": [
      "  0%|          | 0/5 [00:00<?, ?it/s]"
     ]
    },
    {
     "name": "stdout",
     "output_type": "stream",
     "text": [
      "-- >> Start of training phase << --\n",
      "100%|██████████| 88/88 [00:13<00:00,  6.61it/s]\n",
      "Epoch 0 ended.\n",
      "100%|██████████| 88/88 [00:13<00:00,  6.44it/s]\n",
      "Epoch 1 ended.\n",
      "100%|██████████| 88/88 [00:13<00:00,  6.57it/s]\n",
      "Epoch 2 ended.\n",
      "100%|██████████| 88/88 [00:13<00:00,  6.55it/s]\n",
      "Epoch 3 ended.\n",
      "100%|██████████| 88/88 [00:13<00:00,  6.54it/s]\n",
      "Epoch 4 ended.\n",
      "-- >> End of training phase << --\n",
      "-- >> Start of eval phase << --\n",
      "-- Starting eval on experience 0 (Task 0) from test stream --\n",
      "100%|██████████| 15/15 [00:00<00:00, 26.75it/s]\n",
      "> Eval on experience 0 (Task 0) from test stream ended.\n",
      "\tTop1_Acc_Exp/eval_phase/test_stream/Task000/Exp000 = 0.5245\n",
      "-- Starting eval on experience 1 (Task 0) from test stream --\n",
      "100%|██████████| 16/16 [00:00<00:00, 28.39it/s]\n",
      "> Eval on experience 1 (Task 0) from test stream ended.\n",
      "\tTop1_Acc_Exp/eval_phase/test_stream/Task000/Exp001 = 0.0000\n",
      "-- Starting eval on experience 2 (Task 0) from test stream --\n",
      "100%|██████████| 16/16 [00:00<00:00, 27.92it/s]\n",
      "> Eval on experience 2 (Task 0) from test stream ended.\n",
      "\tTop1_Acc_Exp/eval_phase/test_stream/Task000/Exp002 = 0.0000\n",
      "-- Starting eval on experience 3 (Task 0) from test stream --\n",
      "100%|██████████| 17/17 [00:00<00:00, 26.46it/s]\n",
      "> Eval on experience 3 (Task 0) from test stream ended.\n",
      "\tTop1_Acc_Exp/eval_phase/test_stream/Task000/Exp003 = 0.0000\n",
      "-- Starting eval on experience 4 (Task 0) from test stream --\n",
      "100%|██████████| 16/16 [00:00<00:00, 26.03it/s]"
     ]
    },
    {
     "name": "stderr",
     "output_type": "stream",
     "text": [
      " 20%|██        | 1/5 [01:22<05:31, 82.91s/it]"
     ]
    },
    {
     "name": "stdout",
     "output_type": "stream",
     "text": [
      "\n",
      "> Eval on experience 4 (Task 0) from test stream ended.\n",
      "\tTop1_Acc_Exp/eval_phase/test_stream/Task000/Exp004 = 0.0000\n",
      "-- >> End of eval phase << --\n",
      "\tStreamBWT/eval_phase/test_stream = 0.0000\n",
      "\tStreamForgetting/eval_phase/test_stream = 0.0000\n",
      "\tTop1_Acc_Stream/eval_phase/test_stream/Task000 = 0.0983\n",
      "-- >> Start of training phase << --\n",
      "100%|██████████| 93/93 [00:14<00:00,  6.43it/s]\n",
      "Epoch 0 ended.\n",
      "100%|██████████| 93/93 [00:14<00:00,  6.51it/s]\n",
      "Epoch 1 ended.\n",
      "100%|██████████| 93/93 [00:13<00:00,  6.65it/s]\n",
      "Epoch 2 ended.\n",
      "100%|██████████| 93/93 [00:14<00:00,  6.62it/s]\n",
      "Epoch 3 ended.\n",
      "100%|██████████| 93/93 [00:14<00:00,  6.62it/s]\n",
      "Epoch 4 ended.\n",
      "-- >> End of training phase << --\n",
      "-- >> Start of eval phase << --\n",
      "-- Starting eval on experience 0 (Task 0) from test stream --\n",
      "100%|██████████| 15/15 [00:00<00:00, 29.69it/s]\n",
      "> Eval on experience 0 (Task 0) from test stream ended.\n",
      "\tExperienceBWT/eval_phase/test_stream/Task000/Exp000 = -0.5245\n",
      "\tExperienceForgetting/eval_phase/test_stream/Task000/Exp000 = 0.5245\n",
      "\tTop1_Acc_Exp/eval_phase/test_stream/Task000/Exp000 = 0.0000\n",
      "-- Starting eval on experience 1 (Task 0) from test stream --\n",
      "100%|██████████| 16/16 [00:00<00:00, 30.19it/s]\n",
      "> Eval on experience 1 (Task 0) from test stream ended.\n",
      "\tTop1_Acc_Exp/eval_phase/test_stream/Task000/Exp001 = 0.4855\n",
      "-- Starting eval on experience 2 (Task 0) from test stream --\n",
      "100%|██████████| 16/16 [00:00<00:00, 29.98it/s]\n",
      "> Eval on experience 2 (Task 0) from test stream ended.\n",
      "\tTop1_Acc_Exp/eval_phase/test_stream/Task000/Exp002 = 0.0000\n",
      "-- Starting eval on experience 3 (Task 0) from test stream --\n",
      "100%|██████████| 17/17 [00:00<00:00, 29.30it/s]\n",
      "> Eval on experience 3 (Task 0) from test stream ended.\n",
      "\tTop1_Acc_Exp/eval_phase/test_stream/Task000/Exp003 = 0.0000\n",
      "-- Starting eval on experience 4 (Task 0) from test stream --\n",
      "100%|██████████| 16/16 [00:00<00:00, 29.87it/s]"
     ]
    },
    {
     "name": "stderr",
     "output_type": "stream",
     "text": [
      " 40%|████      | 2/5 [02:49<04:15, 85.14s/it]"
     ]
    },
    {
     "name": "stdout",
     "output_type": "stream",
     "text": [
      "\n",
      "> Eval on experience 4 (Task 0) from test stream ended.\n",
      "\tTop1_Acc_Exp/eval_phase/test_stream/Task000/Exp004 = 0.0000\n",
      "-- >> End of eval phase << --\n",
      "\tStreamBWT/eval_phase/test_stream = -0.5245\n",
      "\tStreamForgetting/eval_phase/test_stream = 0.5245\n",
      "\tTop1_Acc_Stream/eval_phase/test_stream/Task000 = 0.0974\n",
      "-- >> Start of training phase << --\n",
      "100%|██████████| 93/93 [00:14<00:00,  6.63it/s]\n",
      "Epoch 0 ended.\n",
      "100%|██████████| 93/93 [00:13<00:00,  6.66it/s]\n",
      "Epoch 1 ended.\n",
      "100%|██████████| 93/93 [00:13<00:00,  6.66it/s]\n",
      "Epoch 2 ended.\n",
      "100%|██████████| 93/93 [00:14<00:00,  6.63it/s]\n",
      "Epoch 3 ended.\n",
      "100%|██████████| 93/93 [00:13<00:00,  6.66it/s]\n",
      "Epoch 4 ended.\n",
      "-- >> End of training phase << --\n",
      "-- >> Start of eval phase << --\n",
      "-- Starting eval on experience 0 (Task 0) from test stream --\n",
      "100%|██████████| 15/15 [00:00<00:00, 30.13it/s]\n",
      "> Eval on experience 0 (Task 0) from test stream ended.\n",
      "\tExperienceBWT/eval_phase/test_stream/Task000/Exp000 = -0.5245\n",
      "\tExperienceForgetting/eval_phase/test_stream/Task000/Exp000 = 0.5245\n",
      "\tTop1_Acc_Exp/eval_phase/test_stream/Task000/Exp000 = 0.0000\n",
      "-- Starting eval on experience 1 (Task 0) from test stream --\n",
      "100%|██████████| 16/16 [00:00<00:00, 27.85it/s]\n",
      "> Eval on experience 1 (Task 0) from test stream ended.\n",
      "\tExperienceBWT/eval_phase/test_stream/Task000/Exp001 = -0.4855\n",
      "\tExperienceForgetting/eval_phase/test_stream/Task000/Exp001 = 0.4855\n",
      "\tTop1_Acc_Exp/eval_phase/test_stream/Task000/Exp001 = 0.0000\n",
      "-- Starting eval on experience 2 (Task 0) from test stream --\n",
      "100%|██████████| 16/16 [00:00<00:00, 30.53it/s]\n",
      "> Eval on experience 2 (Task 0) from test stream ended.\n",
      "\tTop1_Acc_Exp/eval_phase/test_stream/Task000/Exp002 = 0.4870\n",
      "-- Starting eval on experience 3 (Task 0) from test stream --\n",
      "100%|██████████| 17/17 [00:00<00:00, 29.34it/s]\n",
      "> Eval on experience 3 (Task 0) from test stream ended.\n",
      "\tTop1_Acc_Exp/eval_phase/test_stream/Task000/Exp003 = 0.0000\n",
      "-- Starting eval on experience 4 (Task 0) from test stream --\n",
      "100%|██████████| 16/16 [00:00<00:00, 29.65it/s]"
     ]
    },
    {
     "name": "stderr",
     "output_type": "stream",
     "text": [
      " 60%|██████    | 3/5 [04:15<02:50, 85.44s/it]"
     ]
    },
    {
     "name": "stdout",
     "output_type": "stream",
     "text": [
      "\n",
      "> Eval on experience 4 (Task 0) from test stream ended.\n",
      "\tTop1_Acc_Exp/eval_phase/test_stream/Task000/Exp004 = 0.0000\n",
      "-- >> End of eval phase << --\n",
      "\tStreamBWT/eval_phase/test_stream = -0.5050\n",
      "\tStreamForgetting/eval_phase/test_stream = 0.5050\n",
      "\tTop1_Acc_Stream/eval_phase/test_stream/Task000 = 0.0958\n",
      "-- >> Start of training phase << --\n",
      "100%|██████████| 102/102 [00:15<00:00,  6.64it/s]\n",
      "Epoch 0 ended.\n",
      "100%|██████████| 102/102 [00:15<00:00,  6.51it/s]\n",
      "Epoch 1 ended.\n",
      "100%|██████████| 102/102 [00:15<00:00,  6.54it/s]\n",
      "Epoch 2 ended.\n",
      "100%|██████████| 102/102 [00:15<00:00,  6.55it/s]\n",
      "Epoch 3 ended.\n",
      "100%|██████████| 102/102 [00:15<00:00,  6.57it/s]\n",
      "Epoch 4 ended.\n",
      "-- >> End of training phase << --\n",
      "-- >> Start of eval phase << --\n",
      "-- Starting eval on experience 0 (Task 0) from test stream --\n",
      "100%|██████████| 15/15 [00:00<00:00, 29.28it/s]\n",
      "> Eval on experience 0 (Task 0) from test stream ended.\n",
      "\tExperienceBWT/eval_phase/test_stream/Task000/Exp000 = -0.5245\n",
      "\tExperienceForgetting/eval_phase/test_stream/Task000/Exp000 = 0.5245\n",
      "\tTop1_Acc_Exp/eval_phase/test_stream/Task000/Exp000 = 0.0000\n",
      "-- Starting eval on experience 1 (Task 0) from test stream --\n",
      "100%|██████████| 16/16 [00:00<00:00, 29.22it/s]\n",
      "> Eval on experience 1 (Task 0) from test stream ended.\n",
      "\tExperienceBWT/eval_phase/test_stream/Task000/Exp001 = -0.4855\n",
      "\tExperienceForgetting/eval_phase/test_stream/Task000/Exp001 = 0.4855\n",
      "\tTop1_Acc_Exp/eval_phase/test_stream/Task000/Exp001 = 0.0000\n",
      "-- Starting eval on experience 2 (Task 0) from test stream --\n",
      "100%|██████████| 16/16 [00:00<00:00, 29.18it/s]\n",
      "> Eval on experience 2 (Task 0) from test stream ended.\n",
      "\tExperienceBWT/eval_phase/test_stream/Task000/Exp002 = -0.4870\n",
      "\tExperienceForgetting/eval_phase/test_stream/Task000/Exp002 = 0.4870\n",
      "\tTop1_Acc_Exp/eval_phase/test_stream/Task000/Exp002 = 0.0000\n",
      "-- Starting eval on experience 3 (Task 0) from test stream --\n",
      "100%|██████████| 17/17 [00:00<00:00, 28.60it/s]\n",
      "> Eval on experience 3 (Task 0) from test stream ended.\n",
      "\tTop1_Acc_Exp/eval_phase/test_stream/Task000/Exp003 = 0.5247\n",
      "-- Starting eval on experience 4 (Task 0) from test stream --\n",
      "100%|██████████| 16/16 [00:00<00:00, 27.52it/s]"
     ]
    },
    {
     "name": "stderr",
     "output_type": "stream",
     "text": [
      " 80%|████████  | 4/5 [05:50<01:29, 89.26s/it]"
     ]
    },
    {
     "name": "stdout",
     "output_type": "stream",
     "text": [
      "\n",
      "> Eval on experience 4 (Task 0) from test stream ended.\n",
      "\tTop1_Acc_Exp/eval_phase/test_stream/Task000/Exp004 = 0.0000\n",
      "-- >> End of eval phase << --\n",
      "\tStreamBWT/eval_phase/test_stream = -0.4990\n",
      "\tStreamForgetting/eval_phase/test_stream = 0.4990\n",
      "\tTop1_Acc_Stream/eval_phase/test_stream/Task000 = 0.1135\n",
      "-- >> Start of training phase << --\n",
      "100%|██████████| 95/95 [00:14<00:00,  6.60it/s]\n",
      "Epoch 0 ended.\n",
      "100%|██████████| 95/95 [00:14<00:00,  6.51it/s]\n",
      "Epoch 1 ended.\n",
      "100%|██████████| 95/95 [00:14<00:00,  6.64it/s]\n",
      "Epoch 2 ended.\n",
      "100%|██████████| 95/95 [00:14<00:00,  6.56it/s]\n",
      "Epoch 3 ended.\n",
      "100%|██████████| 95/95 [00:14<00:00,  6.57it/s]\n",
      "Epoch 4 ended.\n",
      "-- >> End of training phase << --\n",
      "-- >> Start of eval phase << --\n",
      "-- Starting eval on experience 0 (Task 0) from test stream --\n",
      "100%|██████████| 15/15 [00:00<00:00, 29.00it/s]\n",
      "> Eval on experience 0 (Task 0) from test stream ended.\n",
      "\tExperienceBWT/eval_phase/test_stream/Task000/Exp000 = -0.5245\n",
      "\tExperienceForgetting/eval_phase/test_stream/Task000/Exp000 = 0.5245\n",
      "\tTop1_Acc_Exp/eval_phase/test_stream/Task000/Exp000 = 0.0000\n",
      "-- Starting eval on experience 1 (Task 0) from test stream --\n",
      "100%|██████████| 16/16 [00:00<00:00, 29.26it/s]\n",
      "> Eval on experience 1 (Task 0) from test stream ended.\n",
      "\tExperienceBWT/eval_phase/test_stream/Task000/Exp001 = -0.4855\n",
      "\tExperienceForgetting/eval_phase/test_stream/Task000/Exp001 = 0.4855\n",
      "\tTop1_Acc_Exp/eval_phase/test_stream/Task000/Exp001 = 0.0000\n",
      "-- Starting eval on experience 2 (Task 0) from test stream --\n",
      "100%|██████████| 16/16 [00:00<00:00, 28.71it/s]\n",
      "> Eval on experience 2 (Task 0) from test stream ended.\n",
      "\tExperienceBWT/eval_phase/test_stream/Task000/Exp002 = -0.4870\n",
      "\tExperienceForgetting/eval_phase/test_stream/Task000/Exp002 = 0.4870\n",
      "\tTop1_Acc_Exp/eval_phase/test_stream/Task000/Exp002 = 0.0000\n",
      "-- Starting eval on experience 3 (Task 0) from test stream --\n",
      "100%|██████████| 17/17 [00:00<00:00, 28.53it/s]\n",
      "> Eval on experience 3 (Task 0) from test stream ended.\n",
      "\tExperienceBWT/eval_phase/test_stream/Task000/Exp003 = -0.5247\n",
      "\tExperienceForgetting/eval_phase/test_stream/Task000/Exp003 = 0.5247\n",
      "\tTop1_Acc_Exp/eval_phase/test_stream/Task000/Exp003 = 0.0000\n",
      "-- Starting eval on experience 4 (Task 0) from test stream --\n",
      "100%|██████████| 16/16 [00:00<00:00, 26.97it/s]"
     ]
    },
    {
     "name": "stderr",
     "output_type": "stream",
     "text": [
      "100%|██████████| 5/5 [07:19<00:00, 87.83s/it]"
     ]
    },
    {
     "name": "stdout",
     "output_type": "stream",
     "text": [
      "\n",
      "> Eval on experience 4 (Task 0) from test stream ended.\n",
      "\tTop1_Acc_Exp/eval_phase/test_stream/Task000/Exp004 = 0.4925\n",
      "-- >> End of eval phase << --\n",
      "\tStreamBWT/eval_phase/test_stream = -0.5055\n",
      "\tStreamForgetting/eval_phase/test_stream = 0.5055\n",
      "\tTop1_Acc_Stream/eval_phase/test_stream/Task000 = 0.0980\n"
     ]
    },
    {
     "name": "stderr",
     "output_type": "stream",
     "text": [
      "\n"
     ]
    }
   ],
   "source": [
    "for experience in tqdm(train_stream):\n",
    "    strategy.train(experience)\n",
    "    strategy.eval(test_stream)\n"
   ]
  },
  {
   "cell_type": "code",
   "execution_count": 9,
   "metadata": {},
   "outputs": [],
   "source": [
    "# save metrics\n",
    "accuracies: dict[int, list[float]] = dict()\n",
    "forgettings: dict[int, list[float]] = dict()\n",
    "bwt: dict[int, list[float]] = dict()\n",
    "\n",
    "for i in range(N_EXPERIENCES):\n",
    "    filled_i = str(i).zfill(3)\n",
    "    accuracies[f\"Task{i}\"] = eval_plugin.get_all_metrics()[\n",
    "        f\"Top1_Acc_Exp/eval_phase/test_stream/Task000/Exp{filled_i}\"\n",
    "    ][1]\n",
    "    forgettings[f\"Task{i}\"] = eval_plugin.get_all_metrics()[\n",
    "        f\"ExperienceForgetting/eval_phase/test_stream/Task000/Exp{filled_i}\"\n",
    "    ][1]\n",
    "    bwt[f\"Task{i}\"] = eval_plugin.get_all_metrics()[\n",
    "        f\"ExperienceBWT/eval_phase/test_stream/Task000/Exp{filled_i}\"\n",
    "    ][1]\n",
    "        \n",
    "\n",
    "accuracies[\"Overall\"] = eval_plugin.get_all_metrics()[\n",
    "    \"Top1_Acc_Stream/eval_phase/test_stream/Task000\"\n",
    "][1]\n",
    "\n",
    "pickle.dump({\n",
    "    \"accuracies\": accuracies,\n",
    "    \"forgettings\": forgettings,\n",
    "    \"bwt\": bwt\n",
    "}, open(SAVED_METRICS_PATH / METRICS_FILENAME, \"wb\"))\n"
   ]
  }
 ],
 "metadata": {
  "kernelspec": {
   "display_name": "tt2",
   "language": "python",
   "name": "python3"
  },
  "language_info": {
   "codemirror_mode": {
    "name": "ipython",
    "version": 3
   },
   "file_extension": ".py",
   "mimetype": "text/x-python",
   "name": "python",
   "nbconvert_exporter": "python",
   "pygments_lexer": "ipython3",
   "version": "3.9.18"
  }
 },
 "nbformat": 4,
 "nbformat_minor": 2
}
